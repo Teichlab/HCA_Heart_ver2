{
 "cells": [
  {
   "cell_type": "markdown",
   "id": "decreased-dominican",
   "metadata": {},
   "source": [
    "## Import modules"
   ]
  },
  {
   "cell_type": "code",
   "execution_count": 1,
   "id": "governing-military",
   "metadata": {},
   "outputs": [],
   "source": [
    "import numpy as np\n",
    "import numpy.random as random\n",
    "import pandas as pd\n",
    "import scanpy as sc\n",
    "import matplotlib.pyplot as plt"
   ]
  },
  {
   "cell_type": "code",
   "execution_count": 2,
   "id": "herbal-promise",
   "metadata": {},
   "outputs": [
    {
     "data": {
      "text/html": [
       "<details>\n",
       "<summary>Click to view session information</summary>\n",
       "<pre>\n",
       "-----\n",
       "matplotlib          3.3.4\n",
       "numpy               1.20.1\n",
       "pandas              1.1.4\n",
       "scanpy              1.7.1\n",
       "session_info        1.0.0\n",
       "-----\n",
       "</pre>\n",
       "<details>\n",
       "<summary>Click to view modules imported as dependencies</summary>\n",
       "<pre>\n",
       "PIL                 8.1.2\n",
       "anndata             0.7.5\n",
       "anyio               NA\n",
       "attr                20.3.0\n",
       "babel               2.9.0\n",
       "backcall            0.2.0\n",
       "brotli              NA\n",
       "cairo               1.20.0\n",
       "certifi             2020.12.05\n",
       "cffi                1.14.5\n",
       "chardet             4.0.0\n",
       "cloudpickle         1.6.0\n",
       "colorama            0.4.4\n",
       "cycler              0.10.0\n",
       "cython_runtime      NA\n",
       "cytoolz             0.11.0\n",
       "dask                2021.03.1\n",
       "dateutil            2.8.1\n",
       "decorator           4.4.2\n",
       "fsspec              0.8.7\n",
       "get_version         2.1\n",
       "google              NA\n",
       "h5py                2.10.0\n",
       "idna                2.10\n",
       "igraph              0.8.3\n",
       "ipykernel           5.5.0\n",
       "ipython_genutils    0.2.0\n",
       "jedi                0.18.0\n",
       "jinja2              2.11.3\n",
       "joblib              1.0.1\n",
       "json5               NA\n",
       "jsonschema          3.2.0\n",
       "jupyter_server      1.4.1\n",
       "jupyterlab_server   2.3.0\n",
       "kiwisolver          1.3.1\n",
       "legacy_api_wrap     0.0.0\n",
       "leidenalg           0.8.3\n",
       "llvmlite            0.34.0\n",
       "louvain             0.7.0\n",
       "markupsafe          1.1.1\n",
       "mpl_toolkits        NA\n",
       "natsort             7.1.1\n",
       "nbclassic           NA\n",
       "nbformat            5.1.2\n",
       "numba               0.51.2\n",
       "numexpr             2.7.3\n",
       "packaging           20.9\n",
       "parso               0.8.1\n",
       "pexpect             4.8.0\n",
       "pickleshare         0.7.5\n",
       "pkg_resources       NA\n",
       "prometheus_client   NA\n",
       "prompt_toolkit      3.0.16\n",
       "psutil              5.8.0\n",
       "ptyprocess          0.7.0\n",
       "pvectorc            NA\n",
       "pyarrow             0.16.0\n",
       "pygments            2.8.0\n",
       "pyparsing           2.4.7\n",
       "pyrsistent          NA\n",
       "pytoml              NA\n",
       "pytz                2021.1\n",
       "requests            2.25.1\n",
       "ruamel              NA\n",
       "scipy               1.6.1\n",
       "send2trash          NA\n",
       "setuptools_scm      NA\n",
       "simplejson          3.17.2\n",
       "sinfo               0.3.1\n",
       "six                 1.15.0\n",
       "sklearn             0.22\n",
       "sniffio             1.2.0\n",
       "socks               1.7.1\n",
       "sphinxcontrib       NA\n",
       "storemagic          NA\n",
       "tables              3.6.1\n",
       "tblib               1.7.0\n",
       "texttable           1.6.3\n",
       "tlz                 0.11.0\n",
       "toolz               0.11.1\n",
       "tornado             6.1\n",
       "traitlets           5.0.5\n",
       "typing_extensions   NA\n",
       "uritemplate         3.0.1\n",
       "urllib3             1.26.3\n",
       "wcwidth             0.2.5\n",
       "yaml                5.1.2\n",
       "zmq                 22.0.3\n",
       "</pre>\n",
       "</details> <!-- seems like this ends pre, so might as well be explicit -->\n",
       "<pre>\n",
       "-----\n",
       "IPython             7.21.0\n",
       "jupyter_client      6.1.11\n",
       "jupyter_core        4.7.1\n",
       "jupyterlab          3.0.9\n",
       "notebook            6.2.0\n",
       "-----\n",
       "Python 3.8.8 | packaged by conda-forge | (default, Feb 20 2021, 16:22:27) [GCC 9.3.0]\n",
       "Linux-4.15.0-112-generic-x86_64-with-glibc2.10\n",
       "-----\n",
       "Session information updated at 2022-12-11 23:49\n",
       "</pre>\n",
       "</details>"
      ],
      "text/plain": [
       "<IPython.core.display.HTML object>"
      ]
     },
     "execution_count": 2,
     "metadata": {},
     "output_type": "execute_result"
    }
   ],
   "source": [
    "import session_info\n",
    "session_info.show()"
   ]
  },
  {
   "cell_type": "code",
   "execution_count": 3,
   "id": "absent-import",
   "metadata": {},
   "outputs": [],
   "source": [
    "sc.settings.verbosity = 3             # verbosity: errors (0), warnings (1), info (2), hints (3)\n",
    "sc.settings.set_figure_params(dpi=200, facecolor='white', color_map = 'RdPu',)"
   ]
  },
  {
   "cell_type": "code",
   "execution_count": null,
   "id": "direct-darwin",
   "metadata": {},
   "outputs": [],
   "source": []
  },
  {
   "cell_type": "markdown",
   "id": "diagnostic-decrease",
   "metadata": {},
   "source": [
    "## Read in data"
   ]
  },
  {
   "cell_type": "code",
   "execution_count": 4,
   "id": "skilled-formula",
   "metadata": {},
   "outputs": [
    {
     "data": {
      "text/plain": [
       "AnnData object with n_obs × n_vars = 704296 × 32732\n",
       "    obs: 'sangerID', 'combinedID', 'donor', 'donor_type', 'region', 'region_finest', 'age', 'gender', 'facility', 'cell_or_nuclei', 'modality', 'kit_10x', 'flushed', 'n_genes', 'n_genes_by_counts', 'total_counts', 'total_counts_mt', 'pct_counts_mt', 'total_counts_ribo', 'pct_counts_ribo', 'scrublet_score', 'scrublet_leiden', 'cluster_scrublet_score', 'doublet_pval', 'doublet_bh_pval', 'batch_key', 'leiden_scVI', 'cell_type', 'cell_state_HCAv1', 'cell_state_scNym', 'cell_state_scNym_confidence', 'cell_state', 'latent_RT_efficiency', 'latent_cell_probability', 'latent_scale', 'n_counts', '_scvi_batch', '_scvi_labels', 'clus20', 'doublet_cls', 'original_or_new', 'batch', 'scANVI_predictions'\n",
       "    var: 'gene_name-new', 'gene_name_scRNA-0-original', 'gene_name_snRNA-1-original', 'gene_name_multiome-2-original'\n",
       "    obsm: 'X_scArches'"
      ]
     },
     "execution_count": 4,
     "metadata": {},
     "output_type": "execute_result"
    }
   ],
   "source": [
    "adata = sc.read_h5ad('/nfs/team205/heart/anndata_objects/8regions/RNA_adult_full_scArches.h5ad')\n",
    "adata"
   ]
  },
  {
   "cell_type": "code",
   "execution_count": 5,
   "id": "reserved-merit",
   "metadata": {},
   "outputs": [
    {
     "data": {
      "text/html": [
       "<div>\n",
       "<style scoped>\n",
       "    .dataframe tbody tr th:only-of-type {\n",
       "        vertical-align: middle;\n",
       "    }\n",
       "\n",
       "    .dataframe tbody tr th {\n",
       "        vertical-align: top;\n",
       "    }\n",
       "\n",
       "    .dataframe thead th {\n",
       "        text-align: right;\n",
       "    }\n",
       "</style>\n",
       "<table border=\"1\" class=\"dataframe\">\n",
       "  <thead>\n",
       "    <tr style=\"text-align: right;\">\n",
       "      <th>region</th>\n",
       "      <th>AVN</th>\n",
       "      <th>AX</th>\n",
       "      <th>LA</th>\n",
       "      <th>LV</th>\n",
       "      <th>RA</th>\n",
       "      <th>RV</th>\n",
       "      <th>SAN</th>\n",
       "      <th>SP</th>\n",
       "    </tr>\n",
       "    <tr>\n",
       "      <th>cell_type</th>\n",
       "      <th></th>\n",
       "      <th></th>\n",
       "      <th></th>\n",
       "      <th></th>\n",
       "      <th></th>\n",
       "      <th></th>\n",
       "      <th></th>\n",
       "      <th></th>\n",
       "    </tr>\n",
       "  </thead>\n",
       "  <tbody>\n",
       "    <tr>\n",
       "      <th>Adipocyte</th>\n",
       "      <td>333</td>\n",
       "      <td>875</td>\n",
       "      <td>1649</td>\n",
       "      <td>203</td>\n",
       "      <td>749</td>\n",
       "      <td>552</td>\n",
       "      <td>1839</td>\n",
       "      <td>147</td>\n",
       "    </tr>\n",
       "    <tr>\n",
       "      <th>Atrial Cardiomyocyte</th>\n",
       "      <td>850</td>\n",
       "      <td>5</td>\n",
       "      <td>19509</td>\n",
       "      <td>24</td>\n",
       "      <td>15484</td>\n",
       "      <td>15</td>\n",
       "      <td>9857</td>\n",
       "      <td>62</td>\n",
       "    </tr>\n",
       "    <tr>\n",
       "      <th>Endothelial cell</th>\n",
       "      <td>4725</td>\n",
       "      <td>28683</td>\n",
       "      <td>14541</td>\n",
       "      <td>25686</td>\n",
       "      <td>11815</td>\n",
       "      <td>17882</td>\n",
       "      <td>8006</td>\n",
       "      <td>20167</td>\n",
       "    </tr>\n",
       "    <tr>\n",
       "      <th>Fibroblast</th>\n",
       "      <td>14674</td>\n",
       "      <td>14676</td>\n",
       "      <td>11672</td>\n",
       "      <td>18704</td>\n",
       "      <td>15026</td>\n",
       "      <td>18706</td>\n",
       "      <td>30176</td>\n",
       "      <td>14421</td>\n",
       "    </tr>\n",
       "    <tr>\n",
       "      <th>Lymphatic Endothelial cell</th>\n",
       "      <td>165</td>\n",
       "      <td>238</td>\n",
       "      <td>97</td>\n",
       "      <td>119</td>\n",
       "      <td>33</td>\n",
       "      <td>257</td>\n",
       "      <td>243</td>\n",
       "      <td>143</td>\n",
       "    </tr>\n",
       "    <tr>\n",
       "      <th>Lymphoid</th>\n",
       "      <td>1936</td>\n",
       "      <td>3367</td>\n",
       "      <td>3596</td>\n",
       "      <td>3061</td>\n",
       "      <td>3485</td>\n",
       "      <td>2515</td>\n",
       "      <td>3780</td>\n",
       "      <td>3182</td>\n",
       "    </tr>\n",
       "    <tr>\n",
       "      <th>Mast cell</th>\n",
       "      <td>142</td>\n",
       "      <td>277</td>\n",
       "      <td>162</td>\n",
       "      <td>450</td>\n",
       "      <td>57</td>\n",
       "      <td>193</td>\n",
       "      <td>270</td>\n",
       "      <td>302</td>\n",
       "    </tr>\n",
       "    <tr>\n",
       "      <th>Mesothelial cell</th>\n",
       "      <td>43</td>\n",
       "      <td>8</td>\n",
       "      <td>548</td>\n",
       "      <td>23</td>\n",
       "      <td>293</td>\n",
       "      <td>13</td>\n",
       "      <td>120</td>\n",
       "      <td>9</td>\n",
       "    </tr>\n",
       "    <tr>\n",
       "      <th>Mural cell</th>\n",
       "      <td>2809</td>\n",
       "      <td>19853</td>\n",
       "      <td>15316</td>\n",
       "      <td>26942</td>\n",
       "      <td>5160</td>\n",
       "      <td>15766</td>\n",
       "      <td>3711</td>\n",
       "      <td>15036</td>\n",
       "    </tr>\n",
       "    <tr>\n",
       "      <th>Myeloid</th>\n",
       "      <td>8174</td>\n",
       "      <td>5449</td>\n",
       "      <td>6124</td>\n",
       "      <td>6749</td>\n",
       "      <td>4108</td>\n",
       "      <td>5713</td>\n",
       "      <td>9637</td>\n",
       "      <td>5472</td>\n",
       "    </tr>\n",
       "    <tr>\n",
       "      <th>Neuronal cell</th>\n",
       "      <td>400</td>\n",
       "      <td>467</td>\n",
       "      <td>1108</td>\n",
       "      <td>921</td>\n",
       "      <td>1251</td>\n",
       "      <td>688</td>\n",
       "      <td>1186</td>\n",
       "      <td>601</td>\n",
       "    </tr>\n",
       "    <tr>\n",
       "      <th>Ventricular Cardiomyocyte</th>\n",
       "      <td>14768</td>\n",
       "      <td>28323</td>\n",
       "      <td>179</td>\n",
       "      <td>65547</td>\n",
       "      <td>34</td>\n",
       "      <td>42154</td>\n",
       "      <td>328</td>\n",
       "      <td>39482</td>\n",
       "    </tr>\n",
       "  </tbody>\n",
       "</table>\n",
       "</div>"
      ],
      "text/plain": [
       "region                        AVN     AX     LA     LV     RA     RV    SAN  \\\n",
       "cell_type                                                                     \n",
       "Adipocyte                     333    875   1649    203    749    552   1839   \n",
       "Atrial Cardiomyocyte          850      5  19509     24  15484     15   9857   \n",
       "Endothelial cell             4725  28683  14541  25686  11815  17882   8006   \n",
       "Fibroblast                  14674  14676  11672  18704  15026  18706  30176   \n",
       "Lymphatic Endothelial cell    165    238     97    119     33    257    243   \n",
       "Lymphoid                     1936   3367   3596   3061   3485   2515   3780   \n",
       "Mast cell                     142    277    162    450     57    193    270   \n",
       "Mesothelial cell               43      8    548     23    293     13    120   \n",
       "Mural cell                   2809  19853  15316  26942   5160  15766   3711   \n",
       "Myeloid                      8174   5449   6124   6749   4108   5713   9637   \n",
       "Neuronal cell                 400    467   1108    921   1251    688   1186   \n",
       "Ventricular Cardiomyocyte   14768  28323    179  65547     34  42154    328   \n",
       "\n",
       "region                         SP  \n",
       "cell_type                          \n",
       "Adipocyte                     147  \n",
       "Atrial Cardiomyocyte           62  \n",
       "Endothelial cell            20167  \n",
       "Fibroblast                  14421  \n",
       "Lymphatic Endothelial cell    143  \n",
       "Lymphoid                     3182  \n",
       "Mast cell                     302  \n",
       "Mesothelial cell                9  \n",
       "Mural cell                  15036  \n",
       "Myeloid                      5472  \n",
       "Neuronal cell                 601  \n",
       "Ventricular Cardiomyocyte   39482  "
      ]
     },
     "execution_count": 5,
     "metadata": {},
     "output_type": "execute_result"
    }
   ],
   "source": [
    "pd.crosstab(adata.obs['cell_type'],adata.obs['region'])"
   ]
  },
  {
   "cell_type": "markdown",
   "id": "answering-holmes",
   "metadata": {},
   "source": [
    "## Prepare SAN/AVN data and save "
   ]
  },
  {
   "cell_type": "markdown",
   "id": "serious-melissa",
   "metadata": {},
   "source": [
    "Subsetting pattern\n",
    "* SAN, aCM, original+new, all donor\n",
    "* AVN, aCM+vCM, original+new, all donor"
   ]
  },
  {
   "cell_type": "markdown",
   "id": "textile-worry",
   "metadata": {},
   "source": [
    "### SAN"
   ]
  },
  {
   "cell_type": "code",
   "execution_count": 6,
   "id": "expired-certificate",
   "metadata": {},
   "outputs": [
    {
     "data": {
      "text/html": [
       "<div>\n",
       "<style scoped>\n",
       "    .dataframe tbody tr th:only-of-type {\n",
       "        vertical-align: middle;\n",
       "    }\n",
       "\n",
       "    .dataframe tbody tr th {\n",
       "        vertical-align: top;\n",
       "    }\n",
       "\n",
       "    .dataframe thead th {\n",
       "        text-align: right;\n",
       "    }\n",
       "</style>\n",
       "<table border=\"1\" class=\"dataframe\">\n",
       "  <thead>\n",
       "    <tr style=\"text-align: right;\">\n",
       "      <th>region</th>\n",
       "      <th>SAN</th>\n",
       "    </tr>\n",
       "    <tr>\n",
       "      <th>cell_type</th>\n",
       "      <th></th>\n",
       "    </tr>\n",
       "  </thead>\n",
       "  <tbody>\n",
       "    <tr>\n",
       "      <th>Atrial Cardiomyocyte</th>\n",
       "      <td>9857</td>\n",
       "    </tr>\n",
       "  </tbody>\n",
       "</table>\n",
       "</div>"
      ],
      "text/plain": [
       "region                 SAN\n",
       "cell_type                 \n",
       "Atrial Cardiomyocyte  9857"
      ]
     },
     "execution_count": 6,
     "metadata": {},
     "output_type": "execute_result"
    }
   ],
   "source": [
    "san_aCM = adata[(adata.obs['region']=='SAN')&(adata.obs['cell_type']=='Atrial Cardiomyocyte')]\n",
    "pd.crosstab(san_aCM.obs['cell_type'],san_aCM.obs['region'])"
   ]
  },
  {
   "cell_type": "code",
   "execution_count": 7,
   "id": "reflected-trigger",
   "metadata": {},
   "outputs": [
    {
     "data": {
      "text/plain": [
       "View of AnnData object with n_obs × n_vars = 9857 × 32732\n",
       "    obs: 'sangerID', 'combinedID', 'donor', 'donor_type', 'region', 'region_finest', 'age', 'gender', 'facility', 'cell_or_nuclei', 'modality', 'kit_10x', 'flushed', 'n_genes', 'n_genes_by_counts', 'total_counts', 'total_counts_mt', 'pct_counts_mt', 'total_counts_ribo', 'pct_counts_ribo', 'scrublet_score', 'scrublet_leiden', 'cluster_scrublet_score', 'doublet_pval', 'doublet_bh_pval', 'batch_key', 'leiden_scVI', 'cell_type', 'cell_state_HCAv1', 'cell_state_scNym', 'cell_state_scNym_confidence', 'cell_state', 'latent_RT_efficiency', 'latent_cell_probability', 'latent_scale', 'n_counts', '_scvi_batch', '_scvi_labels', 'clus20', 'doublet_cls', 'original_or_new', 'batch', 'scANVI_predictions'\n",
       "    var: 'gene_name-new', 'gene_name_scRNA-0-original', 'gene_name_snRNA-1-original', 'gene_name_multiome-2-original'\n",
       "    obsm: 'X_scArches'"
      ]
     },
     "execution_count": 7,
     "metadata": {},
     "output_type": "execute_result"
    }
   ],
   "source": [
    "san_aCM.write(f'/home/jovyan/mount/gdrive/Colab/data/anndata/RNA_adult_full_raw_SAN-aCM.h5ad')\n",
    "san_aCM"
   ]
  },
  {
   "cell_type": "code",
   "execution_count": 8,
   "id": "clear-architect",
   "metadata": {},
   "outputs": [
    {
     "data": {
      "text/plain": [
       "array([ 1.,  1.,  1.,  1.,  2., 11.,  1.,  4.,  1.,  1.], dtype=float32)"
      ]
     },
     "execution_count": 8,
     "metadata": {},
     "output_type": "execute_result"
    }
   ],
   "source": [
    "san_aCM.X.data[:10]"
   ]
  },
  {
   "cell_type": "markdown",
   "id": "unexpected-effort",
   "metadata": {},
   "source": [
    "### AVN"
   ]
  },
  {
   "cell_type": "code",
   "execution_count": 10,
   "id": "standing-fundamental",
   "metadata": {},
   "outputs": [
    {
     "data": {
      "text/html": [
       "<div>\n",
       "<style scoped>\n",
       "    .dataframe tbody tr th:only-of-type {\n",
       "        vertical-align: middle;\n",
       "    }\n",
       "\n",
       "    .dataframe tbody tr th {\n",
       "        vertical-align: top;\n",
       "    }\n",
       "\n",
       "    .dataframe thead th {\n",
       "        text-align: right;\n",
       "    }\n",
       "</style>\n",
       "<table border=\"1\" class=\"dataframe\">\n",
       "  <thead>\n",
       "    <tr style=\"text-align: right;\">\n",
       "      <th>region</th>\n",
       "      <th>AVN</th>\n",
       "    </tr>\n",
       "    <tr>\n",
       "      <th>cell_type</th>\n",
       "      <th></th>\n",
       "    </tr>\n",
       "  </thead>\n",
       "  <tbody>\n",
       "    <tr>\n",
       "      <th>Atrial Cardiomyocyte</th>\n",
       "      <td>850</td>\n",
       "    </tr>\n",
       "    <tr>\n",
       "      <th>Ventricular Cardiomyocyte</th>\n",
       "      <td>14768</td>\n",
       "    </tr>\n",
       "  </tbody>\n",
       "</table>\n",
       "</div>"
      ],
      "text/plain": [
       "region                       AVN\n",
       "cell_type                       \n",
       "Atrial Cardiomyocyte         850\n",
       "Ventricular Cardiomyocyte  14768"
      ]
     },
     "execution_count": 10,
     "metadata": {},
     "output_type": "execute_result"
    }
   ],
   "source": [
    "avn_avCM = adata[(adata.obs['region']=='AVN')&(adata.obs['cell_type'].isin(['Atrial Cardiomyocyte','Ventricular Cardiomyocyte']))]\n",
    "pd.crosstab(avn_avCM.obs['cell_type'],avn_avCM.obs['region'])"
   ]
  },
  {
   "cell_type": "code",
   "execution_count": 11,
   "id": "balanced-florence",
   "metadata": {},
   "outputs": [
    {
     "data": {
      "text/plain": [
       "View of AnnData object with n_obs × n_vars = 15618 × 32732\n",
       "    obs: 'sangerID', 'combinedID', 'donor', 'donor_type', 'region', 'region_finest', 'age', 'gender', 'facility', 'cell_or_nuclei', 'modality', 'kit_10x', 'flushed', 'n_genes', 'n_genes_by_counts', 'total_counts', 'total_counts_mt', 'pct_counts_mt', 'total_counts_ribo', 'pct_counts_ribo', 'scrublet_score', 'scrublet_leiden', 'cluster_scrublet_score', 'doublet_pval', 'doublet_bh_pval', 'batch_key', 'leiden_scVI', 'cell_type', 'cell_state_HCAv1', 'cell_state_scNym', 'cell_state_scNym_confidence', 'cell_state', 'latent_RT_efficiency', 'latent_cell_probability', 'latent_scale', 'n_counts', '_scvi_batch', '_scvi_labels', 'clus20', 'doublet_cls', 'original_or_new', 'batch', 'scANVI_predictions'\n",
       "    var: 'gene_name-new', 'gene_name_scRNA-0-original', 'gene_name_snRNA-1-original', 'gene_name_multiome-2-original'\n",
       "    obsm: 'X_scArches'"
      ]
     },
     "execution_count": 11,
     "metadata": {},
     "output_type": "execute_result"
    }
   ],
   "source": [
    "avn_avCM.write(f'/home/jovyan/mount/gdrive/Colab/data/anndata/RNA_adult_full_raw_AVN-avCM.h5ad')\n",
    "avn_avCM"
   ]
  },
  {
   "cell_type": "code",
   "execution_count": 12,
   "id": "abandoned-investigation",
   "metadata": {},
   "outputs": [
    {
     "data": {
      "text/plain": [
       "array([10., 20., 15., 23.,  4., 34., 30., 45.,  5., 38.], dtype=float32)"
      ]
     },
     "execution_count": 12,
     "metadata": {},
     "output_type": "execute_result"
    }
   ],
   "source": [
    "avn_avCM.X.data[:10]"
   ]
  },
  {
   "cell_type": "code",
   "execution_count": null,
   "id": "charged-toolbox",
   "metadata": {},
   "outputs": [],
   "source": []
  }
 ],
 "metadata": {
  "accelerator": "GPU",
  "colab": {
   "name": "kk20-4_Foetal_scVI_Asp-Cao-Peng.ipynb",
   "provenance": []
  },
  "kernelspec": {
   "display_name": "teichlab",
   "language": "python",
   "name": "teichlab"
  },
  "language_info": {
   "codemirror_mode": {
    "name": "ipython",
    "version": 3
   },
   "file_extension": ".py",
   "mimetype": "text/x-python",
   "name": "python",
   "nbconvert_exporter": "python",
   "pygments_lexer": "ipython3",
   "version": "3.8.8"
  }
 },
 "nbformat": 4,
 "nbformat_minor": 5
}
