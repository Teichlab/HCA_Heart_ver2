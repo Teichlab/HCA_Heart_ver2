{
 "cells": [
  {
   "cell_type": "markdown",
   "id": "central-missouri",
   "metadata": {},
   "source": [
    "## Import modules"
   ]
  },
  {
   "cell_type": "code",
   "execution_count": 1,
   "id": "iraqi-fence",
   "metadata": {},
   "outputs": [],
   "source": [
    "import warnings\n",
    "warnings.simplefilter(action='ignore', category=FutureWarning)\n",
    "\n",
    "import numpy as np\n",
    "import numpy.random as random\n",
    "import pandas as pd\n",
    "import scanpy as sc\n",
    "import matplotlib.pyplot as plt"
   ]
  },
  {
   "cell_type": "code",
   "execution_count": 2,
   "id": "relevant-chapter",
   "metadata": {},
   "outputs": [
    {
     "data": {
      "text/html": [
       "<details>\n",
       "<summary>Click to view session information</summary>\n",
       "<pre>\n",
       "-----\n",
       "matplotlib          3.3.3\n",
       "numpy               1.21.5\n",
       "pandas              1.2.0\n",
       "scanpy              1.7.1\n",
       "session_info        1.0.0\n",
       "-----\n",
       "</pre>\n",
       "<details>\n",
       "<summary>Click to view modules imported as dependencies</summary>\n",
       "<pre>\n",
       "PIL                 8.1.0\n",
       "anndata             0.7.5\n",
       "backcall            0.2.0\n",
       "cached_property     1.5.1\n",
       "cairo               1.20.0\n",
       "cffi                1.14.4\n",
       "cloudpickle         1.6.0\n",
       "colorama            0.4.4\n",
       "cycler              0.10.0\n",
       "cython_runtime      NA\n",
       "cytoolz             0.11.2\n",
       "dask                2022.01.0\n",
       "dateutil            2.8.1\n",
       "decorator           4.4.2\n",
       "fsspec              2022.01.0\n",
       "get_version         2.1\n",
       "google              NA\n",
       "h5py                3.1.0\n",
       "igraph              0.8.3\n",
       "importlib_metadata  1.7.0\n",
       "ipykernel           5.4.2\n",
       "ipython_genutils    0.2.0\n",
       "jedi                0.17.2\n",
       "jinja2              2.11.2\n",
       "joblib              1.0.0\n",
       "kiwisolver          1.3.1\n",
       "legacy_api_wrap     0.0.0\n",
       "leidenalg           0.8.3\n",
       "llvmlite            0.35.0\n",
       "louvain             0.7.0\n",
       "markupsafe          1.1.1\n",
       "mpl_toolkits        NA\n",
       "natsort             7.1.0\n",
       "numba               0.52.0\n",
       "numexpr             2.7.2\n",
       "packaging           20.8\n",
       "parso               0.7.1\n",
       "pexpect             4.8.0\n",
       "pickleshare         0.7.5\n",
       "pkg_resources       NA\n",
       "prompt_toolkit      3.0.10\n",
       "psutil              5.9.0\n",
       "ptyprocess          0.7.0\n",
       "pygments            2.7.4\n",
       "pyparsing           2.4.7\n",
       "pytz                2020.5\n",
       "scipy               1.4.1\n",
       "setuptools_scm      NA\n",
       "sinfo               0.3.1\n",
       "six                 1.14.0\n",
       "sklearn             0.24.1\n",
       "sphinxcontrib       NA\n",
       "storemagic          NA\n",
       "tables              3.6.1\n",
       "tblib               1.7.0\n",
       "texttable           1.6.3\n",
       "tlz                 0.11.2\n",
       "toolz               0.11.2\n",
       "tornado             6.1\n",
       "traitlets           5.0.5\n",
       "typing_extensions   NA\n",
       "wcwidth             0.2.5\n",
       "yaml                5.4.1\n",
       "zipp                NA\n",
       "zmq                 21.0.1\n",
       "zope                NA\n",
       "</pre>\n",
       "</details> <!-- seems like this ends pre, so might as well be explicit -->\n",
       "<pre>\n",
       "-----\n",
       "IPython             7.19.0\n",
       "jupyter_client      6.1.11\n",
       "jupyter_core        4.7.0\n",
       "notebook            6.2.0\n",
       "-----\n",
       "Python 3.7.9 | packaged by conda-forge | (default, Dec  9 2020, 21:08:20) [GCC 9.3.0]\n",
       "Linux-4.15.0-112-generic-x86_64-with-debian-bullseye-sid\n",
       "-----\n",
       "Session information updated at 2022-06-05 12:08\n",
       "</pre>\n",
       "</details>"
      ],
      "text/plain": [
       "<IPython.core.display.HTML object>"
      ]
     },
     "execution_count": 2,
     "metadata": {},
     "output_type": "execute_result"
    }
   ],
   "source": [
    "import session_info\n",
    "session_info.show()"
   ]
  },
  {
   "cell_type": "code",
   "execution_count": 3,
   "id": "exclusive-antenna",
   "metadata": {},
   "outputs": [],
   "source": [
    "sc.settings.verbosity = 3            # verbosity: errors (0), warnings (1), info (2), hints (3)\n",
    "sc.settings.set_figure_params(dpi=200, facecolor='white', color_map = 'RdPu',)"
   ]
  },
  {
   "cell_type": "markdown",
   "id": "killing-vinyl",
   "metadata": {},
   "source": [
    "## Function"
   ]
  },
  {
   "cell_type": "code",
   "execution_count": null,
   "id": "disciplinary-substitute",
   "metadata": {},
   "outputs": [],
   "source": []
  },
  {
   "cell_type": "markdown",
   "id": "precise-polls",
   "metadata": {},
   "source": [
    "## Read in data"
   ]
  },
  {
   "cell_type": "code",
   "execution_count": 4,
   "id": "tamil-material",
   "metadata": {},
   "outputs": [],
   "source": [
    "adata_dir = '/nfs/team205/heart/anndata_objects/8regions'"
   ]
  },
  {
   "cell_type": "markdown",
   "id": "powered-wallpaper",
   "metadata": {},
   "source": [
    "batch_key: Donor + Nuclei_or_Cells + Kit_10X"
   ]
  },
  {
   "cell_type": "code",
   "execution_count": 5,
   "id": "invisible-bride",
   "metadata": {},
   "outputs": [
    {
     "data": {
      "text/plain": [
       "AnnData object with n_obs × n_vars = 629041 × 32732\n",
       "    obs: 'sangerID', 'combinedID', 'donor', 'donor_type', 'region', 'region_finest', 'age', 'gender', 'facility', 'cell_or_nuclei', 'modality', 'kit_10x', 'flushed', 'n_genes', 'n_genes_by_counts', 'total_counts', 'total_counts_mt', 'pct_counts_mt', 'total_counts_ribo', 'pct_counts_ribo', 'scrublet_score', 'scrublet_leiden', 'cluster_scrublet_score', 'doublet_pval', 'doublet_bh_pval', 'batch_key', 'leiden_scVI', 'cell_type', 'cell_state_HCAv1', 'cell_state_scNym', 'cell_state_scNym_confidence'\n",
       "    var: 'gene_name_scRNA-0', 'gene_name_snRNA-1', 'gene_name_multiome-2'\n",
       "    uns: 'cell_or_nuclei_colors', 'cell_state_HCAv1_colors', 'cell_state_scNym_colors', 'cell_type_colors', 'donor_colors', 'kit_10x_colors', 'leiden_scVI_colors', 'region_colors'\n",
       "    obsm: 'X_scVI', 'X_umap', '_scvi_extra_continuous', 'latent_gene_encoding'\n",
       "    obsp: 'connectivities', 'distances'"
      ]
     },
     "execution_count": 5,
     "metadata": {},
     "output_type": "execute_result"
    }
   ],
   "source": [
    "adata = sc.read_h5ad(f'{adata_dir}/RNA_adult-8reg_raw_rmdblcls_celltype-annotated.h5ad')\n",
    "adata"
   ]
  },
  {
   "cell_type": "code",
   "execution_count": 6,
   "id": "synthetic-edinburgh",
   "metadata": {},
   "outputs": [
    {
     "data": {
      "text/plain": [
       "array([1., 1., 1., 1., 2., 1., 1., 1., 5., 1.], dtype=float32)"
      ]
     },
     "execution_count": 6,
     "metadata": {},
     "output_type": "execute_result"
    }
   ],
   "source": [
    "adata.X.data[:10]"
   ]
  },
  {
   "cell_type": "code",
   "execution_count": 7,
   "id": "greater-gilbert",
   "metadata": {},
   "outputs": [],
   "source": [
    "genename_column='gene_name_multiome-2'"
   ]
  },
  {
   "cell_type": "code",
   "execution_count": null,
   "id": "educational-middle",
   "metadata": {},
   "outputs": [],
   "source": []
  },
  {
   "cell_type": "markdown",
   "id": "freelance-caution",
   "metadata": {},
   "source": [
    "## Subset compartment"
   ]
  },
  {
   "cell_type": "code",
   "execution_count": 8,
   "id": "decreased-softball",
   "metadata": {},
   "outputs": [
    {
     "data": {
      "text/plain": [
       "Index(['Ventricular Cardiomyocyte', 'Atrial Cardiomyocyte', 'Fibroblast',\n",
       "       'Endothelial cell', 'Lymphatic Endothelial cell', 'Mural cell',\n",
       "       'Mesothelial cell', 'Neuronal cell', 'Adipocyte', 'Myeloid', 'Lymphoid',\n",
       "       'Mast cell'],\n",
       "      dtype='object')"
      ]
     },
     "execution_count": 8,
     "metadata": {},
     "output_type": "execute_result"
    }
   ],
   "source": [
    "adata.obs['cell_type'].cat.categories"
   ]
  },
  {
   "cell_type": "code",
   "execution_count": 10,
   "id": "primary-welding",
   "metadata": {},
   "outputs": [],
   "source": [
    "compartments={\n",
    "    'aCM':['Atrial Cardiomyocyte'],\n",
    "    'vCM':['Ventricular Cardiomyocyte'],\n",
    "    'EC':['Endothelial cell'],\n",
    "    'LEC':['Lymphatic Endothelial cell'],\n",
    "    'Mural':['Mural cell'],\n",
    "    'Meso':['Mesothelial cell'],\n",
    "    'FB':['Fibroblast'],\n",
    "    'Adip':['Adipocyte'], \n",
    "    'NC':['Neuronal cell'], \n",
    "    'Myelo':['Myeloid'], \n",
    "    'Lymph':['Lymphoid'],\n",
    "    'Mast':['Mast cell'],\n",
    "}"
   ]
  },
  {
   "cell_type": "code",
   "execution_count": 11,
   "id": "elder-firmware",
   "metadata": {},
   "outputs": [
    {
     "data": {
      "text/plain": [
       "dict_keys(['aCM', 'vCM', 'EC', 'LEC', 'Mural', 'Meso', 'FB', 'Adip', 'NC', 'Myelo', 'Lymph', 'Mast'])"
      ]
     },
     "execution_count": 11,
     "metadata": {},
     "output_type": "execute_result"
    }
   ],
   "source": [
    "compartments.keys()"
   ]
  },
  {
   "cell_type": "code",
   "execution_count": null,
   "id": "threatened-ethnic",
   "metadata": {},
   "outputs": [],
   "source": []
  },
  {
   "cell_type": "markdown",
   "id": "occasional-sense",
   "metadata": {},
   "source": [
    "## Pre-process for scVI"
   ]
  },
  {
   "cell_type": "code",
   "execution_count": 12,
   "id": "mounted-verse",
   "metadata": {},
   "outputs": [],
   "source": [
    "sc.settings.set_figure_params(dpi=80, facecolor='white', color_map = 'RdPu',)"
   ]
  },
  {
   "cell_type": "code",
   "execution_count": 13,
   "id": "caring-catering",
   "metadata": {},
   "outputs": [
    {
     "name": "stderr",
     "output_type": "stream",
     "text": [
      "filtered out 4646 genes that are detected in less than 3 cells\n",
      "Trying to set attribute `.var` of view, copying.\n",
      "filtered out 3305 genes that are detected in less than 3 cells\n",
      "Trying to set attribute `.var` of view, copying.\n",
      "filtered out 4686 genes that are detected in less than 3 cells\n",
      "Trying to set attribute `.var` of view, copying.\n",
      "filtered out 15263 genes that are detected in less than 3 cells\n",
      "Trying to set attribute `.var` of view, copying.\n",
      "filtered out 4979 genes that are detected in less than 3 cells\n",
      "Trying to set attribute `.var` of view, copying.\n",
      "filtered out 14996 genes that are detected in less than 3 cells\n",
      "Trying to set attribute `.var` of view, copying.\n",
      "filtered out 3671 genes that are detected in less than 3 cells\n",
      "Trying to set attribute `.var` of view, copying.\n",
      "filtered out 7077 genes that are detected in less than 3 cells\n",
      "Trying to set attribute `.var` of view, copying.\n",
      "filtered out 9050 genes that are detected in less than 3 cells\n",
      "Trying to set attribute `.var` of view, copying.\n",
      "filtered out 5594 genes that are detected in less than 3 cells\n",
      "Trying to set attribute `.var` of view, copying.\n",
      "filtered out 8214 genes that are detected in less than 3 cells\n",
      "Trying to set attribute `.var` of view, copying.\n",
      "filtered out 16325 genes that are detected in less than 3 cells\n",
      "Trying to set attribute `.var` of view, copying.\n"
     ]
    }
   ],
   "source": [
    "for sub in compartments.keys():\n",
    "\n",
    "    adata_sub = adata[adata.obs['cell_type'].isin(compartments[sub])]\n",
    "    \n",
    "    # filter genes\n",
    "    sc.pp.filter_genes(adata_sub, min_cells=3)\n",
    "\n",
    "    # save\n",
    "    adata_sub.write(f'{adata_dir}/scVI/subsets/{sub}_pp_allgene.h5ad')\n",
    "    \n",
    "    del adata_sub"
   ]
  },
  {
   "cell_type": "code",
   "execution_count": null,
   "id": "sweet-respect",
   "metadata": {},
   "outputs": [],
   "source": []
  },
  {
   "cell_type": "code",
   "execution_count": null,
   "id": "faced-bidding",
   "metadata": {},
   "outputs": [],
   "source": []
  }
 ],
 "metadata": {
  "accelerator": "GPU",
  "colab": {
   "name": "kk20-4_Foetal_scVI_Asp-Cao-Peng.ipynb",
   "provenance": []
  },
  "kernelspec": {
   "display_name": "cellpymc",
   "language": "python",
   "name": "cellpymc"
  },
  "language_info": {
   "codemirror_mode": {
    "name": "ipython",
    "version": 3
   },
   "file_extension": ".py",
   "mimetype": "text/x-python",
   "name": "python",
   "nbconvert_exporter": "python",
   "pygments_lexer": "ipython3",
   "version": "3.7.9"
  }
 },
 "nbformat": 4,
 "nbformat_minor": 5
}
