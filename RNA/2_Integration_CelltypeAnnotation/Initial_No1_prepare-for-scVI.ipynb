{
 "cells": [
  {
   "cell_type": "markdown",
   "id": "certified-batch",
   "metadata": {},
   "source": [
    "## Import modules"
   ]
  },
  {
   "cell_type": "code",
   "execution_count": 1,
   "id": "outer-gallery",
   "metadata": {},
   "outputs": [],
   "source": [
    "import numpy as np\n",
    "import numpy.random as random\n",
    "import pandas as pd\n",
    "import scanpy as sc\n",
    "import seaborn as sns\n",
    "import matplotlib.pyplot as plt"
   ]
  },
  {
   "cell_type": "code",
   "execution_count": 2,
   "id": "micro-houston",
   "metadata": {},
   "outputs": [
    {
     "data": {
      "text/html": [
       "<details>\n",
       "<summary>Click to view session information</summary>\n",
       "<pre>\n",
       "-----\n",
       "matplotlib          3.3.3\n",
       "numpy               1.21.5\n",
       "pandas              1.2.0\n",
       "scanpy              1.7.1\n",
       "seaborn             0.11.1\n",
       "session_info        1.0.0\n",
       "-----\n",
       "</pre>\n",
       "<details>\n",
       "<summary>Click to view modules imported as dependencies</summary>\n",
       "<pre>\n",
       "PIL                 8.1.0\n",
       "anndata             0.7.5\n",
       "backcall            0.2.0\n",
       "cached_property     1.5.1\n",
       "cairo               1.20.0\n",
       "cffi                1.14.4\n",
       "cloudpickle         1.6.0\n",
       "colorama            0.4.4\n",
       "cycler              0.10.0\n",
       "cython_runtime      NA\n",
       "cytoolz             0.11.2\n",
       "dask                2022.01.0\n",
       "dateutil            2.8.1\n",
       "decorator           4.4.2\n",
       "fsspec              2022.01.0\n",
       "get_version         2.1\n",
       "google              NA\n",
       "h5py                3.1.0\n",
       "igraph              0.8.3\n",
       "importlib_metadata  1.7.0\n",
       "ipykernel           5.4.2\n",
       "ipython_genutils    0.2.0\n",
       "ipywidgets          7.6.3\n",
       "jedi                0.17.2\n",
       "jinja2              2.11.2\n",
       "joblib              1.0.0\n",
       "kiwisolver          1.3.1\n",
       "legacy_api_wrap     0.0.0\n",
       "leidenalg           0.8.3\n",
       "llvmlite            0.35.0\n",
       "louvain             0.7.0\n",
       "markupsafe          1.1.1\n",
       "mpl_toolkits        NA\n",
       "natsort             7.1.0\n",
       "numba               0.52.0\n",
       "numexpr             2.7.2\n",
       "packaging           20.8\n",
       "parso               0.7.1\n",
       "pexpect             4.8.0\n",
       "pickleshare         0.7.5\n",
       "pkg_resources       NA\n",
       "prompt_toolkit      3.0.10\n",
       "psutil              5.9.0\n",
       "ptyprocess          0.7.0\n",
       "pygments            2.7.4\n",
       "pyparsing           2.4.7\n",
       "pytz                2020.5\n",
       "scipy               1.4.1\n",
       "setuptools_scm      NA\n",
       "sinfo               0.3.1\n",
       "six                 1.14.0\n",
       "sklearn             0.24.1\n",
       "sphinxcontrib       NA\n",
       "statsmodels         0.12.1\n",
       "storemagic          NA\n",
       "tables              3.6.1\n",
       "tblib               1.7.0\n",
       "texttable           1.6.3\n",
       "tlz                 0.11.2\n",
       "toolz               0.11.2\n",
       "tornado             6.1\n",
       "traitlets           5.0.5\n",
       "typing_extensions   NA\n",
       "wcwidth             0.2.5\n",
       "yaml                5.4.1\n",
       "zipp                NA\n",
       "zmq                 21.0.1\n",
       "zope                NA\n",
       "</pre>\n",
       "</details> <!-- seems like this ends pre, so might as well be explicit -->\n",
       "<pre>\n",
       "-----\n",
       "IPython             7.19.0\n",
       "jupyter_client      6.1.11\n",
       "jupyter_core        4.7.0\n",
       "notebook            6.2.0\n",
       "-----\n",
       "Python 3.7.9 | packaged by conda-forge | (default, Dec  9 2020, 21:08:20) [GCC 9.3.0]\n",
       "Linux-4.15.0-112-generic-x86_64-with-debian-bullseye-sid\n",
       "-----\n",
       "Session information updated at 2022-06-04 21:03\n",
       "</pre>\n",
       "</details>"
      ],
      "text/plain": [
       "<IPython.core.display.HTML object>"
      ]
     },
     "execution_count": 2,
     "metadata": {},
     "output_type": "execute_result"
    }
   ],
   "source": [
    "import session_info\n",
    "session_info.show()"
   ]
  },
  {
   "cell_type": "code",
   "execution_count": 3,
   "id": "satisfactory-mauritius",
   "metadata": {},
   "outputs": [],
   "source": [
    "sc.settings.verbosity = 3             # verbosity: errors (0), warnings (1), info (2), hints (3)\n",
    "sc.settings.set_figure_params(dpi=80, facecolor='white', color_map = 'RdPu',)"
   ]
  },
  {
   "cell_type": "markdown",
   "id": "vocal-adapter",
   "metadata": {},
   "source": [
    "## Directory"
   ]
  },
  {
   "cell_type": "code",
   "execution_count": 4,
   "id": "therapeutic-headline",
   "metadata": {},
   "outputs": [],
   "source": [
    "adata_dir = '/nfs/team205/heart/anndata_objects/8regions'"
   ]
  },
  {
   "cell_type": "markdown",
   "id": "fatty-finnish",
   "metadata": {},
   "source": [
    "## Read in data"
   ]
  },
  {
   "cell_type": "code",
   "execution_count": 5,
   "id": "global-terrain",
   "metadata": {},
   "outputs": [
    {
     "data": {
      "text/plain": [
       "AnnData object with n_obs × n_vars = 151666 × 33538\n",
       "    obs: 'latent_RT_efficiency', 'latent_cell_probability', 'latent_scale', 'sangerID', 'combinedID', 'donor', 'donor_type', 'region', 'region_finest', 'age', 'gender', 'facility', 'cell_or_nuclei', 'modality', 'kit_10x', 'flushed', 'scrublet_score', 'scrublet_leiden', 'cluster_scrublet_score', 'doublet_pval', 'doublet_bh_pval', 'n_genes', 'n_counts', 'n_genes_by_counts', 'total_counts', 'total_counts_mt', 'pct_counts_mt', 'total_counts_ribo', 'pct_counts_ribo'\n",
       "    var: 'gene_name_scRNA'\n",
       "    obsm: 'latent_gene_encoding'"
      ]
     },
     "execution_count": 5,
     "metadata": {},
     "output_type": "execute_result"
    }
   ],
   "source": [
    "cell = sc.read_h5ad(f'{adata_dir}/QC/scRNA_adult.h5ad')\n",
    "\n",
    "# tidy up .var\n",
    "cell.var=cell.var[['gene_name']]\n",
    "cell.var.rename(columns={'gene_name':'gene_name_scRNA'},inplace=True)\n",
    "\n",
    "cell"
   ]
  },
  {
   "cell_type": "code",
   "execution_count": 6,
   "id": "incorrect-charm",
   "metadata": {},
   "outputs": [
    {
     "data": {
      "text/plain": [
       "AnnData object with n_obs × n_vars = 369099 × 33538\n",
       "    obs: 'latent_RT_efficiency', 'latent_cell_probability', 'latent_scale', 'sangerID', 'combinedID', 'donor', 'donor_type', 'region', 'region_finest', 'age', 'gender', 'facility', 'cell_or_nuclei', 'modality', 'kit_10x', 'flushed', 'scrublet_score', 'scrublet_leiden', 'cluster_scrublet_score', 'doublet_pval', 'doublet_bh_pval', 'n_genes', 'n_counts', 'n_genes_by_counts', 'total_counts', 'total_counts_mt', 'pct_counts_mt', 'total_counts_ribo', 'pct_counts_ribo'\n",
       "    var: 'gene_name_snRNA'\n",
       "    obsm: 'latent_gene_encoding'"
      ]
     },
     "execution_count": 6,
     "metadata": {},
     "output_type": "execute_result"
    }
   ],
   "source": [
    "nuc = sc.read_h5ad(f'{adata_dir}/QC/snRNA_adult.h5ad')\n",
    "\n",
    "# tidy up .var\n",
    "nuc.var=nuc.var[['gene_name']]\n",
    "nuc.var.rename(columns={'gene_name':'gene_name_snRNA'},inplace=True)\n",
    "\n",
    "nuc"
   ]
  },
  {
   "cell_type": "code",
   "execution_count": 7,
   "id": "afraid-bottle",
   "metadata": {},
   "outputs": [
    {
     "data": {
      "text/plain": [
       "AnnData object with n_obs × n_vars = 164133 × 36601\n",
       "    obs: 'latent_RT_efficiency', 'latent_cell_probability', 'latent_scale', 'sangerID', 'combinedID', 'donor', 'donor_type', 'region', 'region_finest', 'age', 'gender', 'facility', 'cell_or_nuclei', 'modality', 'kit_10x', 'flushed', 'scrublet_score', 'scrublet_leiden', 'cluster_scrublet_score', 'doublet_pval', 'doublet_bh_pval', 'n_genes', 'n_counts', 'n_genes_by_counts', 'total_counts', 'total_counts_mt', 'pct_counts_mt', 'total_counts_ribo', 'pct_counts_ribo'\n",
       "    var: 'gene_name_multiome'\n",
       "    obsm: 'latent_gene_encoding'"
      ]
     },
     "execution_count": 7,
     "metadata": {},
     "output_type": "execute_result"
    }
   ],
   "source": [
    "multi = sc.read_h5ad(f'{adata_dir}/QC/multiome_RNA_adult.h5ad')\n",
    "\n",
    "# tidy up .var\n",
    "multi.var=multi.var[['gene_name']]\n",
    "multi.var.rename(columns={'gene_name':'gene_name_multiome'},inplace=True)\n",
    "\n",
    "multi"
   ]
  },
  {
   "cell_type": "code",
   "execution_count": 9,
   "id": "noted-intelligence",
   "metadata": {},
   "outputs": [
    {
     "data": {
      "text/html": [
       "<div>\n",
       "<style scoped>\n",
       "    .dataframe tbody tr th:only-of-type {\n",
       "        vertical-align: middle;\n",
       "    }\n",
       "\n",
       "    .dataframe tbody tr th {\n",
       "        vertical-align: top;\n",
       "    }\n",
       "\n",
       "    .dataframe thead th {\n",
       "        text-align: right;\n",
       "    }\n",
       "</style>\n",
       "<table border=\"1\" class=\"dataframe\">\n",
       "  <thead>\n",
       "    <tr style=\"text-align: right;\">\n",
       "      <th></th>\n",
       "      <th>gene_name_multiome</th>\n",
       "    </tr>\n",
       "    <tr>\n",
       "      <th>id</th>\n",
       "      <th></th>\n",
       "    </tr>\n",
       "  </thead>\n",
       "  <tbody>\n",
       "    <tr>\n",
       "      <th>ENSG00000243485</th>\n",
       "      <td>MIR1302-2HG</td>\n",
       "    </tr>\n",
       "    <tr>\n",
       "      <th>ENSG00000237613</th>\n",
       "      <td>FAM138A</td>\n",
       "    </tr>\n",
       "    <tr>\n",
       "      <th>ENSG00000186092</th>\n",
       "      <td>OR4F5</td>\n",
       "    </tr>\n",
       "    <tr>\n",
       "      <th>ENSG00000238009</th>\n",
       "      <td>AL627309.1</td>\n",
       "    </tr>\n",
       "    <tr>\n",
       "      <th>ENSG00000239945</th>\n",
       "      <td>AL627309.3</td>\n",
       "    </tr>\n",
       "  </tbody>\n",
       "</table>\n",
       "</div>"
      ],
      "text/plain": [
       "                gene_name_multiome\n",
       "id                                \n",
       "ENSG00000243485        MIR1302-2HG\n",
       "ENSG00000237613            FAM138A\n",
       "ENSG00000186092              OR4F5\n",
       "ENSG00000238009         AL627309.1\n",
       "ENSG00000239945         AL627309.3"
      ]
     },
     "execution_count": 9,
     "metadata": {},
     "output_type": "execute_result"
    }
   ],
   "source": [
    "multi.var.head()"
   ]
  },
  {
   "cell_type": "code",
   "execution_count": null,
   "id": "statistical-police",
   "metadata": {},
   "outputs": [],
   "source": []
  },
  {
   "cell_type": "markdown",
   "id": "creative-blair",
   "metadata": {},
   "source": [
    "## Add souporcell result to multiome data "
   ]
  },
  {
   "cell_type": "markdown",
   "id": "material-refund",
   "metadata": {},
   "source": [
    "* cls_184: HCAHeartST11350184_HCAHeartST11121842\n",
    "* cls_187: HCAHeartST11350187_HCAHeartST11121845"
   ]
  },
  {
   "cell_type": "code",
   "execution_count": 10,
   "id": "stylish-gibson",
   "metadata": {},
   "outputs": [
    {
     "data": {
      "text/html": [
       "<div>\n",
       "<style scoped>\n",
       "    .dataframe tbody tr th:only-of-type {\n",
       "        vertical-align: middle;\n",
       "    }\n",
       "\n",
       "    .dataframe tbody tr th {\n",
       "        vertical-align: top;\n",
       "    }\n",
       "\n",
       "    .dataframe thead th {\n",
       "        text-align: right;\n",
       "    }\n",
       "</style>\n",
       "<table border=\"1\" class=\"dataframe\">\n",
       "  <thead>\n",
       "    <tr style=\"text-align: right;\">\n",
       "      <th></th>\n",
       "      <th>barcode</th>\n",
       "      <th>status</th>\n",
       "      <th>assignment</th>\n",
       "      <th>log_prob_singleton</th>\n",
       "      <th>log_prob_doublet</th>\n",
       "      <th>cluster0</th>\n",
       "      <th>cluster1</th>\n",
       "      <th>donor_predicted</th>\n",
       "      <th>barcode_mod</th>\n",
       "    </tr>\n",
       "  </thead>\n",
       "  <tbody>\n",
       "    <tr>\n",
       "      <th>0</th>\n",
       "      <td>AAACCAACATCTAGCA-1</td>\n",
       "      <td>doublet</td>\n",
       "      <td>0/1</td>\n",
       "      <td>-252.003419</td>\n",
       "      <td>-224.977408</td>\n",
       "      <td>-252.003419</td>\n",
       "      <td>-346.808304</td>\n",
       "      <td>doublet</td>\n",
       "      <td>HCAHeartST11350184_HCAHeartST11121842_AAACCAAC...</td>\n",
       "    </tr>\n",
       "    <tr>\n",
       "      <th>1</th>\n",
       "      <td>AAACCAACATGCAACC-1</td>\n",
       "      <td>doublet</td>\n",
       "      <td>0/1</td>\n",
       "      <td>-288.284411</td>\n",
       "      <td>-260.402236</td>\n",
       "      <td>-288.284411</td>\n",
       "      <td>-442.248382</td>\n",
       "      <td>doublet</td>\n",
       "      <td>HCAHeartST11350184_HCAHeartST11121842_AAACCAAC...</td>\n",
       "    </tr>\n",
       "    <tr>\n",
       "      <th>2</th>\n",
       "      <td>AAACCGAAGGTAACGA-1</td>\n",
       "      <td>singlet</td>\n",
       "      <td>1</td>\n",
       "      <td>-665.436017</td>\n",
       "      <td>-1081.620595</td>\n",
       "      <td>-1811.369579</td>\n",
       "      <td>-665.436017</td>\n",
       "      <td>AH1</td>\n",
       "      <td>HCAHeartST11350184_HCAHeartST11121842_AAACCGAA...</td>\n",
       "    </tr>\n",
       "    <tr>\n",
       "      <th>3</th>\n",
       "      <td>AAACCGCGTTAATCGG-1</td>\n",
       "      <td>singlet</td>\n",
       "      <td>1</td>\n",
       "      <td>-268.993607</td>\n",
       "      <td>-463.228350</td>\n",
       "      <td>-779.368013</td>\n",
       "      <td>-268.993607</td>\n",
       "      <td>AH1</td>\n",
       "      <td>HCAHeartST11350184_HCAHeartST11121842_AAACCGCG...</td>\n",
       "    </tr>\n",
       "    <tr>\n",
       "      <th>4</th>\n",
       "      <td>AAACCGCGTTCATCTA-1</td>\n",
       "      <td>singlet</td>\n",
       "      <td>0</td>\n",
       "      <td>-2637.122174</td>\n",
       "      <td>-3357.156123</td>\n",
       "      <td>-2637.122174</td>\n",
       "      <td>-7364.222276</td>\n",
       "      <td>A61</td>\n",
       "      <td>HCAHeartST11350184_HCAHeartST11121842_AAACCGCG...</td>\n",
       "    </tr>\n",
       "    <tr>\n",
       "      <th>...</th>\n",
       "      <td>...</td>\n",
       "      <td>...</td>\n",
       "      <td>...</td>\n",
       "      <td>...</td>\n",
       "      <td>...</td>\n",
       "      <td>...</td>\n",
       "      <td>...</td>\n",
       "      <td>...</td>\n",
       "      <td>...</td>\n",
       "    </tr>\n",
       "    <tr>\n",
       "      <th>913</th>\n",
       "      <td>TTTGGTAAGGTCGATT-1</td>\n",
       "      <td>singlet</td>\n",
       "      <td>1</td>\n",
       "      <td>-528.369898</td>\n",
       "      <td>-994.608132</td>\n",
       "      <td>-1668.065017</td>\n",
       "      <td>-528.369898</td>\n",
       "      <td>AH1</td>\n",
       "      <td>HCAHeartST11350187_HCAHeartST11121845_TTTGGTAA...</td>\n",
       "    </tr>\n",
       "    <tr>\n",
       "      <th>914</th>\n",
       "      <td>TTTGTGAAGCATGAAG-1</td>\n",
       "      <td>singlet</td>\n",
       "      <td>1</td>\n",
       "      <td>-2639.159898</td>\n",
       "      <td>-4742.346814</td>\n",
       "      <td>-7849.850819</td>\n",
       "      <td>-2639.159898</td>\n",
       "      <td>AH1</td>\n",
       "      <td>HCAHeartST11350187_HCAHeartST11121845_TTTGTGAA...</td>\n",
       "    </tr>\n",
       "    <tr>\n",
       "      <th>915</th>\n",
       "      <td>TTTGTGGCAATCCCTT-1</td>\n",
       "      <td>singlet</td>\n",
       "      <td>1</td>\n",
       "      <td>-608.426084</td>\n",
       "      <td>-1051.713945</td>\n",
       "      <td>-1700.545157</td>\n",
       "      <td>-608.426084</td>\n",
       "      <td>AH1</td>\n",
       "      <td>HCAHeartST11350187_HCAHeartST11121845_TTTGTGGC...</td>\n",
       "    </tr>\n",
       "    <tr>\n",
       "      <th>916</th>\n",
       "      <td>TTTGTGTTCCAAGTTA-1</td>\n",
       "      <td>singlet</td>\n",
       "      <td>1</td>\n",
       "      <td>-234.339311</td>\n",
       "      <td>-422.252106</td>\n",
       "      <td>-692.427089</td>\n",
       "      <td>-234.339311</td>\n",
       "      <td>AH1</td>\n",
       "      <td>HCAHeartST11350187_HCAHeartST11121845_TTTGTGTT...</td>\n",
       "    </tr>\n",
       "    <tr>\n",
       "      <th>917</th>\n",
       "      <td>TTTGTTGGTGTTAAAC-1</td>\n",
       "      <td>singlet</td>\n",
       "      <td>0</td>\n",
       "      <td>-2715.129831</td>\n",
       "      <td>-3328.925349</td>\n",
       "      <td>-2715.129831</td>\n",
       "      <td>-7949.143541</td>\n",
       "      <td>A61</td>\n",
       "      <td>HCAHeartST11350187_HCAHeartST11121845_TTTGTTGG...</td>\n",
       "    </tr>\n",
       "  </tbody>\n",
       "</table>\n",
       "<p>3377 rows × 9 columns</p>\n",
       "</div>"
      ],
      "text/plain": [
       "                barcode   status assignment  log_prob_singleton  \\\n",
       "0    AAACCAACATCTAGCA-1  doublet        0/1         -252.003419   \n",
       "1    AAACCAACATGCAACC-1  doublet        0/1         -288.284411   \n",
       "2    AAACCGAAGGTAACGA-1  singlet          1         -665.436017   \n",
       "3    AAACCGCGTTAATCGG-1  singlet          1         -268.993607   \n",
       "4    AAACCGCGTTCATCTA-1  singlet          0        -2637.122174   \n",
       "..                  ...      ...        ...                 ...   \n",
       "913  TTTGGTAAGGTCGATT-1  singlet          1         -528.369898   \n",
       "914  TTTGTGAAGCATGAAG-1  singlet          1        -2639.159898   \n",
       "915  TTTGTGGCAATCCCTT-1  singlet          1         -608.426084   \n",
       "916  TTTGTGTTCCAAGTTA-1  singlet          1         -234.339311   \n",
       "917  TTTGTTGGTGTTAAAC-1  singlet          0        -2715.129831   \n",
       "\n",
       "     log_prob_doublet     cluster0     cluster1 donor_predicted  \\\n",
       "0         -224.977408  -252.003419  -346.808304         doublet   \n",
       "1         -260.402236  -288.284411  -442.248382         doublet   \n",
       "2        -1081.620595 -1811.369579  -665.436017             AH1   \n",
       "3         -463.228350  -779.368013  -268.993607             AH1   \n",
       "4        -3357.156123 -2637.122174 -7364.222276             A61   \n",
       "..                ...          ...          ...             ...   \n",
       "913       -994.608132 -1668.065017  -528.369898             AH1   \n",
       "914      -4742.346814 -7849.850819 -2639.159898             AH1   \n",
       "915      -1051.713945 -1700.545157  -608.426084             AH1   \n",
       "916       -422.252106  -692.427089  -234.339311             AH1   \n",
       "917      -3328.925349 -2715.129831 -7949.143541             A61   \n",
       "\n",
       "                                           barcode_mod  \n",
       "0    HCAHeartST11350184_HCAHeartST11121842_AAACCAAC...  \n",
       "1    HCAHeartST11350184_HCAHeartST11121842_AAACCAAC...  \n",
       "2    HCAHeartST11350184_HCAHeartST11121842_AAACCGAA...  \n",
       "3    HCAHeartST11350184_HCAHeartST11121842_AAACCGCG...  \n",
       "4    HCAHeartST11350184_HCAHeartST11121842_AAACCGCG...  \n",
       "..                                                 ...  \n",
       "913  HCAHeartST11350187_HCAHeartST11121845_TTTGGTAA...  \n",
       "914  HCAHeartST11350187_HCAHeartST11121845_TTTGTGAA...  \n",
       "915  HCAHeartST11350187_HCAHeartST11121845_TTTGTGGC...  \n",
       "916  HCAHeartST11350187_HCAHeartST11121845_TTTGTGTT...  \n",
       "917  HCAHeartST11350187_HCAHeartST11121845_TTTGTTGG...  \n",
       "\n",
       "[3377 rows x 9 columns]"
      ]
     },
     "execution_count": 10,
     "metadata": {},
     "output_type": "execute_result"
    }
   ],
   "source": [
    "# read in and concatenate\n",
    "soc_184 = pd.read_csv('/nfs/team205/heart/mapped/cellranger-arc200/SOC_out/HCAHeartST11350184_HCAHeartST11121842/ATAC_SOC_common_variants/clusters_donor-distinguished.csv', index_col=0)\n",
    "soc_187 = pd.read_csv('/nfs/team205/heart/mapped/cellranger-arc200/SOC_out/HCAHeartST11350187_HCAHeartST11121845/ATAC_SOC_common_variants/clusters_donor-distinguished.csv', index_col=0)\n",
    "\n",
    "soc = pd.concat([soc_184, soc_187], axis=0)\n",
    "soc"
   ]
  },
  {
   "cell_type": "code",
   "execution_count": 11,
   "id": "australian-guatemala",
   "metadata": {},
   "outputs": [
    {
     "data": {
      "text/html": [
       "<div>\n",
       "<style scoped>\n",
       "    .dataframe tbody tr th:only-of-type {\n",
       "        vertical-align: middle;\n",
       "    }\n",
       "\n",
       "    .dataframe tbody tr th {\n",
       "        vertical-align: top;\n",
       "    }\n",
       "\n",
       "    .dataframe thead th {\n",
       "        text-align: right;\n",
       "    }\n",
       "</style>\n",
       "<table border=\"1\" class=\"dataframe\">\n",
       "  <thead>\n",
       "    <tr style=\"text-align: right;\">\n",
       "      <th></th>\n",
       "      <th>latent_RT_efficiency</th>\n",
       "      <th>latent_cell_probability</th>\n",
       "      <th>latent_scale</th>\n",
       "      <th>sangerID</th>\n",
       "      <th>combinedID</th>\n",
       "      <th>donor</th>\n",
       "      <th>donor_type</th>\n",
       "      <th>region</th>\n",
       "      <th>region_finest</th>\n",
       "      <th>age</th>\n",
       "      <th>...</th>\n",
       "      <th>doublet_bh_pval</th>\n",
       "      <th>n_genes</th>\n",
       "      <th>n_counts</th>\n",
       "      <th>n_genes_by_counts</th>\n",
       "      <th>total_counts</th>\n",
       "      <th>total_counts_mt</th>\n",
       "      <th>pct_counts_mt</th>\n",
       "      <th>total_counts_ribo</th>\n",
       "      <th>pct_counts_ribo</th>\n",
       "      <th>donor_predicted</th>\n",
       "    </tr>\n",
       "    <tr>\n",
       "      <th>barcode</th>\n",
       "      <th></th>\n",
       "      <th></th>\n",
       "      <th></th>\n",
       "      <th></th>\n",
       "      <th></th>\n",
       "      <th></th>\n",
       "      <th></th>\n",
       "      <th></th>\n",
       "      <th></th>\n",
       "      <th></th>\n",
       "      <th></th>\n",
       "      <th></th>\n",
       "      <th></th>\n",
       "      <th></th>\n",
       "      <th></th>\n",
       "      <th></th>\n",
       "      <th></th>\n",
       "      <th></th>\n",
       "      <th></th>\n",
       "      <th></th>\n",
       "      <th></th>\n",
       "    </tr>\n",
       "  </thead>\n",
       "  <tbody>\n",
       "    <tr>\n",
       "      <th>HCAHeart9508627_HCAHeart9508819_AGGAAACGTTTATCGC-1</th>\n",
       "      <td>10.730612</td>\n",
       "      <td>1.0</td>\n",
       "      <td>42174.875000</td>\n",
       "      <td>HCAHeart9508627</td>\n",
       "      <td>HCAHeart9508627_HCAHeart9508819</td>\n",
       "      <td>D3</td>\n",
       "      <td>DBD</td>\n",
       "      <td>LV</td>\n",
       "      <td>LV</td>\n",
       "      <td>55-60</td>\n",
       "      <td>...</td>\n",
       "      <td>0.776992</td>\n",
       "      <td>18356</td>\n",
       "      <td>685946.0</td>\n",
       "      <td>18356</td>\n",
       "      <td>685946.0</td>\n",
       "      <td>5233.0</td>\n",
       "      <td>0.762888</td>\n",
       "      <td>3275.0</td>\n",
       "      <td>0.477443</td>\n",
       "      <td>NaN</td>\n",
       "    </tr>\n",
       "    <tr>\n",
       "      <th>HCAHeart9508627_HCAHeart9508819_CACTAGCCATAATGAG-1</th>\n",
       "      <td>10.228636</td>\n",
       "      <td>1.0</td>\n",
       "      <td>42687.246094</td>\n",
       "      <td>HCAHeart9508627</td>\n",
       "      <td>HCAHeart9508627_HCAHeart9508819</td>\n",
       "      <td>D3</td>\n",
       "      <td>DBD</td>\n",
       "      <td>LV</td>\n",
       "      <td>LV</td>\n",
       "      <td>55-60</td>\n",
       "      <td>...</td>\n",
       "      <td>0.776992</td>\n",
       "      <td>18152</td>\n",
       "      <td>638727.0</td>\n",
       "      <td>18152</td>\n",
       "      <td>638727.0</td>\n",
       "      <td>5685.0</td>\n",
       "      <td>0.890052</td>\n",
       "      <td>3168.0</td>\n",
       "      <td>0.495987</td>\n",
       "      <td>NaN</td>\n",
       "    </tr>\n",
       "    <tr>\n",
       "      <th>HCAHeart9508627_HCAHeart9508819_CGTTTCTCAACTAACT-1</th>\n",
       "      <td>9.976335</td>\n",
       "      <td>1.0</td>\n",
       "      <td>36491.726562</td>\n",
       "      <td>HCAHeart9508627</td>\n",
       "      <td>HCAHeart9508627_HCAHeart9508819</td>\n",
       "      <td>D3</td>\n",
       "      <td>DBD</td>\n",
       "      <td>LV</td>\n",
       "      <td>LV</td>\n",
       "      <td>55-60</td>\n",
       "      <td>...</td>\n",
       "      <td>0.776992</td>\n",
       "      <td>17232</td>\n",
       "      <td>528518.0</td>\n",
       "      <td>17232</td>\n",
       "      <td>528518.0</td>\n",
       "      <td>2407.0</td>\n",
       "      <td>0.455424</td>\n",
       "      <td>2306.0</td>\n",
       "      <td>0.436314</td>\n",
       "      <td>NaN</td>\n",
       "    </tr>\n",
       "    <tr>\n",
       "      <th>HCAHeart9508627_HCAHeart9508819_TGTAAGTGTAAGCACC-1</th>\n",
       "      <td>9.076878</td>\n",
       "      <td>1.0</td>\n",
       "      <td>42754.671875</td>\n",
       "      <td>HCAHeart9508627</td>\n",
       "      <td>HCAHeart9508627_HCAHeart9508819</td>\n",
       "      <td>D3</td>\n",
       "      <td>DBD</td>\n",
       "      <td>LV</td>\n",
       "      <td>LV</td>\n",
       "      <td>55-60</td>\n",
       "      <td>...</td>\n",
       "      <td>0.776992</td>\n",
       "      <td>17748</td>\n",
       "      <td>517194.0</td>\n",
       "      <td>17748</td>\n",
       "      <td>517194.0</td>\n",
       "      <td>4322.0</td>\n",
       "      <td>0.835663</td>\n",
       "      <td>2657.0</td>\n",
       "      <td>0.513734</td>\n",
       "      <td>NaN</td>\n",
       "    </tr>\n",
       "    <tr>\n",
       "      <th>HCAHeart9508627_HCAHeart9508819_ACGTTACAGCATTTCT-1</th>\n",
       "      <td>10.063547</td>\n",
       "      <td>1.0</td>\n",
       "      <td>31437.021484</td>\n",
       "      <td>HCAHeart9508627</td>\n",
       "      <td>HCAHeart9508627_HCAHeart9508819</td>\n",
       "      <td>D3</td>\n",
       "      <td>DBD</td>\n",
       "      <td>LV</td>\n",
       "      <td>LV</td>\n",
       "      <td>55-60</td>\n",
       "      <td>...</td>\n",
       "      <td>0.776992</td>\n",
       "      <td>16344</td>\n",
       "      <td>470623.0</td>\n",
       "      <td>16344</td>\n",
       "      <td>470623.0</td>\n",
       "      <td>1786.0</td>\n",
       "      <td>0.379497</td>\n",
       "      <td>1508.0</td>\n",
       "      <td>0.320426</td>\n",
       "      <td>NaN</td>\n",
       "    </tr>\n",
       "  </tbody>\n",
       "</table>\n",
       "<p>5 rows × 30 columns</p>\n",
       "</div>"
      ],
      "text/plain": [
       "                                                    latent_RT_efficiency  \\\n",
       "barcode                                                                    \n",
       "HCAHeart9508627_HCAHeart9508819_AGGAAACGTTTATCGC-1             10.730612   \n",
       "HCAHeart9508627_HCAHeart9508819_CACTAGCCATAATGAG-1             10.228636   \n",
       "HCAHeart9508627_HCAHeart9508819_CGTTTCTCAACTAACT-1              9.976335   \n",
       "HCAHeart9508627_HCAHeart9508819_TGTAAGTGTAAGCACC-1              9.076878   \n",
       "HCAHeart9508627_HCAHeart9508819_ACGTTACAGCATTTCT-1             10.063547   \n",
       "\n",
       "                                                    latent_cell_probability  \\\n",
       "barcode                                                                       \n",
       "HCAHeart9508627_HCAHeart9508819_AGGAAACGTTTATCGC-1                      1.0   \n",
       "HCAHeart9508627_HCAHeart9508819_CACTAGCCATAATGAG-1                      1.0   \n",
       "HCAHeart9508627_HCAHeart9508819_CGTTTCTCAACTAACT-1                      1.0   \n",
       "HCAHeart9508627_HCAHeart9508819_TGTAAGTGTAAGCACC-1                      1.0   \n",
       "HCAHeart9508627_HCAHeart9508819_ACGTTACAGCATTTCT-1                      1.0   \n",
       "\n",
       "                                                    latent_scale  \\\n",
       "barcode                                                            \n",
       "HCAHeart9508627_HCAHeart9508819_AGGAAACGTTTATCGC-1  42174.875000   \n",
       "HCAHeart9508627_HCAHeart9508819_CACTAGCCATAATGAG-1  42687.246094   \n",
       "HCAHeart9508627_HCAHeart9508819_CGTTTCTCAACTAACT-1  36491.726562   \n",
       "HCAHeart9508627_HCAHeart9508819_TGTAAGTGTAAGCACC-1  42754.671875   \n",
       "HCAHeart9508627_HCAHeart9508819_ACGTTACAGCATTTCT-1  31437.021484   \n",
       "\n",
       "                                                           sangerID  \\\n",
       "barcode                                                               \n",
       "HCAHeart9508627_HCAHeart9508819_AGGAAACGTTTATCGC-1  HCAHeart9508627   \n",
       "HCAHeart9508627_HCAHeart9508819_CACTAGCCATAATGAG-1  HCAHeart9508627   \n",
       "HCAHeart9508627_HCAHeart9508819_CGTTTCTCAACTAACT-1  HCAHeart9508627   \n",
       "HCAHeart9508627_HCAHeart9508819_TGTAAGTGTAAGCACC-1  HCAHeart9508627   \n",
       "HCAHeart9508627_HCAHeart9508819_ACGTTACAGCATTTCT-1  HCAHeart9508627   \n",
       "\n",
       "                                                                         combinedID  \\\n",
       "barcode                                                                               \n",
       "HCAHeart9508627_HCAHeart9508819_AGGAAACGTTTATCGC-1  HCAHeart9508627_HCAHeart9508819   \n",
       "HCAHeart9508627_HCAHeart9508819_CACTAGCCATAATGAG-1  HCAHeart9508627_HCAHeart9508819   \n",
       "HCAHeart9508627_HCAHeart9508819_CGTTTCTCAACTAACT-1  HCAHeart9508627_HCAHeart9508819   \n",
       "HCAHeart9508627_HCAHeart9508819_TGTAAGTGTAAGCACC-1  HCAHeart9508627_HCAHeart9508819   \n",
       "HCAHeart9508627_HCAHeart9508819_ACGTTACAGCATTTCT-1  HCAHeart9508627_HCAHeart9508819   \n",
       "\n",
       "                                                   donor donor_type region  \\\n",
       "barcode                                                                      \n",
       "HCAHeart9508627_HCAHeart9508819_AGGAAACGTTTATCGC-1    D3        DBD     LV   \n",
       "HCAHeart9508627_HCAHeart9508819_CACTAGCCATAATGAG-1    D3        DBD     LV   \n",
       "HCAHeart9508627_HCAHeart9508819_CGTTTCTCAACTAACT-1    D3        DBD     LV   \n",
       "HCAHeart9508627_HCAHeart9508819_TGTAAGTGTAAGCACC-1    D3        DBD     LV   \n",
       "HCAHeart9508627_HCAHeart9508819_ACGTTACAGCATTTCT-1    D3        DBD     LV   \n",
       "\n",
       "                                                   region_finest    age  ...  \\\n",
       "barcode                                                                  ...   \n",
       "HCAHeart9508627_HCAHeart9508819_AGGAAACGTTTATCGC-1            LV  55-60  ...   \n",
       "HCAHeart9508627_HCAHeart9508819_CACTAGCCATAATGAG-1            LV  55-60  ...   \n",
       "HCAHeart9508627_HCAHeart9508819_CGTTTCTCAACTAACT-1            LV  55-60  ...   \n",
       "HCAHeart9508627_HCAHeart9508819_TGTAAGTGTAAGCACC-1            LV  55-60  ...   \n",
       "HCAHeart9508627_HCAHeart9508819_ACGTTACAGCATTTCT-1            LV  55-60  ...   \n",
       "\n",
       "                                                   doublet_bh_pval n_genes  \\\n",
       "barcode                                                                      \n",
       "HCAHeart9508627_HCAHeart9508819_AGGAAACGTTTATCGC-1        0.776992   18356   \n",
       "HCAHeart9508627_HCAHeart9508819_CACTAGCCATAATGAG-1        0.776992   18152   \n",
       "HCAHeart9508627_HCAHeart9508819_CGTTTCTCAACTAACT-1        0.776992   17232   \n",
       "HCAHeart9508627_HCAHeart9508819_TGTAAGTGTAAGCACC-1        0.776992   17748   \n",
       "HCAHeart9508627_HCAHeart9508819_ACGTTACAGCATTTCT-1        0.776992   16344   \n",
       "\n",
       "                                                    n_counts  \\\n",
       "barcode                                                        \n",
       "HCAHeart9508627_HCAHeart9508819_AGGAAACGTTTATCGC-1  685946.0   \n",
       "HCAHeart9508627_HCAHeart9508819_CACTAGCCATAATGAG-1  638727.0   \n",
       "HCAHeart9508627_HCAHeart9508819_CGTTTCTCAACTAACT-1  528518.0   \n",
       "HCAHeart9508627_HCAHeart9508819_TGTAAGTGTAAGCACC-1  517194.0   \n",
       "HCAHeart9508627_HCAHeart9508819_ACGTTACAGCATTTCT-1  470623.0   \n",
       "\n",
       "                                                   n_genes_by_counts  \\\n",
       "barcode                                                                \n",
       "HCAHeart9508627_HCAHeart9508819_AGGAAACGTTTATCGC-1             18356   \n",
       "HCAHeart9508627_HCAHeart9508819_CACTAGCCATAATGAG-1             18152   \n",
       "HCAHeart9508627_HCAHeart9508819_CGTTTCTCAACTAACT-1             17232   \n",
       "HCAHeart9508627_HCAHeart9508819_TGTAAGTGTAAGCACC-1             17748   \n",
       "HCAHeart9508627_HCAHeart9508819_ACGTTACAGCATTTCT-1             16344   \n",
       "\n",
       "                                                   total_counts  \\\n",
       "barcode                                                           \n",
       "HCAHeart9508627_HCAHeart9508819_AGGAAACGTTTATCGC-1     685946.0   \n",
       "HCAHeart9508627_HCAHeart9508819_CACTAGCCATAATGAG-1     638727.0   \n",
       "HCAHeart9508627_HCAHeart9508819_CGTTTCTCAACTAACT-1     528518.0   \n",
       "HCAHeart9508627_HCAHeart9508819_TGTAAGTGTAAGCACC-1     517194.0   \n",
       "HCAHeart9508627_HCAHeart9508819_ACGTTACAGCATTTCT-1     470623.0   \n",
       "\n",
       "                                                   total_counts_mt  \\\n",
       "barcode                                                              \n",
       "HCAHeart9508627_HCAHeart9508819_AGGAAACGTTTATCGC-1          5233.0   \n",
       "HCAHeart9508627_HCAHeart9508819_CACTAGCCATAATGAG-1          5685.0   \n",
       "HCAHeart9508627_HCAHeart9508819_CGTTTCTCAACTAACT-1          2407.0   \n",
       "HCAHeart9508627_HCAHeart9508819_TGTAAGTGTAAGCACC-1          4322.0   \n",
       "HCAHeart9508627_HCAHeart9508819_ACGTTACAGCATTTCT-1          1786.0   \n",
       "\n",
       "                                                    pct_counts_mt  \\\n",
       "barcode                                                             \n",
       "HCAHeart9508627_HCAHeart9508819_AGGAAACGTTTATCGC-1       0.762888   \n",
       "HCAHeart9508627_HCAHeart9508819_CACTAGCCATAATGAG-1       0.890052   \n",
       "HCAHeart9508627_HCAHeart9508819_CGTTTCTCAACTAACT-1       0.455424   \n",
       "HCAHeart9508627_HCAHeart9508819_TGTAAGTGTAAGCACC-1       0.835663   \n",
       "HCAHeart9508627_HCAHeart9508819_ACGTTACAGCATTTCT-1       0.379497   \n",
       "\n",
       "                                                   total_counts_ribo  \\\n",
       "barcode                                                                \n",
       "HCAHeart9508627_HCAHeart9508819_AGGAAACGTTTATCGC-1            3275.0   \n",
       "HCAHeart9508627_HCAHeart9508819_CACTAGCCATAATGAG-1            3168.0   \n",
       "HCAHeart9508627_HCAHeart9508819_CGTTTCTCAACTAACT-1            2306.0   \n",
       "HCAHeart9508627_HCAHeart9508819_TGTAAGTGTAAGCACC-1            2657.0   \n",
       "HCAHeart9508627_HCAHeart9508819_ACGTTACAGCATTTCT-1            1508.0   \n",
       "\n",
       "                                                    pct_counts_ribo  \\\n",
       "barcode                                                               \n",
       "HCAHeart9508627_HCAHeart9508819_AGGAAACGTTTATCGC-1         0.477443   \n",
       "HCAHeart9508627_HCAHeart9508819_CACTAGCCATAATGAG-1         0.495987   \n",
       "HCAHeart9508627_HCAHeart9508819_CGTTTCTCAACTAACT-1         0.436314   \n",
       "HCAHeart9508627_HCAHeart9508819_TGTAAGTGTAAGCACC-1         0.513734   \n",
       "HCAHeart9508627_HCAHeart9508819_ACGTTACAGCATTTCT-1         0.320426   \n",
       "\n",
       "                                                    donor_predicted  \n",
       "barcode                                                              \n",
       "HCAHeart9508627_HCAHeart9508819_AGGAAACGTTTATCGC-1              NaN  \n",
       "HCAHeart9508627_HCAHeart9508819_CACTAGCCATAATGAG-1              NaN  \n",
       "HCAHeart9508627_HCAHeart9508819_CGTTTCTCAACTAACT-1              NaN  \n",
       "HCAHeart9508627_HCAHeart9508819_TGTAAGTGTAAGCACC-1              NaN  \n",
       "HCAHeart9508627_HCAHeart9508819_ACGTTACAGCATTTCT-1              NaN  \n",
       "\n",
       "[5 rows x 30 columns]"
      ]
     },
     "execution_count": 11,
     "metadata": {},
     "output_type": "execute_result"
    }
   ],
   "source": [
    "# add 'donor_predicted' result to the multiome object\n",
    "df = multi.obs.reset_index().copy()\n",
    "df = df.merge(soc[['barcode_mod','donor_predicted']],how='left',left_on='barcode',right_on='barcode_mod')\n",
    "df.drop('barcode_mod',axis='columns',inplace=True)\n",
    "df.set_index('barcode',inplace=True)\n",
    "\n",
    "multi.obs = df.copy()\n",
    "multi.obs.head()"
   ]
  },
  {
   "cell_type": "code",
   "execution_count": 12,
   "id": "laughing-brick",
   "metadata": {},
   "outputs": [
    {
     "data": {
      "text/plain": [
       "<AxesSubplot:xlabel='donor_predicted', ylabel='scrublet_score'>"
      ]
     },
     "execution_count": 12,
     "metadata": {},
     "output_type": "execute_result"
    },
    {
     "data": {
      "image/png": "[encoded data removed]",
      "text/plain": [
       "<Figure size 320x320 with 1 Axes>"
      ]
     },
     "metadata": {},
     "output_type": "display_data"
    }
   ],
   "source": [
    "# just checking the association of 'doublet' and scrublet score\n",
    "\n",
    "df = multi.obs.copy()\n",
    "\n",
    "df = df[df['combinedID'].isin(['HCAHeartST11350184_HCAHeartST11121842','HCAHeartST11350187_HCAHeartST11121845'])]\n",
    "df = df[['scrublet_score','cluster_scrublet_score','doublet_pval','doublet_bh_pval','donor_predicted']]\n",
    "\n",
    "sns.violinplot(x='donor_predicted',y='scrublet_score',data=df)\n",
    "# sns.violinplot(x='donor_predicted',y='doublet_pval',data=df)\n",
    "# sns.violinplot(x='donor_predicted',y='doublet_bh_pval',data=df)"
   ]
  },
  {
   "cell_type": "code",
   "execution_count": null,
   "id": "surprised-australia",
   "metadata": {},
   "outputs": [],
   "source": []
  },
  {
   "cell_type": "markdown",
   "id": "automatic-metro",
   "metadata": {},
   "source": [
    "## Remove observations which weren't assigned genotypes by souporcell"
   ]
  },
  {
   "cell_type": "markdown",
   "id": "interracial-robin",
   "metadata": {},
   "source": [
    "Modifying donor culumns\n",
    "* For AH1_A61\n",
    "    - move 'donor'('AH1-A61') to 'donor_physical'\n",
    "    - move predicted donor label to 'donor'\n",
    "    - keep 'donor_predicted' columns\n",
    "* For others\n",
    "    copy 'donor' to 'donor_physical'"
   ]
  },
  {
   "cell_type": "code",
   "execution_count": 13,
   "id": "regulation-merchandise",
   "metadata": {},
   "outputs": [
    {
     "name": "stderr",
     "output_type": "stream",
     "text": [
      "/home/jovyan/my-conda-envs/cellpymc/lib/python3.7/site-packages/pandas/core/arrays/categorical.py:2487: FutureWarning: The `inplace` parameter in pandas.Categorical.remove_unused_categories is deprecated and will be removed in a future version.\n",
      "  res = method(*args, **kwargs)\n",
      "/home/jovyan/my-conda-envs/cellpymc/lib/python3.7/site-packages/pandas/core/arrays/categorical.py:2487: FutureWarning: The `inplace` parameter in pandas.Categorical.remove_unused_categories is deprecated and will be removed in a future version.\n",
      "  res = method(*args, **kwargs)\n",
      "Trying to set attribute `.obs` of view, copying.\n",
      "Trying to set attribute `.obs` of view, copying.\n"
     ]
    },
    {
     "data": {
      "text/plain": [
       "AnnData object with n_obs × n_vars = 163708 × 36601\n",
       "    obs: 'latent_RT_efficiency', 'latent_cell_probability', 'latent_scale', 'sangerID', 'combinedID', 'donor', 'donor_type', 'region', 'region_finest', 'age', 'gender', 'facility', 'cell_or_nuclei', 'modality', 'kit_10x', 'flushed', 'scrublet_score', 'scrublet_leiden', 'cluster_scrublet_score', 'doublet_pval', 'doublet_bh_pval', 'n_genes', 'n_counts', 'n_genes_by_counts', 'total_counts', 'total_counts_mt', 'pct_counts_mt', 'total_counts_ribo', 'pct_counts_ribo', 'donor_predicted', 'donor_physical'\n",
       "    var: 'gene_name_multiome'\n",
       "    obsm: 'latent_gene_encoding'"
      ]
     },
     "execution_count": 13,
     "metadata": {},
     "output_type": "execute_result"
    }
   ],
   "source": [
    "# separate\n",
    "AH1_A61 = multi[multi.obs['combinedID'].isin(['HCAHeartST11350184_HCAHeartST11121842','HCAHeartST11350187_HCAHeartST11121845'])]\n",
    "multi = multi[multi.obs['combinedID'].isin(['HCAHeartST11350184_HCAHeartST11121842','HCAHeartST11350187_HCAHeartST11121845'])==False]\n",
    "\n",
    "# select assigned observations\n",
    "AH1_A61 = AH1_A61[AH1_A61.obs['donor_predicted'].isin(['A61','AH1'])]\n",
    "\n",
    "# add 'donor_physical' and modify 'donor' column\n",
    "AH1_A61.obs['donor_physical']='AH1-A61'\n",
    "AH1_A61.obs['donor']=AH1_A61.obs['donor_predicted'].astype('str').copy()\n",
    "multi.obs['donor_physical']=multi.obs['donor'].astype('str').copy()\n",
    "\n",
    "# re-concatenate\n",
    "multi = multi.concatenate(AH1_A61, join='inner', batch_key=None, index_unique=None)\n",
    "multi"
   ]
  },
  {
   "cell_type": "code",
   "execution_count": 14,
   "id": "linear-clinton",
   "metadata": {},
   "outputs": [],
   "source": [
    "# add 'donor_physical' column\n",
    "cell.obs['donor_physical']=cell.obs['donor'].astype('str').copy()\n",
    "nuc.obs['donor_physical']=nuc.obs['donor'].astype('str').copy()"
   ]
  },
  {
   "cell_type": "code",
   "execution_count": null,
   "id": "absolute-cedar",
   "metadata": {},
   "outputs": [],
   "source": []
  },
  {
   "cell_type": "markdown",
   "id": "final-bahrain",
   "metadata": {},
   "source": [
    "## Concatenate data"
   ]
  },
  {
   "cell_type": "code",
   "execution_count": 15,
   "id": "olympic-closure",
   "metadata": {},
   "outputs": [
    {
     "data": {
      "text/plain": [
       "AnnData object with n_obs × n_vars = 684473 × 32732\n",
       "    obs: 'latent_RT_efficiency', 'latent_cell_probability', 'latent_scale', 'sangerID', 'combinedID', 'donor', 'donor_type', 'region', 'region_finest', 'age', 'gender', 'facility', 'cell_or_nuclei', 'modality', 'kit_10x', 'flushed', 'scrublet_score', 'scrublet_leiden', 'cluster_scrublet_score', 'doublet_pval', 'doublet_bh_pval', 'n_genes', 'n_counts', 'n_genes_by_counts', 'total_counts', 'total_counts_mt', 'pct_counts_mt', 'total_counts_ribo', 'pct_counts_ribo', 'donor_physical', 'donor_predicted'\n",
       "    var: 'gene_name_scRNA-0', 'gene_name_snRNA-1', 'gene_name_multiome-2'\n",
       "    obsm: 'latent_gene_encoding'"
      ]
     },
     "execution_count": 15,
     "metadata": {},
     "output_type": "execute_result"
    }
   ],
   "source": [
    "adata = cell.concatenate(nuc, multi, join='inner', batch_key=None, index_unique=None)\n",
    "adata"
   ]
  },
  {
   "cell_type": "code",
   "execution_count": 16,
   "id": "about-alpha",
   "metadata": {},
   "outputs": [
    {
     "data": {
      "text/plain": [
       "D6     82476\n",
       "D11    67017\n",
       "AH1    60772\n",
       "D7     57121\n",
       "D2     45881\n",
       "A61    42005\n",
       "H5     39576\n",
       "D8     37031\n",
       "H3     34169\n",
       "H7     33184\n",
       "D3     31937\n",
       "D5     30059\n",
       "D4     28960\n",
       "H6     28726\n",
       "H4     26613\n",
       "H2     22959\n",
       "D1     15987\n",
       "Name: donor, dtype: int64"
      ]
     },
     "execution_count": 16,
     "metadata": {},
     "output_type": "execute_result"
    }
   ],
   "source": [
    "adata.obs['donor'].value_counts()"
   ]
  },
  {
   "cell_type": "code",
   "execution_count": 17,
   "id": "determined-married",
   "metadata": {},
   "outputs": [
    {
     "data": {
      "text/plain": [
       "D6         82476\n",
       "D11        67017\n",
       "AH1        60146\n",
       "D7         57121\n",
       "D2         45881\n",
       "A61        40769\n",
       "H5         39576\n",
       "D8         37031\n",
       "H3         34169\n",
       "H7         33184\n",
       "D3         31937\n",
       "D5         30059\n",
       "D4         28960\n",
       "H6         28726\n",
       "H4         26613\n",
       "H2         22959\n",
       "D1         15987\n",
       "AH1-A61     1862\n",
       "Name: donor_physical, dtype: int64"
      ]
     },
     "execution_count": 17,
     "metadata": {},
     "output_type": "execute_result"
    }
   ],
   "source": [
    "adata.obs['donor_physical'].value_counts()"
   ]
  },
  {
   "cell_type": "code",
   "execution_count": 18,
   "id": "equipped-apache",
   "metadata": {},
   "outputs": [
    {
     "name": "stderr",
     "output_type": "stream",
     "text": [
      "... storing 'sangerID' as categorical\n",
      "... storing 'combinedID' as categorical\n",
      "... storing 'donor' as categorical\n",
      "... storing 'donor_type' as categorical\n",
      "... storing 'region' as categorical\n",
      "... storing 'region_finest' as categorical\n",
      "... storing 'age' as categorical\n",
      "... storing 'gender' as categorical\n",
      "... storing 'facility' as categorical\n",
      "... storing 'cell_or_nuclei' as categorical\n",
      "... storing 'modality' as categorical\n",
      "... storing 'kit_10x' as categorical\n",
      "... storing 'flushed' as categorical\n",
      "... storing 'scrublet_leiden' as categorical\n",
      "... storing 'donor_physical' as categorical\n",
      "... storing 'donor_predicted' as categorical\n"
     ]
    }
   ],
   "source": [
    "# save\n",
    "adata.write(f'{adata_dir}/RNA_adult-8reg_raw.h5ad')"
   ]
  },
  {
   "cell_type": "code",
   "execution_count": null,
   "id": "solved-junction",
   "metadata": {},
   "outputs": [],
   "source": []
  },
  {
   "cell_type": "markdown",
   "id": "absent-belief",
   "metadata": {},
   "source": [
    "## Pre-process"
   ]
  },
  {
   "cell_type": "code",
   "execution_count": 19,
   "id": "residential-scanning",
   "metadata": {},
   "outputs": [
    {
     "name": "stderr",
     "output_type": "stream",
     "text": [
      "filtered out 1349 genes that are detected in less than 3 cells\n",
      "/home/jovyan/my-conda-envs/cellpymc/lib/python3.7/site-packages/pandas/core/arrays/categorical.py:2487: FutureWarning: The `inplace` parameter in pandas.Categorical.remove_unused_categories is deprecated and will be removed in a future version.\n",
      "  res = method(*args, **kwargs)\n",
      "normalizing counts per cell\n",
      "    finished (0:00:05)\n"
     ]
    },
    {
     "data": {
      "text/plain": [
       "(684473, 31383)"
      ]
     },
     "execution_count": 19,
     "metadata": {},
     "output_type": "execute_result"
    }
   ],
   "source": [
    "# preserve raw count\n",
    "adata.layers[\"counts\"] = adata.X.copy()\n",
    "\n",
    "# filter genes\n",
    "sc.pp.filter_genes(adata, min_cells=3)\n",
    "\n",
    "# normalise and log-transform\n",
    "sc.pp.normalize_total(adata, target_sum=1e4)\n",
    "sc.pp.log1p(adata)\n",
    "\n",
    "adata.shape"
   ]
  },
  {
   "cell_type": "code",
   "execution_count": null,
   "id": "million-brighton",
   "metadata": {},
   "outputs": [],
   "source": []
  },
  {
   "cell_type": "markdown",
   "id": "foreign-package",
   "metadata": {},
   "source": [
    "## Set batch_key"
   ]
  },
  {
   "cell_type": "code",
   "execution_count": 20,
   "id": "dated-deposit",
   "metadata": {},
   "outputs": [
    {
     "data": {
      "text/plain": [
       "AH1_Nuclei_Multiome-v1    60772\n",
       "D11_Cell_3prime-v3        53051\n",
       "D2_Nuclei_3prime-v2       45881\n",
       "D6_Cell_3prime-v2         42433\n",
       "A61_Nuclei_Multiome-v1    42005\n",
       "H5_Nuclei_3prime-v3       39576\n",
       "D8_Nuclei_Multiome-v1     37031\n",
       "H3_Nuclei_3prime-v3       34169\n",
       "H7_Nuclei_3prime-v3       33184\n",
       "H6_Nuclei_3prime-v3       28726\n",
       "D4_Nuclei_3prime-v2       27093\n",
       "H4_Nuclei_3prime-v3       26613\n",
       "H2_Nuclei_3prime-v3       22959\n",
       "D5_Nuclei_3prime-v2       22860\n",
       "D3_Nuclei_3prime-v2       22757\n",
       "D6_Cell_3prime-v3         21840\n",
       "D7_Nuclei_Multiome-v1     20464\n",
       "D7_Cell_3prime-v2         19302\n",
       "D6_Nuclei_3prime-v2       18203\n",
       "D7_Nuclei_3prime-v2       17355\n",
       "D1_Nuclei_3prime-v2       15757\n",
       "D11_Nuclei_3prime-v3      13966\n",
       "D5_Cell_3prime-v2          7199\n",
       "D3_Cell_3prime-v2          5744\n",
       "D3_Nuclei_Multiome-v1      3436\n",
       "D4_Cell_3prime-v2          1867\n",
       "D1_Cell_3prime-v2           230\n",
       "Name: batch_key, dtype: int64"
      ]
     },
     "execution_count": 20,
     "metadata": {},
     "output_type": "execute_result"
    }
   ],
   "source": [
    "# combining Donor, Cell_or_Nuclei, and Kit_10X\n",
    "adata.obs['batch_key']=adata.obs['donor'].astype('str')+'_'+adata.obs['cell_or_nuclei'].astype('str')+'_'+adata.obs['kit_10x'].astype('str')\n",
    "adata.obs['batch_key'].value_counts()"
   ]
  },
  {
   "cell_type": "code",
   "execution_count": null,
   "id": "historic-forth",
   "metadata": {},
   "outputs": [],
   "source": []
  },
  {
   "cell_type": "markdown",
   "id": "virtual-albany",
   "metadata": {},
   "source": [
    "## hvg identification"
   ]
  },
  {
   "cell_type": "code",
   "execution_count": 21,
   "id": "proud-criterion",
   "metadata": {},
   "outputs": [
    {
     "name": "stderr",
     "output_type": "stream",
     "text": [
      "extracting highly variable genes\n",
      "... storing 'batch_key' as categorical\n",
      "/home/jovyan/my-conda-envs/cellpymc/lib/python3.7/site-packages/pandas/core/arrays/categorical.py:2487: FutureWarning: The `inplace` parameter in pandas.Categorical.remove_unused_categories is deprecated and will be removed in a future version.\n",
      "  res = method(*args, **kwargs)\n",
      "/home/jovyan/my-conda-envs/cellpymc/lib/python3.7/site-packages/pandas/core/arrays/categorical.py:2487: FutureWarning: The `inplace` parameter in pandas.Categorical.remove_unused_categories is deprecated and will be removed in a future version.\n",
      "  res = method(*args, **kwargs)\n",
      "/home/jovyan/my-conda-envs/cellpymc/lib/python3.7/site-packages/pandas/core/arrays/categorical.py:2487: FutureWarning: The `inplace` parameter in pandas.Categorical.remove_unused_categories is deprecated and will be removed in a future version.\n",
      "  res = method(*args, **kwargs)\n",
      "/home/jovyan/my-conda-envs/cellpymc/lib/python3.7/site-packages/pandas/core/arrays/categorical.py:2487: FutureWarning: The `inplace` parameter in pandas.Categorical.remove_unused_categories is deprecated and will be removed in a future version.\n",
      "  res = method(*args, **kwargs)\n",
      "/home/jovyan/my-conda-envs/cellpymc/lib/python3.7/site-packages/pandas/core/arrays/categorical.py:2487: FutureWarning: The `inplace` parameter in pandas.Categorical.remove_unused_categories is deprecated and will be removed in a future version.\n",
      "  res = method(*args, **kwargs)\n",
      "/home/jovyan/my-conda-envs/cellpymc/lib/python3.7/site-packages/pandas/core/arrays/categorical.py:2487: FutureWarning: The `inplace` parameter in pandas.Categorical.remove_unused_categories is deprecated and will be removed in a future version.\n",
      "  res = method(*args, **kwargs)\n",
      "/home/jovyan/my-conda-envs/cellpymc/lib/python3.7/site-packages/pandas/core/arrays/categorical.py:2487: FutureWarning: The `inplace` parameter in pandas.Categorical.remove_unused_categories is deprecated and will be removed in a future version.\n",
      "  res = method(*args, **kwargs)\n",
      "/home/jovyan/my-conda-envs/cellpymc/lib/python3.7/site-packages/pandas/core/arrays/categorical.py:2487: FutureWarning: The `inplace` parameter in pandas.Categorical.remove_unused_categories is deprecated and will be removed in a future version.\n",
      "  res = method(*args, **kwargs)\n",
      "/home/jovyan/my-conda-envs/cellpymc/lib/python3.7/site-packages/pandas/core/arrays/categorical.py:2487: FutureWarning: The `inplace` parameter in pandas.Categorical.remove_unused_categories is deprecated and will be removed in a future version.\n",
      "  res = method(*args, **kwargs)\n",
      "/home/jovyan/my-conda-envs/cellpymc/lib/python3.7/site-packages/pandas/core/arrays/categorical.py:2487: FutureWarning: The `inplace` parameter in pandas.Categorical.remove_unused_categories is deprecated and will be removed in a future version.\n",
      "  res = method(*args, **kwargs)\n",
      "/home/jovyan/my-conda-envs/cellpymc/lib/python3.7/site-packages/pandas/core/arrays/categorical.py:2487: FutureWarning: The `inplace` parameter in pandas.Categorical.remove_unused_categories is deprecated and will be removed in a future version.\n",
      "  res = method(*args, **kwargs)\n",
      "/home/jovyan/my-conda-envs/cellpymc/lib/python3.7/site-packages/pandas/core/arrays/categorical.py:2487: FutureWarning: The `inplace` parameter in pandas.Categorical.remove_unused_categories is deprecated and will be removed in a future version.\n",
      "  res = method(*args, **kwargs)\n",
      "/home/jovyan/my-conda-envs/cellpymc/lib/python3.7/site-packages/pandas/core/arrays/categorical.py:2487: FutureWarning: The `inplace` parameter in pandas.Categorical.remove_unused_categories is deprecated and will be removed in a future version.\n",
      "  res = method(*args, **kwargs)\n",
      "/home/jovyan/my-conda-envs/cellpymc/lib/python3.7/site-packages/pandas/core/arrays/categorical.py:2487: FutureWarning: The `inplace` parameter in pandas.Categorical.remove_unused_categories is deprecated and will be removed in a future version.\n",
      "  res = method(*args, **kwargs)\n",
      "/home/jovyan/my-conda-envs/cellpymc/lib/python3.7/site-packages/pandas/core/arrays/categorical.py:2487: FutureWarning: The `inplace` parameter in pandas.Categorical.remove_unused_categories is deprecated and will be removed in a future version.\n",
      "  res = method(*args, **kwargs)\n",
      "/home/jovyan/my-conda-envs/cellpymc/lib/python3.7/site-packages/pandas/core/arrays/categorical.py:2487: FutureWarning: The `inplace` parameter in pandas.Categorical.remove_unused_categories is deprecated and will be removed in a future version.\n",
      "  res = method(*args, **kwargs)\n",
      "/home/jovyan/my-conda-envs/cellpymc/lib/python3.7/site-packages/pandas/core/arrays/categorical.py:2487: FutureWarning: The `inplace` parameter in pandas.Categorical.remove_unused_categories is deprecated and will be removed in a future version.\n",
      "  res = method(*args, **kwargs)\n",
      "/home/jovyan/my-conda-envs/cellpymc/lib/python3.7/site-packages/pandas/core/arrays/categorical.py:2487: FutureWarning: The `inplace` parameter in pandas.Categorical.remove_unused_categories is deprecated and will be removed in a future version.\n",
      "  res = method(*args, **kwargs)\n",
      "/home/jovyan/my-conda-envs/cellpymc/lib/python3.7/site-packages/pandas/core/arrays/categorical.py:2487: FutureWarning: The `inplace` parameter in pandas.Categorical.remove_unused_categories is deprecated and will be removed in a future version.\n",
      "  res = method(*args, **kwargs)\n",
      "/home/jovyan/my-conda-envs/cellpymc/lib/python3.7/site-packages/pandas/core/arrays/categorical.py:2487: FutureWarning: The `inplace` parameter in pandas.Categorical.remove_unused_categories is deprecated and will be removed in a future version.\n",
      "  res = method(*args, **kwargs)\n",
      "/home/jovyan/my-conda-envs/cellpymc/lib/python3.7/site-packages/pandas/core/arrays/categorical.py:2487: FutureWarning: The `inplace` parameter in pandas.Categorical.remove_unused_categories is deprecated and will be removed in a future version.\n",
      "  res = method(*args, **kwargs)\n",
      "/home/jovyan/my-conda-envs/cellpymc/lib/python3.7/site-packages/pandas/core/arrays/categorical.py:2487: FutureWarning: The `inplace` parameter in pandas.Categorical.remove_unused_categories is deprecated and will be removed in a future version.\n",
      "  res = method(*args, **kwargs)\n",
      "/home/jovyan/my-conda-envs/cellpymc/lib/python3.7/site-packages/pandas/core/arrays/categorical.py:2487: FutureWarning: The `inplace` parameter in pandas.Categorical.remove_unused_categories is deprecated and will be removed in a future version.\n",
      "  res = method(*args, **kwargs)\n",
      "/home/jovyan/my-conda-envs/cellpymc/lib/python3.7/site-packages/pandas/core/arrays/categorical.py:2487: FutureWarning: The `inplace` parameter in pandas.Categorical.remove_unused_categories is deprecated and will be removed in a future version.\n",
      "  res = method(*args, **kwargs)\n",
      "/home/jovyan/my-conda-envs/cellpymc/lib/python3.7/site-packages/pandas/core/arrays/categorical.py:2487: FutureWarning: The `inplace` parameter in pandas.Categorical.remove_unused_categories is deprecated and will be removed in a future version.\n",
      "  res = method(*args, **kwargs)\n",
      "/home/jovyan/my-conda-envs/cellpymc/lib/python3.7/site-packages/pandas/core/arrays/categorical.py:2487: FutureWarning: The `inplace` parameter in pandas.Categorical.remove_unused_categories is deprecated and will be removed in a future version.\n",
      "  res = method(*args, **kwargs)\n",
      "/home/jovyan/my-conda-envs/cellpymc/lib/python3.7/site-packages/pandas/core/arrays/categorical.py:2487: FutureWarning: The `inplace` parameter in pandas.Categorical.remove_unused_categories is deprecated and will be removed in a future version.\n",
      "  res = method(*args, **kwargs)\n",
      "/home/jovyan/my-conda-envs/cellpymc/lib/python3.7/site-packages/pandas/core/arrays/categorical.py:2487: FutureWarning: The `inplace` parameter in pandas.Categorical.remove_unused_categories is deprecated and will be removed in a future version.\n",
      "  res = method(*args, **kwargs)\n",
      "    finished (0:01:02)\n",
      "--> added\n",
      "    'highly_variable', boolean vector (adata.var)\n",
      "    'means', float vector (adata.var)\n",
      "    'dispersions', float vector (adata.var)\n",
      "    'dispersions_norm', float vector (adata.var)\n"
     ]
    },
    {
     "name": "stdout",
     "output_type": "stream",
     "text": [
      "3063\n"
     ]
    },
    {
     "data": {
      "image/png": "[encoded data removed]",
      "text/plain": [
       "<Figure size 640x320 with 2 Axes>"
      ]
     },
     "metadata": {},
     "output_type": "display_data"
    }
   ],
   "source": [
    "sc.pp.highly_variable_genes(adata, min_mean=0.0125, max_mean=3, min_disp=0.5, batch_key='batch_key')\n",
    "\n",
    "print(sum(adata.var.highly_variable))\n",
    "sc.pl.highly_variable_genes(adata)"
   ]
  },
  {
   "cell_type": "code",
   "execution_count": 22,
   "id": "circular-sperm",
   "metadata": {},
   "outputs": [],
   "source": [
    "# freeze the state in `.raw`\n",
    "adata.raw = adata"
   ]
  },
  {
   "cell_type": "code",
   "execution_count": 23,
   "id": "italian-traffic",
   "metadata": {},
   "outputs": [
    {
     "name": "stderr",
     "output_type": "stream",
     "text": [
      "/home/jovyan/my-conda-envs/cellpymc/lib/python3.7/site-packages/pandas/core/arrays/categorical.py:2487: FutureWarning: The `inplace` parameter in pandas.Categorical.remove_unused_categories is deprecated and will be removed in a future version.\n",
      "  res = method(*args, **kwargs)\n"
     ]
    }
   ],
   "source": [
    "# subset hvgs\n",
    "adata = adata[:, adata.var.highly_variable]"
   ]
  },
  {
   "cell_type": "markdown",
   "id": "biblical-learning",
   "metadata": {},
   "source": [
    "## Save"
   ]
  },
  {
   "cell_type": "code",
   "execution_count": 24,
   "id": "juvenile-corporation",
   "metadata": {},
   "outputs": [],
   "source": [
    "adata.write(f'{adata_dir}/scVI/RNA_adult-8reg_pp.h5ad') # batch_key: Donor, Cell_or_Nuclei, and Kit_10X"
   ]
  },
  {
   "cell_type": "code",
   "execution_count": 25,
   "id": "charitable-nursery",
   "metadata": {},
   "outputs": [
    {
     "data": {
      "text/plain": [
       "View of AnnData object with n_obs × n_vars = 684473 × 3063\n",
       "    obs: 'latent_RT_efficiency', 'latent_cell_probability', 'latent_scale', 'sangerID', 'combinedID', 'donor', 'donor_type', 'region', 'region_finest', 'age', 'gender', 'facility', 'cell_or_nuclei', 'modality', 'kit_10x', 'flushed', 'scrublet_score', 'scrublet_leiden', 'cluster_scrublet_score', 'doublet_pval', 'doublet_bh_pval', 'n_genes', 'n_counts', 'n_genes_by_counts', 'total_counts', 'total_counts_mt', 'pct_counts_mt', 'total_counts_ribo', 'pct_counts_ribo', 'donor_physical', 'donor_predicted', 'batch_key'\n",
       "    var: 'gene_name_scRNA-0', 'gene_name_snRNA-1', 'gene_name_multiome-2', 'n_cells', 'highly_variable', 'means', 'dispersions', 'dispersions_norm', 'highly_variable_nbatches', 'highly_variable_intersection'\n",
       "    uns: 'log1p', 'hvg'\n",
       "    obsm: 'latent_gene_encoding'\n",
       "    layers: 'counts'"
      ]
     },
     "execution_count": 25,
     "metadata": {},
     "output_type": "execute_result"
    }
   ],
   "source": [
    "adata"
   ]
  },
  {
   "cell_type": "code",
   "execution_count": null,
   "id": "imperial-allah",
   "metadata": {},
   "outputs": [],
   "source": []
  },
  {
   "cell_type": "code",
   "execution_count": null,
   "id": "compressed-festival",
   "metadata": {},
   "outputs": [],
   "source": []
  },
  {
   "cell_type": "code",
   "execution_count": null,
   "id": "virtual-recipient",
   "metadata": {},
   "outputs": [],
   "source": []
  },
  {
   "cell_type": "code",
   "execution_count": null,
   "id": "bright-survival",
   "metadata": {},
   "outputs": [],
   "source": []
  },
  {
   "cell_type": "code",
   "execution_count": null,
   "id": "convenient-mortgage",
   "metadata": {},
   "outputs": [],
   "source": []
  }
 ],
 "metadata": {
  "accelerator": "GPU",
  "colab": {
   "name": "kk20-4_Foetal_scVI_Asp-Cao-Peng.ipynb",
   "provenance": []
  },
  "kernelspec": {
   "display_name": "cellpymc",
   "language": "python",
   "name": "cellpymc"
  },
  "language_info": {
   "codemirror_mode": {
    "name": "ipython",
    "version": 3
   },
   "file_extension": ".py",
   "mimetype": "text/x-python",
   "name": "python",
   "nbconvert_exporter": "python",
   "pygments_lexer": "ipython3",
   "version": "3.7.9"
  }
 },
 "nbformat": 4,
 "nbformat_minor": 5
}
