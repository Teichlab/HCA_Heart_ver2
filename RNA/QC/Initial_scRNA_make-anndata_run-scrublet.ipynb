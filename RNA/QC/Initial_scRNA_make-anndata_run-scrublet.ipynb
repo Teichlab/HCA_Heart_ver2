{
 "cells": [
  {
   "cell_type": "markdown",
   "id": "stretch-immunology",
   "metadata": {},
   "source": [
    "* INCLUDE mixed donor sample\n",
    "* REMOVED 5-prime sample\n",
    "* Add lower filtering threshhold for 'total_counts' (not only 'n_genes')\n",
    "* Add AVN samples "
   ]
  },
  {
   "cell_type": "markdown",
   "id": "regular-integration",
   "metadata": {},
   "source": [
    "## Import modules"
   ]
  },
  {
   "cell_type": "code",
   "execution_count": 1,
   "id": "played-shelf",
   "metadata": {},
   "outputs": [],
   "source": [
    "import numpy as np\n",
    "import pandas as pd\n",
    "import scanpy as sc\n",
    "import matplotlib.pyplot as plt\n",
    "import scrublet as scr\n",
    "import session_info"
   ]
  },
  {
   "cell_type": "code",
   "execution_count": 2,
   "id": "capable-black",
   "metadata": {},
   "outputs": [
    {
     "data": {
      "text/html": [
       "<details>\n",
       "<summary>Click to view session information</summary>\n",
       "<pre>\n",
       "-----\n",
       "matplotlib          3.3.4\n",
       "numpy               1.20.1\n",
       "pandas              1.1.4\n",
       "scanpy              1.7.1\n",
       "scrublet            NA\n",
       "session_info        1.0.0\n",
       "-----\n",
       "</pre>\n",
       "<details>\n",
       "<summary>Click to view modules imported as dependencies</summary>\n",
       "<pre>\n",
       "PIL                 8.1.2\n",
       "anndata             0.7.5\n",
       "anyio               NA\n",
       "attr                20.3.0\n",
       "babel               2.9.0\n",
       "backcall            0.2.0\n",
       "brotli              NA\n",
       "cairo               1.20.0\n",
       "certifi             2020.12.05\n",
       "cffi                1.14.5\n",
       "chardet             4.0.0\n",
       "cloudpickle         1.6.0\n",
       "colorama            0.4.4\n",
       "cycler              0.10.0\n",
       "cython_runtime      NA\n",
       "cytoolz             0.11.0\n",
       "dask                2021.03.1\n",
       "dateutil            2.8.1\n",
       "decorator           4.4.2\n",
       "fsspec              0.8.7\n",
       "get_version         2.1\n",
       "google              NA\n",
       "h5py                2.10.0\n",
       "idna                2.10\n",
       "igraph              0.8.3\n",
       "ipykernel           5.5.0\n",
       "ipython_genutils    0.2.0\n",
       "jedi                0.18.0\n",
       "jinja2              2.11.3\n",
       "joblib              1.0.1\n",
       "json5               NA\n",
       "jsonschema          3.2.0\n",
       "jupyter_server      1.4.1\n",
       "jupyterlab_server   2.3.0\n",
       "kiwisolver          1.3.1\n",
       "legacy_api_wrap     0.0.0\n",
       "leidenalg           0.8.3\n",
       "llvmlite            0.34.0\n",
       "louvain             0.7.0\n",
       "markupsafe          1.1.1\n",
       "mpl_toolkits        NA\n",
       "natsort             7.1.1\n",
       "nbclassic           NA\n",
       "nbformat            5.1.2\n",
       "numba               0.51.2\n",
       "numexpr             2.7.3\n",
       "packaging           20.9\n",
       "parso               0.8.1\n",
       "pexpect             4.8.0\n",
       "pickleshare         0.7.5\n",
       "pkg_resources       NA\n",
       "prometheus_client   NA\n",
       "prompt_toolkit      3.0.16\n",
       "psutil              5.8.0\n",
       "ptyprocess          0.7.0\n",
       "pvectorc            NA\n",
       "pyarrow             0.16.0\n",
       "pygments            2.8.0\n",
       "pyparsing           2.4.7\n",
       "pyrsistent          NA\n",
       "pytoml              NA\n",
       "pytz                2021.1\n",
       "requests            2.25.1\n",
       "ruamel              NA\n",
       "scipy               1.6.1\n",
       "send2trash          NA\n",
       "setuptools_scm      NA\n",
       "simplejson          3.17.2\n",
       "sinfo               0.3.1\n",
       "six                 1.15.0\n",
       "sklearn             0.22\n",
       "sniffio             1.2.0\n",
       "socks               1.7.1\n",
       "sphinxcontrib       NA\n",
       "storemagic          NA\n",
       "tables              3.6.1\n",
       "tblib               1.7.0\n",
       "texttable           1.6.3\n",
       "tlz                 0.11.0\n",
       "toolz               0.11.1\n",
       "tornado             6.1\n",
       "traitlets           5.0.5\n",
       "typing_extensions   NA\n",
       "uritemplate         3.0.1\n",
       "urllib3             1.26.3\n",
       "wcwidth             0.2.5\n",
       "yaml                5.1.2\n",
       "zmq                 22.0.3\n",
       "</pre>\n",
       "</details> <!-- seems like this ends pre, so might as well be explicit -->\n",
       "<pre>\n",
       "-----\n",
       "IPython             7.21.0\n",
       "jupyter_client      6.1.11\n",
       "jupyter_core        4.7.1\n",
       "jupyterlab          3.0.9\n",
       "notebook            6.2.0\n",
       "-----\n",
       "Python 3.8.8 | packaged by conda-forge | (default, Feb 20 2021, 16:22:27) [GCC 9.3.0]\n",
       "Linux-4.15.0-112-generic-x86_64-with-glibc2.10\n",
       "-----\n",
       "Session information updated at 2022-06-04 13:50\n",
       "</pre>\n",
       "</details>"
      ],
      "text/plain": [
       "<IPython.core.display.HTML object>"
      ]
     },
     "execution_count": 2,
     "metadata": {},
     "output_type": "execute_result"
    }
   ],
   "source": [
    "sc.settings.verbosity = 3\n",
    "sc.settings.set_figure_params(dpi = 160, color_map = 'RdPu', dpi_save = 180, vector_friendly = True, format = 'svg')\n",
    "session_info.show()"
   ]
  },
  {
   "cell_type": "markdown",
   "id": "textile-yugoslavia",
   "metadata": {},
   "source": [
    "## Functions"
   ]
  },
  {
   "cell_type": "code",
   "execution_count": 3,
   "id": "resistant-relay",
   "metadata": {},
   "outputs": [],
   "source": [
    "\"\"\"Functions for downstream work with outputs of remove-background.\"\"\"\n",
    "\n",
    "# to read cellbender outputs<br>\n",
    "# https://github.com/broadinstitute/CellBender/issues/57\n",
    "\n",
    "import tables\n",
    "import numpy as np\n",
    "import scipy.sparse as sp\n",
    "from typing import Dict\n",
    "\n",
    "\n",
    "def dict_from_h5(file: str) -> Dict[str, np.ndarray]:\n",
    "    \"\"\"Read in everything from an h5 file and put into a dictionary.\"\"\"\n",
    "    d = {}\n",
    "    with tables.open_file(file) as f:\n",
    "        # read in everything\n",
    "        for array in f.walk_nodes(\"/\", \"Array\"):\n",
    "            d[array.name] = array.read()\n",
    "    return d\n",
    "\n",
    "\n",
    "def anndata_from_h5(file: str,\n",
    "                    analyzed_barcodes_only: bool = True) -> 'anndata.AnnData':\n",
    "    \"\"\"Load an output h5 file into an AnnData object for downstream work.\n",
    "\n",
    "    Args:\n",
    "        file: The h5 file\n",
    "        analyzed_barcodes_only: False to load all barcodes, so that the size of\n",
    "            the AnnData object will match the size of the input raw count matrix.\n",
    "            True to load a limited set of barcodes: only those analyzed by the\n",
    "            algorithm. This allows relevant latent variables to be loaded\n",
    "            properly into adata.obs and adata.obsm, rather than adata.uns.\n",
    "\n",
    "    Returns:\n",
    "        adata: The anndata object, populated with inferred latent variables\n",
    "            and metadata.\n",
    "\n",
    "    \"\"\"\n",
    "\n",
    "    try:\n",
    "        import anndata\n",
    "    except ImportError:\n",
    "        raise ImportError('The anndata package must be installed to use the '\n",
    "                          'function anndata_from_h5()')\n",
    "\n",
    "    d = dict_from_h5(file)\n",
    "    X = sp.csc_matrix((d.pop('data'), d.pop('indices'), d.pop('indptr')),\n",
    "                      shape=d.pop('shape')).transpose().tocsr()\n",
    "\n",
    "    if analyzed_barcodes_only:\n",
    "        if 'barcodes_analyzed_inds' in d.keys():\n",
    "            X = X[d['barcodes_analyzed_inds'], :]\n",
    "            d['barcodes'] = d['barcodes'][d['barcodes_analyzed_inds']]\n",
    "        elif 'barcode_indices_for_latents' in d.keys():\n",
    "            X = X[d['barcode_indices_for_latents'], :]\n",
    "            d['barcodes'] = d['barcodes'][d['barcode_indices_for_latents']]\n",
    "        else:\n",
    "            print('Warning: analyzed_barcodes_only=True, but the key '\n",
    "                  '\"barcodes_analyzed_inds\" or \"barcode_indices_for_latents\" '\n",
    "                  'is missing from the h5 file. '\n",
    "                  'Will output all barcodes, and proceed as if '\n",
    "                  'analyzed_barcodes_only=False')\n",
    "\n",
    "    # Construct the count matrix.\n",
    "    adata = anndata.AnnData(X=X,\n",
    "                            obs={'barcode': d.pop('barcodes').astype(str)},\n",
    "                            var={'gene_name': (d.pop('gene_names') if 'gene_names' in d.keys()\n",
    "                                               else d.pop('name')).astype(str)})\n",
    "    adata.obs.set_index('barcode', inplace=True)\n",
    "    adata.var.set_index('gene_name', inplace=True)\n",
    "\n",
    "    # Add other information to the adata object in the appropriate slot.\n",
    "    for key, value in d.items():\n",
    "        try:\n",
    "            value = np.asarray(value)\n",
    "            if len(value.shape) == 0:\n",
    "                adata.uns[key] = value\n",
    "            elif value.shape[0] == X.shape[0]:\n",
    "                if (len(value.shape) < 2) or (value.shape[1] < 2):\n",
    "                    adata.obs[key] = value\n",
    "                else:\n",
    "                    adata.obsm[key] = value\n",
    "            elif value.shape[0] == X.shape[1]:\n",
    "                if value.dtype.name.startswith('bytes'):\n",
    "                    adata.var[key] = value.astype(str)\n",
    "                else:\n",
    "                    adata.var[key] = value\n",
    "            else:\n",
    "                adata.uns[key] = value\n",
    "        except Exception:\n",
    "            print('Unable to load data into AnnData: ', key, value, type(value))\n",
    "\n",
    "    if analyzed_barcodes_only:\n",
    "        for col in adata.obs.columns[adata.obs.columns.str.startswith('barcodes_analyzed')\n",
    "                                     | adata.obs.columns.str.startswith('barcode_indices')]:\n",
    "            try:\n",
    "                del adata.obs[col]\n",
    "            except Exception:\n",
    "                pass\n",
    "\n",
    "    return adata"
   ]
  },
  {
   "cell_type": "code",
   "execution_count": 4,
   "id": "adequate-restaurant",
   "metadata": {},
   "outputs": [],
   "source": [
    "# from https://github.com/Teichlab/mapcloud/blob/master/scripts/starsolo/postprocess.py\n",
    "\n",
    "from statsmodels.stats.multitest import multipletests\n",
    "# from emptydrops.matrix import CountMatrix\n",
    "# from emptydrops import find_nonambient_barcodes\n",
    "import scrublet as scr\n",
    "import scanpy as sc\n",
    "import pandas as pd\n",
    "import numpy as np\n",
    "import scipy\n",
    "\n",
    "#some functions that Ni uses in scanpy scripts to run scrublet\n",
    "#which in turn are inspired by my original notebook on the matter\n",
    "#(extracted from scanpy_scripts 0.2.10 to get around scanpy version incompatibility)\n",
    "def test_outlier(x, upper_mad_only=True):\n",
    "\tmed = np.median(x)\n",
    "\tif upper_mad_only:\n",
    "\t\tmad = np.median(x[x>med] - med) * 1.4826\n",
    "\telse:\n",
    "\t\tmad = np.median(np.abs(x - med)) * 1.4826\n",
    "\tpvals = 1 - scipy.stats.norm.cdf(x, loc=med, scale=mad)\n",
    "\tbh_pvals = multipletests(pvals, method='fdr_bh')[1]\n",
    "\treturn pvals, bh_pvals\n",
    "\n",
    "def run_scrublet(adata, resolution_function=None):\n",
    "\told_verbosity = sc.settings.verbosity\n",
    "\tsc.settings.verbosity = 1\n",
    "\tif resolution_function is None:\n",
    "\t\tresolution_function = lambda x: np.maximum(np.maximum(np.log10(x)-1, 0)**2, 0.1)\n",
    "\tscrub = scr.Scrublet(adata.X)\n",
    "\t#this has the potential to brick for poor quality data\n",
    "\t#if so, abort it and everything downstream\n",
    "\ttry:\n",
    "\t\tds, pd = scrub.scrub_doublets(verbose=False)\n",
    "\texcept:\n",
    "\t\treturn\n",
    "\tadata.obs['scrublet_score'] = ds\n",
    "\n",
    "\tadata_copy = adata.copy()\n",
    "\tsc.pp.filter_genes(adata_copy, min_cells=3)\n",
    "\tsc.pp.normalize_total(adata_copy, target_sum=1e4)\n",
    "\tsc.pp.log1p(adata_copy)\n",
    "\tsc.pp.highly_variable_genes(adata_copy, min_mean=0.0125, max_mean=3, min_disp=0.5, subset=True)\n",
    "\tsc.pp.scale(adata_copy, zero_center=False)\n",
    "\tsc.pp.pca(adata_copy, svd_solver='arpack', zero_center=False)\n",
    "\tsc.pp.neighbors(adata_copy, n_pcs=30)\n",
    "\tsc.tl.umap(adata_copy)\n",
    "\tsc.tl.leiden(adata_copy, resolution=1)\n",
    "\tfor clst in np.unique(adata_copy.obs['leiden']):\n",
    "\t\tclst_size = sum(adata_copy.obs['leiden'] == clst)\n",
    "\t\tsc.tl.leiden(adata_copy, restrict_to=('leiden', [clst]), resolution=resolution_function(clst_size), key_added='leiden_R')\n",
    "\t\tadata_copy.obs['leiden'] = adata_copy.obs['leiden_R']\n",
    "\tclst_meds = []\n",
    "\tfor clst in np.unique(adata_copy.obs['leiden']):\n",
    "\t\tk = adata_copy.obs['leiden'] == clst\n",
    "\t\tclst_med = np.median(adata_copy.obs.loc[k, 'scrublet_score'])\n",
    "\t\tadata_copy.obs.loc[k, 'cluster_scrublet_score'] = clst_med\n",
    "\t\tclst_meds.append(clst_med)\n",
    "\tclst_meds = np.array(clst_meds)\n",
    "\tpvals, bh_pvals = test_outlier(clst_meds)\n",
    "\tfor i, clst in enumerate(np.unique(adata_copy.obs['leiden'])):\n",
    "\t\tk = adata_copy.obs['leiden'] == clst\n",
    "\t\tadata_copy.obs.loc[k, 'pval'] = pvals[i]\n",
    "\t\tadata_copy.obs.loc[k, 'bh_pval'] = bh_pvals[i]\n",
    "\tsc.settings.verbosity = old_verbosity\n",
    "\t#need to also export the clustering, for soupx purposes\n",
    "\tadata.obs['scrublet_leiden'] = adata_copy.obs['leiden']\n",
    "\tadata.obs['scrublet_score'] = adata_copy.obs['scrublet_score']\n",
    "\tadata.obs['cluster_scrublet_score'] = adata_copy.obs['cluster_scrublet_score']\n",
    "\tadata.obs['doublet_pval'] = adata_copy.obs['pval']\n",
    "\tadata.obs['doublet_bh_pval'] = adata_copy.obs['bh_pval']\n",
    "\tdel adata_copy"
   ]
  },
  {
   "cell_type": "markdown",
   "id": "unusual-arbitration",
   "metadata": {},
   "source": [
    "## Create anndata object"
   ]
  },
  {
   "cell_type": "code",
   "execution_count": 5,
   "id": "capable-accent",
   "metadata": {},
   "outputs": [
    {
     "name": "stdout",
     "output_type": "stream",
     "text": [
      "snRNA            94\n",
      "scRNA            54\n",
      "Visium           46\n",
      "Multiome-ATAC    30\n",
      "Multiome-RNA     30\n",
      "snATAC           21\n",
      "Visium-FFPE       4\n",
      "Name: modality, dtype: int64\n"
     ]
    }
   ],
   "source": [
    "# read in metadata\n",
    "metadata = pd.read_csv('/nfs/team205/heart/anndata_objects/8regions/metadata/HeartTeamSamples_Mappeddata_20220531.csv', sep = ',', index_col = None)\n",
    "metadata = metadata[metadata['Publication']=='8regions']\n",
    "\n",
    "print(metadata['modality'].value_counts())"
   ]
  },
  {
   "cell_type": "code",
   "execution_count": 6,
   "id": "olive-array",
   "metadata": {},
   "outputs": [],
   "source": [
    "# select modality\n",
    "metadata = metadata[metadata['modality']=='scRNA']"
   ]
  },
  {
   "cell_type": "code",
   "execution_count": 7,
   "id": "convertible-rocket",
   "metadata": {},
   "outputs": [
    {
     "name": "stdout",
     "output_type": "stream",
     "text": [
      "HCAHeart7606896\n",
      "HCAHeart7656534\n",
      "HCAHeart7656535\n",
      "HCAHeart7656536\n",
      "HCAHeart7656537\n",
      "HCAHeart7656538\n",
      "HCAHeart7728604\n",
      "HCAHeart7728605\n",
      "HCAHeart7728606\n",
      "HCAHeart7728607\n",
      "HCAHeart7728608\n",
      "HCAHeart7728609\n",
      "HCAHeart7745966\n",
      "HCAHeart7745967\n",
      "HCAHeart7745968\n",
      "HCAHeart7745969\n",
      "HCAHeart7745970\n",
      "HCAHeart7751845\n",
      "HCAHeart7843999\n",
      "HCAHeart7844000\n",
      "HCAHeart7844001\n",
      "HCAHeart7844002\n",
      "HCAHeart7844003\n",
      "HCAHeart7844004\n",
      "HCAHeart7850539\n",
      "HCAHeart7850540\n",
      "HCAHeart7850541\n",
      "HCAHeart7850542\n",
      "HCAHeart7850543\n",
      "HCAHeart7850544\n",
      "HCAHeart7850545\n",
      "HCAHeart7850546\n",
      "HCAHeart7850547\n",
      "HCAHeart7850548\n",
      "HCAHeart7850549\n",
      "HCAHeart7850551\n",
      "HCAHeart7905327\n",
      "HCAHeart7905328\n",
      "HCAHeart7905329\n",
      "HCAHeart7905330\n",
      "HCAHeart7905331\n",
      "HCAHeart7905332\n",
      "HCAHeart8102857\n",
      "HCAHeart8102858\n",
      "HCAHeart8102859\n",
      "HCAHeart8102860\n",
      "HCAHeart8102861\n",
      "HCAHeart8102862\n",
      "HCAHeart8102863\n",
      "HCAHeart8102864\n",
      "HCAHeart8102865\n",
      "HCAHeart8102866\n",
      "HCAHeart8102867\n",
      "HCAHeart8102868\n"
     ]
    },
    {
     "data": {
      "text/plain": [
       "(345070, 33538)"
      ]
     },
     "execution_count": 7,
     "metadata": {},
     "output_type": "execute_result"
    }
   ],
   "source": [
    "########### editted: put id to var_names ###########\n",
    "\n",
    "# read in\n",
    "adatas=[]\n",
    "for i in range(len(metadata)):\n",
    "    print(metadata.iloc[i]['sangerID'])\n",
    "    \n",
    "    path=metadata.iloc[i]['CellBender_out']\n",
    "    adatas.append(anndata_from_h5(path + '/' + path.split('/')[-1] + '_cellbender_out_filtered.h5', analyzed_barcodes_only=False))\n",
    "    del path\n",
    "    \n",
    "    # replace var_names with ensembleID\n",
    "    adatas[i].var.reset_index(inplace=True)\n",
    "    if 'id' in adatas[i].var.columns:\n",
    "        adatas[i].var.set_index('id',inplace=True)\n",
    "    else:\n",
    "        adatas[i].var.set_index('genes',inplace=True)\n",
    "    \n",
    "    # modify barcodes\n",
    "    adatas[i].obs.index = metadata.iloc[i]['sangerID'] + '_' + adatas[i].obs.index \n",
    "    \n",
    "    # add metadata\n",
    "    for col in ['sangerID','combinedID', 'donor', 'donor_type', 'region', 'region_finest', 'age',\n",
    "                'gender', 'facility', 'cell_or_nuclei', 'modality', 'kit_10x','flushed']:\n",
    "        adatas[i].obs[col] = metadata.iloc[i][col]\n",
    "\n",
    "\n",
    "# concatenate\n",
    "adata = adatas[0].concatenate(adatas[1:], index_unique = None, batch_key=None)\n",
    "adata.shape"
   ]
  },
  {
   "cell_type": "code",
   "execution_count": 8,
   "id": "editorial-bernard",
   "metadata": {},
   "outputs": [
    {
     "name": "stdout",
     "output_type": "stream",
     "text": [
      "Index(['gene_name', 'ambient_expression'], dtype='object')\n",
      "Index(['gene_name', 'ambient_expression', 'feature_type'], dtype='object')\n",
      "Index(['gene_name', 'ambient_expression', 'feature_type'], dtype='object')\n",
      "Index(['gene_name', 'ambient_expression', 'feature_type'], dtype='object')\n",
      "Index(['gene_name', 'ambient_expression', 'feature_type'], dtype='object')\n",
      "Index(['gene_name', 'ambient_expression', 'feature_type'], dtype='object')\n",
      "Index(['gene_name', 'ambient_expression', 'feature_type'], dtype='object')\n",
      "Index(['gene_name', 'ambient_expression', 'feature_type'], dtype='object')\n",
      "Index(['gene_name', 'ambient_expression', 'feature_type'], dtype='object')\n",
      "Index(['gene_name', 'ambient_expression', 'feature_type'], dtype='object')\n",
      "Index(['gene_name', 'ambient_expression', 'feature_type'], dtype='object')\n",
      "Index(['gene_name', 'ambient_expression', 'feature_type'], dtype='object')\n",
      "Index(['gene_name', 'ambient_expression', 'feature_type'], dtype='object')\n",
      "Index(['gene_name', 'ambient_expression', 'feature_type'], dtype='object')\n",
      "Index(['gene_name', 'ambient_expression', 'feature_type'], dtype='object')\n",
      "Index(['gene_name', 'ambient_expression', 'feature_type'], dtype='object')\n",
      "Index(['gene_name', 'ambient_expression', 'feature_type'], dtype='object')\n",
      "Index(['gene_name', 'ambient_expression', 'feature_type'], dtype='object')\n",
      "Index(['gene_name', 'ambient_expression', 'feature_type'], dtype='object')\n",
      "Index(['gene_name', 'ambient_expression', 'feature_type'], dtype='object')\n",
      "Index(['gene_name', 'ambient_expression', 'feature_type'], dtype='object')\n",
      "Index(['gene_name', 'ambient_expression', 'feature_type'], dtype='object')\n",
      "Index(['gene_name', 'ambient_expression', 'feature_type'], dtype='object')\n",
      "Index(['gene_name', 'ambient_expression', 'feature_type'], dtype='object')\n",
      "Index(['gene_name', 'ambient_expression'], dtype='object')\n",
      "Index(['gene_name', 'ambient_expression'], dtype='object')\n",
      "Index(['gene_name', 'ambient_expression'], dtype='object')\n",
      "Index(['gene_name', 'ambient_expression'], dtype='object')\n",
      "Index(['gene_name', 'ambient_expression'], dtype='object')\n",
      "Index(['gene_name', 'ambient_expression'], dtype='object')\n",
      "Index(['gene_name', 'ambient_expression'], dtype='object')\n",
      "Index(['gene_name', 'ambient_expression'], dtype='object')\n",
      "Index(['gene_name', 'ambient_expression'], dtype='object')\n",
      "Index(['gene_name', 'ambient_expression'], dtype='object')\n",
      "Index(['gene_name', 'ambient_expression'], dtype='object')\n",
      "Index(['gene_name', 'ambient_expression'], dtype='object')\n",
      "Index(['gene_name', 'ambient_expression', 'feature_type'], dtype='object')\n",
      "Index(['gene_name', 'ambient_expression', 'feature_type'], dtype='object')\n",
      "Index(['gene_name', 'ambient_expression', 'feature_type'], dtype='object')\n",
      "Index(['gene_name', 'ambient_expression', 'feature_type'], dtype='object')\n",
      "Index(['gene_name', 'ambient_expression', 'feature_type'], dtype='object')\n",
      "Index(['gene_name', 'ambient_expression', 'feature_type'], dtype='object')\n",
      "Index(['gene_name', 'ambient_expression'], dtype='object')\n",
      "Index(['gene_name', 'ambient_expression'], dtype='object')\n",
      "Index(['gene_name', 'ambient_expression'], dtype='object')\n",
      "Index(['gene_name', 'ambient_expression'], dtype='object')\n",
      "Index(['gene_name', 'ambient_expression'], dtype='object')\n",
      "Index(['gene_name', 'ambient_expression'], dtype='object')\n",
      "Index(['gene_name', 'ambient_expression'], dtype='object')\n",
      "Index(['gene_name', 'ambient_expression'], dtype='object')\n",
      "Index(['gene_name', 'ambient_expression'], dtype='object')\n",
      "Index(['gene_name', 'ambient_expression'], dtype='object')\n",
      "Index(['gene_name', 'ambient_expression'], dtype='object')\n",
      "Index(['gene_name', 'ambient_expression'], dtype='object')\n"
     ]
    }
   ],
   "source": [
    "for i in range(len(adatas)):\n",
    "    print(adatas[i].var.columns)"
   ]
  },
  {
   "cell_type": "code",
   "execution_count": 9,
   "id": "alleged-square",
   "metadata": {},
   "outputs": [
    {
     "data": {
      "text/plain": [
       "HCAHeart8102861    15000\n",
       "HCAHeart8102860    15000\n",
       "HCAHeart8102862    15000\n",
       "HCAHeart8102857    15000\n",
       "HCAHeart7728605    15000\n",
       "HCAHeart8102859    15000\n",
       "HCAHeart7844003    15000\n",
       "HCAHeart7844001    14995\n",
       "HCAHeart8102866    14993\n",
       "HCAHeart8102868    14993\n",
       "HCAHeart8102858    14554\n",
       "HCAHeart7844004    14277\n",
       "HCAHeart7745968    12255\n",
       "HCAHeart7728606    12014\n",
       "HCAHeart7745969     8804\n",
       "HCAHeart7656536     8019\n",
       "HCAHeart8102865     7855\n",
       "HCAHeart7843999     7738\n",
       "HCAHeart8102867     7695\n",
       "HCAHeart7905328     7632\n",
       "HCAHeart7728607     6500\n",
       "HCAHeart7905327     5900\n",
       "HCAHeart7905332     5896\n",
       "HCAHeart7850549     5412\n",
       "HCAHeart7745967     5096\n",
       "HCAHeart7844000     4851\n",
       "HCAHeart7850551     4838\n",
       "HCAHeart7850546     4758\n",
       "HCAHeart7850548     4288\n",
       "HCAHeart7850547     3910\n",
       "HCAHeart8102864     3829\n",
       "HCAHeart7850540     3826\n",
       "HCAHeart7905331     3674\n",
       "HCAHeart7844002     3605\n",
       "HCAHeart7656538     2661\n",
       "HCAHeart7745966     2332\n",
       "HCAHeart7751845     2213\n",
       "HCAHeart7905330     2166\n",
       "HCAHeart7905329     1791\n",
       "HCAHeart7850541     1731\n",
       "HCAHeart7850545     1516\n",
       "HCAHeart7728604     1477\n",
       "HCAHeart7850543     1402\n",
       "HCAHeart7850544     1365\n",
       "HCAHeart7656534     1354\n",
       "HCAHeart7850542     1237\n",
       "HCAHeart8102863     1203\n",
       "HCAHeart7656537     1053\n",
       "HCAHeart7745970      837\n",
       "HCAHeart7850539      837\n",
       "HCAHeart7728608      806\n",
       "HCAHeart7656535      647\n",
       "HCAHeart7606896      621\n",
       "HCAHeart7728609      614\n",
       "Name: sangerID, dtype: int64"
      ]
     },
     "execution_count": 9,
     "metadata": {},
     "output_type": "execute_result"
    }
   ],
   "source": [
    "adata.obs['sangerID'].value_counts()"
   ]
  },
  {
   "cell_type": "code",
   "execution_count": null,
   "id": "hazardous-enough",
   "metadata": {},
   "outputs": [],
   "source": []
  },
  {
   "cell_type": "markdown",
   "id": "limited-quarter",
   "metadata": {},
   "source": [
    "## Run scrublet"
   ]
  },
  {
   "cell_type": "code",
   "execution_count": 12,
   "id": "speaking-superior",
   "metadata": {},
   "outputs": [
    {
     "name": "stdout",
     "output_type": "stream",
     "text": [
      "HCAHeart7606896\n"
     ]
    },
    {
     "name": "stderr",
     "output_type": "stream",
     "text": [
      "/opt/conda/envs/teichlab/lib/python3.8/site-packages/scrublet/helper_functions.py:321: RuntimeWarning: divide by zero encountered in true_divide\n",
      "  w.setdiag(float(target_total) / tots_use)\n",
      "WARNING: Some cells have total count of genes equal to zero\n"
     ]
    },
    {
     "name": "stdout",
     "output_type": "stream",
     "text": [
      "HCAHeart7656534\n"
     ]
    },
    {
     "name": "stderr",
     "output_type": "stream",
     "text": [
      "/opt/conda/envs/teichlab/lib/python3.8/site-packages/scrublet/helper_functions.py:321: RuntimeWarning: divide by zero encountered in true_divide\n",
      "  w.setdiag(float(target_total) / tots_use)\n",
      "WARNING: Some cells have total count of genes equal to zero\n"
     ]
    },
    {
     "name": "stdout",
     "output_type": "stream",
     "text": [
      "HCAHeart7656535\n"
     ]
    },
    {
     "name": "stderr",
     "output_type": "stream",
     "text": [
      "/opt/conda/envs/teichlab/lib/python3.8/site-packages/scrublet/helper_functions.py:321: RuntimeWarning: divide by zero encountered in true_divide\n",
      "  w.setdiag(float(target_total) / tots_use)\n",
      "WARNING: Some cells have total count of genes equal to zero\n"
     ]
    },
    {
     "name": "stdout",
     "output_type": "stream",
     "text": [
      "HCAHeart7656536\n"
     ]
    },
    {
     "name": "stderr",
     "output_type": "stream",
     "text": [
      "/opt/conda/envs/teichlab/lib/python3.8/site-packages/scrublet/helper_functions.py:321: RuntimeWarning: divide by zero encountered in true_divide\n",
      "  w.setdiag(float(target_total) / tots_use)\n",
      "WARNING: Some cells have total count of genes equal to zero\n"
     ]
    },
    {
     "name": "stdout",
     "output_type": "stream",
     "text": [
      "HCAHeart7656537\n"
     ]
    },
    {
     "name": "stderr",
     "output_type": "stream",
     "text": [
      "/opt/conda/envs/teichlab/lib/python3.8/site-packages/scrublet/helper_functions.py:321: RuntimeWarning: divide by zero encountered in true_divide\n",
      "  w.setdiag(float(target_total) / tots_use)\n",
      "WARNING: Some cells have total count of genes equal to zero\n"
     ]
    },
    {
     "name": "stdout",
     "output_type": "stream",
     "text": [
      "HCAHeart7656538\n"
     ]
    },
    {
     "name": "stderr",
     "output_type": "stream",
     "text": [
      "/opt/conda/envs/teichlab/lib/python3.8/site-packages/scrublet/helper_functions.py:321: RuntimeWarning: divide by zero encountered in true_divide\n",
      "  w.setdiag(float(target_total) / tots_use)\n",
      "WARNING: Some cells have total count of genes equal to zero\n"
     ]
    },
    {
     "name": "stdout",
     "output_type": "stream",
     "text": [
      "HCAHeart7728604\n"
     ]
    },
    {
     "name": "stderr",
     "output_type": "stream",
     "text": [
      "/opt/conda/envs/teichlab/lib/python3.8/site-packages/scrublet/helper_functions.py:321: RuntimeWarning: divide by zero encountered in true_divide\n",
      "  w.setdiag(float(target_total) / tots_use)\n",
      "WARNING: Some cells have total count of genes equal to zero\n"
     ]
    },
    {
     "name": "stdout",
     "output_type": "stream",
     "text": [
      "HCAHeart7728605\n",
      "HCAHeart7728606\n"
     ]
    },
    {
     "name": "stderr",
     "output_type": "stream",
     "text": [
      "/opt/conda/envs/teichlab/lib/python3.8/site-packages/scrublet/helper_functions.py:321: RuntimeWarning: divide by zero encountered in true_divide\n",
      "  w.setdiag(float(target_total) / tots_use)\n",
      "WARNING: Some cells have total count of genes equal to zero\n"
     ]
    },
    {
     "name": "stdout",
     "output_type": "stream",
     "text": [
      "HCAHeart7728607\n"
     ]
    },
    {
     "name": "stderr",
     "output_type": "stream",
     "text": [
      "/opt/conda/envs/teichlab/lib/python3.8/site-packages/scrublet/helper_functions.py:321: RuntimeWarning: divide by zero encountered in true_divide\n",
      "  w.setdiag(float(target_total) / tots_use)\n",
      "WARNING: Some cells have total count of genes equal to zero\n"
     ]
    },
    {
     "name": "stdout",
     "output_type": "stream",
     "text": [
      "HCAHeart7728608\n"
     ]
    },
    {
     "name": "stderr",
     "output_type": "stream",
     "text": [
      "/opt/conda/envs/teichlab/lib/python3.8/site-packages/scrublet/helper_functions.py:321: RuntimeWarning: divide by zero encountered in true_divide\n",
      "  w.setdiag(float(target_total) / tots_use)\n",
      "WARNING: Some cells have total count of genes equal to zero\n"
     ]
    },
    {
     "name": "stdout",
     "output_type": "stream",
     "text": [
      "HCAHeart7728609\n",
      "HCAHeart7745966\n"
     ]
    },
    {
     "name": "stderr",
     "output_type": "stream",
     "text": [
      "/opt/conda/envs/teichlab/lib/python3.8/site-packages/scrublet/helper_functions.py:321: RuntimeWarning: divide by zero encountered in true_divide\n",
      "  w.setdiag(float(target_total) / tots_use)\n",
      "/opt/conda/envs/teichlab/lib/python3.8/site-packages/scrublet/helper_functions.py:321: RuntimeWarning: divide by zero encountered in true_divide\n",
      "  w.setdiag(float(target_total) / tots_use)\n",
      "WARNING: Some cells have total count of genes equal to zero\n"
     ]
    },
    {
     "name": "stdout",
     "output_type": "stream",
     "text": [
      "HCAHeart7745967\n"
     ]
    },
    {
     "name": "stderr",
     "output_type": "stream",
     "text": [
      "/opt/conda/envs/teichlab/lib/python3.8/site-packages/scrublet/helper_functions.py:321: RuntimeWarning: divide by zero encountered in true_divide\n",
      "  w.setdiag(float(target_total) / tots_use)\n",
      "WARNING: Some cells have total count of genes equal to zero\n"
     ]
    },
    {
     "name": "stdout",
     "output_type": "stream",
     "text": [
      "HCAHeart7745968\n"
     ]
    },
    {
     "name": "stderr",
     "output_type": "stream",
     "text": [
      "/opt/conda/envs/teichlab/lib/python3.8/site-packages/scrublet/helper_functions.py:321: RuntimeWarning: divide by zero encountered in true_divide\n",
      "  w.setdiag(float(target_total) / tots_use)\n",
      "WARNING: Some cells have total count of genes equal to zero\n"
     ]
    },
    {
     "name": "stdout",
     "output_type": "stream",
     "text": [
      "HCAHeart7745969\n"
     ]
    },
    {
     "name": "stderr",
     "output_type": "stream",
     "text": [
      "/opt/conda/envs/teichlab/lib/python3.8/site-packages/scrublet/helper_functions.py:321: RuntimeWarning: divide by zero encountered in true_divide\n",
      "  w.setdiag(float(target_total) / tots_use)\n",
      "WARNING: Some cells have total count of genes equal to zero\n"
     ]
    },
    {
     "name": "stdout",
     "output_type": "stream",
     "text": [
      "HCAHeart7745970\n"
     ]
    },
    {
     "name": "stderr",
     "output_type": "stream",
     "text": [
      "/opt/conda/envs/teichlab/lib/python3.8/site-packages/scrublet/helper_functions.py:321: RuntimeWarning: divide by zero encountered in true_divide\n",
      "  w.setdiag(float(target_total) / tots_use)\n",
      "WARNING: Some cells have total count of genes equal to zero\n"
     ]
    },
    {
     "name": "stdout",
     "output_type": "stream",
     "text": [
      "HCAHeart7751845\n"
     ]
    },
    {
     "name": "stderr",
     "output_type": "stream",
     "text": [
      "/opt/conda/envs/teichlab/lib/python3.8/site-packages/scrublet/helper_functions.py:321: RuntimeWarning: divide by zero encountered in true_divide\n",
      "  w.setdiag(float(target_total) / tots_use)\n",
      "WARNING: Some cells have total count of genes equal to zero\n"
     ]
    },
    {
     "name": "stdout",
     "output_type": "stream",
     "text": [
      "HCAHeart7843999\n"
     ]
    },
    {
     "name": "stderr",
     "output_type": "stream",
     "text": [
      "/opt/conda/envs/teichlab/lib/python3.8/site-packages/scrublet/helper_functions.py:321: RuntimeWarning: divide by zero encountered in true_divide\n",
      "  w.setdiag(float(target_total) / tots_use)\n",
      "WARNING: Some cells have total count of genes equal to zero\n"
     ]
    },
    {
     "name": "stdout",
     "output_type": "stream",
     "text": [
      "HCAHeart7844000\n"
     ]
    },
    {
     "name": "stderr",
     "output_type": "stream",
     "text": [
      "/opt/conda/envs/teichlab/lib/python3.8/site-packages/scrublet/helper_functions.py:321: RuntimeWarning: divide by zero encountered in true_divide\n",
      "  w.setdiag(float(target_total) / tots_use)\n",
      "WARNING: Some cells have total count of genes equal to zero\n"
     ]
    },
    {
     "name": "stdout",
     "output_type": "stream",
     "text": [
      "HCAHeart7844001\n",
      "HCAHeart7844002\n"
     ]
    },
    {
     "name": "stderr",
     "output_type": "stream",
     "text": [
      "/opt/conda/envs/teichlab/lib/python3.8/site-packages/scrublet/helper_functions.py:321: RuntimeWarning: divide by zero encountered in true_divide\n",
      "  w.setdiag(float(target_total) / tots_use)\n",
      "WARNING: Some cells have total count of genes equal to zero\n"
     ]
    },
    {
     "name": "stdout",
     "output_type": "stream",
     "text": [
      "HCAHeart7844003\n",
      "HCAHeart7844004\n"
     ]
    },
    {
     "name": "stderr",
     "output_type": "stream",
     "text": [
      "/opt/conda/envs/teichlab/lib/python3.8/site-packages/scrublet/helper_functions.py:321: RuntimeWarning: divide by zero encountered in true_divide\n",
      "  w.setdiag(float(target_total) / tots_use)\n",
      "WARNING: Some cells have total count of genes equal to zero\n"
     ]
    },
    {
     "name": "stdout",
     "output_type": "stream",
     "text": [
      "HCAHeart7850539\n"
     ]
    },
    {
     "name": "stderr",
     "output_type": "stream",
     "text": [
      "/opt/conda/envs/teichlab/lib/python3.8/site-packages/scrublet/helper_functions.py:321: RuntimeWarning: divide by zero encountered in true_divide\n",
      "  w.setdiag(float(target_total) / tots_use)\n",
      "WARNING: Some cells have total count of genes equal to zero\n"
     ]
    },
    {
     "name": "stdout",
     "output_type": "stream",
     "text": [
      "HCAHeart7850540\n"
     ]
    },
    {
     "name": "stderr",
     "output_type": "stream",
     "text": [
      "/opt/conda/envs/teichlab/lib/python3.8/site-packages/scrublet/helper_functions.py:321: RuntimeWarning: divide by zero encountered in true_divide\n",
      "  w.setdiag(float(target_total) / tots_use)\n",
      "WARNING: Some cells have total count of genes equal to zero\n"
     ]
    },
    {
     "name": "stdout",
     "output_type": "stream",
     "text": [
      "HCAHeart7850541\n"
     ]
    },
    {
     "name": "stderr",
     "output_type": "stream",
     "text": [
      "/opt/conda/envs/teichlab/lib/python3.8/site-packages/scrublet/helper_functions.py:321: RuntimeWarning: divide by zero encountered in true_divide\n",
      "  w.setdiag(float(target_total) / tots_use)\n",
      "WARNING: Some cells have total count of genes equal to zero\n"
     ]
    },
    {
     "name": "stdout",
     "output_type": "stream",
     "text": [
      "HCAHeart7850542\n"
     ]
    },
    {
     "name": "stderr",
     "output_type": "stream",
     "text": [
      "/opt/conda/envs/teichlab/lib/python3.8/site-packages/scrublet/helper_functions.py:321: RuntimeWarning: divide by zero encountered in true_divide\n",
      "  w.setdiag(float(target_total) / tots_use)\n",
      "WARNING: Some cells have total count of genes equal to zero\n"
     ]
    },
    {
     "name": "stdout",
     "output_type": "stream",
     "text": [
      "HCAHeart7850543\n"
     ]
    },
    {
     "name": "stderr",
     "output_type": "stream",
     "text": [
      "/opt/conda/envs/teichlab/lib/python3.8/site-packages/scrublet/helper_functions.py:321: RuntimeWarning: divide by zero encountered in true_divide\n",
      "  w.setdiag(float(target_total) / tots_use)\n",
      "WARNING: Some cells have total count of genes equal to zero\n"
     ]
    },
    {
     "name": "stdout",
     "output_type": "stream",
     "text": [
      "HCAHeart7850544\n"
     ]
    },
    {
     "name": "stderr",
     "output_type": "stream",
     "text": [
      "/opt/conda/envs/teichlab/lib/python3.8/site-packages/scrublet/helper_functions.py:321: RuntimeWarning: divide by zero encountered in true_divide\n",
      "  w.setdiag(float(target_total) / tots_use)\n",
      "WARNING: Some cells have total count of genes equal to zero\n"
     ]
    },
    {
     "name": "stdout",
     "output_type": "stream",
     "text": [
      "HCAHeart7850545\n"
     ]
    },
    {
     "name": "stderr",
     "output_type": "stream",
     "text": [
      "/opt/conda/envs/teichlab/lib/python3.8/site-packages/scrublet/helper_functions.py:321: RuntimeWarning: divide by zero encountered in true_divide\n",
      "  w.setdiag(float(target_total) / tots_use)\n",
      "WARNING: Some cells have total count of genes equal to zero\n"
     ]
    },
    {
     "name": "stdout",
     "output_type": "stream",
     "text": [
      "HCAHeart7850546\n"
     ]
    },
    {
     "name": "stderr",
     "output_type": "stream",
     "text": [
      "/opt/conda/envs/teichlab/lib/python3.8/site-packages/scrublet/helper_functions.py:321: RuntimeWarning: divide by zero encountered in true_divide\n",
      "  w.setdiag(float(target_total) / tots_use)\n",
      "WARNING: Some cells have total count of genes equal to zero\n"
     ]
    },
    {
     "name": "stdout",
     "output_type": "stream",
     "text": [
      "HCAHeart7850547\n"
     ]
    },
    {
     "name": "stderr",
     "output_type": "stream",
     "text": [
      "/opt/conda/envs/teichlab/lib/python3.8/site-packages/scrublet/helper_functions.py:321: RuntimeWarning: divide by zero encountered in true_divide\n",
      "  w.setdiag(float(target_total) / tots_use)\n",
      "WARNING: Some cells have total count of genes equal to zero\n"
     ]
    },
    {
     "name": "stdout",
     "output_type": "stream",
     "text": [
      "HCAHeart7850548\n"
     ]
    },
    {
     "name": "stderr",
     "output_type": "stream",
     "text": [
      "/opt/conda/envs/teichlab/lib/python3.8/site-packages/scrublet/helper_functions.py:321: RuntimeWarning: divide by zero encountered in true_divide\n",
      "  w.setdiag(float(target_total) / tots_use)\n",
      "WARNING: Some cells have total count of genes equal to zero\n"
     ]
    },
    {
     "name": "stdout",
     "output_type": "stream",
     "text": [
      "HCAHeart7850549\n"
     ]
    },
    {
     "name": "stderr",
     "output_type": "stream",
     "text": [
      "/opt/conda/envs/teichlab/lib/python3.8/site-packages/scrublet/helper_functions.py:321: RuntimeWarning: divide by zero encountered in true_divide\n",
      "  w.setdiag(float(target_total) / tots_use)\n",
      "WARNING: Some cells have total count of genes equal to zero\n"
     ]
    },
    {
     "name": "stdout",
     "output_type": "stream",
     "text": [
      "HCAHeart7850551\n"
     ]
    },
    {
     "name": "stderr",
     "output_type": "stream",
     "text": [
      "/opt/conda/envs/teichlab/lib/python3.8/site-packages/scrublet/helper_functions.py:321: RuntimeWarning: divide by zero encountered in true_divide\n",
      "  w.setdiag(float(target_total) / tots_use)\n",
      "WARNING: Some cells have total count of genes equal to zero\n"
     ]
    },
    {
     "name": "stdout",
     "output_type": "stream",
     "text": [
      "HCAHeart7905327\n"
     ]
    },
    {
     "name": "stderr",
     "output_type": "stream",
     "text": [
      "/opt/conda/envs/teichlab/lib/python3.8/site-packages/scrublet/helper_functions.py:321: RuntimeWarning: divide by zero encountered in true_divide\n",
      "  w.setdiag(float(target_total) / tots_use)\n",
      "WARNING: Some cells have total count of genes equal to zero\n"
     ]
    },
    {
     "name": "stdout",
     "output_type": "stream",
     "text": [
      "HCAHeart7905328\n"
     ]
    },
    {
     "name": "stderr",
     "output_type": "stream",
     "text": [
      "/opt/conda/envs/teichlab/lib/python3.8/site-packages/scrublet/helper_functions.py:321: RuntimeWarning: divide by zero encountered in true_divide\n",
      "  w.setdiag(float(target_total) / tots_use)\n",
      "WARNING: Some cells have total count of genes equal to zero\n"
     ]
    },
    {
     "name": "stdout",
     "output_type": "stream",
     "text": [
      "HCAHeart7905329\n"
     ]
    },
    {
     "name": "stderr",
     "output_type": "stream",
     "text": [
      "/opt/conda/envs/teichlab/lib/python3.8/site-packages/scrublet/helper_functions.py:321: RuntimeWarning: divide by zero encountered in true_divide\n",
      "  w.setdiag(float(target_total) / tots_use)\n",
      "WARNING: Some cells have total count of genes equal to zero\n"
     ]
    },
    {
     "name": "stdout",
     "output_type": "stream",
     "text": [
      "HCAHeart7905330\n"
     ]
    },
    {
     "name": "stderr",
     "output_type": "stream",
     "text": [
      "/opt/conda/envs/teichlab/lib/python3.8/site-packages/scrublet/helper_functions.py:321: RuntimeWarning: divide by zero encountered in true_divide\n",
      "  w.setdiag(float(target_total) / tots_use)\n",
      "WARNING: Some cells have total count of genes equal to zero\n"
     ]
    },
    {
     "name": "stdout",
     "output_type": "stream",
     "text": [
      "HCAHeart7905331\n"
     ]
    },
    {
     "name": "stderr",
     "output_type": "stream",
     "text": [
      "/opt/conda/envs/teichlab/lib/python3.8/site-packages/scrublet/helper_functions.py:321: RuntimeWarning: divide by zero encountered in true_divide\n",
      "  w.setdiag(float(target_total) / tots_use)\n",
      "WARNING: Some cells have total count of genes equal to zero\n"
     ]
    },
    {
     "name": "stdout",
     "output_type": "stream",
     "text": [
      "HCAHeart7905332\n"
     ]
    },
    {
     "name": "stderr",
     "output_type": "stream",
     "text": [
      "/opt/conda/envs/teichlab/lib/python3.8/site-packages/scrublet/helper_functions.py:321: RuntimeWarning: divide by zero encountered in true_divide\n",
      "  w.setdiag(float(target_total) / tots_use)\n",
      "WARNING: Some cells have total count of genes equal to zero\n"
     ]
    },
    {
     "name": "stdout",
     "output_type": "stream",
     "text": [
      "HCAHeart8102857\n"
     ]
    },
    {
     "name": "stderr",
     "output_type": "stream",
     "text": [
      "/opt/conda/envs/teichlab/lib/python3.8/site-packages/scrublet/helper_functions.py:239: RuntimeWarning: invalid value encountered in log\n",
      "  gLog = lambda input: np.log(input[1] * np.exp(-input[0]) + input[2])\n"
     ]
    },
    {
     "name": "stdout",
     "output_type": "stream",
     "text": [
      "HCAHeart8102858\n"
     ]
    },
    {
     "name": "stderr",
     "output_type": "stream",
     "text": [
      "/opt/conda/envs/teichlab/lib/python3.8/site-packages/scrublet/helper_functions.py:321: RuntimeWarning: divide by zero encountered in true_divide\n",
      "  w.setdiag(float(target_total) / tots_use)\n",
      "WARNING: Some cells have total count of genes equal to zero\n"
     ]
    },
    {
     "name": "stdout",
     "output_type": "stream",
     "text": [
      "HCAHeart8102859\n",
      "HCAHeart8102860\n",
      "HCAHeart8102861\n",
      "HCAHeart8102862\n",
      "HCAHeart8102863\n"
     ]
    },
    {
     "name": "stderr",
     "output_type": "stream",
     "text": [
      "/opt/conda/envs/teichlab/lib/python3.8/site-packages/scrublet/helper_functions.py:321: RuntimeWarning: divide by zero encountered in true_divide\n",
      "  w.setdiag(float(target_total) / tots_use)\n",
      "WARNING: Some cells have total count of genes equal to zero\n"
     ]
    },
    {
     "name": "stdout",
     "output_type": "stream",
     "text": [
      "HCAHeart8102864\n"
     ]
    },
    {
     "name": "stderr",
     "output_type": "stream",
     "text": [
      "/opt/conda/envs/teichlab/lib/python3.8/site-packages/scrublet/helper_functions.py:321: RuntimeWarning: divide by zero encountered in true_divide\n",
      "  w.setdiag(float(target_total) / tots_use)\n",
      "WARNING: Some cells have total count of genes equal to zero\n"
     ]
    },
    {
     "name": "stdout",
     "output_type": "stream",
     "text": [
      "HCAHeart8102865\n"
     ]
    },
    {
     "name": "stderr",
     "output_type": "stream",
     "text": [
      "/opt/conda/envs/teichlab/lib/python3.8/site-packages/scrublet/helper_functions.py:321: RuntimeWarning: divide by zero encountered in true_divide\n",
      "  w.setdiag(float(target_total) / tots_use)\n",
      "WARNING: Some cells have total count of genes equal to zero\n"
     ]
    },
    {
     "name": "stdout",
     "output_type": "stream",
     "text": [
      "HCAHeart8102866\n"
     ]
    },
    {
     "name": "stderr",
     "output_type": "stream",
     "text": [
      "/opt/conda/envs/teichlab/lib/python3.8/site-packages/scrublet/helper_functions.py:321: RuntimeWarning: divide by zero encountered in true_divide\n",
      "  w.setdiag(float(target_total) / tots_use)\n",
      "WARNING: Some cells have total count of genes equal to zero\n"
     ]
    },
    {
     "name": "stdout",
     "output_type": "stream",
     "text": [
      "HCAHeart8102867\n"
     ]
    },
    {
     "name": "stderr",
     "output_type": "stream",
     "text": [
      "/opt/conda/envs/teichlab/lib/python3.8/site-packages/scrublet/helper_functions.py:321: RuntimeWarning: divide by zero encountered in true_divide\n",
      "  w.setdiag(float(target_total) / tots_use)\n",
      "WARNING: Some cells have total count of genes equal to zero\n"
     ]
    },
    {
     "name": "stdout",
     "output_type": "stream",
     "text": [
      "HCAHeart8102868\n"
     ]
    },
    {
     "name": "stderr",
     "output_type": "stream",
     "text": [
      "/opt/conda/envs/teichlab/lib/python3.8/site-packages/scrublet/helper_functions.py:321: RuntimeWarning: divide by zero encountered in true_divide\n",
      "  w.setdiag(float(target_total) / tots_use)\n",
      "WARNING: Some cells have total count of genes equal to zero\n"
     ]
    },
    {
     "name": "stdout",
     "output_type": "stream",
     "text": [
      "CPU times: user 41min 12s, sys: 22min 33s, total: 1h 3min 46s\n",
      "Wall time: 31min 6s\n"
     ]
    }
   ],
   "source": [
    "%%time\n",
    "\n",
    "# per rxn\n",
    "for i,ID in enumerate(adata.obs['sangerID'].unique()):\n",
    "    print(ID)\n",
    "    \n",
    "    ad = adata[adata.obs['sangerID'] == ID].copy()\n",
    "    run_scrublet(ad)\n",
    "    if i==0:\n",
    "        meta = ad.obs\n",
    "    else:\n",
    "        meta = pd.concat([meta, ad.obs])\n",
    "    del ad"
   ]
  },
  {
   "cell_type": "code",
   "execution_count": 13,
   "id": "assisted-registrar",
   "metadata": {},
   "outputs": [
    {
     "data": {
      "text/html": [
       "<div>\n",
       "<style scoped>\n",
       "    .dataframe tbody tr th:only-of-type {\n",
       "        vertical-align: middle;\n",
       "    }\n",
       "\n",
       "    .dataframe tbody tr th {\n",
       "        vertical-align: top;\n",
       "    }\n",
       "\n",
       "    .dataframe thead th {\n",
       "        text-align: right;\n",
       "    }\n",
       "</style>\n",
       "<table border=\"1\" class=\"dataframe\">\n",
       "  <thead>\n",
       "    <tr style=\"text-align: right;\">\n",
       "      <th></th>\n",
       "      <th>latent_RT_efficiency</th>\n",
       "      <th>latent_cell_probability</th>\n",
       "      <th>latent_scale</th>\n",
       "      <th>sangerID</th>\n",
       "      <th>combinedID</th>\n",
       "      <th>donor</th>\n",
       "      <th>donor_type</th>\n",
       "      <th>region</th>\n",
       "      <th>region_finest</th>\n",
       "      <th>age</th>\n",
       "      <th>...</th>\n",
       "      <th>facility</th>\n",
       "      <th>cell_or_nuclei</th>\n",
       "      <th>modality</th>\n",
       "      <th>kit_10x</th>\n",
       "      <th>flushed</th>\n",
       "      <th>scrublet_score</th>\n",
       "      <th>scrublet_leiden</th>\n",
       "      <th>cluster_scrublet_score</th>\n",
       "      <th>doublet_pval</th>\n",
       "      <th>doublet_bh_pval</th>\n",
       "    </tr>\n",
       "    <tr>\n",
       "      <th>barcode</th>\n",
       "      <th></th>\n",
       "      <th></th>\n",
       "      <th></th>\n",
       "      <th></th>\n",
       "      <th></th>\n",
       "      <th></th>\n",
       "      <th></th>\n",
       "      <th></th>\n",
       "      <th></th>\n",
       "      <th></th>\n",
       "      <th></th>\n",
       "      <th></th>\n",
       "      <th></th>\n",
       "      <th></th>\n",
       "      <th></th>\n",
       "      <th></th>\n",
       "      <th></th>\n",
       "      <th></th>\n",
       "      <th></th>\n",
       "      <th></th>\n",
       "      <th></th>\n",
       "    </tr>\n",
       "  </thead>\n",
       "  <tbody>\n",
       "    <tr>\n",
       "      <th>HCAHeart8102857_CCACAAATCGAGCCAC</th>\n",
       "      <td>2.080856</td>\n",
       "      <td>0.995525</td>\n",
       "      <td>9312.976562</td>\n",
       "      <td>HCAHeart8102857</td>\n",
       "      <td>na</td>\n",
       "      <td>D11</td>\n",
       "      <td>DCD</td>\n",
       "      <td>RA</td>\n",
       "      <td>RA</td>\n",
       "      <td>60-65</td>\n",
       "      <td>...</td>\n",
       "      <td>Sanger</td>\n",
       "      <td>Cell</td>\n",
       "      <td>scRNA</td>\n",
       "      <td>3prime-v3</td>\n",
       "      <td>no</td>\n",
       "      <td>0.050000</td>\n",
       "      <td>0,8</td>\n",
       "      <td>0.073798</td>\n",
       "      <td>0.972721</td>\n",
       "      <td>0.974016</td>\n",
       "    </tr>\n",
       "    <tr>\n",
       "      <th>HCAHeart8102857_TTTCATGTCGTTGCCT</th>\n",
       "      <td>2.068729</td>\n",
       "      <td>0.965059</td>\n",
       "      <td>9545.163086</td>\n",
       "      <td>HCAHeart8102857</td>\n",
       "      <td>na</td>\n",
       "      <td>D11</td>\n",
       "      <td>DCD</td>\n",
       "      <td>RA</td>\n",
       "      <td>RA</td>\n",
       "      <td>60-65</td>\n",
       "      <td>...</td>\n",
       "      <td>Sanger</td>\n",
       "      <td>Cell</td>\n",
       "      <td>scRNA</td>\n",
       "      <td>3prime-v3</td>\n",
       "      <td>no</td>\n",
       "      <td>0.043252</td>\n",
       "      <td>0,8</td>\n",
       "      <td>0.073798</td>\n",
       "      <td>0.972721</td>\n",
       "      <td>0.974016</td>\n",
       "    </tr>\n",
       "    <tr>\n",
       "      <th>HCAHeart8102857_TCTACCGGTCACTTCC</th>\n",
       "      <td>1.973510</td>\n",
       "      <td>0.999803</td>\n",
       "      <td>6143.513672</td>\n",
       "      <td>HCAHeart8102857</td>\n",
       "      <td>na</td>\n",
       "      <td>D11</td>\n",
       "      <td>DCD</td>\n",
       "      <td>RA</td>\n",
       "      <td>RA</td>\n",
       "      <td>60-65</td>\n",
       "      <td>...</td>\n",
       "      <td>Sanger</td>\n",
       "      <td>Cell</td>\n",
       "      <td>scRNA</td>\n",
       "      <td>3prime-v3</td>\n",
       "      <td>no</td>\n",
       "      <td>0.369803</td>\n",
       "      <td>0,156</td>\n",
       "      <td>0.245342</td>\n",
       "      <td>0.088301</td>\n",
       "      <td>0.942501</td>\n",
       "    </tr>\n",
       "    <tr>\n",
       "      <th>HCAHeart8102857_AGAACCTAGAGCAGAA</th>\n",
       "      <td>1.948684</td>\n",
       "      <td>0.999806</td>\n",
       "      <td>6100.782227</td>\n",
       "      <td>HCAHeart8102857</td>\n",
       "      <td>na</td>\n",
       "      <td>D11</td>\n",
       "      <td>DCD</td>\n",
       "      <td>RA</td>\n",
       "      <td>RA</td>\n",
       "      <td>60-65</td>\n",
       "      <td>...</td>\n",
       "      <td>Sanger</td>\n",
       "      <td>Cell</td>\n",
       "      <td>scRNA</td>\n",
       "      <td>3prime-v3</td>\n",
       "      <td>no</td>\n",
       "      <td>0.176895</td>\n",
       "      <td>2,39</td>\n",
       "      <td>0.223022</td>\n",
       "      <td>0.177393</td>\n",
       "      <td>0.942501</td>\n",
       "    </tr>\n",
       "    <tr>\n",
       "      <th>HCAHeart8102857_CACCAAAGTATCAGGG</th>\n",
       "      <td>1.912834</td>\n",
       "      <td>0.999845</td>\n",
       "      <td>6095.844238</td>\n",
       "      <td>HCAHeart8102857</td>\n",
       "      <td>na</td>\n",
       "      <td>D11</td>\n",
       "      <td>DCD</td>\n",
       "      <td>RA</td>\n",
       "      <td>RA</td>\n",
       "      <td>60-65</td>\n",
       "      <td>...</td>\n",
       "      <td>Sanger</td>\n",
       "      <td>Cell</td>\n",
       "      <td>scRNA</td>\n",
       "      <td>3prime-v3</td>\n",
       "      <td>no</td>\n",
       "      <td>0.203753</td>\n",
       "      <td>0,25</td>\n",
       "      <td>0.209877</td>\n",
       "      <td>0.250000</td>\n",
       "      <td>0.942501</td>\n",
       "    </tr>\n",
       "    <tr>\n",
       "      <th>...</th>\n",
       "      <td>...</td>\n",
       "      <td>...</td>\n",
       "      <td>...</td>\n",
       "      <td>...</td>\n",
       "      <td>...</td>\n",
       "      <td>...</td>\n",
       "      <td>...</td>\n",
       "      <td>...</td>\n",
       "      <td>...</td>\n",
       "      <td>...</td>\n",
       "      <td>...</td>\n",
       "      <td>...</td>\n",
       "      <td>...</td>\n",
       "      <td>...</td>\n",
       "      <td>...</td>\n",
       "      <td>...</td>\n",
       "      <td>...</td>\n",
       "      <td>...</td>\n",
       "      <td>...</td>\n",
       "      <td>...</td>\n",
       "      <td>...</td>\n",
       "    </tr>\n",
       "    <tr>\n",
       "      <th>HCAHeart8102857_ACAAGCTAGCGATGAC</th>\n",
       "      <td>0.823448</td>\n",
       "      <td>0.998622</td>\n",
       "      <td>4563.112793</td>\n",
       "      <td>HCAHeart8102857</td>\n",
       "      <td>na</td>\n",
       "      <td>D11</td>\n",
       "      <td>DCD</td>\n",
       "      <td>RA</td>\n",
       "      <td>RA</td>\n",
       "      <td>60-65</td>\n",
       "      <td>...</td>\n",
       "      <td>Sanger</td>\n",
       "      <td>Cell</td>\n",
       "      <td>scRNA</td>\n",
       "      <td>3prime-v3</td>\n",
       "      <td>no</td>\n",
       "      <td>0.047002</td>\n",
       "      <td>1,111</td>\n",
       "      <td>0.121591</td>\n",
       "      <td>0.843827</td>\n",
       "      <td>0.958460</td>\n",
       "    </tr>\n",
       "    <tr>\n",
       "      <th>HCAHeart8102857_GGGTGAAGTCTAACTG</th>\n",
       "      <td>0.832393</td>\n",
       "      <td>0.999128</td>\n",
       "      <td>4355.219727</td>\n",
       "      <td>HCAHeart8102857</td>\n",
       "      <td>na</td>\n",
       "      <td>D11</td>\n",
       "      <td>DCD</td>\n",
       "      <td>RA</td>\n",
       "      <td>RA</td>\n",
       "      <td>60-65</td>\n",
       "      <td>...</td>\n",
       "      <td>Sanger</td>\n",
       "      <td>Cell</td>\n",
       "      <td>scRNA</td>\n",
       "      <td>3prime-v3</td>\n",
       "      <td>no</td>\n",
       "      <td>0.073798</td>\n",
       "      <td>1,0</td>\n",
       "      <td>0.081897</td>\n",
       "      <td>0.961455</td>\n",
       "      <td>0.966597</td>\n",
       "    </tr>\n",
       "    <tr>\n",
       "      <th>HCAHeart8102857_CTGTCGTGTGGCTGAA</th>\n",
       "      <td>0.857743</td>\n",
       "      <td>0.998777</td>\n",
       "      <td>4552.802246</td>\n",
       "      <td>HCAHeart8102857</td>\n",
       "      <td>na</td>\n",
       "      <td>D11</td>\n",
       "      <td>DCD</td>\n",
       "      <td>RA</td>\n",
       "      <td>RA</td>\n",
       "      <td>60-65</td>\n",
       "      <td>...</td>\n",
       "      <td>Sanger</td>\n",
       "      <td>Cell</td>\n",
       "      <td>scRNA</td>\n",
       "      <td>3prime-v3</td>\n",
       "      <td>no</td>\n",
       "      <td>0.039758</td>\n",
       "      <td>0,83</td>\n",
       "      <td>0.110919</td>\n",
       "      <td>0.887623</td>\n",
       "      <td>0.958460</td>\n",
       "    </tr>\n",
       "    <tr>\n",
       "      <th>HCAHeart8102857_GTAGGAGGTTAGGGTG</th>\n",
       "      <td>0.844368</td>\n",
       "      <td>0.998850</td>\n",
       "      <td>4245.892578</td>\n",
       "      <td>HCAHeart8102857</td>\n",
       "      <td>na</td>\n",
       "      <td>D11</td>\n",
       "      <td>DCD</td>\n",
       "      <td>RA</td>\n",
       "      <td>RA</td>\n",
       "      <td>60-65</td>\n",
       "      <td>...</td>\n",
       "      <td>Sanger</td>\n",
       "      <td>Cell</td>\n",
       "      <td>scRNA</td>\n",
       "      <td>3prime-v3</td>\n",
       "      <td>no</td>\n",
       "      <td>0.133595</td>\n",
       "      <td>1,109</td>\n",
       "      <td>0.132015</td>\n",
       "      <td>0.791429</td>\n",
       "      <td>0.958460</td>\n",
       "    </tr>\n",
       "    <tr>\n",
       "      <th>HCAHeart8102857_CTCAGGGTCGGCTTGG</th>\n",
       "      <td>0.830200</td>\n",
       "      <td>0.999083</td>\n",
       "      <td>4421.455566</td>\n",
       "      <td>HCAHeart8102857</td>\n",
       "      <td>na</td>\n",
       "      <td>D11</td>\n",
       "      <td>DCD</td>\n",
       "      <td>RA</td>\n",
       "      <td>RA</td>\n",
       "      <td>60-65</td>\n",
       "      <td>...</td>\n",
       "      <td>Sanger</td>\n",
       "      <td>Cell</td>\n",
       "      <td>scRNA</td>\n",
       "      <td>3prime-v3</td>\n",
       "      <td>no</td>\n",
       "      <td>0.070814</td>\n",
       "      <td>5,26</td>\n",
       "      <td>0.136863</td>\n",
       "      <td>0.763889</td>\n",
       "      <td>0.958460</td>\n",
       "    </tr>\n",
       "  </tbody>\n",
       "</table>\n",
       "<p>15000 rows × 21 columns</p>\n",
       "</div>"
      ],
      "text/plain": [
       "                                  latent_RT_efficiency  \\\n",
       "barcode                                                  \n",
       "HCAHeart8102857_CCACAAATCGAGCCAC              2.080856   \n",
       "HCAHeart8102857_TTTCATGTCGTTGCCT              2.068729   \n",
       "HCAHeart8102857_TCTACCGGTCACTTCC              1.973510   \n",
       "HCAHeart8102857_AGAACCTAGAGCAGAA              1.948684   \n",
       "HCAHeart8102857_CACCAAAGTATCAGGG              1.912834   \n",
       "...                                                ...   \n",
       "HCAHeart8102857_ACAAGCTAGCGATGAC              0.823448   \n",
       "HCAHeart8102857_GGGTGAAGTCTAACTG              0.832393   \n",
       "HCAHeart8102857_CTGTCGTGTGGCTGAA              0.857743   \n",
       "HCAHeart8102857_GTAGGAGGTTAGGGTG              0.844368   \n",
       "HCAHeart8102857_CTCAGGGTCGGCTTGG              0.830200   \n",
       "\n",
       "                                  latent_cell_probability  latent_scale  \\\n",
       "barcode                                                                   \n",
       "HCAHeart8102857_CCACAAATCGAGCCAC                 0.995525   9312.976562   \n",
       "HCAHeart8102857_TTTCATGTCGTTGCCT                 0.965059   9545.163086   \n",
       "HCAHeart8102857_TCTACCGGTCACTTCC                 0.999803   6143.513672   \n",
       "HCAHeart8102857_AGAACCTAGAGCAGAA                 0.999806   6100.782227   \n",
       "HCAHeart8102857_CACCAAAGTATCAGGG                 0.999845   6095.844238   \n",
       "...                                                   ...           ...   \n",
       "HCAHeart8102857_ACAAGCTAGCGATGAC                 0.998622   4563.112793   \n",
       "HCAHeart8102857_GGGTGAAGTCTAACTG                 0.999128   4355.219727   \n",
       "HCAHeart8102857_CTGTCGTGTGGCTGAA                 0.998777   4552.802246   \n",
       "HCAHeart8102857_GTAGGAGGTTAGGGTG                 0.998850   4245.892578   \n",
       "HCAHeart8102857_CTCAGGGTCGGCTTGG                 0.999083   4421.455566   \n",
       "\n",
       "                                         sangerID combinedID donor donor_type  \\\n",
       "barcode                                                                         \n",
       "HCAHeart8102857_CCACAAATCGAGCCAC  HCAHeart8102857         na   D11        DCD   \n",
       "HCAHeart8102857_TTTCATGTCGTTGCCT  HCAHeart8102857         na   D11        DCD   \n",
       "HCAHeart8102857_TCTACCGGTCACTTCC  HCAHeart8102857         na   D11        DCD   \n",
       "HCAHeart8102857_AGAACCTAGAGCAGAA  HCAHeart8102857         na   D11        DCD   \n",
       "HCAHeart8102857_CACCAAAGTATCAGGG  HCAHeart8102857         na   D11        DCD   \n",
       "...                                           ...        ...   ...        ...   \n",
       "HCAHeart8102857_ACAAGCTAGCGATGAC  HCAHeart8102857         na   D11        DCD   \n",
       "HCAHeart8102857_GGGTGAAGTCTAACTG  HCAHeart8102857         na   D11        DCD   \n",
       "HCAHeart8102857_CTGTCGTGTGGCTGAA  HCAHeart8102857         na   D11        DCD   \n",
       "HCAHeart8102857_GTAGGAGGTTAGGGTG  HCAHeart8102857         na   D11        DCD   \n",
       "HCAHeart8102857_CTCAGGGTCGGCTTGG  HCAHeart8102857         na   D11        DCD   \n",
       "\n",
       "                                 region region_finest    age  ... facility  \\\n",
       "barcode                                                       ...            \n",
       "HCAHeart8102857_CCACAAATCGAGCCAC     RA            RA  60-65  ...   Sanger   \n",
       "HCAHeart8102857_TTTCATGTCGTTGCCT     RA            RA  60-65  ...   Sanger   \n",
       "HCAHeart8102857_TCTACCGGTCACTTCC     RA            RA  60-65  ...   Sanger   \n",
       "HCAHeart8102857_AGAACCTAGAGCAGAA     RA            RA  60-65  ...   Sanger   \n",
       "HCAHeart8102857_CACCAAAGTATCAGGG     RA            RA  60-65  ...   Sanger   \n",
       "...                                 ...           ...    ...  ...      ...   \n",
       "HCAHeart8102857_ACAAGCTAGCGATGAC     RA            RA  60-65  ...   Sanger   \n",
       "HCAHeart8102857_GGGTGAAGTCTAACTG     RA            RA  60-65  ...   Sanger   \n",
       "HCAHeart8102857_CTGTCGTGTGGCTGAA     RA            RA  60-65  ...   Sanger   \n",
       "HCAHeart8102857_GTAGGAGGTTAGGGTG     RA            RA  60-65  ...   Sanger   \n",
       "HCAHeart8102857_CTCAGGGTCGGCTTGG     RA            RA  60-65  ...   Sanger   \n",
       "\n",
       "                                 cell_or_nuclei modality    kit_10x flushed  \\\n",
       "barcode                                                                       \n",
       "HCAHeart8102857_CCACAAATCGAGCCAC           Cell    scRNA  3prime-v3      no   \n",
       "HCAHeart8102857_TTTCATGTCGTTGCCT           Cell    scRNA  3prime-v3      no   \n",
       "HCAHeart8102857_TCTACCGGTCACTTCC           Cell    scRNA  3prime-v3      no   \n",
       "HCAHeart8102857_AGAACCTAGAGCAGAA           Cell    scRNA  3prime-v3      no   \n",
       "HCAHeart8102857_CACCAAAGTATCAGGG           Cell    scRNA  3prime-v3      no   \n",
       "...                                         ...      ...        ...     ...   \n",
       "HCAHeart8102857_ACAAGCTAGCGATGAC           Cell    scRNA  3prime-v3      no   \n",
       "HCAHeart8102857_GGGTGAAGTCTAACTG           Cell    scRNA  3prime-v3      no   \n",
       "HCAHeart8102857_CTGTCGTGTGGCTGAA           Cell    scRNA  3prime-v3      no   \n",
       "HCAHeart8102857_GTAGGAGGTTAGGGTG           Cell    scRNA  3prime-v3      no   \n",
       "HCAHeart8102857_CTCAGGGTCGGCTTGG           Cell    scRNA  3prime-v3      no   \n",
       "\n",
       "                                 scrublet_score  scrublet_leiden  \\\n",
       "barcode                                                            \n",
       "HCAHeart8102857_CCACAAATCGAGCCAC       0.050000              0,8   \n",
       "HCAHeart8102857_TTTCATGTCGTTGCCT       0.043252              0,8   \n",
       "HCAHeart8102857_TCTACCGGTCACTTCC       0.369803            0,156   \n",
       "HCAHeart8102857_AGAACCTAGAGCAGAA       0.176895             2,39   \n",
       "HCAHeart8102857_CACCAAAGTATCAGGG       0.203753             0,25   \n",
       "...                                         ...              ...   \n",
       "HCAHeart8102857_ACAAGCTAGCGATGAC       0.047002            1,111   \n",
       "HCAHeart8102857_GGGTGAAGTCTAACTG       0.073798              1,0   \n",
       "HCAHeart8102857_CTGTCGTGTGGCTGAA       0.039758             0,83   \n",
       "HCAHeart8102857_GTAGGAGGTTAGGGTG       0.133595            1,109   \n",
       "HCAHeart8102857_CTCAGGGTCGGCTTGG       0.070814             5,26   \n",
       "\n",
       "                                 cluster_scrublet_score  doublet_pval  \\\n",
       "barcode                                                                 \n",
       "HCAHeart8102857_CCACAAATCGAGCCAC               0.073798      0.972721   \n",
       "HCAHeart8102857_TTTCATGTCGTTGCCT               0.073798      0.972721   \n",
       "HCAHeart8102857_TCTACCGGTCACTTCC               0.245342      0.088301   \n",
       "HCAHeart8102857_AGAACCTAGAGCAGAA               0.223022      0.177393   \n",
       "HCAHeart8102857_CACCAAAGTATCAGGG               0.209877      0.250000   \n",
       "...                                                 ...           ...   \n",
       "HCAHeart8102857_ACAAGCTAGCGATGAC               0.121591      0.843827   \n",
       "HCAHeart8102857_GGGTGAAGTCTAACTG               0.081897      0.961455   \n",
       "HCAHeart8102857_CTGTCGTGTGGCTGAA               0.110919      0.887623   \n",
       "HCAHeart8102857_GTAGGAGGTTAGGGTG               0.132015      0.791429   \n",
       "HCAHeart8102857_CTCAGGGTCGGCTTGG               0.136863      0.763889   \n",
       "\n",
       "                                  doublet_bh_pval  \n",
       "barcode                                            \n",
       "HCAHeart8102857_CCACAAATCGAGCCAC         0.974016  \n",
       "HCAHeart8102857_TTTCATGTCGTTGCCT         0.974016  \n",
       "HCAHeart8102857_TCTACCGGTCACTTCC         0.942501  \n",
       "HCAHeart8102857_AGAACCTAGAGCAGAA         0.942501  \n",
       "HCAHeart8102857_CACCAAAGTATCAGGG         0.942501  \n",
       "...                                           ...  \n",
       "HCAHeart8102857_ACAAGCTAGCGATGAC         0.958460  \n",
       "HCAHeart8102857_GGGTGAAGTCTAACTG         0.966597  \n",
       "HCAHeart8102857_CTGTCGTGTGGCTGAA         0.958460  \n",
       "HCAHeart8102857_GTAGGAGGTTAGGGTG         0.958460  \n",
       "HCAHeart8102857_CTCAGGGTCGGCTTGG         0.958460  \n",
       "\n",
       "[15000 rows x 21 columns]"
      ]
     },
     "execution_count": 13,
     "metadata": {},
     "output_type": "execute_result"
    }
   ],
   "source": [
    "meta[meta['sangerID']=='HCAHeart8102857']"
   ]
  },
  {
   "cell_type": "markdown",
   "id": "confident-growth",
   "metadata": {},
   "source": [
    "## Add scrublet outputs to adata"
   ]
  },
  {
   "cell_type": "code",
   "execution_count": 14,
   "id": "dimensional-prefix",
   "metadata": {},
   "outputs": [
    {
     "data": {
      "text/plain": [
       "(345070, 5)"
      ]
     },
     "execution_count": 14,
     "metadata": {},
     "output_type": "execute_result"
    }
   ],
   "source": [
    "meta_scrub = meta[['scrublet_score', 'scrublet_leiden', 'cluster_scrublet_score', 'doublet_pval', 'doublet_bh_pval']].copy()\n",
    "meta_scrub.shape"
   ]
  },
  {
   "cell_type": "code",
   "execution_count": 15,
   "id": "august-blowing",
   "metadata": {},
   "outputs": [],
   "source": [
    "if meta_scrub.reindex(adata.obs.index).index.equals(adata.obs.index):\n",
    "    adata.obs = pd.concat([adata.obs, meta_scrub.reindex(adata.obs.index)], axis=1)\n",
    "else:\n",
    "    raise Exception('Different barcodes in meta and adata')"
   ]
  },
  {
   "cell_type": "code",
   "execution_count": 16,
   "id": "american-lancaster",
   "metadata": {},
   "outputs": [
    {
     "data": {
      "text/html": [
       "<div>\n",
       "<style scoped>\n",
       "    .dataframe tbody tr th:only-of-type {\n",
       "        vertical-align: middle;\n",
       "    }\n",
       "\n",
       "    .dataframe tbody tr th {\n",
       "        vertical-align: top;\n",
       "    }\n",
       "\n",
       "    .dataframe thead th {\n",
       "        text-align: right;\n",
       "    }\n",
       "</style>\n",
       "<table border=\"1\" class=\"dataframe\">\n",
       "  <thead>\n",
       "    <tr style=\"text-align: right;\">\n",
       "      <th></th>\n",
       "      <th>latent_RT_efficiency</th>\n",
       "      <th>latent_cell_probability</th>\n",
       "      <th>latent_scale</th>\n",
       "      <th>sangerID</th>\n",
       "      <th>combinedID</th>\n",
       "      <th>donor</th>\n",
       "      <th>donor_type</th>\n",
       "      <th>region</th>\n",
       "      <th>region_finest</th>\n",
       "      <th>age</th>\n",
       "      <th>...</th>\n",
       "      <th>facility</th>\n",
       "      <th>cell_or_nuclei</th>\n",
       "      <th>modality</th>\n",
       "      <th>kit_10x</th>\n",
       "      <th>flushed</th>\n",
       "      <th>scrublet_score</th>\n",
       "      <th>scrublet_leiden</th>\n",
       "      <th>cluster_scrublet_score</th>\n",
       "      <th>doublet_pval</th>\n",
       "      <th>doublet_bh_pval</th>\n",
       "    </tr>\n",
       "    <tr>\n",
       "      <th>barcode</th>\n",
       "      <th></th>\n",
       "      <th></th>\n",
       "      <th></th>\n",
       "      <th></th>\n",
       "      <th></th>\n",
       "      <th></th>\n",
       "      <th></th>\n",
       "      <th></th>\n",
       "      <th></th>\n",
       "      <th></th>\n",
       "      <th></th>\n",
       "      <th></th>\n",
       "      <th></th>\n",
       "      <th></th>\n",
       "      <th></th>\n",
       "      <th></th>\n",
       "      <th></th>\n",
       "      <th></th>\n",
       "      <th></th>\n",
       "      <th></th>\n",
       "      <th></th>\n",
       "    </tr>\n",
       "  </thead>\n",
       "  <tbody>\n",
       "    <tr>\n",
       "      <th>HCAHeart7606896_CTACGTCTCCGTCAAA</th>\n",
       "      <td>8.889344</td>\n",
       "      <td>0.612278</td>\n",
       "      <td>886.427673</td>\n",
       "      <td>HCAHeart7606896</td>\n",
       "      <td>na</td>\n",
       "      <td>D1</td>\n",
       "      <td>DBD</td>\n",
       "      <td>AX</td>\n",
       "      <td>AX</td>\n",
       "      <td>50-55</td>\n",
       "      <td>...</td>\n",
       "      <td>Sanger</td>\n",
       "      <td>Cell</td>\n",
       "      <td>scRNA</td>\n",
       "      <td>3prime-v2</td>\n",
       "      <td>no</td>\n",
       "      <td>0.047619</td>\n",
       "      <td>6,0</td>\n",
       "      <td>0.047619</td>\n",
       "      <td>0.937444</td>\n",
       "      <td>0.937444</td>\n",
       "    </tr>\n",
       "    <tr>\n",
       "      <th>HCAHeart7606896_GATGAGGCACGGCTAC</th>\n",
       "      <td>8.281336</td>\n",
       "      <td>0.976983</td>\n",
       "      <td>615.699524</td>\n",
       "      <td>HCAHeart7606896</td>\n",
       "      <td>na</td>\n",
       "      <td>D1</td>\n",
       "      <td>DBD</td>\n",
       "      <td>AX</td>\n",
       "      <td>AX</td>\n",
       "      <td>50-55</td>\n",
       "      <td>...</td>\n",
       "      <td>Sanger</td>\n",
       "      <td>Cell</td>\n",
       "      <td>scRNA</td>\n",
       "      <td>3prime-v2</td>\n",
       "      <td>no</td>\n",
       "      <td>0.228571</td>\n",
       "      <td>2,0</td>\n",
       "      <td>0.184933</td>\n",
       "      <td>0.084434</td>\n",
       "      <td>0.832720</td>\n",
       "    </tr>\n",
       "    <tr>\n",
       "      <th>HCAHeart7606896_TCAGGATCAGCTCGAC</th>\n",
       "      <td>7.195173</td>\n",
       "      <td>0.934280</td>\n",
       "      <td>702.436768</td>\n",
       "      <td>HCAHeart7606896</td>\n",
       "      <td>na</td>\n",
       "      <td>D1</td>\n",
       "      <td>DBD</td>\n",
       "      <td>AX</td>\n",
       "      <td>AX</td>\n",
       "      <td>50-55</td>\n",
       "      <td>...</td>\n",
       "      <td>Sanger</td>\n",
       "      <td>Cell</td>\n",
       "      <td>scRNA</td>\n",
       "      <td>3prime-v2</td>\n",
       "      <td>no</td>\n",
       "      <td>0.228571</td>\n",
       "      <td>2,0</td>\n",
       "      <td>0.184933</td>\n",
       "      <td>0.084434</td>\n",
       "      <td>0.832720</td>\n",
       "    </tr>\n",
       "    <tr>\n",
       "      <th>HCAHeart7606896_CAAGATCGTCTCACCT</th>\n",
       "      <td>7.452532</td>\n",
       "      <td>0.982054</td>\n",
       "      <td>528.663391</td>\n",
       "      <td>HCAHeart7606896</td>\n",
       "      <td>na</td>\n",
       "      <td>D1</td>\n",
       "      <td>DBD</td>\n",
       "      <td>AX</td>\n",
       "      <td>AX</td>\n",
       "      <td>50-55</td>\n",
       "      <td>...</td>\n",
       "      <td>Sanger</td>\n",
       "      <td>Cell</td>\n",
       "      <td>scRNA</td>\n",
       "      <td>3prime-v2</td>\n",
       "      <td>no</td>\n",
       "      <td>0.172414</td>\n",
       "      <td>2,0</td>\n",
       "      <td>0.184933</td>\n",
       "      <td>0.084434</td>\n",
       "      <td>0.832720</td>\n",
       "    </tr>\n",
       "    <tr>\n",
       "      <th>HCAHeart7606896_GCAAACTAGCTAGCCC</th>\n",
       "      <td>6.711821</td>\n",
       "      <td>0.992885</td>\n",
       "      <td>490.788574</td>\n",
       "      <td>HCAHeart7606896</td>\n",
       "      <td>na</td>\n",
       "      <td>D1</td>\n",
       "      <td>DBD</td>\n",
       "      <td>AX</td>\n",
       "      <td>AX</td>\n",
       "      <td>50-55</td>\n",
       "      <td>...</td>\n",
       "      <td>Sanger</td>\n",
       "      <td>Cell</td>\n",
       "      <td>scRNA</td>\n",
       "      <td>3prime-v2</td>\n",
       "      <td>no</td>\n",
       "      <td>0.228571</td>\n",
       "      <td>2,0</td>\n",
       "      <td>0.184933</td>\n",
       "      <td>0.084434</td>\n",
       "      <td>0.832720</td>\n",
       "    </tr>\n",
       "    <tr>\n",
       "      <th>...</th>\n",
       "      <td>...</td>\n",
       "      <td>...</td>\n",
       "      <td>...</td>\n",
       "      <td>...</td>\n",
       "      <td>...</td>\n",
       "      <td>...</td>\n",
       "      <td>...</td>\n",
       "      <td>...</td>\n",
       "      <td>...</td>\n",
       "      <td>...</td>\n",
       "      <td>...</td>\n",
       "      <td>...</td>\n",
       "      <td>...</td>\n",
       "      <td>...</td>\n",
       "      <td>...</td>\n",
       "      <td>...</td>\n",
       "      <td>...</td>\n",
       "      <td>...</td>\n",
       "      <td>...</td>\n",
       "      <td>...</td>\n",
       "      <td>...</td>\n",
       "    </tr>\n",
       "    <tr>\n",
       "      <th>HCAHeart8102868_CGATCGGTCCCTCGAT</th>\n",
       "      <td>0.723355</td>\n",
       "      <td>0.987070</td>\n",
       "      <td>3964.553711</td>\n",
       "      <td>HCAHeart8102868</td>\n",
       "      <td>na</td>\n",
       "      <td>D11</td>\n",
       "      <td>DCD</td>\n",
       "      <td>AX</td>\n",
       "      <td>AX</td>\n",
       "      <td>60-65</td>\n",
       "      <td>...</td>\n",
       "      <td>Sanger</td>\n",
       "      <td>Cell</td>\n",
       "      <td>scRNA</td>\n",
       "      <td>3prime-v3</td>\n",
       "      <td>no</td>\n",
       "      <td>0.262295</td>\n",
       "      <td>12,1</td>\n",
       "      <td>0.197903</td>\n",
       "      <td>0.132598</td>\n",
       "      <td>0.771329</td>\n",
       "    </tr>\n",
       "    <tr>\n",
       "      <th>HCAHeart8102868_ATTGGGTCAGGTCCCA</th>\n",
       "      <td>0.951182</td>\n",
       "      <td>0.915336</td>\n",
       "      <td>3725.749756</td>\n",
       "      <td>HCAHeart8102868</td>\n",
       "      <td>na</td>\n",
       "      <td>D11</td>\n",
       "      <td>DCD</td>\n",
       "      <td>AX</td>\n",
       "      <td>AX</td>\n",
       "      <td>60-65</td>\n",
       "      <td>...</td>\n",
       "      <td>Sanger</td>\n",
       "      <td>Cell</td>\n",
       "      <td>scRNA</td>\n",
       "      <td>3prime-v3</td>\n",
       "      <td>no</td>\n",
       "      <td>0.029891</td>\n",
       "      <td>5,20</td>\n",
       "      <td>0.047002</td>\n",
       "      <td>0.619535</td>\n",
       "      <td>0.771329</td>\n",
       "    </tr>\n",
       "    <tr>\n",
       "      <th>HCAHeart8102868_GCAGTTACAGCCCACA</th>\n",
       "      <td>0.936107</td>\n",
       "      <td>0.855016</td>\n",
       "      <td>3798.067139</td>\n",
       "      <td>HCAHeart8102868</td>\n",
       "      <td>na</td>\n",
       "      <td>D11</td>\n",
       "      <td>DCD</td>\n",
       "      <td>AX</td>\n",
       "      <td>AX</td>\n",
       "      <td>60-65</td>\n",
       "      <td>...</td>\n",
       "      <td>Sanger</td>\n",
       "      <td>Cell</td>\n",
       "      <td>scRNA</td>\n",
       "      <td>3prime-v3</td>\n",
       "      <td>no</td>\n",
       "      <td>0.075342</td>\n",
       "      <td>5,10</td>\n",
       "      <td>0.067977</td>\n",
       "      <td>0.542644</td>\n",
       "      <td>0.771329</td>\n",
       "    </tr>\n",
       "    <tr>\n",
       "      <th>HCAHeart8102868_AGTACCACATGAATAG</th>\n",
       "      <td>0.930775</td>\n",
       "      <td>0.854279</td>\n",
       "      <td>3793.943604</td>\n",
       "      <td>HCAHeart8102868</td>\n",
       "      <td>na</td>\n",
       "      <td>D11</td>\n",
       "      <td>DCD</td>\n",
       "      <td>AX</td>\n",
       "      <td>AX</td>\n",
       "      <td>60-65</td>\n",
       "      <td>...</td>\n",
       "      <td>Sanger</td>\n",
       "      <td>Cell</td>\n",
       "      <td>scRNA</td>\n",
       "      <td>3prime-v3</td>\n",
       "      <td>no</td>\n",
       "      <td>0.029213</td>\n",
       "      <td>14,5</td>\n",
       "      <td>0.027888</td>\n",
       "      <td>0.685779</td>\n",
       "      <td>0.771329</td>\n",
       "    </tr>\n",
       "    <tr>\n",
       "      <th>HCAHeart8102868_GTAGGAGTCTCACTCG</th>\n",
       "      <td>0.731069</td>\n",
       "      <td>0.991549</td>\n",
       "      <td>3732.635010</td>\n",
       "      <td>HCAHeart8102868</td>\n",
       "      <td>na</td>\n",
       "      <td>D11</td>\n",
       "      <td>DCD</td>\n",
       "      <td>AX</td>\n",
       "      <td>AX</td>\n",
       "      <td>60-65</td>\n",
       "      <td>...</td>\n",
       "      <td>Sanger</td>\n",
       "      <td>Cell</td>\n",
       "      <td>scRNA</td>\n",
       "      <td>3prime-v3</td>\n",
       "      <td>no</td>\n",
       "      <td>0.060109</td>\n",
       "      <td>1,60</td>\n",
       "      <td>0.123072</td>\n",
       "      <td>0.340613</td>\n",
       "      <td>0.771329</td>\n",
       "    </tr>\n",
       "  </tbody>\n",
       "</table>\n",
       "<p>345070 rows × 21 columns</p>\n",
       "</div>"
      ],
      "text/plain": [
       "                                  latent_RT_efficiency  \\\n",
       "barcode                                                  \n",
       "HCAHeart7606896_CTACGTCTCCGTCAAA              8.889344   \n",
       "HCAHeart7606896_GATGAGGCACGGCTAC              8.281336   \n",
       "HCAHeart7606896_TCAGGATCAGCTCGAC              7.195173   \n",
       "HCAHeart7606896_CAAGATCGTCTCACCT              7.452532   \n",
       "HCAHeart7606896_GCAAACTAGCTAGCCC              6.711821   \n",
       "...                                                ...   \n",
       "HCAHeart8102868_CGATCGGTCCCTCGAT              0.723355   \n",
       "HCAHeart8102868_ATTGGGTCAGGTCCCA              0.951182   \n",
       "HCAHeart8102868_GCAGTTACAGCCCACA              0.936107   \n",
       "HCAHeart8102868_AGTACCACATGAATAG              0.930775   \n",
       "HCAHeart8102868_GTAGGAGTCTCACTCG              0.731069   \n",
       "\n",
       "                                  latent_cell_probability  latent_scale  \\\n",
       "barcode                                                                   \n",
       "HCAHeart7606896_CTACGTCTCCGTCAAA                 0.612278    886.427673   \n",
       "HCAHeart7606896_GATGAGGCACGGCTAC                 0.976983    615.699524   \n",
       "HCAHeart7606896_TCAGGATCAGCTCGAC                 0.934280    702.436768   \n",
       "HCAHeart7606896_CAAGATCGTCTCACCT                 0.982054    528.663391   \n",
       "HCAHeart7606896_GCAAACTAGCTAGCCC                 0.992885    490.788574   \n",
       "...                                                   ...           ...   \n",
       "HCAHeart8102868_CGATCGGTCCCTCGAT                 0.987070   3964.553711   \n",
       "HCAHeart8102868_ATTGGGTCAGGTCCCA                 0.915336   3725.749756   \n",
       "HCAHeart8102868_GCAGTTACAGCCCACA                 0.855016   3798.067139   \n",
       "HCAHeart8102868_AGTACCACATGAATAG                 0.854279   3793.943604   \n",
       "HCAHeart8102868_GTAGGAGTCTCACTCG                 0.991549   3732.635010   \n",
       "\n",
       "                                         sangerID combinedID donor donor_type  \\\n",
       "barcode                                                                         \n",
       "HCAHeart7606896_CTACGTCTCCGTCAAA  HCAHeart7606896         na    D1        DBD   \n",
       "HCAHeart7606896_GATGAGGCACGGCTAC  HCAHeart7606896         na    D1        DBD   \n",
       "HCAHeart7606896_TCAGGATCAGCTCGAC  HCAHeart7606896         na    D1        DBD   \n",
       "HCAHeart7606896_CAAGATCGTCTCACCT  HCAHeart7606896         na    D1        DBD   \n",
       "HCAHeart7606896_GCAAACTAGCTAGCCC  HCAHeart7606896         na    D1        DBD   \n",
       "...                                           ...        ...   ...        ...   \n",
       "HCAHeart8102868_CGATCGGTCCCTCGAT  HCAHeart8102868         na   D11        DCD   \n",
       "HCAHeart8102868_ATTGGGTCAGGTCCCA  HCAHeart8102868         na   D11        DCD   \n",
       "HCAHeart8102868_GCAGTTACAGCCCACA  HCAHeart8102868         na   D11        DCD   \n",
       "HCAHeart8102868_AGTACCACATGAATAG  HCAHeart8102868         na   D11        DCD   \n",
       "HCAHeart8102868_GTAGGAGTCTCACTCG  HCAHeart8102868         na   D11        DCD   \n",
       "\n",
       "                                 region region_finest    age  ... facility  \\\n",
       "barcode                                                       ...            \n",
       "HCAHeart7606896_CTACGTCTCCGTCAAA     AX            AX  50-55  ...   Sanger   \n",
       "HCAHeart7606896_GATGAGGCACGGCTAC     AX            AX  50-55  ...   Sanger   \n",
       "HCAHeart7606896_TCAGGATCAGCTCGAC     AX            AX  50-55  ...   Sanger   \n",
       "HCAHeart7606896_CAAGATCGTCTCACCT     AX            AX  50-55  ...   Sanger   \n",
       "HCAHeart7606896_GCAAACTAGCTAGCCC     AX            AX  50-55  ...   Sanger   \n",
       "...                                 ...           ...    ...  ...      ...   \n",
       "HCAHeart8102868_CGATCGGTCCCTCGAT     AX            AX  60-65  ...   Sanger   \n",
       "HCAHeart8102868_ATTGGGTCAGGTCCCA     AX            AX  60-65  ...   Sanger   \n",
       "HCAHeart8102868_GCAGTTACAGCCCACA     AX            AX  60-65  ...   Sanger   \n",
       "HCAHeart8102868_AGTACCACATGAATAG     AX            AX  60-65  ...   Sanger   \n",
       "HCAHeart8102868_GTAGGAGTCTCACTCG     AX            AX  60-65  ...   Sanger   \n",
       "\n",
       "                                 cell_or_nuclei modality    kit_10x flushed  \\\n",
       "barcode                                                                       \n",
       "HCAHeart7606896_CTACGTCTCCGTCAAA           Cell    scRNA  3prime-v2      no   \n",
       "HCAHeart7606896_GATGAGGCACGGCTAC           Cell    scRNA  3prime-v2      no   \n",
       "HCAHeart7606896_TCAGGATCAGCTCGAC           Cell    scRNA  3prime-v2      no   \n",
       "HCAHeart7606896_CAAGATCGTCTCACCT           Cell    scRNA  3prime-v2      no   \n",
       "HCAHeart7606896_GCAAACTAGCTAGCCC           Cell    scRNA  3prime-v2      no   \n",
       "...                                         ...      ...        ...     ...   \n",
       "HCAHeart8102868_CGATCGGTCCCTCGAT           Cell    scRNA  3prime-v3      no   \n",
       "HCAHeart8102868_ATTGGGTCAGGTCCCA           Cell    scRNA  3prime-v3      no   \n",
       "HCAHeart8102868_GCAGTTACAGCCCACA           Cell    scRNA  3prime-v3      no   \n",
       "HCAHeart8102868_AGTACCACATGAATAG           Cell    scRNA  3prime-v3      no   \n",
       "HCAHeart8102868_GTAGGAGTCTCACTCG           Cell    scRNA  3prime-v3      no   \n",
       "\n",
       "                                 scrublet_score  scrublet_leiden  \\\n",
       "barcode                                                            \n",
       "HCAHeart7606896_CTACGTCTCCGTCAAA       0.047619              6,0   \n",
       "HCAHeart7606896_GATGAGGCACGGCTAC       0.228571              2,0   \n",
       "HCAHeart7606896_TCAGGATCAGCTCGAC       0.228571              2,0   \n",
       "HCAHeart7606896_CAAGATCGTCTCACCT       0.172414              2,0   \n",
       "HCAHeart7606896_GCAAACTAGCTAGCCC       0.228571              2,0   \n",
       "...                                         ...              ...   \n",
       "HCAHeart8102868_CGATCGGTCCCTCGAT       0.262295             12,1   \n",
       "HCAHeart8102868_ATTGGGTCAGGTCCCA       0.029891             5,20   \n",
       "HCAHeart8102868_GCAGTTACAGCCCACA       0.075342             5,10   \n",
       "HCAHeart8102868_AGTACCACATGAATAG       0.029213             14,5   \n",
       "HCAHeart8102868_GTAGGAGTCTCACTCG       0.060109             1,60   \n",
       "\n",
       "                                 cluster_scrublet_score  doublet_pval  \\\n",
       "barcode                                                                 \n",
       "HCAHeart7606896_CTACGTCTCCGTCAAA               0.047619      0.937444   \n",
       "HCAHeart7606896_GATGAGGCACGGCTAC               0.184933      0.084434   \n",
       "HCAHeart7606896_TCAGGATCAGCTCGAC               0.184933      0.084434   \n",
       "HCAHeart7606896_CAAGATCGTCTCACCT               0.184933      0.084434   \n",
       "HCAHeart7606896_GCAAACTAGCTAGCCC               0.184933      0.084434   \n",
       "...                                                 ...           ...   \n",
       "HCAHeart8102868_CGATCGGTCCCTCGAT               0.197903      0.132598   \n",
       "HCAHeart8102868_ATTGGGTCAGGTCCCA               0.047002      0.619535   \n",
       "HCAHeart8102868_GCAGTTACAGCCCACA               0.067977      0.542644   \n",
       "HCAHeart8102868_AGTACCACATGAATAG               0.027888      0.685779   \n",
       "HCAHeart8102868_GTAGGAGTCTCACTCG               0.123072      0.340613   \n",
       "\n",
       "                                  doublet_bh_pval  \n",
       "barcode                                            \n",
       "HCAHeart7606896_CTACGTCTCCGTCAAA         0.937444  \n",
       "HCAHeart7606896_GATGAGGCACGGCTAC         0.832720  \n",
       "HCAHeart7606896_TCAGGATCAGCTCGAC         0.832720  \n",
       "HCAHeart7606896_CAAGATCGTCTCACCT         0.832720  \n",
       "HCAHeart7606896_GCAAACTAGCTAGCCC         0.832720  \n",
       "...                                           ...  \n",
       "HCAHeart8102868_CGATCGGTCCCTCGAT         0.771329  \n",
       "HCAHeart8102868_ATTGGGTCAGGTCCCA         0.771329  \n",
       "HCAHeart8102868_GCAGTTACAGCCCACA         0.771329  \n",
       "HCAHeart8102868_AGTACCACATGAATAG         0.771329  \n",
       "HCAHeart8102868_GTAGGAGTCTCACTCG         0.771329  \n",
       "\n",
       "[345070 rows x 21 columns]"
      ]
     },
     "execution_count": 16,
     "metadata": {},
     "output_type": "execute_result"
    }
   ],
   "source": [
    "adata.obs"
   ]
  },
  {
   "cell_type": "code",
   "execution_count": 17,
   "id": "medical-people",
   "metadata": {},
   "outputs": [
    {
     "name": "stderr",
     "output_type": "stream",
     "text": [
      "... storing 'sangerID' as categorical\n",
      "... storing 'combinedID' as categorical\n",
      "... storing 'donor' as categorical\n",
      "... storing 'donor_type' as categorical\n",
      "... storing 'region' as categorical\n",
      "... storing 'region_finest' as categorical\n",
      "... storing 'age' as categorical\n",
      "... storing 'gender' as categorical\n",
      "... storing 'facility' as categorical\n",
      "... storing 'cell_or_nuclei' as categorical\n",
      "... storing 'modality' as categorical\n",
      "... storing 'kit_10x' as categorical\n",
      "... storing 'flushed' as categorical\n",
      "... storing 'scrublet_leiden' as categorical\n",
      "... storing 'gene_name' as categorical\n",
      "... storing 'feature_type-1' as categorical\n",
      "... storing 'feature_type-10' as categorical\n",
      "... storing 'feature_type-11' as categorical\n",
      "... storing 'feature_type-12' as categorical\n",
      "... storing 'feature_type-13' as categorical\n",
      "... storing 'feature_type-14' as categorical\n",
      "... storing 'feature_type-15' as categorical\n",
      "... storing 'feature_type-16' as categorical\n",
      "... storing 'feature_type-17' as categorical\n",
      "... storing 'feature_type-18' as categorical\n",
      "... storing 'feature_type-19' as categorical\n",
      "... storing 'feature_type-2' as categorical\n",
      "... storing 'feature_type-20' as categorical\n",
      "... storing 'feature_type-21' as categorical\n",
      "... storing 'feature_type-22' as categorical\n",
      "... storing 'feature_type-23' as categorical\n",
      "... storing 'feature_type-3' as categorical\n",
      "... storing 'feature_type-36' as categorical\n",
      "... storing 'feature_type-37' as categorical\n",
      "... storing 'feature_type-38' as categorical\n",
      "... storing 'feature_type-39' as categorical\n",
      "... storing 'feature_type-4' as categorical\n",
      "... storing 'feature_type-40' as categorical\n",
      "... storing 'feature_type-41' as categorical\n",
      "... storing 'feature_type-5' as categorical\n",
      "... storing 'feature_type-6' as categorical\n",
      "... storing 'feature_type-7' as categorical\n",
      "... storing 'feature_type-8' as categorical\n",
      "... storing 'feature_type-9' as categorical\n"
     ]
    }
   ],
   "source": [
    "adata.write('/nfs/team205/heart/anndata_objects/8regions/QC/scRNA_adult_prefilter.h5ad')"
   ]
  },
  {
   "cell_type": "code",
   "execution_count": 18,
   "id": "flexible-cartridge",
   "metadata": {},
   "outputs": [
    {
     "data": {
      "text/plain": [
       "AnnData object with n_obs × n_vars = 345070 × 33538\n",
       "    obs: 'latent_RT_efficiency', 'latent_cell_probability', 'latent_scale', 'sangerID', 'combinedID', 'donor', 'donor_type', 'region', 'region_finest', 'age', 'gender', 'facility', 'cell_or_nuclei', 'modality', 'kit_10x', 'flushed', 'scrublet_score', 'scrublet_leiden', 'cluster_scrublet_score', 'doublet_pval', 'doublet_bh_pval'\n",
       "    var: 'gene_name', 'ambient_expression-0', 'ambient_expression-1', 'feature_type-1', 'ambient_expression-10', 'feature_type-10', 'ambient_expression-11', 'feature_type-11', 'ambient_expression-12', 'feature_type-12', 'ambient_expression-13', 'feature_type-13', 'ambient_expression-14', 'feature_type-14', 'ambient_expression-15', 'feature_type-15', 'ambient_expression-16', 'feature_type-16', 'ambient_expression-17', 'feature_type-17', 'ambient_expression-18', 'feature_type-18', 'ambient_expression-19', 'feature_type-19', 'ambient_expression-2', 'feature_type-2', 'ambient_expression-20', 'feature_type-20', 'ambient_expression-21', 'feature_type-21', 'ambient_expression-22', 'feature_type-22', 'ambient_expression-23', 'feature_type-23', 'ambient_expression-24', 'ambient_expression-25', 'ambient_expression-26', 'ambient_expression-27', 'ambient_expression-28', 'ambient_expression-29', 'ambient_expression-3', 'feature_type-3', 'ambient_expression-30', 'ambient_expression-31', 'ambient_expression-32', 'ambient_expression-33', 'ambient_expression-34', 'ambient_expression-35', 'ambient_expression-36', 'feature_type-36', 'ambient_expression-37', 'feature_type-37', 'ambient_expression-38', 'feature_type-38', 'ambient_expression-39', 'feature_type-39', 'ambient_expression-4', 'feature_type-4', 'ambient_expression-40', 'feature_type-40', 'ambient_expression-41', 'feature_type-41', 'ambient_expression-42', 'ambient_expression-43', 'ambient_expression-44', 'ambient_expression-45', 'ambient_expression-46', 'ambient_expression-47', 'ambient_expression-48', 'ambient_expression-49', 'ambient_expression-5', 'feature_type-5', 'ambient_expression-50', 'ambient_expression-51', 'ambient_expression-52', 'ambient_expression-53', 'ambient_expression-6', 'feature_type-6', 'ambient_expression-7', 'feature_type-7', 'ambient_expression-8', 'feature_type-8', 'ambient_expression-9', 'feature_type-9'\n",
       "    obsm: 'latent_gene_encoding'"
      ]
     },
     "execution_count": 18,
     "metadata": {},
     "output_type": "execute_result"
    }
   ],
   "source": [
    "adata"
   ]
  },
  {
   "cell_type": "code",
   "execution_count": null,
   "id": "moral-timing",
   "metadata": {},
   "outputs": [],
   "source": []
  },
  {
   "cell_type": "code",
   "execution_count": 19,
   "id": "opened-seven",
   "metadata": {},
   "outputs": [
    {
     "data": {
      "text/plain": [
       "D11    140122\n",
       "D6      87525\n",
       "D4      36411\n",
       "D7      35120\n",
       "D5      31537\n",
       "D3      13734\n",
       "D1        621\n",
       "Name: donor, dtype: int64"
      ]
     },
     "execution_count": 19,
     "metadata": {},
     "output_type": "execute_result"
    }
   ],
   "source": [
    "adata.obs['donor'].value_counts()"
   ]
  },
  {
   "cell_type": "code",
   "execution_count": null,
   "id": "important-racing",
   "metadata": {},
   "outputs": [],
   "source": []
  },
  {
   "cell_type": "code",
   "execution_count": null,
   "id": "otherwise-appeal",
   "metadata": {},
   "outputs": [],
   "source": []
  }
 ],
 "metadata": {
  "kernelspec": {
   "display_name": "teichlab",
   "language": "python",
   "name": "teichlab"
  },
  "language_info": {
   "codemirror_mode": {
    "name": "ipython",
    "version": 3
   },
   "file_extension": ".py",
   "mimetype": "text/x-python",
   "name": "python",
   "nbconvert_exporter": "python",
   "pygments_lexer": "ipython3",
   "version": "3.8.8"
  }
 },
 "nbformat": 4,
 "nbformat_minor": 5
}
