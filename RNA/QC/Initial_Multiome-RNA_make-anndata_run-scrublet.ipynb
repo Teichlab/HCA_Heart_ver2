{
 "cells": [
  {
   "cell_type": "markdown",
   "id": "aggregate-archive",
   "metadata": {},
   "source": [
    "* INCLUDE mixed donor sample\n",
    "* REMOVED 5-prime sample\n",
    "* Add lower filtering threshhold for 'total_counts' (not only 'n_genes')\n",
    "* Add AVN samples "
   ]
  },
  {
   "cell_type": "markdown",
   "id": "random-satisfaction",
   "metadata": {},
   "source": [
    "## Import modules"
   ]
  },
  {
   "cell_type": "code",
   "execution_count": 1,
   "id": "valid-timer",
   "metadata": {},
   "outputs": [],
   "source": [
    "import numpy as np\n",
    "import pandas as pd\n",
    "import scanpy as sc\n",
    "import matplotlib.pyplot as plt\n",
    "import scrublet as scr\n",
    "import session_info"
   ]
  },
  {
   "cell_type": "code",
   "execution_count": 2,
   "id": "collect-forest",
   "metadata": {},
   "outputs": [
    {
     "data": {
      "text/html": [
       "<details>\n",
       "<summary>Click to view session information</summary>\n",
       "<pre>\n",
       "-----\n",
       "matplotlib          3.3.4\n",
       "numpy               1.20.1\n",
       "pandas              1.1.4\n",
       "scanpy              1.7.1\n",
       "scrublet            NA\n",
       "session_info        1.0.0\n",
       "-----\n",
       "</pre>\n",
       "<details>\n",
       "<summary>Click to view modules imported as dependencies</summary>\n",
       "<pre>\n",
       "PIL                 8.1.2\n",
       "anndata             0.7.5\n",
       "anyio               NA\n",
       "attr                20.3.0\n",
       "babel               2.9.0\n",
       "backcall            0.2.0\n",
       "brotli              NA\n",
       "cairo               1.20.0\n",
       "certifi             2020.12.05\n",
       "cffi                1.14.5\n",
       "chardet             4.0.0\n",
       "cloudpickle         1.6.0\n",
       "colorama            0.4.4\n",
       "cycler              0.10.0\n",
       "cython_runtime      NA\n",
       "cytoolz             0.11.0\n",
       "dask                2021.03.1\n",
       "dateutil            2.8.1\n",
       "decorator           4.4.2\n",
       "fsspec              0.8.7\n",
       "get_version         2.1\n",
       "google              NA\n",
       "h5py                2.10.0\n",
       "idna                2.10\n",
       "igraph              0.8.3\n",
       "ipykernel           5.5.0\n",
       "ipython_genutils    0.2.0\n",
       "jedi                0.18.0\n",
       "jinja2              2.11.3\n",
       "joblib              1.0.1\n",
       "json5               NA\n",
       "jsonschema          3.2.0\n",
       "jupyter_server      1.4.1\n",
       "jupyterlab_server   2.3.0\n",
       "kiwisolver          1.3.1\n",
       "legacy_api_wrap     0.0.0\n",
       "leidenalg           0.8.3\n",
       "llvmlite            0.34.0\n",
       "louvain             0.7.0\n",
       "markupsafe          1.1.1\n",
       "mpl_toolkits        NA\n",
       "natsort             7.1.1\n",
       "nbclassic           NA\n",
       "nbformat            5.1.2\n",
       "numba               0.51.2\n",
       "numexpr             2.7.3\n",
       "packaging           20.9\n",
       "parso               0.8.1\n",
       "pexpect             4.8.0\n",
       "pickleshare         0.7.5\n",
       "pkg_resources       NA\n",
       "prometheus_client   NA\n",
       "prompt_toolkit      3.0.16\n",
       "psutil              5.8.0\n",
       "ptyprocess          0.7.0\n",
       "pvectorc            NA\n",
       "pyarrow             0.16.0\n",
       "pygments            2.8.0\n",
       "pyparsing           2.4.7\n",
       "pyrsistent          NA\n",
       "pytoml              NA\n",
       "pytz                2021.1\n",
       "requests            2.25.1\n",
       "ruamel              NA\n",
       "scipy               1.6.1\n",
       "send2trash          NA\n",
       "setuptools_scm      NA\n",
       "simplejson          3.17.2\n",
       "sinfo               0.3.1\n",
       "six                 1.15.0\n",
       "sklearn             0.22\n",
       "sniffio             1.2.0\n",
       "socks               1.7.1\n",
       "sphinxcontrib       NA\n",
       "storemagic          NA\n",
       "tables              3.6.1\n",
       "tblib               1.7.0\n",
       "texttable           1.6.3\n",
       "tlz                 0.11.0\n",
       "toolz               0.11.1\n",
       "tornado             6.1\n",
       "traitlets           5.0.5\n",
       "typing_extensions   NA\n",
       "uritemplate         3.0.1\n",
       "urllib3             1.26.3\n",
       "wcwidth             0.2.5\n",
       "yaml                5.1.2\n",
       "zmq                 22.0.3\n",
       "</pre>\n",
       "</details> <!-- seems like this ends pre, so might as well be explicit -->\n",
       "<pre>\n",
       "-----\n",
       "IPython             7.21.0\n",
       "jupyter_client      6.1.11\n",
       "jupyter_core        4.7.1\n",
       "jupyterlab          3.0.9\n",
       "notebook            6.2.0\n",
       "-----\n",
       "Python 3.8.8 | packaged by conda-forge | (default, Feb 20 2021, 16:22:27) [GCC 9.3.0]\n",
       "Linux-4.15.0-112-generic-x86_64-with-glibc2.10\n",
       "-----\n",
       "Session information updated at 2022-06-04 13:48\n",
       "</pre>\n",
       "</details>"
      ],
      "text/plain": [
       "<IPython.core.display.HTML object>"
      ]
     },
     "execution_count": 2,
     "metadata": {},
     "output_type": "execute_result"
    }
   ],
   "source": [
    "sc.settings.verbosity = 3\n",
    "sc.settings.set_figure_params(dpi = 160, color_map = 'RdPu', dpi_save = 180, vector_friendly = True, format = 'svg')\n",
    "session_info.show()"
   ]
  },
  {
   "cell_type": "markdown",
   "id": "extensive-attack",
   "metadata": {},
   "source": [
    "## Functions"
   ]
  },
  {
   "cell_type": "code",
   "execution_count": 3,
   "id": "patent-courage",
   "metadata": {},
   "outputs": [],
   "source": [
    "\"\"\"Functions for downstream work with outputs of remove-background.\"\"\"\n",
    "\n",
    "# to read cellbender outputs<br>\n",
    "# https://github.com/broadinstitute/CellBender/issues/57\n",
    "\n",
    "import tables\n",
    "import numpy as np\n",
    "import scipy.sparse as sp\n",
    "from typing import Dict\n",
    "\n",
    "\n",
    "def dict_from_h5(file: str) -> Dict[str, np.ndarray]:\n",
    "    \"\"\"Read in everything from an h5 file and put into a dictionary.\"\"\"\n",
    "    d = {}\n",
    "    with tables.open_file(file) as f:\n",
    "        # read in everything\n",
    "        for array in f.walk_nodes(\"/\", \"Array\"):\n",
    "            d[array.name] = array.read()\n",
    "    return d\n",
    "\n",
    "\n",
    "def anndata_from_h5(file: str,\n",
    "                    analyzed_barcodes_only: bool = True) -> 'anndata.AnnData':\n",
    "    \"\"\"Load an output h5 file into an AnnData object for downstream work.\n",
    "\n",
    "    Args:\n",
    "        file: The h5 file\n",
    "        analyzed_barcodes_only: False to load all barcodes, so that the size of\n",
    "            the AnnData object will match the size of the input raw count matrix.\n",
    "            True to load a limited set of barcodes: only those analyzed by the\n",
    "            algorithm. This allows relevant latent variables to be loaded\n",
    "            properly into adata.obs and adata.obsm, rather than adata.uns.\n",
    "\n",
    "    Returns:\n",
    "        adata: The anndata object, populated with inferred latent variables\n",
    "            and metadata.\n",
    "\n",
    "    \"\"\"\n",
    "\n",
    "    try:\n",
    "        import anndata\n",
    "    except ImportError:\n",
    "        raise ImportError('The anndata package must be installed to use the '\n",
    "                          'function anndata_from_h5()')\n",
    "\n",
    "    d = dict_from_h5(file)\n",
    "    X = sp.csc_matrix((d.pop('data'), d.pop('indices'), d.pop('indptr')),\n",
    "                      shape=d.pop('shape')).transpose().tocsr()\n",
    "\n",
    "    if analyzed_barcodes_only:\n",
    "        if 'barcodes_analyzed_inds' in d.keys():\n",
    "            X = X[d['barcodes_analyzed_inds'], :]\n",
    "            d['barcodes'] = d['barcodes'][d['barcodes_analyzed_inds']]\n",
    "        elif 'barcode_indices_for_latents' in d.keys():\n",
    "            X = X[d['barcode_indices_for_latents'], :]\n",
    "            d['barcodes'] = d['barcodes'][d['barcode_indices_for_latents']]\n",
    "        else:\n",
    "            print('Warning: analyzed_barcodes_only=True, but the key '\n",
    "                  '\"barcodes_analyzed_inds\" or \"barcode_indices_for_latents\" '\n",
    "                  'is missing from the h5 file. '\n",
    "                  'Will output all barcodes, and proceed as if '\n",
    "                  'analyzed_barcodes_only=False')\n",
    "\n",
    "    # Construct the count matrix.\n",
    "    adata = anndata.AnnData(X=X,\n",
    "                            obs={'barcode': d.pop('barcodes').astype(str)},\n",
    "                            var={'gene_name': (d.pop('gene_names') if 'gene_names' in d.keys()\n",
    "                                               else d.pop('name')).astype(str)})\n",
    "    adata.obs.set_index('barcode', inplace=True)\n",
    "    adata.var.set_index('gene_name', inplace=True)\n",
    "\n",
    "    # Add other information to the adata object in the appropriate slot.\n",
    "    for key, value in d.items():\n",
    "        try:\n",
    "            value = np.asarray(value)\n",
    "            if len(value.shape) == 0:\n",
    "                adata.uns[key] = value\n",
    "            elif value.shape[0] == X.shape[0]:\n",
    "                if (len(value.shape) < 2) or (value.shape[1] < 2):\n",
    "                    adata.obs[key] = value\n",
    "                else:\n",
    "                    adata.obsm[key] = value\n",
    "            elif value.shape[0] == X.shape[1]:\n",
    "                if value.dtype.name.startswith('bytes'):\n",
    "                    adata.var[key] = value.astype(str)\n",
    "                else:\n",
    "                    adata.var[key] = value\n",
    "            else:\n",
    "                adata.uns[key] = value\n",
    "        except Exception:\n",
    "            print('Unable to load data into AnnData: ', key, value, type(value))\n",
    "\n",
    "    if analyzed_barcodes_only:\n",
    "        for col in adata.obs.columns[adata.obs.columns.str.startswith('barcodes_analyzed')\n",
    "                                     | adata.obs.columns.str.startswith('barcode_indices')]:\n",
    "            try:\n",
    "                del adata.obs[col]\n",
    "            except Exception:\n",
    "                pass\n",
    "\n",
    "    return adata"
   ]
  },
  {
   "cell_type": "code",
   "execution_count": 4,
   "id": "alert-error",
   "metadata": {},
   "outputs": [],
   "source": [
    "# from https://github.com/Teichlab/mapcloud/blob/master/scripts/starsolo/postprocess.py\n",
    "\n",
    "from statsmodels.stats.multitest import multipletests\n",
    "# from emptydrops.matrix import CountMatrix\n",
    "# from emptydrops import find_nonambient_barcodes\n",
    "import scrublet as scr\n",
    "import scanpy as sc\n",
    "import pandas as pd\n",
    "import numpy as np\n",
    "import scipy\n",
    "\n",
    "#some functions that Ni uses in scanpy scripts to run scrublet\n",
    "#which in turn are inspired by my original notebook on the matter\n",
    "#(extracted from scanpy_scripts 0.2.10 to get around scanpy version incompatibility)\n",
    "def test_outlier(x, upper_mad_only=True):\n",
    "\tmed = np.median(x)\n",
    "\tif upper_mad_only:\n",
    "\t\tmad = np.median(x[x>med] - med) * 1.4826\n",
    "\telse:\n",
    "\t\tmad = np.median(np.abs(x - med)) * 1.4826\n",
    "\tpvals = 1 - scipy.stats.norm.cdf(x, loc=med, scale=mad)\n",
    "\tbh_pvals = multipletests(pvals, method='fdr_bh')[1]\n",
    "\treturn pvals, bh_pvals\n",
    "\n",
    "def run_scrublet(adata, resolution_function=None):\n",
    "\told_verbosity = sc.settings.verbosity\n",
    "\tsc.settings.verbosity = 1\n",
    "\tif resolution_function is None:\n",
    "\t\tresolution_function = lambda x: np.maximum(np.maximum(np.log10(x)-1, 0)**2, 0.1)\n",
    "\tscrub = scr.Scrublet(adata.X)\n",
    "\t#this has the potential to brick for poor quality data\n",
    "\t#if so, abort it and everything downstream\n",
    "\ttry:\n",
    "\t\tds, pd = scrub.scrub_doublets(verbose=False)\n",
    "\texcept:\n",
    "\t\treturn\n",
    "\tadata.obs['scrublet_score'] = ds\n",
    "\n",
    "\tadata_copy = adata.copy()\n",
    "\tsc.pp.filter_genes(adata_copy, min_cells=3)\n",
    "\tsc.pp.normalize_total(adata_copy, target_sum=1e4)\n",
    "\tsc.pp.log1p(adata_copy)\n",
    "\tsc.pp.highly_variable_genes(adata_copy, min_mean=0.0125, max_mean=3, min_disp=0.5, subset=True)\n",
    "\tsc.pp.scale(adata_copy, zero_center=False)\n",
    "\tsc.pp.pca(adata_copy, svd_solver='arpack', zero_center=False)\n",
    "\tsc.pp.neighbors(adata_copy, n_pcs=30)\n",
    "\tsc.tl.umap(adata_copy)\n",
    "\tsc.tl.leiden(adata_copy, resolution=1)\n",
    "\tfor clst in np.unique(adata_copy.obs['leiden']):\n",
    "\t\tclst_size = sum(adata_copy.obs['leiden'] == clst)\n",
    "\t\tsc.tl.leiden(adata_copy, restrict_to=('leiden', [clst]), resolution=resolution_function(clst_size), key_added='leiden_R')\n",
    "\t\tadata_copy.obs['leiden'] = adata_copy.obs['leiden_R']\n",
    "\tclst_meds = []\n",
    "\tfor clst in np.unique(adata_copy.obs['leiden']):\n",
    "\t\tk = adata_copy.obs['leiden'] == clst\n",
    "\t\tclst_med = np.median(adata_copy.obs.loc[k, 'scrublet_score'])\n",
    "\t\tadata_copy.obs.loc[k, 'cluster_scrublet_score'] = clst_med\n",
    "\t\tclst_meds.append(clst_med)\n",
    "\tclst_meds = np.array(clst_meds)\n",
    "\tpvals, bh_pvals = test_outlier(clst_meds)\n",
    "\tfor i, clst in enumerate(np.unique(adata_copy.obs['leiden'])):\n",
    "\t\tk = adata_copy.obs['leiden'] == clst\n",
    "\t\tadata_copy.obs.loc[k, 'pval'] = pvals[i]\n",
    "\t\tadata_copy.obs.loc[k, 'bh_pval'] = bh_pvals[i]\n",
    "\tsc.settings.verbosity = old_verbosity\n",
    "\t#need to also export the clustering, for soupx purposes\n",
    "\tadata.obs['scrublet_leiden'] = adata_copy.obs['leiden']\n",
    "\tadata.obs['scrublet_score'] = adata_copy.obs['scrublet_score']\n",
    "\tadata.obs['cluster_scrublet_score'] = adata_copy.obs['cluster_scrublet_score']\n",
    "\tadata.obs['doublet_pval'] = adata_copy.obs['pval']\n",
    "\tadata.obs['doublet_bh_pval'] = adata_copy.obs['bh_pval']\n",
    "\tdel adata_copy"
   ]
  },
  {
   "cell_type": "markdown",
   "id": "english-pepper",
   "metadata": {},
   "source": [
    "## Create anndata object"
   ]
  },
  {
   "cell_type": "code",
   "execution_count": 5,
   "id": "pharmaceutical-treasurer",
   "metadata": {},
   "outputs": [
    {
     "name": "stdout",
     "output_type": "stream",
     "text": [
      "snRNA            94\n",
      "scRNA            54\n",
      "Visium           46\n",
      "Multiome-RNA     30\n",
      "Multiome-ATAC    30\n",
      "snATAC           21\n",
      "Visium-FFPE       4\n",
      "Name: modality, dtype: int64\n"
     ]
    }
   ],
   "source": [
    "# read in metadata\n",
    "metadata = pd.read_csv('/nfs/team205/heart/anndata_objects/8regions/metadata/HeartTeamSamples_Mappeddata_20220531.csv', sep = ',', index_col = None)\n",
    "metadata = metadata[metadata['Publication']=='8regions']\n",
    "\n",
    "print(metadata['modality'].value_counts())"
   ]
  },
  {
   "cell_type": "code",
   "execution_count": 6,
   "id": "refined-symphony",
   "metadata": {},
   "outputs": [],
   "source": [
    "# select modality\n",
    "metadata = metadata[metadata['modality']=='Multiome-RNA']"
   ]
  },
  {
   "cell_type": "code",
   "execution_count": 7,
   "id": "bridal-brisbane",
   "metadata": {},
   "outputs": [
    {
     "name": "stdout",
     "output_type": "stream",
     "text": [
      "HCAHeart9508627_HCAHeart9508819\n",
      "HCAHeart9508628_HCAHeart9508820\n",
      "HCAHeart9508629_HCAHeart9508821\n",
      "HCAHeart9845431_HCAHeart9917173\n",
      "HCAHeart9845432_HCAHeart9917174\n",
      "HCAHeart9845433_HCAHeart9917175\n",
      "HCAHeart9845434_HCAHeart9917176\n",
      "HCAHeart9845435_HCAHeart9917177\n",
      "HCAHeart9845436_HCAHeart9917178\n",
      "HCAHeartST10773165_HCAHeartST10781062\n",
      "HCAHeartST10773166_HCAHeartST10781063\n",
      "HCAHeartST10773167_HCAHeartST10781064\n",
      "HCAHeartST10773168_HCAHeartST10781065\n",
      "HCAHeartST10773169_HCAHeartST10781446\n",
      "HCAHeartST10773170_HCAHeartST10781447\n",
      "HCAHeartST10773171_HCAHeartST10781448\n",
      "HCAHeartST11064574_HCAHeartST11023239\n",
      "HCAHeartST11064575_HCAHeartST11023240\n",
      "HCAHeartST11064576_HCAHeartST11023241\n",
      "HCAHeartST11064577_HCAHeartST11023242\n",
      "HCAHeartST11350184_HCAHeartST11121842\n",
      "HCAHeartST11350186_HCAHeartST11121844\n",
      "HCAHeartST11350187_HCAHeartST11121845\n",
      "HCAHeartST11350192_HCAHeartST11445769\n",
      "HCAHeartST11350193_HCAHeartST11445770\n",
      "HCAHeartST11350194_HCAHeartST11445771\n",
      "HCAHeartST11350195_HCAHeartST11445772\n",
      "HCAHeartST11350196_HCAHeartST11445773\n",
      "HCAHeartST11350197_HCAHeartST11445774\n",
      "HCAHeartST11350198_HCAHeartST11445775\n"
     ]
    },
    {
     "data": {
      "text/plain": [
       "(235093, 36601)"
      ]
     },
     "execution_count": 7,
     "metadata": {},
     "output_type": "execute_result"
    }
   ],
   "source": [
    "########### editted: put id to var_names ###########\n",
    "\n",
    "# read in\n",
    "adatas=[]\n",
    "for i in range(len(metadata)):\n",
    "    print(metadata.iloc[i]['combinedID'])\n",
    "    \n",
    "    path=metadata.iloc[i]['CellBender_out']\n",
    "    adatas.append(anndata_from_h5(path + '/' + path.split('/')[-1] + '_cellbender_out_filtered.h5', analyzed_barcodes_only=False))\n",
    "    del path\n",
    "    \n",
    "    # replace var_names with gene_id \n",
    "    adatas[i].var.reset_index(inplace=True)\n",
    "    adatas[i].var.set_index('id',inplace=True)\n",
    "    \n",
    "    # modify barcodes\n",
    "    adatas[i].obs.index = metadata.iloc[i]['combinedID'] + '_' + adatas[i].obs.index \n",
    "    \n",
    "    # add metadata\n",
    "    for col in ['sangerID','combinedID', 'donor', 'donor_type', 'region', 'region_finest', 'age',\n",
    "                'gender', 'facility', 'cell_or_nuclei', 'modality', 'kit_10x','flushed']:\n",
    "        adatas[i].obs[col] = metadata.iloc[i][col]\n",
    "\n",
    "\n",
    "# concatenate\n",
    "adata = adatas[0].concatenate(adatas[1:], index_unique = None, batch_key=None)\n",
    "adata.shape"
   ]
  },
  {
   "cell_type": "code",
   "execution_count": 8,
   "id": "emotional-vatican",
   "metadata": {},
   "outputs": [
    {
     "data": {
      "text/plain": [
       "HCAHeartST11350194_HCAHeartST11445771    18132\n",
       "HCAHeartST11064577_HCAHeartST11023242    17528\n",
       "HCAHeartST10773168_HCAHeartST10781065    15618\n",
       "HCAHeartST10773171_HCAHeartST10781448    15000\n",
       "HCAHeartST10773166_HCAHeartST10781063    14353\n",
       "HCAHeartST10773170_HCAHeartST10781447    13330\n",
       "HCAHeart9508628_HCAHeart9508820          12703\n",
       "HCAHeart9508629_HCAHeart9508821          10389\n",
       "HCAHeartST11350192_HCAHeartST11445769     9707\n",
       "HCAHeart9845434_HCAHeart9917176           9401\n",
       "HCAHeart9845431_HCAHeart9917173           9020\n",
       "HCAHeart9845436_HCAHeart9917178           8517\n",
       "HCAHeartST10773167_HCAHeartST10781064     7800\n",
       "HCAHeart9845435_HCAHeart9917177           7681\n",
       "HCAHeartST11350195_HCAHeartST11445772     7333\n",
       "HCAHeartST11064575_HCAHeartST11023240     7141\n",
       "HCAHeartST10773165_HCAHeartST10781062     6743\n",
       "HCAHeartST11350197_HCAHeartST11445774     6469\n",
       "HCAHeartST11350198_HCAHeartST11445775     6090\n",
       "HCAHeart9845433_HCAHeart9917175           5031\n",
       "HCAHeart9845432_HCAHeart9917174           4583\n",
       "HCAHeartST10773169_HCAHeartST10781446     4287\n",
       "HCAHeart9508627_HCAHeart9508819           3697\n",
       "HCAHeartST11350193_HCAHeartST11445770     3625\n",
       "HCAHeartST11350184_HCAHeartST11121842     2651\n",
       "HCAHeartST11350196_HCAHeartST11445773     2459\n",
       "HCAHeartST11064576_HCAHeartST11023241     2031\n",
       "HCAHeartST11350186_HCAHeartST11121844     1510\n",
       "HCAHeartST11064574_HCAHeartST11023239     1167\n",
       "HCAHeartST11350187_HCAHeartST11121845     1097\n",
       "Name: combinedID, dtype: int64"
      ]
     },
     "execution_count": 8,
     "metadata": {},
     "output_type": "execute_result"
    }
   ],
   "source": [
    "adata.obs['combinedID'].value_counts()"
   ]
  },
  {
   "cell_type": "code",
   "execution_count": null,
   "id": "uniform-angel",
   "metadata": {},
   "outputs": [],
   "source": []
  },
  {
   "cell_type": "markdown",
   "id": "difficult-formation",
   "metadata": {},
   "source": [
    "## Run scrublet"
   ]
  },
  {
   "cell_type": "code",
   "execution_count": 9,
   "id": "third-sleeping",
   "metadata": {},
   "outputs": [
    {
     "name": "stdout",
     "output_type": "stream",
     "text": [
      "HCAHeart9508627_HCAHeart9508819\n"
     ]
    },
    {
     "name": "stderr",
     "output_type": "stream",
     "text": [
      "/opt/conda/envs/teichlab/lib/python3.8/site-packages/scrublet/helper_functions.py:321: RuntimeWarning: divide by zero encountered in true_divide\n",
      "  w.setdiag(float(target_total) / tots_use)\n",
      "WARNING: Some cells have total count of genes equal to zero\n"
     ]
    },
    {
     "name": "stdout",
     "output_type": "stream",
     "text": [
      "HCAHeart9508628_HCAHeart9508820\n"
     ]
    },
    {
     "name": "stderr",
     "output_type": "stream",
     "text": [
      "/opt/conda/envs/teichlab/lib/python3.8/site-packages/scrublet/helper_functions.py:321: RuntimeWarning: divide by zero encountered in true_divide\n",
      "  w.setdiag(float(target_total) / tots_use)\n",
      "WARNING: Some cells have total count of genes equal to zero\n"
     ]
    },
    {
     "name": "stdout",
     "output_type": "stream",
     "text": [
      "HCAHeart9508629_HCAHeart9508821\n"
     ]
    },
    {
     "name": "stderr",
     "output_type": "stream",
     "text": [
      "/opt/conda/envs/teichlab/lib/python3.8/site-packages/scrublet/helper_functions.py:321: RuntimeWarning: divide by zero encountered in true_divide\n",
      "  w.setdiag(float(target_total) / tots_use)\n",
      "WARNING: Some cells have total count of genes equal to zero\n"
     ]
    },
    {
     "name": "stdout",
     "output_type": "stream",
     "text": [
      "HCAHeart9845431_HCAHeart9917173\n"
     ]
    },
    {
     "name": "stderr",
     "output_type": "stream",
     "text": [
      "/opt/conda/envs/teichlab/lib/python3.8/site-packages/scrublet/helper_functions.py:321: RuntimeWarning: divide by zero encountered in true_divide\n",
      "  w.setdiag(float(target_total) / tots_use)\n",
      "WARNING: Some cells have total count of genes equal to zero\n"
     ]
    },
    {
     "name": "stdout",
     "output_type": "stream",
     "text": [
      "HCAHeart9845432_HCAHeart9917174\n",
      "HCAHeart9845433_HCAHeart9917175\n",
      "HCAHeart9845434_HCAHeart9917176\n"
     ]
    },
    {
     "name": "stderr",
     "output_type": "stream",
     "text": [
      "/opt/conda/envs/teichlab/lib/python3.8/site-packages/scrublet/helper_functions.py:321: RuntimeWarning: divide by zero encountered in true_divide\n",
      "  w.setdiag(float(target_total) / tots_use)\n",
      "WARNING: Some cells have total count of genes equal to zero\n"
     ]
    },
    {
     "name": "stdout",
     "output_type": "stream",
     "text": [
      "HCAHeart9845435_HCAHeart9917177\n"
     ]
    },
    {
     "name": "stderr",
     "output_type": "stream",
     "text": [
      "/opt/conda/envs/teichlab/lib/python3.8/site-packages/scrublet/helper_functions.py:321: RuntimeWarning: divide by zero encountered in true_divide\n",
      "  w.setdiag(float(target_total) / tots_use)\n",
      "WARNING: Some cells have total count of genes equal to zero\n"
     ]
    },
    {
     "name": "stdout",
     "output_type": "stream",
     "text": [
      "HCAHeart9845436_HCAHeart9917178\n"
     ]
    },
    {
     "name": "stderr",
     "output_type": "stream",
     "text": [
      "/opt/conda/envs/teichlab/lib/python3.8/site-packages/scrublet/helper_functions.py:321: RuntimeWarning: divide by zero encountered in true_divide\n",
      "  w.setdiag(float(target_total) / tots_use)\n",
      "WARNING: Some cells have total count of genes equal to zero\n"
     ]
    },
    {
     "name": "stdout",
     "output_type": "stream",
     "text": [
      "HCAHeartST10773165_HCAHeartST10781062\n"
     ]
    },
    {
     "name": "stderr",
     "output_type": "stream",
     "text": [
      "/opt/conda/envs/teichlab/lib/python3.8/site-packages/scrublet/helper_functions.py:321: RuntimeWarning: divide by zero encountered in true_divide\n",
      "  w.setdiag(float(target_total) / tots_use)\n",
      "WARNING: Some cells have total count of genes equal to zero\n"
     ]
    },
    {
     "name": "stdout",
     "output_type": "stream",
     "text": [
      "HCAHeartST10773166_HCAHeartST10781063\n"
     ]
    },
    {
     "name": "stderr",
     "output_type": "stream",
     "text": [
      "/opt/conda/envs/teichlab/lib/python3.8/site-packages/scrublet/helper_functions.py:321: RuntimeWarning: divide by zero encountered in true_divide\n",
      "  w.setdiag(float(target_total) / tots_use)\n",
      "WARNING: Some cells have total count of genes equal to zero\n"
     ]
    },
    {
     "name": "stdout",
     "output_type": "stream",
     "text": [
      "HCAHeartST10773167_HCAHeartST10781064\n"
     ]
    },
    {
     "name": "stderr",
     "output_type": "stream",
     "text": [
      "/opt/conda/envs/teichlab/lib/python3.8/site-packages/scrublet/helper_functions.py:321: RuntimeWarning: divide by zero encountered in true_divide\n",
      "  w.setdiag(float(target_total) / tots_use)\n",
      "WARNING: Some cells have total count of genes equal to zero\n"
     ]
    },
    {
     "name": "stdout",
     "output_type": "stream",
     "text": [
      "HCAHeartST10773168_HCAHeartST10781065\n"
     ]
    },
    {
     "name": "stderr",
     "output_type": "stream",
     "text": [
      "/opt/conda/envs/teichlab/lib/python3.8/site-packages/scrublet/helper_functions.py:321: RuntimeWarning: divide by zero encountered in true_divide\n",
      "  w.setdiag(float(target_total) / tots_use)\n",
      "WARNING: Some cells have total count of genes equal to zero\n"
     ]
    },
    {
     "name": "stdout",
     "output_type": "stream",
     "text": [
      "HCAHeartST10773169_HCAHeartST10781446\n"
     ]
    },
    {
     "name": "stderr",
     "output_type": "stream",
     "text": [
      "/opt/conda/envs/teichlab/lib/python3.8/site-packages/scrublet/helper_functions.py:321: RuntimeWarning: divide by zero encountered in true_divide\n",
      "  w.setdiag(float(target_total) / tots_use)\n",
      "WARNING: Some cells have total count of genes equal to zero\n"
     ]
    },
    {
     "name": "stdout",
     "output_type": "stream",
     "text": [
      "HCAHeartST10773170_HCAHeartST10781447\n"
     ]
    },
    {
     "name": "stderr",
     "output_type": "stream",
     "text": [
      "/opt/conda/envs/teichlab/lib/python3.8/site-packages/scrublet/helper_functions.py:321: RuntimeWarning: divide by zero encountered in true_divide\n",
      "  w.setdiag(float(target_total) / tots_use)\n",
      "WARNING: Some cells have total count of genes equal to zero\n"
     ]
    },
    {
     "name": "stdout",
     "output_type": "stream",
     "text": [
      "HCAHeartST10773171_HCAHeartST10781448\n",
      "HCAHeartST11064574_HCAHeartST11023239\n"
     ]
    },
    {
     "name": "stderr",
     "output_type": "stream",
     "text": [
      "/opt/conda/envs/teichlab/lib/python3.8/site-packages/scrublet/helper_functions.py:321: RuntimeWarning: divide by zero encountered in true_divide\n",
      "  w.setdiag(float(target_total) / tots_use)\n",
      "WARNING: Some cells have total count of genes equal to zero\n"
     ]
    },
    {
     "name": "stdout",
     "output_type": "stream",
     "text": [
      "HCAHeartST11064575_HCAHeartST11023240\n"
     ]
    },
    {
     "name": "stderr",
     "output_type": "stream",
     "text": [
      "/opt/conda/envs/teichlab/lib/python3.8/site-packages/scrublet/helper_functions.py:321: RuntimeWarning: divide by zero encountered in true_divide\n",
      "  w.setdiag(float(target_total) / tots_use)\n",
      "WARNING: Some cells have total count of genes equal to zero\n"
     ]
    },
    {
     "name": "stdout",
     "output_type": "stream",
     "text": [
      "HCAHeartST11064576_HCAHeartST11023241\n"
     ]
    },
    {
     "name": "stderr",
     "output_type": "stream",
     "text": [
      "/opt/conda/envs/teichlab/lib/python3.8/site-packages/scrublet/helper_functions.py:321: RuntimeWarning: divide by zero encountered in true_divide\n",
      "  w.setdiag(float(target_total) / tots_use)\n",
      "WARNING: Some cells have total count of genes equal to zero\n"
     ]
    },
    {
     "name": "stdout",
     "output_type": "stream",
     "text": [
      "HCAHeartST11064577_HCAHeartST11023242\n"
     ]
    },
    {
     "name": "stderr",
     "output_type": "stream",
     "text": [
      "/opt/conda/envs/teichlab/lib/python3.8/site-packages/scrublet/helper_functions.py:321: RuntimeWarning: divide by zero encountered in true_divide\n",
      "  w.setdiag(float(target_total) / tots_use)\n",
      "WARNING: Some cells have total count of genes equal to zero\n"
     ]
    },
    {
     "name": "stdout",
     "output_type": "stream",
     "text": [
      "HCAHeartST11350184_HCAHeartST11121842\n"
     ]
    },
    {
     "name": "stderr",
     "output_type": "stream",
     "text": [
      "/opt/conda/envs/teichlab/lib/python3.8/site-packages/scrublet/helper_functions.py:321: RuntimeWarning: divide by zero encountered in true_divide\n",
      "  w.setdiag(float(target_total) / tots_use)\n",
      "WARNING: Some cells have total count of genes equal to zero\n"
     ]
    },
    {
     "name": "stdout",
     "output_type": "stream",
     "text": [
      "HCAHeartST11350186_HCAHeartST11121844\n"
     ]
    },
    {
     "name": "stderr",
     "output_type": "stream",
     "text": [
      "/opt/conda/envs/teichlab/lib/python3.8/site-packages/scrublet/helper_functions.py:321: RuntimeWarning: divide by zero encountered in true_divide\n",
      "  w.setdiag(float(target_total) / tots_use)\n",
      "WARNING: Some cells have total count of genes equal to zero\n"
     ]
    },
    {
     "name": "stdout",
     "output_type": "stream",
     "text": [
      "HCAHeartST11350187_HCAHeartST11121845\n"
     ]
    },
    {
     "name": "stderr",
     "output_type": "stream",
     "text": [
      "/opt/conda/envs/teichlab/lib/python3.8/site-packages/scrublet/helper_functions.py:321: RuntimeWarning: divide by zero encountered in true_divide\n",
      "  w.setdiag(float(target_total) / tots_use)\n",
      "WARNING: Some cells have total count of genes equal to zero\n"
     ]
    },
    {
     "name": "stdout",
     "output_type": "stream",
     "text": [
      "HCAHeartST11350192_HCAHeartST11445769\n"
     ]
    },
    {
     "name": "stderr",
     "output_type": "stream",
     "text": [
      "/opt/conda/envs/teichlab/lib/python3.8/site-packages/scrublet/helper_functions.py:321: RuntimeWarning: divide by zero encountered in true_divide\n",
      "  w.setdiag(float(target_total) / tots_use)\n",
      "WARNING: Some cells have total count of genes equal to zero\n"
     ]
    },
    {
     "name": "stdout",
     "output_type": "stream",
     "text": [
      "HCAHeartST11350193_HCAHeartST11445770\n"
     ]
    },
    {
     "name": "stderr",
     "output_type": "stream",
     "text": [
      "/opt/conda/envs/teichlab/lib/python3.8/site-packages/scrublet/helper_functions.py:321: RuntimeWarning: divide by zero encountered in true_divide\n",
      "  w.setdiag(float(target_total) / tots_use)\n",
      "WARNING: Some cells have total count of genes equal to zero\n"
     ]
    },
    {
     "name": "stdout",
     "output_type": "stream",
     "text": [
      "HCAHeartST11350194_HCAHeartST11445771\n"
     ]
    },
    {
     "name": "stderr",
     "output_type": "stream",
     "text": [
      "/opt/conda/envs/teichlab/lib/python3.8/site-packages/scrublet/helper_functions.py:321: RuntimeWarning: divide by zero encountered in true_divide\n",
      "  w.setdiag(float(target_total) / tots_use)\n",
      "WARNING: Some cells have total count of genes equal to zero\n"
     ]
    },
    {
     "name": "stdout",
     "output_type": "stream",
     "text": [
      "HCAHeartST11350195_HCAHeartST11445772\n"
     ]
    },
    {
     "name": "stderr",
     "output_type": "stream",
     "text": [
      "/opt/conda/envs/teichlab/lib/python3.8/site-packages/scrublet/helper_functions.py:321: RuntimeWarning: divide by zero encountered in true_divide\n",
      "  w.setdiag(float(target_total) / tots_use)\n",
      "WARNING: Some cells have total count of genes equal to zero\n"
     ]
    },
    {
     "name": "stdout",
     "output_type": "stream",
     "text": [
      "HCAHeartST11350196_HCAHeartST11445773\n"
     ]
    },
    {
     "name": "stderr",
     "output_type": "stream",
     "text": [
      "/opt/conda/envs/teichlab/lib/python3.8/site-packages/scrublet/helper_functions.py:321: RuntimeWarning: divide by zero encountered in true_divide\n",
      "  w.setdiag(float(target_total) / tots_use)\n",
      "WARNING: Some cells have total count of genes equal to zero\n"
     ]
    },
    {
     "name": "stdout",
     "output_type": "stream",
     "text": [
      "HCAHeartST11350197_HCAHeartST11445774\n"
     ]
    },
    {
     "name": "stderr",
     "output_type": "stream",
     "text": [
      "/opt/conda/envs/teichlab/lib/python3.8/site-packages/scrublet/helper_functions.py:321: RuntimeWarning: divide by zero encountered in true_divide\n",
      "  w.setdiag(float(target_total) / tots_use)\n",
      "WARNING: Some cells have total count of genes equal to zero\n"
     ]
    },
    {
     "name": "stdout",
     "output_type": "stream",
     "text": [
      "HCAHeartST11350198_HCAHeartST11445775\n"
     ]
    },
    {
     "name": "stderr",
     "output_type": "stream",
     "text": [
      "/opt/conda/envs/teichlab/lib/python3.8/site-packages/scrublet/helper_functions.py:321: RuntimeWarning: divide by zero encountered in true_divide\n",
      "  w.setdiag(float(target_total) / tots_use)\n",
      "WARNING: Some cells have total count of genes equal to zero\n"
     ]
    },
    {
     "name": "stdout",
     "output_type": "stream",
     "text": [
      "CPU times: user 51min 30s, sys: 36min 27s, total: 1h 27min 57s\n",
      "Wall time: 27min 2s\n"
     ]
    }
   ],
   "source": [
    "%%time\n",
    "\n",
    "# per rxn\n",
    "for i,ID in enumerate(adata.obs['combinedID'].unique()):\n",
    "    print(ID)\n",
    "    \n",
    "    ad = adata[adata.obs['combinedID'] == ID].copy()\n",
    "    run_scrublet(ad)\n",
    "    if i==0:\n",
    "        meta = ad.obs\n",
    "    else:\n",
    "        meta = pd.concat([meta, ad.obs])\n",
    "    del ad"
   ]
  },
  {
   "cell_type": "markdown",
   "id": "overhead-baking",
   "metadata": {},
   "source": [
    "## Add scrublet outputs to adata"
   ]
  },
  {
   "cell_type": "code",
   "execution_count": 10,
   "id": "optimum-northern",
   "metadata": {},
   "outputs": [
    {
     "data": {
      "text/plain": [
       "(235093, 5)"
      ]
     },
     "execution_count": 10,
     "metadata": {},
     "output_type": "execute_result"
    }
   ],
   "source": [
    "meta_scrub = meta[['scrublet_score', 'scrublet_leiden', 'cluster_scrublet_score', 'doublet_pval', 'doublet_bh_pval']].copy()\n",
    "meta_scrub.shape"
   ]
  },
  {
   "cell_type": "code",
   "execution_count": 11,
   "id": "ethical-belle",
   "metadata": {},
   "outputs": [],
   "source": [
    "if meta_scrub.reindex(adata.obs.index).index.equals(adata.obs.index):\n",
    "    adata.obs = pd.concat([adata.obs, meta_scrub.reindex(adata.obs.index)], axis=1)\n",
    "else:\n",
    "    raise Exception('Different barcodes in meta and adata')"
   ]
  },
  {
   "cell_type": "code",
   "execution_count": 12,
   "id": "criminal-cancellation",
   "metadata": {},
   "outputs": [
    {
     "data": {
      "text/html": [
       "<div>\n",
       "<style scoped>\n",
       "    .dataframe tbody tr th:only-of-type {\n",
       "        vertical-align: middle;\n",
       "    }\n",
       "\n",
       "    .dataframe tbody tr th {\n",
       "        vertical-align: top;\n",
       "    }\n",
       "\n",
       "    .dataframe thead th {\n",
       "        text-align: right;\n",
       "    }\n",
       "</style>\n",
       "<table border=\"1\" class=\"dataframe\">\n",
       "  <thead>\n",
       "    <tr style=\"text-align: right;\">\n",
       "      <th></th>\n",
       "      <th>latent_RT_efficiency</th>\n",
       "      <th>latent_cell_probability</th>\n",
       "      <th>latent_scale</th>\n",
       "      <th>sangerID</th>\n",
       "      <th>combinedID</th>\n",
       "      <th>donor</th>\n",
       "      <th>donor_type</th>\n",
       "      <th>region</th>\n",
       "      <th>region_finest</th>\n",
       "      <th>age</th>\n",
       "      <th>...</th>\n",
       "      <th>facility</th>\n",
       "      <th>cell_or_nuclei</th>\n",
       "      <th>modality</th>\n",
       "      <th>kit_10x</th>\n",
       "      <th>flushed</th>\n",
       "      <th>scrublet_score</th>\n",
       "      <th>scrublet_leiden</th>\n",
       "      <th>cluster_scrublet_score</th>\n",
       "      <th>doublet_pval</th>\n",
       "      <th>doublet_bh_pval</th>\n",
       "    </tr>\n",
       "    <tr>\n",
       "      <th>barcode</th>\n",
       "      <th></th>\n",
       "      <th></th>\n",
       "      <th></th>\n",
       "      <th></th>\n",
       "      <th></th>\n",
       "      <th></th>\n",
       "      <th></th>\n",
       "      <th></th>\n",
       "      <th></th>\n",
       "      <th></th>\n",
       "      <th></th>\n",
       "      <th></th>\n",
       "      <th></th>\n",
       "      <th></th>\n",
       "      <th></th>\n",
       "      <th></th>\n",
       "      <th></th>\n",
       "      <th></th>\n",
       "      <th></th>\n",
       "      <th></th>\n",
       "      <th></th>\n",
       "    </tr>\n",
       "  </thead>\n",
       "  <tbody>\n",
       "    <tr>\n",
       "      <th>HCAHeart9508627_HCAHeart9508819_AGGAAACGTTTATCGC-1</th>\n",
       "      <td>10.730612</td>\n",
       "      <td>1.0</td>\n",
       "      <td>42174.875000</td>\n",
       "      <td>HCAHeart9508627</td>\n",
       "      <td>HCAHeart9508627_HCAHeart9508819</td>\n",
       "      <td>D3</td>\n",
       "      <td>DBD</td>\n",
       "      <td>LV</td>\n",
       "      <td>LV</td>\n",
       "      <td>55-60</td>\n",
       "      <td>...</td>\n",
       "      <td>Sanger</td>\n",
       "      <td>Nuclei</td>\n",
       "      <td>Multiome-RNA</td>\n",
       "      <td>Multiome-v1</td>\n",
       "      <td>no</td>\n",
       "      <td>0.196850</td>\n",
       "      <td>0,12</td>\n",
       "      <td>0.208791</td>\n",
       "      <td>0.133687</td>\n",
       "      <td>0.776992</td>\n",
       "    </tr>\n",
       "    <tr>\n",
       "      <th>HCAHeart9508627_HCAHeart9508819_CACTAGCCATAATGAG-1</th>\n",
       "      <td>10.228636</td>\n",
       "      <td>1.0</td>\n",
       "      <td>42687.246094</td>\n",
       "      <td>HCAHeart9508627</td>\n",
       "      <td>HCAHeart9508627_HCAHeart9508819</td>\n",
       "      <td>D3</td>\n",
       "      <td>DBD</td>\n",
       "      <td>LV</td>\n",
       "      <td>LV</td>\n",
       "      <td>55-60</td>\n",
       "      <td>...</td>\n",
       "      <td>Sanger</td>\n",
       "      <td>Nuclei</td>\n",
       "      <td>Multiome-RNA</td>\n",
       "      <td>Multiome-v1</td>\n",
       "      <td>no</td>\n",
       "      <td>0.208791</td>\n",
       "      <td>0,12</td>\n",
       "      <td>0.208791</td>\n",
       "      <td>0.133687</td>\n",
       "      <td>0.776992</td>\n",
       "    </tr>\n",
       "    <tr>\n",
       "      <th>HCAHeart9508627_HCAHeart9508819_CGTTTCTCAACTAACT-1</th>\n",
       "      <td>9.976335</td>\n",
       "      <td>1.0</td>\n",
       "      <td>36491.726562</td>\n",
       "      <td>HCAHeart9508627</td>\n",
       "      <td>HCAHeart9508627_HCAHeart9508819</td>\n",
       "      <td>D3</td>\n",
       "      <td>DBD</td>\n",
       "      <td>LV</td>\n",
       "      <td>LV</td>\n",
       "      <td>55-60</td>\n",
       "      <td>...</td>\n",
       "      <td>Sanger</td>\n",
       "      <td>Nuclei</td>\n",
       "      <td>Multiome-RNA</td>\n",
       "      <td>Multiome-v1</td>\n",
       "      <td>no</td>\n",
       "      <td>0.166667</td>\n",
       "      <td>6,3</td>\n",
       "      <td>0.221902</td>\n",
       "      <td>0.108982</td>\n",
       "      <td>0.776992</td>\n",
       "    </tr>\n",
       "    <tr>\n",
       "      <th>HCAHeart9508627_HCAHeart9508819_TGTAAGTGTAAGCACC-1</th>\n",
       "      <td>9.076878</td>\n",
       "      <td>1.0</td>\n",
       "      <td>42754.671875</td>\n",
       "      <td>HCAHeart9508627</td>\n",
       "      <td>HCAHeart9508627_HCAHeart9508819</td>\n",
       "      <td>D3</td>\n",
       "      <td>DBD</td>\n",
       "      <td>LV</td>\n",
       "      <td>LV</td>\n",
       "      <td>55-60</td>\n",
       "      <td>...</td>\n",
       "      <td>Sanger</td>\n",
       "      <td>Nuclei</td>\n",
       "      <td>Multiome-RNA</td>\n",
       "      <td>Multiome-v1</td>\n",
       "      <td>no</td>\n",
       "      <td>0.196850</td>\n",
       "      <td>0,12</td>\n",
       "      <td>0.208791</td>\n",
       "      <td>0.133687</td>\n",
       "      <td>0.776992</td>\n",
       "    </tr>\n",
       "    <tr>\n",
       "      <th>HCAHeart9508627_HCAHeart9508819_ACGTTACAGCATTTCT-1</th>\n",
       "      <td>10.063547</td>\n",
       "      <td>1.0</td>\n",
       "      <td>31437.021484</td>\n",
       "      <td>HCAHeart9508627</td>\n",
       "      <td>HCAHeart9508627_HCAHeart9508819</td>\n",
       "      <td>D3</td>\n",
       "      <td>DBD</td>\n",
       "      <td>LV</td>\n",
       "      <td>LV</td>\n",
       "      <td>55-60</td>\n",
       "      <td>...</td>\n",
       "      <td>Sanger</td>\n",
       "      <td>Nuclei</td>\n",
       "      <td>Multiome-RNA</td>\n",
       "      <td>Multiome-v1</td>\n",
       "      <td>no</td>\n",
       "      <td>0.196850</td>\n",
       "      <td>6,12</td>\n",
       "      <td>0.196850</td>\n",
       "      <td>0.159319</td>\n",
       "      <td>0.776992</td>\n",
       "    </tr>\n",
       "  </tbody>\n",
       "</table>\n",
       "<p>5 rows × 21 columns</p>\n",
       "</div>"
      ],
      "text/plain": [
       "                                                    latent_RT_efficiency  \\\n",
       "barcode                                                                    \n",
       "HCAHeart9508627_HCAHeart9508819_AGGAAACGTTTATCGC-1             10.730612   \n",
       "HCAHeart9508627_HCAHeart9508819_CACTAGCCATAATGAG-1             10.228636   \n",
       "HCAHeart9508627_HCAHeart9508819_CGTTTCTCAACTAACT-1              9.976335   \n",
       "HCAHeart9508627_HCAHeart9508819_TGTAAGTGTAAGCACC-1              9.076878   \n",
       "HCAHeart9508627_HCAHeart9508819_ACGTTACAGCATTTCT-1             10.063547   \n",
       "\n",
       "                                                    latent_cell_probability  \\\n",
       "barcode                                                                       \n",
       "HCAHeart9508627_HCAHeart9508819_AGGAAACGTTTATCGC-1                      1.0   \n",
       "HCAHeart9508627_HCAHeart9508819_CACTAGCCATAATGAG-1                      1.0   \n",
       "HCAHeart9508627_HCAHeart9508819_CGTTTCTCAACTAACT-1                      1.0   \n",
       "HCAHeart9508627_HCAHeart9508819_TGTAAGTGTAAGCACC-1                      1.0   \n",
       "HCAHeart9508627_HCAHeart9508819_ACGTTACAGCATTTCT-1                      1.0   \n",
       "\n",
       "                                                    latent_scale  \\\n",
       "barcode                                                            \n",
       "HCAHeart9508627_HCAHeart9508819_AGGAAACGTTTATCGC-1  42174.875000   \n",
       "HCAHeart9508627_HCAHeart9508819_CACTAGCCATAATGAG-1  42687.246094   \n",
       "HCAHeart9508627_HCAHeart9508819_CGTTTCTCAACTAACT-1  36491.726562   \n",
       "HCAHeart9508627_HCAHeart9508819_TGTAAGTGTAAGCACC-1  42754.671875   \n",
       "HCAHeart9508627_HCAHeart9508819_ACGTTACAGCATTTCT-1  31437.021484   \n",
       "\n",
       "                                                           sangerID  \\\n",
       "barcode                                                               \n",
       "HCAHeart9508627_HCAHeart9508819_AGGAAACGTTTATCGC-1  HCAHeart9508627   \n",
       "HCAHeart9508627_HCAHeart9508819_CACTAGCCATAATGAG-1  HCAHeart9508627   \n",
       "HCAHeart9508627_HCAHeart9508819_CGTTTCTCAACTAACT-1  HCAHeart9508627   \n",
       "HCAHeart9508627_HCAHeart9508819_TGTAAGTGTAAGCACC-1  HCAHeart9508627   \n",
       "HCAHeart9508627_HCAHeart9508819_ACGTTACAGCATTTCT-1  HCAHeart9508627   \n",
       "\n",
       "                                                                         combinedID  \\\n",
       "barcode                                                                               \n",
       "HCAHeart9508627_HCAHeart9508819_AGGAAACGTTTATCGC-1  HCAHeart9508627_HCAHeart9508819   \n",
       "HCAHeart9508627_HCAHeart9508819_CACTAGCCATAATGAG-1  HCAHeart9508627_HCAHeart9508819   \n",
       "HCAHeart9508627_HCAHeart9508819_CGTTTCTCAACTAACT-1  HCAHeart9508627_HCAHeart9508819   \n",
       "HCAHeart9508627_HCAHeart9508819_TGTAAGTGTAAGCACC-1  HCAHeart9508627_HCAHeart9508819   \n",
       "HCAHeart9508627_HCAHeart9508819_ACGTTACAGCATTTCT-1  HCAHeart9508627_HCAHeart9508819   \n",
       "\n",
       "                                                   donor donor_type region  \\\n",
       "barcode                                                                      \n",
       "HCAHeart9508627_HCAHeart9508819_AGGAAACGTTTATCGC-1    D3        DBD     LV   \n",
       "HCAHeart9508627_HCAHeart9508819_CACTAGCCATAATGAG-1    D3        DBD     LV   \n",
       "HCAHeart9508627_HCAHeart9508819_CGTTTCTCAACTAACT-1    D3        DBD     LV   \n",
       "HCAHeart9508627_HCAHeart9508819_TGTAAGTGTAAGCACC-1    D3        DBD     LV   \n",
       "HCAHeart9508627_HCAHeart9508819_ACGTTACAGCATTTCT-1    D3        DBD     LV   \n",
       "\n",
       "                                                   region_finest    age  ...  \\\n",
       "barcode                                                                  ...   \n",
       "HCAHeart9508627_HCAHeart9508819_AGGAAACGTTTATCGC-1            LV  55-60  ...   \n",
       "HCAHeart9508627_HCAHeart9508819_CACTAGCCATAATGAG-1            LV  55-60  ...   \n",
       "HCAHeart9508627_HCAHeart9508819_CGTTTCTCAACTAACT-1            LV  55-60  ...   \n",
       "HCAHeart9508627_HCAHeart9508819_TGTAAGTGTAAGCACC-1            LV  55-60  ...   \n",
       "HCAHeart9508627_HCAHeart9508819_ACGTTACAGCATTTCT-1            LV  55-60  ...   \n",
       "\n",
       "                                                   facility cell_or_nuclei  \\\n",
       "barcode                                                                      \n",
       "HCAHeart9508627_HCAHeart9508819_AGGAAACGTTTATCGC-1   Sanger         Nuclei   \n",
       "HCAHeart9508627_HCAHeart9508819_CACTAGCCATAATGAG-1   Sanger         Nuclei   \n",
       "HCAHeart9508627_HCAHeart9508819_CGTTTCTCAACTAACT-1   Sanger         Nuclei   \n",
       "HCAHeart9508627_HCAHeart9508819_TGTAAGTGTAAGCACC-1   Sanger         Nuclei   \n",
       "HCAHeart9508627_HCAHeart9508819_ACGTTACAGCATTTCT-1   Sanger         Nuclei   \n",
       "\n",
       "                                                        modality      kit_10x  \\\n",
       "barcode                                                                         \n",
       "HCAHeart9508627_HCAHeart9508819_AGGAAACGTTTATCGC-1  Multiome-RNA  Multiome-v1   \n",
       "HCAHeart9508627_HCAHeart9508819_CACTAGCCATAATGAG-1  Multiome-RNA  Multiome-v1   \n",
       "HCAHeart9508627_HCAHeart9508819_CGTTTCTCAACTAACT-1  Multiome-RNA  Multiome-v1   \n",
       "HCAHeart9508627_HCAHeart9508819_TGTAAGTGTAAGCACC-1  Multiome-RNA  Multiome-v1   \n",
       "HCAHeart9508627_HCAHeart9508819_ACGTTACAGCATTTCT-1  Multiome-RNA  Multiome-v1   \n",
       "\n",
       "                                                   flushed scrublet_score  \\\n",
       "barcode                                                                     \n",
       "HCAHeart9508627_HCAHeart9508819_AGGAAACGTTTATCGC-1      no       0.196850   \n",
       "HCAHeart9508627_HCAHeart9508819_CACTAGCCATAATGAG-1      no       0.208791   \n",
       "HCAHeart9508627_HCAHeart9508819_CGTTTCTCAACTAACT-1      no       0.166667   \n",
       "HCAHeart9508627_HCAHeart9508819_TGTAAGTGTAAGCACC-1      no       0.196850   \n",
       "HCAHeart9508627_HCAHeart9508819_ACGTTACAGCATTTCT-1      no       0.196850   \n",
       "\n",
       "                                                    scrublet_leiden  \\\n",
       "barcode                                                               \n",
       "HCAHeart9508627_HCAHeart9508819_AGGAAACGTTTATCGC-1             0,12   \n",
       "HCAHeart9508627_HCAHeart9508819_CACTAGCCATAATGAG-1             0,12   \n",
       "HCAHeart9508627_HCAHeart9508819_CGTTTCTCAACTAACT-1              6,3   \n",
       "HCAHeart9508627_HCAHeart9508819_TGTAAGTGTAAGCACC-1             0,12   \n",
       "HCAHeart9508627_HCAHeart9508819_ACGTTACAGCATTTCT-1             6,12   \n",
       "\n",
       "                                                   cluster_scrublet_score  \\\n",
       "barcode                                                                     \n",
       "HCAHeart9508627_HCAHeart9508819_AGGAAACGTTTATCGC-1               0.208791   \n",
       "HCAHeart9508627_HCAHeart9508819_CACTAGCCATAATGAG-1               0.208791   \n",
       "HCAHeart9508627_HCAHeart9508819_CGTTTCTCAACTAACT-1               0.221902   \n",
       "HCAHeart9508627_HCAHeart9508819_TGTAAGTGTAAGCACC-1               0.208791   \n",
       "HCAHeart9508627_HCAHeart9508819_ACGTTACAGCATTTCT-1               0.196850   \n",
       "\n",
       "                                                    doublet_pval  \\\n",
       "barcode                                                            \n",
       "HCAHeart9508627_HCAHeart9508819_AGGAAACGTTTATCGC-1      0.133687   \n",
       "HCAHeart9508627_HCAHeart9508819_CACTAGCCATAATGAG-1      0.133687   \n",
       "HCAHeart9508627_HCAHeart9508819_CGTTTCTCAACTAACT-1      0.108982   \n",
       "HCAHeart9508627_HCAHeart9508819_TGTAAGTGTAAGCACC-1      0.133687   \n",
       "HCAHeart9508627_HCAHeart9508819_ACGTTACAGCATTTCT-1      0.159319   \n",
       "\n",
       "                                                    doublet_bh_pval  \n",
       "barcode                                                              \n",
       "HCAHeart9508627_HCAHeart9508819_AGGAAACGTTTATCGC-1         0.776992  \n",
       "HCAHeart9508627_HCAHeart9508819_CACTAGCCATAATGAG-1         0.776992  \n",
       "HCAHeart9508627_HCAHeart9508819_CGTTTCTCAACTAACT-1         0.776992  \n",
       "HCAHeart9508627_HCAHeart9508819_TGTAAGTGTAAGCACC-1         0.776992  \n",
       "HCAHeart9508627_HCAHeart9508819_ACGTTACAGCATTTCT-1         0.776992  \n",
       "\n",
       "[5 rows x 21 columns]"
      ]
     },
     "execution_count": 12,
     "metadata": {},
     "output_type": "execute_result"
    }
   ],
   "source": [
    "adata.obs.head()"
   ]
  },
  {
   "cell_type": "code",
   "execution_count": 13,
   "id": "liked-replication",
   "metadata": {},
   "outputs": [
    {
     "name": "stderr",
     "output_type": "stream",
     "text": [
      "... storing 'sangerID' as categorical\n",
      "... storing 'combinedID' as categorical\n",
      "... storing 'donor' as categorical\n",
      "... storing 'donor_type' as categorical\n",
      "... storing 'region' as categorical\n",
      "... storing 'region_finest' as categorical\n",
      "... storing 'age' as categorical\n",
      "... storing 'gender' as categorical\n",
      "... storing 'facility' as categorical\n",
      "... storing 'cell_or_nuclei' as categorical\n",
      "... storing 'modality' as categorical\n",
      "... storing 'kit_10x' as categorical\n",
      "... storing 'flushed' as categorical\n",
      "... storing 'scrublet_leiden' as categorical\n",
      "... storing 'gene_name' as categorical\n",
      "... storing 'feature_type' as categorical\n"
     ]
    }
   ],
   "source": [
    "adata.write('/nfs/team205/heart/anndata_objects/8regions/QC/multiome_RNA_adult_prefilter.h5ad')"
   ]
  },
  {
   "cell_type": "code",
   "execution_count": 14,
   "id": "desirable-disaster",
   "metadata": {},
   "outputs": [
    {
     "data": {
      "text/plain": [
       "AnnData object with n_obs × n_vars = 235093 × 36601\n",
       "    obs: 'latent_RT_efficiency', 'latent_cell_probability', 'latent_scale', 'sangerID', 'combinedID', 'donor', 'donor_type', 'region', 'region_finest', 'age', 'gender', 'facility', 'cell_or_nuclei', 'modality', 'kit_10x', 'flushed', 'scrublet_score', 'scrublet_leiden', 'cluster_scrublet_score', 'doublet_pval', 'doublet_bh_pval'\n",
       "    var: 'gene_name', 'feature_type', 'ambient_expression-0', 'ambient_expression-1', 'ambient_expression-10', 'ambient_expression-11', 'ambient_expression-12', 'ambient_expression-13', 'ambient_expression-14', 'ambient_expression-15', 'ambient_expression-16', 'ambient_expression-17', 'ambient_expression-18', 'ambient_expression-19', 'ambient_expression-2', 'ambient_expression-20', 'ambient_expression-21', 'ambient_expression-22', 'ambient_expression-23', 'ambient_expression-24', 'ambient_expression-25', 'ambient_expression-26', 'ambient_expression-27', 'ambient_expression-28', 'ambient_expression-29', 'ambient_expression-3', 'ambient_expression-4', 'ambient_expression-5', 'ambient_expression-6', 'ambient_expression-7', 'ambient_expression-8', 'ambient_expression-9'\n",
       "    obsm: 'latent_gene_encoding'"
      ]
     },
     "execution_count": 14,
     "metadata": {},
     "output_type": "execute_result"
    }
   ],
   "source": [
    "adata"
   ]
  },
  {
   "cell_type": "code",
   "execution_count": 15,
   "id": "overhead-glossary",
   "metadata": {},
   "outputs": [
    {
     "data": {
      "text/plain": [
       "AH1        104998\n",
       "A61         55325\n",
       "D8          44233\n",
       "D7          23092\n",
       "AH1-A61      3748\n",
       "D3           3697\n",
       "Name: donor, dtype: int64"
      ]
     },
     "execution_count": 15,
     "metadata": {},
     "output_type": "execute_result"
    }
   ],
   "source": [
    "adata.obs['donor'].value_counts()"
   ]
  },
  {
   "cell_type": "code",
   "execution_count": null,
   "id": "median-delta",
   "metadata": {},
   "outputs": [],
   "source": []
  },
  {
   "cell_type": "code",
   "execution_count": null,
   "id": "basic-given",
   "metadata": {},
   "outputs": [],
   "source": []
  }
 ],
 "metadata": {
  "kernelspec": {
   "display_name": "teichlab",
   "language": "python",
   "name": "teichlab"
  },
  "language_info": {
   "codemirror_mode": {
    "name": "ipython",
    "version": 3
   },
   "file_extension": ".py",
   "mimetype": "text/x-python",
   "name": "python",
   "nbconvert_exporter": "python",
   "pygments_lexer": "ipython3",
   "version": "3.8.8"
  }
 },
 "nbformat": 4,
 "nbformat_minor": 5
}
