{
 "cells": [
  {
   "cell_type": "markdown",
   "id": "subject-accordance",
   "metadata": {},
   "source": [
    "* INCLUDE mixed donor sample\n",
    "* REMOVED 5-prime sample\n",
    "* Add lower filtering threshhold for 'total_counts' (not only 'n_genes')\n",
    "* Add AVN samples "
   ]
  },
  {
   "cell_type": "markdown",
   "id": "hindu-robert",
   "metadata": {},
   "source": [
    "## Import modules"
   ]
  },
  {
   "cell_type": "code",
   "execution_count": 1,
   "id": "adequate-missouri",
   "metadata": {},
   "outputs": [],
   "source": [
    "import numpy as np\n",
    "import pandas as pd\n",
    "import scanpy as sc\n",
    "import matplotlib.pyplot as plt\n",
    "import scrublet as scr\n",
    "import session_info"
   ]
  },
  {
   "cell_type": "code",
   "execution_count": 2,
   "id": "sunset-thought",
   "metadata": {},
   "outputs": [
    {
     "data": {
      "text/html": [
       "<details>\n",
       "<summary>Click to view session information</summary>\n",
       "<pre>\n",
       "-----\n",
       "matplotlib          3.3.4\n",
       "numpy               1.20.1\n",
       "pandas              1.1.4\n",
       "scanpy              1.7.1\n",
       "scrublet            NA\n",
       "session_info        1.0.0\n",
       "-----\n",
       "</pre>\n",
       "<details>\n",
       "<summary>Click to view modules imported as dependencies</summary>\n",
       "<pre>\n",
       "PIL                 8.1.2\n",
       "anndata             0.7.5\n",
       "anyio               NA\n",
       "attr                20.3.0\n",
       "babel               2.9.0\n",
       "backcall            0.2.0\n",
       "brotli              NA\n",
       "cairo               1.20.0\n",
       "certifi             2020.12.05\n",
       "cffi                1.14.5\n",
       "chardet             4.0.0\n",
       "cloudpickle         1.6.0\n",
       "colorama            0.4.4\n",
       "cycler              0.10.0\n",
       "cython_runtime      NA\n",
       "cytoolz             0.11.0\n",
       "dask                2021.03.1\n",
       "dateutil            2.8.1\n",
       "decorator           4.4.2\n",
       "fsspec              0.8.7\n",
       "get_version         2.1\n",
       "google              NA\n",
       "h5py                2.10.0\n",
       "idna                2.10\n",
       "igraph              0.8.3\n",
       "ipykernel           5.5.0\n",
       "ipython_genutils    0.2.0\n",
       "jedi                0.18.0\n",
       "jinja2              2.11.3\n",
       "joblib              1.0.1\n",
       "json5               NA\n",
       "jsonschema          3.2.0\n",
       "jupyter_server      1.4.1\n",
       "jupyterlab_server   2.3.0\n",
       "kiwisolver          1.3.1\n",
       "legacy_api_wrap     0.0.0\n",
       "leidenalg           0.8.3\n",
       "llvmlite            0.34.0\n",
       "louvain             0.7.0\n",
       "markupsafe          1.1.1\n",
       "mpl_toolkits        NA\n",
       "natsort             7.1.1\n",
       "nbclassic           NA\n",
       "nbformat            5.1.2\n",
       "numba               0.51.2\n",
       "numexpr             2.7.3\n",
       "packaging           20.9\n",
       "parso               0.8.1\n",
       "pexpect             4.8.0\n",
       "pickleshare         0.7.5\n",
       "pkg_resources       NA\n",
       "prometheus_client   NA\n",
       "prompt_toolkit      3.0.16\n",
       "psutil              5.8.0\n",
       "ptyprocess          0.7.0\n",
       "pvectorc            NA\n",
       "pyarrow             0.16.0\n",
       "pygments            2.8.0\n",
       "pyparsing           2.4.7\n",
       "pyrsistent          NA\n",
       "pytoml              NA\n",
       "pytz                2021.1\n",
       "requests            2.25.1\n",
       "ruamel              NA\n",
       "scipy               1.6.1\n",
       "send2trash          NA\n",
       "setuptools_scm      NA\n",
       "simplejson          3.17.2\n",
       "sinfo               0.3.1\n",
       "six                 1.15.0\n",
       "sklearn             0.22\n",
       "sniffio             1.2.0\n",
       "socks               1.7.1\n",
       "sphinxcontrib       NA\n",
       "storemagic          NA\n",
       "tables              3.6.1\n",
       "tblib               1.7.0\n",
       "texttable           1.6.3\n",
       "tlz                 0.11.0\n",
       "toolz               0.11.1\n",
       "tornado             6.1\n",
       "traitlets           5.0.5\n",
       "typing_extensions   NA\n",
       "uritemplate         3.0.1\n",
       "urllib3             1.26.3\n",
       "wcwidth             0.2.5\n",
       "yaml                5.1.2\n",
       "zmq                 22.0.3\n",
       "</pre>\n",
       "</details> <!-- seems like this ends pre, so might as well be explicit -->\n",
       "<pre>\n",
       "-----\n",
       "IPython             7.21.0\n",
       "jupyter_client      6.1.11\n",
       "jupyter_core        4.7.1\n",
       "jupyterlab          3.0.9\n",
       "notebook            6.2.0\n",
       "-----\n",
       "Python 3.8.8 | packaged by conda-forge | (default, Feb 20 2021, 16:22:27) [GCC 9.3.0]\n",
       "Linux-4.15.0-112-generic-x86_64-with-glibc2.10\n",
       "-----\n",
       "Session information updated at 2022-06-04 13:52\n",
       "</pre>\n",
       "</details>"
      ],
      "text/plain": [
       "<IPython.core.display.HTML object>"
      ]
     },
     "execution_count": 2,
     "metadata": {},
     "output_type": "execute_result"
    }
   ],
   "source": [
    "sc.settings.verbosity = 3\n",
    "sc.settings.set_figure_params(dpi = 160, color_map = 'RdPu', dpi_save = 180, vector_friendly = True, format = 'svg')\n",
    "session_info.show()"
   ]
  },
  {
   "cell_type": "markdown",
   "id": "legendary-chick",
   "metadata": {},
   "source": [
    "## Functions"
   ]
  },
  {
   "cell_type": "code",
   "execution_count": 3,
   "id": "decent-invalid",
   "metadata": {},
   "outputs": [],
   "source": [
    "\"\"\"Functions for downstream work with outputs of remove-background.\"\"\"\n",
    "\n",
    "# to read cellbender outputs<br>\n",
    "# https://github.com/broadinstitute/CellBender/issues/57\n",
    "\n",
    "import tables\n",
    "import numpy as np\n",
    "import scipy.sparse as sp\n",
    "from typing import Dict\n",
    "\n",
    "\n",
    "def dict_from_h5(file: str) -> Dict[str, np.ndarray]:\n",
    "    \"\"\"Read in everything from an h5 file and put into a dictionary.\"\"\"\n",
    "    d = {}\n",
    "    with tables.open_file(file) as f:\n",
    "        # read in everything\n",
    "        for array in f.walk_nodes(\"/\", \"Array\"):\n",
    "            d[array.name] = array.read()\n",
    "    return d\n",
    "\n",
    "\n",
    "def anndata_from_h5(file: str,\n",
    "                    analyzed_barcodes_only: bool = True) -> 'anndata.AnnData':\n",
    "    \"\"\"Load an output h5 file into an AnnData object for downstream work.\n",
    "\n",
    "    Args:\n",
    "        file: The h5 file\n",
    "        analyzed_barcodes_only: False to load all barcodes, so that the size of\n",
    "            the AnnData object will match the size of the input raw count matrix.\n",
    "            True to load a limited set of barcodes: only those analyzed by the\n",
    "            algorithm. This allows relevant latent variables to be loaded\n",
    "            properly into adata.obs and adata.obsm, rather than adata.uns.\n",
    "\n",
    "    Returns:\n",
    "        adata: The anndata object, populated with inferred latent variables\n",
    "            and metadata.\n",
    "\n",
    "    \"\"\"\n",
    "\n",
    "    try:\n",
    "        import anndata\n",
    "    except ImportError:\n",
    "        raise ImportError('The anndata package must be installed to use the '\n",
    "                          'function anndata_from_h5()')\n",
    "\n",
    "    d = dict_from_h5(file)\n",
    "    X = sp.csc_matrix((d.pop('data'), d.pop('indices'), d.pop('indptr')),\n",
    "                      shape=d.pop('shape')).transpose().tocsr()\n",
    "\n",
    "    if analyzed_barcodes_only:\n",
    "        if 'barcodes_analyzed_inds' in d.keys():\n",
    "            X = X[d['barcodes_analyzed_inds'], :]\n",
    "            d['barcodes'] = d['barcodes'][d['barcodes_analyzed_inds']]\n",
    "        elif 'barcode_indices_for_latents' in d.keys():\n",
    "            X = X[d['barcode_indices_for_latents'], :]\n",
    "            d['barcodes'] = d['barcodes'][d['barcode_indices_for_latents']]\n",
    "        else:\n",
    "            print('Warning: analyzed_barcodes_only=True, but the key '\n",
    "                  '\"barcodes_analyzed_inds\" or \"barcode_indices_for_latents\" '\n",
    "                  'is missing from the h5 file. '\n",
    "                  'Will output all barcodes, and proceed as if '\n",
    "                  'analyzed_barcodes_only=False')\n",
    "\n",
    "    # Construct the count matrix.\n",
    "    adata = anndata.AnnData(X=X,\n",
    "                            obs={'barcode': d.pop('barcodes').astype(str)},\n",
    "                            var={'gene_name': (d.pop('gene_names') if 'gene_names' in d.keys()\n",
    "                                               else d.pop('name')).astype(str)})\n",
    "    adata.obs.set_index('barcode', inplace=True)\n",
    "    adata.var.set_index('gene_name', inplace=True)\n",
    "\n",
    "    # Add other information to the adata object in the appropriate slot.\n",
    "    for key, value in d.items():\n",
    "        try:\n",
    "            value = np.asarray(value)\n",
    "            if len(value.shape) == 0:\n",
    "                adata.uns[key] = value\n",
    "            elif value.shape[0] == X.shape[0]:\n",
    "                if (len(value.shape) < 2) or (value.shape[1] < 2):\n",
    "                    adata.obs[key] = value\n",
    "                else:\n",
    "                    adata.obsm[key] = value\n",
    "            elif value.shape[0] == X.shape[1]:\n",
    "                if value.dtype.name.startswith('bytes'):\n",
    "                    adata.var[key] = value.astype(str)\n",
    "                else:\n",
    "                    adata.var[key] = value\n",
    "            else:\n",
    "                adata.uns[key] = value\n",
    "        except Exception:\n",
    "            print('Unable to load data into AnnData: ', key, value, type(value))\n",
    "\n",
    "    if analyzed_barcodes_only:\n",
    "        for col in adata.obs.columns[adata.obs.columns.str.startswith('barcodes_analyzed')\n",
    "                                     | adata.obs.columns.str.startswith('barcode_indices')]:\n",
    "            try:\n",
    "                del adata.obs[col]\n",
    "            except Exception:\n",
    "                pass\n",
    "\n",
    "    return adata"
   ]
  },
  {
   "cell_type": "code",
   "execution_count": 4,
   "id": "listed-thinking",
   "metadata": {},
   "outputs": [],
   "source": [
    "# from https://github.com/Teichlab/mapcloud/blob/master/scripts/starsolo/postprocess.py\n",
    "\n",
    "from statsmodels.stats.multitest import multipletests\n",
    "# from emptydrops.matrix import CountMatrix\n",
    "# from emptydrops import find_nonambient_barcodes\n",
    "import scrublet as scr\n",
    "import scanpy as sc\n",
    "import pandas as pd\n",
    "import numpy as np\n",
    "import scipy\n",
    "\n",
    "#some functions that Ni uses in scanpy scripts to run scrublet\n",
    "#which in turn are inspired by my original notebook on the matter\n",
    "#(extracted from scanpy_scripts 0.2.10 to get around scanpy version incompatibility)\n",
    "def test_outlier(x, upper_mad_only=True):\n",
    "\tmed = np.median(x)\n",
    "\tif upper_mad_only:\n",
    "\t\tmad = np.median(x[x>med] - med) * 1.4826\n",
    "\telse:\n",
    "\t\tmad = np.median(np.abs(x - med)) * 1.4826\n",
    "\tpvals = 1 - scipy.stats.norm.cdf(x, loc=med, scale=mad)\n",
    "\tbh_pvals = multipletests(pvals, method='fdr_bh')[1]\n",
    "\treturn pvals, bh_pvals\n",
    "\n",
    "def run_scrublet(adata, resolution_function=None):\n",
    "\told_verbosity = sc.settings.verbosity\n",
    "\tsc.settings.verbosity = 1\n",
    "\tif resolution_function is None:\n",
    "\t\tresolution_function = lambda x: np.maximum(np.maximum(np.log10(x)-1, 0)**2, 0.1)\n",
    "\tscrub = scr.Scrublet(adata.X)\n",
    "\t#this has the potential to brick for poor quality data\n",
    "\t#if so, abort it and everything downstream\n",
    "\ttry:\n",
    "\t\tds, pd = scrub.scrub_doublets(verbose=False)\n",
    "\texcept:\n",
    "\t\treturn\n",
    "\tadata.obs['scrublet_score'] = ds\n",
    "\n",
    "\tadata_copy = adata.copy()\n",
    "\tsc.pp.filter_genes(adata_copy, min_cells=3)\n",
    "\tsc.pp.normalize_total(adata_copy, target_sum=1e4)\n",
    "\tsc.pp.log1p(adata_copy)\n",
    "\tsc.pp.highly_variable_genes(adata_copy, min_mean=0.0125, max_mean=3, min_disp=0.5, subset=True)\n",
    "\tsc.pp.scale(adata_copy, zero_center=False)\n",
    "\tsc.pp.pca(adata_copy, svd_solver='arpack', zero_center=False)\n",
    "\tsc.pp.neighbors(adata_copy, n_pcs=30)\n",
    "\tsc.tl.umap(adata_copy)\n",
    "\tsc.tl.leiden(adata_copy, resolution=1)\n",
    "\tfor clst in np.unique(adata_copy.obs['leiden']):\n",
    "\t\tclst_size = sum(adata_copy.obs['leiden'] == clst)\n",
    "\t\tsc.tl.leiden(adata_copy, restrict_to=('leiden', [clst]), resolution=resolution_function(clst_size), key_added='leiden_R')\n",
    "\t\tadata_copy.obs['leiden'] = adata_copy.obs['leiden_R']\n",
    "\tclst_meds = []\n",
    "\tfor clst in np.unique(adata_copy.obs['leiden']):\n",
    "\t\tk = adata_copy.obs['leiden'] == clst\n",
    "\t\tclst_med = np.median(adata_copy.obs.loc[k, 'scrublet_score'])\n",
    "\t\tadata_copy.obs.loc[k, 'cluster_scrublet_score'] = clst_med\n",
    "\t\tclst_meds.append(clst_med)\n",
    "\tclst_meds = np.array(clst_meds)\n",
    "\tpvals, bh_pvals = test_outlier(clst_meds)\n",
    "\tfor i, clst in enumerate(np.unique(adata_copy.obs['leiden'])):\n",
    "\t\tk = adata_copy.obs['leiden'] == clst\n",
    "\t\tadata_copy.obs.loc[k, 'pval'] = pvals[i]\n",
    "\t\tadata_copy.obs.loc[k, 'bh_pval'] = bh_pvals[i]\n",
    "\tsc.settings.verbosity = old_verbosity\n",
    "\t#need to also export the clustering, for soupx purposes\n",
    "\tadata.obs['scrublet_leiden'] = adata_copy.obs['leiden']\n",
    "\tadata.obs['scrublet_score'] = adata_copy.obs['scrublet_score']\n",
    "\tadata.obs['cluster_scrublet_score'] = adata_copy.obs['cluster_scrublet_score']\n",
    "\tadata.obs['doublet_pval'] = adata_copy.obs['pval']\n",
    "\tadata.obs['doublet_bh_pval'] = adata_copy.obs['bh_pval']\n",
    "\tdel adata_copy"
   ]
  },
  {
   "cell_type": "markdown",
   "id": "english-needle",
   "metadata": {},
   "source": [
    "## Create anndata object"
   ]
  },
  {
   "cell_type": "code",
   "execution_count": 5,
   "id": "improving-penetration",
   "metadata": {},
   "outputs": [
    {
     "name": "stdout",
     "output_type": "stream",
     "text": [
      "snRNA            94\n",
      "scRNA            54\n",
      "Visium           46\n",
      "Multiome-ATAC    30\n",
      "Multiome-RNA     30\n",
      "snATAC           21\n",
      "Visium-FFPE       4\n",
      "Name: modality, dtype: int64\n"
     ]
    }
   ],
   "source": [
    "# read in metadata\n",
    "metadata = pd.read_csv('/nfs/team205/heart/anndata_objects/8regions/metadata/HeartTeamSamples_Mappeddata_20220531.csv', sep = ',', index_col = None)\n",
    "metadata = metadata[metadata['Publication']=='8regions']\n",
    "\n",
    "print(metadata['modality'].value_counts())"
   ]
  },
  {
   "cell_type": "code",
   "execution_count": 6,
   "id": "asian-baseline",
   "metadata": {},
   "outputs": [],
   "source": [
    "# select modality\n",
    "metadata = metadata[metadata['modality']=='snRNA']"
   ]
  },
  {
   "cell_type": "code",
   "execution_count": 7,
   "id": "interstate-samoa",
   "metadata": {},
   "outputs": [
    {
     "name": "stdout",
     "output_type": "stream",
     "text": [
      "HCAHeart7656539\n",
      "HCAHeart7664652\n",
      "HCAHeart7664653\n",
      "HCAHeart7664654\n",
      "HCAHeart7698015\n",
      "HCAHeart7698016\n",
      "HCAHeart7698017\n",
      "HCAHeart7702873\n",
      "HCAHeart7702874\n",
      "HCAHeart7702875\n",
      "HCAHeart7702876\n",
      "HCAHeart7702877\n",
      "HCAHeart7702878\n",
      "HCAHeart7702879\n",
      "HCAHeart7702880\n",
      "HCAHeart7702881\n",
      "HCAHeart7702882\n",
      "HCAHeart7757636\n",
      "HCAHeart7757637\n",
      "HCAHeart7757638\n",
      "HCAHeart7757639\n",
      "HCAHeart7829976\n",
      "HCAHeart7829977\n",
      "HCAHeart7829978\n",
      "HCAHeart7829979\n",
      "HCAHeart7833852\n",
      "HCAHeart7833853\n",
      "HCAHeart7833854\n",
      "HCAHeart7833855\n",
      "HCAHeart7835148\n",
      "HCAHeart7835149\n",
      "HCAHeart7836681\n",
      "HCAHeart7836682\n",
      "HCAHeart7836683\n",
      "HCAHeart7836684\n",
      "HCAHeart7880860\n",
      "HCAHeart7880861\n",
      "HCAHeart7880862\n",
      "HCAHeart7880863\n",
      "HCAHeart7888922\n",
      "HCAHeart7888923\n",
      "HCAHeart7888924\n",
      "HCAHeart7888925\n",
      "HCAHeart7888926\n",
      "HCAHeart7888927\n",
      "HCAHeart7888928\n",
      "HCAHeart7888929\n",
      "HCAHeart7964513\n",
      "HCAHeart7985086\n",
      "HCAHeart7985087\n",
      "HCAHeart7985088\n",
      "HCAHeart7985089\n",
      "HCAHeart8287123\n",
      "HCAHeart8287124\n",
      "HCAHeart8287125\n",
      "HCAHeart8287126\n",
      "HCAHeart8287127\n",
      "HCAHeart8287128\n",
      "H0015_apex\n",
      "H0015_LA\n",
      "H0015_LV\n",
      "H0015_RA\n",
      "H0015_RV\n",
      "H0015_septum\n",
      "H0020_apex\n",
      "H0020_LA\n",
      "H0020_LV\n",
      "H0020_RA\n",
      "H0020_RV\n",
      "H0020_septum\n",
      "H0025_apex\n",
      "H0025_LA\n",
      "H0025_LV\n",
      "H0025_RA\n",
      "H0025_RV\n",
      "H0025_septum\n",
      "H0026_apex\n",
      "H0026_LA\n",
      "H0026_LV\n",
      "H0026_RA\n",
      "H0026_RV\n",
      "H0026_septum2\n",
      "H0035_apex\n",
      "H0035_LA\n",
      "H0035_LV\n",
      "H0035_RA\n",
      "H0035_RV\n",
      "H0035_septum\n",
      "H0037_Apex\n",
      "H0037_LA\n",
      "H0037_LV\n",
      "H0037_RA\n",
      "H0037_RV\n",
      "H0037_septum\n"
     ]
    },
    {
     "data": {
      "text/plain": [
       "(464734, 33538)"
      ]
     },
     "execution_count": 7,
     "metadata": {},
     "output_type": "execute_result"
    }
   ],
   "source": [
    "########### editted: put id to var_names ###########\n",
    "\n",
    "# read in\n",
    "adatas=[]\n",
    "for i in range(len(metadata)):\n",
    "    print(metadata.iloc[i]['sangerID'])\n",
    "    \n",
    "    path=metadata.iloc[i]['CellBender_out']\n",
    "    adatas.append(anndata_from_h5(path + '/' + path.split('/')[-1] + '_cellbender_out_filtered.h5', analyzed_barcodes_only=False))\n",
    "    del path\n",
    "    \n",
    "    # replace var_names with ensembleID\n",
    "    adatas[i].var.reset_index(inplace=True)\n",
    "    if 'id' in adatas[i].var.columns:\n",
    "        adatas[i].var.set_index('id',inplace=True)\n",
    "    else:\n",
    "        adatas[i].var.set_index('genes',inplace=True)\n",
    "    \n",
    "    # modify barcodes\n",
    "    adatas[i].obs.index = metadata.iloc[i]['sangerID'] + '_' + adatas[i].obs.index \n",
    "    \n",
    "    # add metadata\n",
    "    for col in ['sangerID','combinedID', 'donor', 'donor_type', 'region', 'region_finest', 'age',\n",
    "                'gender', 'facility', 'cell_or_nuclei', 'modality', 'kit_10x','flushed']:\n",
    "        adatas[i].obs[col] = metadata.iloc[i][col]\n",
    "\n",
    "\n",
    "# concatenate\n",
    "adata = adatas[0].concatenate(adatas[1:], index_unique = None, batch_key=None)\n",
    "adata.shape"
   ]
  },
  {
   "cell_type": "code",
   "execution_count": 8,
   "id": "narrow-timothy",
   "metadata": {},
   "outputs": [
    {
     "name": "stdout",
     "output_type": "stream",
     "text": [
      "Index(['gene_name', 'ambient_expression', 'feature_type'], dtype='object')\n",
      "Index(['gene_name', 'ambient_expression', 'feature_type'], dtype='object')\n",
      "Index(['gene_name', 'ambient_expression', 'feature_type'], dtype='object')\n",
      "Index(['gene_name', 'ambient_expression', 'feature_type'], dtype='object')\n",
      "Index(['gene_name', 'ambient_expression', 'feature_type'], dtype='object')\n",
      "Index(['gene_name', 'ambient_expression', 'feature_type'], dtype='object')\n",
      "Index(['gene_name', 'ambient_expression', 'feature_type'], dtype='object')\n",
      "Index(['gene_name', 'ambient_expression', 'feature_type'], dtype='object')\n",
      "Index(['gene_name', 'ambient_expression', 'feature_type'], dtype='object')\n",
      "Index(['gene_name', 'ambient_expression', 'feature_type'], dtype='object')\n",
      "Index(['gene_name', 'ambient_expression', 'feature_type'], dtype='object')\n",
      "Index(['gene_name', 'ambient_expression', 'feature_type'], dtype='object')\n",
      "Index(['gene_name', 'ambient_expression', 'feature_type'], dtype='object')\n",
      "Index(['gene_name', 'ambient_expression', 'feature_type'], dtype='object')\n",
      "Index(['gene_name', 'ambient_expression', 'feature_type'], dtype='object')\n",
      "Index(['gene_name', 'ambient_expression', 'feature_type'], dtype='object')\n",
      "Index(['gene_name', 'ambient_expression', 'feature_type'], dtype='object')\n",
      "Index(['gene_name', 'ambient_expression', 'feature_type'], dtype='object')\n",
      "Index(['gene_name', 'ambient_expression', 'feature_type'], dtype='object')\n",
      "Index(['gene_name', 'ambient_expression', 'feature_type'], dtype='object')\n",
      "Index(['gene_name', 'ambient_expression', 'feature_type'], dtype='object')\n",
      "Index(['gene_name', 'ambient_expression'], dtype='object')\n",
      "Index(['gene_name', 'ambient_expression'], dtype='object')\n",
      "Index(['gene_name', 'ambient_expression'], dtype='object')\n",
      "Index(['gene_name', 'ambient_expression'], dtype='object')\n",
      "Index(['gene_name', 'ambient_expression'], dtype='object')\n",
      "Index(['gene_name', 'ambient_expression'], dtype='object')\n",
      "Index(['gene_name', 'ambient_expression'], dtype='object')\n",
      "Index(['gene_name', 'ambient_expression'], dtype='object')\n",
      "Index(['gene_name', 'ambient_expression'], dtype='object')\n",
      "Index(['gene_name', 'ambient_expression'], dtype='object')\n",
      "Index(['gene_name', 'ambient_expression', 'feature_type'], dtype='object')\n",
      "Index(['gene_name', 'ambient_expression', 'feature_type'], dtype='object')\n",
      "Index(['gene_name', 'ambient_expression', 'feature_type'], dtype='object')\n",
      "Index(['gene_name', 'ambient_expression', 'feature_type'], dtype='object')\n",
      "Index(['gene_name', 'ambient_expression', 'feature_type'], dtype='object')\n",
      "Index(['gene_name', 'ambient_expression', 'feature_type'], dtype='object')\n",
      "Index(['gene_name', 'ambient_expression', 'feature_type'], dtype='object')\n",
      "Index(['gene_name', 'ambient_expression', 'feature_type'], dtype='object')\n",
      "Index(['gene_name', 'ambient_expression', 'feature_type'], dtype='object')\n",
      "Index(['gene_name', 'ambient_expression', 'feature_type'], dtype='object')\n",
      "Index(['gene_name', 'ambient_expression', 'feature_type'], dtype='object')\n",
      "Index(['gene_name', 'ambient_expression', 'feature_type'], dtype='object')\n",
      "Index(['gene_name', 'ambient_expression', 'feature_type'], dtype='object')\n",
      "Index(['gene_name', 'ambient_expression', 'feature_type'], dtype='object')\n",
      "Index(['gene_name', 'ambient_expression', 'feature_type'], dtype='object')\n",
      "Index(['gene_name', 'ambient_expression', 'feature_type'], dtype='object')\n",
      "Index(['gene_name', 'ambient_expression'], dtype='object')\n",
      "Index(['gene_name', 'ambient_expression'], dtype='object')\n",
      "Index(['gene_name', 'ambient_expression'], dtype='object')\n",
      "Index(['gene_name', 'ambient_expression'], dtype='object')\n",
      "Index(['gene_name', 'ambient_expression'], dtype='object')\n",
      "Index(['gene_name', 'ambient_expression'], dtype='object')\n",
      "Index(['gene_name', 'ambient_expression'], dtype='object')\n",
      "Index(['gene_name', 'ambient_expression'], dtype='object')\n",
      "Index(['gene_name', 'ambient_expression'], dtype='object')\n",
      "Index(['gene_name', 'ambient_expression'], dtype='object')\n",
      "Index(['gene_name', 'ambient_expression'], dtype='object')\n",
      "Index(['gene_name', 'ambient_expression'], dtype='object')\n",
      "Index(['gene_name', 'ambient_expression'], dtype='object')\n",
      "Index(['gene_name', 'ambient_expression'], dtype='object')\n",
      "Index(['gene_name', 'ambient_expression'], dtype='object')\n",
      "Index(['gene_name', 'ambient_expression'], dtype='object')\n",
      "Index(['gene_name', 'ambient_expression'], dtype='object')\n",
      "Index(['gene_name', 'ambient_expression'], dtype='object')\n",
      "Index(['gene_name', 'ambient_expression'], dtype='object')\n",
      "Index(['gene_name', 'ambient_expression'], dtype='object')\n",
      "Index(['gene_name', 'ambient_expression'], dtype='object')\n",
      "Index(['gene_name', 'ambient_expression'], dtype='object')\n",
      "Index(['gene_name', 'ambient_expression'], dtype='object')\n",
      "Index(['gene_name', 'ambient_expression'], dtype='object')\n",
      "Index(['gene_name', 'ambient_expression'], dtype='object')\n",
      "Index(['gene_name', 'ambient_expression'], dtype='object')\n",
      "Index(['gene_name', 'ambient_expression'], dtype='object')\n",
      "Index(['gene_name', 'ambient_expression'], dtype='object')\n",
      "Index(['gene_name', 'ambient_expression'], dtype='object')\n",
      "Index(['gene_name', 'ambient_expression'], dtype='object')\n",
      "Index(['gene_name', 'ambient_expression'], dtype='object')\n",
      "Index(['gene_name', 'ambient_expression'], dtype='object')\n",
      "Index(['gene_name', 'ambient_expression'], dtype='object')\n",
      "Index(['gene_name', 'ambient_expression'], dtype='object')\n",
      "Index(['gene_name', 'ambient_expression'], dtype='object')\n",
      "Index(['gene_name', 'ambient_expression'], dtype='object')\n",
      "Index(['gene_name', 'ambient_expression'], dtype='object')\n",
      "Index(['gene_name', 'ambient_expression'], dtype='object')\n",
      "Index(['gene_name', 'ambient_expression'], dtype='object')\n",
      "Index(['gene_name', 'ambient_expression'], dtype='object')\n",
      "Index(['gene_name', 'ambient_expression'], dtype='object')\n",
      "Index(['gene_name', 'ambient_expression'], dtype='object')\n",
      "Index(['gene_name', 'ambient_expression'], dtype='object')\n",
      "Index(['gene_name', 'ambient_expression'], dtype='object')\n",
      "Index(['gene_name', 'ambient_expression'], dtype='object')\n",
      "Index(['gene_name', 'ambient_expression'], dtype='object')\n",
      "Index(['gene_name', 'ambient_expression'], dtype='object')\n"
     ]
    }
   ],
   "source": [
    "for i in range(len(adatas)):\n",
    "    print(adatas[i].var.columns)"
   ]
  },
  {
   "cell_type": "code",
   "execution_count": 9,
   "id": "continued-sunday",
   "metadata": {},
   "outputs": [
    {
     "data": {
      "text/plain": [
       "H0020_LV           13327\n",
       "H0025_LV           12932\n",
       "H0026_LV           11243\n",
       "H0035_RV           10699\n",
       "H0015_LV           10530\n",
       "                   ...  \n",
       "HCAHeart7757637     1364\n",
       "HCAHeart8287123      631\n",
       "HCAHeart8287124      360\n",
       "HCAHeart8287125      272\n",
       "HCAHeart7757638      211\n",
       "Name: sangerID, Length: 94, dtype: int64"
      ]
     },
     "execution_count": 9,
     "metadata": {},
     "output_type": "execute_result"
    }
   ],
   "source": [
    "adata.obs['sangerID'].value_counts()"
   ]
  },
  {
   "cell_type": "code",
   "execution_count": null,
   "id": "tamil-collect",
   "metadata": {},
   "outputs": [],
   "source": []
  },
  {
   "cell_type": "markdown",
   "id": "alternate-vegetarian",
   "metadata": {},
   "source": [
    "## Run scrublet"
   ]
  },
  {
   "cell_type": "code",
   "execution_count": 10,
   "id": "alike-florence",
   "metadata": {},
   "outputs": [
    {
     "name": "stdout",
     "output_type": "stream",
     "text": [
      "HCAHeart7656539\n"
     ]
    },
    {
     "name": "stderr",
     "output_type": "stream",
     "text": [
      "/opt/conda/envs/teichlab/lib/python3.8/site-packages/scrublet/helper_functions.py:321: RuntimeWarning: divide by zero encountered in true_divide\n",
      "  w.setdiag(float(target_total) / tots_use)\n",
      "WARNING: Some cells have total count of genes equal to zero\n"
     ]
    },
    {
     "name": "stdout",
     "output_type": "stream",
     "text": [
      "HCAHeart7664652\n"
     ]
    },
    {
     "name": "stderr",
     "output_type": "stream",
     "text": [
      "/opt/conda/envs/teichlab/lib/python3.8/site-packages/scrublet/helper_functions.py:321: RuntimeWarning: divide by zero encountered in true_divide\n",
      "  w.setdiag(float(target_total) / tots_use)\n",
      "WARNING: Some cells have total count of genes equal to zero\n"
     ]
    },
    {
     "name": "stdout",
     "output_type": "stream",
     "text": [
      "HCAHeart7664653\n",
      "HCAHeart7664654\n"
     ]
    },
    {
     "name": "stderr",
     "output_type": "stream",
     "text": [
      "/opt/conda/envs/teichlab/lib/python3.8/site-packages/scrublet/helper_functions.py:321: RuntimeWarning: divide by zero encountered in true_divide\n",
      "  w.setdiag(float(target_total) / tots_use)\n",
      "WARNING: Some cells have total count of genes equal to zero\n"
     ]
    },
    {
     "name": "stdout",
     "output_type": "stream",
     "text": [
      "HCAHeart7698015\n",
      "HCAHeart7698016\n"
     ]
    },
    {
     "name": "stderr",
     "output_type": "stream",
     "text": [
      "/opt/conda/envs/teichlab/lib/python3.8/site-packages/scrublet/helper_functions.py:321: RuntimeWarning: divide by zero encountered in true_divide\n",
      "  w.setdiag(float(target_total) / tots_use)\n",
      "WARNING: Some cells have total count of genes equal to zero\n"
     ]
    },
    {
     "name": "stdout",
     "output_type": "stream",
     "text": [
      "HCAHeart7698017\n"
     ]
    },
    {
     "name": "stderr",
     "output_type": "stream",
     "text": [
      "/opt/conda/envs/teichlab/lib/python3.8/site-packages/scrublet/helper_functions.py:321: RuntimeWarning: divide by zero encountered in true_divide\n",
      "  w.setdiag(float(target_total) / tots_use)\n",
      "WARNING: Some cells have total count of genes equal to zero\n"
     ]
    },
    {
     "name": "stdout",
     "output_type": "stream",
     "text": [
      "HCAHeart7702873\n",
      "HCAHeart7702874\n",
      "HCAHeart7702875\n",
      "HCAHeart7702876\n"
     ]
    },
    {
     "name": "stderr",
     "output_type": "stream",
     "text": [
      "/opt/conda/envs/teichlab/lib/python3.8/site-packages/scrublet/helper_functions.py:321: RuntimeWarning: divide by zero encountered in true_divide\n",
      "  w.setdiag(float(target_total) / tots_use)\n",
      "WARNING: Some cells have total count of genes equal to zero\n"
     ]
    },
    {
     "name": "stdout",
     "output_type": "stream",
     "text": [
      "HCAHeart7702877\n"
     ]
    },
    {
     "name": "stderr",
     "output_type": "stream",
     "text": [
      "/opt/conda/envs/teichlab/lib/python3.8/site-packages/scrublet/helper_functions.py:321: RuntimeWarning: divide by zero encountered in true_divide\n",
      "  w.setdiag(float(target_total) / tots_use)\n",
      "WARNING: Some cells have total count of genes equal to zero\n"
     ]
    },
    {
     "name": "stdout",
     "output_type": "stream",
     "text": [
      "HCAHeart7702878\n"
     ]
    },
    {
     "name": "stderr",
     "output_type": "stream",
     "text": [
      "/opt/conda/envs/teichlab/lib/python3.8/site-packages/scrublet/helper_functions.py:321: RuntimeWarning: divide by zero encountered in true_divide\n",
      "  w.setdiag(float(target_total) / tots_use)\n",
      "WARNING: Some cells have total count of genes equal to zero\n"
     ]
    },
    {
     "name": "stdout",
     "output_type": "stream",
     "text": [
      "HCAHeart7702879\n"
     ]
    },
    {
     "name": "stderr",
     "output_type": "stream",
     "text": [
      "/opt/conda/envs/teichlab/lib/python3.8/site-packages/scrublet/helper_functions.py:321: RuntimeWarning: divide by zero encountered in true_divide\n",
      "  w.setdiag(float(target_total) / tots_use)\n",
      "WARNING: Some cells have total count of genes equal to zero\n"
     ]
    },
    {
     "name": "stdout",
     "output_type": "stream",
     "text": [
      "HCAHeart7702880\n"
     ]
    },
    {
     "name": "stderr",
     "output_type": "stream",
     "text": [
      "/opt/conda/envs/teichlab/lib/python3.8/site-packages/scrublet/helper_functions.py:321: RuntimeWarning: divide by zero encountered in true_divide\n",
      "  w.setdiag(float(target_total) / tots_use)\n",
      "WARNING: Some cells have total count of genes equal to zero\n"
     ]
    },
    {
     "name": "stdout",
     "output_type": "stream",
     "text": [
      "HCAHeart7702881\n"
     ]
    },
    {
     "name": "stderr",
     "output_type": "stream",
     "text": [
      "/opt/conda/envs/teichlab/lib/python3.8/site-packages/scrublet/helper_functions.py:321: RuntimeWarning: divide by zero encountered in true_divide\n",
      "  w.setdiag(float(target_total) / tots_use)\n",
      "WARNING: Some cells have total count of genes equal to zero\n"
     ]
    },
    {
     "name": "stdout",
     "output_type": "stream",
     "text": [
      "HCAHeart7702882\n"
     ]
    },
    {
     "name": "stderr",
     "output_type": "stream",
     "text": [
      "/opt/conda/envs/teichlab/lib/python3.8/site-packages/scrublet/helper_functions.py:321: RuntimeWarning: divide by zero encountered in true_divide\n",
      "  w.setdiag(float(target_total) / tots_use)\n",
      "WARNING: Some cells have total count of genes equal to zero\n"
     ]
    },
    {
     "name": "stdout",
     "output_type": "stream",
     "text": [
      "HCAHeart7757636\n"
     ]
    },
    {
     "name": "stderr",
     "output_type": "stream",
     "text": [
      "/opt/conda/envs/teichlab/lib/python3.8/site-packages/scrublet/helper_functions.py:321: RuntimeWarning: divide by zero encountered in true_divide\n",
      "  w.setdiag(float(target_total) / tots_use)\n",
      "WARNING: Some cells have total count of genes equal to zero\n"
     ]
    },
    {
     "name": "stdout",
     "output_type": "stream",
     "text": [
      "HCAHeart7757637\n"
     ]
    },
    {
     "name": "stderr",
     "output_type": "stream",
     "text": [
      "/opt/conda/envs/teichlab/lib/python3.8/site-packages/scrublet/helper_functions.py:321: RuntimeWarning: divide by zero encountered in true_divide\n",
      "  w.setdiag(float(target_total) / tots_use)\n",
      "WARNING: Some cells have total count of genes equal to zero\n"
     ]
    },
    {
     "name": "stdout",
     "output_type": "stream",
     "text": [
      "HCAHeart7757638\n",
      "HCAHeart7757639\n"
     ]
    },
    {
     "name": "stderr",
     "output_type": "stream",
     "text": [
      "/opt/conda/envs/teichlab/lib/python3.8/site-packages/scrublet/helper_functions.py:321: RuntimeWarning: divide by zero encountered in true_divide\n",
      "  w.setdiag(float(target_total) / tots_use)\n",
      "/opt/conda/envs/teichlab/lib/python3.8/site-packages/scrublet/helper_functions.py:321: RuntimeWarning: divide by zero encountered in true_divide\n",
      "  w.setdiag(float(target_total) / tots_use)\n",
      "WARNING: Some cells have total count of genes equal to zero\n"
     ]
    },
    {
     "name": "stdout",
     "output_type": "stream",
     "text": [
      "HCAHeart7829976\n"
     ]
    },
    {
     "name": "stderr",
     "output_type": "stream",
     "text": [
      "/opt/conda/envs/teichlab/lib/python3.8/site-packages/scrublet/helper_functions.py:321: RuntimeWarning: divide by zero encountered in true_divide\n",
      "  w.setdiag(float(target_total) / tots_use)\n",
      "WARNING: Some cells have total count of genes equal to zero\n"
     ]
    },
    {
     "name": "stdout",
     "output_type": "stream",
     "text": [
      "HCAHeart7829977\n"
     ]
    },
    {
     "name": "stderr",
     "output_type": "stream",
     "text": [
      "/opt/conda/envs/teichlab/lib/python3.8/site-packages/scrublet/helper_functions.py:321: RuntimeWarning: divide by zero encountered in true_divide\n",
      "  w.setdiag(float(target_total) / tots_use)\n",
      "WARNING: Some cells have total count of genes equal to zero\n"
     ]
    },
    {
     "name": "stdout",
     "output_type": "stream",
     "text": [
      "HCAHeart7829978\n",
      "HCAHeart7829979\n"
     ]
    },
    {
     "name": "stderr",
     "output_type": "stream",
     "text": [
      "/opt/conda/envs/teichlab/lib/python3.8/site-packages/scrublet/helper_functions.py:321: RuntimeWarning: divide by zero encountered in true_divide\n",
      "  w.setdiag(float(target_total) / tots_use)\n",
      "WARNING: Some cells have total count of genes equal to zero\n"
     ]
    },
    {
     "name": "stdout",
     "output_type": "stream",
     "text": [
      "HCAHeart7833852\n"
     ]
    },
    {
     "name": "stderr",
     "output_type": "stream",
     "text": [
      "/opt/conda/envs/teichlab/lib/python3.8/site-packages/scrublet/helper_functions.py:321: RuntimeWarning: divide by zero encountered in true_divide\n",
      "  w.setdiag(float(target_total) / tots_use)\n",
      "WARNING: Some cells have total count of genes equal to zero\n"
     ]
    },
    {
     "name": "stdout",
     "output_type": "stream",
     "text": [
      "HCAHeart7833853\n",
      "HCAHeart7833854\n",
      "HCAHeart7833855\n",
      "HCAHeart7835148\n"
     ]
    },
    {
     "name": "stderr",
     "output_type": "stream",
     "text": [
      "/opt/conda/envs/teichlab/lib/python3.8/site-packages/scrublet/helper_functions.py:321: RuntimeWarning: divide by zero encountered in true_divide\n",
      "  w.setdiag(float(target_total) / tots_use)\n",
      "WARNING: Some cells have total count of genes equal to zero\n"
     ]
    },
    {
     "name": "stdout",
     "output_type": "stream",
     "text": [
      "HCAHeart7835149\n"
     ]
    },
    {
     "name": "stderr",
     "output_type": "stream",
     "text": [
      "/opt/conda/envs/teichlab/lib/python3.8/site-packages/scrublet/helper_functions.py:321: RuntimeWarning: divide by zero encountered in true_divide\n",
      "  w.setdiag(float(target_total) / tots_use)\n",
      "WARNING: Some cells have total count of genes equal to zero\n"
     ]
    },
    {
     "name": "stdout",
     "output_type": "stream",
     "text": [
      "HCAHeart7836681\n",
      "HCAHeart7836682\n"
     ]
    },
    {
     "name": "stderr",
     "output_type": "stream",
     "text": [
      "/opt/conda/envs/teichlab/lib/python3.8/site-packages/scrublet/helper_functions.py:321: RuntimeWarning: divide by zero encountered in true_divide\n",
      "  w.setdiag(float(target_total) / tots_use)\n",
      "WARNING: Some cells have total count of genes equal to zero\n"
     ]
    },
    {
     "name": "stdout",
     "output_type": "stream",
     "text": [
      "HCAHeart7836683\n"
     ]
    },
    {
     "name": "stderr",
     "output_type": "stream",
     "text": [
      "/opt/conda/envs/teichlab/lib/python3.8/site-packages/scrublet/helper_functions.py:321: RuntimeWarning: divide by zero encountered in true_divide\n",
      "  w.setdiag(float(target_total) / tots_use)\n",
      "WARNING: Some cells have total count of genes equal to zero\n"
     ]
    },
    {
     "name": "stdout",
     "output_type": "stream",
     "text": [
      "HCAHeart7836684\n"
     ]
    },
    {
     "name": "stderr",
     "output_type": "stream",
     "text": [
      "/opt/conda/envs/teichlab/lib/python3.8/site-packages/scrublet/helper_functions.py:321: RuntimeWarning: divide by zero encountered in true_divide\n",
      "  w.setdiag(float(target_total) / tots_use)\n",
      "WARNING: Some cells have total count of genes equal to zero\n"
     ]
    },
    {
     "name": "stdout",
     "output_type": "stream",
     "text": [
      "HCAHeart7880860\n"
     ]
    },
    {
     "name": "stderr",
     "output_type": "stream",
     "text": [
      "/opt/conda/envs/teichlab/lib/python3.8/site-packages/scrublet/helper_functions.py:321: RuntimeWarning: divide by zero encountered in true_divide\n",
      "  w.setdiag(float(target_total) / tots_use)\n",
      "WARNING: Some cells have total count of genes equal to zero\n"
     ]
    },
    {
     "name": "stdout",
     "output_type": "stream",
     "text": [
      "HCAHeart7880861\n",
      "HCAHeart7880862\n",
      "HCAHeart7880863\n"
     ]
    },
    {
     "name": "stderr",
     "output_type": "stream",
     "text": [
      "/opt/conda/envs/teichlab/lib/python3.8/site-packages/scrublet/helper_functions.py:321: RuntimeWarning: divide by zero encountered in true_divide\n",
      "  w.setdiag(float(target_total) / tots_use)\n",
      "WARNING: Some cells have total count of genes equal to zero\n"
     ]
    },
    {
     "name": "stdout",
     "output_type": "stream",
     "text": [
      "HCAHeart7888922\n"
     ]
    },
    {
     "name": "stderr",
     "output_type": "stream",
     "text": [
      "/opt/conda/envs/teichlab/lib/python3.8/site-packages/scrublet/helper_functions.py:321: RuntimeWarning: divide by zero encountered in true_divide\n",
      "  w.setdiag(float(target_total) / tots_use)\n",
      "WARNING: Some cells have total count of genes equal to zero\n"
     ]
    },
    {
     "name": "stdout",
     "output_type": "stream",
     "text": [
      "HCAHeart7888923\n"
     ]
    },
    {
     "name": "stderr",
     "output_type": "stream",
     "text": [
      "/opt/conda/envs/teichlab/lib/python3.8/site-packages/scrublet/helper_functions.py:321: RuntimeWarning: divide by zero encountered in true_divide\n",
      "  w.setdiag(float(target_total) / tots_use)\n",
      "WARNING: Some cells have total count of genes equal to zero\n"
     ]
    },
    {
     "name": "stdout",
     "output_type": "stream",
     "text": [
      "HCAHeart7888924\n"
     ]
    },
    {
     "name": "stderr",
     "output_type": "stream",
     "text": [
      "/opt/conda/envs/teichlab/lib/python3.8/site-packages/scrublet/helper_functions.py:321: RuntimeWarning: divide by zero encountered in true_divide\n",
      "  w.setdiag(float(target_total) / tots_use)\n",
      "WARNING: Some cells have total count of genes equal to zero\n"
     ]
    },
    {
     "name": "stdout",
     "output_type": "stream",
     "text": [
      "HCAHeart7888925\n"
     ]
    },
    {
     "name": "stderr",
     "output_type": "stream",
     "text": [
      "/opt/conda/envs/teichlab/lib/python3.8/site-packages/scrublet/helper_functions.py:321: RuntimeWarning: divide by zero encountered in true_divide\n",
      "  w.setdiag(float(target_total) / tots_use)\n",
      "WARNING: Some cells have total count of genes equal to zero\n"
     ]
    },
    {
     "name": "stdout",
     "output_type": "stream",
     "text": [
      "HCAHeart7888926\n"
     ]
    },
    {
     "name": "stderr",
     "output_type": "stream",
     "text": [
      "/opt/conda/envs/teichlab/lib/python3.8/site-packages/scrublet/helper_functions.py:321: RuntimeWarning: divide by zero encountered in true_divide\n",
      "  w.setdiag(float(target_total) / tots_use)\n",
      "WARNING: Some cells have total count of genes equal to zero\n"
     ]
    },
    {
     "name": "stdout",
     "output_type": "stream",
     "text": [
      "HCAHeart7888927\n"
     ]
    },
    {
     "name": "stderr",
     "output_type": "stream",
     "text": [
      "/opt/conda/envs/teichlab/lib/python3.8/site-packages/scrublet/helper_functions.py:321: RuntimeWarning: divide by zero encountered in true_divide\n",
      "  w.setdiag(float(target_total) / tots_use)\n",
      "WARNING: Some cells have total count of genes equal to zero\n"
     ]
    },
    {
     "name": "stdout",
     "output_type": "stream",
     "text": [
      "HCAHeart7888928\n"
     ]
    },
    {
     "name": "stderr",
     "output_type": "stream",
     "text": [
      "/opt/conda/envs/teichlab/lib/python3.8/site-packages/scrublet/helper_functions.py:321: RuntimeWarning: divide by zero encountered in true_divide\n",
      "  w.setdiag(float(target_total) / tots_use)\n",
      "WARNING: Some cells have total count of genes equal to zero\n"
     ]
    },
    {
     "name": "stdout",
     "output_type": "stream",
     "text": [
      "HCAHeart7888929\n",
      "HCAHeart7964513\n"
     ]
    },
    {
     "name": "stderr",
     "output_type": "stream",
     "text": [
      "/opt/conda/envs/teichlab/lib/python3.8/site-packages/scrublet/helper_functions.py:321: RuntimeWarning: divide by zero encountered in true_divide\n",
      "  w.setdiag(float(target_total) / tots_use)\n",
      "WARNING: Some cells have total count of genes equal to zero\n"
     ]
    },
    {
     "name": "stdout",
     "output_type": "stream",
     "text": [
      "HCAHeart7985086\n"
     ]
    },
    {
     "name": "stderr",
     "output_type": "stream",
     "text": [
      "/opt/conda/envs/teichlab/lib/python3.8/site-packages/scrublet/helper_functions.py:321: RuntimeWarning: divide by zero encountered in true_divide\n",
      "  w.setdiag(float(target_total) / tots_use)\n",
      "WARNING: Some cells have total count of genes equal to zero\n"
     ]
    },
    {
     "name": "stdout",
     "output_type": "stream",
     "text": [
      "HCAHeart7985087\n"
     ]
    },
    {
     "name": "stderr",
     "output_type": "stream",
     "text": [
      "/opt/conda/envs/teichlab/lib/python3.8/site-packages/scrublet/helper_functions.py:321: RuntimeWarning: divide by zero encountered in true_divide\n",
      "  w.setdiag(float(target_total) / tots_use)\n",
      "WARNING: Some cells have total count of genes equal to zero\n"
     ]
    },
    {
     "name": "stdout",
     "output_type": "stream",
     "text": [
      "HCAHeart7985088\n"
     ]
    },
    {
     "name": "stderr",
     "output_type": "stream",
     "text": [
      "/opt/conda/envs/teichlab/lib/python3.8/site-packages/scrublet/helper_functions.py:321: RuntimeWarning: divide by zero encountered in true_divide\n",
      "  w.setdiag(float(target_total) / tots_use)\n",
      "WARNING: Some cells have total count of genes equal to zero\n"
     ]
    },
    {
     "name": "stdout",
     "output_type": "stream",
     "text": [
      "HCAHeart7985089\n"
     ]
    },
    {
     "name": "stderr",
     "output_type": "stream",
     "text": [
      "/opt/conda/envs/teichlab/lib/python3.8/site-packages/scrublet/helper_functions.py:321: RuntimeWarning: divide by zero encountered in true_divide\n",
      "  w.setdiag(float(target_total) / tots_use)\n",
      "WARNING: Some cells have total count of genes equal to zero\n"
     ]
    },
    {
     "name": "stdout",
     "output_type": "stream",
     "text": [
      "HCAHeart8287123\n"
     ]
    },
    {
     "name": "stderr",
     "output_type": "stream",
     "text": [
      "/opt/conda/envs/teichlab/lib/python3.8/site-packages/scrublet/helper_functions.py:321: RuntimeWarning: divide by zero encountered in true_divide\n",
      "  w.setdiag(float(target_total) / tots_use)\n",
      "WARNING: Some cells have total count of genes equal to zero\n"
     ]
    },
    {
     "name": "stdout",
     "output_type": "stream",
     "text": [
      "HCAHeart8287124\n"
     ]
    },
    {
     "name": "stderr",
     "output_type": "stream",
     "text": [
      "/opt/conda/envs/teichlab/lib/python3.8/site-packages/scrublet/helper_functions.py:321: RuntimeWarning: divide by zero encountered in true_divide\n",
      "  w.setdiag(float(target_total) / tots_use)\n",
      "WARNING: Some cells have total count of genes equal to zero\n"
     ]
    },
    {
     "name": "stdout",
     "output_type": "stream",
     "text": [
      "HCAHeart8287125\n"
     ]
    },
    {
     "name": "stderr",
     "output_type": "stream",
     "text": [
      "/opt/conda/envs/teichlab/lib/python3.8/site-packages/scrublet/helper_functions.py:321: RuntimeWarning: divide by zero encountered in true_divide\n",
      "  w.setdiag(float(target_total) / tots_use)\n",
      "WARNING: Some cells have total count of genes equal to zero\n"
     ]
    },
    {
     "name": "stdout",
     "output_type": "stream",
     "text": [
      "HCAHeart8287126\n"
     ]
    },
    {
     "name": "stderr",
     "output_type": "stream",
     "text": [
      "/opt/conda/envs/teichlab/lib/python3.8/site-packages/scrublet/helper_functions.py:321: RuntimeWarning: divide by zero encountered in true_divide\n",
      "  w.setdiag(float(target_total) / tots_use)\n",
      "WARNING: Some cells have total count of genes equal to zero\n"
     ]
    },
    {
     "name": "stdout",
     "output_type": "stream",
     "text": [
      "HCAHeart8287127\n"
     ]
    },
    {
     "name": "stderr",
     "output_type": "stream",
     "text": [
      "/opt/conda/envs/teichlab/lib/python3.8/site-packages/scrublet/helper_functions.py:321: RuntimeWarning: divide by zero encountered in true_divide\n",
      "  w.setdiag(float(target_total) / tots_use)\n",
      "WARNING: Some cells have total count of genes equal to zero\n"
     ]
    },
    {
     "name": "stdout",
     "output_type": "stream",
     "text": [
      "HCAHeart8287128\n"
     ]
    },
    {
     "name": "stderr",
     "output_type": "stream",
     "text": [
      "/opt/conda/envs/teichlab/lib/python3.8/site-packages/scrublet/helper_functions.py:321: RuntimeWarning: divide by zero encountered in true_divide\n",
      "  w.setdiag(float(target_total) / tots_use)\n",
      "WARNING: Some cells have total count of genes equal to zero\n"
     ]
    },
    {
     "name": "stdout",
     "output_type": "stream",
     "text": [
      "H0015_apex\n"
     ]
    },
    {
     "name": "stderr",
     "output_type": "stream",
     "text": [
      "/opt/conda/envs/teichlab/lib/python3.8/site-packages/scrublet/helper_functions.py:321: RuntimeWarning: divide by zero encountered in true_divide\n",
      "  w.setdiag(float(target_total) / tots_use)\n",
      "WARNING: Some cells have total count of genes equal to zero\n"
     ]
    },
    {
     "name": "stdout",
     "output_type": "stream",
     "text": [
      "H0015_LA\n"
     ]
    },
    {
     "name": "stderr",
     "output_type": "stream",
     "text": [
      "/opt/conda/envs/teichlab/lib/python3.8/site-packages/scrublet/helper_functions.py:321: RuntimeWarning: divide by zero encountered in true_divide\n",
      "  w.setdiag(float(target_total) / tots_use)\n",
      "WARNING: Some cells have total count of genes equal to zero\n"
     ]
    },
    {
     "name": "stdout",
     "output_type": "stream",
     "text": [
      "H0015_LV\n",
      "H0015_RA\n"
     ]
    },
    {
     "name": "stderr",
     "output_type": "stream",
     "text": [
      "/opt/conda/envs/teichlab/lib/python3.8/site-packages/scrublet/helper_functions.py:321: RuntimeWarning: divide by zero encountered in true_divide\n",
      "  w.setdiag(float(target_total) / tots_use)\n",
      "WARNING: Some cells have total count of genes equal to zero\n"
     ]
    },
    {
     "name": "stdout",
     "output_type": "stream",
     "text": [
      "H0015_RV\n"
     ]
    },
    {
     "name": "stderr",
     "output_type": "stream",
     "text": [
      "/opt/conda/envs/teichlab/lib/python3.8/site-packages/scrublet/helper_functions.py:321: RuntimeWarning: divide by zero encountered in true_divide\n",
      "  w.setdiag(float(target_total) / tots_use)\n",
      "WARNING: Some cells have total count of genes equal to zero\n"
     ]
    },
    {
     "name": "stdout",
     "output_type": "stream",
     "text": [
      "H0015_septum\n"
     ]
    },
    {
     "name": "stderr",
     "output_type": "stream",
     "text": [
      "/opt/conda/envs/teichlab/lib/python3.8/site-packages/scrublet/helper_functions.py:321: RuntimeWarning: divide by zero encountered in true_divide\n",
      "  w.setdiag(float(target_total) / tots_use)\n",
      "WARNING: Some cells have total count of genes equal to zero\n"
     ]
    },
    {
     "name": "stdout",
     "output_type": "stream",
     "text": [
      "H0020_apex\n",
      "H0020_LA\n"
     ]
    },
    {
     "name": "stderr",
     "output_type": "stream",
     "text": [
      "/opt/conda/envs/teichlab/lib/python3.8/site-packages/scrublet/helper_functions.py:321: RuntimeWarning: divide by zero encountered in true_divide\n",
      "  w.setdiag(float(target_total) / tots_use)\n",
      "WARNING: Some cells have total count of genes equal to zero\n"
     ]
    },
    {
     "name": "stdout",
     "output_type": "stream",
     "text": [
      "H0020_LV\n"
     ]
    },
    {
     "name": "stderr",
     "output_type": "stream",
     "text": [
      "/opt/conda/envs/teichlab/lib/python3.8/site-packages/scrublet/helper_functions.py:321: RuntimeWarning: divide by zero encountered in true_divide\n",
      "  w.setdiag(float(target_total) / tots_use)\n",
      "WARNING: Some cells have total count of genes equal to zero\n"
     ]
    },
    {
     "name": "stdout",
     "output_type": "stream",
     "text": [
      "H0020_RA\n"
     ]
    },
    {
     "name": "stderr",
     "output_type": "stream",
     "text": [
      "/opt/conda/envs/teichlab/lib/python3.8/site-packages/scrublet/helper_functions.py:321: RuntimeWarning: divide by zero encountered in true_divide\n",
      "  w.setdiag(float(target_total) / tots_use)\n",
      "WARNING: Some cells have total count of genes equal to zero\n"
     ]
    },
    {
     "name": "stdout",
     "output_type": "stream",
     "text": [
      "H0020_RV\n"
     ]
    },
    {
     "name": "stderr",
     "output_type": "stream",
     "text": [
      "/opt/conda/envs/teichlab/lib/python3.8/site-packages/scrublet/helper_functions.py:321: RuntimeWarning: divide by zero encountered in true_divide\n",
      "  w.setdiag(float(target_total) / tots_use)\n",
      "WARNING: Some cells have total count of genes equal to zero\n"
     ]
    },
    {
     "name": "stdout",
     "output_type": "stream",
     "text": [
      "H0020_septum\n"
     ]
    },
    {
     "name": "stderr",
     "output_type": "stream",
     "text": [
      "/opt/conda/envs/teichlab/lib/python3.8/site-packages/scrublet/helper_functions.py:321: RuntimeWarning: divide by zero encountered in true_divide\n",
      "  w.setdiag(float(target_total) / tots_use)\n",
      "WARNING: Some cells have total count of genes equal to zero\n"
     ]
    },
    {
     "name": "stdout",
     "output_type": "stream",
     "text": [
      "H0025_apex\n",
      "H0025_LA\n"
     ]
    },
    {
     "name": "stderr",
     "output_type": "stream",
     "text": [
      "/opt/conda/envs/teichlab/lib/python3.8/site-packages/scrublet/helper_functions.py:321: RuntimeWarning: divide by zero encountered in true_divide\n",
      "  w.setdiag(float(target_total) / tots_use)\n",
      "WARNING: Some cells have total count of genes equal to zero\n"
     ]
    },
    {
     "name": "stdout",
     "output_type": "stream",
     "text": [
      "H0025_LV\n"
     ]
    },
    {
     "name": "stderr",
     "output_type": "stream",
     "text": [
      "/opt/conda/envs/teichlab/lib/python3.8/site-packages/scrublet/helper_functions.py:321: RuntimeWarning: divide by zero encountered in true_divide\n",
      "  w.setdiag(float(target_total) / tots_use)\n",
      "WARNING: Some cells have total count of genes equal to zero\n"
     ]
    },
    {
     "name": "stdout",
     "output_type": "stream",
     "text": [
      "H0025_RA\n"
     ]
    },
    {
     "name": "stderr",
     "output_type": "stream",
     "text": [
      "/opt/conda/envs/teichlab/lib/python3.8/site-packages/scrublet/helper_functions.py:321: RuntimeWarning: divide by zero encountered in true_divide\n",
      "  w.setdiag(float(target_total) / tots_use)\n",
      "WARNING: Some cells have total count of genes equal to zero\n"
     ]
    },
    {
     "name": "stdout",
     "output_type": "stream",
     "text": [
      "H0025_RV\n"
     ]
    },
    {
     "name": "stderr",
     "output_type": "stream",
     "text": [
      "/opt/conda/envs/teichlab/lib/python3.8/site-packages/scrublet/helper_functions.py:321: RuntimeWarning: divide by zero encountered in true_divide\n",
      "  w.setdiag(float(target_total) / tots_use)\n",
      "WARNING: Some cells have total count of genes equal to zero\n"
     ]
    },
    {
     "name": "stdout",
     "output_type": "stream",
     "text": [
      "H0025_septum\n"
     ]
    },
    {
     "name": "stderr",
     "output_type": "stream",
     "text": [
      "/opt/conda/envs/teichlab/lib/python3.8/site-packages/scrublet/helper_functions.py:321: RuntimeWarning: divide by zero encountered in true_divide\n",
      "  w.setdiag(float(target_total) / tots_use)\n",
      "WARNING: Some cells have total count of genes equal to zero\n"
     ]
    },
    {
     "name": "stdout",
     "output_type": "stream",
     "text": [
      "H0026_apex\n"
     ]
    },
    {
     "name": "stderr",
     "output_type": "stream",
     "text": [
      "/opt/conda/envs/teichlab/lib/python3.8/site-packages/scrublet/helper_functions.py:321: RuntimeWarning: divide by zero encountered in true_divide\n",
      "  w.setdiag(float(target_total) / tots_use)\n",
      "WARNING: Some cells have total count of genes equal to zero\n"
     ]
    },
    {
     "name": "stdout",
     "output_type": "stream",
     "text": [
      "H0026_LA\n"
     ]
    },
    {
     "name": "stderr",
     "output_type": "stream",
     "text": [
      "/opt/conda/envs/teichlab/lib/python3.8/site-packages/scrublet/helper_functions.py:321: RuntimeWarning: divide by zero encountered in true_divide\n",
      "  w.setdiag(float(target_total) / tots_use)\n",
      "WARNING: Some cells have total count of genes equal to zero\n"
     ]
    },
    {
     "name": "stdout",
     "output_type": "stream",
     "text": [
      "H0026_LV\n"
     ]
    },
    {
     "name": "stderr",
     "output_type": "stream",
     "text": [
      "/opt/conda/envs/teichlab/lib/python3.8/site-packages/scrublet/helper_functions.py:321: RuntimeWarning: divide by zero encountered in true_divide\n",
      "  w.setdiag(float(target_total) / tots_use)\n",
      "WARNING: Some cells have total count of genes equal to zero\n"
     ]
    },
    {
     "name": "stdout",
     "output_type": "stream",
     "text": [
      "H0026_RA\n"
     ]
    },
    {
     "name": "stderr",
     "output_type": "stream",
     "text": [
      "/opt/conda/envs/teichlab/lib/python3.8/site-packages/scrublet/helper_functions.py:321: RuntimeWarning: divide by zero encountered in true_divide\n",
      "  w.setdiag(float(target_total) / tots_use)\n",
      "WARNING: Some cells have total count of genes equal to zero\n"
     ]
    },
    {
     "name": "stdout",
     "output_type": "stream",
     "text": [
      "H0026_RV\n",
      "H0026_septum2\n"
     ]
    },
    {
     "name": "stderr",
     "output_type": "stream",
     "text": [
      "/opt/conda/envs/teichlab/lib/python3.8/site-packages/scrublet/helper_functions.py:321: RuntimeWarning: divide by zero encountered in true_divide\n",
      "  w.setdiag(float(target_total) / tots_use)\n",
      "WARNING: Some cells have total count of genes equal to zero\n"
     ]
    },
    {
     "name": "stdout",
     "output_type": "stream",
     "text": [
      "H0035_apex\n",
      "H0035_LA\n",
      "H0035_LV\n"
     ]
    },
    {
     "name": "stderr",
     "output_type": "stream",
     "text": [
      "/opt/conda/envs/teichlab/lib/python3.8/site-packages/scrublet/helper_functions.py:321: RuntimeWarning: divide by zero encountered in true_divide\n",
      "  w.setdiag(float(target_total) / tots_use)\n",
      "WARNING: Some cells have total count of genes equal to zero\n"
     ]
    },
    {
     "name": "stdout",
     "output_type": "stream",
     "text": [
      "H0035_RA\n"
     ]
    },
    {
     "name": "stderr",
     "output_type": "stream",
     "text": [
      "/opt/conda/envs/teichlab/lib/python3.8/site-packages/scrublet/helper_functions.py:321: RuntimeWarning: divide by zero encountered in true_divide\n",
      "  w.setdiag(float(target_total) / tots_use)\n",
      "WARNING: Some cells have total count of genes equal to zero\n"
     ]
    },
    {
     "name": "stdout",
     "output_type": "stream",
     "text": [
      "H0035_RV\n"
     ]
    },
    {
     "name": "stderr",
     "output_type": "stream",
     "text": [
      "/opt/conda/envs/teichlab/lib/python3.8/site-packages/scrublet/helper_functions.py:321: RuntimeWarning: divide by zero encountered in true_divide\n",
      "  w.setdiag(float(target_total) / tots_use)\n",
      "WARNING: Some cells have total count of genes equal to zero\n"
     ]
    },
    {
     "name": "stdout",
     "output_type": "stream",
     "text": [
      "H0035_septum\n"
     ]
    },
    {
     "name": "stderr",
     "output_type": "stream",
     "text": [
      "/opt/conda/envs/teichlab/lib/python3.8/site-packages/scrublet/helper_functions.py:321: RuntimeWarning: divide by zero encountered in true_divide\n",
      "  w.setdiag(float(target_total) / tots_use)\n",
      "WARNING: Some cells have total count of genes equal to zero\n"
     ]
    },
    {
     "name": "stdout",
     "output_type": "stream",
     "text": [
      "H0037_Apex\n"
     ]
    },
    {
     "name": "stderr",
     "output_type": "stream",
     "text": [
      "/opt/conda/envs/teichlab/lib/python3.8/site-packages/scrublet/helper_functions.py:321: RuntimeWarning: divide by zero encountered in true_divide\n",
      "  w.setdiag(float(target_total) / tots_use)\n",
      "WARNING: Some cells have total count of genes equal to zero\n"
     ]
    },
    {
     "name": "stdout",
     "output_type": "stream",
     "text": [
      "H0037_LA\n"
     ]
    },
    {
     "name": "stderr",
     "output_type": "stream",
     "text": [
      "/opt/conda/envs/teichlab/lib/python3.8/site-packages/scrublet/helper_functions.py:321: RuntimeWarning: divide by zero encountered in true_divide\n",
      "  w.setdiag(float(target_total) / tots_use)\n",
      "WARNING: Some cells have total count of genes equal to zero\n"
     ]
    },
    {
     "name": "stdout",
     "output_type": "stream",
     "text": [
      "H0037_LV\n"
     ]
    },
    {
     "name": "stderr",
     "output_type": "stream",
     "text": [
      "/opt/conda/envs/teichlab/lib/python3.8/site-packages/scrublet/helper_functions.py:321: RuntimeWarning: divide by zero encountered in true_divide\n",
      "  w.setdiag(float(target_total) / tots_use)\n",
      "WARNING: Some cells have total count of genes equal to zero\n"
     ]
    },
    {
     "name": "stdout",
     "output_type": "stream",
     "text": [
      "H0037_RA\n",
      "H0037_RV\n",
      "H0037_septum\n"
     ]
    },
    {
     "name": "stderr",
     "output_type": "stream",
     "text": [
      "/opt/conda/envs/teichlab/lib/python3.8/site-packages/scrublet/helper_functions.py:321: RuntimeWarning: divide by zero encountered in true_divide\n",
      "  w.setdiag(float(target_total) / tots_use)\n",
      "WARNING: Some cells have total count of genes equal to zero\n"
     ]
    },
    {
     "name": "stdout",
     "output_type": "stream",
     "text": [
      "CPU times: user 1h 19min 22s, sys: 48min 53s, total: 2h 8min 16s\n",
      "Wall time: 42min 39s\n"
     ]
    }
   ],
   "source": [
    "%%time\n",
    "\n",
    "# per rxn\n",
    "for i,ID in enumerate(adata.obs['sangerID'].unique()):\n",
    "    print(ID)\n",
    "    \n",
    "    ad = adata[adata.obs['sangerID'] == ID].copy()\n",
    "    run_scrublet(ad)\n",
    "    if i==0:\n",
    "        meta = ad.obs\n",
    "    else:\n",
    "        meta = pd.concat([meta, ad.obs])\n",
    "    del ad"
   ]
  },
  {
   "cell_type": "markdown",
   "id": "renewable-brass",
   "metadata": {},
   "source": [
    "## Add scrublet outputs to adata"
   ]
  },
  {
   "cell_type": "code",
   "execution_count": 11,
   "id": "resident-resolution",
   "metadata": {},
   "outputs": [
    {
     "data": {
      "text/plain": [
       "(464734, 5)"
      ]
     },
     "execution_count": 11,
     "metadata": {},
     "output_type": "execute_result"
    }
   ],
   "source": [
    "meta_scrub = meta[['scrublet_score', 'scrublet_leiden', 'cluster_scrublet_score', 'doublet_pval', 'doublet_bh_pval']].copy()\n",
    "meta_scrub.shape"
   ]
  },
  {
   "cell_type": "code",
   "execution_count": 12,
   "id": "australian-orlando",
   "metadata": {},
   "outputs": [],
   "source": [
    "if meta_scrub.reindex(adata.obs.index).index.equals(adata.obs.index):\n",
    "    adata.obs = pd.concat([adata.obs, meta_scrub.reindex(adata.obs.index)], axis=1)\n",
    "else:\n",
    "    raise Exception('Different barcodes in meta and adata')"
   ]
  },
  {
   "cell_type": "code",
   "execution_count": 13,
   "id": "curious-ancient",
   "metadata": {},
   "outputs": [
    {
     "data": {
      "text/html": [
       "<div>\n",
       "<style scoped>\n",
       "    .dataframe tbody tr th:only-of-type {\n",
       "        vertical-align: middle;\n",
       "    }\n",
       "\n",
       "    .dataframe tbody tr th {\n",
       "        vertical-align: top;\n",
       "    }\n",
       "\n",
       "    .dataframe thead th {\n",
       "        text-align: right;\n",
       "    }\n",
       "</style>\n",
       "<table border=\"1\" class=\"dataframe\">\n",
       "  <thead>\n",
       "    <tr style=\"text-align: right;\">\n",
       "      <th></th>\n",
       "      <th>latent_RT_efficiency</th>\n",
       "      <th>latent_cell_probability</th>\n",
       "      <th>latent_scale</th>\n",
       "      <th>sangerID</th>\n",
       "      <th>combinedID</th>\n",
       "      <th>donor</th>\n",
       "      <th>donor_type</th>\n",
       "      <th>region</th>\n",
       "      <th>region_finest</th>\n",
       "      <th>age</th>\n",
       "      <th>...</th>\n",
       "      <th>facility</th>\n",
       "      <th>cell_or_nuclei</th>\n",
       "      <th>modality</th>\n",
       "      <th>kit_10x</th>\n",
       "      <th>flushed</th>\n",
       "      <th>scrublet_score</th>\n",
       "      <th>scrublet_leiden</th>\n",
       "      <th>cluster_scrublet_score</th>\n",
       "      <th>doublet_pval</th>\n",
       "      <th>doublet_bh_pval</th>\n",
       "    </tr>\n",
       "    <tr>\n",
       "      <th>barcode</th>\n",
       "      <th></th>\n",
       "      <th></th>\n",
       "      <th></th>\n",
       "      <th></th>\n",
       "      <th></th>\n",
       "      <th></th>\n",
       "      <th></th>\n",
       "      <th></th>\n",
       "      <th></th>\n",
       "      <th></th>\n",
       "      <th></th>\n",
       "      <th></th>\n",
       "      <th></th>\n",
       "      <th></th>\n",
       "      <th></th>\n",
       "      <th></th>\n",
       "      <th></th>\n",
       "      <th></th>\n",
       "      <th></th>\n",
       "      <th></th>\n",
       "      <th></th>\n",
       "    </tr>\n",
       "  </thead>\n",
       "  <tbody>\n",
       "    <tr>\n",
       "      <th>HCAHeart7656539_CCCTCCTCAGACACTT-1</th>\n",
       "      <td>4.140340</td>\n",
       "      <td>0.967669</td>\n",
       "      <td>2102.139893</td>\n",
       "      <td>HCAHeart7656539</td>\n",
       "      <td>na</td>\n",
       "      <td>D2</td>\n",
       "      <td>DCD</td>\n",
       "      <td>SP</td>\n",
       "      <td>SP</td>\n",
       "      <td>60-65</td>\n",
       "      <td>...</td>\n",
       "      <td>Sanger</td>\n",
       "      <td>Nuclei</td>\n",
       "      <td>snRNA</td>\n",
       "      <td>3prime-v2</td>\n",
       "      <td>no</td>\n",
       "      <td>0.195745</td>\n",
       "      <td>6,1</td>\n",
       "      <td>0.215596</td>\n",
       "      <td>0.037636</td>\n",
       "      <td>0.906198</td>\n",
       "    </tr>\n",
       "    <tr>\n",
       "      <th>HCAHeart7656539_CTCTACGTCCTAGTGA-1</th>\n",
       "      <td>3.164027</td>\n",
       "      <td>0.999752</td>\n",
       "      <td>1917.262817</td>\n",
       "      <td>HCAHeart7656539</td>\n",
       "      <td>na</td>\n",
       "      <td>D2</td>\n",
       "      <td>DCD</td>\n",
       "      <td>SP</td>\n",
       "      <td>SP</td>\n",
       "      <td>60-65</td>\n",
       "      <td>...</td>\n",
       "      <td>Sanger</td>\n",
       "      <td>Nuclei</td>\n",
       "      <td>snRNA</td>\n",
       "      <td>3prime-v2</td>\n",
       "      <td>no</td>\n",
       "      <td>0.226730</td>\n",
       "      <td>6,5</td>\n",
       "      <td>0.178571</td>\n",
       "      <td>0.119650</td>\n",
       "      <td>0.906198</td>\n",
       "    </tr>\n",
       "    <tr>\n",
       "      <th>HCAHeart7656539_AGCTCTCTCGTATCAG-1</th>\n",
       "      <td>3.027596</td>\n",
       "      <td>0.999734</td>\n",
       "      <td>1947.244507</td>\n",
       "      <td>HCAHeart7656539</td>\n",
       "      <td>na</td>\n",
       "      <td>D2</td>\n",
       "      <td>DCD</td>\n",
       "      <td>SP</td>\n",
       "      <td>SP</td>\n",
       "      <td>60-65</td>\n",
       "      <td>...</td>\n",
       "      <td>Sanger</td>\n",
       "      <td>Nuclei</td>\n",
       "      <td>snRNA</td>\n",
       "      <td>3prime-v2</td>\n",
       "      <td>no</td>\n",
       "      <td>0.238806</td>\n",
       "      <td>6,1</td>\n",
       "      <td>0.215596</td>\n",
       "      <td>0.037636</td>\n",
       "      <td>0.906198</td>\n",
       "    </tr>\n",
       "    <tr>\n",
       "      <th>HCAHeart7656539_TCATTACAGTGAACGC-1</th>\n",
       "      <td>2.953602</td>\n",
       "      <td>0.999607</td>\n",
       "      <td>1833.271606</td>\n",
       "      <td>HCAHeart7656539</td>\n",
       "      <td>na</td>\n",
       "      <td>D2</td>\n",
       "      <td>DCD</td>\n",
       "      <td>SP</td>\n",
       "      <td>SP</td>\n",
       "      <td>60-65</td>\n",
       "      <td>...</td>\n",
       "      <td>Sanger</td>\n",
       "      <td>Nuclei</td>\n",
       "      <td>snRNA</td>\n",
       "      <td>3prime-v2</td>\n",
       "      <td>no</td>\n",
       "      <td>0.299401</td>\n",
       "      <td>6,1</td>\n",
       "      <td>0.215596</td>\n",
       "      <td>0.037636</td>\n",
       "      <td>0.906198</td>\n",
       "    </tr>\n",
       "    <tr>\n",
       "      <th>HCAHeart7656539_GGGCACTTCAATCACG-1</th>\n",
       "      <td>3.180974</td>\n",
       "      <td>0.999855</td>\n",
       "      <td>1891.374634</td>\n",
       "      <td>HCAHeart7656539</td>\n",
       "      <td>na</td>\n",
       "      <td>D2</td>\n",
       "      <td>DCD</td>\n",
       "      <td>SP</td>\n",
       "      <td>SP</td>\n",
       "      <td>60-65</td>\n",
       "      <td>...</td>\n",
       "      <td>Sanger</td>\n",
       "      <td>Nuclei</td>\n",
       "      <td>snRNA</td>\n",
       "      <td>3prime-v2</td>\n",
       "      <td>no</td>\n",
       "      <td>0.299401</td>\n",
       "      <td>6,11</td>\n",
       "      <td>0.182715</td>\n",
       "      <td>0.106729</td>\n",
       "      <td>0.906198</td>\n",
       "    </tr>\n",
       "  </tbody>\n",
       "</table>\n",
       "<p>5 rows × 21 columns</p>\n",
       "</div>"
      ],
      "text/plain": [
       "                                    latent_RT_efficiency  \\\n",
       "barcode                                                    \n",
       "HCAHeart7656539_CCCTCCTCAGACACTT-1              4.140340   \n",
       "HCAHeart7656539_CTCTACGTCCTAGTGA-1              3.164027   \n",
       "HCAHeart7656539_AGCTCTCTCGTATCAG-1              3.027596   \n",
       "HCAHeart7656539_TCATTACAGTGAACGC-1              2.953602   \n",
       "HCAHeart7656539_GGGCACTTCAATCACG-1              3.180974   \n",
       "\n",
       "                                    latent_cell_probability  latent_scale  \\\n",
       "barcode                                                                     \n",
       "HCAHeart7656539_CCCTCCTCAGACACTT-1                 0.967669   2102.139893   \n",
       "HCAHeart7656539_CTCTACGTCCTAGTGA-1                 0.999752   1917.262817   \n",
       "HCAHeart7656539_AGCTCTCTCGTATCAG-1                 0.999734   1947.244507   \n",
       "HCAHeart7656539_TCATTACAGTGAACGC-1                 0.999607   1833.271606   \n",
       "HCAHeart7656539_GGGCACTTCAATCACG-1                 0.999855   1891.374634   \n",
       "\n",
       "                                           sangerID combinedID donor  \\\n",
       "barcode                                                                \n",
       "HCAHeart7656539_CCCTCCTCAGACACTT-1  HCAHeart7656539         na    D2   \n",
       "HCAHeart7656539_CTCTACGTCCTAGTGA-1  HCAHeart7656539         na    D2   \n",
       "HCAHeart7656539_AGCTCTCTCGTATCAG-1  HCAHeart7656539         na    D2   \n",
       "HCAHeart7656539_TCATTACAGTGAACGC-1  HCAHeart7656539         na    D2   \n",
       "HCAHeart7656539_GGGCACTTCAATCACG-1  HCAHeart7656539         na    D2   \n",
       "\n",
       "                                   donor_type region region_finest    age  \\\n",
       "barcode                                                                     \n",
       "HCAHeart7656539_CCCTCCTCAGACACTT-1        DCD     SP            SP  60-65   \n",
       "HCAHeart7656539_CTCTACGTCCTAGTGA-1        DCD     SP            SP  60-65   \n",
       "HCAHeart7656539_AGCTCTCTCGTATCAG-1        DCD     SP            SP  60-65   \n",
       "HCAHeart7656539_TCATTACAGTGAACGC-1        DCD     SP            SP  60-65   \n",
       "HCAHeart7656539_GGGCACTTCAATCACG-1        DCD     SP            SP  60-65   \n",
       "\n",
       "                                    ... facility cell_or_nuclei modality  \\\n",
       "barcode                             ...                                    \n",
       "HCAHeart7656539_CCCTCCTCAGACACTT-1  ...   Sanger         Nuclei    snRNA   \n",
       "HCAHeart7656539_CTCTACGTCCTAGTGA-1  ...   Sanger         Nuclei    snRNA   \n",
       "HCAHeart7656539_AGCTCTCTCGTATCAG-1  ...   Sanger         Nuclei    snRNA   \n",
       "HCAHeart7656539_TCATTACAGTGAACGC-1  ...   Sanger         Nuclei    snRNA   \n",
       "HCAHeart7656539_GGGCACTTCAATCACG-1  ...   Sanger         Nuclei    snRNA   \n",
       "\n",
       "                                      kit_10x flushed scrublet_score  \\\n",
       "barcode                                                                \n",
       "HCAHeart7656539_CCCTCCTCAGACACTT-1  3prime-v2      no       0.195745   \n",
       "HCAHeart7656539_CTCTACGTCCTAGTGA-1  3prime-v2      no       0.226730   \n",
       "HCAHeart7656539_AGCTCTCTCGTATCAG-1  3prime-v2      no       0.238806   \n",
       "HCAHeart7656539_TCATTACAGTGAACGC-1  3prime-v2      no       0.299401   \n",
       "HCAHeart7656539_GGGCACTTCAATCACG-1  3prime-v2      no       0.299401   \n",
       "\n",
       "                                    scrublet_leiden cluster_scrublet_score  \\\n",
       "barcode                                                                      \n",
       "HCAHeart7656539_CCCTCCTCAGACACTT-1              6,1               0.215596   \n",
       "HCAHeart7656539_CTCTACGTCCTAGTGA-1              6,5               0.178571   \n",
       "HCAHeart7656539_AGCTCTCTCGTATCAG-1              6,1               0.215596   \n",
       "HCAHeart7656539_TCATTACAGTGAACGC-1              6,1               0.215596   \n",
       "HCAHeart7656539_GGGCACTTCAATCACG-1             6,11               0.182715   \n",
       "\n",
       "                                    doublet_pval  doublet_bh_pval  \n",
       "barcode                                                            \n",
       "HCAHeart7656539_CCCTCCTCAGACACTT-1      0.037636         0.906198  \n",
       "HCAHeart7656539_CTCTACGTCCTAGTGA-1      0.119650         0.906198  \n",
       "HCAHeart7656539_AGCTCTCTCGTATCAG-1      0.037636         0.906198  \n",
       "HCAHeart7656539_TCATTACAGTGAACGC-1      0.037636         0.906198  \n",
       "HCAHeart7656539_GGGCACTTCAATCACG-1      0.106729         0.906198  \n",
       "\n",
       "[5 rows x 21 columns]"
      ]
     },
     "execution_count": 13,
     "metadata": {},
     "output_type": "execute_result"
    }
   ],
   "source": [
    "adata.obs.head()"
   ]
  },
  {
   "cell_type": "code",
   "execution_count": 14,
   "id": "designing-being",
   "metadata": {},
   "outputs": [
    {
     "name": "stderr",
     "output_type": "stream",
     "text": [
      "... storing 'sangerID' as categorical\n",
      "... storing 'combinedID' as categorical\n",
      "... storing 'donor' as categorical\n",
      "... storing 'donor_type' as categorical\n",
      "... storing 'region' as categorical\n",
      "... storing 'region_finest' as categorical\n",
      "... storing 'age' as categorical\n",
      "... storing 'gender' as categorical\n",
      "... storing 'facility' as categorical\n",
      "... storing 'cell_or_nuclei' as categorical\n",
      "... storing 'modality' as categorical\n",
      "... storing 'kit_10x' as categorical\n",
      "... storing 'flushed' as categorical\n",
      "... storing 'scrublet_leiden' as categorical\n",
      "... storing 'gene_name' as categorical\n",
      "... storing 'feature_type-0' as categorical\n",
      "... storing 'feature_type-1' as categorical\n",
      "... storing 'feature_type-10' as categorical\n",
      "... storing 'feature_type-11' as categorical\n",
      "... storing 'feature_type-12' as categorical\n",
      "... storing 'feature_type-13' as categorical\n",
      "... storing 'feature_type-14' as categorical\n",
      "... storing 'feature_type-15' as categorical\n",
      "... storing 'feature_type-16' as categorical\n",
      "... storing 'feature_type-17' as categorical\n",
      "... storing 'feature_type-18' as categorical\n",
      "... storing 'feature_type-19' as categorical\n",
      "... storing 'feature_type-2' as categorical\n",
      "... storing 'feature_type-20' as categorical\n",
      "... storing 'feature_type-3' as categorical\n",
      "... storing 'feature_type-31' as categorical\n",
      "... storing 'feature_type-32' as categorical\n",
      "... storing 'feature_type-33' as categorical\n",
      "... storing 'feature_type-34' as categorical\n",
      "... storing 'feature_type-35' as categorical\n",
      "... storing 'feature_type-36' as categorical\n",
      "... storing 'feature_type-37' as categorical\n",
      "... storing 'feature_type-38' as categorical\n",
      "... storing 'feature_type-39' as categorical\n",
      "... storing 'feature_type-4' as categorical\n",
      "... storing 'feature_type-40' as categorical\n",
      "... storing 'feature_type-41' as categorical\n",
      "... storing 'feature_type-42' as categorical\n",
      "... storing 'feature_type-43' as categorical\n",
      "... storing 'feature_type-44' as categorical\n",
      "... storing 'feature_type-45' as categorical\n",
      "... storing 'feature_type-46' as categorical\n",
      "... storing 'feature_type-5' as categorical\n",
      "... storing 'feature_type-6' as categorical\n",
      "... storing 'feature_type-7' as categorical\n",
      "... storing 'feature_type-8' as categorical\n",
      "... storing 'feature_type-9' as categorical\n"
     ]
    }
   ],
   "source": [
    "adata.write('/nfs/team205/heart/anndata_objects/8regions/QC/snRNA_adult_prefilter.h5ad')"
   ]
  },
  {
   "cell_type": "code",
   "execution_count": 15,
   "id": "mexican-official",
   "metadata": {},
   "outputs": [
    {
     "data": {
      "text/plain": [
       "AnnData object with n_obs × n_vars = 464734 × 33538\n",
       "    obs: 'latent_RT_efficiency', 'latent_cell_probability', 'latent_scale', 'sangerID', 'combinedID', 'donor', 'donor_type', 'region', 'region_finest', 'age', 'gender', 'facility', 'cell_or_nuclei', 'modality', 'kit_10x', 'flushed', 'scrublet_score', 'scrublet_leiden', 'cluster_scrublet_score', 'doublet_pval', 'doublet_bh_pval'\n",
       "    var: 'gene_name', 'ambient_expression-0', 'feature_type-0', 'ambient_expression-1', 'feature_type-1', 'ambient_expression-10', 'feature_type-10', 'ambient_expression-11', 'feature_type-11', 'ambient_expression-12', 'feature_type-12', 'ambient_expression-13', 'feature_type-13', 'ambient_expression-14', 'feature_type-14', 'ambient_expression-15', 'feature_type-15', 'ambient_expression-16', 'feature_type-16', 'ambient_expression-17', 'feature_type-17', 'ambient_expression-18', 'feature_type-18', 'ambient_expression-19', 'feature_type-19', 'ambient_expression-2', 'feature_type-2', 'ambient_expression-20', 'feature_type-20', 'ambient_expression-21', 'ambient_expression-22', 'ambient_expression-23', 'ambient_expression-24', 'ambient_expression-25', 'ambient_expression-26', 'ambient_expression-27', 'ambient_expression-28', 'ambient_expression-29', 'ambient_expression-3', 'feature_type-3', 'ambient_expression-30', 'ambient_expression-31', 'feature_type-31', 'ambient_expression-32', 'feature_type-32', 'ambient_expression-33', 'feature_type-33', 'ambient_expression-34', 'feature_type-34', 'ambient_expression-35', 'feature_type-35', 'ambient_expression-36', 'feature_type-36', 'ambient_expression-37', 'feature_type-37', 'ambient_expression-38', 'feature_type-38', 'ambient_expression-39', 'feature_type-39', 'ambient_expression-4', 'feature_type-4', 'ambient_expression-40', 'feature_type-40', 'ambient_expression-41', 'feature_type-41', 'ambient_expression-42', 'feature_type-42', 'ambient_expression-43', 'feature_type-43', 'ambient_expression-44', 'feature_type-44', 'ambient_expression-45', 'feature_type-45', 'ambient_expression-46', 'feature_type-46', 'ambient_expression-47', 'ambient_expression-48', 'ambient_expression-49', 'ambient_expression-5', 'feature_type-5', 'ambient_expression-50', 'ambient_expression-51', 'ambient_expression-52', 'ambient_expression-53', 'ambient_expression-54', 'ambient_expression-55', 'ambient_expression-56', 'ambient_expression-57', 'ambient_expression-58', 'ambient_expression-59', 'ambient_expression-6', 'feature_type-6', 'ambient_expression-60', 'ambient_expression-61', 'ambient_expression-62', 'ambient_expression-63', 'ambient_expression-64', 'ambient_expression-65', 'ambient_expression-66', 'ambient_expression-67', 'ambient_expression-68', 'ambient_expression-69', 'ambient_expression-7', 'feature_type-7', 'ambient_expression-70', 'ambient_expression-71', 'ambient_expression-72', 'ambient_expression-73', 'ambient_expression-74', 'ambient_expression-75', 'ambient_expression-76', 'ambient_expression-77', 'ambient_expression-78', 'ambient_expression-79', 'ambient_expression-8', 'feature_type-8', 'ambient_expression-80', 'ambient_expression-81', 'ambient_expression-82', 'ambient_expression-83', 'ambient_expression-84', 'ambient_expression-85', 'ambient_expression-86', 'ambient_expression-87', 'ambient_expression-88', 'ambient_expression-89', 'ambient_expression-9', 'feature_type-9', 'ambient_expression-90', 'ambient_expression-91', 'ambient_expression-92', 'ambient_expression-93'\n",
       "    obsm: 'latent_gene_encoding'"
      ]
     },
     "execution_count": 15,
     "metadata": {},
     "output_type": "execute_result"
    }
   ],
   "source": [
    "adata"
   ]
  },
  {
   "cell_type": "code",
   "execution_count": null,
   "id": "informal-department",
   "metadata": {},
   "outputs": [],
   "source": [
    "adata.obs['donor'].value_counts()"
   ]
  },
  {
   "cell_type": "code",
   "execution_count": null,
   "id": "expected-provider",
   "metadata": {},
   "outputs": [],
   "source": []
  }
 ],
 "metadata": {
  "kernelspec": {
   "display_name": "teichlab",
   "language": "python",
   "name": "teichlab"
  },
  "language_info": {
   "codemirror_mode": {
    "name": "ipython",
    "version": 3
   },
   "file_extension": ".py",
   "mimetype": "text/x-python",
   "name": "python",
   "nbconvert_exporter": "python",
   "pygments_lexer": "ipython3",
   "version": "3.8.8"
  }
 },
 "nbformat": 4,
 "nbformat_minor": 5
}
