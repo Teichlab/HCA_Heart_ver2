{
 "cells": [
  {
   "cell_type": "markdown",
   "metadata": {},
   "source": [
    "## Build anndata from `cellatac` output\n",
    "\n",
    "In this notebook we put together the many outputs of the [cellatac pipeline](https://github.com/cellgeni/cellatac) for peak calling in scATAC-seq data into one handy anndata object, we do some important peak filtering"
   ]
  },
  {
   "cell_type": "code",
   "execution_count": 1,
   "metadata": {},
   "outputs": [],
   "source": [
    "import numpy as np\n",
    "import scipy.sparse\n",
    "import pandas as pd \n",
    "import scanpy as sc\n",
    "import os"
   ]
  },
  {
   "cell_type": "code",
   "execution_count": 2,
   "metadata": {},
   "outputs": [
    {
     "data": {
      "text/html": [
       "<details>\n",
       "<summary>Click to view session information</summary>\n",
       "<pre>\n",
       "-----\n",
       "numpy               1.20.1\n",
       "pandas              1.2.3\n",
       "scanpy              1.8.1\n",
       "scipy               1.6.1\n",
       "session_info        1.0.0\n",
       "-----\n",
       "</pre>\n",
       "<details>\n",
       "<summary>Click to view modules imported as dependencies</summary>\n",
       "<pre>\n",
       "PIL                 8.1.2\n",
       "anndata             0.7.5\n",
       "anyio               NA\n",
       "attr                20.3.0\n",
       "babel               2.9.0\n",
       "backcall            0.2.0\n",
       "brotli              NA\n",
       "cairo               1.20.0\n",
       "certifi             2020.12.05\n",
       "cffi                1.14.5\n",
       "chardet             4.0.0\n",
       "cloudpickle         1.6.0\n",
       "colorama            0.4.4\n",
       "cycler              0.10.0\n",
       "cython_runtime      NA\n",
       "cytoolz             0.11.0\n",
       "dask                2021.03.1\n",
       "dateutil            2.8.1\n",
       "decorator           4.4.2\n",
       "fsspec              2021.10.0\n",
       "google              NA\n",
       "h5py                2.9.0\n",
       "idna                2.10\n",
       "igraph              0.8.3\n",
       "ipykernel           5.5.0\n",
       "ipython_genutils    0.2.0\n",
       "jedi                0.18.0\n",
       "jinja2              2.11.3\n",
       "joblib              1.0.1\n",
       "json5               NA\n",
       "jsonschema          3.2.0\n",
       "jupyter_server      1.4.1\n",
       "jupyterlab_server   2.3.0\n",
       "kiwisolver          1.3.1\n",
       "leidenalg           0.8.3\n",
       "llvmlite            0.34.0\n",
       "louvain             0.7.0\n",
       "markupsafe          1.1.1\n",
       "matplotlib          3.4.3\n",
       "mpl_toolkits        NA\n",
       "natsort             7.1.1\n",
       "nbclassic           NA\n",
       "nbformat            5.1.2\n",
       "numba               0.51.2\n",
       "numexpr             2.7.3\n",
       "packaging           20.9\n",
       "parso               0.8.1\n",
       "pexpect             4.8.0\n",
       "pickleshare         0.7.5\n",
       "pkg_resources       NA\n",
       "prometheus_client   NA\n",
       "prompt_toolkit      3.0.16\n",
       "psutil              5.8.0\n",
       "ptyprocess          0.7.0\n",
       "pvectorc            NA\n",
       "pyarrow             0.16.0\n",
       "pygments            2.8.0\n",
       "pyparsing           2.4.7\n",
       "pyrsistent          NA\n",
       "pytoml              NA\n",
       "pytz                2021.1\n",
       "requests            2.25.1\n",
       "ruamel              NA\n",
       "send2trash          NA\n",
       "setuptools_scm      NA\n",
       "simplejson          3.17.2\n",
       "sinfo               0.3.1\n",
       "six                 1.15.0\n",
       "sklearn             0.24.1\n",
       "sniffio             1.2.0\n",
       "socks               1.7.1\n",
       "sphinxcontrib       NA\n",
       "storemagic          NA\n",
       "tables              3.6.1\n",
       "tblib               1.7.0\n",
       "texttable           1.6.3\n",
       "tlz                 0.11.0\n",
       "toolz               0.11.1\n",
       "tornado             6.1\n",
       "traitlets           5.0.5\n",
       "typing_extensions   NA\n",
       "uritemplate         3.0.1\n",
       "urllib3             1.26.3\n",
       "wcwidth             0.2.5\n",
       "yaml                5.4.1\n",
       "zmq                 22.0.3\n",
       "</pre>\n",
       "</details> <!-- seems like this ends pre, so might as well be explicit -->\n",
       "<pre>\n",
       "-----\n",
       "IPython             7.21.0\n",
       "jupyter_client      6.1.11\n",
       "jupyter_core        4.7.1\n",
       "jupyterlab          3.0.9\n",
       "notebook            6.2.0\n",
       "-----\n",
       "Python 3.8.8 | packaged by conda-forge | (default, Feb 20 2021, 16:22:27) [GCC 9.3.0]\n",
       "Linux-4.15.0-112-generic-x86_64-with-glibc2.10\n",
       "-----\n",
       "Session information updated at 2021-11-24 09:32\n",
       "</pre>\n",
       "</details>"
      ],
      "text/plain": [
       "<IPython.core.display.HTML object>"
      ]
     },
     "execution_count": 2,
     "metadata": {},
     "output_type": "execute_result"
    }
   ],
   "source": [
    "import session_info\n",
    "session_info.show()"
   ]
  },
  {
   "cell_type": "code",
   "execution_count": 3,
   "metadata": {},
   "outputs": [],
   "source": [
    "experiment_prefix = '6reg-v2_ATACs_with_SAN'"
   ]
  },
  {
   "cell_type": "markdown",
   "metadata": {},
   "source": [
    "### tic-1158"
   ]
  },
  {
   "cell_type": "code",
   "execution_count": 4,
   "metadata": {},
   "outputs": [],
   "source": [
    "outdir_1158 = \"/nfs/team205/kk18/data/6region_v2/ATAC/tic-1158\"\n",
    "cellatac_outdir_1158 = '/nfs/team205/heart/cellatac/tic-1158/results200k/'"
   ]
  },
  {
   "cell_type": "code",
   "execution_count": 5,
   "metadata": {},
   "outputs": [],
   "source": [
    "input={'cnts': cellatac_outdir_1158 + 'peak_matrix/peaks_bc_matrix.mmtx.gz',\n",
    "        \"bcs\": cellatac_outdir_1158 + 'peak_matrix/bc.txt',\n",
    "      \"peaks\": cellatac_outdir_1158 + 'peak_matrix/peaks.txt',\n",
    "      'clusters': cellatac_outdir_1158 + 'qc/seurat-clades.tsv'}\n",
    "\n",
    "output = {\n",
    "    \"cnt_mmtx\":outdir_1158 + experiment_prefix + '_ATAC_cisTopic.mmtx',\n",
    "    \"cnt_peaks\":outdir_1158 + experiment_prefix + '_ATAC_cisTopic.peaks.tsv',\n",
    "    \"cnt_cells\":outdir_1158 + experiment_prefix + '_ATAC_cisTopic.cells.tsv',\n",
    "    \"h5ad\":outdir_1158 + experiment_prefix + '_ATAC_raw.h5ad',\n",
    "}"
   ]
  },
  {
   "cell_type": "markdown",
   "metadata": {},
   "source": [
    "### Make anndata object (tic-1158)"
   ]
  },
  {
   "cell_type": "code",
   "execution_count": null,
   "metadata": {},
   "outputs": [],
   "source": [
    "%%time\n",
    "ad = sc.read_mtx(input[\"cnts\"]).T\n",
    "\n",
    "bc = pd.read_table(input[\"bcs\"], header = None)\n",
    "feat = pd.read_table(input[\"peaks\"], header = None)\n",
    "\n",
    "ad.obs_names = bc[0]\n",
    "ad.var_names = feat[0]\n",
    "ad"
   ]
  },
  {
   "cell_type": "code",
   "execution_count": null,
   "metadata": {},
   "outputs": [],
   "source": [
    "# check no duplicates in cell_ids\n",
    "len(ad.obs_names) == len(set(ad.obs_names))"
   ]
  },
  {
   "cell_type": "markdown",
   "metadata": {},
   "source": [
    "### Load peak annotations computed with `annotate_peaks.R` (tic-1158)"
   ]
  },
  {
   "cell_type": "code",
   "execution_count": null,
   "metadata": {},
   "outputs": [],
   "source": [
    "# peak_anno_df = pd.read_csv(outdir + \"ATACpeaks_annotation.csv\", index_col = 0)\n",
    "# peak_anno_df = pd.read_csv(\"/nfs/team205/heart/cellatac/tic-1158/ATACpeaks_annotation.csv\", index_col = 0)\n",
    "peak_anno_df = pd.read_csv(\"/lustre/scratch117/cellgen/team205/dm19/kazu/notebooks/annotate_peaks/ATACpeaks_annotation.csv\", index_col = 0)\n",
    "\n",
    "peak_anno_df.index = peak_anno_df[\"peak_id\"]\n",
    "peak_anno_df.drop(\"peak_id\",1, inplace = True)\n",
    "\n",
    "ad.var = pd.concat([ad.var, peak_anno_df], 1)\n",
    "ad"
   ]
  },
  {
   "cell_type": "code",
   "execution_count": null,
   "metadata": {},
   "outputs": [],
   "source": [
    "ad.var.head()"
   ]
  },
  {
   "cell_type": "code",
   "execution_count": null,
   "metadata": {},
   "outputs": [],
   "source": [
    "np.max(ad.X.data)"
   ]
  },
  {
   "cell_type": "markdown",
   "metadata": {},
   "source": [
    "### Save binary data to layers (tic-1158)"
   ]
  },
  {
   "cell_type": "code",
   "execution_count": null,
   "metadata": {},
   "outputs": [],
   "source": [
    "ad.layers[\"binary_raw\"] = ad.X\n",
    "ad.layers[\"binary_raw\"][ad.layers[\"binary_raw\"] > 1] = 1 # change to binary\n",
    "ad"
   ]
  },
  {
   "cell_type": "code",
   "execution_count": null,
   "metadata": {},
   "outputs": [],
   "source": [
    "np.max(ad.X.data)"
   ]
  },
  {
   "cell_type": "code",
   "execution_count": null,
   "metadata": {},
   "outputs": [],
   "source": [
    "np.sum(ad.var['ENCODE_blacklist'] != 0)"
   ]
  },
  {
   "cell_type": "raw",
   "metadata": {},
   "source": [
    "ad.write('/lustre/scratch117/cellgen/team205/dm19/kazu/notebooks/6regions_with_SAN/adata2.h5ad')"
   ]
  },
  {
   "cell_type": "markdown",
   "metadata": {},
   "source": [
    "### Peak filtering\n",
    "\n",
    "`cellatac` calls a lot of peaks that are just noisy and downsizing the matrix a bit makes everything faster."
   ]
  },
  {
   "cell_type": "markdown",
   "metadata": {},
   "source": [
    "#### OBS: Check the filters for your data carefully so you don't throw away usueful info."
   ]
  },
  {
   "cell_type": "code",
   "execution_count": 6,
   "metadata": {},
   "outputs": [],
   "source": [
    "ad = sc.read_h5ad('/lustre/scratch117/cellgen/team205/dm19/kazu/notebooks/6regions_with_SAN/adata2.h5ad')"
   ]
  },
  {
   "cell_type": "code",
   "execution_count": 7,
   "metadata": {},
   "outputs": [
    {
     "data": {
      "text/plain": [
       "AnnData object with n_obs × n_vars = 155699 × 377337\n",
       "    var: 'peak_width', 'exon', 'gene', 'promoter', 'annotation', 'gene_name', 'gene_id', 'tss_distance', 'ENCODE_blacklist'\n",
       "    layers: 'binary_raw'"
      ]
     },
     "execution_count": 7,
     "metadata": {},
     "output_type": "execute_result"
    }
   ],
   "source": [
    "ad"
   ]
  },
  {
   "cell_type": "code",
   "execution_count": 8,
   "metadata": {},
   "outputs": [
    {
     "data": {
      "text/plain": [
       "array([[<AxesSubplot:title={'center':'peak_width'}>]], dtype=object)"
      ]
     },
     "execution_count": 8,
     "metadata": {},
     "output_type": "execute_result"
    },
    {
     "data": {
      "image/png": "[encoded data removed]",
      "text/plain": [
       "<Figure size 1800x432 with 1 Axes>"
      ]
     },
     "metadata": {
      "needs_background": "light"
     },
     "output_type": "display_data"
    }
   ],
   "source": [
    "ad.var.hist(column = 'peak_width', bins = 200, grid = False, figsize = (25,6), color = '#870052')"
   ]
  },
  {
   "cell_type": "code",
   "execution_count": 9,
   "metadata": {},
   "outputs": [
    {
     "data": {
      "text/plain": [
       "201"
      ]
     },
     "execution_count": 9,
     "metadata": {},
     "output_type": "execute_result"
    }
   ],
   "source": [
    "np.min(ad.var['peak_width'])"
   ]
  },
  {
   "cell_type": "markdown",
   "metadata": {},
   "source": [
    "### Preliminary filtering"
   ]
  },
  {
   "cell_type": "markdown",
   "metadata": {},
   "source": [
    "- Basic QC"
   ]
  },
  {
   "cell_type": "code",
   "execution_count": 10,
   "metadata": {},
   "outputs": [
    {
     "data": {
      "text/plain": [
       "AnnData object with n_obs × n_vars = 155699 × 377337\n",
       "    var: 'peak_width', 'exon', 'gene', 'promoter', 'annotation', 'gene_name', 'gene_id', 'tss_distance', 'ENCODE_blacklist', 'n_cells_by_counts', 'mean_counts', 'log1p_mean_counts', 'pct_dropout_by_counts', 'total_counts', 'log1p_total_counts'\n",
       "    layers: 'binary_raw'"
      ]
     },
     "execution_count": 10,
     "metadata": {},
     "output_type": "execute_result"
    }
   ],
   "source": [
    "var_qc = sc.pp.calculate_qc_metrics(ad, layer = \"binary_raw\")[1]\n",
    "ad.var = pd.concat([ad.var, var_qc], 1) \n",
    "ad"
   ]
  },
  {
   "cell_type": "code",
   "execution_count": 11,
   "metadata": {},
   "outputs": [
    {
     "data": {
      "text/html": [
       "<div>\n",
       "<style scoped>\n",
       "    .dataframe tbody tr th:only-of-type {\n",
       "        vertical-align: middle;\n",
       "    }\n",
       "\n",
       "    .dataframe tbody tr th {\n",
       "        vertical-align: top;\n",
       "    }\n",
       "\n",
       "    .dataframe thead th {\n",
       "        text-align: right;\n",
       "    }\n",
       "</style>\n",
       "<table border=\"1\" class=\"dataframe\">\n",
       "  <thead>\n",
       "    <tr style=\"text-align: right;\">\n",
       "      <th></th>\n",
       "      <th>peak_width</th>\n",
       "      <th>exon</th>\n",
       "      <th>gene</th>\n",
       "      <th>promoter</th>\n",
       "      <th>annotation</th>\n",
       "      <th>gene_name</th>\n",
       "      <th>gene_id</th>\n",
       "      <th>tss_distance</th>\n",
       "      <th>ENCODE_blacklist</th>\n",
       "      <th>n_cells_by_counts</th>\n",
       "      <th>mean_counts</th>\n",
       "      <th>log1p_mean_counts</th>\n",
       "      <th>pct_dropout_by_counts</th>\n",
       "      <th>total_counts</th>\n",
       "      <th>log1p_total_counts</th>\n",
       "    </tr>\n",
       "  </thead>\n",
       "  <tbody>\n",
       "    <tr>\n",
       "      <th>chr1:10054-10373</th>\n",
       "      <td>320</td>\n",
       "      <td>0</td>\n",
       "      <td>0</td>\n",
       "      <td>0</td>\n",
       "      <td>intergenic</td>\n",
       "      <td>nan</td>\n",
       "      <td>nan</td>\n",
       "      <td>58717</td>\n",
       "      <td>1</td>\n",
       "      <td>969</td>\n",
       "      <td>0.006224</td>\n",
       "      <td>0.006204</td>\n",
       "      <td>99.377645</td>\n",
       "      <td>969.0</td>\n",
       "      <td>6.877296</td>\n",
       "    </tr>\n",
       "    <tr>\n",
       "      <th>chr1:180687-181608</th>\n",
       "      <td>922</td>\n",
       "      <td>0</td>\n",
       "      <td>0</td>\n",
       "      <td>1</td>\n",
       "      <td>promoter</td>\n",
       "      <td>FO538757.2</td>\n",
       "      <td>ENSG00000279928</td>\n",
       "      <td>784</td>\n",
       "      <td>1</td>\n",
       "      <td>4667</td>\n",
       "      <td>0.029975</td>\n",
       "      <td>0.029534</td>\n",
       "      <td>97.002550</td>\n",
       "      <td>4667.0</td>\n",
       "      <td>8.448486</td>\n",
       "    </tr>\n",
       "    <tr>\n",
       "      <th>chr1:184067-184543</th>\n",
       "      <td>477</td>\n",
       "      <td>1</td>\n",
       "      <td>1</td>\n",
       "      <td>0</td>\n",
       "      <td>exon</td>\n",
       "      <td>FO538757.2</td>\n",
       "      <td>ENSG00000279928</td>\n",
       "      <td>1673</td>\n",
       "      <td>1</td>\n",
       "      <td>946</td>\n",
       "      <td>0.006076</td>\n",
       "      <td>0.006057</td>\n",
       "      <td>99.392417</td>\n",
       "      <td>946.0</td>\n",
       "      <td>6.853299</td>\n",
       "    </tr>\n",
       "    <tr>\n",
       "      <th>chr1:191218-191625</th>\n",
       "      <td>408</td>\n",
       "      <td>0</td>\n",
       "      <td>1</td>\n",
       "      <td>0</td>\n",
       "      <td>intron</td>\n",
       "      <td>FO538757.1</td>\n",
       "      <td>ENSG00000279457</td>\n",
       "      <td>3785</td>\n",
       "      <td>1</td>\n",
       "      <td>2785</td>\n",
       "      <td>0.017887</td>\n",
       "      <td>0.017729</td>\n",
       "      <td>98.211292</td>\n",
       "      <td>2785.0</td>\n",
       "      <td>7.932362</td>\n",
       "    </tr>\n",
       "    <tr>\n",
       "      <th>chr1:267873-268085</th>\n",
       "      <td>213</td>\n",
       "      <td>0</td>\n",
       "      <td>0</td>\n",
       "      <td>0</td>\n",
       "      <td>intergenic</td>\n",
       "      <td>nan</td>\n",
       "      <td>nan</td>\n",
       "      <td>67550</td>\n",
       "      <td>1</td>\n",
       "      <td>757</td>\n",
       "      <td>0.004862</td>\n",
       "      <td>0.004850</td>\n",
       "      <td>99.513805</td>\n",
       "      <td>757.0</td>\n",
       "      <td>6.630683</td>\n",
       "    </tr>\n",
       "  </tbody>\n",
       "</table>\n",
       "</div>"
      ],
      "text/plain": [
       "                    peak_width  exon  gene  promoter  annotation   gene_name  \\\n",
       "chr1:10054-10373           320     0     0         0  intergenic         nan   \n",
       "chr1:180687-181608         922     0     0         1    promoter  FO538757.2   \n",
       "chr1:184067-184543         477     1     1         0        exon  FO538757.2   \n",
       "chr1:191218-191625         408     0     1         0      intron  FO538757.1   \n",
       "chr1:267873-268085         213     0     0         0  intergenic         nan   \n",
       "\n",
       "                            gene_id  tss_distance  ENCODE_blacklist  \\\n",
       "chr1:10054-10373                nan         58717                 1   \n",
       "chr1:180687-181608  ENSG00000279928           784                 1   \n",
       "chr1:184067-184543  ENSG00000279928          1673                 1   \n",
       "chr1:191218-191625  ENSG00000279457          3785                 1   \n",
       "chr1:267873-268085              nan         67550                 1   \n",
       "\n",
       "                    n_cells_by_counts  mean_counts  log1p_mean_counts  \\\n",
       "chr1:10054-10373                  969     0.006224           0.006204   \n",
       "chr1:180687-181608               4667     0.029975           0.029534   \n",
       "chr1:184067-184543                946     0.006076           0.006057   \n",
       "chr1:191218-191625               2785     0.017887           0.017729   \n",
       "chr1:267873-268085                757     0.004862           0.004850   \n",
       "\n",
       "                    pct_dropout_by_counts  total_counts  log1p_total_counts  \n",
       "chr1:10054-10373                99.377645         969.0            6.877296  \n",
       "chr1:180687-181608              97.002550        4667.0            8.448486  \n",
       "chr1:184067-184543              99.392417         946.0            6.853299  \n",
       "chr1:191218-191625              98.211292        2785.0            7.932362  \n",
       "chr1:267873-268085              99.513805         757.0            6.630683  "
      ]
     },
     "execution_count": 11,
     "metadata": {},
     "output_type": "execute_result"
    }
   ],
   "source": [
    "ad.var.head()"
   ]
  },
  {
   "cell_type": "markdown",
   "metadata": {},
   "source": [
    "- Remove cells with peaks accessible in less than k cells"
   ]
  },
  {
   "cell_type": "code",
   "execution_count": 12,
   "metadata": {},
   "outputs": [
    {
     "data": {
      "text/plain": [
       "array([[<AxesSubplot:title={'center':'total_counts'}>]], dtype=object)"
      ]
     },
     "execution_count": 12,
     "metadata": {},
     "output_type": "execute_result"
    },
    {
     "data": {
      "image/png": "[encoded data removed]",
      "text/plain": [
       "<Figure size 1800x432 with 1 Axes>"
      ]
     },
     "metadata": {
      "needs_background": "light"
     },
     "output_type": "display_data"
    }
   ],
   "source": [
    "ad.var.hist(column = 'total_counts', bins = 200, grid = False, figsize = (25,6), color = '#870052')\n",
    "# total counts in var: total reads (from binary data) per peak "
   ]
  },
  {
   "cell_type": "code",
   "execution_count": null,
   "metadata": {},
   "outputs": [],
   "source": [
    "# make a copy to come back\n",
    "# adata_prefilter = adata.copy()"
   ]
  },
  {
   "cell_type": "code",
   "execution_count": null,
   "metadata": {},
   "outputs": [],
   "source": [
    "# adata = adata_prefilter.copy()"
   ]
  },
  {
   "cell_type": "code",
   "execution_count": 13,
   "metadata": {},
   "outputs": [
    {
     "data": {
      "text/plain": [
       "(array([2.38990e+04, 4.74000e+02, 2.19600e+03, 1.27450e+04, 5.36430e+04,\n",
       "        1.29785e+05, 1.10453e+05, 4.15340e+04, 2.58700e+03, 2.10000e+01]),\n",
       " array([0.        , 0.74949534, 1.49899067, 2.24848601, 2.99798134,\n",
       "        3.74747668, 4.49697201, 5.24646735, 5.99596268, 6.74545802,\n",
       "        7.49495335]),\n",
       " <BarContainer object of 10 artists>)"
      ]
     },
     "execution_count": 13,
     "metadata": {},
     "output_type": "execute_result"
    },
    {
     "data": {
      "image/png": "[encoded data removed]",
      "text/plain": [
       "<Figure size 432x288 with 1 Axes>"
      ]
     },
     "metadata": {
      "needs_background": "light"
     },
     "output_type": "display_data"
    }
   ],
   "source": [
    "import matplotlib.pyplot as plt\n",
    "\n",
    "plt.hist(np.log10(ad.var.tss_distance + 1))"
   ]
  },
  {
   "cell_type": "code",
   "execution_count": 14,
   "metadata": {},
   "outputs": [
    {
     "name": "stderr",
     "output_type": "stream",
     "text": [
      "/home/jovyan/my-conda-envs/heart/lib/python3.8/site-packages/pandas/core/arrays/categorical.py:2487: FutureWarning: The `inplace` parameter in pandas.Categorical.remove_unused_categories is deprecated and will be removed in a future version.\n",
      "  res = method(*args, **kwargs)\n",
      "/home/jovyan/my-conda-envs/heart/lib/python3.8/site-packages/pandas/core/arrays/categorical.py:2487: FutureWarning: The `inplace` parameter in pandas.Categorical.remove_unused_categories is deprecated and will be removed in a future version.\n",
      "  res = method(*args, **kwargs)\n"
     ]
    },
    {
     "data": {
      "text/plain": [
       "View of AnnData object with n_obs × n_vars = 155699 × 342371\n",
       "    var: 'peak_width', 'exon', 'gene', 'promoter', 'annotation', 'gene_name', 'gene_id', 'tss_distance', 'ENCODE_blacklist', 'n_cells_by_counts', 'mean_counts', 'log1p_mean_counts', 'pct_dropout_by_counts', 'total_counts', 'log1p_total_counts'\n",
       "    layers: 'binary_raw'"
      ]
     },
     "execution_count": 14,
     "metadata": {},
     "output_type": "execute_result"
    }
   ],
   "source": [
    "ad = ad[:,ad.var.total_counts > 30]\n",
    "ad = ad[:,ad.var.total_counts < 6000]\n",
    "ad"
   ]
  },
  {
   "cell_type": "code",
   "execution_count": 15,
   "metadata": {},
   "outputs": [
    {
     "name": "stderr",
     "output_type": "stream",
     "text": [
      "/home/jovyan/my-conda-envs/heart/lib/python3.8/site-packages/pandas/core/arrays/categorical.py:2487: FutureWarning: The `inplace` parameter in pandas.Categorical.remove_unused_categories is deprecated and will be removed in a future version.\n",
      "  res = method(*args, **kwargs)\n"
     ]
    }
   ],
   "source": [
    "ad = ad[:,ad.var.tss_distance < 50000]"
   ]
  },
  {
   "cell_type": "code",
   "execution_count": 16,
   "metadata": {},
   "outputs": [
    {
     "data": {
      "text/plain": [
       "View of AnnData object with n_obs × n_vars = 155699 × 228169\n",
       "    var: 'peak_width', 'exon', 'gene', 'promoter', 'annotation', 'gene_name', 'gene_id', 'tss_distance', 'ENCODE_blacklist', 'n_cells_by_counts', 'mean_counts', 'log1p_mean_counts', 'pct_dropout_by_counts', 'total_counts', 'log1p_total_counts'\n",
       "    layers: 'binary_raw'"
      ]
     },
     "execution_count": 16,
     "metadata": {},
     "output_type": "execute_result"
    }
   ],
   "source": [
    "ad"
   ]
  },
  {
   "cell_type": "code",
   "execution_count": 17,
   "metadata": {},
   "outputs": [
    {
     "data": {
      "text/plain": [
       "array([[<AxesSubplot:title={'center':'total_counts'}>]], dtype=object)"
      ]
     },
     "execution_count": 17,
     "metadata": {},
     "output_type": "execute_result"
    },
    {
     "data": {
      "image/png": "[encoded data removed]",
      "text/plain": [
       "<Figure size 1800x432 with 1 Axes>"
      ]
     },
     "metadata": {
      "needs_background": "light"
     },
     "output_type": "display_data"
    }
   ],
   "source": [
    "ad.var.hist(column = 'total_counts', bins = 200, grid = False, figsize = (25,6), color = '#870052')"
   ]
  },
  {
   "cell_type": "markdown",
   "metadata": {},
   "source": [
    "- Remove peaks in ENCODE blacklist"
   ]
  },
  {
   "cell_type": "markdown",
   "metadata": {},
   "source": [
    "https://www.nature.com/articles/s41598-019-45839-z"
   ]
  },
  {
   "cell_type": "code",
   "execution_count": 18,
   "metadata": {},
   "outputs": [
    {
     "data": {
      "text/plain": [
       "754"
      ]
     },
     "execution_count": 18,
     "metadata": {},
     "output_type": "execute_result"
    }
   ],
   "source": [
    "ad.var['ENCODE_blacklist'].sum()"
   ]
  },
  {
   "cell_type": "code",
   "execution_count": 19,
   "metadata": {},
   "outputs": [
    {
     "name": "stderr",
     "output_type": "stream",
     "text": [
      "/home/jovyan/my-conda-envs/heart/lib/python3.8/site-packages/pandas/core/arrays/categorical.py:2487: FutureWarning: The `inplace` parameter in pandas.Categorical.remove_unused_categories is deprecated and will be removed in a future version.\n",
      "  res = method(*args, **kwargs)\n"
     ]
    },
    {
     "data": {
      "text/plain": [
       "View of AnnData object with n_obs × n_vars = 155699 × 227415\n",
       "    var: 'peak_width', 'exon', 'gene', 'promoter', 'annotation', 'gene_name', 'gene_id', 'tss_distance', 'ENCODE_blacklist', 'n_cells_by_counts', 'mean_counts', 'log1p_mean_counts', 'pct_dropout_by_counts', 'total_counts', 'log1p_total_counts'\n",
       "    layers: 'binary_raw'"
      ]
     },
     "execution_count": 19,
     "metadata": {},
     "output_type": "execute_result"
    }
   ],
   "source": [
    "ad = ad[:, ad.var['ENCODE_blacklist'] == 0]\n",
    "ad"
   ]
  },
  {
   "cell_type": "markdown",
   "metadata": {},
   "source": [
    "- Filter by width (remove peaks at the lowest end, closest to min peak width in MACS2)"
   ]
  },
  {
   "cell_type": "code",
   "execution_count": 20,
   "metadata": {},
   "outputs": [
    {
     "name": "stderr",
     "output_type": "stream",
     "text": [
      "/home/jovyan/my-conda-envs/heart/lib/python3.8/site-packages/pandas/core/arrays/categorical.py:2487: FutureWarning: The `inplace` parameter in pandas.Categorical.remove_unused_categories is deprecated and will be removed in a future version.\n",
      "  res = method(*args, **kwargs)\n",
      "/home/jovyan/my-conda-envs/heart/lib/python3.8/site-packages/pandas/core/arrays/categorical.py:2487: FutureWarning: The `inplace` parameter in pandas.Categorical.remove_unused_categories is deprecated and will be removed in a future version.\n",
      "  res = method(*args, **kwargs)\n"
     ]
    },
    {
     "data": {
      "text/plain": [
       "View of AnnData object with n_obs × n_vars = 155699 × 211332\n",
       "    var: 'peak_width', 'exon', 'gene', 'promoter', 'annotation', 'gene_name', 'gene_id', 'tss_distance', 'ENCODE_blacklist', 'n_cells_by_counts', 'mean_counts', 'log1p_mean_counts', 'pct_dropout_by_counts', 'total_counts', 'log1p_total_counts'\n",
       "    layers: 'binary_raw'"
      ]
     },
     "execution_count": 20,
     "metadata": {},
     "output_type": "execute_result"
    }
   ],
   "source": [
    "ad = ad[:, ad.var.peak_width > 210]\n",
    "ad = ad[:, ad.var.peak_width < 1500]\n",
    "ad"
   ]
  },
  {
   "cell_type": "code",
   "execution_count": 21,
   "metadata": {},
   "outputs": [
    {
     "data": {
      "text/plain": [
       "array([[<AxesSubplot:title={'center':'peak_width'}>]], dtype=object)"
      ]
     },
     "execution_count": 21,
     "metadata": {},
     "output_type": "execute_result"
    },
    {
     "data": {
      "image/png": "[encoded data removed]",
      "text/plain": [
       "<Figure size 1800x432 with 1 Axes>"
      ]
     },
     "metadata": {
      "needs_background": "light"
     },
     "output_type": "display_data"
    }
   ],
   "source": [
    "ad.var.hist(column = 'peak_width', bins = 200, grid = False, figsize = (25,6), color = '#870052')"
   ]
  },
  {
   "cell_type": "markdown",
   "metadata": {},
   "source": [
    "- Filter peaks that are not accessible in at least 10% of cells from a coarse cluster"
   ]
  },
  {
   "cell_type": "code",
   "execution_count": 22,
   "metadata": {},
   "outputs": [],
   "source": [
    "min_frac = 0.1\n",
    "# min_frac = 0.01"
   ]
  },
  {
   "cell_type": "markdown",
   "metadata": {},
   "source": [
    "- Load cluster information from cellatac outputs"
   ]
  },
  {
   "cell_type": "code",
   "execution_count": 23,
   "metadata": {},
   "outputs": [
    {
     "data": {
      "text/plain": [
       "AnnData object with n_obs × n_vars = 155699 × 211332\n",
       "    obs: 'cellatac_clusters'\n",
       "    var: 'peak_width', 'exon', 'gene', 'promoter', 'annotation', 'gene_name', 'gene_id', 'tss_distance', 'ENCODE_blacklist', 'n_cells_by_counts', 'mean_counts', 'log1p_mean_counts', 'pct_dropout_by_counts', 'total_counts', 'log1p_total_counts'\n",
       "    layers: 'binary_raw'"
      ]
     },
     "execution_count": 23,
     "metadata": {},
     "output_type": "execute_result"
    }
   ],
   "source": [
    "clusters = pd.read_table(cellatac_outdir_1158 + 'qc/seurat-clades.tsv', header = None, index_col = 0)\n",
    "clusters.columns = [\"cellatac_clusters\"]\n",
    "ad.obs = clusters.loc[ad.obs_names]\n",
    "ad"
   ]
  },
  {
   "cell_type": "markdown",
   "metadata": {},
   "source": [
    "- Add cluster matrix"
   ]
  },
  {
   "cell_type": "code",
   "execution_count": 24,
   "metadata": {},
   "outputs": [
    {
     "name": "stdout",
     "output_type": "stream",
     "text": [
      "number of clusters: 32\n"
     ]
    },
    {
     "name": "stderr",
     "output_type": "stream",
     "text": [
      "/home/jovyan/my-conda-envs/heart/lib/python3.8/site-packages/IPython/core/interactiveshell.py:3437: SparseEfficiencyWarning: Comparing a sparse matrix with a nonzero scalar using != is inefficient, try using == instead.\n",
      "  exec(code_obj, self.user_global_ns, self.user_ns)\n",
      "/home/jovyan/my-conda-envs/heart/lib/python3.8/site-packages/scipy/sparse/_index.py:125: SparseEfficiencyWarning: Changing the sparsity structure of a csr_matrix is expensive. lil_matrix is more efficient.\n",
      "  self._set_arrayXarray(i, j, x)\n"
     ]
    }
   ],
   "source": [
    "n_clusters = len(np.unique(ad.obs[[\"cellatac_clusters\"]]))\n",
    "print('number of clusters:', n_clusters)\n",
    "clus_mat = np.empty([ad.n_obs, n_clusters])\n",
    "for cl in np.unique(ad.obs[[\"cellatac_clusters\"]]):\n",
    "    clus_mat[np.where(ad.obs['cellatac_clusters']==cl)[0],cl] = 1\n",
    "\n",
    "clus_mat = scipy.sparse.csr_matrix(clus_mat)\n",
    "clus_mat[clus_mat != 1 ] = 0"
   ]
  },
  {
   "cell_type": "code",
   "execution_count": 25,
   "metadata": {},
   "outputs": [],
   "source": [
    "cl_peak_mat = np.dot(clus_mat.T, ad.layers[\"binary_raw\"])"
   ]
  },
  {
   "cell_type": "code",
   "execution_count": 26,
   "metadata": {},
   "outputs": [],
   "source": [
    "cl_peak_frac = cl_peak_mat/clus_mat.sum(0).T  # normalise?"
   ]
  },
  {
   "cell_type": "code",
   "execution_count": 27,
   "metadata": {},
   "outputs": [
    {
     "name": "stderr",
     "output_type": "stream",
     "text": [
      "/home/jovyan/my-conda-envs/heart/lib/python3.8/site-packages/pandas/core/arrays/categorical.py:2487: FutureWarning: The `inplace` parameter in pandas.Categorical.remove_unused_categories is deprecated and will be removed in a future version.\n",
      "  res = method(*args, **kwargs)\n"
     ]
    },
    {
     "data": {
      "text/plain": [
       "View of AnnData object with n_obs × n_vars = 155699 × 66842\n",
       "    obs: 'cellatac_clusters'\n",
       "    var: 'peak_width', 'exon', 'gene', 'promoter', 'annotation', 'gene_name', 'gene_id', 'tss_distance', 'ENCODE_blacklist', 'n_cells_by_counts', 'mean_counts', 'log1p_mean_counts', 'pct_dropout_by_counts', 'total_counts', 'log1p_total_counts'\n",
       "    layers: 'binary_raw'"
      ]
     },
     "execution_count": 27,
     "metadata": {},
     "output_type": "execute_result"
    }
   ],
   "source": [
    "ad = ad[:, cl_peak_frac.max(0) > min_frac]\n",
    "ad"
   ]
  },
  {
   "cell_type": "markdown",
   "metadata": {},
   "source": [
    "## Add SangerID and other cell metadata"
   ]
  },
  {
   "cell_type": "code",
   "execution_count": 28,
   "metadata": {},
   "outputs": [],
   "source": [
    "# metadata_snATAC\n",
    "# snATAC=pd.read_csv('/nfs/team205/kk18/data/cellatac/tic-1050/6reg-v2_snATAC_metadata.csv',index_col=0)\n",
    "snATAC=pd.read_csv('/nfs/team205/heart/cellatac/tic-1050/6reg-v2_snATAC_metadata.csv',index_col=0)\n",
    "snATAC['dataset']=snATAC['Region']\n",
    "snATAC.rename(columns={\"Region\": \"Region_Coarse\"}, inplace=True)\n"
   ]
  },
  {
   "cell_type": "code",
   "execution_count": 29,
   "metadata": {},
   "outputs": [],
   "source": [
    "# metadata_Multiome\n",
    "# Multiome=pd.read_csv('/nfs/team205/kk18/data/cellatac/tic-1050/6reg-v2_Multiome_metadata.csv')\n",
    "Multiome=pd.read_csv('/nfs/team205/heart/metadata/multiome_metadata_6reg_plus_SAN.csv')\n",
    "\n",
    "Multiome['dataset']='Multiome'\n",
    "# Multiome['dataset']=''\n",
    "# Multiome.loc[Multiome.query('Donor==3').index,'dataset']='Multiome_1'\n",
    "# Multiome.loc[Multiome.query('Donor==7').index,'dataset']='Multiome_1'\n",
    "# Multiome.loc[Multiome.query('Donor==8').index,'dataset']='Multiome_2'\n",
    "# Multiome['Donor']=['D'+str(x) for x in Multiome['Donor']]"
   ]
  },
  {
   "cell_type": "code",
   "execution_count": 30,
   "metadata": {},
   "outputs": [],
   "source": [
    "# cellatac_code to sangerID\n",
    "cellmeta_tagmap = pd.read_table(cellatac_outdir_1158 + 'cellmetadata/tagmap.txt', header=None)\n",
    "cellmeta_tagmap['cellatac_code']=[x.split('-')[0] for x in cellmeta_tagmap[0]]\n",
    "cellmeta_tagmap['sangerID']=[x.split('-')[0] for x in cellmeta_tagmap[1]]\n",
    "code2ID2meta = cellmeta_tagmap[['cellatac_code','sangerID']].copy()\n",
    "code2ID2meta.drop_duplicates(inplace=True)"
   ]
  },
  {
   "cell_type": "code",
   "execution_count": 31,
   "metadata": {},
   "outputs": [
    {
     "data": {
      "text/html": [
       "<div>\n",
       "<style scoped>\n",
       "    .dataframe tbody tr th:only-of-type {\n",
       "        vertical-align: middle;\n",
       "    }\n",
       "\n",
       "    .dataframe tbody tr th {\n",
       "        vertical-align: top;\n",
       "    }\n",
       "\n",
       "    .dataframe thead th {\n",
       "        text-align: right;\n",
       "    }\n",
       "</style>\n",
       "<table border=\"1\" class=\"dataframe\">\n",
       "  <thead>\n",
       "    <tr style=\"text-align: right;\">\n",
       "      <th></th>\n",
       "      <th>cellatac_code</th>\n",
       "      <th>sangerID</th>\n",
       "      <th>dataset</th>\n",
       "      <th>Donor</th>\n",
       "      <th>Region_Coarse</th>\n",
       "      <th>Region_Fine</th>\n",
       "    </tr>\n",
       "  </thead>\n",
       "  <tbody>\n",
       "    <tr>\n",
       "      <th>0</th>\n",
       "      <td>01</td>\n",
       "      <td>HCAHeart8374324</td>\n",
       "      <td>LV</td>\n",
       "      <td>D5</td>\n",
       "      <td>LV</td>\n",
       "      <td>NaN</td>\n",
       "    </tr>\n",
       "    <tr>\n",
       "      <th>1</th>\n",
       "      <td>02</td>\n",
       "      <td>HCAHeart8374325</td>\n",
       "      <td>RV</td>\n",
       "      <td>D6</td>\n",
       "      <td>RV</td>\n",
       "      <td>NaN</td>\n",
       "    </tr>\n",
       "    <tr>\n",
       "      <th>2</th>\n",
       "      <td>03</td>\n",
       "      <td>HCAHeart8374326</td>\n",
       "      <td>LA</td>\n",
       "      <td>D7</td>\n",
       "      <td>LA</td>\n",
       "      <td>NaN</td>\n",
       "    </tr>\n",
       "    <tr>\n",
       "      <th>3</th>\n",
       "      <td>04</td>\n",
       "      <td>HCAHeart8374327</td>\n",
       "      <td>LA</td>\n",
       "      <td>D5</td>\n",
       "      <td>LA</td>\n",
       "      <td>NaN</td>\n",
       "    </tr>\n",
       "    <tr>\n",
       "      <th>4</th>\n",
       "      <td>05</td>\n",
       "      <td>HCAHeart8374328</td>\n",
       "      <td>LV</td>\n",
       "      <td>D6</td>\n",
       "      <td>LV</td>\n",
       "      <td>NaN</td>\n",
       "    </tr>\n",
       "  </tbody>\n",
       "</table>\n",
       "</div>"
      ],
      "text/plain": [
       "  cellatac_code         sangerID dataset Donor Region_Coarse Region_Fine\n",
       "0            01  HCAHeart8374324      LV    D5            LV         NaN\n",
       "1            02  HCAHeart8374325      RV    D6            RV         NaN\n",
       "2            03  HCAHeart8374326      LA    D7            LA         NaN\n",
       "3            04  HCAHeart8374327      LA    D5            LA         NaN\n",
       "4            05  HCAHeart8374328      LV    D6            LV         NaN"
      ]
     },
     "execution_count": 31,
     "metadata": {},
     "output_type": "execute_result"
    }
   ],
   "source": [
    "# cellatac_code to sangerID to metadata\n",
    "ID2meta=pd.concat([snATAC[['SangerID','dataset','Donor','Region_Coarse']],Multiome[['SangerID','dataset','Donor','Region_Coarse', 'Region_Fine']]],axis=0)\n",
    "code2ID2meta = code2ID2meta.merge(ID2meta, how='left', left_on='sangerID', right_on='SangerID')\n",
    "code2ID2meta.drop(['SangerID'], axis=1, inplace=True)\n",
    "code2ID2meta.head()"
   ]
  },
  {
   "cell_type": "code",
   "execution_count": 32,
   "metadata": {},
   "outputs": [
    {
     "data": {
      "text/html": [
       "<div>\n",
       "<style scoped>\n",
       "    .dataframe tbody tr th:only-of-type {\n",
       "        vertical-align: middle;\n",
       "    }\n",
       "\n",
       "    .dataframe tbody tr th {\n",
       "        vertical-align: top;\n",
       "    }\n",
       "\n",
       "    .dataframe thead th {\n",
       "        text-align: right;\n",
       "    }\n",
       "</style>\n",
       "<table border=\"1\" class=\"dataframe\">\n",
       "  <thead>\n",
       "    <tr style=\"text-align: right;\">\n",
       "      <th></th>\n",
       "      <th>cellatac_clusters</th>\n",
       "    </tr>\n",
       "  </thead>\n",
       "  <tbody>\n",
       "    <tr>\n",
       "      <th>01-AAACGAATCAAACCCA-1</th>\n",
       "      <td>26</td>\n",
       "    </tr>\n",
       "    <tr>\n",
       "      <th>01-AAACTGCAGACCCTAT-1</th>\n",
       "      <td>12</td>\n",
       "    </tr>\n",
       "    <tr>\n",
       "      <th>01-AAAGGATAGGCACTAG-1</th>\n",
       "      <td>12</td>\n",
       "    </tr>\n",
       "    <tr>\n",
       "      <th>01-AAAGGGCAGCGAGCTA-1</th>\n",
       "      <td>11</td>\n",
       "    </tr>\n",
       "    <tr>\n",
       "      <th>01-AAAGGGCAGTGATATG-1</th>\n",
       "      <td>13</td>\n",
       "    </tr>\n",
       "    <tr>\n",
       "      <th>...</th>\n",
       "      <td>...</td>\n",
       "    </tr>\n",
       "    <tr>\n",
       "      <th>36-TTTGTGTTCACAGACT-1</th>\n",
       "      <td>0</td>\n",
       "    </tr>\n",
       "    <tr>\n",
       "      <th>36-TTTGTGTTCCTCACTA-1</th>\n",
       "      <td>0</td>\n",
       "    </tr>\n",
       "    <tr>\n",
       "      <th>36-TTTGTGTTCTCCTCTT-1</th>\n",
       "      <td>0</td>\n",
       "    </tr>\n",
       "    <tr>\n",
       "      <th>36-TTTGTTGGTCACAGAC-1</th>\n",
       "      <td>0</td>\n",
       "    </tr>\n",
       "    <tr>\n",
       "      <th>36-TTTGTTGGTGCGCATG-1</th>\n",
       "      <td>6</td>\n",
       "    </tr>\n",
       "  </tbody>\n",
       "</table>\n",
       "<p>155699 rows × 1 columns</p>\n",
       "</div>"
      ],
      "text/plain": [
       "                       cellatac_clusters\n",
       "01-AAACGAATCAAACCCA-1                 26\n",
       "01-AAACTGCAGACCCTAT-1                 12\n",
       "01-AAAGGATAGGCACTAG-1                 12\n",
       "01-AAAGGGCAGCGAGCTA-1                 11\n",
       "01-AAAGGGCAGTGATATG-1                 13\n",
       "...                                  ...\n",
       "36-TTTGTGTTCACAGACT-1                  0\n",
       "36-TTTGTGTTCCTCACTA-1                  0\n",
       "36-TTTGTGTTCTCCTCTT-1                  0\n",
       "36-TTTGTTGGTCACAGAC-1                  0\n",
       "36-TTTGTTGGTGCGCATG-1                  6\n",
       "\n",
       "[155699 rows x 1 columns]"
      ]
     },
     "execution_count": 32,
     "metadata": {},
     "output_type": "execute_result"
    }
   ],
   "source": [
    "ad.obs"
   ]
  },
  {
   "cell_type": "code",
   "execution_count": 33,
   "metadata": {},
   "outputs": [
    {
     "name": "stderr",
     "output_type": "stream",
     "text": [
      "Trying to set attribute `.obs` of view, copying.\n"
     ]
    }
   ],
   "source": [
    "# adding sample info to adata.obs (regions for snATAC and Multiome-t1 and t2)\n",
    "ad.obs['cellatac_code']=[x.split('-')[0] for x in ad.obs.index]"
   ]
  },
  {
   "cell_type": "code",
   "execution_count": 34,
   "metadata": {},
   "outputs": [
    {
     "data": {
      "text/html": [
       "<div>\n",
       "<style scoped>\n",
       "    .dataframe tbody tr th:only-of-type {\n",
       "        vertical-align: middle;\n",
       "    }\n",
       "\n",
       "    .dataframe tbody tr th {\n",
       "        vertical-align: top;\n",
       "    }\n",
       "\n",
       "    .dataframe thead th {\n",
       "        text-align: right;\n",
       "    }\n",
       "</style>\n",
       "<table border=\"1\" class=\"dataframe\">\n",
       "  <thead>\n",
       "    <tr style=\"text-align: right;\">\n",
       "      <th></th>\n",
       "      <th>cellatac_clusters</th>\n",
       "      <th>cellatac_code</th>\n",
       "    </tr>\n",
       "  </thead>\n",
       "  <tbody>\n",
       "    <tr>\n",
       "      <th>01-AAACGAATCAAACCCA-1</th>\n",
       "      <td>26</td>\n",
       "      <td>01</td>\n",
       "    </tr>\n",
       "    <tr>\n",
       "      <th>01-AAACTGCAGACCCTAT-1</th>\n",
       "      <td>12</td>\n",
       "      <td>01</td>\n",
       "    </tr>\n",
       "    <tr>\n",
       "      <th>01-AAAGGATAGGCACTAG-1</th>\n",
       "      <td>12</td>\n",
       "      <td>01</td>\n",
       "    </tr>\n",
       "    <tr>\n",
       "      <th>01-AAAGGGCAGCGAGCTA-1</th>\n",
       "      <td>11</td>\n",
       "      <td>01</td>\n",
       "    </tr>\n",
       "    <tr>\n",
       "      <th>01-AAAGGGCAGTGATATG-1</th>\n",
       "      <td>13</td>\n",
       "      <td>01</td>\n",
       "    </tr>\n",
       "    <tr>\n",
       "      <th>...</th>\n",
       "      <td>...</td>\n",
       "      <td>...</td>\n",
       "    </tr>\n",
       "    <tr>\n",
       "      <th>36-TTTGTGTTCACAGACT-1</th>\n",
       "      <td>0</td>\n",
       "      <td>36</td>\n",
       "    </tr>\n",
       "    <tr>\n",
       "      <th>36-TTTGTGTTCCTCACTA-1</th>\n",
       "      <td>0</td>\n",
       "      <td>36</td>\n",
       "    </tr>\n",
       "    <tr>\n",
       "      <th>36-TTTGTGTTCTCCTCTT-1</th>\n",
       "      <td>0</td>\n",
       "      <td>36</td>\n",
       "    </tr>\n",
       "    <tr>\n",
       "      <th>36-TTTGTTGGTCACAGAC-1</th>\n",
       "      <td>0</td>\n",
       "      <td>36</td>\n",
       "    </tr>\n",
       "    <tr>\n",
       "      <th>36-TTTGTTGGTGCGCATG-1</th>\n",
       "      <td>6</td>\n",
       "      <td>36</td>\n",
       "    </tr>\n",
       "  </tbody>\n",
       "</table>\n",
       "<p>155699 rows × 2 columns</p>\n",
       "</div>"
      ],
      "text/plain": [
       "                       cellatac_clusters cellatac_code\n",
       "01-AAACGAATCAAACCCA-1                 26            01\n",
       "01-AAACTGCAGACCCTAT-1                 12            01\n",
       "01-AAAGGATAGGCACTAG-1                 12            01\n",
       "01-AAAGGGCAGCGAGCTA-1                 11            01\n",
       "01-AAAGGGCAGTGATATG-1                 13            01\n",
       "...                                  ...           ...\n",
       "36-TTTGTGTTCACAGACT-1                  0            36\n",
       "36-TTTGTGTTCCTCACTA-1                  0            36\n",
       "36-TTTGTGTTCTCCTCTT-1                  0            36\n",
       "36-TTTGTTGGTCACAGAC-1                  0            36\n",
       "36-TTTGTTGGTGCGCATG-1                  6            36\n",
       "\n",
       "[155699 rows x 2 columns]"
      ]
     },
     "execution_count": 34,
     "metadata": {},
     "output_type": "execute_result"
    }
   ],
   "source": [
    "ad.obs"
   ]
  },
  {
   "cell_type": "code",
   "execution_count": 35,
   "metadata": {},
   "outputs": [
    {
     "name": "stderr",
     "output_type": "stream",
     "text": [
      "AnnData expects .obs.index to contain strings, but your first indices are: Int64Index([0, 1], dtype='int64'), …\n"
     ]
    }
   ],
   "source": [
    "# adding sample info to adata.obs (regions for snATAC and Multiome-t1 and t2)\n",
    "ad.obs['cellatac_code']=[x.split('-')[0] for x in ad.obs.index]\n",
    "\n",
    "index=ad.obs_names\n",
    "ad.obs=ad.obs.merge(code2ID2meta, how='left', on='cellatac_code')\n",
    "ad.obs.set_index(index, inplace=True)"
   ]
  },
  {
   "cell_type": "code",
   "execution_count": 36,
   "metadata": {},
   "outputs": [
    {
     "data": {
      "text/plain": [
       "array([nan, 'LV FW ANTLAT EPI', 'LV FW ANTLAT ENDO', 'RV FW EPI',\n",
       "       'RV FW ENDO', 'RAA', 'SAN'], dtype=object)"
      ]
     },
     "execution_count": 36,
     "metadata": {},
     "output_type": "execute_result"
    }
   ],
   "source": [
    "ad.obs.Region_Fine.unique()"
   ]
  },
  {
   "cell_type": "code",
   "execution_count": 37,
   "metadata": {},
   "outputs": [
    {
     "data": {
      "text/plain": [
       "array(['LV', 'RV', 'LA', 'RA', 'SP', 'AX', 'Multiome'], dtype=object)"
      ]
     },
     "execution_count": 37,
     "metadata": {},
     "output_type": "execute_result"
    }
   ],
   "source": [
    "ad.obs.dataset.unique()"
   ]
  },
  {
   "cell_type": "code",
   "execution_count": 38,
   "metadata": {},
   "outputs": [],
   "source": [
    "ad.obs['dataset']=ad.obs['dataset'].astype('category')\n",
    "ad.obs['dataset'].cat.reorder_categories(['RA','LA','RV','LV','SP','AX','Multiome'], inplace=True)"
   ]
  },
  {
   "cell_type": "code",
   "execution_count": 39,
   "metadata": {},
   "outputs": [
    {
     "data": {
      "text/plain": [
       "array(['LV', 'RV', 'LA', 'RA', 'SP', 'AX', 'SAN'], dtype=object)"
      ]
     },
     "execution_count": 39,
     "metadata": {},
     "output_type": "execute_result"
    }
   ],
   "source": [
    "ad.obs['Region_Coarse'].unique()"
   ]
  },
  {
   "cell_type": "code",
   "execution_count": 40,
   "metadata": {},
   "outputs": [],
   "source": [
    "ad.obs['Region_Coarse']=ad.obs['Region_Coarse'].astype('category')\n",
    "ad.obs['Region_Coarse'].cat.reorder_categories(['RA','LA','RV','LV','SP','AX','SAN'], inplace=True)"
   ]
  },
  {
   "cell_type": "code",
   "execution_count": 41,
   "metadata": {},
   "outputs": [
    {
     "data": {
      "text/plain": [
       "AnnData object with n_obs × n_vars = 155699 × 66842\n",
       "    obs: 'cellatac_clusters', 'cellatac_code', 'sangerID', 'dataset', 'Donor', 'Region_Coarse', 'Region_Fine'\n",
       "    var: 'peak_width', 'exon', 'gene', 'promoter', 'annotation', 'gene_name', 'gene_id', 'tss_distance', 'ENCODE_blacklist', 'n_cells_by_counts', 'mean_counts', 'log1p_mean_counts', 'pct_dropout_by_counts', 'total_counts', 'log1p_total_counts'\n",
       "    layers: 'binary_raw'"
      ]
     },
     "execution_count": 41,
     "metadata": {},
     "output_type": "execute_result"
    }
   ],
   "source": [
    "ad"
   ]
  },
  {
   "cell_type": "markdown",
   "metadata": {},
   "source": [
    "### Filter low quality nuclei"
   ]
  },
  {
   "cell_type": "code",
   "execution_count": 42,
   "metadata": {},
   "outputs": [],
   "source": [
    "sc.pp.calculate_qc_metrics(ad, layer = \"binary_raw\", inplace = True)"
   ]
  },
  {
   "cell_type": "code",
   "execution_count": 43,
   "metadata": {},
   "outputs": [
    {
     "data": {
      "text/plain": [
       "array([[<AxesSubplot:title={'center':'log1p_total_counts'}>]],\n",
       "      dtype=object)"
      ]
     },
     "execution_count": 43,
     "metadata": {},
     "output_type": "execute_result"
    },
    {
     "data": {
      "image/png": "[encoded data removed]",
      "text/plain": [
       "<Figure size 1800x432 with 1 Axes>"
      ]
     },
     "metadata": {
      "needs_background": "light"
     },
     "output_type": "display_data"
    }
   ],
   "source": [
    "ad.obs.hist(column = 'log1p_total_counts', bins = 200, grid = False, figsize = (25,6), \n",
    "            color = '#870052')"
   ]
  },
  {
   "cell_type": "markdown",
   "metadata": {},
   "source": [
    "**filtering based on Signac-QC (No2 and No3)**"
   ]
  },
  {
   "cell_type": "code",
   "execution_count": 44,
   "metadata": {},
   "outputs": [
    {
     "data": {
      "text/html": [
       "<div>\n",
       "<style scoped>\n",
       "    .dataframe tbody tr th:only-of-type {\n",
       "        vertical-align: middle;\n",
       "    }\n",
       "\n",
       "    .dataframe tbody tr th {\n",
       "        vertical-align: top;\n",
       "    }\n",
       "\n",
       "    .dataframe thead th {\n",
       "        text-align: right;\n",
       "    }\n",
       "</style>\n",
       "<table border=\"1\" class=\"dataframe\">\n",
       "  <thead>\n",
       "    <tr style=\"text-align: right;\">\n",
       "      <th></th>\n",
       "      <th>0</th>\n",
       "    </tr>\n",
       "  </thead>\n",
       "  <tbody>\n",
       "    <tr>\n",
       "      <th>0</th>\n",
       "      <td>HCAHeart9508819_AAACATGCAGCAGGTA-1</td>\n",
       "    </tr>\n",
       "    <tr>\n",
       "      <th>1</th>\n",
       "      <td>HCAHeart9508819_AAACATGCATAGCTGC-1</td>\n",
       "    </tr>\n",
       "    <tr>\n",
       "      <th>2</th>\n",
       "      <td>HCAHeart9508819_AAACCAACAAGGTGCA-1</td>\n",
       "    </tr>\n",
       "    <tr>\n",
       "      <th>3</th>\n",
       "      <td>HCAHeart9508819_AAACCAACACTTAACG-1</td>\n",
       "    </tr>\n",
       "    <tr>\n",
       "      <th>4</th>\n",
       "      <td>HCAHeart9508819_AAACCAACAGCCGCTA-1</td>\n",
       "    </tr>\n",
       "    <tr>\n",
       "      <th>...</th>\n",
       "      <td>...</td>\n",
       "    </tr>\n",
       "    <tr>\n",
       "      <th>48093</th>\n",
       "      <td>HCAHeart8374344_TTTGGTTTCATTGCCC-1</td>\n",
       "    </tr>\n",
       "    <tr>\n",
       "      <th>48094</th>\n",
       "      <td>HCAHeart8374344_TTTGGTTTCGTTACAG-1</td>\n",
       "    </tr>\n",
       "    <tr>\n",
       "      <th>48095</th>\n",
       "      <td>HCAHeart8374344_TTTGTGTAGTACAACA-1</td>\n",
       "    </tr>\n",
       "    <tr>\n",
       "      <th>48096</th>\n",
       "      <td>HCAHeart8374344_TTTGTGTCACTGTCGG-1</td>\n",
       "    </tr>\n",
       "    <tr>\n",
       "      <th>48097</th>\n",
       "      <td>HCAHeart8374344_TTTGTGTGTGCCAAGA-1</td>\n",
       "    </tr>\n",
       "  </tbody>\n",
       "</table>\n",
       "<p>111687 rows × 1 columns</p>\n",
       "</div>"
      ],
      "text/plain": [
       "                                        0\n",
       "0      HCAHeart9508819_AAACATGCAGCAGGTA-1\n",
       "1      HCAHeart9508819_AAACATGCATAGCTGC-1\n",
       "2      HCAHeart9508819_AAACCAACAAGGTGCA-1\n",
       "3      HCAHeart9508819_AAACCAACACTTAACG-1\n",
       "4      HCAHeart9508819_AAACCAACAGCCGCTA-1\n",
       "...                                   ...\n",
       "48093  HCAHeart8374344_TTTGGTTTCATTGCCC-1\n",
       "48094  HCAHeart8374344_TTTGGTTTCGTTACAG-1\n",
       "48095  HCAHeart8374344_TTTGTGTAGTACAACA-1\n",
       "48096  HCAHeart8374344_TTTGTGTCACTGTCGG-1\n",
       "48097  HCAHeart8374344_TTTGTGTGTGCCAAGA-1\n",
       "\n",
       "[111687 rows x 1 columns]"
      ]
     },
     "execution_count": 44,
     "metadata": {},
     "output_type": "execute_result"
    }
   ],
   "source": [
    "# Read in qualified cell barcode \n",
    "# Multiome_QCed=pd.read_table('/nfs/team205/kk18/data/mapped/cellranger-arc101/6reg-v2_MultiomeATAC_Signac-QCed-barcodes.txt', header=None)\n",
    "\n",
    "mainDir = '/lustre/scratch117/cellgen/team205/dm19/kazu/heart/mapped/'\n",
    "Multiome_QCed=pd.read_table(mainDir + \"6reg-v2_MultiomeATAC_Signac-QCed-barcodes.txt\", header=None)\n",
    "\n",
    "snATAC_QCed=pd.read_table('/nfs/team205/heart/mapped/cellranger-atac120/6reg-v2_snATAC_Signac-QCed-barcodes.txt', header=None)\n",
    "\n",
    "QCed = pd.concat([Multiome_QCed, snATAC_QCed])\n",
    "QCed"
   ]
  },
  {
   "cell_type": "code",
   "execution_count": 45,
   "metadata": {},
   "outputs": [
    {
     "data": {
      "text/html": [
       "<div>\n",
       "<style scoped>\n",
       "    .dataframe tbody tr th:only-of-type {\n",
       "        vertical-align: middle;\n",
       "    }\n",
       "\n",
       "    .dataframe tbody tr th {\n",
       "        vertical-align: top;\n",
       "    }\n",
       "\n",
       "    .dataframe thead th {\n",
       "        text-align: right;\n",
       "    }\n",
       "</style>\n",
       "<table border=\"1\" class=\"dataframe\">\n",
       "  <thead>\n",
       "    <tr style=\"text-align: right;\">\n",
       "      <th></th>\n",
       "      <th>0</th>\n",
       "    </tr>\n",
       "  </thead>\n",
       "  <tbody>\n",
       "    <tr>\n",
       "      <th>0</th>\n",
       "      <td>HCAHeart9508819_AAACATGCAGCAGGTA-1</td>\n",
       "    </tr>\n",
       "    <tr>\n",
       "      <th>1</th>\n",
       "      <td>HCAHeart9508819_AAACATGCATAGCTGC-1</td>\n",
       "    </tr>\n",
       "    <tr>\n",
       "      <th>2</th>\n",
       "      <td>HCAHeart9508819_AAACCAACAAGGTGCA-1</td>\n",
       "    </tr>\n",
       "    <tr>\n",
       "      <th>3</th>\n",
       "      <td>HCAHeart9508819_AAACCAACACTTAACG-1</td>\n",
       "    </tr>\n",
       "    <tr>\n",
       "      <th>4</th>\n",
       "      <td>HCAHeart9508819_AAACCAACAGCCGCTA-1</td>\n",
       "    </tr>\n",
       "    <tr>\n",
       "      <th>...</th>\n",
       "      <td>...</td>\n",
       "    </tr>\n",
       "    <tr>\n",
       "      <th>63584</th>\n",
       "      <td>HCAHeartST10773171_HCAHeartST10781448_TACCAGGT...</td>\n",
       "    </tr>\n",
       "    <tr>\n",
       "      <th>63585</th>\n",
       "      <td>HCAHeartST10773171_HCAHeartST10781448_TATCCAGC...</td>\n",
       "    </tr>\n",
       "    <tr>\n",
       "      <th>63586</th>\n",
       "      <td>HCAHeartST10773171_HCAHeartST10781448_TCATTACT...</td>\n",
       "    </tr>\n",
       "    <tr>\n",
       "      <th>63587</th>\n",
       "      <td>HCAHeartST10773171_HCAHeartST10781448_TGATTAGT...</td>\n",
       "    </tr>\n",
       "    <tr>\n",
       "      <th>63588</th>\n",
       "      <td>HCAHeartST10773171_HCAHeartST10781448_TGCTTGTG...</td>\n",
       "    </tr>\n",
       "  </tbody>\n",
       "</table>\n",
       "<p>63589 rows × 1 columns</p>\n",
       "</div>"
      ],
      "text/plain": [
       "                                                       0\n",
       "0                     HCAHeart9508819_AAACATGCAGCAGGTA-1\n",
       "1                     HCAHeart9508819_AAACATGCATAGCTGC-1\n",
       "2                     HCAHeart9508819_AAACCAACAAGGTGCA-1\n",
       "3                     HCAHeart9508819_AAACCAACACTTAACG-1\n",
       "4                     HCAHeart9508819_AAACCAACAGCCGCTA-1\n",
       "...                                                  ...\n",
       "63584  HCAHeartST10773171_HCAHeartST10781448_TACCAGGT...\n",
       "63585  HCAHeartST10773171_HCAHeartST10781448_TATCCAGC...\n",
       "63586  HCAHeartST10773171_HCAHeartST10781448_TCATTACT...\n",
       "63587  HCAHeartST10773171_HCAHeartST10781448_TGATTAGT...\n",
       "63588  HCAHeartST10773171_HCAHeartST10781448_TGCTTGTG...\n",
       "\n",
       "[63589 rows x 1 columns]"
      ]
     },
     "execution_count": 45,
     "metadata": {},
     "output_type": "execute_result"
    }
   ],
   "source": [
    "Multiome_QCed"
   ]
  },
  {
   "cell_type": "code",
   "execution_count": 46,
   "metadata": {},
   "outputs": [
    {
     "data": {
      "text/html": [
       "<div>\n",
       "<style scoped>\n",
       "    .dataframe tbody tr th:only-of-type {\n",
       "        vertical-align: middle;\n",
       "    }\n",
       "\n",
       "    .dataframe tbody tr th {\n",
       "        vertical-align: top;\n",
       "    }\n",
       "\n",
       "    .dataframe thead th {\n",
       "        text-align: right;\n",
       "    }\n",
       "</style>\n",
       "<table border=\"1\" class=\"dataframe\">\n",
       "  <thead>\n",
       "    <tr style=\"text-align: right;\">\n",
       "      <th></th>\n",
       "      <th>cellatac_clusters</th>\n",
       "      <th>cellatac_code</th>\n",
       "      <th>sangerID</th>\n",
       "      <th>dataset</th>\n",
       "      <th>Donor</th>\n",
       "      <th>Region_Coarse</th>\n",
       "      <th>Region_Fine</th>\n",
       "      <th>n_genes_by_counts</th>\n",
       "      <th>log1p_n_genes_by_counts</th>\n",
       "      <th>total_counts</th>\n",
       "      <th>log1p_total_counts</th>\n",
       "      <th>pct_counts_in_top_50_genes</th>\n",
       "      <th>pct_counts_in_top_100_genes</th>\n",
       "      <th>pct_counts_in_top_200_genes</th>\n",
       "      <th>pct_counts_in_top_500_genes</th>\n",
       "    </tr>\n",
       "  </thead>\n",
       "  <tbody>\n",
       "    <tr>\n",
       "      <th>01-AAACGAATCAAACCCA-1</th>\n",
       "      <td>26</td>\n",
       "      <td>01</td>\n",
       "      <td>HCAHeart8374324</td>\n",
       "      <td>LV</td>\n",
       "      <td>D5</td>\n",
       "      <td>LV</td>\n",
       "      <td>NaN</td>\n",
       "      <td>8525</td>\n",
       "      <td>9.050876</td>\n",
       "      <td>8525.0</td>\n",
       "      <td>9.050876</td>\n",
       "      <td>0.586510</td>\n",
       "      <td>1.173021</td>\n",
       "      <td>2.346041</td>\n",
       "      <td>5.865103</td>\n",
       "    </tr>\n",
       "    <tr>\n",
       "      <th>01-AAACTGCAGACCCTAT-1</th>\n",
       "      <td>12</td>\n",
       "      <td>01</td>\n",
       "      <td>HCAHeart8374324</td>\n",
       "      <td>LV</td>\n",
       "      <td>D5</td>\n",
       "      <td>LV</td>\n",
       "      <td>NaN</td>\n",
       "      <td>29</td>\n",
       "      <td>3.401197</td>\n",
       "      <td>29.0</td>\n",
       "      <td>3.401197</td>\n",
       "      <td>100.000000</td>\n",
       "      <td>100.000000</td>\n",
       "      <td>100.000000</td>\n",
       "      <td>100.000000</td>\n",
       "    </tr>\n",
       "    <tr>\n",
       "      <th>01-AAAGGATAGGCACTAG-1</th>\n",
       "      <td>12</td>\n",
       "      <td>01</td>\n",
       "      <td>HCAHeart8374324</td>\n",
       "      <td>LV</td>\n",
       "      <td>D5</td>\n",
       "      <td>LV</td>\n",
       "      <td>NaN</td>\n",
       "      <td>3719</td>\n",
       "      <td>8.221479</td>\n",
       "      <td>3719.0</td>\n",
       "      <td>8.221479</td>\n",
       "      <td>1.344447</td>\n",
       "      <td>2.688895</td>\n",
       "      <td>5.377790</td>\n",
       "      <td>13.444474</td>\n",
       "    </tr>\n",
       "    <tr>\n",
       "      <th>01-AAAGGGCAGCGAGCTA-1</th>\n",
       "      <td>11</td>\n",
       "      <td>01</td>\n",
       "      <td>HCAHeart8374324</td>\n",
       "      <td>LV</td>\n",
       "      <td>D5</td>\n",
       "      <td>LV</td>\n",
       "      <td>NaN</td>\n",
       "      <td>6986</td>\n",
       "      <td>8.851807</td>\n",
       "      <td>6986.0</td>\n",
       "      <td>8.851807</td>\n",
       "      <td>0.715717</td>\n",
       "      <td>1.431434</td>\n",
       "      <td>2.862869</td>\n",
       "      <td>7.157171</td>\n",
       "    </tr>\n",
       "    <tr>\n",
       "      <th>01-AAAGGGCAGTGATATG-1</th>\n",
       "      <td>13</td>\n",
       "      <td>01</td>\n",
       "      <td>HCAHeart8374324</td>\n",
       "      <td>LV</td>\n",
       "      <td>D5</td>\n",
       "      <td>LV</td>\n",
       "      <td>NaN</td>\n",
       "      <td>1989</td>\n",
       "      <td>7.595890</td>\n",
       "      <td>1989.0</td>\n",
       "      <td>7.595890</td>\n",
       "      <td>2.513826</td>\n",
       "      <td>5.027652</td>\n",
       "      <td>10.055304</td>\n",
       "      <td>25.138260</td>\n",
       "    </tr>\n",
       "  </tbody>\n",
       "</table>\n",
       "</div>"
      ],
      "text/plain": [
       "                       cellatac_clusters cellatac_code         sangerID  \\\n",
       "01-AAACGAATCAAACCCA-1                 26            01  HCAHeart8374324   \n",
       "01-AAACTGCAGACCCTAT-1                 12            01  HCAHeart8374324   \n",
       "01-AAAGGATAGGCACTAG-1                 12            01  HCAHeart8374324   \n",
       "01-AAAGGGCAGCGAGCTA-1                 11            01  HCAHeart8374324   \n",
       "01-AAAGGGCAGTGATATG-1                 13            01  HCAHeart8374324   \n",
       "\n",
       "                      dataset Donor Region_Coarse Region_Fine  \\\n",
       "01-AAACGAATCAAACCCA-1      LV    D5            LV         NaN   \n",
       "01-AAACTGCAGACCCTAT-1      LV    D5            LV         NaN   \n",
       "01-AAAGGATAGGCACTAG-1      LV    D5            LV         NaN   \n",
       "01-AAAGGGCAGCGAGCTA-1      LV    D5            LV         NaN   \n",
       "01-AAAGGGCAGTGATATG-1      LV    D5            LV         NaN   \n",
       "\n",
       "                       n_genes_by_counts  log1p_n_genes_by_counts  \\\n",
       "01-AAACGAATCAAACCCA-1               8525                 9.050876   \n",
       "01-AAACTGCAGACCCTAT-1                 29                 3.401197   \n",
       "01-AAAGGATAGGCACTAG-1               3719                 8.221479   \n",
       "01-AAAGGGCAGCGAGCTA-1               6986                 8.851807   \n",
       "01-AAAGGGCAGTGATATG-1               1989                 7.595890   \n",
       "\n",
       "                       total_counts  log1p_total_counts  \\\n",
       "01-AAACGAATCAAACCCA-1        8525.0            9.050876   \n",
       "01-AAACTGCAGACCCTAT-1          29.0            3.401197   \n",
       "01-AAAGGATAGGCACTAG-1        3719.0            8.221479   \n",
       "01-AAAGGGCAGCGAGCTA-1        6986.0            8.851807   \n",
       "01-AAAGGGCAGTGATATG-1        1989.0            7.595890   \n",
       "\n",
       "                       pct_counts_in_top_50_genes  \\\n",
       "01-AAACGAATCAAACCCA-1                    0.586510   \n",
       "01-AAACTGCAGACCCTAT-1                  100.000000   \n",
       "01-AAAGGATAGGCACTAG-1                    1.344447   \n",
       "01-AAAGGGCAGCGAGCTA-1                    0.715717   \n",
       "01-AAAGGGCAGTGATATG-1                    2.513826   \n",
       "\n",
       "                       pct_counts_in_top_100_genes  \\\n",
       "01-AAACGAATCAAACCCA-1                     1.173021   \n",
       "01-AAACTGCAGACCCTAT-1                   100.000000   \n",
       "01-AAAGGATAGGCACTAG-1                     2.688895   \n",
       "01-AAAGGGCAGCGAGCTA-1                     1.431434   \n",
       "01-AAAGGGCAGTGATATG-1                     5.027652   \n",
       "\n",
       "                       pct_counts_in_top_200_genes  \\\n",
       "01-AAACGAATCAAACCCA-1                     2.346041   \n",
       "01-AAACTGCAGACCCTAT-1                   100.000000   \n",
       "01-AAAGGATAGGCACTAG-1                     5.377790   \n",
       "01-AAAGGGCAGCGAGCTA-1                     2.862869   \n",
       "01-AAAGGGCAGTGATATG-1                    10.055304   \n",
       "\n",
       "                       pct_counts_in_top_500_genes  \n",
       "01-AAACGAATCAAACCCA-1                     5.865103  \n",
       "01-AAACTGCAGACCCTAT-1                   100.000000  \n",
       "01-AAAGGATAGGCACTAG-1                    13.444474  \n",
       "01-AAAGGGCAGCGAGCTA-1                     7.157171  \n",
       "01-AAAGGGCAGTGATATG-1                    25.138260  "
      ]
     },
     "execution_count": 46,
     "metadata": {},
     "output_type": "execute_result"
    }
   ],
   "source": [
    "ad.obs.head()"
   ]
  },
  {
   "cell_type": "code",
   "execution_count": 47,
   "metadata": {},
   "outputs": [
    {
     "data": {
      "text/html": [
       "<div>\n",
       "<style scoped>\n",
       "    .dataframe tbody tr th:only-of-type {\n",
       "        vertical-align: middle;\n",
       "    }\n",
       "\n",
       "    .dataframe tbody tr th {\n",
       "        vertical-align: top;\n",
       "    }\n",
       "\n",
       "    .dataframe thead th {\n",
       "        text-align: right;\n",
       "    }\n",
       "</style>\n",
       "<table border=\"1\" class=\"dataframe\">\n",
       "  <thead>\n",
       "    <tr style=\"text-align: right;\">\n",
       "      <th></th>\n",
       "      <th>cellatac_clusters</th>\n",
       "      <th>cellatac_code</th>\n",
       "      <th>sangerID</th>\n",
       "      <th>dataset</th>\n",
       "      <th>Donor</th>\n",
       "      <th>Region_Coarse</th>\n",
       "      <th>Region_Fine</th>\n",
       "      <th>n_genes_by_counts</th>\n",
       "      <th>log1p_n_genes_by_counts</th>\n",
       "      <th>total_counts</th>\n",
       "      <th>log1p_total_counts</th>\n",
       "      <th>pct_counts_in_top_50_genes</th>\n",
       "      <th>pct_counts_in_top_100_genes</th>\n",
       "      <th>pct_counts_in_top_200_genes</th>\n",
       "      <th>pct_counts_in_top_500_genes</th>\n",
       "      <th>barcode</th>\n",
       "      <th>oribarcode</th>\n",
       "    </tr>\n",
       "    <tr>\n",
       "      <th>fullbarcode</th>\n",
       "      <th></th>\n",
       "      <th></th>\n",
       "      <th></th>\n",
       "      <th></th>\n",
       "      <th></th>\n",
       "      <th></th>\n",
       "      <th></th>\n",
       "      <th></th>\n",
       "      <th></th>\n",
       "      <th></th>\n",
       "      <th></th>\n",
       "      <th></th>\n",
       "      <th></th>\n",
       "      <th></th>\n",
       "      <th></th>\n",
       "      <th></th>\n",
       "      <th></th>\n",
       "    </tr>\n",
       "  </thead>\n",
       "  <tbody>\n",
       "    <tr>\n",
       "      <th>HCAHeart8374324_AAACGAATCAAACCCA-1</th>\n",
       "      <td>26</td>\n",
       "      <td>01</td>\n",
       "      <td>HCAHeart8374324</td>\n",
       "      <td>LV</td>\n",
       "      <td>D5</td>\n",
       "      <td>LV</td>\n",
       "      <td>NaN</td>\n",
       "      <td>8525</td>\n",
       "      <td>9.050876</td>\n",
       "      <td>8525.0</td>\n",
       "      <td>9.050876</td>\n",
       "      <td>0.586510</td>\n",
       "      <td>1.173021</td>\n",
       "      <td>2.346041</td>\n",
       "      <td>5.865103</td>\n",
       "      <td>AAACGAATCAAACCCA-1</td>\n",
       "      <td>01-AAACGAATCAAACCCA-1</td>\n",
       "    </tr>\n",
       "    <tr>\n",
       "      <th>HCAHeart8374324_AAACTGCAGACCCTAT-1</th>\n",
       "      <td>12</td>\n",
       "      <td>01</td>\n",
       "      <td>HCAHeart8374324</td>\n",
       "      <td>LV</td>\n",
       "      <td>D5</td>\n",
       "      <td>LV</td>\n",
       "      <td>NaN</td>\n",
       "      <td>29</td>\n",
       "      <td>3.401197</td>\n",
       "      <td>29.0</td>\n",
       "      <td>3.401197</td>\n",
       "      <td>100.000000</td>\n",
       "      <td>100.000000</td>\n",
       "      <td>100.000000</td>\n",
       "      <td>100.000000</td>\n",
       "      <td>AAACTGCAGACCCTAT-1</td>\n",
       "      <td>01-AAACTGCAGACCCTAT-1</td>\n",
       "    </tr>\n",
       "    <tr>\n",
       "      <th>HCAHeart8374324_AAAGGATAGGCACTAG-1</th>\n",
       "      <td>12</td>\n",
       "      <td>01</td>\n",
       "      <td>HCAHeart8374324</td>\n",
       "      <td>LV</td>\n",
       "      <td>D5</td>\n",
       "      <td>LV</td>\n",
       "      <td>NaN</td>\n",
       "      <td>3719</td>\n",
       "      <td>8.221479</td>\n",
       "      <td>3719.0</td>\n",
       "      <td>8.221479</td>\n",
       "      <td>1.344447</td>\n",
       "      <td>2.688895</td>\n",
       "      <td>5.377790</td>\n",
       "      <td>13.444474</td>\n",
       "      <td>AAAGGATAGGCACTAG-1</td>\n",
       "      <td>01-AAAGGATAGGCACTAG-1</td>\n",
       "    </tr>\n",
       "    <tr>\n",
       "      <th>HCAHeart8374324_AAAGGGCAGCGAGCTA-1</th>\n",
       "      <td>11</td>\n",
       "      <td>01</td>\n",
       "      <td>HCAHeart8374324</td>\n",
       "      <td>LV</td>\n",
       "      <td>D5</td>\n",
       "      <td>LV</td>\n",
       "      <td>NaN</td>\n",
       "      <td>6986</td>\n",
       "      <td>8.851807</td>\n",
       "      <td>6986.0</td>\n",
       "      <td>8.851807</td>\n",
       "      <td>0.715717</td>\n",
       "      <td>1.431434</td>\n",
       "      <td>2.862869</td>\n",
       "      <td>7.157171</td>\n",
       "      <td>AAAGGGCAGCGAGCTA-1</td>\n",
       "      <td>01-AAAGGGCAGCGAGCTA-1</td>\n",
       "    </tr>\n",
       "    <tr>\n",
       "      <th>HCAHeart8374324_AAAGGGCAGTGATATG-1</th>\n",
       "      <td>13</td>\n",
       "      <td>01</td>\n",
       "      <td>HCAHeart8374324</td>\n",
       "      <td>LV</td>\n",
       "      <td>D5</td>\n",
       "      <td>LV</td>\n",
       "      <td>NaN</td>\n",
       "      <td>1989</td>\n",
       "      <td>7.595890</td>\n",
       "      <td>1989.0</td>\n",
       "      <td>7.595890</td>\n",
       "      <td>2.513826</td>\n",
       "      <td>5.027652</td>\n",
       "      <td>10.055304</td>\n",
       "      <td>25.138260</td>\n",
       "      <td>AAAGGGCAGTGATATG-1</td>\n",
       "      <td>01-AAAGGGCAGTGATATG-1</td>\n",
       "    </tr>\n",
       "  </tbody>\n",
       "</table>\n",
       "</div>"
      ],
      "text/plain": [
       "                                    cellatac_clusters cellatac_code  \\\n",
       "fullbarcode                                                           \n",
       "HCAHeart8374324_AAACGAATCAAACCCA-1                 26            01   \n",
       "HCAHeart8374324_AAACTGCAGACCCTAT-1                 12            01   \n",
       "HCAHeart8374324_AAAGGATAGGCACTAG-1                 12            01   \n",
       "HCAHeart8374324_AAAGGGCAGCGAGCTA-1                 11            01   \n",
       "HCAHeart8374324_AAAGGGCAGTGATATG-1                 13            01   \n",
       "\n",
       "                                           sangerID dataset Donor  \\\n",
       "fullbarcode                                                         \n",
       "HCAHeart8374324_AAACGAATCAAACCCA-1  HCAHeart8374324      LV    D5   \n",
       "HCAHeart8374324_AAACTGCAGACCCTAT-1  HCAHeart8374324      LV    D5   \n",
       "HCAHeart8374324_AAAGGATAGGCACTAG-1  HCAHeart8374324      LV    D5   \n",
       "HCAHeart8374324_AAAGGGCAGCGAGCTA-1  HCAHeart8374324      LV    D5   \n",
       "HCAHeart8374324_AAAGGGCAGTGATATG-1  HCAHeart8374324      LV    D5   \n",
       "\n",
       "                                   Region_Coarse Region_Fine  \\\n",
       "fullbarcode                                                    \n",
       "HCAHeart8374324_AAACGAATCAAACCCA-1            LV         NaN   \n",
       "HCAHeart8374324_AAACTGCAGACCCTAT-1            LV         NaN   \n",
       "HCAHeart8374324_AAAGGATAGGCACTAG-1            LV         NaN   \n",
       "HCAHeart8374324_AAAGGGCAGCGAGCTA-1            LV         NaN   \n",
       "HCAHeart8374324_AAAGGGCAGTGATATG-1            LV         NaN   \n",
       "\n",
       "                                    n_genes_by_counts  \\\n",
       "fullbarcode                                             \n",
       "HCAHeart8374324_AAACGAATCAAACCCA-1               8525   \n",
       "HCAHeart8374324_AAACTGCAGACCCTAT-1                 29   \n",
       "HCAHeart8374324_AAAGGATAGGCACTAG-1               3719   \n",
       "HCAHeart8374324_AAAGGGCAGCGAGCTA-1               6986   \n",
       "HCAHeart8374324_AAAGGGCAGTGATATG-1               1989   \n",
       "\n",
       "                                    log1p_n_genes_by_counts  total_counts  \\\n",
       "fullbarcode                                                                 \n",
       "HCAHeart8374324_AAACGAATCAAACCCA-1                 9.050876        8525.0   \n",
       "HCAHeart8374324_AAACTGCAGACCCTAT-1                 3.401197          29.0   \n",
       "HCAHeart8374324_AAAGGATAGGCACTAG-1                 8.221479        3719.0   \n",
       "HCAHeart8374324_AAAGGGCAGCGAGCTA-1                 8.851807        6986.0   \n",
       "HCAHeart8374324_AAAGGGCAGTGATATG-1                 7.595890        1989.0   \n",
       "\n",
       "                                    log1p_total_counts  \\\n",
       "fullbarcode                                              \n",
       "HCAHeart8374324_AAACGAATCAAACCCA-1            9.050876   \n",
       "HCAHeart8374324_AAACTGCAGACCCTAT-1            3.401197   \n",
       "HCAHeart8374324_AAAGGATAGGCACTAG-1            8.221479   \n",
       "HCAHeart8374324_AAAGGGCAGCGAGCTA-1            8.851807   \n",
       "HCAHeart8374324_AAAGGGCAGTGATATG-1            7.595890   \n",
       "\n",
       "                                    pct_counts_in_top_50_genes  \\\n",
       "fullbarcode                                                      \n",
       "HCAHeart8374324_AAACGAATCAAACCCA-1                    0.586510   \n",
       "HCAHeart8374324_AAACTGCAGACCCTAT-1                  100.000000   \n",
       "HCAHeart8374324_AAAGGATAGGCACTAG-1                    1.344447   \n",
       "HCAHeart8374324_AAAGGGCAGCGAGCTA-1                    0.715717   \n",
       "HCAHeart8374324_AAAGGGCAGTGATATG-1                    2.513826   \n",
       "\n",
       "                                    pct_counts_in_top_100_genes  \\\n",
       "fullbarcode                                                       \n",
       "HCAHeart8374324_AAACGAATCAAACCCA-1                     1.173021   \n",
       "HCAHeart8374324_AAACTGCAGACCCTAT-1                   100.000000   \n",
       "HCAHeart8374324_AAAGGATAGGCACTAG-1                     2.688895   \n",
       "HCAHeart8374324_AAAGGGCAGCGAGCTA-1                     1.431434   \n",
       "HCAHeart8374324_AAAGGGCAGTGATATG-1                     5.027652   \n",
       "\n",
       "                                    pct_counts_in_top_200_genes  \\\n",
       "fullbarcode                                                       \n",
       "HCAHeart8374324_AAACGAATCAAACCCA-1                     2.346041   \n",
       "HCAHeart8374324_AAACTGCAGACCCTAT-1                   100.000000   \n",
       "HCAHeart8374324_AAAGGATAGGCACTAG-1                     5.377790   \n",
       "HCAHeart8374324_AAAGGGCAGCGAGCTA-1                     2.862869   \n",
       "HCAHeart8374324_AAAGGGCAGTGATATG-1                    10.055304   \n",
       "\n",
       "                                    pct_counts_in_top_500_genes  \\\n",
       "fullbarcode                                                       \n",
       "HCAHeart8374324_AAACGAATCAAACCCA-1                     5.865103   \n",
       "HCAHeart8374324_AAACTGCAGACCCTAT-1                   100.000000   \n",
       "HCAHeart8374324_AAAGGATAGGCACTAG-1                    13.444474   \n",
       "HCAHeart8374324_AAAGGGCAGCGAGCTA-1                     7.157171   \n",
       "HCAHeart8374324_AAAGGGCAGTGATATG-1                    25.138260   \n",
       "\n",
       "                                               barcode             oribarcode  \n",
       "fullbarcode                                                                    \n",
       "HCAHeart8374324_AAACGAATCAAACCCA-1  AAACGAATCAAACCCA-1  01-AAACGAATCAAACCCA-1  \n",
       "HCAHeart8374324_AAACTGCAGACCCTAT-1  AAACTGCAGACCCTAT-1  01-AAACTGCAGACCCTAT-1  \n",
       "HCAHeart8374324_AAAGGATAGGCACTAG-1  AAAGGATAGGCACTAG-1  01-AAAGGATAGGCACTAG-1  \n",
       "HCAHeart8374324_AAAGGGCAGCGAGCTA-1  AAAGGGCAGCGAGCTA-1  01-AAAGGGCAGCGAGCTA-1  \n",
       "HCAHeart8374324_AAAGGGCAGTGATATG-1  AAAGGGCAGTGATATG-1  01-AAAGGGCAGTGATATG-1  "
      ]
     },
     "execution_count": 47,
     "metadata": {},
     "output_type": "execute_result"
    }
   ],
   "source": [
    "# Concatenate sample ID and barcodes \n",
    "ad.obs['sangerID'] = ad.obs['sangerID'].astype('str')\n",
    "ad.obs['barcode']  = [x[3:] for x in ad.obs_names]\n",
    "ad.obs['fullbarcode'] = ad.obs['sangerID'] + '_' + ad.obs['barcode']\n",
    "ad.obs['oribarcode'] = ad.obs_names \n",
    "ad.obs.set_index('fullbarcode', inplace=True)\n",
    "ad.obs.head()"
   ]
  },
  {
   "cell_type": "code",
   "execution_count": 48,
   "metadata": {},
   "outputs": [
    {
     "name": "stderr",
     "output_type": "stream",
     "text": [
      "/home/jovyan/my-conda-envs/heart/lib/python3.8/site-packages/pandas/core/arrays/categorical.py:2487: FutureWarning: The `inplace` parameter in pandas.Categorical.remove_unused_categories is deprecated and will be removed in a future version.\n",
      "  res = method(*args, **kwargs)\n"
     ]
    },
    {
     "data": {
      "text/plain": [
       "View of AnnData object with n_obs × n_vars = 79208 × 66842\n",
       "    obs: 'cellatac_clusters', 'cellatac_code', 'sangerID', 'dataset', 'Donor', 'Region_Coarse', 'Region_Fine', 'n_genes_by_counts', 'log1p_n_genes_by_counts', 'total_counts', 'log1p_total_counts', 'pct_counts_in_top_50_genes', 'pct_counts_in_top_100_genes', 'pct_counts_in_top_200_genes', 'pct_counts_in_top_500_genes', 'barcode', 'oribarcode'\n",
       "    var: 'peak_width', 'exon', 'gene', 'promoter', 'annotation', 'gene_name', 'gene_id', 'tss_distance', 'ENCODE_blacklist', 'n_cells_by_counts', 'mean_counts', 'log1p_mean_counts', 'pct_dropout_by_counts', 'total_counts', 'log1p_total_counts'\n",
       "    layers: 'binary_raw'"
      ]
     },
     "execution_count": 48,
     "metadata": {},
     "output_type": "execute_result"
    }
   ],
   "source": [
    "# Do filtering\n",
    "ad=ad[ad.obs.index.isin(QCed[0])]\n",
    "ad"
   ]
  },
  {
   "cell_type": "code",
   "execution_count": 49,
   "metadata": {},
   "outputs": [
    {
     "data": {
      "text/plain": [
       "array([[<AxesSubplot:title={'center':'log1p_total_counts'}>]],\n",
       "      dtype=object)"
      ]
     },
     "execution_count": 49,
     "metadata": {},
     "output_type": "execute_result"
    },
    {
     "data": {
      "image/png": "[encoded data removed]",
      "text/plain": [
       "<Figure size 1800x432 with 1 Axes>"
      ]
     },
     "metadata": {
      "needs_background": "light"
     },
     "output_type": "display_data"
    }
   ],
   "source": [
    "ad.obs.hist(column = 'log1p_total_counts', bins = 200, grid = False, figsize = (25,6), color = '#870052')"
   ]
  },
  {
   "cell_type": "markdown",
   "metadata": {},
   "source": [
    "### Write output anndata"
   ]
  },
  {
   "cell_type": "code",
   "execution_count": 50,
   "metadata": {},
   "outputs": [
    {
     "name": "stderr",
     "output_type": "stream",
     "text": [
      "/home/jovyan/my-conda-envs/heart/lib/python3.8/site-packages/anndata/_core/anndata.py:1207: ImplicitModificationWarning: Initializing view as actual.\n",
      "  warnings.warn(\n",
      "Trying to set attribute `.obs` of view, copying.\n",
      "... storing 'cellatac_code' as categorical\n",
      "Trying to set attribute `.obs` of view, copying.\n",
      "... storing 'sangerID' as categorical\n",
      "Trying to set attribute `.obs` of view, copying.\n",
      "... storing 'Donor' as categorical\n",
      "Trying to set attribute `.obs` of view, copying.\n",
      "... storing 'Region_Fine' as categorical\n",
      "Trying to set attribute `.obs` of view, copying.\n",
      "... storing 'barcode' as categorical\n"
     ]
    }
   ],
   "source": [
    "# adata.write(output[\"h5ad\"])\n",
    "# adata.write(outdir + experiment_prefix + '_filtered.h5ad')\n",
    "\n",
    "outdir = '/nfs/team205/heart/anndata_objects/atac_filtered_by_tss_distance/'\n",
    "\n",
    "ad.write(outdir + experiment_prefix + '_with_SAN_filtered_tss_distance.h5ad')"
   ]
  },
  {
   "cell_type": "code",
   "execution_count": 51,
   "metadata": {},
   "outputs": [
    {
     "data": {
      "text/plain": [
       "Multiome    31110\n",
       "LV           9109\n",
       "AX           8809\n",
       "SP           8123\n",
       "RA           7569\n",
       "LA           7282\n",
       "RV           7206\n",
       "Name: dataset, dtype: int64"
      ]
     },
     "execution_count": 51,
     "metadata": {},
     "output_type": "execute_result"
    }
   ],
   "source": [
    "ad.obs['dataset'].value_counts()"
   ]
  },
  {
   "cell_type": "code",
   "execution_count": 52,
   "metadata": {},
   "outputs": [
    {
     "data": {
      "text/plain": [
       "LV    22906\n",
       "RA    17313\n",
       "SP    11919\n",
       "LA    10352\n",
       "AX     9208\n",
       "RV     7510\n",
       "Name: Region_Coarse, dtype: int64"
      ]
     },
     "execution_count": 52,
     "metadata": {},
     "output_type": "execute_result"
    }
   ],
   "source": [
    "ad.obs['Region_Coarse'].value_counts()"
   ]
  },
  {
   "cell_type": "code",
   "execution_count": 53,
   "metadata": {},
   "outputs": [
    {
     "data": {
      "text/html": [
       "<div>\n",
       "<style scoped>\n",
       "    .dataframe tbody tr th:only-of-type {\n",
       "        vertical-align: middle;\n",
       "    }\n",
       "\n",
       "    .dataframe tbody tr th {\n",
       "        vertical-align: top;\n",
       "    }\n",
       "\n",
       "    .dataframe thead th {\n",
       "        text-align: right;\n",
       "    }\n",
       "</style>\n",
       "<table border=\"1\" class=\"dataframe\">\n",
       "  <thead>\n",
       "    <tr style=\"text-align: right;\">\n",
       "      <th></th>\n",
       "      <th>cellatac_clusters</th>\n",
       "      <th>cellatac_code</th>\n",
       "      <th>sangerID</th>\n",
       "      <th>dataset</th>\n",
       "      <th>Donor</th>\n",
       "      <th>Region_Coarse</th>\n",
       "      <th>Region_Fine</th>\n",
       "      <th>n_genes_by_counts</th>\n",
       "      <th>log1p_n_genes_by_counts</th>\n",
       "      <th>total_counts</th>\n",
       "      <th>log1p_total_counts</th>\n",
       "      <th>pct_counts_in_top_50_genes</th>\n",
       "      <th>pct_counts_in_top_100_genes</th>\n",
       "      <th>pct_counts_in_top_200_genes</th>\n",
       "      <th>pct_counts_in_top_500_genes</th>\n",
       "      <th>barcode</th>\n",
       "      <th>oribarcode</th>\n",
       "    </tr>\n",
       "    <tr>\n",
       "      <th>fullbarcode</th>\n",
       "      <th></th>\n",
       "      <th></th>\n",
       "      <th></th>\n",
       "      <th></th>\n",
       "      <th></th>\n",
       "      <th></th>\n",
       "      <th></th>\n",
       "      <th></th>\n",
       "      <th></th>\n",
       "      <th></th>\n",
       "      <th></th>\n",
       "      <th></th>\n",
       "      <th></th>\n",
       "      <th></th>\n",
       "      <th></th>\n",
       "      <th></th>\n",
       "      <th></th>\n",
       "    </tr>\n",
       "  </thead>\n",
       "  <tbody>\n",
       "    <tr>\n",
       "      <th>HCAHeart8374324_AAACGAATCAAACCCA-1</th>\n",
       "      <td>26</td>\n",
       "      <td>01</td>\n",
       "      <td>HCAHeart8374324</td>\n",
       "      <td>LV</td>\n",
       "      <td>D5</td>\n",
       "      <td>LV</td>\n",
       "      <td>nan</td>\n",
       "      <td>8525</td>\n",
       "      <td>9.050876</td>\n",
       "      <td>8525.0</td>\n",
       "      <td>9.050876</td>\n",
       "      <td>0.586510</td>\n",
       "      <td>1.173021</td>\n",
       "      <td>2.346041</td>\n",
       "      <td>5.865103</td>\n",
       "      <td>AAACGAATCAAACCCA-1</td>\n",
       "      <td>01-AAACGAATCAAACCCA-1</td>\n",
       "    </tr>\n",
       "    <tr>\n",
       "      <th>HCAHeart8374324_AAAGGATAGGCACTAG-1</th>\n",
       "      <td>12</td>\n",
       "      <td>01</td>\n",
       "      <td>HCAHeart8374324</td>\n",
       "      <td>LV</td>\n",
       "      <td>D5</td>\n",
       "      <td>LV</td>\n",
       "      <td>nan</td>\n",
       "      <td>3719</td>\n",
       "      <td>8.221479</td>\n",
       "      <td>3719.0</td>\n",
       "      <td>8.221479</td>\n",
       "      <td>1.344447</td>\n",
       "      <td>2.688895</td>\n",
       "      <td>5.377790</td>\n",
       "      <td>13.444474</td>\n",
       "      <td>AAAGGATAGGCACTAG-1</td>\n",
       "      <td>01-AAAGGATAGGCACTAG-1</td>\n",
       "    </tr>\n",
       "    <tr>\n",
       "      <th>HCAHeart8374324_AAAGGGCAGCGAGCTA-1</th>\n",
       "      <td>11</td>\n",
       "      <td>01</td>\n",
       "      <td>HCAHeart8374324</td>\n",
       "      <td>LV</td>\n",
       "      <td>D5</td>\n",
       "      <td>LV</td>\n",
       "      <td>nan</td>\n",
       "      <td>6986</td>\n",
       "      <td>8.851807</td>\n",
       "      <td>6986.0</td>\n",
       "      <td>8.851807</td>\n",
       "      <td>0.715717</td>\n",
       "      <td>1.431434</td>\n",
       "      <td>2.862869</td>\n",
       "      <td>7.157171</td>\n",
       "      <td>AAAGGGCAGCGAGCTA-1</td>\n",
       "      <td>01-AAAGGGCAGCGAGCTA-1</td>\n",
       "    </tr>\n",
       "    <tr>\n",
       "      <th>HCAHeart8374324_AAAGGGCAGTGATATG-1</th>\n",
       "      <td>13</td>\n",
       "      <td>01</td>\n",
       "      <td>HCAHeart8374324</td>\n",
       "      <td>LV</td>\n",
       "      <td>D5</td>\n",
       "      <td>LV</td>\n",
       "      <td>nan</td>\n",
       "      <td>1989</td>\n",
       "      <td>7.595890</td>\n",
       "      <td>1989.0</td>\n",
       "      <td>7.595890</td>\n",
       "      <td>2.513826</td>\n",
       "      <td>5.027652</td>\n",
       "      <td>10.055304</td>\n",
       "      <td>25.138260</td>\n",
       "      <td>AAAGGGCAGTGATATG-1</td>\n",
       "      <td>01-AAAGGGCAGTGATATG-1</td>\n",
       "    </tr>\n",
       "    <tr>\n",
       "      <th>HCAHeart8374324_AAATGAGTCCGGGCAT-1</th>\n",
       "      <td>26</td>\n",
       "      <td>01</td>\n",
       "      <td>HCAHeart8374324</td>\n",
       "      <td>LV</td>\n",
       "      <td>D5</td>\n",
       "      <td>LV</td>\n",
       "      <td>nan</td>\n",
       "      <td>11291</td>\n",
       "      <td>9.331850</td>\n",
       "      <td>11291.0</td>\n",
       "      <td>9.331850</td>\n",
       "      <td>0.442831</td>\n",
       "      <td>0.885661</td>\n",
       "      <td>1.771322</td>\n",
       "      <td>4.428306</td>\n",
       "      <td>AAATGAGTCCGGGCAT-1</td>\n",
       "      <td>01-AAATGAGTCCGGGCAT-1</td>\n",
       "    </tr>\n",
       "  </tbody>\n",
       "</table>\n",
       "</div>"
      ],
      "text/plain": [
       "                                    cellatac_clusters cellatac_code  \\\n",
       "fullbarcode                                                           \n",
       "HCAHeart8374324_AAACGAATCAAACCCA-1                 26            01   \n",
       "HCAHeart8374324_AAAGGATAGGCACTAG-1                 12            01   \n",
       "HCAHeart8374324_AAAGGGCAGCGAGCTA-1                 11            01   \n",
       "HCAHeart8374324_AAAGGGCAGTGATATG-1                 13            01   \n",
       "HCAHeart8374324_AAATGAGTCCGGGCAT-1                 26            01   \n",
       "\n",
       "                                           sangerID dataset Donor  \\\n",
       "fullbarcode                                                         \n",
       "HCAHeart8374324_AAACGAATCAAACCCA-1  HCAHeart8374324      LV    D5   \n",
       "HCAHeart8374324_AAAGGATAGGCACTAG-1  HCAHeart8374324      LV    D5   \n",
       "HCAHeart8374324_AAAGGGCAGCGAGCTA-1  HCAHeart8374324      LV    D5   \n",
       "HCAHeart8374324_AAAGGGCAGTGATATG-1  HCAHeart8374324      LV    D5   \n",
       "HCAHeart8374324_AAATGAGTCCGGGCAT-1  HCAHeart8374324      LV    D5   \n",
       "\n",
       "                                   Region_Coarse Region_Fine  \\\n",
       "fullbarcode                                                    \n",
       "HCAHeart8374324_AAACGAATCAAACCCA-1            LV         nan   \n",
       "HCAHeart8374324_AAAGGATAGGCACTAG-1            LV         nan   \n",
       "HCAHeart8374324_AAAGGGCAGCGAGCTA-1            LV         nan   \n",
       "HCAHeart8374324_AAAGGGCAGTGATATG-1            LV         nan   \n",
       "HCAHeart8374324_AAATGAGTCCGGGCAT-1            LV         nan   \n",
       "\n",
       "                                    n_genes_by_counts  \\\n",
       "fullbarcode                                             \n",
       "HCAHeart8374324_AAACGAATCAAACCCA-1               8525   \n",
       "HCAHeart8374324_AAAGGATAGGCACTAG-1               3719   \n",
       "HCAHeart8374324_AAAGGGCAGCGAGCTA-1               6986   \n",
       "HCAHeart8374324_AAAGGGCAGTGATATG-1               1989   \n",
       "HCAHeart8374324_AAATGAGTCCGGGCAT-1              11291   \n",
       "\n",
       "                                    log1p_n_genes_by_counts  total_counts  \\\n",
       "fullbarcode                                                                 \n",
       "HCAHeart8374324_AAACGAATCAAACCCA-1                 9.050876        8525.0   \n",
       "HCAHeart8374324_AAAGGATAGGCACTAG-1                 8.221479        3719.0   \n",
       "HCAHeart8374324_AAAGGGCAGCGAGCTA-1                 8.851807        6986.0   \n",
       "HCAHeart8374324_AAAGGGCAGTGATATG-1                 7.595890        1989.0   \n",
       "HCAHeart8374324_AAATGAGTCCGGGCAT-1                 9.331850       11291.0   \n",
       "\n",
       "                                    log1p_total_counts  \\\n",
       "fullbarcode                                              \n",
       "HCAHeart8374324_AAACGAATCAAACCCA-1            9.050876   \n",
       "HCAHeart8374324_AAAGGATAGGCACTAG-1            8.221479   \n",
       "HCAHeart8374324_AAAGGGCAGCGAGCTA-1            8.851807   \n",
       "HCAHeart8374324_AAAGGGCAGTGATATG-1            7.595890   \n",
       "HCAHeart8374324_AAATGAGTCCGGGCAT-1            9.331850   \n",
       "\n",
       "                                    pct_counts_in_top_50_genes  \\\n",
       "fullbarcode                                                      \n",
       "HCAHeart8374324_AAACGAATCAAACCCA-1                    0.586510   \n",
       "HCAHeart8374324_AAAGGATAGGCACTAG-1                    1.344447   \n",
       "HCAHeart8374324_AAAGGGCAGCGAGCTA-1                    0.715717   \n",
       "HCAHeart8374324_AAAGGGCAGTGATATG-1                    2.513826   \n",
       "HCAHeart8374324_AAATGAGTCCGGGCAT-1                    0.442831   \n",
       "\n",
       "                                    pct_counts_in_top_100_genes  \\\n",
       "fullbarcode                                                       \n",
       "HCAHeart8374324_AAACGAATCAAACCCA-1                     1.173021   \n",
       "HCAHeart8374324_AAAGGATAGGCACTAG-1                     2.688895   \n",
       "HCAHeart8374324_AAAGGGCAGCGAGCTA-1                     1.431434   \n",
       "HCAHeart8374324_AAAGGGCAGTGATATG-1                     5.027652   \n",
       "HCAHeart8374324_AAATGAGTCCGGGCAT-1                     0.885661   \n",
       "\n",
       "                                    pct_counts_in_top_200_genes  \\\n",
       "fullbarcode                                                       \n",
       "HCAHeart8374324_AAACGAATCAAACCCA-1                     2.346041   \n",
       "HCAHeart8374324_AAAGGATAGGCACTAG-1                     5.377790   \n",
       "HCAHeart8374324_AAAGGGCAGCGAGCTA-1                     2.862869   \n",
       "HCAHeart8374324_AAAGGGCAGTGATATG-1                    10.055304   \n",
       "HCAHeart8374324_AAATGAGTCCGGGCAT-1                     1.771322   \n",
       "\n",
       "                                    pct_counts_in_top_500_genes  \\\n",
       "fullbarcode                                                       \n",
       "HCAHeart8374324_AAACGAATCAAACCCA-1                     5.865103   \n",
       "HCAHeart8374324_AAAGGATAGGCACTAG-1                    13.444474   \n",
       "HCAHeart8374324_AAAGGGCAGCGAGCTA-1                     7.157171   \n",
       "HCAHeart8374324_AAAGGGCAGTGATATG-1                    25.138260   \n",
       "HCAHeart8374324_AAATGAGTCCGGGCAT-1                     4.428306   \n",
       "\n",
       "                                               barcode             oribarcode  \n",
       "fullbarcode                                                                    \n",
       "HCAHeart8374324_AAACGAATCAAACCCA-1  AAACGAATCAAACCCA-1  01-AAACGAATCAAACCCA-1  \n",
       "HCAHeart8374324_AAAGGATAGGCACTAG-1  AAAGGATAGGCACTAG-1  01-AAAGGATAGGCACTAG-1  \n",
       "HCAHeart8374324_AAAGGGCAGCGAGCTA-1  AAAGGGCAGCGAGCTA-1  01-AAAGGGCAGCGAGCTA-1  \n",
       "HCAHeart8374324_AAAGGGCAGTGATATG-1  AAAGGGCAGTGATATG-1  01-AAAGGGCAGTGATATG-1  \n",
       "HCAHeart8374324_AAATGAGTCCGGGCAT-1  AAATGAGTCCGGGCAT-1  01-AAATGAGTCCGGGCAT-1  "
      ]
     },
     "execution_count": 53,
     "metadata": {},
     "output_type": "execute_result"
    }
   ],
   "source": [
    "ad.obs.head()"
   ]
  },
  {
   "cell_type": "code",
   "execution_count": 54,
   "metadata": {},
   "outputs": [
    {
     "ename": "NameError",
     "evalue": "name 'adata' is not defined",
     "output_type": "error",
     "traceback": [
      "\u001b[0;31m---------------------------------------------------------------------------\u001b[0m",
      "\u001b[0;31mNameError\u001b[0m                                 Traceback (most recent call last)",
      "\u001b[0;32m<ipython-input-54-017ab74b617c>\u001b[0m in \u001b[0;36m<module>\u001b[0;34m\u001b[0m\n\u001b[0;32m----> 1\u001b[0;31m \u001b[0madata\u001b[0m\u001b[0;34m\u001b[0m\u001b[0;34m\u001b[0m\u001b[0m\n\u001b[0m",
      "\u001b[0;31mNameError\u001b[0m: name 'adata' is not defined"
     ]
    }
   ],
   "source": [
    "adata"
   ]
  }
 ],
 "metadata": {
  "kernelspec": {
   "display_name": "heart",
   "language": "python",
   "name": "heart"
  },
  "language_info": {
   "codemirror_mode": {
    "name": "ipython",
    "version": 3
   },
   "file_extension": ".py",
   "mimetype": "text/x-python",
   "name": "python",
   "nbconvert_exporter": "python",
   "pygments_lexer": "ipython3",
   "version": "3.8.8"
  }
 },
 "nbformat": 4,
 "nbformat_minor": 4
}
