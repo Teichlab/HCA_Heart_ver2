{
 "cells": [
  {
   "cell_type": "markdown",
   "metadata": {},
   "source": [
    "## Build anndata from `cellatac` output\n",
    "\n",
    "In this notebook we put together the many outputs of the [cellatac pipeline](https://github.com/cellgeni/cellatac) for peak calling in scATAC-seq data into one handy anndata object, we do some important peak filtering"
   ]
  },
  {
   "cell_type": "code",
   "execution_count": 1,
   "metadata": {},
   "outputs": [],
   "source": [
    "import numpy as np\n",
    "import scipy.sparse\n",
    "import pandas as pd \n",
    "import scanpy as sc\n",
    "import os"
   ]
  },
  {
   "cell_type": "code",
   "execution_count": 2,
   "metadata": {},
   "outputs": [
    {
     "data": {
      "text/html": [
       "<details>\n",
       "<summary>Click to view session information</summary>\n",
       "<pre>\n",
       "-----\n",
       "numpy               1.20.2\n",
       "pandas              1.2.4\n",
       "scanpy              1.7.2\n",
       "scipy               1.6.3\n",
       "session_info        1.0.0\n",
       "-----\n",
       "</pre>\n",
       "<details>\n",
       "<summary>Click to view modules imported as dependencies</summary>\n",
       "<pre>\n",
       "PIL                 8.2.0\n",
       "anndata             0.7.6\n",
       "backcall            0.2.0\n",
       "cffi                1.14.5\n",
       "cycler              0.10.0\n",
       "cython_runtime      NA\n",
       "dateutil            2.8.1\n",
       "decorator           4.4.2\n",
       "get_version         2.2\n",
       "h5py                3.2.1\n",
       "igraph              0.9.1\n",
       "ipykernel           5.5.3\n",
       "ipython_genutils    0.2.0\n",
       "jedi                0.18.0\n",
       "joblib              1.0.1\n",
       "kiwisolver          1.3.1\n",
       "legacy_api_wrap     1.2\n",
       "leidenalg           0.8.4\n",
       "llvmlite            0.36.0\n",
       "matplotlib          3.4.1\n",
       "mpl_toolkits        NA\n",
       "natsort             7.1.1\n",
       "numba               0.53.1\n",
       "numexpr             2.7.3\n",
       "packaging           20.9\n",
       "parso               0.8.2\n",
       "pexpect             4.8.0\n",
       "pickleshare         0.7.5\n",
       "pkg_resources       NA\n",
       "prompt_toolkit      3.0.18\n",
       "ptyprocess          0.7.0\n",
       "pygments            2.8.1\n",
       "pyparsing           2.4.7\n",
       "pytz                2021.1\n",
       "sinfo               0.3.1\n",
       "six                 1.15.0\n",
       "sklearn             0.24.2\n",
       "storemagic          NA\n",
       "tables              3.6.1\n",
       "texttable           1.6.3\n",
       "tornado             6.1\n",
       "traitlets           5.0.5\n",
       "wcwidth             0.2.5\n",
       "zmq                 22.0.3\n",
       "</pre>\n",
       "</details> <!-- seems like this ends pre, so might as well be explicit -->\n",
       "<pre>\n",
       "-----\n",
       "IPython             7.23.0\n",
       "jupyter_client      6.1.12\n",
       "jupyter_core        4.7.1\n",
       "-----\n",
       "Python 3.8.8 | packaged by conda-forge | (default, Feb 20 2021, 16:22:27) [GCC 9.3.0]\n",
       "Linux-5.4.0-73-generic-x86_64-with-glibc2.10\n",
       "-----\n",
       "Session information updated at 2021-09-21 09:18\n",
       "</pre>\n",
       "</details>"
      ],
      "text/plain": [
       "<IPython.core.display.HTML object>"
      ]
     },
     "execution_count": 2,
     "metadata": {},
     "output_type": "execute_result"
    }
   ],
   "source": [
    "import session_info\n",
    "session_info.show()"
   ]
  },
  {
   "cell_type": "code",
   "execution_count": 46,
   "metadata": {},
   "outputs": [],
   "source": [
    "outdir = \"/nfs/heart/anndata_objects/6region_v2/\"\n",
    "experiment_prefix = '6reg-v2_ATACs'\n",
    "cellatac_outdir = '/nfs/team205/heart/cellatac/tic-1050/results200k/'"
   ]
  },
  {
   "cell_type": "code",
   "execution_count": 5,
   "metadata": {},
   "outputs": [],
   "source": [
    "input={'cnts': cellatac_outdir + 'peak_matrix/peaks_bc_matrix.mmtx.gz',\n",
    "        \"bcs\": cellatac_outdir + 'peak_matrix/bc.txt',\n",
    "      \"peaks\": cellatac_outdir + 'peak_matrix/peaks.txt',\n",
    "      'clusters': cellatac_outdir + 'qc/seurat-clades.tsv'}\n",
    "\n",
    "output = {\n",
    "    \"cnt_mmtx\":outdir + experiment_prefix + '_ATAC_cisTopic.mmtx',\n",
    "    \"cnt_peaks\":outdir + experiment_prefix + '_ATAC_cisTopic.peaks.tsv',\n",
    "    \"cnt_cells\":outdir + experiment_prefix + '_ATAC_cisTopic.cells.tsv',\n",
    "    \"h5ad\":outdir + experiment_prefix + '_ATAC_raw.h5ad',\n",
    "}"
   ]
  },
  {
   "cell_type": "markdown",
   "metadata": {},
   "source": [
    "### Make anndata object"
   ]
  },
  {
   "cell_type": "code",
   "execution_count": 6,
   "metadata": {},
   "outputs": [
    {
     "name": "stdout",
     "output_type": "stream",
     "text": [
      "CPU times: user 22min 15s, sys: 31.9 s, total: 22min 47s\n",
      "Wall time: 22min 47s\n"
     ]
    },
    {
     "data": {
      "text/plain": [
       "AnnData object with n_obs × n_vars = 110434 × 345189"
      ]
     },
     "execution_count": 6,
     "metadata": {},
     "output_type": "execute_result"
    }
   ],
   "source": [
    "%%time\n",
    "adata = sc.read_mtx(input[\"cnts\"]).T\n",
    "\n",
    "bc = pd.read_table(input[\"bcs\"], header = None)\n",
    "feat = pd.read_table(input[\"peaks\"], header = None)\n",
    "\n",
    "adata.obs_names = bc[0]\n",
    "adata.var_names = feat[0]\n",
    "adata"
   ]
  },
  {
   "cell_type": "code",
   "execution_count": 7,
   "metadata": {},
   "outputs": [
    {
     "data": {
      "text/plain": [
       "True"
      ]
     },
     "execution_count": 7,
     "metadata": {},
     "output_type": "execute_result"
    }
   ],
   "source": [
    "# check no duplicates in cell_ids\n",
    "len(adata.obs_names) == len(set(adata.obs_names))"
   ]
  },
  {
   "cell_type": "markdown",
   "metadata": {},
   "source": [
    "### Load peak annotations computed with `annotate_peaks.R`"
   ]
  },
  {
   "cell_type": "code",
   "execution_count": 8,
   "metadata": {},
   "outputs": [
    {
     "data": {
      "text/plain": [
       "AnnData object with n_obs × n_vars = 110434 × 345189\n",
       "    var: 'peak_width', 'exon', 'gene', 'promoter', 'annotation', 'gene_name', 'gene_id', 'tss_distance', 'ENCODE_blacklist'"
      ]
     },
     "execution_count": 8,
     "metadata": {},
     "output_type": "execute_result"
    }
   ],
   "source": [
    "peak_anno_df = pd.read_csv(\"/nfs/team205/heart/cellatac/tic-1050/ATACpeaks_annotation.csv\", index_col = 0)\n",
    "peak_anno_df.index = peak_anno_df[\"peak_id\"]\n",
    "peak_anno_df.drop(\"peak_id\",1, inplace = True)\n",
    "adata.var = pd.concat([adata.var, peak_anno_df], 1)\n",
    "adata"
   ]
  },
  {
   "cell_type": "code",
   "execution_count": 9,
   "metadata": {},
   "outputs": [
    {
     "data": {
      "text/html": [
       "<div>\n",
       "<style scoped>\n",
       "    .dataframe tbody tr th:only-of-type {\n",
       "        vertical-align: middle;\n",
       "    }\n",
       "\n",
       "    .dataframe tbody tr th {\n",
       "        vertical-align: top;\n",
       "    }\n",
       "\n",
       "    .dataframe thead th {\n",
       "        text-align: right;\n",
       "    }\n",
       "</style>\n",
       "<table border=\"1\" class=\"dataframe\">\n",
       "  <thead>\n",
       "    <tr style=\"text-align: right;\">\n",
       "      <th></th>\n",
       "      <th>peak_width</th>\n",
       "      <th>exon</th>\n",
       "      <th>gene</th>\n",
       "      <th>promoter</th>\n",
       "      <th>annotation</th>\n",
       "      <th>gene_name</th>\n",
       "      <th>gene_id</th>\n",
       "      <th>tss_distance</th>\n",
       "      <th>ENCODE_blacklist</th>\n",
       "    </tr>\n",
       "  </thead>\n",
       "  <tbody>\n",
       "    <tr>\n",
       "      <th>chr1:10051-10384</th>\n",
       "      <td>334</td>\n",
       "      <td>0</td>\n",
       "      <td>0</td>\n",
       "      <td>0</td>\n",
       "      <td>intergenic</td>\n",
       "      <td>NaN</td>\n",
       "      <td>NaN</td>\n",
       "      <td>58706</td>\n",
       "      <td>1</td>\n",
       "    </tr>\n",
       "    <tr>\n",
       "      <th>chr1:180688-181608</th>\n",
       "      <td>921</td>\n",
       "      <td>0</td>\n",
       "      <td>0</td>\n",
       "      <td>1</td>\n",
       "      <td>promoter</td>\n",
       "      <td>FO538757.2</td>\n",
       "      <td>ENSG00000279928</td>\n",
       "      <td>784</td>\n",
       "      <td>1</td>\n",
       "    </tr>\n",
       "    <tr>\n",
       "      <th>chr1:184068-184538</th>\n",
       "      <td>471</td>\n",
       "      <td>1</td>\n",
       "      <td>1</td>\n",
       "      <td>0</td>\n",
       "      <td>exon</td>\n",
       "      <td>FO538757.2</td>\n",
       "      <td>ENSG00000279928</td>\n",
       "      <td>1674</td>\n",
       "      <td>1</td>\n",
       "    </tr>\n",
       "    <tr>\n",
       "      <th>chr1:191295-191619</th>\n",
       "      <td>325</td>\n",
       "      <td>0</td>\n",
       "      <td>1</td>\n",
       "      <td>0</td>\n",
       "      <td>intron</td>\n",
       "      <td>FO538757.1</td>\n",
       "      <td>ENSG00000279457</td>\n",
       "      <td>3791</td>\n",
       "      <td>1</td>\n",
       "    </tr>\n",
       "    <tr>\n",
       "      <th>chr1:267873-268085</th>\n",
       "      <td>213</td>\n",
       "      <td>0</td>\n",
       "      <td>0</td>\n",
       "      <td>0</td>\n",
       "      <td>intergenic</td>\n",
       "      <td>NaN</td>\n",
       "      <td>NaN</td>\n",
       "      <td>67550</td>\n",
       "      <td>1</td>\n",
       "    </tr>\n",
       "  </tbody>\n",
       "</table>\n",
       "</div>"
      ],
      "text/plain": [
       "                    peak_width  exon  gene  promoter  annotation   gene_name  \\\n",
       "chr1:10051-10384           334     0     0         0  intergenic         NaN   \n",
       "chr1:180688-181608         921     0     0         1    promoter  FO538757.2   \n",
       "chr1:184068-184538         471     1     1         0        exon  FO538757.2   \n",
       "chr1:191295-191619         325     0     1         0      intron  FO538757.1   \n",
       "chr1:267873-268085         213     0     0         0  intergenic         NaN   \n",
       "\n",
       "                            gene_id  tss_distance  ENCODE_blacklist  \n",
       "chr1:10051-10384                NaN         58706                 1  \n",
       "chr1:180688-181608  ENSG00000279928           784                 1  \n",
       "chr1:184068-184538  ENSG00000279928          1674                 1  \n",
       "chr1:191295-191619  ENSG00000279457          3791                 1  \n",
       "chr1:267873-268085              NaN         67550                 1  "
      ]
     },
     "execution_count": 9,
     "metadata": {},
     "output_type": "execute_result"
    }
   ],
   "source": [
    "adata.var.head()"
   ]
  },
  {
   "cell_type": "code",
   "execution_count": 10,
   "metadata": {},
   "outputs": [
    {
     "data": {
      "text/plain": [
       "224.0"
      ]
     },
     "execution_count": 10,
     "metadata": {},
     "output_type": "execute_result"
    }
   ],
   "source": [
    "np.max(adata.X.data)"
   ]
  },
  {
   "cell_type": "markdown",
   "metadata": {},
   "source": [
    "### Save binary data to layers"
   ]
  },
  {
   "cell_type": "code",
   "execution_count": 11,
   "metadata": {},
   "outputs": [
    {
     "data": {
      "text/plain": [
       "AnnData object with n_obs × n_vars = 110434 × 345189\n",
       "    var: 'peak_width', 'exon', 'gene', 'promoter', 'annotation', 'gene_name', 'gene_id', 'tss_distance', 'ENCODE_blacklist'\n",
       "    layers: 'binary_raw'"
      ]
     },
     "execution_count": 11,
     "metadata": {},
     "output_type": "execute_result"
    }
   ],
   "source": [
    "adata.layers[\"binary_raw\"] = adata.X\n",
    "adata.layers[\"binary_raw\"][adata.layers[\"binary_raw\"] > 1] = 1 # change to binary\n",
    "adata"
   ]
  },
  {
   "cell_type": "code",
   "execution_count": 12,
   "metadata": {},
   "outputs": [
    {
     "data": {
      "text/plain": [
       "1.0"
      ]
     },
     "execution_count": 12,
     "metadata": {},
     "output_type": "execute_result"
    }
   ],
   "source": [
    "np.max(adata.X.data)"
   ]
  },
  {
   "cell_type": "markdown",
   "metadata": {},
   "source": [
    "### Peak filtering\n",
    "\n",
    "`cellatac` calls a lot of peaks that are just noisy and downsizing the matrix a bit makes everything faster."
   ]
  },
  {
   "cell_type": "markdown",
   "metadata": {},
   "source": [
    "#### OBS: Check the filters for your data carefully so you don't throw away usueful info."
   ]
  },
  {
   "cell_type": "code",
   "execution_count": 13,
   "metadata": {},
   "outputs": [
    {
     "data": {
      "text/plain": [
       "array([[<AxesSubplot:title={'center':'peak_width'}>]], dtype=object)"
      ]
     },
     "execution_count": 13,
     "metadata": {},
     "output_type": "execute_result"
    },
    {
     "data": {
      "image/png": "[encoded data removed]",
      "text/plain": [
       "<Figure size 1800x432 with 1 Axes>"
      ]
     },
     "metadata": {
      "needs_background": "light"
     },
     "output_type": "display_data"
    }
   ],
   "source": [
    "adata.var.hist(column = 'peak_width', bins = 200, grid = False, figsize = (25,6), color = '#870052')"
   ]
  },
  {
   "cell_type": "code",
   "execution_count": 14,
   "metadata": {},
   "outputs": [
    {
     "data": {
      "text/plain": [
       "201"
      ]
     },
     "execution_count": 14,
     "metadata": {},
     "output_type": "execute_result"
    }
   ],
   "source": [
    "np.min(adata.var['peak_width'])"
   ]
  },
  {
   "cell_type": "markdown",
   "metadata": {},
   "source": [
    "### Preliminary filtering"
   ]
  },
  {
   "cell_type": "markdown",
   "metadata": {},
   "source": [
    "- Basic QC"
   ]
  },
  {
   "cell_type": "code",
   "execution_count": 15,
   "metadata": {},
   "outputs": [
    {
     "data": {
      "text/plain": [
       "AnnData object with n_obs × n_vars = 110434 × 345189\n",
       "    var: 'peak_width', 'exon', 'gene', 'promoter', 'annotation', 'gene_name', 'gene_id', 'tss_distance', 'ENCODE_blacklist', 'n_cells_by_counts', 'mean_counts', 'log1p_mean_counts', 'pct_dropout_by_counts', 'total_counts', 'log1p_total_counts'\n",
       "    layers: 'binary_raw'"
      ]
     },
     "execution_count": 15,
     "metadata": {},
     "output_type": "execute_result"
    }
   ],
   "source": [
    "var_qc = sc.pp.calculate_qc_metrics(adata, layer = \"binary_raw\")[1]\n",
    "adata.var = pd.concat([adata.var, var_qc], 1) \n",
    "adata"
   ]
  },
  {
   "cell_type": "code",
   "execution_count": 16,
   "metadata": {},
   "outputs": [
    {
     "data": {
      "text/html": [
       "<div>\n",
       "<style scoped>\n",
       "    .dataframe tbody tr th:only-of-type {\n",
       "        vertical-align: middle;\n",
       "    }\n",
       "\n",
       "    .dataframe tbody tr th {\n",
       "        vertical-align: top;\n",
       "    }\n",
       "\n",
       "    .dataframe thead th {\n",
       "        text-align: right;\n",
       "    }\n",
       "</style>\n",
       "<table border=\"1\" class=\"dataframe\">\n",
       "  <thead>\n",
       "    <tr style=\"text-align: right;\">\n",
       "      <th></th>\n",
       "      <th>peak_width</th>\n",
       "      <th>exon</th>\n",
       "      <th>gene</th>\n",
       "      <th>promoter</th>\n",
       "      <th>annotation</th>\n",
       "      <th>gene_name</th>\n",
       "      <th>gene_id</th>\n",
       "      <th>tss_distance</th>\n",
       "      <th>ENCODE_blacklist</th>\n",
       "      <th>n_cells_by_counts</th>\n",
       "      <th>mean_counts</th>\n",
       "      <th>log1p_mean_counts</th>\n",
       "      <th>pct_dropout_by_counts</th>\n",
       "      <th>total_counts</th>\n",
       "      <th>log1p_total_counts</th>\n",
       "    </tr>\n",
       "  </thead>\n",
       "  <tbody>\n",
       "    <tr>\n",
       "      <th>chr1:10051-10384</th>\n",
       "      <td>334</td>\n",
       "      <td>0</td>\n",
       "      <td>0</td>\n",
       "      <td>0</td>\n",
       "      <td>intergenic</td>\n",
       "      <td>NaN</td>\n",
       "      <td>NaN</td>\n",
       "      <td>58706</td>\n",
       "      <td>1</td>\n",
       "      <td>679</td>\n",
       "      <td>0.006148</td>\n",
       "      <td>0.006130</td>\n",
       "      <td>99.385153</td>\n",
       "      <td>679.0</td>\n",
       "      <td>6.522093</td>\n",
       "    </tr>\n",
       "    <tr>\n",
       "      <th>chr1:180688-181608</th>\n",
       "      <td>921</td>\n",
       "      <td>0</td>\n",
       "      <td>0</td>\n",
       "      <td>1</td>\n",
       "      <td>promoter</td>\n",
       "      <td>FO538757.2</td>\n",
       "      <td>ENSG00000279928</td>\n",
       "      <td>784</td>\n",
       "      <td>1</td>\n",
       "      <td>3403</td>\n",
       "      <td>0.030815</td>\n",
       "      <td>0.030350</td>\n",
       "      <td>96.918521</td>\n",
       "      <td>3403.0</td>\n",
       "      <td>8.132707</td>\n",
       "    </tr>\n",
       "    <tr>\n",
       "      <th>chr1:184068-184538</th>\n",
       "      <td>471</td>\n",
       "      <td>1</td>\n",
       "      <td>1</td>\n",
       "      <td>0</td>\n",
       "      <td>exon</td>\n",
       "      <td>FO538757.2</td>\n",
       "      <td>ENSG00000279928</td>\n",
       "      <td>1674</td>\n",
       "      <td>1</td>\n",
       "      <td>661</td>\n",
       "      <td>0.005985</td>\n",
       "      <td>0.005968</td>\n",
       "      <td>99.401452</td>\n",
       "      <td>661.0</td>\n",
       "      <td>6.495265</td>\n",
       "    </tr>\n",
       "    <tr>\n",
       "      <th>chr1:191295-191619</th>\n",
       "      <td>325</td>\n",
       "      <td>0</td>\n",
       "      <td>1</td>\n",
       "      <td>0</td>\n",
       "      <td>intron</td>\n",
       "      <td>FO538757.1</td>\n",
       "      <td>ENSG00000279457</td>\n",
       "      <td>3791</td>\n",
       "      <td>1</td>\n",
       "      <td>1350</td>\n",
       "      <td>0.012224</td>\n",
       "      <td>0.012150</td>\n",
       "      <td>98.777550</td>\n",
       "      <td>1350.0</td>\n",
       "      <td>7.208601</td>\n",
       "    </tr>\n",
       "    <tr>\n",
       "      <th>chr1:267873-268085</th>\n",
       "      <td>213</td>\n",
       "      <td>0</td>\n",
       "      <td>0</td>\n",
       "      <td>0</td>\n",
       "      <td>intergenic</td>\n",
       "      <td>NaN</td>\n",
       "      <td>NaN</td>\n",
       "      <td>67550</td>\n",
       "      <td>1</td>\n",
       "      <td>591</td>\n",
       "      <td>0.005352</td>\n",
       "      <td>0.005337</td>\n",
       "      <td>99.464839</td>\n",
       "      <td>591.0</td>\n",
       "      <td>6.383507</td>\n",
       "    </tr>\n",
       "  </tbody>\n",
       "</table>\n",
       "</div>"
      ],
      "text/plain": [
       "                    peak_width  exon  gene  promoter  annotation   gene_name  \\\n",
       "chr1:10051-10384           334     0     0         0  intergenic         NaN   \n",
       "chr1:180688-181608         921     0     0         1    promoter  FO538757.2   \n",
       "chr1:184068-184538         471     1     1         0        exon  FO538757.2   \n",
       "chr1:191295-191619         325     0     1         0      intron  FO538757.1   \n",
       "chr1:267873-268085         213     0     0         0  intergenic         NaN   \n",
       "\n",
       "                            gene_id  tss_distance  ENCODE_blacklist  \\\n",
       "chr1:10051-10384                NaN         58706                 1   \n",
       "chr1:180688-181608  ENSG00000279928           784                 1   \n",
       "chr1:184068-184538  ENSG00000279928          1674                 1   \n",
       "chr1:191295-191619  ENSG00000279457          3791                 1   \n",
       "chr1:267873-268085              NaN         67550                 1   \n",
       "\n",
       "                    n_cells_by_counts  mean_counts  log1p_mean_counts  \\\n",
       "chr1:10051-10384                  679     0.006148           0.006130   \n",
       "chr1:180688-181608               3403     0.030815           0.030350   \n",
       "chr1:184068-184538                661     0.005985           0.005968   \n",
       "chr1:191295-191619               1350     0.012224           0.012150   \n",
       "chr1:267873-268085                591     0.005352           0.005337   \n",
       "\n",
       "                    pct_dropout_by_counts  total_counts  log1p_total_counts  \n",
       "chr1:10051-10384                99.385153         679.0            6.522093  \n",
       "chr1:180688-181608              96.918521        3403.0            8.132707  \n",
       "chr1:184068-184538              99.401452         661.0            6.495265  \n",
       "chr1:191295-191619              98.777550        1350.0            7.208601  \n",
       "chr1:267873-268085              99.464839         591.0            6.383507  "
      ]
     },
     "execution_count": 16,
     "metadata": {},
     "output_type": "execute_result"
    }
   ],
   "source": [
    "adata.var.head()"
   ]
  },
  {
   "cell_type": "markdown",
   "metadata": {},
   "source": [
    "- Remove cells with peaks accessible in less than k cells"
   ]
  },
  {
   "cell_type": "code",
   "execution_count": 17,
   "metadata": {},
   "outputs": [
    {
     "data": {
      "text/plain": [
       "array([[<AxesSubplot:title={'center':'total_counts'}>]], dtype=object)"
      ]
     },
     "execution_count": 17,
     "metadata": {},
     "output_type": "execute_result"
    },
    {
     "data": {
      "image/png": "[encoded data removed]",
      "text/plain": [
       "<Figure size 1800x432 with 1 Axes>"
      ]
     },
     "metadata": {
      "needs_background": "light"
     },
     "output_type": "display_data"
    }
   ],
   "source": [
    "adata.var.hist(column = 'total_counts', bins = 200, grid = False, figsize = (25,6), color = '#870052')\n",
    "# total counts in var: total reads (from binary data) per peak "
   ]
  },
  {
   "cell_type": "code",
   "execution_count": 16,
   "metadata": {},
   "outputs": [],
   "source": [
    "# make a copy to come back\n",
    "# adata_prefilter = adata.copy()"
   ]
  },
  {
   "cell_type": "code",
   "execution_count": 17,
   "metadata": {},
   "outputs": [],
   "source": [
    "# adata = adata_prefilter.copy()"
   ]
  },
  {
   "cell_type": "code",
   "execution_count": 18,
   "metadata": {},
   "outputs": [
    {
     "data": {
      "text/plain": [
       "View of AnnData object with n_obs × n_vars = 110434 × 320747\n",
       "    var: 'peak_width', 'exon', 'gene', 'promoter', 'annotation', 'gene_name', 'gene_id', 'tss_distance', 'ENCODE_blacklist', 'n_cells_by_counts', 'mean_counts', 'log1p_mean_counts', 'pct_dropout_by_counts', 'total_counts', 'log1p_total_counts'\n",
       "    layers: 'binary_raw'"
      ]
     },
     "execution_count": 18,
     "metadata": {},
     "output_type": "execute_result"
    }
   ],
   "source": [
    "adata = adata[:,adata.var.total_counts > 30]\n",
    "adata = adata[:,adata.var.total_counts < 6000]\n",
    "adata"
   ]
  },
  {
   "cell_type": "code",
   "execution_count": 19,
   "metadata": {},
   "outputs": [
    {
     "data": {
      "text/plain": [
       "array([[<AxesSubplot:title={'center':'total_counts'}>]], dtype=object)"
      ]
     },
     "execution_count": 19,
     "metadata": {},
     "output_type": "execute_result"
    },
    {
     "data": {
      "image/png": "[encoded data removed]",
      "text/plain": [
       "<Figure size 1800x432 with 1 Axes>"
      ]
     },
     "metadata": {
      "needs_background": "light"
     },
     "output_type": "display_data"
    }
   ],
   "source": [
    "adata.var.hist(column = 'total_counts', bins = 200, grid = False, figsize = (25,6), color = '#870052')"
   ]
  },
  {
   "cell_type": "markdown",
   "metadata": {},
   "source": [
    "- Remove peaks in ENCODE blacklist"
   ]
  },
  {
   "cell_type": "markdown",
   "metadata": {},
   "source": [
    "https://www.nature.com/articles/s41598-019-45839-z"
   ]
  },
  {
   "cell_type": "code",
   "execution_count": 20,
   "metadata": {},
   "outputs": [
    {
     "data": {
      "text/plain": [
       "View of AnnData object with n_obs × n_vars = 110434 × 319159\n",
       "    var: 'peak_width', 'exon', 'gene', 'promoter', 'annotation', 'gene_name', 'gene_id', 'tss_distance', 'ENCODE_blacklist', 'n_cells_by_counts', 'mean_counts', 'log1p_mean_counts', 'pct_dropout_by_counts', 'total_counts', 'log1p_total_counts'\n",
       "    layers: 'binary_raw'"
      ]
     },
     "execution_count": 20,
     "metadata": {},
     "output_type": "execute_result"
    }
   ],
   "source": [
    "adata = adata[:, adata.var.ENCODE_blacklist == 0]\n",
    "adata"
   ]
  },
  {
   "cell_type": "markdown",
   "metadata": {},
   "source": [
    "- Filter by width (remove peaks at the lowest end, closest to min peak width in MACS2)"
   ]
  },
  {
   "cell_type": "code",
   "execution_count": 22,
   "metadata": {},
   "outputs": [
    {
     "data": {
      "text/plain": [
       "View of AnnData object with n_obs × n_vars = 110434 × 295063\n",
       "    var: 'peak_width', 'exon', 'gene', 'promoter', 'annotation', 'gene_name', 'gene_id', 'tss_distance', 'ENCODE_blacklist', 'n_cells_by_counts', 'mean_counts', 'log1p_mean_counts', 'pct_dropout_by_counts', 'total_counts', 'log1p_total_counts'\n",
       "    layers: 'binary_raw'"
      ]
     },
     "execution_count": 22,
     "metadata": {},
     "output_type": "execute_result"
    }
   ],
   "source": [
    "adata = adata[:, adata.var.peak_width > 210]\n",
    "adata = adata[:, adata.var.peak_width < 1500]\n",
    "adata"
   ]
  },
  {
   "cell_type": "code",
   "execution_count": 23,
   "metadata": {},
   "outputs": [
    {
     "data": {
      "text/plain": [
       "array([[<AxesSubplot:title={'center':'peak_width'}>]], dtype=object)"
      ]
     },
     "execution_count": 23,
     "metadata": {},
     "output_type": "execute_result"
    },
    {
     "data": {
      "image/png": "[encoded data removed]",
      "text/plain": [
       "<Figure size 1800x432 with 1 Axes>"
      ]
     },
     "metadata": {
      "needs_background": "light"
     },
     "output_type": "display_data"
    }
   ],
   "source": [
    "adata.var.hist(column = 'peak_width', bins = 200, grid = False, figsize = (25,6), color = '#870052')"
   ]
  },
  {
   "cell_type": "markdown",
   "metadata": {},
   "source": [
    "- Filter peaks that are not accessible in at least 10% of cells from a coarse cluster"
   ]
  },
  {
   "cell_type": "code",
   "execution_count": 24,
   "metadata": {},
   "outputs": [],
   "source": [
    "min_frac = 0.1"
   ]
  },
  {
   "cell_type": "markdown",
   "metadata": {},
   "source": [
    "- Load cluster information from cellatac outputs"
   ]
  },
  {
   "cell_type": "code",
   "execution_count": 25,
   "metadata": {},
   "outputs": [
    {
     "data": {
      "text/plain": [
       "AnnData object with n_obs × n_vars = 110434 × 295063\n",
       "    obs: 'cellatac_clusters'\n",
       "    var: 'peak_width', 'exon', 'gene', 'promoter', 'annotation', 'gene_name', 'gene_id', 'tss_distance', 'ENCODE_blacklist', 'n_cells_by_counts', 'mean_counts', 'log1p_mean_counts', 'pct_dropout_by_counts', 'total_counts', 'log1p_total_counts'\n",
       "    layers: 'binary_raw'"
      ]
     },
     "execution_count": 25,
     "metadata": {},
     "output_type": "execute_result"
    }
   ],
   "source": [
    "clusters = pd.read_table(input[\"clusters\"], header = None, index_col = 0)\n",
    "clusters.columns = [\"cellatac_clusters\"]\n",
    "adata.obs = clusters.loc[adata.obs_names]\n",
    "adata"
   ]
  },
  {
   "cell_type": "markdown",
   "metadata": {},
   "source": [
    "- Add cluster matrix"
   ]
  },
  {
   "cell_type": "code",
   "execution_count": 26,
   "metadata": {},
   "outputs": [
    {
     "name": "stdout",
     "output_type": "stream",
     "text": [
      "number of clusters: 27\n"
     ]
    },
    {
     "name": "stderr",
     "output_type": "stream",
     "text": [
      "/home/jovyan/my-conda-envs/scatac/lib/python3.8/site-packages/IPython/core/interactiveshell.py:3441: SparseEfficiencyWarning: Comparing a sparse matrix with a nonzero scalar using != is inefficient, try using == instead.\n",
      "  exec(code_obj, self.user_global_ns, self.user_ns)\n",
      "/home/jovyan/my-conda-envs/scatac/lib/python3.8/site-packages/scipy/sparse/_index.py:125: SparseEfficiencyWarning: Changing the sparsity structure of a csr_matrix is expensive. lil_matrix is more efficient.\n",
      "  self._set_arrayXarray(i, j, x)\n"
     ]
    }
   ],
   "source": [
    "n_clusters = len(np.unique(adata.obs[[\"cellatac_clusters\"]]))\n",
    "print('number of clusters:', n_clusters)\n",
    "clus_mat = np.empty([adata.n_obs, n_clusters])\n",
    "for cl in np.unique(adata.obs[[\"cellatac_clusters\"]]):\n",
    "    clus_mat[np.where(adata.obs['cellatac_clusters']==cl)[0],cl] = 1\n",
    "\n",
    "clus_mat = scipy.sparse.csr_matrix(clus_mat)\n",
    "clus_mat[clus_mat != 1 ] = 0"
   ]
  },
  {
   "cell_type": "code",
   "execution_count": 27,
   "metadata": {},
   "outputs": [],
   "source": [
    "cl_peak_mat = np.dot(clus_mat.T, adata.layers[\"binary_raw\"])"
   ]
  },
  {
   "cell_type": "code",
   "execution_count": 28,
   "metadata": {},
   "outputs": [],
   "source": [
    "cl_peak_frac = cl_peak_mat/clus_mat.sum(0).T  # normalise?"
   ]
  },
  {
   "cell_type": "code",
   "execution_count": 29,
   "metadata": {},
   "outputs": [
    {
     "data": {
      "text/plain": [
       "View of AnnData object with n_obs × n_vars = 110434 × 102627\n",
       "    obs: 'cellatac_clusters'\n",
       "    var: 'peak_width', 'exon', 'gene', 'promoter', 'annotation', 'gene_name', 'gene_id', 'tss_distance', 'ENCODE_blacklist', 'n_cells_by_counts', 'mean_counts', 'log1p_mean_counts', 'pct_dropout_by_counts', 'total_counts', 'log1p_total_counts'\n",
       "    layers: 'binary_raw'"
      ]
     },
     "execution_count": 29,
     "metadata": {},
     "output_type": "execute_result"
    }
   ],
   "source": [
    "adata = adata[:, cl_peak_frac.max(0) > min_frac]\n",
    "adata"
   ]
  },
  {
   "cell_type": "markdown",
   "metadata": {},
   "source": [
    "## Add SangerID and other cell metadata"
   ]
  },
  {
   "cell_type": "code",
   "execution_count": 37,
   "metadata": {},
   "outputs": [
    {
     "name": "stderr",
     "output_type": "stream",
     "text": [
      "<ipython-input-37-9bc5cc5ff148>:18: SettingWithCopyWarning: \n",
      "A value is trying to be set on a copy of a slice from a DataFrame\n",
      "\n",
      "See the caveats in the documentation: https://pandas.pydata.org/pandas-docs/stable/user_guide/indexing.html#returning-a-view-versus-a-copy\n",
      "  code2ID2meta.drop_duplicates(inplace=True)\n"
     ]
    },
    {
     "data": {
      "text/html": [
       "<div>\n",
       "<style scoped>\n",
       "    .dataframe tbody tr th:only-of-type {\n",
       "        vertical-align: middle;\n",
       "    }\n",
       "\n",
       "    .dataframe tbody tr th {\n",
       "        vertical-align: top;\n",
       "    }\n",
       "\n",
       "    .dataframe thead th {\n",
       "        text-align: right;\n",
       "    }\n",
       "</style>\n",
       "<table border=\"1\" class=\"dataframe\">\n",
       "  <thead>\n",
       "    <tr style=\"text-align: right;\">\n",
       "      <th></th>\n",
       "      <th>cellatac_code</th>\n",
       "      <th>sangerID</th>\n",
       "      <th>dataset</th>\n",
       "      <th>Donor</th>\n",
       "      <th>Region</th>\n",
       "    </tr>\n",
       "  </thead>\n",
       "  <tbody>\n",
       "    <tr>\n",
       "      <th>0</th>\n",
       "      <td>01</td>\n",
       "      <td>HCAHeart8374324</td>\n",
       "      <td>LV</td>\n",
       "      <td>D5</td>\n",
       "      <td>LV</td>\n",
       "    </tr>\n",
       "    <tr>\n",
       "      <th>1</th>\n",
       "      <td>02</td>\n",
       "      <td>HCAHeart8374325</td>\n",
       "      <td>RV</td>\n",
       "      <td>D6</td>\n",
       "      <td>RV</td>\n",
       "    </tr>\n",
       "    <tr>\n",
       "      <th>2</th>\n",
       "      <td>03</td>\n",
       "      <td>HCAHeart8374326</td>\n",
       "      <td>LA</td>\n",
       "      <td>D7</td>\n",
       "      <td>LA</td>\n",
       "    </tr>\n",
       "    <tr>\n",
       "      <th>3</th>\n",
       "      <td>04</td>\n",
       "      <td>HCAHeart8374327</td>\n",
       "      <td>LA</td>\n",
       "      <td>D5</td>\n",
       "      <td>LA</td>\n",
       "    </tr>\n",
       "    <tr>\n",
       "      <th>4</th>\n",
       "      <td>05</td>\n",
       "      <td>HCAHeart8374328</td>\n",
       "      <td>LV</td>\n",
       "      <td>D6</td>\n",
       "      <td>LV</td>\n",
       "    </tr>\n",
       "  </tbody>\n",
       "</table>\n",
       "</div>"
      ],
      "text/plain": [
       "  cellatac_code         sangerID dataset Donor Region\n",
       "0            01  HCAHeart8374324      LV    D5     LV\n",
       "1            02  HCAHeart8374325      RV    D6     RV\n",
       "2            03  HCAHeart8374326      LA    D7     LA\n",
       "3            04  HCAHeart8374327      LA    D5     LA\n",
       "4            05  HCAHeart8374328      LV    D6     LV"
      ]
     },
     "execution_count": 37,
     "metadata": {},
     "output_type": "execute_result"
    }
   ],
   "source": [
    "# metadata_snATAC\n",
    "snATAC=pd.read_csv('/nfs/team205/kk18/data/cellatac/tic-1050/6reg-v2_snATAC_metadata.csv',index_col=0)\n",
    "snATAC['dataset']=snATAC['Region']\n",
    "\n",
    "# metadata_Multiome\n",
    "Multiome=pd.read_csv('/nfs/team205/kk18/data/cellatac/tic-1050/6reg-v2_Multiome_metadata.csv')\n",
    "Multiome['dataset']=''\n",
    "Multiome.loc[Multiome.query('Donor==3').index,'dataset']='Multiome_1'\n",
    "Multiome.loc[Multiome.query('Donor==7').index,'dataset']='Multiome_1'\n",
    "Multiome.loc[Multiome.query('Donor==8').index,'dataset']='Multiome_2'\n",
    "Multiome['Donor']=['D'+str(x) for x in Multiome['Donor']]\n",
    "\n",
    "# cellatac_code to sangerID\n",
    "cellmeta_tagmap = pd.read_table(cellatac_outdir+'cellmetadata/tagmap.txt', header=None)\n",
    "cellmeta_tagmap['cellatac_code']=[x.split('-')[0] for x in cellmeta_tagmap[0]]\n",
    "cellmeta_tagmap['sangerID']=[x.split('-')[0] for x in cellmeta_tagmap[1]]\n",
    "code2ID2meta = cellmeta_tagmap[['cellatac_code','sangerID']]\n",
    "code2ID2meta.drop_duplicates(inplace=True)\n",
    "\n",
    "# cellatac_code to sangerID to metadata\n",
    "ID2meta=pd.concat([snATAC[['SangerID','dataset','Donor','Region']],Multiome[['SangerID','dataset','Donor','Region']]],axis=0)\n",
    "code2ID2meta = code2ID2meta.merge(ID2meta, how='left', left_on='sangerID', right_on='SangerID')\n",
    "code2ID2meta.drop(['SangerID'], axis=1, inplace=True)\n",
    "code2ID2meta.head()"
   ]
  },
  {
   "cell_type": "code",
   "execution_count": 38,
   "metadata": {},
   "outputs": [
    {
     "name": "stderr",
     "output_type": "stream",
     "text": [
      "Trying to set attribute `.obs` of view, copying.\n",
      "/home/jovyan/my-conda-envs/scatac/lib/python3.8/site-packages/anndata/_core/anndata.py:794: UserWarning: \n",
      "AnnData expects .obs.index to contain strings, but got values like:\n",
      "    [0, 1, 2, 3, 4]\n",
      "\n",
      "    Inferred to be: integer\n",
      "\n",
      "  value_idx = self._prep_dim_index(value.index, attr)\n"
     ]
    }
   ],
   "source": [
    "# adding sample info to adata.obs (regions for snATAC and Multiome-t1 and t2)\n",
    "adata.obs['cellatac_code']=[x.split('-')[0] for x in adata.obs.index]\n",
    "\n",
    "index=adata.obs_names\n",
    "adata.obs=adata.obs.merge(code2ID2meta, how='left', on='cellatac_code')\n",
    "adata.obs.set_index(index, inplace=True)\n",
    "\n",
    "adata.obs['dataset']=adata.obs['dataset'].astype('category')\n",
    "adata.obs['dataset'].cat.reorder_categories(['RA','LA','RV','LV','SP','AX','Multiome_1','Multiome_2'], inplace=True)\n",
    "\n",
    "adata.obs['Region']=adata.obs['Region'].astype('category')\n",
    "adata.obs['Region'].cat.reorder_categories(['RA','LA','RV','LV','SP','AX'], inplace=True)"
   ]
  },
  {
   "cell_type": "code",
   "execution_count": 39,
   "metadata": {},
   "outputs": [
    {
     "data": {
      "text/plain": [
       "AnnData object with n_obs × n_vars = 110434 × 102627\n",
       "    obs: 'cellatac_clusters', 'cellatac_code', 'sangerID', 'dataset', 'Donor', 'Region'\n",
       "    var: 'peak_width', 'exon', 'gene', 'promoter', 'annotation', 'gene_name', 'gene_id', 'tss_distance', 'ENCODE_blacklist', 'n_cells_by_counts', 'mean_counts', 'log1p_mean_counts', 'pct_dropout_by_counts', 'total_counts', 'log1p_total_counts'\n",
       "    layers: 'binary_raw'"
      ]
     },
     "execution_count": 39,
     "metadata": {},
     "output_type": "execute_result"
    }
   ],
   "source": [
    "adata"
   ]
  },
  {
   "cell_type": "markdown",
   "metadata": {},
   "source": [
    "### Filter low quality nuclei"
   ]
  },
  {
   "cell_type": "code",
   "execution_count": 40,
   "metadata": {},
   "outputs": [],
   "source": [
    "sc.pp.calculate_qc_metrics(adata, layer = \"binary_raw\", inplace = True)"
   ]
  },
  {
   "cell_type": "code",
   "execution_count": 41,
   "metadata": {},
   "outputs": [
    {
     "data": {
      "text/plain": [
       "array([[<AxesSubplot:title={'center':'log1p_total_counts'}>]],\n",
       "      dtype=object)"
      ]
     },
     "execution_count": 41,
     "metadata": {},
     "output_type": "execute_result"
    },
    {
     "data": {
      "image/png": "[encoded data removed]",
      "text/plain": [
       "<Figure size 1800x432 with 1 Axes>"
      ]
     },
     "metadata": {
      "needs_background": "light"
     },
     "output_type": "display_data"
    }
   ],
   "source": [
    "adata.obs.hist(column = 'log1p_total_counts', bins = 200, grid = False, figsize = (25,6), color = '#870052')"
   ]
  },
  {
   "cell_type": "markdown",
   "metadata": {},
   "source": [
    "**filtering based on Signac-QC (No2 and No3)**"
   ]
  },
  {
   "cell_type": "code",
   "execution_count": 42,
   "metadata": {},
   "outputs": [
    {
     "data": {
      "text/html": [
       "<div>\n",
       "<style scoped>\n",
       "    .dataframe tbody tr th:only-of-type {\n",
       "        vertical-align: middle;\n",
       "    }\n",
       "\n",
       "    .dataframe tbody tr th {\n",
       "        vertical-align: top;\n",
       "    }\n",
       "\n",
       "    .dataframe thead th {\n",
       "        text-align: right;\n",
       "    }\n",
       "</style>\n",
       "<table border=\"1\" class=\"dataframe\">\n",
       "  <thead>\n",
       "    <tr style=\"text-align: right;\">\n",
       "      <th></th>\n",
       "      <th>0</th>\n",
       "    </tr>\n",
       "  </thead>\n",
       "  <tbody>\n",
       "    <tr>\n",
       "      <th>0</th>\n",
       "      <td>HCAHeart9508819_AAACATGCAGCAGGTA-1</td>\n",
       "    </tr>\n",
       "    <tr>\n",
       "      <th>1</th>\n",
       "      <td>HCAHeart9508819_AAACATGCATAGCTGC-1</td>\n",
       "    </tr>\n",
       "    <tr>\n",
       "      <th>2</th>\n",
       "      <td>HCAHeart9508819_AAACCAACAAGGTGCA-1</td>\n",
       "    </tr>\n",
       "    <tr>\n",
       "      <th>3</th>\n",
       "      <td>HCAHeart9508819_AAACCAACACTTAACG-1</td>\n",
       "    </tr>\n",
       "    <tr>\n",
       "      <th>4</th>\n",
       "      <td>HCAHeart9508819_AAACCAACAGCCGCTA-1</td>\n",
       "    </tr>\n",
       "    <tr>\n",
       "      <th>...</th>\n",
       "      <td>...</td>\n",
       "    </tr>\n",
       "    <tr>\n",
       "      <th>48093</th>\n",
       "      <td>HCAHeart8374344_TTTGGTTTCATTGCCC-1</td>\n",
       "    </tr>\n",
       "    <tr>\n",
       "      <th>48094</th>\n",
       "      <td>HCAHeart8374344_TTTGGTTTCGTTACAG-1</td>\n",
       "    </tr>\n",
       "    <tr>\n",
       "      <th>48095</th>\n",
       "      <td>HCAHeart8374344_TTTGTGTAGTACAACA-1</td>\n",
       "    </tr>\n",
       "    <tr>\n",
       "      <th>48096</th>\n",
       "      <td>HCAHeart8374344_TTTGTGTCACTGTCGG-1</td>\n",
       "    </tr>\n",
       "    <tr>\n",
       "      <th>48097</th>\n",
       "      <td>HCAHeart8374344_TTTGTGTGTGCCAAGA-1</td>\n",
       "    </tr>\n",
       "  </tbody>\n",
       "</table>\n",
       "<p>79208 rows × 1 columns</p>\n",
       "</div>"
      ],
      "text/plain": [
       "                                        0\n",
       "0      HCAHeart9508819_AAACATGCAGCAGGTA-1\n",
       "1      HCAHeart9508819_AAACATGCATAGCTGC-1\n",
       "2      HCAHeart9508819_AAACCAACAAGGTGCA-1\n",
       "3      HCAHeart9508819_AAACCAACACTTAACG-1\n",
       "4      HCAHeart9508819_AAACCAACAGCCGCTA-1\n",
       "...                                   ...\n",
       "48093  HCAHeart8374344_TTTGGTTTCATTGCCC-1\n",
       "48094  HCAHeart8374344_TTTGGTTTCGTTACAG-1\n",
       "48095  HCAHeart8374344_TTTGTGTAGTACAACA-1\n",
       "48096  HCAHeart8374344_TTTGTGTCACTGTCGG-1\n",
       "48097  HCAHeart8374344_TTTGTGTGTGCCAAGA-1\n",
       "\n",
       "[79208 rows x 1 columns]"
      ]
     },
     "execution_count": 42,
     "metadata": {},
     "output_type": "execute_result"
    }
   ],
   "source": [
    "# Read in qualified cell barcode \n",
    "Multiome_QCed=pd.read_table('/nfs/team205/kk18/data/mapped/cellranger-arc101/6reg-v2_MultiomeATAC_Signac-QCed-barcodes.txt', header=None)\n",
    "snATAC_QCed=pd.read_table('/nfs/team205/kk18/data/mapped/cellranger-atac120/6reg-v2_snATAC_Signac-QCed-barcodes.txt', header=None)\n",
    "QCed = pd.concat([Multiome_QCed, snATAC_QCed])\n",
    "QCed"
   ]
  },
  {
   "cell_type": "code",
   "execution_count": 43,
   "metadata": {},
   "outputs": [
    {
     "data": {
      "text/html": [
       "<div>\n",
       "<style scoped>\n",
       "    .dataframe tbody tr th:only-of-type {\n",
       "        vertical-align: middle;\n",
       "    }\n",
       "\n",
       "    .dataframe tbody tr th {\n",
       "        vertical-align: top;\n",
       "    }\n",
       "\n",
       "    .dataframe thead th {\n",
       "        text-align: right;\n",
       "    }\n",
       "</style>\n",
       "<table border=\"1\" class=\"dataframe\">\n",
       "  <thead>\n",
       "    <tr style=\"text-align: right;\">\n",
       "      <th></th>\n",
       "      <th>cellatac_clusters</th>\n",
       "      <th>cellatac_code</th>\n",
       "      <th>sangerID</th>\n",
       "      <th>dataset</th>\n",
       "      <th>Donor</th>\n",
       "      <th>Region</th>\n",
       "      <th>n_genes_by_counts</th>\n",
       "      <th>log1p_n_genes_by_counts</th>\n",
       "      <th>total_counts</th>\n",
       "      <th>log1p_total_counts</th>\n",
       "      <th>pct_counts_in_top_50_genes</th>\n",
       "      <th>pct_counts_in_top_100_genes</th>\n",
       "      <th>pct_counts_in_top_200_genes</th>\n",
       "      <th>pct_counts_in_top_500_genes</th>\n",
       "      <th>barcode</th>\n",
       "      <th>oribarcode</th>\n",
       "    </tr>\n",
       "    <tr>\n",
       "      <th>fullbarcode</th>\n",
       "      <th></th>\n",
       "      <th></th>\n",
       "      <th></th>\n",
       "      <th></th>\n",
       "      <th></th>\n",
       "      <th></th>\n",
       "      <th></th>\n",
       "      <th></th>\n",
       "      <th></th>\n",
       "      <th></th>\n",
       "      <th></th>\n",
       "      <th></th>\n",
       "      <th></th>\n",
       "      <th></th>\n",
       "      <th></th>\n",
       "      <th></th>\n",
       "    </tr>\n",
       "  </thead>\n",
       "  <tbody>\n",
       "    <tr>\n",
       "      <th>HCAHeart8374324_AAACGAATCAAACCCA-1</th>\n",
       "      <td>26</td>\n",
       "      <td>01</td>\n",
       "      <td>HCAHeart8374324</td>\n",
       "      <td>LV</td>\n",
       "      <td>D5</td>\n",
       "      <td>LV</td>\n",
       "      <td>14330</td>\n",
       "      <td>9.570180</td>\n",
       "      <td>14330.0</td>\n",
       "      <td>9.570180</td>\n",
       "      <td>0.348918</td>\n",
       "      <td>0.697837</td>\n",
       "      <td>1.395673</td>\n",
       "      <td>3.489184</td>\n",
       "      <td>AAACGAATCAAACCCA-1</td>\n",
       "      <td>01-AAACGAATCAAACCCA-1</td>\n",
       "    </tr>\n",
       "    <tr>\n",
       "      <th>HCAHeart8374324_AAACTGCAGACCCTAT-1</th>\n",
       "      <td>9</td>\n",
       "      <td>01</td>\n",
       "      <td>HCAHeart8374324</td>\n",
       "      <td>LV</td>\n",
       "      <td>D5</td>\n",
       "      <td>LV</td>\n",
       "      <td>54</td>\n",
       "      <td>4.007333</td>\n",
       "      <td>54.0</td>\n",
       "      <td>4.007333</td>\n",
       "      <td>92.592593</td>\n",
       "      <td>100.000000</td>\n",
       "      <td>100.000000</td>\n",
       "      <td>100.000000</td>\n",
       "      <td>AAACTGCAGACCCTAT-1</td>\n",
       "      <td>01-AAACTGCAGACCCTAT-1</td>\n",
       "    </tr>\n",
       "    <tr>\n",
       "      <th>HCAHeart8374324_AAAGGATAGGCACTAG-1</th>\n",
       "      <td>9</td>\n",
       "      <td>01</td>\n",
       "      <td>HCAHeart8374324</td>\n",
       "      <td>LV</td>\n",
       "      <td>D5</td>\n",
       "      <td>LV</td>\n",
       "      <td>6498</td>\n",
       "      <td>8.779404</td>\n",
       "      <td>6498.0</td>\n",
       "      <td>8.779404</td>\n",
       "      <td>0.769468</td>\n",
       "      <td>1.538935</td>\n",
       "      <td>3.077870</td>\n",
       "      <td>7.694675</td>\n",
       "      <td>AAAGGATAGGCACTAG-1</td>\n",
       "      <td>01-AAAGGATAGGCACTAG-1</td>\n",
       "    </tr>\n",
       "    <tr>\n",
       "      <th>HCAHeart8374324_AAAGGGCAGCGAGCTA-1</th>\n",
       "      <td>8</td>\n",
       "      <td>01</td>\n",
       "      <td>HCAHeart8374324</td>\n",
       "      <td>LV</td>\n",
       "      <td>D5</td>\n",
       "      <td>LV</td>\n",
       "      <td>11800</td>\n",
       "      <td>9.375940</td>\n",
       "      <td>11800.0</td>\n",
       "      <td>9.375939</td>\n",
       "      <td>0.423729</td>\n",
       "      <td>0.847458</td>\n",
       "      <td>1.694915</td>\n",
       "      <td>4.237288</td>\n",
       "      <td>AAAGGGCAGCGAGCTA-1</td>\n",
       "      <td>01-AAAGGGCAGCGAGCTA-1</td>\n",
       "    </tr>\n",
       "    <tr>\n",
       "      <th>HCAHeart8374324_AAAGGGCAGTGATATG-1</th>\n",
       "      <td>16</td>\n",
       "      <td>01</td>\n",
       "      <td>HCAHeart8374324</td>\n",
       "      <td>LV</td>\n",
       "      <td>D5</td>\n",
       "      <td>LV</td>\n",
       "      <td>2999</td>\n",
       "      <td>8.006368</td>\n",
       "      <td>2999.0</td>\n",
       "      <td>8.006368</td>\n",
       "      <td>1.667222</td>\n",
       "      <td>3.334445</td>\n",
       "      <td>6.668890</td>\n",
       "      <td>16.672224</td>\n",
       "      <td>AAAGGGCAGTGATATG-1</td>\n",
       "      <td>01-AAAGGGCAGTGATATG-1</td>\n",
       "    </tr>\n",
       "  </tbody>\n",
       "</table>\n",
       "</div>"
      ],
      "text/plain": [
       "                                    cellatac_clusters cellatac_code  \\\n",
       "fullbarcode                                                           \n",
       "HCAHeart8374324_AAACGAATCAAACCCA-1                 26            01   \n",
       "HCAHeart8374324_AAACTGCAGACCCTAT-1                  9            01   \n",
       "HCAHeart8374324_AAAGGATAGGCACTAG-1                  9            01   \n",
       "HCAHeart8374324_AAAGGGCAGCGAGCTA-1                  8            01   \n",
       "HCAHeart8374324_AAAGGGCAGTGATATG-1                 16            01   \n",
       "\n",
       "                                           sangerID dataset Donor Region  \\\n",
       "fullbarcode                                                                \n",
       "HCAHeart8374324_AAACGAATCAAACCCA-1  HCAHeart8374324      LV    D5     LV   \n",
       "HCAHeart8374324_AAACTGCAGACCCTAT-1  HCAHeart8374324      LV    D5     LV   \n",
       "HCAHeart8374324_AAAGGATAGGCACTAG-1  HCAHeart8374324      LV    D5     LV   \n",
       "HCAHeart8374324_AAAGGGCAGCGAGCTA-1  HCAHeart8374324      LV    D5     LV   \n",
       "HCAHeart8374324_AAAGGGCAGTGATATG-1  HCAHeart8374324      LV    D5     LV   \n",
       "\n",
       "                                    n_genes_by_counts  \\\n",
       "fullbarcode                                             \n",
       "HCAHeart8374324_AAACGAATCAAACCCA-1              14330   \n",
       "HCAHeart8374324_AAACTGCAGACCCTAT-1                 54   \n",
       "HCAHeart8374324_AAAGGATAGGCACTAG-1               6498   \n",
       "HCAHeart8374324_AAAGGGCAGCGAGCTA-1              11800   \n",
       "HCAHeart8374324_AAAGGGCAGTGATATG-1               2999   \n",
       "\n",
       "                                    log1p_n_genes_by_counts  total_counts  \\\n",
       "fullbarcode                                                                 \n",
       "HCAHeart8374324_AAACGAATCAAACCCA-1                 9.570180       14330.0   \n",
       "HCAHeart8374324_AAACTGCAGACCCTAT-1                 4.007333          54.0   \n",
       "HCAHeart8374324_AAAGGATAGGCACTAG-1                 8.779404        6498.0   \n",
       "HCAHeart8374324_AAAGGGCAGCGAGCTA-1                 9.375940       11800.0   \n",
       "HCAHeart8374324_AAAGGGCAGTGATATG-1                 8.006368        2999.0   \n",
       "\n",
       "                                    log1p_total_counts  \\\n",
       "fullbarcode                                              \n",
       "HCAHeart8374324_AAACGAATCAAACCCA-1            9.570180   \n",
       "HCAHeart8374324_AAACTGCAGACCCTAT-1            4.007333   \n",
       "HCAHeart8374324_AAAGGATAGGCACTAG-1            8.779404   \n",
       "HCAHeart8374324_AAAGGGCAGCGAGCTA-1            9.375939   \n",
       "HCAHeart8374324_AAAGGGCAGTGATATG-1            8.006368   \n",
       "\n",
       "                                    pct_counts_in_top_50_genes  \\\n",
       "fullbarcode                                                      \n",
       "HCAHeart8374324_AAACGAATCAAACCCA-1                    0.348918   \n",
       "HCAHeart8374324_AAACTGCAGACCCTAT-1                   92.592593   \n",
       "HCAHeart8374324_AAAGGATAGGCACTAG-1                    0.769468   \n",
       "HCAHeart8374324_AAAGGGCAGCGAGCTA-1                    0.423729   \n",
       "HCAHeart8374324_AAAGGGCAGTGATATG-1                    1.667222   \n",
       "\n",
       "                                    pct_counts_in_top_100_genes  \\\n",
       "fullbarcode                                                       \n",
       "HCAHeart8374324_AAACGAATCAAACCCA-1                     0.697837   \n",
       "HCAHeart8374324_AAACTGCAGACCCTAT-1                   100.000000   \n",
       "HCAHeart8374324_AAAGGATAGGCACTAG-1                     1.538935   \n",
       "HCAHeart8374324_AAAGGGCAGCGAGCTA-1                     0.847458   \n",
       "HCAHeart8374324_AAAGGGCAGTGATATG-1                     3.334445   \n",
       "\n",
       "                                    pct_counts_in_top_200_genes  \\\n",
       "fullbarcode                                                       \n",
       "HCAHeart8374324_AAACGAATCAAACCCA-1                     1.395673   \n",
       "HCAHeart8374324_AAACTGCAGACCCTAT-1                   100.000000   \n",
       "HCAHeart8374324_AAAGGATAGGCACTAG-1                     3.077870   \n",
       "HCAHeart8374324_AAAGGGCAGCGAGCTA-1                     1.694915   \n",
       "HCAHeart8374324_AAAGGGCAGTGATATG-1                     6.668890   \n",
       "\n",
       "                                    pct_counts_in_top_500_genes  \\\n",
       "fullbarcode                                                       \n",
       "HCAHeart8374324_AAACGAATCAAACCCA-1                     3.489184   \n",
       "HCAHeart8374324_AAACTGCAGACCCTAT-1                   100.000000   \n",
       "HCAHeart8374324_AAAGGATAGGCACTAG-1                     7.694675   \n",
       "HCAHeart8374324_AAAGGGCAGCGAGCTA-1                     4.237288   \n",
       "HCAHeart8374324_AAAGGGCAGTGATATG-1                    16.672224   \n",
       "\n",
       "                                               barcode             oribarcode  \n",
       "fullbarcode                                                                    \n",
       "HCAHeart8374324_AAACGAATCAAACCCA-1  AAACGAATCAAACCCA-1  01-AAACGAATCAAACCCA-1  \n",
       "HCAHeart8374324_AAACTGCAGACCCTAT-1  AAACTGCAGACCCTAT-1  01-AAACTGCAGACCCTAT-1  \n",
       "HCAHeart8374324_AAAGGATAGGCACTAG-1  AAAGGATAGGCACTAG-1  01-AAAGGATAGGCACTAG-1  \n",
       "HCAHeart8374324_AAAGGGCAGCGAGCTA-1  AAAGGGCAGCGAGCTA-1  01-AAAGGGCAGCGAGCTA-1  \n",
       "HCAHeart8374324_AAAGGGCAGTGATATG-1  AAAGGGCAGTGATATG-1  01-AAAGGGCAGTGATATG-1  "
      ]
     },
     "execution_count": 43,
     "metadata": {},
     "output_type": "execute_result"
    }
   ],
   "source": [
    "# Concatenate sample ID and barcodes \n",
    "adata.obs['sangerID']=adata.obs['sangerID'].astype('str')\n",
    "adata.obs['barcode'] = [x[3:] for x in adata.obs_names]\n",
    "adata.obs['fullbarcode']=adata.obs['sangerID']+'_'+adata.obs['barcode']\n",
    "adata.obs['oribarcode'] = adata.obs_names \n",
    "adata.obs.set_index('fullbarcode', inplace=True)\n",
    "adata.obs.head()"
   ]
  },
  {
   "cell_type": "code",
   "execution_count": 44,
   "metadata": {},
   "outputs": [
    {
     "data": {
      "text/plain": [
       "View of AnnData object with n_obs × n_vars = 79208 × 102627\n",
       "    obs: 'cellatac_clusters', 'cellatac_code', 'sangerID', 'dataset', 'Donor', 'Region', 'n_genes_by_counts', 'log1p_n_genes_by_counts', 'total_counts', 'log1p_total_counts', 'pct_counts_in_top_50_genes', 'pct_counts_in_top_100_genes', 'pct_counts_in_top_200_genes', 'pct_counts_in_top_500_genes', 'barcode', 'oribarcode'\n",
       "    var: 'peak_width', 'exon', 'gene', 'promoter', 'annotation', 'gene_name', 'gene_id', 'tss_distance', 'ENCODE_blacklist', 'n_cells_by_counts', 'mean_counts', 'log1p_mean_counts', 'pct_dropout_by_counts', 'total_counts', 'log1p_total_counts'\n",
       "    layers: 'binary_raw'"
      ]
     },
     "execution_count": 44,
     "metadata": {},
     "output_type": "execute_result"
    }
   ],
   "source": [
    "# Do filtering\n",
    "adata=adata[adata.obs.index.isin(QCed[0])]\n",
    "adata"
   ]
  },
  {
   "cell_type": "code",
   "execution_count": 45,
   "metadata": {},
   "outputs": [
    {
     "data": {
      "text/plain": [
       "array([[<AxesSubplot:title={'center':'log1p_total_counts'}>]],\n",
       "      dtype=object)"
      ]
     },
     "execution_count": 45,
     "metadata": {},
     "output_type": "execute_result"
    },
    {
     "data": {
      "image/png": "[encoded data removed]",
      "text/plain": [
       "<Figure size 1800x432 with 1 Axes>"
      ]
     },
     "metadata": {
      "needs_background": "light"
     },
     "output_type": "display_data"
    }
   ],
   "source": [
    "adata.obs.hist(column = 'log1p_total_counts', bins = 200, grid = False, figsize = (25,6), color = '#870052')"
   ]
  },
  {
   "cell_type": "markdown",
   "metadata": {},
   "source": [
    "### Write output anndata"
   ]
  },
  {
   "cell_type": "code",
   "execution_count": 47,
   "metadata": {},
   "outputs": [
    {
     "name": "stderr",
     "output_type": "stream",
     "text": [
      "/home/jovyan/my-conda-envs/scatac/lib/python3.8/site-packages/anndata/_core/anndata.py:1228: ImplicitModificationWarning: Initializing view as actual.\n",
      "  warnings.warn(\n",
      "Trying to set attribute `.obs` of view, copying.\n",
      "... storing 'cellatac_code' as categorical\n",
      "Trying to set attribute `.obs` of view, copying.\n",
      "... storing 'sangerID' as categorical\n",
      "Trying to set attribute `.obs` of view, copying.\n",
      "... storing 'Donor' as categorical\n",
      "Trying to set attribute `.obs` of view, copying.\n",
      "... storing 'barcode' as categorical\n",
      "Trying to set attribute `.var` of view, copying.\n",
      "... storing 'annotation' as categorical\n",
      "Trying to set attribute `.var` of view, copying.\n",
      "... storing 'gene_name' as categorical\n",
      "Trying to set attribute `.var` of view, copying.\n",
      "... storing 'gene_id' as categorical\n"
     ]
    }
   ],
   "source": [
    "# adata.write(output[\"h5ad\"])\n",
    "adata.write(outdir + experiment_prefix + '_filtered.h5ad')"
   ]
  },
  {
   "cell_type": "code",
   "execution_count": 48,
   "metadata": {},
   "outputs": [
    {
     "data": {
      "text/plain": [
       "Multiome_1    19099\n",
       "Multiome_2    12011\n",
       "LV             9109\n",
       "AX             8809\n",
       "SP             8123\n",
       "RA             7569\n",
       "LA             7282\n",
       "RV             7206\n",
       "Name: dataset, dtype: int64"
      ]
     },
     "execution_count": 48,
     "metadata": {},
     "output_type": "execute_result"
    }
   ],
   "source": [
    "adata.obs['dataset'].value_counts()"
   ]
  },
  {
   "cell_type": "code",
   "execution_count": 49,
   "metadata": {},
   "outputs": [
    {
     "data": {
      "text/plain": [
       "LV    22906\n",
       "RA    17313\n",
       "SP    11919\n",
       "LA    10352\n",
       "AX     9208\n",
       "RV     7510\n",
       "Name: Region, dtype: int64"
      ]
     },
     "execution_count": 49,
     "metadata": {},
     "output_type": "execute_result"
    }
   ],
   "source": [
    "adata.obs['Region'].value_counts()"
   ]
  },
  {
   "cell_type": "code",
   "execution_count": null,
   "metadata": {},
   "outputs": [],
   "source": []
  },
  {
   "cell_type": "code",
   "execution_count": null,
   "metadata": {},
   "outputs": [],
   "source": []
  },
  {
   "cell_type": "code",
   "execution_count": null,
   "metadata": {},
   "outputs": [],
   "source": []
  },
  {
   "cell_type": "code",
   "execution_count": null,
   "metadata": {},
   "outputs": [],
   "source": []
  }
 ],
 "metadata": {
  "kernelspec": {
   "display_name": "scatac",
   "language": "python",
   "name": "scatac"
  },
  "language_info": {
   "codemirror_mode": {
    "name": "ipython",
    "version": 3
   },
   "file_extension": ".py",
   "mimetype": "text/x-python",
   "name": "python",
   "nbconvert_exporter": "python",
   "pygments_lexer": "ipython3",
   "version": "3.8.8"
  }
 },
 "nbformat": 4,
 "nbformat_minor": 4
}
