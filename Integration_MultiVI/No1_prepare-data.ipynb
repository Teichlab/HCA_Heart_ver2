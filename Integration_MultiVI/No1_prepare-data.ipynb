{
 "cells": [
  {
   "cell_type": "markdown",
   "id": "crude-transparency",
   "metadata": {},
   "source": [
    "## References"
   ]
  },
  {
   "cell_type": "markdown",
   "id": "indian-narrative",
   "metadata": {},
   "source": [
    "Tutorial: https://docs.scvi-tools.org/en/stable/user_guide/notebooks/MultiVI_tutorial.html <br>\n",
    "Paper: https://www.biorxiv.org/content/10.1101/2021.08.20.457057v2"
   ]
  },
  {
   "cell_type": "markdown",
   "id": "structural-vehicle",
   "metadata": {},
   "source": [
    "## Dataset to prepare"
   ]
  },
  {
   "cell_type": "markdown",
   "id": "heated-scene",
   "metadata": {},
   "source": [
    "### 1) RNA (scnRNA + Multiome-RNA)\n",
    "* Read in data: post-CellBender, filtered as the previous HCA object, cell-type annotated\n",
    "* Subset scnRNA: barcode x gene -> **`adata_rna.h5ad`**\n",
    "* Subset MultiomeRNA: barcode x gene\n",
    "\n",
    "### 2) ATAC (snATAC + Multiome-ATAC)\n",
    "* Read in data: post-cellatac and filtered peaks and nuclei, `6reg-v2_ATACs_filtered.h5ad`\n",
    "* Subset snATAC: barcode x peak -> **`adata_atac.h5ad`**\n",
    "* Subset MultiomeATAC: barcode x peak\n",
    "\n",
    "### 3) Concatenate Multiome RNA+ATAC\n",
    "barcode x (gene+peak) -> **`adata_paired.h5ad`**"
   ]
  },
  {
   "cell_type": "code",
   "execution_count": 1,
   "id": "robust-count",
   "metadata": {},
   "outputs": [],
   "source": [
    "import scanpy as sc\n",
    "import numpy as np\n",
    "import pandas as pd\n",
    "import anndata\n",
    "import scipy\n",
    "import os"
   ]
  },
  {
   "cell_type": "code",
   "execution_count": 2,
   "id": "civic-butterfly",
   "metadata": {
    "scrolled": true
   },
   "outputs": [
    {
     "data": {
      "text/html": [
       "<details>\n",
       "<summary>Click to view session information</summary>\n",
       "<pre>\n",
       "-----\n",
       "anndata             0.7.6\n",
       "numpy               1.20.3\n",
       "pandas              1.3.3\n",
       "scanpy              1.8.1\n",
       "scipy               1.7.1\n",
       "session_info        1.0.0\n",
       "-----\n",
       "</pre>\n",
       "<details>\n",
       "<summary>Click to view modules imported as dependencies</summary>\n",
       "<pre>\n",
       "PIL                         8.3.1\n",
       "backcall                    0.2.0\n",
       "beta_ufunc                  NA\n",
       "binom_ufunc                 NA\n",
       "cffi                        1.14.6\n",
       "colorama                    0.4.4\n",
       "cycler                      0.10.0\n",
       "cython_runtime              NA\n",
       "dateutil                    2.8.2\n",
       "debugpy                     1.4.1\n",
       "decorator                   5.1.0\n",
       "defusedxml                  0.7.1\n",
       "entrypoints                 0.3\n",
       "google                      NA\n",
       "h5py                        3.4.0\n",
       "ipykernel                   6.4.1\n",
       "ipython_genutils            0.2.0\n",
       "jedi                        0.18.0\n",
       "joblib                      1.0.1\n",
       "kiwisolver                  1.3.2\n",
       "llvmlite                    0.37.0\n",
       "matplotlib                  3.4.3\n",
       "matplotlib_inline           NA\n",
       "mpl_toolkits                NA\n",
       "natsort                     7.1.1\n",
       "nbinom_ufunc                NA\n",
       "numba                       0.54.0\n",
       "numexpr                     2.7.3\n",
       "packaging                   21.0\n",
       "parso                       0.8.2\n",
       "pexpect                     4.8.0\n",
       "pickleshare                 0.7.5\n",
       "pkg_resources               NA\n",
       "prompt_toolkit              3.0.20\n",
       "ptyprocess                  0.7.0\n",
       "pydev_ipython               NA\n",
       "pydevconsole                NA\n",
       "pydevd                      2.4.1\n",
       "pydevd_concurrency_analyser NA\n",
       "pydevd_file_utils           NA\n",
       "pydevd_plugins              NA\n",
       "pydevd_tracing              NA\n",
       "pygments                    2.10.0\n",
       "pyparsing                   2.4.7\n",
       "pytz                        2021.1\n",
       "sinfo                       0.3.1\n",
       "six                         1.16.0\n",
       "sklearn                     0.24.2\n",
       "sphinxcontrib               NA\n",
       "storemagic                  NA\n",
       "tables                      3.6.1\n",
       "tornado                     6.1\n",
       "traitlets                   5.1.0\n",
       "typing_extensions           NA\n",
       "wcwidth                     0.2.5\n",
       "yaml                        5.4.1\n",
       "zmq                         22.2.1\n",
       "</pre>\n",
       "</details> <!-- seems like this ends pre, so might as well be explicit -->\n",
       "<pre>\n",
       "-----\n",
       "IPython             7.27.0\n",
       "jupyter_client      7.0.2\n",
       "jupyter_core        4.7.1\n",
       "notebook            6.4.3\n",
       "-----\n",
       "Python 3.8.10 | packaged by conda-forge | (default, May 11 2021, 07:01:05) [GCC 9.3.0]\n",
       "Linux-4.15.0-151-generic-x86_64-with-glibc2.10\n",
       "-----\n",
       "Session information updated at 2021-09-28 15:13\n",
       "</pre>\n",
       "</details>"
      ],
      "text/plain": [
       "<IPython.core.display.HTML object>"
      ]
     },
     "execution_count": 2,
     "metadata": {},
     "output_type": "execute_result"
    }
   ],
   "source": [
    "import session_info\n",
    "session_info.show()"
   ]
  },
  {
   "cell_type": "markdown",
   "id": "waiting-rapid",
   "metadata": {},
   "source": [
    "## Read in data"
   ]
  },
  {
   "cell_type": "markdown",
   "id": "fabulous-secondary",
   "metadata": {},
   "source": [
    "**RNA**"
   ]
  },
  {
   "cell_type": "code",
   "execution_count": 3,
   "id": "4f86ec4d",
   "metadata": {},
   "outputs": [],
   "source": [
    "path_adata = '/nfs/team205/heart/anndata_objects/'\n",
    "scrna = sc.read_h5ad(path_adata + 'scRNA_adult.h5ad')\n",
    "snrna = sc.read_h5ad(path_adata + 'snRNA_adult.h5ad')\n",
    "multirna = sc.read_h5ad(path_adata + 'multiome_RNA_adult.h5ad')"
   ]
  },
  {
   "cell_type": "code",
   "execution_count": 4,
   "id": "d121d8f0",
   "metadata": {},
   "outputs": [],
   "source": [
    "meta_multiome = pd.read_csv('/nfs/team205/heart/cellatac/tic-1050/6reg-v2_Multiome_metadata.csv', sep = ',', index_col = 0)\n",
    "meta_scnRNA = pd.read_csv('/nfs/team205/heart/soupremoved/cellbender020/6reg-v1_scnRNA_metadata.csv', sep = ',', index_col = 0)"
   ]
  },
  {
   "cell_type": "code",
   "execution_count": 5,
   "id": "0d048668",
   "metadata": {},
   "outputs": [
    {
     "data": {
      "text/plain": [
       "Index(['1', '11', '2', '3', '4', '5', '6', '7', 'H2', 'H3', 'H4', 'H5', 'H6',\n",
       "       'H7'],\n",
       "      dtype='object')"
      ]
     },
     "execution_count": 5,
     "metadata": {},
     "output_type": "execute_result"
    }
   ],
   "source": [
    "meta_scnRNA.Donor.astype('category').cat.categories"
   ]
  },
  {
   "cell_type": "code",
   "execution_count": 6,
   "id": "a0b609d9",
   "metadata": {
    "scrolled": true
   },
   "outputs": [],
   "source": [
    "meta_scnRNA.Donor = ['D' + did if 'H' not in did else did for did in meta_scnRNA.Donor]"
   ]
  },
  {
   "cell_type": "code",
   "execution_count": 7,
   "id": "d2c8ac0a",
   "metadata": {},
   "outputs": [
    {
     "data": {
      "text/plain": [
       "Index(['D1', 'D11', 'D2', 'D3', 'D4', 'D5', 'D6', 'D7', 'H2', 'H3', 'H4', 'H5',\n",
       "       'H6', 'H7'],\n",
       "      dtype='object')"
      ]
     },
     "execution_count": 7,
     "metadata": {},
     "output_type": "execute_result"
    }
   ],
   "source": [
    "meta_scnRNA.Donor.astype('category').cat.categories"
   ]
  },
  {
   "cell_type": "code",
   "execution_count": 8,
   "id": "a23cfbce",
   "metadata": {
    "scrolled": true
   },
   "outputs": [],
   "source": [
    "meta_multiome['sample_id'] = meta_multiome['SangerID']\n",
    "meta_multiome.rename(columns={\"Combined_ID\": \"combined_id\"}, inplace=True)\n",
    "meta_multiome.rename(columns={\"Protocol\": \"protocol\"}, inplace=True)\n",
    "meta_multiome['cell_or_nuclei'] = 'Nuclei'\n",
    "meta_multiome.rename(columns={\"Donor\": \"donor\"}, inplace=True)\n",
    "meta_multiome.rename(columns={\"Region\": \"region\"}, inplace=True)\n",
    "meta_multiome['donor'] =  'D' + meta_multiome['donor'].astype('str')\n",
    "meta_multiome['donor_cellnuc'] = meta_multiome['donor'].astype('str') + '_' + meta_multiome['cell_or_nuclei'].astype('str')\n",
    "meta_multiome['modality'] = 'paired'\n",
    "meta_multiome[['modality', 'donor_cellnuc', 'donor', 'region', 'cell_or_nuclei']]\n",
    "meta_multiome = meta_multiome[['sample_id', 'combined_id', \"protocol\", 'modality', 'donor_cellnuc', 'donor', 'region', 'cell_or_nuclei']]\n",
    "# meta_multiome.index = meta_multiome.sample_id"
   ]
  },
  {
   "cell_type": "code",
   "execution_count": 9,
   "id": "88cff41f",
   "metadata": {},
   "outputs": [],
   "source": [
    "meta_scnRNA.rename(columns={\"Cell_or_Nuclei\": \"cell_or_nuclei\"}, inplace=True)\n",
    "meta_scnRNA.rename(columns={\"Donor\": \"donor\"}, inplace=True)\n",
    "meta_scnRNA.rename(columns={\"Region\": \"region\"}, inplace=True)\n",
    "meta_scnRNA['sample_id'] = meta_scnRNA.index\n",
    "meta_scnRNA['protocol'] = 'RNA'\n",
    "meta_scnRNA['modality'] = 'expression'\n",
    "meta_scnRNA['combined_id'] = np.nan\n",
    "meta_scnRNA['donor_cellnuc'] = meta_scnRNA['donor'].astype('str') + '_' + meta_scnRNA['cell_or_nuclei'].astype('str')\n",
    "meta_scnRNA = meta_scnRNA[['sample_id', 'combined_id', \"protocol\", 'modality', 'donor_cellnuc', 'donor', 'region', 'cell_or_nuclei']]\n",
    "# meta_scnRNA.index = meta_scnRNA.sample_id"
   ]
  },
  {
   "cell_type": "code",
   "execution_count": 10,
   "id": "777ba312",
   "metadata": {},
   "outputs": [],
   "source": [
    "metadata = pd.concat([meta_multiome, meta_scnRNA], ignore_index=True)"
   ]
  },
  {
   "cell_type": "code",
   "execution_count": 11,
   "id": "54540355",
   "metadata": {},
   "outputs": [
    {
     "data": {
      "text/plain": [
       "Index(['D1', 'D11', 'D2', 'D3', 'D4', 'D5', 'D6', 'D7', 'D8', 'H2', 'H3', 'H4',\n",
       "       'H5', 'H6', 'H7'],\n",
       "      dtype='object')"
      ]
     },
     "execution_count": 11,
     "metadata": {},
     "output_type": "execute_result"
    }
   ],
   "source": [
    "metadata.donor.astype('category').cat.categories"
   ]
  },
  {
   "cell_type": "code",
   "execution_count": 12,
   "id": "74833bda",
   "metadata": {},
   "outputs": [
    {
     "name": "stderr",
     "output_type": "stream",
     "text": [
      "/opt/conda/envs/multiVI/lib/python3.8/site-packages/anndata/_core/anndata.py:794: UserWarning: \n",
      "AnnData expects .obs.index to contain strings, but got values like:\n",
      "    [0, 1, 2, 3, 4]\n",
      "\n",
      "    Inferred to be: integer\n",
      "\n",
      "  value_idx = self._prep_dim_index(value.index, attr)\n"
     ]
    }
   ],
   "source": [
    "barcodes = multirna.obs.index\n",
    "multirna.obs = multirna.obs.merge(metadata, on='sample_id', how='left')\n",
    "multirna.obs.index = barcodes"
   ]
  },
  {
   "cell_type": "code",
   "execution_count": 13,
   "id": "56fad130",
   "metadata": {},
   "outputs": [],
   "source": [
    "barcodes = scrna.obs.index\n",
    "scrna.obs = scrna.obs.merge(metadata, on='sample_id', how='left')\n",
    "scrna.obs.index = barcodes"
   ]
  },
  {
   "cell_type": "code",
   "execution_count": 14,
   "id": "b7210808",
   "metadata": {},
   "outputs": [],
   "source": [
    "barcodes = snrna.obs.index\n",
    "snrna.obs = snrna.obs.merge(metadata, on='sample_id', how='left')\n",
    "snrna.obs.index = barcodes"
   ]
  },
  {
   "cell_type": "code",
   "execution_count": 15,
   "id": "ab601196",
   "metadata": {},
   "outputs": [],
   "source": [
    "rna = scrna.concatenate([snrna, multirna], index_unique = None)"
   ]
  },
  {
   "cell_type": "code",
   "execution_count": 16,
   "id": "ca1169e1",
   "metadata": {},
   "outputs": [],
   "source": [
    "# add modality to .var\n",
    "rna.var['modality']='Gene Expression'"
   ]
  },
  {
   "cell_type": "code",
   "execution_count": 17,
   "id": "ce1dd458",
   "metadata": {},
   "outputs": [
    {
     "data": {
      "text/plain": [
       "expression    618913\n",
       "paired         69620\n",
       "Name: modality, dtype: int64"
      ]
     },
     "execution_count": 17,
     "metadata": {},
     "output_type": "execute_result"
    }
   ],
   "source": [
    "rna.obs['modality'].value_counts()"
   ]
  },
  {
   "cell_type": "markdown",
   "id": "administrative-latter",
   "metadata": {},
   "source": [
    "**ATAC**"
   ]
  },
  {
   "cell_type": "code",
   "execution_count": 18,
   "id": "moderate-charter",
   "metadata": {},
   "outputs": [
    {
     "data": {
      "text/plain": [
       "AnnData object with n_obs × n_vars = 79208 × 102627\n",
       "    obs: 'cellatac_clusters', 'cellatac_code', 'sample_id', 'dataset', 'donor', 'region', 'n_genes_by_counts', 'log1p_n_genes_by_counts', 'total_counts', 'log1p_total_counts', 'pct_counts_in_top_50_genes', 'pct_counts_in_top_100_genes', 'pct_counts_in_top_200_genes', 'pct_counts_in_top_500_genes', 'barcode', 'oribarcode', 'cell_or_nuclei', 'donor_cellnuc', 'protocol'\n",
       "    var: 'peak_width', 'exon', 'gene', 'promoter', 'annotation', 'gene_name', 'gene_id', 'tss_distance', 'ENCODE_blacklist', 'n_cells_by_counts', 'mean_counts', 'log1p_mean_counts', 'pct_dropout_by_counts', 'total_counts', 'log1p_total_counts', 'modality'\n",
       "    layers: 'binary_raw'"
      ]
     },
     "execution_count": 18,
     "metadata": {},
     "output_type": "execute_result"
    }
   ],
   "source": [
    "atac = sc.read_h5ad('/nfs/team205/heart/anndata_objects/6region_v2/6reg-v2_ATACs_filtered.h5ad')\n",
    "\n",
    "# add intra-batchkey: 'donor_cellnuc'\n",
    "atac.obs['cell_or_nuclei']='nuclei'\n",
    "atac.obs.rename(columns={'sangerID':'sample_id'},inplace=True)\n",
    "atac.obs.rename(columns={'Region':'region'},inplace=True)\n",
    "atac.obs.rename(columns={'Donor':'donor'},inplace=True)\n",
    "atac.obs['donor_cellnuc']=atac.obs['donor'].astype('str')+'_'+atac.obs['cell_or_nuclei'].astype('str')\n",
    "atac.obs['protocol'] = 'ATAC'\n",
    "# atac.obs['combined_id'] = np.nan\n",
    "\n",
    "# add modality to .var\n",
    "atac.var['modality']='Peaks'\n",
    "\n",
    "\n",
    "atac"
   ]
  },
  {
   "cell_type": "code",
   "execution_count": 19,
   "id": "4879622d",
   "metadata": {},
   "outputs": [
    {
     "data": {
      "text/plain": [
       "fullbarcode\n",
       "HCAHeart8374324_AAACGAATCAAACCCA-1            LV\n",
       "HCAHeart8374324_AAAGGATAGGCACTAG-1            LV\n",
       "HCAHeart8374324_AAAGGGCAGCGAGCTA-1            LV\n",
       "HCAHeart8374324_AAAGGGCAGTGATATG-1            LV\n",
       "HCAHeart8374324_AAATGAGTCCGGGCAT-1            LV\n",
       "                                         ...    \n",
       "HCAHeart9917178_TTTGGTAAGTATTGTG-1    Multiome_2\n",
       "HCAHeart9917178_TTTGTCCCACAAAGCG-1    Multiome_2\n",
       "HCAHeart9917178_TTTGTCCCATCGCTTT-1    Multiome_2\n",
       "HCAHeart9917178_TTTGTGTTCAGGATGA-1    Multiome_2\n",
       "HCAHeart9917178_TTTGTTGGTGTTGTAG-1    Multiome_2\n",
       "Name: dataset, Length: 79208, dtype: category\n",
       "Categories (8, object): ['RA', 'LA', 'RV', 'LV', 'SP', 'AX', 'Multiome_1', 'Multiome_2']"
      ]
     },
     "execution_count": 19,
     "metadata": {},
     "output_type": "execute_result"
    }
   ],
   "source": [
    "atac.obs.dataset"
   ]
  },
  {
   "cell_type": "code",
   "execution_count": 20,
   "id": "identical-indianapolis",
   "metadata": {},
   "outputs": [
    {
     "data": {
      "text/plain": [
       "accessibility    48098\n",
       "paired           31110\n",
       "Name: modality, dtype: int64"
      ]
     },
     "execution_count": 20,
     "metadata": {},
     "output_type": "execute_result"
    }
   ],
   "source": [
    "atac.obs=atac.obs[['sample_id', 'protocol', 'donor_cellnuc', \n",
    "                   'donor', 'region', 'cell_or_nuclei', \n",
    "                   'cellatac_clusters','cellatac_code', 'dataset', 'barcode', 'oribarcode']]\n",
    "atac.var=atac.var[['modality','peak_width', 'exon', 'gene', 'promoter', 'annotation', 'gene_name','gene_id', 'tss_distance', 'ENCODE_blacklist',]]\n",
    "\n",
    "# set 'modality' in .obs as 'snATAC' and 'Multiome'\n",
    "atac.obs['modality']=atac.obs['dataset'].copy()\n",
    "\n",
    "# atac.obs.replace({'modality':{\n",
    "#     'Multiome_1':'Multiome',\n",
    "#     'Multiome_2':'Multiome',\n",
    "#     'LV':'snATAC',\n",
    "#     'AX':'snATAC',\n",
    "#     'SP':'snATAC',\n",
    "#     'RA':'snATAC',\n",
    "#     'LA':'snATAC',\n",
    "#     'RV':'snATAC',\n",
    "# }},inplace=True)\n",
    "\n",
    "\n",
    "atac.obs.replace({'modality':{\n",
    "    'Multiome_1':'paired',\n",
    "    'Multiome_2':'paired',\n",
    "    'LV':'accessibility',\n",
    "    'AX':'accessibility',\n",
    "    'SP':'accessibility',\n",
    "    'RA':'accessibility',\n",
    "    'LA':'accessibility',\n",
    "    'RV':'accessibility',\n",
    "}},inplace=True)\n",
    "\n",
    "\n",
    "atac.obs['modality'].value_counts()"
   ]
  },
  {
   "cell_type": "code",
   "execution_count": 21,
   "id": "visible-publication",
   "metadata": {},
   "outputs": [
    {
     "data": {
      "text/plain": [
       "array([1., 1., 1., 1., 1., 1., 1., 1., 1., 1.], dtype=float32)"
      ]
     },
     "execution_count": 21,
     "metadata": {},
     "output_type": "execute_result"
    }
   ],
   "source": [
    "atac.X.data[:10]"
   ]
  },
  {
   "cell_type": "markdown",
   "id": "bacterial-surprise",
   "metadata": {},
   "source": [
    "## Generate `adata_paired.h5ad`"
   ]
  },
  {
   "cell_type": "code",
   "execution_count": 22,
   "id": "f087cc20",
   "metadata": {},
   "outputs": [
    {
     "data": {
      "text/plain": [
       "barcode\n",
       "HCAHeart9508627_CTTGAACAGTAATCCA-1    HCAHeart9508627\n",
       "HCAHeart9508627_GGGCATGAGCAAGACA-1    HCAHeart9508627\n",
       "HCAHeart9508627_CGGCTCACATCTTGAG-1    HCAHeart9508627\n",
       "HCAHeart9508627_AGGTGAGGTTTGCGCC-1    HCAHeart9508627\n",
       "HCAHeart9508627_GTGCCTTTCACGAATC-1    HCAHeart9508627\n",
       "                                           ...       \n",
       "HCAHeart9845436_GTAAGCTTCAAGGACA-1    HCAHeart9845436\n",
       "HCAHeart9845436_TAAGCTATCGCACAAT-1    HCAHeart9845436\n",
       "HCAHeart9845436_GATAACGAGGTTAGCT-1    HCAHeart9845436\n",
       "HCAHeart9845436_AGGATGTCAATTTGGT-1    HCAHeart9845436\n",
       "HCAHeart9845436_ACTTATGAGAATCGCT-1    HCAHeart9845436\n",
       "Name: sample_id, Length: 69620, dtype: category\n",
       "Categories (9, object): ['HCAHeart9508627', 'HCAHeart9508628', 'HCAHeart9508629', 'HCAHeart9845431', ..., 'HCAHeart9845433', 'HCAHeart9845434', 'HCAHeart9845435', 'HCAHeart9845436']"
      ]
     },
     "execution_count": 22,
     "metadata": {},
     "output_type": "execute_result"
    }
   ],
   "source": [
    "# rna.obs.loc[rna.obs.modality == 'Multiome-RNA','sample_id'].astype('category')\n",
    "rna.obs.loc[rna.obs.modality == 'paired','sample_id'].astype('category')"
   ]
  },
  {
   "cell_type": "raw",
   "id": "d6aea629",
   "metadata": {},
   "source": [
    "# multiome metadata\n",
    "meta=pd.read_csv('/nfs/team205/heart/cellatac/tic-1050/6reg-v2_Multiome_metadata.csv',index_col=0)\n",
    "meta"
   ]
  },
  {
   "cell_type": "markdown",
   "id": "pretty-mediterranean",
   "metadata": {},
   "source": [
    "**Multiome, RNA**"
   ]
  },
  {
   "cell_type": "code",
   "execution_count": 23,
   "id": "historic-badge",
   "metadata": {},
   "outputs": [
    {
     "name": "stderr",
     "output_type": "stream",
     "text": [
      "Trying to set attribute `.obs` of view, copying.\n"
     ]
    },
    {
     "data": {
      "text/plain": [
       "AnnData object with n_obs × n_vars = 69620 × 31915\n",
       "    obs: 'latent_RT_efficiency', 'latent_cell_probability', 'latent_scale', 'sample_id', 'Foetal_or_Adult', 'Provider', 'Modality', 'Mapping_ver', 'Reference_genome', 'CellBender_out', 'n_cells', 'multiplet_rate', 'batch', 'n_counts', 'n_genes', 'percent_mito', 'percent_ribo', 'scrublet_score', 'scrublet_leiden', 'cluster_scrublet_score', 'doublet_pval', 'doublet_bh_pval', 'combined_id', 'protocol', 'modality', 'donor_cellnuc', 'donor', 'region', 'cell_or_nuclei', 'Chemistry', 'n_nuclei', 'barcode'\n",
       "    var: 'ambient_expression-0-0', 'genes-0-0', 'ambient_expression-1-0', 'feature_type-1-0', 'id-1-0', 'ambient_expression-10-0', 'feature_type-10-0', 'id-10-0', 'ambient_expression-11-0', 'feature_type-11-0', 'id-11-0', 'ambient_expression-12-0', 'feature_type-12-0', 'id-12-0', 'ambient_expression-13-0', 'feature_type-13-0', 'id-13-0', 'ambient_expression-14-0', 'feature_type-14-0', 'id-14-0', 'ambient_expression-15-0', 'feature_type-15-0', 'id-15-0', 'ambient_expression-16-0', 'feature_type-16-0', 'id-16-0', 'ambient_expression-17-0', 'feature_type-17-0', 'id-17-0', 'ambient_expression-18-0', 'feature_type-18-0', 'id-18-0', 'ambient_expression-19-0', 'feature_type-19-0', 'id-19-0', 'ambient_expression-2-0', 'feature_type-2-0', 'id-2-0', 'ambient_expression-20-0', 'feature_type-20-0', 'id-20-0', 'ambient_expression-21-0', 'feature_type-21-0', 'id-21-0', 'ambient_expression-22-0', 'feature_type-22-0', 'id-22-0', 'ambient_expression-23-0', 'feature_type-23-0', 'id-23-0', 'ambient_expression-24-0', 'genes-24-0', 'ambient_expression-25-0', 'genes-25-0', 'ambient_expression-26-0', 'genes-26-0', 'ambient_expression-27-0', 'genes-27-0', 'ambient_expression-28-0', 'genes-28-0', 'ambient_expression-29-0', 'genes-29-0', 'ambient_expression-3-0', 'feature_type-3-0', 'id-3-0', 'ambient_expression-30-0', 'genes-30-0', 'ambient_expression-31-0', 'genes-31-0', 'ambient_expression-32-0', 'genes-32-0', 'ambient_expression-33-0', 'genes-33-0', 'ambient_expression-34-0', 'genes-34-0', 'ambient_expression-35-0', 'genes-35-0', 'ambient_expression-36-0', 'feature_type-36-0', 'id-36-0', 'ambient_expression-37-0', 'feature_type-37-0', 'id-37-0', 'ambient_expression-38-0', 'feature_type-38-0', 'id-38-0', 'ambient_expression-39-0', 'feature_type-39-0', 'id-39-0', 'ambient_expression-4-0', 'feature_type-4-0', 'id-4-0', 'ambient_expression-40-0', 'feature_type-40-0', 'id-40-0', 'ambient_expression-41-0', 'feature_type-41-0', 'id-41-0', 'ambient_expression-42-0', 'genes-42-0', 'ambient_expression-43-0', 'genes-43-0', 'ambient_expression-44-0', 'genes-44-0', 'ambient_expression-45-0', 'genes-45-0', 'ambient_expression-46-0', 'genes-46-0', 'ambient_expression-47-0', 'genes-47-0', 'ambient_expression-48-0', 'genes-48-0', 'ambient_expression-49-0', 'genes-49-0', 'ambient_expression-5-0', 'feature_type-5-0', 'id-5-0', 'ambient_expression-50-0', 'genes-50-0', 'ambient_expression-51-0', 'genes-51-0', 'ambient_expression-52-0', 'genes-52-0', 'ambient_expression-53-0', 'genes-53-0', 'ambient_expression-6-0', 'feature_type-6-0', 'id-6-0', 'ambient_expression-7-0', 'feature_type-7-0', 'id-7-0', 'ambient_expression-8-0', 'feature_type-8-0', 'id-8-0', 'ambient_expression-9-0', 'feature_type-9-0', 'id-9-0', 'ambient_expression-0-1', 'ambient_expression-1-1', 'feature_type-1-1', 'id-1-1', 'ambient_expression-10-1', 'feature_type-10-1', 'id-10-1', 'ambient_expression-11-1', 'feature_type-11-1', 'id-11-1', 'ambient_expression-12-1', 'feature_type-12-1', 'id-12-1', 'ambient_expression-13-1', 'feature_type-13-1', 'id-13-1', 'ambient_expression-14-1', 'feature_type-14-1', 'id-14-1', 'ambient_expression-15-1', 'feature_type-15-1', 'id-15-1', 'ambient_expression-16-1', 'feature_type-16-1', 'id-16-1', 'ambient_expression-17-1', 'feature_type-17-1', 'id-17-1', 'ambient_expression-18-1', 'feature_type-18-1', 'id-18-1', 'ambient_expression-19-1', 'feature_type-19-1', 'id-19-1', 'ambient_expression-2-1', 'feature_type-2-1', 'id-2-1', 'ambient_expression-20-1', 'feature_type-20-1', 'id-20-1', 'ambient_expression-21-1', 'ambient_expression-22-1', 'ambient_expression-23-1', 'ambient_expression-24-1', 'genes-24-1', 'ambient_expression-25-1', 'genes-25-1', 'ambient_expression-26-1', 'genes-26-1', 'ambient_expression-27-1', 'genes-27-1', 'ambient_expression-28-1', 'genes-28-1', 'ambient_expression-29-1', 'genes-29-1', 'ambient_expression-3-1', 'feature_type-3-1', 'id-3-1', 'ambient_expression-30-1', 'genes-30-1', 'ambient_expression-31-1', 'ambient_expression-32-1', 'ambient_expression-33-1', 'ambient_expression-34-1', 'ambient_expression-35-1', 'ambient_expression-36-1', 'feature_type-36-1', 'id-36-1', 'ambient_expression-37-1', 'feature_type-37-1', 'id-37-1', 'ambient_expression-38-1', 'feature_type-38-1', 'id-38-1', 'ambient_expression-39-1', 'feature_type-39-1', 'id-39-1', 'ambient_expression-4-1', 'feature_type-4-1', 'id-4-1', 'ambient_expression-40-1', 'feature_type-40-1', 'id-40-1', 'ambient_expression-41-1', 'feature_type-41-1', 'id-41-1', 'ambient_expression-42-1', 'ambient_expression-43-1', 'ambient_expression-44-1', 'ambient_expression-45-1', 'ambient_expression-46-1', 'ambient_expression-47-1', 'genes-47-1', 'ambient_expression-48-1', 'genes-48-1', 'ambient_expression-49-1', 'genes-49-1', 'ambient_expression-5-1', 'feature_type-5-1', 'id-5-1', 'ambient_expression-50-1', 'genes-50-1', 'ambient_expression-51-1', 'genes-51-1', 'ambient_expression-52-1', 'genes-52-1', 'ambient_expression-53-1', 'genes-53-1', 'ambient_expression-6-1', 'feature_type-6-1', 'id-6-1', 'ambient_expression-7-1', 'feature_type-7-1', 'id-7-1', 'ambient_expression-8-1', 'feature_type-8-1', 'id-8-1', 'ambient_expression-9-1', 'feature_type-9-1', 'id-9-1', 'feature_type-0-1', 'id-0-1', 'genes-21-1', 'genes-22-1', 'genes-23-1', 'feature_type-31-1', 'id-31-1', 'feature_type-32-1', 'id-32-1', 'feature_type-33-1', 'id-33-1', 'feature_type-34-1', 'id-34-1', 'feature_type-35-1', 'id-35-1', 'feature_type-42-1', 'id-42-1', 'feature_type-43-1', 'id-43-1', 'feature_type-44-1', 'id-44-1', 'feature_type-45-1', 'id-45-1', 'feature_type-46-1', 'id-46-1', 'ambient_expression-54-1', 'genes-54-1', 'ambient_expression-55-1', 'genes-55-1', 'ambient_expression-56-1', 'genes-56-1', 'ambient_expression-57-1', 'genes-57-1', 'ambient_expression-58-1', 'genes-58-1', 'ambient_expression-59-1', 'genes-59-1', 'ambient_expression-60-1', 'genes-60-1', 'ambient_expression-61-1', 'genes-61-1', 'ambient_expression-62-1', 'genes-62-1', 'ambient_expression-63-1', 'genes-63-1', 'ambient_expression-64-1', 'genes-64-1', 'ambient_expression-65-1', 'genes-65-1', 'ambient_expression-66-1', 'genes-66-1', 'ambient_expression-67-1', 'genes-67-1', 'ambient_expression-68-1', 'genes-68-1', 'ambient_expression-69-1', 'genes-69-1', 'ambient_expression-70-1', 'genes-70-1', 'ambient_expression-71-1', 'genes-71-1', 'ambient_expression-72-1', 'genes-72-1', 'ambient_expression-73-1', 'genes-73-1', 'ambient_expression-74-1', 'genes-74-1', 'ambient_expression-75-1', 'genes-75-1', 'ambient_expression-76-1', 'genes-76-1', 'ambient_expression-77-1', 'genes-77-1', 'ambient_expression-78-1', 'genes-78-1', 'ambient_expression-79-1', 'genes-79-1', 'ambient_expression-80-1', 'genes-80-1', 'ambient_expression-81-1', 'genes-81-1', 'ambient_expression-82-1', 'genes-82-1', 'ambient_expression-83-1', 'genes-83-1', 'ambient_expression-84-1', 'genes-84-1', 'ambient_expression-85-1', 'genes-85-1', 'ambient_expression-86-1', 'genes-86-1', 'ambient_expression-87-1', 'genes-87-1', 'ambient_expression-88-1', 'genes-88-1', 'ambient_expression-89-1', 'genes-89-1', 'ambient_expression-90-1', 'genes-90-1', 'ambient_expression-91-1', 'genes-91-1', 'ambient_expression-92-1', 'genes-92-1', 'ambient_expression-93-1', 'genes-93-1', 'ambient_expression-0-2', 'ambient_expression-1-2', 'ambient_expression-2-2', 'ambient_expression-3-2', 'ambient_expression-4-2', 'ambient_expression-5-2', 'ambient_expression-6-2', 'ambient_expression-7-2', 'ambient_expression-8-2', 'feature_type-2', 'id-2', 'modality'\n",
       "    obsm: 'latent_gene_encoding'"
      ]
     },
     "execution_count": 23,
     "metadata": {},
     "output_type": "execute_result"
    }
   ],
   "source": [
    "# subset Multiome-RNA\n",
    "# multiome_rna=rna[rna.obs['modality']=='Multiome-RNA']\n",
    "multiome_rna=rna[rna.obs['modality']=='paired']\n",
    "\n",
    "# prepare GEM barcodes\n",
    "multiome_rna.obs['barcode']=multiome_rna.obs.index.copy()\n",
    "multiome_rna.obs['barcode']=[x.split('_')[1] for x in multiome_rna.obs.index]\n",
    "\n",
    "# add Combined_ID\n",
    "# multiome_rna.obs.rename(columns={'sample_id':'rna_sangerID'},inplace=True)\n",
    "# multiome_rna.obs=multiome_rna.obs.merge(meta[['SangerID','Combined_ID']],how='left',left_on='rna_sangerID',right_on='SangerID')\n",
    "\n",
    "# multiome_rna.obs=multiome_rna.obs.merge(meta_multiome, how='left',left_on='sample_id', right_on='sample_id')\n",
    "# multiome_rna.obs.drop(['SangerID'],axis=1,inplace=True)\n",
    "\n",
    "# set index with fullbarcode: Combined_ID + barcodes\n",
    "multiome_rna.obs['combined_barcode']=multiome_rna.obs['combined_id'].astype('str')+ \\\n",
    "                                     '_'+ multiome_rna.obs['barcode'].astype('str')\n",
    "multiome_rna.obs.set_index('combined_barcode',inplace=True)\n",
    "\n",
    "multiome_rna"
   ]
  },
  {
   "cell_type": "code",
   "execution_count": 24,
   "id": "veterinary-energy",
   "metadata": {},
   "outputs": [
    {
     "data": {
      "text/html": [
       "<div>\n",
       "<style scoped>\n",
       "    .dataframe tbody tr th:only-of-type {\n",
       "        vertical-align: middle;\n",
       "    }\n",
       "\n",
       "    .dataframe tbody tr th {\n",
       "        vertical-align: top;\n",
       "    }\n",
       "\n",
       "    .dataframe thead th {\n",
       "        text-align: right;\n",
       "    }\n",
       "</style>\n",
       "<table border=\"1\" class=\"dataframe\">\n",
       "  <thead>\n",
       "    <tr style=\"text-align: right;\">\n",
       "      <th></th>\n",
       "      <th>latent_RT_efficiency</th>\n",
       "      <th>latent_cell_probability</th>\n",
       "      <th>latent_scale</th>\n",
       "      <th>sample_id</th>\n",
       "      <th>Foetal_or_Adult</th>\n",
       "      <th>Provider</th>\n",
       "      <th>Modality</th>\n",
       "      <th>Mapping_ver</th>\n",
       "      <th>Reference_genome</th>\n",
       "      <th>CellBender_out</th>\n",
       "      <th>...</th>\n",
       "      <th>combined_id</th>\n",
       "      <th>protocol</th>\n",
       "      <th>modality</th>\n",
       "      <th>donor_cellnuc</th>\n",
       "      <th>donor</th>\n",
       "      <th>region</th>\n",
       "      <th>cell_or_nuclei</th>\n",
       "      <th>Chemistry</th>\n",
       "      <th>n_nuclei</th>\n",
       "      <th>barcode</th>\n",
       "    </tr>\n",
       "    <tr>\n",
       "      <th>combined_barcode</th>\n",
       "      <th></th>\n",
       "      <th></th>\n",
       "      <th></th>\n",
       "      <th></th>\n",
       "      <th></th>\n",
       "      <th></th>\n",
       "      <th></th>\n",
       "      <th></th>\n",
       "      <th></th>\n",
       "      <th></th>\n",
       "      <th></th>\n",
       "      <th></th>\n",
       "      <th></th>\n",
       "      <th></th>\n",
       "      <th></th>\n",
       "      <th></th>\n",
       "      <th></th>\n",
       "      <th></th>\n",
       "      <th></th>\n",
       "      <th></th>\n",
       "      <th></th>\n",
       "    </tr>\n",
       "  </thead>\n",
       "  <tbody>\n",
       "    <tr>\n",
       "      <th>HCAHeart9508627_HCAHeart9508819_CTTGAACAGTAATCCA-1</th>\n",
       "      <td>9.639693</td>\n",
       "      <td>0.697640</td>\n",
       "      <td>917.024841</td>\n",
       "      <td>HCAHeart9508627</td>\n",
       "      <td>Adult</td>\n",
       "      <td>Sanger Heart Mona-Carlos</td>\n",
       "      <td>Multiome-RNA</td>\n",
       "      <td>cellranger-arc-1.0.1</td>\n",
       "      <td>GRCh38-2020-A</td>\n",
       "      <td>NaN</td>\n",
       "      <td>...</td>\n",
       "      <td>HCAHeart9508627_HCAHeart9508819</td>\n",
       "      <td>RNA</td>\n",
       "      <td>paired</td>\n",
       "      <td>D3_Nuclei</td>\n",
       "      <td>D3</td>\n",
       "      <td>LV</td>\n",
       "      <td>Nuclei</td>\n",
       "      <td>Single Cell Multiome ATAC + Gene Expression v1</td>\n",
       "      <td>3686.0</td>\n",
       "      <td>CTTGAACAGTAATCCA-1</td>\n",
       "    </tr>\n",
       "    <tr>\n",
       "      <th>HCAHeart9508627_HCAHeart9508819_GGGCATGAGCAAGACA-1</th>\n",
       "      <td>8.256632</td>\n",
       "      <td>0.999412</td>\n",
       "      <td>3547.850098</td>\n",
       "      <td>HCAHeart9508627</td>\n",
       "      <td>Adult</td>\n",
       "      <td>Sanger Heart Mona-Carlos</td>\n",
       "      <td>Multiome-RNA</td>\n",
       "      <td>cellranger-arc-1.0.1</td>\n",
       "      <td>GRCh38-2020-A</td>\n",
       "      <td>NaN</td>\n",
       "      <td>...</td>\n",
       "      <td>HCAHeart9508627_HCAHeart9508819</td>\n",
       "      <td>RNA</td>\n",
       "      <td>paired</td>\n",
       "      <td>D3_Nuclei</td>\n",
       "      <td>D3</td>\n",
       "      <td>LV</td>\n",
       "      <td>Nuclei</td>\n",
       "      <td>Single Cell Multiome ATAC + Gene Expression v1</td>\n",
       "      <td>3686.0</td>\n",
       "      <td>GGGCATGAGCAAGACA-1</td>\n",
       "    </tr>\n",
       "    <tr>\n",
       "      <th>HCAHeart9508627_HCAHeart9508819_CGGCTCACATCTTGAG-1</th>\n",
       "      <td>8.386842</td>\n",
       "      <td>0.999705</td>\n",
       "      <td>3879.808838</td>\n",
       "      <td>HCAHeart9508627</td>\n",
       "      <td>Adult</td>\n",
       "      <td>Sanger Heart Mona-Carlos</td>\n",
       "      <td>Multiome-RNA</td>\n",
       "      <td>cellranger-arc-1.0.1</td>\n",
       "      <td>GRCh38-2020-A</td>\n",
       "      <td>NaN</td>\n",
       "      <td>...</td>\n",
       "      <td>HCAHeart9508627_HCAHeart9508819</td>\n",
       "      <td>RNA</td>\n",
       "      <td>paired</td>\n",
       "      <td>D3_Nuclei</td>\n",
       "      <td>D3</td>\n",
       "      <td>LV</td>\n",
       "      <td>Nuclei</td>\n",
       "      <td>Single Cell Multiome ATAC + Gene Expression v1</td>\n",
       "      <td>3686.0</td>\n",
       "      <td>CGGCTCACATCTTGAG-1</td>\n",
       "    </tr>\n",
       "    <tr>\n",
       "      <th>HCAHeart9508627_HCAHeart9508819_AGGTGAGGTTTGCGCC-1</th>\n",
       "      <td>9.085649</td>\n",
       "      <td>0.987425</td>\n",
       "      <td>1773.257812</td>\n",
       "      <td>HCAHeart9508627</td>\n",
       "      <td>Adult</td>\n",
       "      <td>Sanger Heart Mona-Carlos</td>\n",
       "      <td>Multiome-RNA</td>\n",
       "      <td>cellranger-arc-1.0.1</td>\n",
       "      <td>GRCh38-2020-A</td>\n",
       "      <td>NaN</td>\n",
       "      <td>...</td>\n",
       "      <td>HCAHeart9508627_HCAHeart9508819</td>\n",
       "      <td>RNA</td>\n",
       "      <td>paired</td>\n",
       "      <td>D3_Nuclei</td>\n",
       "      <td>D3</td>\n",
       "      <td>LV</td>\n",
       "      <td>Nuclei</td>\n",
       "      <td>Single Cell Multiome ATAC + Gene Expression v1</td>\n",
       "      <td>3686.0</td>\n",
       "      <td>AGGTGAGGTTTGCGCC-1</td>\n",
       "    </tr>\n",
       "    <tr>\n",
       "      <th>HCAHeart9508627_HCAHeart9508819_GTGCCTTTCACGAATC-1</th>\n",
       "      <td>9.497276</td>\n",
       "      <td>0.820139</td>\n",
       "      <td>971.152283</td>\n",
       "      <td>HCAHeart9508627</td>\n",
       "      <td>Adult</td>\n",
       "      <td>Sanger Heart Mona-Carlos</td>\n",
       "      <td>Multiome-RNA</td>\n",
       "      <td>cellranger-arc-1.0.1</td>\n",
       "      <td>GRCh38-2020-A</td>\n",
       "      <td>NaN</td>\n",
       "      <td>...</td>\n",
       "      <td>HCAHeart9508627_HCAHeart9508819</td>\n",
       "      <td>RNA</td>\n",
       "      <td>paired</td>\n",
       "      <td>D3_Nuclei</td>\n",
       "      <td>D3</td>\n",
       "      <td>LV</td>\n",
       "      <td>Nuclei</td>\n",
       "      <td>Single Cell Multiome ATAC + Gene Expression v1</td>\n",
       "      <td>3686.0</td>\n",
       "      <td>GTGCCTTTCACGAATC-1</td>\n",
       "    </tr>\n",
       "  </tbody>\n",
       "</table>\n",
       "<p>5 rows × 32 columns</p>\n",
       "</div>"
      ],
      "text/plain": [
       "                                                    latent_RT_efficiency  \\\n",
       "combined_barcode                                                           \n",
       "HCAHeart9508627_HCAHeart9508819_CTTGAACAGTAATCCA-1              9.639693   \n",
       "HCAHeart9508627_HCAHeart9508819_GGGCATGAGCAAGACA-1              8.256632   \n",
       "HCAHeart9508627_HCAHeart9508819_CGGCTCACATCTTGAG-1              8.386842   \n",
       "HCAHeart9508627_HCAHeart9508819_AGGTGAGGTTTGCGCC-1              9.085649   \n",
       "HCAHeart9508627_HCAHeart9508819_GTGCCTTTCACGAATC-1              9.497276   \n",
       "\n",
       "                                                    latent_cell_probability  \\\n",
       "combined_barcode                                                              \n",
       "HCAHeart9508627_HCAHeart9508819_CTTGAACAGTAATCCA-1                 0.697640   \n",
       "HCAHeart9508627_HCAHeart9508819_GGGCATGAGCAAGACA-1                 0.999412   \n",
       "HCAHeart9508627_HCAHeart9508819_CGGCTCACATCTTGAG-1                 0.999705   \n",
       "HCAHeart9508627_HCAHeart9508819_AGGTGAGGTTTGCGCC-1                 0.987425   \n",
       "HCAHeart9508627_HCAHeart9508819_GTGCCTTTCACGAATC-1                 0.820139   \n",
       "\n",
       "                                                    latent_scale  \\\n",
       "combined_barcode                                                   \n",
       "HCAHeart9508627_HCAHeart9508819_CTTGAACAGTAATCCA-1    917.024841   \n",
       "HCAHeart9508627_HCAHeart9508819_GGGCATGAGCAAGACA-1   3547.850098   \n",
       "HCAHeart9508627_HCAHeart9508819_CGGCTCACATCTTGAG-1   3879.808838   \n",
       "HCAHeart9508627_HCAHeart9508819_AGGTGAGGTTTGCGCC-1   1773.257812   \n",
       "HCAHeart9508627_HCAHeart9508819_GTGCCTTTCACGAATC-1    971.152283   \n",
       "\n",
       "                                                          sample_id  \\\n",
       "combined_barcode                                                      \n",
       "HCAHeart9508627_HCAHeart9508819_CTTGAACAGTAATCCA-1  HCAHeart9508627   \n",
       "HCAHeart9508627_HCAHeart9508819_GGGCATGAGCAAGACA-1  HCAHeart9508627   \n",
       "HCAHeart9508627_HCAHeart9508819_CGGCTCACATCTTGAG-1  HCAHeart9508627   \n",
       "HCAHeart9508627_HCAHeart9508819_AGGTGAGGTTTGCGCC-1  HCAHeart9508627   \n",
       "HCAHeart9508627_HCAHeart9508819_GTGCCTTTCACGAATC-1  HCAHeart9508627   \n",
       "\n",
       "                                                   Foetal_or_Adult  \\\n",
       "combined_barcode                                                     \n",
       "HCAHeart9508627_HCAHeart9508819_CTTGAACAGTAATCCA-1           Adult   \n",
       "HCAHeart9508627_HCAHeart9508819_GGGCATGAGCAAGACA-1           Adult   \n",
       "HCAHeart9508627_HCAHeart9508819_CGGCTCACATCTTGAG-1           Adult   \n",
       "HCAHeart9508627_HCAHeart9508819_AGGTGAGGTTTGCGCC-1           Adult   \n",
       "HCAHeart9508627_HCAHeart9508819_GTGCCTTTCACGAATC-1           Adult   \n",
       "\n",
       "                                                                    Provider  \\\n",
       "combined_barcode                                                               \n",
       "HCAHeart9508627_HCAHeart9508819_CTTGAACAGTAATCCA-1  Sanger Heart Mona-Carlos   \n",
       "HCAHeart9508627_HCAHeart9508819_GGGCATGAGCAAGACA-1  Sanger Heart Mona-Carlos   \n",
       "HCAHeart9508627_HCAHeart9508819_CGGCTCACATCTTGAG-1  Sanger Heart Mona-Carlos   \n",
       "HCAHeart9508627_HCAHeart9508819_AGGTGAGGTTTGCGCC-1  Sanger Heart Mona-Carlos   \n",
       "HCAHeart9508627_HCAHeart9508819_GTGCCTTTCACGAATC-1  Sanger Heart Mona-Carlos   \n",
       "\n",
       "                                                        Modality  \\\n",
       "combined_barcode                                                   \n",
       "HCAHeart9508627_HCAHeart9508819_CTTGAACAGTAATCCA-1  Multiome-RNA   \n",
       "HCAHeart9508627_HCAHeart9508819_GGGCATGAGCAAGACA-1  Multiome-RNA   \n",
       "HCAHeart9508627_HCAHeart9508819_CGGCTCACATCTTGAG-1  Multiome-RNA   \n",
       "HCAHeart9508627_HCAHeart9508819_AGGTGAGGTTTGCGCC-1  Multiome-RNA   \n",
       "HCAHeart9508627_HCAHeart9508819_GTGCCTTTCACGAATC-1  Multiome-RNA   \n",
       "\n",
       "                                                             Mapping_ver  \\\n",
       "combined_barcode                                                           \n",
       "HCAHeart9508627_HCAHeart9508819_CTTGAACAGTAATCCA-1  cellranger-arc-1.0.1   \n",
       "HCAHeart9508627_HCAHeart9508819_GGGCATGAGCAAGACA-1  cellranger-arc-1.0.1   \n",
       "HCAHeart9508627_HCAHeart9508819_CGGCTCACATCTTGAG-1  cellranger-arc-1.0.1   \n",
       "HCAHeart9508627_HCAHeart9508819_AGGTGAGGTTTGCGCC-1  cellranger-arc-1.0.1   \n",
       "HCAHeart9508627_HCAHeart9508819_GTGCCTTTCACGAATC-1  cellranger-arc-1.0.1   \n",
       "\n",
       "                                                   Reference_genome  \\\n",
       "combined_barcode                                                      \n",
       "HCAHeart9508627_HCAHeart9508819_CTTGAACAGTAATCCA-1    GRCh38-2020-A   \n",
       "HCAHeart9508627_HCAHeart9508819_GGGCATGAGCAAGACA-1    GRCh38-2020-A   \n",
       "HCAHeart9508627_HCAHeart9508819_CGGCTCACATCTTGAG-1    GRCh38-2020-A   \n",
       "HCAHeart9508627_HCAHeart9508819_AGGTGAGGTTTGCGCC-1    GRCh38-2020-A   \n",
       "HCAHeart9508627_HCAHeart9508819_GTGCCTTTCACGAATC-1    GRCh38-2020-A   \n",
       "\n",
       "                                                   CellBender_out  ...  \\\n",
       "combined_barcode                                                   ...   \n",
       "HCAHeart9508627_HCAHeart9508819_CTTGAACAGTAATCCA-1            NaN  ...   \n",
       "HCAHeart9508627_HCAHeart9508819_GGGCATGAGCAAGACA-1            NaN  ...   \n",
       "HCAHeart9508627_HCAHeart9508819_CGGCTCACATCTTGAG-1            NaN  ...   \n",
       "HCAHeart9508627_HCAHeart9508819_AGGTGAGGTTTGCGCC-1            NaN  ...   \n",
       "HCAHeart9508627_HCAHeart9508819_GTGCCTTTCACGAATC-1            NaN  ...   \n",
       "\n",
       "                                                                        combined_id  \\\n",
       "combined_barcode                                                                      \n",
       "HCAHeart9508627_HCAHeart9508819_CTTGAACAGTAATCCA-1  HCAHeart9508627_HCAHeart9508819   \n",
       "HCAHeart9508627_HCAHeart9508819_GGGCATGAGCAAGACA-1  HCAHeart9508627_HCAHeart9508819   \n",
       "HCAHeart9508627_HCAHeart9508819_CGGCTCACATCTTGAG-1  HCAHeart9508627_HCAHeart9508819   \n",
       "HCAHeart9508627_HCAHeart9508819_AGGTGAGGTTTGCGCC-1  HCAHeart9508627_HCAHeart9508819   \n",
       "HCAHeart9508627_HCAHeart9508819_GTGCCTTTCACGAATC-1  HCAHeart9508627_HCAHeart9508819   \n",
       "\n",
       "                                                    protocol modality  \\\n",
       "combined_barcode                                                        \n",
       "HCAHeart9508627_HCAHeart9508819_CTTGAACAGTAATCCA-1       RNA   paired   \n",
       "HCAHeart9508627_HCAHeart9508819_GGGCATGAGCAAGACA-1       RNA   paired   \n",
       "HCAHeart9508627_HCAHeart9508819_CGGCTCACATCTTGAG-1       RNA   paired   \n",
       "HCAHeart9508627_HCAHeart9508819_AGGTGAGGTTTGCGCC-1       RNA   paired   \n",
       "HCAHeart9508627_HCAHeart9508819_GTGCCTTTCACGAATC-1       RNA   paired   \n",
       "\n",
       "                                                    donor_cellnuc  donor  \\\n",
       "combined_barcode                                                           \n",
       "HCAHeart9508627_HCAHeart9508819_CTTGAACAGTAATCCA-1      D3_Nuclei     D3   \n",
       "HCAHeart9508627_HCAHeart9508819_GGGCATGAGCAAGACA-1      D3_Nuclei     D3   \n",
       "HCAHeart9508627_HCAHeart9508819_CGGCTCACATCTTGAG-1      D3_Nuclei     D3   \n",
       "HCAHeart9508627_HCAHeart9508819_AGGTGAGGTTTGCGCC-1      D3_Nuclei     D3   \n",
       "HCAHeart9508627_HCAHeart9508819_GTGCCTTTCACGAATC-1      D3_Nuclei     D3   \n",
       "\n",
       "                                                    region  cell_or_nuclei  \\\n",
       "combined_barcode                                                             \n",
       "HCAHeart9508627_HCAHeart9508819_CTTGAACAGTAATCCA-1      LV          Nuclei   \n",
       "HCAHeart9508627_HCAHeart9508819_GGGCATGAGCAAGACA-1      LV          Nuclei   \n",
       "HCAHeart9508627_HCAHeart9508819_CGGCTCACATCTTGAG-1      LV          Nuclei   \n",
       "HCAHeart9508627_HCAHeart9508819_AGGTGAGGTTTGCGCC-1      LV          Nuclei   \n",
       "HCAHeart9508627_HCAHeart9508819_GTGCCTTTCACGAATC-1      LV          Nuclei   \n",
       "\n",
       "                                                                                         Chemistry  \\\n",
       "combined_barcode                                                                                     \n",
       "HCAHeart9508627_HCAHeart9508819_CTTGAACAGTAATCCA-1  Single Cell Multiome ATAC + Gene Expression v1   \n",
       "HCAHeart9508627_HCAHeart9508819_GGGCATGAGCAAGACA-1  Single Cell Multiome ATAC + Gene Expression v1   \n",
       "HCAHeart9508627_HCAHeart9508819_CGGCTCACATCTTGAG-1  Single Cell Multiome ATAC + Gene Expression v1   \n",
       "HCAHeart9508627_HCAHeart9508819_AGGTGAGGTTTGCGCC-1  Single Cell Multiome ATAC + Gene Expression v1   \n",
       "HCAHeart9508627_HCAHeart9508819_GTGCCTTTCACGAATC-1  Single Cell Multiome ATAC + Gene Expression v1   \n",
       "\n",
       "                                                   n_nuclei  \\\n",
       "combined_barcode                                              \n",
       "HCAHeart9508627_HCAHeart9508819_CTTGAACAGTAATCCA-1   3686.0   \n",
       "HCAHeart9508627_HCAHeart9508819_GGGCATGAGCAAGACA-1   3686.0   \n",
       "HCAHeart9508627_HCAHeart9508819_CGGCTCACATCTTGAG-1   3686.0   \n",
       "HCAHeart9508627_HCAHeart9508819_AGGTGAGGTTTGCGCC-1   3686.0   \n",
       "HCAHeart9508627_HCAHeart9508819_GTGCCTTTCACGAATC-1   3686.0   \n",
       "\n",
       "                                                               barcode  \n",
       "combined_barcode                                                        \n",
       "HCAHeart9508627_HCAHeart9508819_CTTGAACAGTAATCCA-1  CTTGAACAGTAATCCA-1  \n",
       "HCAHeart9508627_HCAHeart9508819_GGGCATGAGCAAGACA-1  GGGCATGAGCAAGACA-1  \n",
       "HCAHeart9508627_HCAHeart9508819_CGGCTCACATCTTGAG-1  CGGCTCACATCTTGAG-1  \n",
       "HCAHeart9508627_HCAHeart9508819_AGGTGAGGTTTGCGCC-1  AGGTGAGGTTTGCGCC-1  \n",
       "HCAHeart9508627_HCAHeart9508819_GTGCCTTTCACGAATC-1  GTGCCTTTCACGAATC-1  \n",
       "\n",
       "[5 rows x 32 columns]"
      ]
     },
     "execution_count": 24,
     "metadata": {},
     "output_type": "execute_result"
    }
   ],
   "source": [
    "multiome_rna.obs.head()"
   ]
  },
  {
   "cell_type": "markdown",
   "id": "statistical-hawaiian",
   "metadata": {},
   "source": [
    "**Multiome, ATAC**"
   ]
  },
  {
   "cell_type": "code",
   "execution_count": 25,
   "id": "academic-rapid",
   "metadata": {},
   "outputs": [
    {
     "name": "stderr",
     "output_type": "stream",
     "text": [
      "/opt/conda/envs/multiVI/lib/python3.8/site-packages/anndata/_core/anndata.py:794: UserWarning: \n",
      "AnnData expects .obs.index to contain strings, but got values like:\n",
      "    [0, 1, 2, 3, 4]\n",
      "\n",
      "    Inferred to be: integer\n",
      "\n",
      "  value_idx = self._prep_dim_index(value.index, attr)\n"
     ]
    },
    {
     "data": {
      "text/plain": [
       "AnnData object with n_obs × n_vars = 31110 × 102627\n",
       "    obs: 'sample_id', 'protocol', 'donor_cellnuc', 'donor', 'region', 'cell_or_nuclei', 'cellatac_clusters', 'cellatac_code', 'dataset', 'barcode', 'oribarcode', 'modality', 'combined_id'\n",
       "    var: 'modality', 'peak_width', 'exon', 'gene', 'promoter', 'annotation', 'gene_name', 'gene_id', 'tss_distance', 'ENCODE_blacklist'\n",
       "    layers: 'binary_raw'"
      ]
     },
     "execution_count": 25,
     "metadata": {},
     "output_type": "execute_result"
    }
   ],
   "source": [
    "# subset Multiome-ATAC\n",
    "multiome_atac=atac[atac.obs['modality']=='paired']\n",
    "\n",
    "# add Combined_ID\n",
    "# multiome_atac.obs.rename(columns={'sangerID':'atac_sangerID'},inplace=True)\n",
    "# multiome_atac.obs=multiome_atac.obs.merge(meta[['SangerID','Combined_ID']],how='left',left_on='atac_sangerID',right_on='SangerID')\n",
    "\n",
    "# multiome_atac.obs.drop(['SangerID'],axis=1,inplace=True)\n",
    "\n",
    "multiome_atac.obs=multiome_atac.obs.merge(meta_multiome[['sample_id','combined_id']],how='left',\n",
    "                                          left_on='sample_id',right_on='sample_id')\n",
    "\n",
    "# set index with fullbarcode: Combined_ID + barcodes\n",
    "multiome_atac.obs['combined_barcode']=multiome_atac.obs['combined_id'].astype('str')+ \\\n",
    "                                     '_'+ multiome_atac.obs['barcode'].astype('str')\n",
    "multiome_atac.obs.set_index('combined_barcode',inplace=True)\n",
    "\n",
    "multiome_atac"
   ]
  },
  {
   "cell_type": "code",
   "execution_count": 26,
   "id": "comfortable-holocaust",
   "metadata": {},
   "outputs": [
    {
     "data": {
      "text/html": [
       "<div>\n",
       "<style scoped>\n",
       "    .dataframe tbody tr th:only-of-type {\n",
       "        vertical-align: middle;\n",
       "    }\n",
       "\n",
       "    .dataframe tbody tr th {\n",
       "        vertical-align: top;\n",
       "    }\n",
       "\n",
       "    .dataframe thead th {\n",
       "        text-align: right;\n",
       "    }\n",
       "</style>\n",
       "<table border=\"1\" class=\"dataframe\">\n",
       "  <thead>\n",
       "    <tr style=\"text-align: right;\">\n",
       "      <th></th>\n",
       "      <th>sample_id</th>\n",
       "      <th>protocol</th>\n",
       "      <th>donor_cellnuc</th>\n",
       "      <th>donor</th>\n",
       "      <th>region</th>\n",
       "      <th>cell_or_nuclei</th>\n",
       "      <th>cellatac_clusters</th>\n",
       "      <th>cellatac_code</th>\n",
       "      <th>dataset</th>\n",
       "      <th>barcode</th>\n",
       "      <th>oribarcode</th>\n",
       "      <th>modality</th>\n",
       "      <th>combined_id</th>\n",
       "    </tr>\n",
       "    <tr>\n",
       "      <th>combined_barcode</th>\n",
       "      <th></th>\n",
       "      <th></th>\n",
       "      <th></th>\n",
       "      <th></th>\n",
       "      <th></th>\n",
       "      <th></th>\n",
       "      <th></th>\n",
       "      <th></th>\n",
       "      <th></th>\n",
       "      <th></th>\n",
       "      <th></th>\n",
       "      <th></th>\n",
       "      <th></th>\n",
       "    </tr>\n",
       "  </thead>\n",
       "  <tbody>\n",
       "    <tr>\n",
       "      <th>HCAHeart9508627_HCAHeart9508819_AAACATGCAGCAGGTA-1</th>\n",
       "      <td>HCAHeart9508819</td>\n",
       "      <td>ATAC</td>\n",
       "      <td>D3_nuclei</td>\n",
       "      <td>D3</td>\n",
       "      <td>LV</td>\n",
       "      <td>nuclei</td>\n",
       "      <td>21</td>\n",
       "      <td>22</td>\n",
       "      <td>Multiome_1</td>\n",
       "      <td>AAACATGCAGCAGGTA-1</td>\n",
       "      <td>22-AAACATGCAGCAGGTA-1</td>\n",
       "      <td>paired</td>\n",
       "      <td>HCAHeart9508627_HCAHeart9508819</td>\n",
       "    </tr>\n",
       "    <tr>\n",
       "      <th>HCAHeart9508627_HCAHeart9508819_AAACATGCATAGCTGC-1</th>\n",
       "      <td>HCAHeart9508819</td>\n",
       "      <td>ATAC</td>\n",
       "      <td>D3_nuclei</td>\n",
       "      <td>D3</td>\n",
       "      <td>LV</td>\n",
       "      <td>nuclei</td>\n",
       "      <td>13</td>\n",
       "      <td>22</td>\n",
       "      <td>Multiome_1</td>\n",
       "      <td>AAACATGCATAGCTGC-1</td>\n",
       "      <td>22-AAACATGCATAGCTGC-1</td>\n",
       "      <td>paired</td>\n",
       "      <td>HCAHeart9508627_HCAHeart9508819</td>\n",
       "    </tr>\n",
       "    <tr>\n",
       "      <th>HCAHeart9508627_HCAHeart9508819_AAACCAACAAGGTGCA-1</th>\n",
       "      <td>HCAHeart9508819</td>\n",
       "      <td>ATAC</td>\n",
       "      <td>D3_nuclei</td>\n",
       "      <td>D3</td>\n",
       "      <td>LV</td>\n",
       "      <td>nuclei</td>\n",
       "      <td>6</td>\n",
       "      <td>22</td>\n",
       "      <td>Multiome_1</td>\n",
       "      <td>AAACCAACAAGGTGCA-1</td>\n",
       "      <td>22-AAACCAACAAGGTGCA-1</td>\n",
       "      <td>paired</td>\n",
       "      <td>HCAHeart9508627_HCAHeart9508819</td>\n",
       "    </tr>\n",
       "    <tr>\n",
       "      <th>HCAHeart9508627_HCAHeart9508819_AAACCAACACTTAACG-1</th>\n",
       "      <td>HCAHeart9508819</td>\n",
       "      <td>ATAC</td>\n",
       "      <td>D3_nuclei</td>\n",
       "      <td>D3</td>\n",
       "      <td>LV</td>\n",
       "      <td>nuclei</td>\n",
       "      <td>13</td>\n",
       "      <td>22</td>\n",
       "      <td>Multiome_1</td>\n",
       "      <td>AAACCAACACTTAACG-1</td>\n",
       "      <td>22-AAACCAACACTTAACG-1</td>\n",
       "      <td>paired</td>\n",
       "      <td>HCAHeart9508627_HCAHeart9508819</td>\n",
       "    </tr>\n",
       "    <tr>\n",
       "      <th>HCAHeart9508627_HCAHeart9508819_AAACCAACAGCCGCTA-1</th>\n",
       "      <td>HCAHeart9508819</td>\n",
       "      <td>ATAC</td>\n",
       "      <td>D3_nuclei</td>\n",
       "      <td>D3</td>\n",
       "      <td>LV</td>\n",
       "      <td>nuclei</td>\n",
       "      <td>13</td>\n",
       "      <td>22</td>\n",
       "      <td>Multiome_1</td>\n",
       "      <td>AAACCAACAGCCGCTA-1</td>\n",
       "      <td>22-AAACCAACAGCCGCTA-1</td>\n",
       "      <td>paired</td>\n",
       "      <td>HCAHeart9508627_HCAHeart9508819</td>\n",
       "    </tr>\n",
       "  </tbody>\n",
       "</table>\n",
       "</div>"
      ],
      "text/plain": [
       "                                                          sample_id protocol  \\\n",
       "combined_barcode                                                               \n",
       "HCAHeart9508627_HCAHeart9508819_AAACATGCAGCAGGTA-1  HCAHeart9508819     ATAC   \n",
       "HCAHeart9508627_HCAHeart9508819_AAACATGCATAGCTGC-1  HCAHeart9508819     ATAC   \n",
       "HCAHeart9508627_HCAHeart9508819_AAACCAACAAGGTGCA-1  HCAHeart9508819     ATAC   \n",
       "HCAHeart9508627_HCAHeart9508819_AAACCAACACTTAACG-1  HCAHeart9508819     ATAC   \n",
       "HCAHeart9508627_HCAHeart9508819_AAACCAACAGCCGCTA-1  HCAHeart9508819     ATAC   \n",
       "\n",
       "                                                   donor_cellnuc donor region  \\\n",
       "combined_barcode                                                                \n",
       "HCAHeart9508627_HCAHeart9508819_AAACATGCAGCAGGTA-1     D3_nuclei    D3     LV   \n",
       "HCAHeart9508627_HCAHeart9508819_AAACATGCATAGCTGC-1     D3_nuclei    D3     LV   \n",
       "HCAHeart9508627_HCAHeart9508819_AAACCAACAAGGTGCA-1     D3_nuclei    D3     LV   \n",
       "HCAHeart9508627_HCAHeart9508819_AAACCAACACTTAACG-1     D3_nuclei    D3     LV   \n",
       "HCAHeart9508627_HCAHeart9508819_AAACCAACAGCCGCTA-1     D3_nuclei    D3     LV   \n",
       "\n",
       "                                                   cell_or_nuclei  \\\n",
       "combined_barcode                                                    \n",
       "HCAHeart9508627_HCAHeart9508819_AAACATGCAGCAGGTA-1         nuclei   \n",
       "HCAHeart9508627_HCAHeart9508819_AAACATGCATAGCTGC-1         nuclei   \n",
       "HCAHeart9508627_HCAHeart9508819_AAACCAACAAGGTGCA-1         nuclei   \n",
       "HCAHeart9508627_HCAHeart9508819_AAACCAACACTTAACG-1         nuclei   \n",
       "HCAHeart9508627_HCAHeart9508819_AAACCAACAGCCGCTA-1         nuclei   \n",
       "\n",
       "                                                    cellatac_clusters  \\\n",
       "combined_barcode                                                        \n",
       "HCAHeart9508627_HCAHeart9508819_AAACATGCAGCAGGTA-1                 21   \n",
       "HCAHeart9508627_HCAHeart9508819_AAACATGCATAGCTGC-1                 13   \n",
       "HCAHeart9508627_HCAHeart9508819_AAACCAACAAGGTGCA-1                  6   \n",
       "HCAHeart9508627_HCAHeart9508819_AAACCAACACTTAACG-1                 13   \n",
       "HCAHeart9508627_HCAHeart9508819_AAACCAACAGCCGCTA-1                 13   \n",
       "\n",
       "                                                   cellatac_code     dataset  \\\n",
       "combined_barcode                                                               \n",
       "HCAHeart9508627_HCAHeart9508819_AAACATGCAGCAGGTA-1            22  Multiome_1   \n",
       "HCAHeart9508627_HCAHeart9508819_AAACATGCATAGCTGC-1            22  Multiome_1   \n",
       "HCAHeart9508627_HCAHeart9508819_AAACCAACAAGGTGCA-1            22  Multiome_1   \n",
       "HCAHeart9508627_HCAHeart9508819_AAACCAACACTTAACG-1            22  Multiome_1   \n",
       "HCAHeart9508627_HCAHeart9508819_AAACCAACAGCCGCTA-1            22  Multiome_1   \n",
       "\n",
       "                                                               barcode  \\\n",
       "combined_barcode                                                         \n",
       "HCAHeart9508627_HCAHeart9508819_AAACATGCAGCAGGTA-1  AAACATGCAGCAGGTA-1   \n",
       "HCAHeart9508627_HCAHeart9508819_AAACATGCATAGCTGC-1  AAACATGCATAGCTGC-1   \n",
       "HCAHeart9508627_HCAHeart9508819_AAACCAACAAGGTGCA-1  AAACCAACAAGGTGCA-1   \n",
       "HCAHeart9508627_HCAHeart9508819_AAACCAACACTTAACG-1  AAACCAACACTTAACG-1   \n",
       "HCAHeart9508627_HCAHeart9508819_AAACCAACAGCCGCTA-1  AAACCAACAGCCGCTA-1   \n",
       "\n",
       "                                                               oribarcode  \\\n",
       "combined_barcode                                                            \n",
       "HCAHeart9508627_HCAHeart9508819_AAACATGCAGCAGGTA-1  22-AAACATGCAGCAGGTA-1   \n",
       "HCAHeart9508627_HCAHeart9508819_AAACATGCATAGCTGC-1  22-AAACATGCATAGCTGC-1   \n",
       "HCAHeart9508627_HCAHeart9508819_AAACCAACAAGGTGCA-1  22-AAACCAACAAGGTGCA-1   \n",
       "HCAHeart9508627_HCAHeart9508819_AAACCAACACTTAACG-1  22-AAACCAACACTTAACG-1   \n",
       "HCAHeart9508627_HCAHeart9508819_AAACCAACAGCCGCTA-1  22-AAACCAACAGCCGCTA-1   \n",
       "\n",
       "                                                   modality  \\\n",
       "combined_barcode                                              \n",
       "HCAHeart9508627_HCAHeart9508819_AAACATGCAGCAGGTA-1   paired   \n",
       "HCAHeart9508627_HCAHeart9508819_AAACATGCATAGCTGC-1   paired   \n",
       "HCAHeart9508627_HCAHeart9508819_AAACCAACAAGGTGCA-1   paired   \n",
       "HCAHeart9508627_HCAHeart9508819_AAACCAACACTTAACG-1   paired   \n",
       "HCAHeart9508627_HCAHeart9508819_AAACCAACAGCCGCTA-1   paired   \n",
       "\n",
       "                                                                        combined_id  \n",
       "combined_barcode                                                                     \n",
       "HCAHeart9508627_HCAHeart9508819_AAACATGCAGCAGGTA-1  HCAHeart9508627_HCAHeart9508819  \n",
       "HCAHeart9508627_HCAHeart9508819_AAACATGCATAGCTGC-1  HCAHeart9508627_HCAHeart9508819  \n",
       "HCAHeart9508627_HCAHeart9508819_AAACCAACAAGGTGCA-1  HCAHeart9508627_HCAHeart9508819  \n",
       "HCAHeart9508627_HCAHeart9508819_AAACCAACACTTAACG-1  HCAHeart9508627_HCAHeart9508819  \n",
       "HCAHeart9508627_HCAHeart9508819_AAACCAACAGCCGCTA-1  HCAHeart9508627_HCAHeart9508819  "
      ]
     },
     "execution_count": 26,
     "metadata": {},
     "output_type": "execute_result"
    }
   ],
   "source": [
    "multiome_atac.obs.head()"
   ]
  },
  {
   "cell_type": "markdown",
   "id": "foreign-sound",
   "metadata": {},
   "source": [
    "**Concatenate Multiome-RNA and Multiome-ATAC**"
   ]
  },
  {
   "cell_type": "code",
   "execution_count": 27,
   "id": "amino-college",
   "metadata": {},
   "outputs": [
    {
     "data": {
      "text/plain": [
       "30638"
      ]
     },
     "execution_count": 27,
     "metadata": {},
     "output_type": "execute_result"
    }
   ],
   "source": [
    "# take intersecting barcodes between \n",
    "barcodes_inter=list(set(multiome_rna.obs_names).intersection(multiome_atac.obs_names))\n",
    "len(barcodes_inter)"
   ]
  },
  {
   "cell_type": "code",
   "execution_count": 28,
   "id": "acute-tennessee",
   "metadata": {},
   "outputs": [
    {
     "data": {
      "text/plain": [
       "True"
      ]
     },
     "execution_count": 28,
     "metadata": {},
     "output_type": "execute_result"
    }
   ],
   "source": [
    "multiome_rna=multiome_rna[barcodes_inter,:]\n",
    "multiome_atac=multiome_atac[barcodes_inter,:]\n",
    "all(multiome_rna.obs_names==multiome_atac.obs_names)"
   ]
  },
  {
   "cell_type": "code",
   "execution_count": 29,
   "id": "outdoor-aberdeen",
   "metadata": {},
   "outputs": [
    {
     "data": {
      "text/plain": [
       "AnnData object with n_obs × n_vars = 30638 × 134542\n",
       "    obs: 'latent_RT_efficiency', 'latent_cell_probability', 'latent_scale', 'sample_id', 'Foetal_or_Adult', 'Provider', 'Modality', 'Mapping_ver', 'Reference_genome', 'CellBender_out', 'n_cells', 'multiplet_rate', 'batch', 'n_counts', 'n_genes', 'percent_mito', 'percent_ribo', 'scrublet_score', 'scrublet_leiden', 'cluster_scrublet_score', 'doublet_pval', 'doublet_bh_pval', 'combined_id', 'protocol', 'modality', 'donor_cellnuc', 'donor', 'region', 'cell_or_nuclei', 'Chemistry', 'n_nuclei', 'barcode', 'cellatac_clusters', 'cellatac_code'\n",
       "    var: 'modality', 'genes-0-0', 'peak_width', 'exon', 'gene', 'promoter', 'annotation', 'gene_name', 'gene_id', 'tss_distance', 'ENCODE_blacklist'"
      ]
     },
     "execution_count": 29,
     "metadata": {},
     "output_type": "execute_result"
    }
   ],
   "source": [
    "# multiome_rna.obs[['Combined_ID','rna_sangerID','barcode','donor', \n",
    "#                   'age_group','region','cell_or_nuclei', 'gender', \n",
    "#                   'type', 'cell_states','modality','donor_cellnuc']]\n",
    "\n",
    "# adata_paired=anndata.AnnData(\n",
    "#     X=scipy.sparse.hstack([multiome_rna.X,multiome_atac.X]).tocsr(), # concatenate sparse matrix and convert to Compressed Sparse Row format\n",
    "#     obs=pd.concat([multiome_rna.obs, \\\n",
    "#                    multiome_atac.obs[['atac_sangerID','cellatac_clusters','cellatac_code',]]\n",
    "#                   ],axis=1),\n",
    "#     var=pd.concat([multiome_rna.var[['modality','genes-0-0']], \\\n",
    "#                    multiome_atac.var[['modality','peak_width', 'exon', 'gene', 'promoter', 'annotation', 'gene_name','gene_id', 'tss_distance', 'ENCODE_blacklist']]\n",
    "#                   ],axis=0)\n",
    "# )\n",
    "\n",
    "\n",
    "adata_paired=anndata.AnnData(\n",
    "    X=scipy.sparse.hstack([multiome_rna.X,multiome_atac.X]).tocsr(), # concatenate sparse matrix and convert to Compressed Sparse Row format\n",
    "    obs=pd.concat([multiome_rna.obs, \\\n",
    "                   multiome_atac.obs[['cellatac_clusters','cellatac_code',]]\n",
    "                  ],axis=1),\n",
    "    var=pd.concat([multiome_rna.var[['modality','genes-0-0']], \\\n",
    "                   multiome_atac.var[['modality','peak_width', 'exon', 'gene', 'promoter', 'annotation', 'gene_name','gene_id', 'tss_distance', 'ENCODE_blacklist']]\n",
    "                  ],axis=0)\n",
    ")\n",
    "\n",
    "\n",
    "adata_paired"
   ]
  },
  {
   "cell_type": "code",
   "execution_count": 30,
   "id": "b04474a8",
   "metadata": {},
   "outputs": [
    {
     "data": {
      "text/plain": [
       "0"
      ]
     },
     "execution_count": 30,
     "metadata": {},
     "output_type": "execute_result"
    }
   ],
   "source": [
    "adata_paired.obs.sample_id.isna().sum()"
   ]
  },
  {
   "cell_type": "raw",
   "id": "4a8a996b",
   "metadata": {},
   "source": [
    "# downsize adata_paired per 'cell_states'\n",
    "adata_paired=downsize_cell(adata_paired,'cell_states',n_down=200, seed=123)\n",
    "adata_paired.var=adata_paired.var[['modality']].copy()\n",
    "adata_paired"
   ]
  },
  {
   "cell_type": "code",
   "execution_count": 31,
   "id": "1253d4d5",
   "metadata": {},
   "outputs": [],
   "source": [
    "directory = path_adata + 'MultiVI'\n",
    "if not os.path.exists(directory):\n",
    "    os.makedirs(directory)"
   ]
  },
  {
   "cell_type": "code",
   "execution_count": 32,
   "id": "51221807",
   "metadata": {},
   "outputs": [],
   "source": [
    "adata_paired.obs.drop(['CellBender_out'], axis=1, inplace=True)"
   ]
  },
  {
   "cell_type": "code",
   "execution_count": 33,
   "id": "exotic-fiction",
   "metadata": {},
   "outputs": [
    {
     "name": "stderr",
     "output_type": "stream",
     "text": [
      "/opt/conda/envs/multiVI/lib/python3.8/site-packages/anndata/_core/anndata.py:1220: FutureWarning: The `inplace` parameter in pandas.Categorical.reorder_categories is deprecated and will be removed in a future version. Removing unused categories will always return a new Categorical object.\n",
      "  c.reorder_categories(natsorted(c.categories), inplace=True)\n",
      "... storing 'sample_id' as categorical\n",
      "/opt/conda/envs/multiVI/lib/python3.8/site-packages/anndata/_core/anndata.py:1220: FutureWarning: The `inplace` parameter in pandas.Categorical.reorder_categories is deprecated and will be removed in a future version. Removing unused categories will always return a new Categorical object.\n",
      "  c.reorder_categories(natsorted(c.categories), inplace=True)\n",
      "... storing 'Provider' as categorical\n",
      "/opt/conda/envs/multiVI/lib/python3.8/site-packages/anndata/_core/anndata.py:1220: FutureWarning: The `inplace` parameter in pandas.Categorical.reorder_categories is deprecated and will be removed in a future version. Removing unused categories will always return a new Categorical object.\n",
      "  c.reorder_categories(natsorted(c.categories), inplace=True)\n",
      "... storing 'Modality' as categorical\n",
      "/opt/conda/envs/multiVI/lib/python3.8/site-packages/anndata/_core/anndata.py:1220: FutureWarning: The `inplace` parameter in pandas.Categorical.reorder_categories is deprecated and will be removed in a future version. Removing unused categories will always return a new Categorical object.\n",
      "  c.reorder_categories(natsorted(c.categories), inplace=True)\n",
      "... storing 'Mapping_ver' as categorical\n",
      "/opt/conda/envs/multiVI/lib/python3.8/site-packages/anndata/_core/anndata.py:1220: FutureWarning: The `inplace` parameter in pandas.Categorical.reorder_categories is deprecated and will be removed in a future version. Removing unused categories will always return a new Categorical object.\n",
      "  c.reorder_categories(natsorted(c.categories), inplace=True)\n",
      "... storing 'Reference_genome' as categorical\n",
      "/opt/conda/envs/multiVI/lib/python3.8/site-packages/anndata/_core/anndata.py:1220: FutureWarning: The `inplace` parameter in pandas.Categorical.reorder_categories is deprecated and will be removed in a future version. Removing unused categories will always return a new Categorical object.\n",
      "  c.reorder_categories(natsorted(c.categories), inplace=True)\n",
      "... storing 'scrublet_leiden' as categorical\n",
      "/opt/conda/envs/multiVI/lib/python3.8/site-packages/anndata/_core/anndata.py:1220: FutureWarning: The `inplace` parameter in pandas.Categorical.reorder_categories is deprecated and will be removed in a future version. Removing unused categories will always return a new Categorical object.\n",
      "  c.reorder_categories(natsorted(c.categories), inplace=True)\n",
      "... storing 'combined_id' as categorical\n",
      "/opt/conda/envs/multiVI/lib/python3.8/site-packages/anndata/_core/anndata.py:1220: FutureWarning: The `inplace` parameter in pandas.Categorical.reorder_categories is deprecated and will be removed in a future version. Removing unused categories will always return a new Categorical object.\n",
      "  c.reorder_categories(natsorted(c.categories), inplace=True)\n",
      "... storing 'protocol' as categorical\n",
      "/opt/conda/envs/multiVI/lib/python3.8/site-packages/anndata/_core/anndata.py:1220: FutureWarning: The `inplace` parameter in pandas.Categorical.reorder_categories is deprecated and will be removed in a future version. Removing unused categories will always return a new Categorical object.\n",
      "  c.reorder_categories(natsorted(c.categories), inplace=True)\n",
      "... storing 'modality' as categorical\n",
      "/opt/conda/envs/multiVI/lib/python3.8/site-packages/anndata/_core/anndata.py:1220: FutureWarning: The `inplace` parameter in pandas.Categorical.reorder_categories is deprecated and will be removed in a future version. Removing unused categories will always return a new Categorical object.\n",
      "  c.reorder_categories(natsorted(c.categories), inplace=True)\n",
      "... storing 'donor_cellnuc' as categorical\n",
      "/opt/conda/envs/multiVI/lib/python3.8/site-packages/anndata/_core/anndata.py:1220: FutureWarning: The `inplace` parameter in pandas.Categorical.reorder_categories is deprecated and will be removed in a future version. Removing unused categories will always return a new Categorical object.\n",
      "  c.reorder_categories(natsorted(c.categories), inplace=True)\n",
      "... storing 'donor' as categorical\n",
      "/opt/conda/envs/multiVI/lib/python3.8/site-packages/anndata/_core/anndata.py:1220: FutureWarning: The `inplace` parameter in pandas.Categorical.reorder_categories is deprecated and will be removed in a future version. Removing unused categories will always return a new Categorical object.\n",
      "  c.reorder_categories(natsorted(c.categories), inplace=True)\n",
      "... storing 'region' as categorical\n",
      "/opt/conda/envs/multiVI/lib/python3.8/site-packages/anndata/_core/anndata.py:1220: FutureWarning: The `inplace` parameter in pandas.Categorical.reorder_categories is deprecated and will be removed in a future version. Removing unused categories will always return a new Categorical object.\n",
      "  c.reorder_categories(natsorted(c.categories), inplace=True)\n",
      "... storing 'cell_or_nuclei' as categorical\n",
      "/opt/conda/envs/multiVI/lib/python3.8/site-packages/anndata/_core/anndata.py:1220: FutureWarning: The `inplace` parameter in pandas.Categorical.reorder_categories is deprecated and will be removed in a future version. Removing unused categories will always return a new Categorical object.\n",
      "  c.reorder_categories(natsorted(c.categories), inplace=True)\n",
      "... storing 'barcode' as categorical\n",
      "/opt/conda/envs/multiVI/lib/python3.8/site-packages/anndata/_core/anndata.py:1220: FutureWarning: The `inplace` parameter in pandas.Categorical.reorder_categories is deprecated and will be removed in a future version. Removing unused categories will always return a new Categorical object.\n",
      "  c.reorder_categories(natsorted(c.categories), inplace=True)\n",
      "... storing 'modality' as categorical\n",
      "/opt/conda/envs/multiVI/lib/python3.8/site-packages/anndata/_core/anndata.py:1220: FutureWarning: The `inplace` parameter in pandas.Categorical.reorder_categories is deprecated and will be removed in a future version. Removing unused categories will always return a new Categorical object.\n",
      "  c.reorder_categories(natsorted(c.categories), inplace=True)\n",
      "... storing 'genes-0-0' as categorical\n"
     ]
    }
   ],
   "source": [
    "# save\n",
    "adata_paired.write(directory + '/adata_paired.h5ad')"
   ]
  },
  {
   "cell_type": "code",
   "execution_count": 34,
   "id": "8c51bc2d",
   "metadata": {},
   "outputs": [
    {
     "data": {
      "text/plain": [
       "expression    618913\n",
       "paired         69620\n",
       "Name: modality, dtype: int64"
      ]
     },
     "execution_count": 34,
     "metadata": {},
     "output_type": "execute_result"
    }
   ],
   "source": [
    "rna.obs['modality'].value_counts()"
   ]
  },
  {
   "cell_type": "code",
   "execution_count": 35,
   "id": "707f73f7",
   "metadata": {},
   "outputs": [],
   "source": [
    "adata_rna=rna[rna.obs['modality']=='expression',:]"
   ]
  },
  {
   "cell_type": "code",
   "execution_count": 36,
   "id": "7a73ebfe",
   "metadata": {},
   "outputs": [
    {
     "data": {
      "text/plain": [
       "expression    618913\n",
       "Name: modality, dtype: int64"
      ]
     },
     "execution_count": 36,
     "metadata": {},
     "output_type": "execute_result"
    }
   ],
   "source": [
    "adata_rna.obs['modality'].value_counts()"
   ]
  },
  {
   "cell_type": "code",
   "execution_count": 37,
   "id": "6d1e3ef4",
   "metadata": {},
   "outputs": [
    {
     "data": {
      "text/plain": [
       "View of AnnData object with n_obs × n_vars = 618913 × 31915\n",
       "    obs: 'latent_RT_efficiency', 'latent_cell_probability', 'latent_scale', 'sample_id', 'Foetal_or_Adult', 'Provider', 'Modality', 'Mapping_ver', 'Reference_genome', 'CellBender_out', 'n_cells', 'multiplet_rate', 'batch', 'n_counts', 'n_genes', 'percent_mito', 'percent_ribo', 'scrublet_score', 'scrublet_leiden', 'cluster_scrublet_score', 'doublet_pval', 'doublet_bh_pval', 'combined_id', 'protocol', 'modality', 'donor_cellnuc', 'donor', 'region', 'cell_or_nuclei', 'Chemistry', 'n_nuclei'\n",
       "    var: 'ambient_expression-0-0', 'genes-0-0', 'ambient_expression-1-0', 'feature_type-1-0', 'id-1-0', 'ambient_expression-10-0', 'feature_type-10-0', 'id-10-0', 'ambient_expression-11-0', 'feature_type-11-0', 'id-11-0', 'ambient_expression-12-0', 'feature_type-12-0', 'id-12-0', 'ambient_expression-13-0', 'feature_type-13-0', 'id-13-0', 'ambient_expression-14-0', 'feature_type-14-0', 'id-14-0', 'ambient_expression-15-0', 'feature_type-15-0', 'id-15-0', 'ambient_expression-16-0', 'feature_type-16-0', 'id-16-0', 'ambient_expression-17-0', 'feature_type-17-0', 'id-17-0', 'ambient_expression-18-0', 'feature_type-18-0', 'id-18-0', 'ambient_expression-19-0', 'feature_type-19-0', 'id-19-0', 'ambient_expression-2-0', 'feature_type-2-0', 'id-2-0', 'ambient_expression-20-0', 'feature_type-20-0', 'id-20-0', 'ambient_expression-21-0', 'feature_type-21-0', 'id-21-0', 'ambient_expression-22-0', 'feature_type-22-0', 'id-22-0', 'ambient_expression-23-0', 'feature_type-23-0', 'id-23-0', 'ambient_expression-24-0', 'genes-24-0', 'ambient_expression-25-0', 'genes-25-0', 'ambient_expression-26-0', 'genes-26-0', 'ambient_expression-27-0', 'genes-27-0', 'ambient_expression-28-0', 'genes-28-0', 'ambient_expression-29-0', 'genes-29-0', 'ambient_expression-3-0', 'feature_type-3-0', 'id-3-0', 'ambient_expression-30-0', 'genes-30-0', 'ambient_expression-31-0', 'genes-31-0', 'ambient_expression-32-0', 'genes-32-0', 'ambient_expression-33-0', 'genes-33-0', 'ambient_expression-34-0', 'genes-34-0', 'ambient_expression-35-0', 'genes-35-0', 'ambient_expression-36-0', 'feature_type-36-0', 'id-36-0', 'ambient_expression-37-0', 'feature_type-37-0', 'id-37-0', 'ambient_expression-38-0', 'feature_type-38-0', 'id-38-0', 'ambient_expression-39-0', 'feature_type-39-0', 'id-39-0', 'ambient_expression-4-0', 'feature_type-4-0', 'id-4-0', 'ambient_expression-40-0', 'feature_type-40-0', 'id-40-0', 'ambient_expression-41-0', 'feature_type-41-0', 'id-41-0', 'ambient_expression-42-0', 'genes-42-0', 'ambient_expression-43-0', 'genes-43-0', 'ambient_expression-44-0', 'genes-44-0', 'ambient_expression-45-0', 'genes-45-0', 'ambient_expression-46-0', 'genes-46-0', 'ambient_expression-47-0', 'genes-47-0', 'ambient_expression-48-0', 'genes-48-0', 'ambient_expression-49-0', 'genes-49-0', 'ambient_expression-5-0', 'feature_type-5-0', 'id-5-0', 'ambient_expression-50-0', 'genes-50-0', 'ambient_expression-51-0', 'genes-51-0', 'ambient_expression-52-0', 'genes-52-0', 'ambient_expression-53-0', 'genes-53-0', 'ambient_expression-6-0', 'feature_type-6-0', 'id-6-0', 'ambient_expression-7-0', 'feature_type-7-0', 'id-7-0', 'ambient_expression-8-0', 'feature_type-8-0', 'id-8-0', 'ambient_expression-9-0', 'feature_type-9-0', 'id-9-0', 'ambient_expression-0-1', 'ambient_expression-1-1', 'feature_type-1-1', 'id-1-1', 'ambient_expression-10-1', 'feature_type-10-1', 'id-10-1', 'ambient_expression-11-1', 'feature_type-11-1', 'id-11-1', 'ambient_expression-12-1', 'feature_type-12-1', 'id-12-1', 'ambient_expression-13-1', 'feature_type-13-1', 'id-13-1', 'ambient_expression-14-1', 'feature_type-14-1', 'id-14-1', 'ambient_expression-15-1', 'feature_type-15-1', 'id-15-1', 'ambient_expression-16-1', 'feature_type-16-1', 'id-16-1', 'ambient_expression-17-1', 'feature_type-17-1', 'id-17-1', 'ambient_expression-18-1', 'feature_type-18-1', 'id-18-1', 'ambient_expression-19-1', 'feature_type-19-1', 'id-19-1', 'ambient_expression-2-1', 'feature_type-2-1', 'id-2-1', 'ambient_expression-20-1', 'feature_type-20-1', 'id-20-1', 'ambient_expression-21-1', 'ambient_expression-22-1', 'ambient_expression-23-1', 'ambient_expression-24-1', 'genes-24-1', 'ambient_expression-25-1', 'genes-25-1', 'ambient_expression-26-1', 'genes-26-1', 'ambient_expression-27-1', 'genes-27-1', 'ambient_expression-28-1', 'genes-28-1', 'ambient_expression-29-1', 'genes-29-1', 'ambient_expression-3-1', 'feature_type-3-1', 'id-3-1', 'ambient_expression-30-1', 'genes-30-1', 'ambient_expression-31-1', 'ambient_expression-32-1', 'ambient_expression-33-1', 'ambient_expression-34-1', 'ambient_expression-35-1', 'ambient_expression-36-1', 'feature_type-36-1', 'id-36-1', 'ambient_expression-37-1', 'feature_type-37-1', 'id-37-1', 'ambient_expression-38-1', 'feature_type-38-1', 'id-38-1', 'ambient_expression-39-1', 'feature_type-39-1', 'id-39-1', 'ambient_expression-4-1', 'feature_type-4-1', 'id-4-1', 'ambient_expression-40-1', 'feature_type-40-1', 'id-40-1', 'ambient_expression-41-1', 'feature_type-41-1', 'id-41-1', 'ambient_expression-42-1', 'ambient_expression-43-1', 'ambient_expression-44-1', 'ambient_expression-45-1', 'ambient_expression-46-1', 'ambient_expression-47-1', 'genes-47-1', 'ambient_expression-48-1', 'genes-48-1', 'ambient_expression-49-1', 'genes-49-1', 'ambient_expression-5-1', 'feature_type-5-1', 'id-5-1', 'ambient_expression-50-1', 'genes-50-1', 'ambient_expression-51-1', 'genes-51-1', 'ambient_expression-52-1', 'genes-52-1', 'ambient_expression-53-1', 'genes-53-1', 'ambient_expression-6-1', 'feature_type-6-1', 'id-6-1', 'ambient_expression-7-1', 'feature_type-7-1', 'id-7-1', 'ambient_expression-8-1', 'feature_type-8-1', 'id-8-1', 'ambient_expression-9-1', 'feature_type-9-1', 'id-9-1', 'feature_type-0-1', 'id-0-1', 'genes-21-1', 'genes-22-1', 'genes-23-1', 'feature_type-31-1', 'id-31-1', 'feature_type-32-1', 'id-32-1', 'feature_type-33-1', 'id-33-1', 'feature_type-34-1', 'id-34-1', 'feature_type-35-1', 'id-35-1', 'feature_type-42-1', 'id-42-1', 'feature_type-43-1', 'id-43-1', 'feature_type-44-1', 'id-44-1', 'feature_type-45-1', 'id-45-1', 'feature_type-46-1', 'id-46-1', 'ambient_expression-54-1', 'genes-54-1', 'ambient_expression-55-1', 'genes-55-1', 'ambient_expression-56-1', 'genes-56-1', 'ambient_expression-57-1', 'genes-57-1', 'ambient_expression-58-1', 'genes-58-1', 'ambient_expression-59-1', 'genes-59-1', 'ambient_expression-60-1', 'genes-60-1', 'ambient_expression-61-1', 'genes-61-1', 'ambient_expression-62-1', 'genes-62-1', 'ambient_expression-63-1', 'genes-63-1', 'ambient_expression-64-1', 'genes-64-1', 'ambient_expression-65-1', 'genes-65-1', 'ambient_expression-66-1', 'genes-66-1', 'ambient_expression-67-1', 'genes-67-1', 'ambient_expression-68-1', 'genes-68-1', 'ambient_expression-69-1', 'genes-69-1', 'ambient_expression-70-1', 'genes-70-1', 'ambient_expression-71-1', 'genes-71-1', 'ambient_expression-72-1', 'genes-72-1', 'ambient_expression-73-1', 'genes-73-1', 'ambient_expression-74-1', 'genes-74-1', 'ambient_expression-75-1', 'genes-75-1', 'ambient_expression-76-1', 'genes-76-1', 'ambient_expression-77-1', 'genes-77-1', 'ambient_expression-78-1', 'genes-78-1', 'ambient_expression-79-1', 'genes-79-1', 'ambient_expression-80-1', 'genes-80-1', 'ambient_expression-81-1', 'genes-81-1', 'ambient_expression-82-1', 'genes-82-1', 'ambient_expression-83-1', 'genes-83-1', 'ambient_expression-84-1', 'genes-84-1', 'ambient_expression-85-1', 'genes-85-1', 'ambient_expression-86-1', 'genes-86-1', 'ambient_expression-87-1', 'genes-87-1', 'ambient_expression-88-1', 'genes-88-1', 'ambient_expression-89-1', 'genes-89-1', 'ambient_expression-90-1', 'genes-90-1', 'ambient_expression-91-1', 'genes-91-1', 'ambient_expression-92-1', 'genes-92-1', 'ambient_expression-93-1', 'genes-93-1', 'ambient_expression-0-2', 'ambient_expression-1-2', 'ambient_expression-2-2', 'ambient_expression-3-2', 'ambient_expression-4-2', 'ambient_expression-5-2', 'ambient_expression-6-2', 'ambient_expression-7-2', 'ambient_expression-8-2', 'feature_type-2', 'id-2', 'modality'\n",
       "    obsm: 'latent_gene_encoding'"
      ]
     },
     "execution_count": 37,
     "metadata": {},
     "output_type": "execute_result"
    }
   ],
   "source": [
    "adata_rna"
   ]
  },
  {
   "cell_type": "code",
   "execution_count": 38,
   "id": "6a77b816",
   "metadata": {},
   "outputs": [
    {
     "data": {
      "text/plain": [
       "0"
      ]
     },
     "execution_count": 38,
     "metadata": {},
     "output_type": "execute_result"
    }
   ],
   "source": [
    "adata_rna.obs.sample_id.isna().sum()"
   ]
  },
  {
   "cell_type": "code",
   "execution_count": 39,
   "id": "98a8d8ea",
   "metadata": {},
   "outputs": [
    {
     "data": {
      "text/plain": [
       "618913"
      ]
     },
     "execution_count": 39,
     "metadata": {},
     "output_type": "execute_result"
    }
   ],
   "source": [
    "adata_rna.obs.combined_id.isna().sum()"
   ]
  },
  {
   "cell_type": "code",
   "execution_count": 40,
   "id": "e275c4c5",
   "metadata": {},
   "outputs": [],
   "source": [
    "adata_rna.obs.drop(columns=['combined_id'], inplace=True)"
   ]
  },
  {
   "cell_type": "code",
   "execution_count": 41,
   "id": "900204a6",
   "metadata": {
    "scrolled": true
   },
   "outputs": [
    {
     "name": "stderr",
     "output_type": "stream",
     "text": [
      "/opt/conda/envs/multiVI/lib/python3.8/site-packages/anndata/_core/anndata.py:1220: FutureWarning: The `inplace` parameter in pandas.Categorical.reorder_categories is deprecated and will be removed in a future version. Removing unused categories will always return a new Categorical object.\n",
      "  c.reorder_categories(natsorted(c.categories), inplace=True)\n",
      "... storing 'sample_id' as categorical\n",
      "/opt/conda/envs/multiVI/lib/python3.8/site-packages/anndata/_core/anndata.py:1220: FutureWarning: The `inplace` parameter in pandas.Categorical.reorder_categories is deprecated and will be removed in a future version. Removing unused categories will always return a new Categorical object.\n",
      "  c.reorder_categories(natsorted(c.categories), inplace=True)\n",
      "... storing 'Provider' as categorical\n",
      "/opt/conda/envs/multiVI/lib/python3.8/site-packages/anndata/_core/anndata.py:1220: FutureWarning: The `inplace` parameter in pandas.Categorical.reorder_categories is deprecated and will be removed in a future version. Removing unused categories will always return a new Categorical object.\n",
      "  c.reorder_categories(natsorted(c.categories), inplace=True)\n",
      "... storing 'Modality' as categorical\n",
      "/opt/conda/envs/multiVI/lib/python3.8/site-packages/anndata/_core/anndata.py:1220: FutureWarning: The `inplace` parameter in pandas.Categorical.reorder_categories is deprecated and will be removed in a future version. Removing unused categories will always return a new Categorical object.\n",
      "  c.reorder_categories(natsorted(c.categories), inplace=True)\n",
      "... storing 'Mapping_ver' as categorical\n",
      "/opt/conda/envs/multiVI/lib/python3.8/site-packages/anndata/_core/anndata.py:1220: FutureWarning: The `inplace` parameter in pandas.Categorical.reorder_categories is deprecated and will be removed in a future version. Removing unused categories will always return a new Categorical object.\n",
      "  c.reorder_categories(natsorted(c.categories), inplace=True)\n",
      "... storing 'Reference_genome' as categorical\n",
      "/opt/conda/envs/multiVI/lib/python3.8/site-packages/anndata/_core/anndata.py:1220: FutureWarning: The `inplace` parameter in pandas.Categorical.reorder_categories is deprecated and will be removed in a future version. Removing unused categories will always return a new Categorical object.\n",
      "  c.reorder_categories(natsorted(c.categories), inplace=True)\n",
      "... storing 'CellBender_out' as categorical\n",
      "/opt/conda/envs/multiVI/lib/python3.8/site-packages/anndata/_core/anndata.py:1220: FutureWarning: The `inplace` parameter in pandas.Categorical.reorder_categories is deprecated and will be removed in a future version. Removing unused categories will always return a new Categorical object.\n",
      "  c.reorder_categories(natsorted(c.categories), inplace=True)\n",
      "... storing 'scrublet_leiden' as categorical\n",
      "/opt/conda/envs/multiVI/lib/python3.8/site-packages/anndata/_core/anndata.py:1220: FutureWarning: The `inplace` parameter in pandas.Categorical.reorder_categories is deprecated and will be removed in a future version. Removing unused categories will always return a new Categorical object.\n",
      "  c.reorder_categories(natsorted(c.categories), inplace=True)\n",
      "... storing 'protocol' as categorical\n",
      "/opt/conda/envs/multiVI/lib/python3.8/site-packages/anndata/_core/anndata.py:1220: FutureWarning: The `inplace` parameter in pandas.Categorical.reorder_categories is deprecated and will be removed in a future version. Removing unused categories will always return a new Categorical object.\n",
      "  c.reorder_categories(natsorted(c.categories), inplace=True)\n",
      "... storing 'modality' as categorical\n",
      "/opt/conda/envs/multiVI/lib/python3.8/site-packages/anndata/_core/anndata.py:1220: FutureWarning: The `inplace` parameter in pandas.Categorical.reorder_categories is deprecated and will be removed in a future version. Removing unused categories will always return a new Categorical object.\n",
      "  c.reorder_categories(natsorted(c.categories), inplace=True)\n",
      "... storing 'donor_cellnuc' as categorical\n",
      "/opt/conda/envs/multiVI/lib/python3.8/site-packages/anndata/_core/anndata.py:1220: FutureWarning: The `inplace` parameter in pandas.Categorical.reorder_categories is deprecated and will be removed in a future version. Removing unused categories will always return a new Categorical object.\n",
      "  c.reorder_categories(natsorted(c.categories), inplace=True)\n",
      "... storing 'donor' as categorical\n",
      "/opt/conda/envs/multiVI/lib/python3.8/site-packages/anndata/_core/anndata.py:1220: FutureWarning: The `inplace` parameter in pandas.Categorical.reorder_categories is deprecated and will be removed in a future version. Removing unused categories will always return a new Categorical object.\n",
      "  c.reorder_categories(natsorted(c.categories), inplace=True)\n",
      "... storing 'region' as categorical\n",
      "/opt/conda/envs/multiVI/lib/python3.8/site-packages/anndata/_core/anndata.py:1220: FutureWarning: The `inplace` parameter in pandas.Categorical.reorder_categories is deprecated and will be removed in a future version. Removing unused categories will always return a new Categorical object.\n",
      "  c.reorder_categories(natsorted(c.categories), inplace=True)\n",
      "... storing 'cell_or_nuclei' as categorical\n",
      "/opt/conda/envs/multiVI/lib/python3.8/site-packages/anndata/_core/anndata.py:1220: FutureWarning: The `inplace` parameter in pandas.Categorical.reorder_categories is deprecated and will be removed in a future version. Removing unused categories will always return a new Categorical object.\n",
      "  c.reorder_categories(natsorted(c.categories), inplace=True)\n",
      "... storing 'modality' as categorical\n"
     ]
    }
   ],
   "source": [
    "adata_rna.write(directory + '/adata_scnrna.h5ad')"
   ]
  },
  {
   "cell_type": "code",
   "execution_count": 42,
   "id": "60ea3da4",
   "metadata": {},
   "outputs": [
    {
     "data": {
      "text/plain": [
       "accessibility    48098\n",
       "paired           31110\n",
       "Name: modality, dtype: int64"
      ]
     },
     "execution_count": 42,
     "metadata": {},
     "output_type": "execute_result"
    }
   ],
   "source": [
    "atac.obs['modality'].value_counts()"
   ]
  },
  {
   "cell_type": "code",
   "execution_count": 43,
   "id": "96d07ccd",
   "metadata": {},
   "outputs": [],
   "source": [
    "adata_atac = atac[atac.obs['modality']=='accessibility']"
   ]
  },
  {
   "cell_type": "code",
   "execution_count": 44,
   "id": "e7fe85c2",
   "metadata": {},
   "outputs": [
    {
     "name": "stderr",
     "output_type": "stream",
     "text": [
      "/opt/conda/envs/multiVI/lib/python3.8/site-packages/anndata/_core/anndata.py:1220: FutureWarning: The `inplace` parameter in pandas.Categorical.reorder_categories is deprecated and will be removed in a future version. Removing unused categories will always return a new Categorical object.\n",
      "  c.reorder_categories(natsorted(c.categories), inplace=True)\n",
      "/opt/conda/envs/multiVI/lib/python3.8/site-packages/anndata/_core/anndata.py:1228: ImplicitModificationWarning: Initializing view as actual.\n",
      "  warnings.warn(\n",
      "Trying to set attribute `.obs` of view, copying.\n",
      "... storing 'protocol' as categorical\n",
      "/opt/conda/envs/multiVI/lib/python3.8/site-packages/anndata/_core/anndata.py:1220: FutureWarning: The `inplace` parameter in pandas.Categorical.reorder_categories is deprecated and will be removed in a future version. Removing unused categories will always return a new Categorical object.\n",
      "  c.reorder_categories(natsorted(c.categories), inplace=True)\n",
      "Trying to set attribute `.obs` of view, copying.\n",
      "... storing 'donor_cellnuc' as categorical\n",
      "/opt/conda/envs/multiVI/lib/python3.8/site-packages/anndata/_core/anndata.py:1220: FutureWarning: The `inplace` parameter in pandas.Categorical.reorder_categories is deprecated and will be removed in a future version. Removing unused categories will always return a new Categorical object.\n",
      "  c.reorder_categories(natsorted(c.categories), inplace=True)\n",
      "Trying to set attribute `.obs` of view, copying.\n",
      "... storing 'cell_or_nuclei' as categorical\n",
      "/opt/conda/envs/multiVI/lib/python3.8/site-packages/anndata/_core/anndata.py:1220: FutureWarning: The `inplace` parameter in pandas.Categorical.reorder_categories is deprecated and will be removed in a future version. Removing unused categories will always return a new Categorical object.\n",
      "  c.reorder_categories(natsorted(c.categories), inplace=True)\n",
      "Trying to set attribute `.obs` of view, copying.\n",
      "... storing 'modality' as categorical\n",
      "/opt/conda/envs/multiVI/lib/python3.8/site-packages/anndata/_core/anndata.py:1220: FutureWarning: The `inplace` parameter in pandas.Categorical.reorder_categories is deprecated and will be removed in a future version. Removing unused categories will always return a new Categorical object.\n",
      "  c.reorder_categories(natsorted(c.categories), inplace=True)\n",
      "Trying to set attribute `.var` of view, copying.\n",
      "... storing 'modality' as categorical\n"
     ]
    }
   ],
   "source": [
    "adata_atac.write(directory + '/adata_atac.h5ad')"
   ]
  }
 ],
 "metadata": {
  "kernelspec": {
   "display_name": "multiVI container",
   "language": "python",
   "name": "multivi"
  },
  "language_info": {
   "codemirror_mode": {
    "name": "ipython",
    "version": 3
   },
   "file_extension": ".py",
   "mimetype": "text/x-python",
   "name": "python",
   "nbconvert_exporter": "python",
   "pygments_lexer": "ipython3",
   "version": "3.8.10"
  }
 },
 "nbformat": 4,
 "nbformat_minor": 5
}
