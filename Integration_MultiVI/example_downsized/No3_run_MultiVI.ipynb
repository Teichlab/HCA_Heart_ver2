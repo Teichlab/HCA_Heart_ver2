{
 "cells": [
  {
   "cell_type": "markdown",
   "metadata": {
    "id": "tpPBZLPq_x33"
   },
   "source": [
    "ref: https://docs.scvi-tools.org/en/stable/user_guide/notebooks/MultiVI_tutorial.html"
   ]
  },
  {
   "cell_type": "markdown",
   "metadata": {
    "id": "Bo3ACEE1ALEw"
   },
   "source": [
    "## Import modules"
   ]
  },
  {
   "cell_type": "code",
   "execution_count": null,
   "metadata": {
    "colab": {
     "base_uri": "https://localhost:8080/"
    },
    "executionInfo": {
     "elapsed": 8522,
     "status": "ok",
     "timestamp": 1630962117458,
     "user": {
      "displayName": "Kazumasa Kanemaru",
      "photoUrl": "https://lh3.googleusercontent.com/a/default-user=s64",
      "userId": "09579449744665019665"
     },
     "user_tz": -60
    },
    "id": "Kz5pURyJAG_L",
    "outputId": "41124ca8-a427-4e11-f272-e3a2ed47e941"
   },
   "outputs": [],
   "source": [
    "import scvi\n",
    "import anndata\n",
    "import scipy\n",
    "import numpy as np\n",
    "import pandas as pd\n",
    "import scanpy as sc\n",
    "import matplotlib.pyplot as plt\n",
    "\n",
    "scvi.settings.seed = 420"
   ]
  },
  {
   "cell_type": "code",
   "execution_count": null,
   "metadata": {
    "colab": {
     "base_uri": "https://localhost:8080/",
     "height": 34
    },
    "executionInfo": {
     "elapsed": 261,
     "status": "ok",
     "timestamp": 1630962117716,
     "user": {
      "displayName": "Kazumasa Kanemaru",
      "photoUrl": "https://lh3.googleusercontent.com/a/default-user=s64",
      "userId": "09579449744665019665"
     },
     "user_tz": -60
    },
    "id": "rIlaJnwlASLg",
    "outputId": "4622ab27-d21d-4673-8ac0-335f7f8f3027"
   },
   "outputs": [],
   "source": [
    "import session_info\n",
    "session_info.show()"
   ]
  },
  {
   "cell_type": "markdown",
   "metadata": {
    "id": "JMpCCPgZAeiO"
   },
   "source": [
    "## Read in data"
   ]
  },
  {
   "cell_type": "code",
   "execution_count": null,
   "metadata": {
    "colab": {
     "base_uri": "https://localhost:8080/"
    },
    "executionInfo": {
     "elapsed": 9605,
     "status": "ok",
     "timestamp": 1630962132203,
     "user": {
      "displayName": "Kazumasa Kanemaru",
      "photoUrl": "https://lh3.googleusercontent.com/a/default-user=s64",
      "userId": "09579449744665019665"
     },
     "user_tz": -60
    },
    "id": "f-B_7HJ9Aa5u",
    "outputId": "fe03cc36-3dfc-4fe1-ba8e-c13568c40856"
   },
   "outputs": [],
   "source": [
    "adata_mvi=sc.read_h5ad('/nfs/team205/kk18/data/6region_v2/MultiVI/adata_mvi_downsized.h5ad')\n",
    "print(adata_mvi.X.data[:10])\n",
    "adata_mvi"
   ]
  },
  {
   "cell_type": "code",
   "execution_count": null,
   "metadata": {
    "colab": {
     "base_uri": "https://localhost:8080/"
    },
    "executionInfo": {
     "elapsed": 184,
     "status": "ok",
     "timestamp": 1630962133416,
     "user": {
      "displayName": "Kazumasa Kanemaru",
      "photoUrl": "https://lh3.googleusercontent.com/a/default-user=s64",
      "userId": "09579449744665019665"
     },
     "user_tz": -60
    },
    "id": "9rxImwiFds5L",
    "outputId": "5222f9a4-4ef5-4f87-de4b-de59efda4d20"
   },
   "outputs": [],
   "source": [
    "adata_mvi.obs['modality'].value_counts()"
   ]
  },
  {
   "cell_type": "markdown",
   "metadata": {
    "id": "toVfrhMVfgc6"
   },
   "source": [
    "## Setup and Training MultiVI"
   ]
  },
  {
   "cell_type": "code",
   "execution_count": null,
   "metadata": {
    "colab": {
     "base_uri": "https://localhost:8080/"
    },
    "executionInfo": {
     "elapsed": 4180,
     "status": "ok",
     "timestamp": 1630962140346,
     "user": {
      "displayName": "Kazumasa Kanemaru",
      "photoUrl": "https://lh3.googleusercontent.com/a/default-user=s64",
      "userId": "09579449744665019665"
     },
     "user_tz": -60
    },
    "id": "Bhd0n9k7fkKl",
    "outputId": "3f5be948-eb0d-4b2b-f4c7-1fe659ff6106"
   },
   "outputs": [],
   "source": [
    "scvi.data.setup_anndata(adata_mvi, batch_key='modality', categorical_covariate_keys=['donor_cellnuc'])"
   ]
  },
  {
   "cell_type": "code",
   "execution_count": null,
   "metadata": {
    "colab": {
     "base_uri": "https://localhost:8080/",
     "height": 1000
    },
    "executionInfo": {
     "elapsed": 164,
     "status": "ok",
     "timestamp": 1630962142798,
     "user": {
      "displayName": "Kazumasa Kanemaru",
      "photoUrl": "https://lh3.googleusercontent.com/a/default-user=s64",
      "userId": "09579449744665019665"
     },
     "user_tz": -60
    },
    "id": "6MG6INFBtaDB",
    "outputId": "7c150f1f-cd3d-421e-c5d0-4ccadbb50a1b"
   },
   "outputs": [],
   "source": [
    "scvi.data.view_anndata_setup(adata_mvi)"
   ]
  },
  {
   "cell_type": "code",
   "execution_count": null,
   "metadata": {
    "colab": {
     "base_uri": "https://localhost:8080/"
    },
    "executionInfo": {
     "elapsed": 9336081,
     "status": "ok",
     "timestamp": 1630971482452,
     "user": {
      "displayName": "Kazumasa Kanemaru",
      "photoUrl": "https://lh3.googleusercontent.com/a/default-user=s64",
      "userId": "09579449744665019665"
     },
     "user_tz": -60
    },
    "id": "0tfpAoEifrat",
    "outputId": "98ac8ec9-79a0-4b70-c0a1-daf7c37ea41b"
   },
   "outputs": [],
   "source": [
    "# When creating the object, we need to specify how many of the features are genes, and how many are genomic regions. \n",
    "# This is so MultiVI can determine the exact architecture for each modality.\n",
    "mvi = scvi.model.MULTIVI(\n",
    "    adata_mvi,\n",
    "    n_genes=(adata_mvi.var['modality']=='Gene Expression').sum(),\n",
    "    n_regions=(adata_mvi.var['modality']=='Peaks').sum(),\n",
    ")\n",
    "mvi.train()"
   ]
  },
  {
   "cell_type": "code",
   "execution_count": null,
   "metadata": {
    "executionInfo": {
     "elapsed": 2835,
     "status": "ok",
     "timestamp": 1630971485279,
     "user": {
      "displayName": "Kazumasa Kanemaru",
      "photoUrl": "https://lh3.googleusercontent.com/a/default-user=s64",
      "userId": "09579449744665019665"
     },
     "user_tz": -60
    },
    "id": "p86-aohjuzoF"
   },
   "outputs": [],
   "source": [
    "mvi.save(\"/nfs/team205/kk18/data/6region_v2/MultiVI/model/trained_multivi_downsized_20210922\")"
   ]
  },
  {
   "cell_type": "code",
   "execution_count": null,
   "metadata": {
    "executionInfo": {
     "elapsed": 16769,
     "status": "ok",
     "timestamp": 1630971502045,
     "user": {
      "displayName": "Kazumasa Kanemaru",
      "photoUrl": "https://lh3.googleusercontent.com/a/default-user=s64",
      "userId": "09579449744665019665"
     },
     "user_tz": -60
    },
    "id": "p-GNr9cJvW8F"
   },
   "outputs": [],
   "source": [
    "adata_mvi.obsm[\"MultiVI_latent\"] = mvi.get_latent_representation()"
   ]
  },
  {
   "cell_type": "code",
   "execution_count": null,
   "metadata": {
    "executionInfo": {
     "elapsed": 5463,
     "status": "ok",
     "timestamp": 1630971507505,
     "user": {
      "displayName": "Kazumasa Kanemaru",
      "photoUrl": "https://lh3.googleusercontent.com/a/default-user=s64",
      "userId": "09579449744665019665"
     },
     "user_tz": -60
    },
    "id": "dokQ3TafvZzF"
   },
   "outputs": [],
   "source": [
    "adata_mvi.write('/nfs/team205/kk18/data/6region_v2/MultiVI/adata_post-multivi_downsized.h5ad')"
   ]
  },
  {
   "cell_type": "code",
   "execution_count": null,
   "metadata": {
    "colab": {
     "base_uri": "https://localhost:8080/",
     "height": 454
    },
    "executionInfo": {
     "elapsed": 46708,
     "status": "ok",
     "timestamp": 1630973181548,
     "user": {
      "displayName": "Kazumasa Kanemaru",
      "photoUrl": "https://lh3.googleusercontent.com/a/default-user=s64",
      "userId": "09579449744665019665"
     },
     "user_tz": -60
    },
    "id": "ctMjh0r6kRTw",
    "outputId": "fcb6c4de-6daf-4a0c-9b76-a919c67ba806"
   },
   "outputs": [],
   "source": [
    "sc.pp.neighbors(adata_mvi, use_rep=\"MultiVI_latent\")\n",
    "sc.tl.umap(adata_mvi, min_dist=0.2)\n",
    "sc.pl.umap(adata_mvi, color=['modality','cell_states'])"
   ]
  }
 ],
 "metadata": {
  "accelerator": "GPU",
  "colab": {
   "authorship_tag": "ABX9TyP8dftkXIq4ic4InSf6yIDe",
   "name": "kk36_Adult-heart_MultiVI_20210906.ipynb",
   "provenance": []
  },
  "kernelspec": {
   "display_name": "Python 3",
   "language": "python",
   "name": "python3"
  },
  "language_info": {
   "codemirror_mode": {
    "name": "ipython",
    "version": 3
   },
   "file_extension": ".py",
   "mimetype": "text/x-python",
   "name": "python",
   "nbconvert_exporter": "python",
   "pygments_lexer": "ipython3",
   "version": "3.8.8"
  }
 },
 "nbformat": 4,
 "nbformat_minor": 4
}
