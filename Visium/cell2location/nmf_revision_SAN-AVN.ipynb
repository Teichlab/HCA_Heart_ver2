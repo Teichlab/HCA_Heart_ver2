{
 "cells": [
  {
   "cell_type": "markdown",
   "id": "unexpected-screen",
   "metadata": {},
   "source": [
    "## Import required modules"
   ]
  },
  {
   "cell_type": "code",
   "execution_count": 1,
   "id": "banner-evening",
   "metadata": {},
   "outputs": [
    {
     "name": "stderr",
     "output_type": "stream",
     "text": [
      "WARNING (theano.tensor.blas): Using NumPy C-API based implementation for BLAS functions.\n",
      "Global seed set to 0\n"
     ]
    }
   ],
   "source": [
    "import scanpy as sc\n",
    "import pandas as pd\n",
    "import numpy as np\n",
    "import matplotlib.pyplot as plt\n",
    "import matplotlib as mpl\n",
    "import seaborn as sns\n",
    "\n",
    "from scipy.stats import chi2_contingency\n",
    "import statsmodels.stats.multitest as smt\n",
    "import os \n",
    "from mpl_toolkits.axes_grid1 import make_axes_locatable\n",
    "\n",
    "from matplotlib.patches import Rectangle\n",
    "import itertools\n",
    "\n",
    "import matplotlib as mpl\n",
    "\n",
    "import pickle\n",
    "\n",
    "import cell2location\n",
    "from fastprogress.fastprogress import progress_bar"
   ]
  },
  {
   "cell_type": "code",
   "execution_count": 2,
   "id": "filled-festival",
   "metadata": {},
   "outputs": [
    {
     "data": {
      "text/html": [
       "<details>\n",
       "<summary>Click to view session information</summary>\n",
       "<pre>\n",
       "-----\n",
       "cell2location       NA\n",
       "fastprogress        0.2.7\n",
       "matplotlib          3.5.2\n",
       "mpl_toolkits        NA\n",
       "numpy               1.21.5\n",
       "pandas              1.3.5\n",
       "scanpy              1.8.2\n",
       "scipy               1.7.3\n",
       "seaborn             0.11.1\n",
       "session_info        1.0.0\n",
       "statsmodels         0.12.1\n",
       "-----\n",
       "</pre>\n",
       "<details>\n",
       "<summary>Click to view modules imported as dependencies</summary>\n",
       "<pre>\n",
       "Cython              0.29.21\n",
       "PIL                 9.1.1\n",
       "absl                NA\n",
       "adjustText          NA\n",
       "anndata             0.8.0\n",
       "arviz               0.10.0\n",
       "asciitree           NA\n",
       "attr                21.4.0\n",
       "backcall            0.2.0\n",
       "beta_ufunc          NA\n",
       "binom_ufunc         NA\n",
       "bokeh               2.3.0\n",
       "cached_property     1.5.1\n",
       "cairo               1.20.0\n",
       "cffi                1.14.4\n",
       "cftime              1.3.1\n",
       "click               7.1.2\n",
       "cloudpickle         1.6.0\n",
       "colorama            0.4.4\n",
       "cycler              0.10.0\n",
       "cython              0.29.21\n",
       "cython_runtime      NA\n",
       "cytoolz             0.11.2\n",
       "dask                2022.01.0\n",
       "dateutil            2.8.1\n",
       "decorator           4.4.2\n",
       "defusedxml          0.6.0\n",
       "deprecate           0.3.0\n",
       "descartes           NA\n",
       "dill                0.3.3\n",
       "distributed         2022.01.0\n",
       "docrep              0.3.2\n",
       "dot_parser          NA\n",
       "fasteners           0.17.3\n",
       "fsspec              2022.01.0\n",
       "google              NA\n",
       "h5py                3.1.0\n",
       "igraph              0.10.2\n",
       "importlib_metadata  1.7.0\n",
       "ipykernel           5.4.2\n",
       "ipython_genutils    0.2.0\n",
       "ipywidgets          7.6.3\n",
       "jedi                0.17.2\n",
       "jinja2              3.1.2\n",
       "joblib              1.0.0\n",
       "kiwisolver          1.3.1\n",
       "lazylinker_ext      NA\n",
       "leidenalg           0.9.0\n",
       "llvmlite            0.35.0\n",
       "louvain             0.7.0\n",
       "markupsafe          2.1.1\n",
       "mizani              0.7.2\n",
       "mkl                 2.3.0\n",
       "msgpack             1.0.3\n",
       "natsort             7.1.0\n",
       "nbinom_ufunc        NA\n",
       "netCDF4             1.5.5.1\n",
       "numba               0.52.0\n",
       "numcodecs           0.9.1\n",
       "numexpr             2.7.2\n",
       "opt_einsum          v3.3.0\n",
       "packaging           21.3\n",
       "palettable          3.3.0\n",
       "parso               0.7.1\n",
       "patsy               0.5.1\n",
       "pexpect             4.8.0\n",
       "pickleshare         0.7.5\n",
       "pkg_resources       NA\n",
       "plotly              5.10.0\n",
       "plotnine            0.7.0\n",
       "prompt_toolkit      3.0.10\n",
       "psutil              5.9.0\n",
       "ptyprocess          0.7.0\n",
       "pyarrow             9.0.0\n",
       "pycparser           2.20\n",
       "pydot               1.4.2\n",
       "pygments            2.13.0\n",
       "pymc3               3.9.3\n",
       "pynndescent         0.5.7\n",
       "pynvml              NA\n",
       "pyparsing           2.4.7\n",
       "pyro                1.8.0\n",
       "pytorch_lightning   1.3.8\n",
       "pytz                2020.5\n",
       "regex               2.5.119\n",
       "rich                NA\n",
       "scvi                0.14.6\n",
       "setuptools_scm      NA\n",
       "sinfo               0.3.1\n",
       "six                 1.14.0\n",
       "sklearn             1.0.2\n",
       "sortedcontainers    2.4.0\n",
       "sphinxcontrib       NA\n",
       "storemagic          NA\n",
       "tables              3.6.1\n",
       "tblib               1.7.0\n",
       "tensorboard         2.8.0\n",
       "texttable           1.6.3\n",
       "theano              1.0.5\n",
       "threadpoolctl       2.1.0\n",
       "tlz                 0.11.2\n",
       "toolz               0.11.2\n",
       "torch               1.11.0+cu102\n",
       "torchmetrics        0.7.2\n",
       "tornado             6.1\n",
       "tqdm                4.64.1\n",
       "traitlets           5.0.5\n",
       "typing_extensions   NA\n",
       "umap                0.4.6\n",
       "wcwidth             0.2.5\n",
       "xarray              0.16.2\n",
       "yaml                5.4.1\n",
       "zarr                2.11.3\n",
       "zipp                NA\n",
       "zmq                 21.0.1\n",
       "zope                NA\n",
       "</pre>\n",
       "</details> <!-- seems like this ends pre, so might as well be explicit -->\n",
       "<pre>\n",
       "-----\n",
       "IPython             7.19.0\n",
       "jupyter_client      6.1.11\n",
       "jupyter_core        4.7.0\n",
       "notebook            6.2.0\n",
       "-----\n",
       "Python 3.7.9 | packaged by conda-forge | (default, Dec  9 2020, 21:08:20) [GCC 9.3.0]\n",
       "Linux-4.15.0-112-generic-x86_64-with-debian-bullseye-sid\n",
       "-----\n",
       "Session information updated at 2023-02-08 08:43\n",
       "</pre>\n",
       "</details>"
      ],
      "text/plain": [
       "<IPython.core.display.HTML object>"
      ]
     },
     "execution_count": 2,
     "metadata": {},
     "output_type": "execute_result"
    }
   ],
   "source": [
    "import session_info\n",
    "session_info.show()"
   ]
  },
  {
   "cell_type": "code",
   "execution_count": null,
   "id": "german-theory",
   "metadata": {},
   "outputs": [],
   "source": []
  },
  {
   "cell_type": "markdown",
   "id": "frozen-breeding",
   "metadata": {},
   "source": [
    "## Run colocation (NMF)"
   ]
  },
  {
   "cell_type": "code",
   "execution_count": 4,
   "id": "spoken-plaintiff",
   "metadata": {},
   "outputs": [],
   "source": [
    "from cell2location import run_colocation"
   ]
  },
  {
   "cell_type": "code",
   "execution_count": 4,
   "id": "adjacent-guest",
   "metadata": {
    "tags": []
   },
   "outputs": [
    {
     "name": "stdout",
     "output_type": "stream",
     "text": [
      "['HCAHeartST10659160', 'HCAHeartST12992072', 'HCAHeartST13228105', 'HCAHeartST13228106']\n"
     ]
    },
    {
     "data": {
      "text/html": [
       "\n",
       "    <div>\n",
       "        <style>\n",
       "            /* Turns off some styling */\n",
       "            progress {\n",
       "                /* gets rid of default border in Firefox and Opera. */\n",
       "                border: none;\n",
       "                /* Needs to be in here for Safari polyfill so background images work as expected. */\n",
       "                background-size: auto;\n",
       "            }\n",
       "            .progress-bar-interrupted, .progress-bar-interrupted::-webkit-progress-bar {\n",
       "                background: #F44336;\n",
       "            }\n",
       "        </style>\n",
       "      <progress value='4' class='' max='4' style='width:300px; height:20px; vertical-align: middle;'></progress>\n",
       "      100.00% [4/4 1:36:17<00:00]\n",
       "    </div>\n",
       "    "
      ],
      "text/plain": [
       "<IPython.core.display.HTML object>"
      ]
     },
     "metadata": {},
     "output_type": "display_data"
    },
    {
     "name": "stdout",
     "output_type": "stream",
     "text": [
      "HCAHeartST10659160    4243\n",
      "Name: sample, dtype: int64\n",
      "### Analysis name: CoLocatedGroupsSklearnNMF_5combinations_4243locations_53factors\n"
     ]
    },
    {
     "name": "stderr",
     "output_type": "stream",
     "text": [
      "/home/jovyan/my-conda-envs/cellpymc/lib/python3.7/site-packages/sklearn/decomposition/_nmf.py:1425: FutureWarning: `alpha` was deprecated in version 1.0 and will be removed in 1.2. Use `alpha_W` and `alpha_H` instead\n",
      "/home/jovyan/my-conda-envs/cellpymc/lib/python3.7/site-packages/sklearn/decomposition/_nmf.py:1425: FutureWarning: `alpha` was deprecated in version 1.0 and will be removed in 1.2. Use `alpha_W` and `alpha_H` instead\n",
      "/home/jovyan/my-conda-envs/cellpymc/lib/python3.7/site-packages/sklearn/decomposition/_nmf.py:1425: FutureWarning: `alpha` was deprecated in version 1.0 and will be removed in 1.2. Use `alpha_W` and `alpha_H` instead\n"
     ]
    },
    {
     "name": "stdout",
     "output_type": "stream",
     "text": [
      "WARNING: saving figure to file /nfs/team205/heart/cell2location/coloc_nmf/CoLocatedComb/SAN_revision/HCAHeartST10659160/CoLocatedGroupsSklearnNMF_4243locations_53factors/spatial/showcell_density_mean_n_fact5_sHCAHeartST10659160_p99.2.pdf\n",
      "### Analysis name: CoLocatedGroupsSklearnNMF_6combinations_4243locations_53factors\n"
     ]
    },
    {
     "name": "stderr",
     "output_type": "stream",
     "text": [
      "/home/jovyan/my-conda-envs/cellpymc/lib/python3.7/site-packages/sklearn/decomposition/_nmf.py:1425: FutureWarning: `alpha` was deprecated in version 1.0 and will be removed in 1.2. Use `alpha_W` and `alpha_H` instead\n",
      "/home/jovyan/my-conda-envs/cellpymc/lib/python3.7/site-packages/sklearn/decomposition/_nmf.py:1425: FutureWarning: `alpha` was deprecated in version 1.0 and will be removed in 1.2. Use `alpha_W` and `alpha_H` instead\n",
      "/home/jovyan/my-conda-envs/cellpymc/lib/python3.7/site-packages/sklearn/decomposition/_nmf.py:1425: FutureWarning: `alpha` was deprecated in version 1.0 and will be removed in 1.2. Use `alpha_W` and `alpha_H` instead\n"
     ]
    },
    {
     "name": "stdout",
     "output_type": "stream",
     "text": [
      "WARNING: saving figure to file /nfs/team205/heart/cell2location/coloc_nmf/CoLocatedComb/SAN_revision/HCAHeartST10659160/CoLocatedGroupsSklearnNMF_4243locations_53factors/spatial/showcell_density_mean_n_fact6_sHCAHeartST10659160_p99.2.pdf\n",
      "### Analysis name: CoLocatedGroupsSklearnNMF_7combinations_4243locations_53factors\n"
     ]
    },
    {
     "name": "stderr",
     "output_type": "stream",
     "text": [
      "/home/jovyan/my-conda-envs/cellpymc/lib/python3.7/site-packages/sklearn/decomposition/_nmf.py:1425: FutureWarning: `alpha` was deprecated in version 1.0 and will be removed in 1.2. Use `alpha_W` and `alpha_H` instead\n",
      "/home/jovyan/my-conda-envs/cellpymc/lib/python3.7/site-packages/sklearn/decomposition/_nmf.py:1425: FutureWarning: `alpha` was deprecated in version 1.0 and will be removed in 1.2. Use `alpha_W` and `alpha_H` instead\n",
      "/home/jovyan/my-conda-envs/cellpymc/lib/python3.7/site-packages/sklearn/decomposition/_nmf.py:1425: FutureWarning: `alpha` was deprecated in version 1.0 and will be removed in 1.2. Use `alpha_W` and `alpha_H` instead\n"
     ]
    },
    {
     "name": "stdout",
     "output_type": "stream",
     "text": [
      "WARNING: saving figure to file /nfs/team205/heart/cell2location/coloc_nmf/CoLocatedComb/SAN_revision/HCAHeartST10659160/CoLocatedGroupsSklearnNMF_4243locations_53factors/spatial/showcell_density_mean_n_fact7_sHCAHeartST10659160_p99.2.pdf\n",
      "### Analysis name: CoLocatedGroupsSklearnNMF_8combinations_4243locations_53factors\n"
     ]
    },
    {
     "name": "stderr",
     "output_type": "stream",
     "text": [
      "/home/jovyan/my-conda-envs/cellpymc/lib/python3.7/site-packages/sklearn/decomposition/_nmf.py:1425: FutureWarning: `alpha` was deprecated in version 1.0 and will be removed in 1.2. Use `alpha_W` and `alpha_H` instead\n",
      "/home/jovyan/my-conda-envs/cellpymc/lib/python3.7/site-packages/sklearn/decomposition/_nmf.py:1425: FutureWarning: `alpha` was deprecated in version 1.0 and will be removed in 1.2. Use `alpha_W` and `alpha_H` instead\n",
      "/home/jovyan/my-conda-envs/cellpymc/lib/python3.7/site-packages/sklearn/decomposition/_nmf.py:1425: FutureWarning: `alpha` was deprecated in version 1.0 and will be removed in 1.2. Use `alpha_W` and `alpha_H` instead\n"
     ]
    },
    {
     "name": "stdout",
     "output_type": "stream",
     "text": [
      "WARNING: saving figure to file /nfs/team205/heart/cell2location/coloc_nmf/CoLocatedComb/SAN_revision/HCAHeartST10659160/CoLocatedGroupsSklearnNMF_4243locations_53factors/spatial/showcell_density_mean_n_fact8_sHCAHeartST10659160_p99.2.pdf\n",
      "### Analysis name: CoLocatedGroupsSklearnNMF_9combinations_4243locations_53factors\n"
     ]
    },
    {
     "name": "stderr",
     "output_type": "stream",
     "text": [
      "/home/jovyan/my-conda-envs/cellpymc/lib/python3.7/site-packages/sklearn/decomposition/_nmf.py:1425: FutureWarning: `alpha` was deprecated in version 1.0 and will be removed in 1.2. Use `alpha_W` and `alpha_H` instead\n",
      "/home/jovyan/my-conda-envs/cellpymc/lib/python3.7/site-packages/sklearn/decomposition/_nmf.py:1425: FutureWarning: `alpha` was deprecated in version 1.0 and will be removed in 1.2. Use `alpha_W` and `alpha_H` instead\n",
      "/home/jovyan/my-conda-envs/cellpymc/lib/python3.7/site-packages/sklearn/decomposition/_nmf.py:1425: FutureWarning: `alpha` was deprecated in version 1.0 and will be removed in 1.2. Use `alpha_W` and `alpha_H` instead\n"
     ]
    },
    {
     "name": "stdout",
     "output_type": "stream",
     "text": [
      "WARNING: saving figure to file /nfs/team205/heart/cell2location/coloc_nmf/CoLocatedComb/SAN_revision/HCAHeartST10659160/CoLocatedGroupsSklearnNMF_4243locations_53factors/spatial/showcell_density_mean_n_fact9_sHCAHeartST10659160_p99.2.pdf\n",
      "### Analysis name: CoLocatedGroupsSklearnNMF_10combinations_4243locations_53factors\n"
     ]
    },
    {
     "name": "stderr",
     "output_type": "stream",
     "text": [
      "/home/jovyan/my-conda-envs/cellpymc/lib/python3.7/site-packages/sklearn/decomposition/_nmf.py:1425: FutureWarning: `alpha` was deprecated in version 1.0 and will be removed in 1.2. Use `alpha_W` and `alpha_H` instead\n",
      "/home/jovyan/my-conda-envs/cellpymc/lib/python3.7/site-packages/sklearn/decomposition/_nmf.py:1425: FutureWarning: `alpha` was deprecated in version 1.0 and will be removed in 1.2. Use `alpha_W` and `alpha_H` instead\n",
      "/home/jovyan/my-conda-envs/cellpymc/lib/python3.7/site-packages/sklearn/decomposition/_nmf.py:1425: FutureWarning: `alpha` was deprecated in version 1.0 and will be removed in 1.2. Use `alpha_W` and `alpha_H` instead\n"
     ]
    },
    {
     "name": "stdout",
     "output_type": "stream",
     "text": [
      "WARNING: saving figure to file /nfs/team205/heart/cell2location/coloc_nmf/CoLocatedComb/SAN_revision/HCAHeartST10659160/CoLocatedGroupsSklearnNMF_4243locations_53factors/spatial/showcell_density_mean_n_fact10_sHCAHeartST10659160_p99.2.pdf\n",
      "### Analysis name: CoLocatedGroupsSklearnNMF_11combinations_4243locations_53factors\n"
     ]
    },
    {
     "name": "stderr",
     "output_type": "stream",
     "text": [
      "/home/jovyan/my-conda-envs/cellpymc/lib/python3.7/site-packages/sklearn/decomposition/_nmf.py:1425: FutureWarning: `alpha` was deprecated in version 1.0 and will be removed in 1.2. Use `alpha_W` and `alpha_H` instead\n",
      "/home/jovyan/my-conda-envs/cellpymc/lib/python3.7/site-packages/sklearn/decomposition/_nmf.py:1425: FutureWarning: `alpha` was deprecated in version 1.0 and will be removed in 1.2. Use `alpha_W` and `alpha_H` instead\n",
      "/home/jovyan/my-conda-envs/cellpymc/lib/python3.7/site-packages/sklearn/decomposition/_nmf.py:1425: FutureWarning: `alpha` was deprecated in version 1.0 and will be removed in 1.2. Use `alpha_W` and `alpha_H` instead\n"
     ]
    },
    {
     "name": "stdout",
     "output_type": "stream",
     "text": [
      "WARNING: saving figure to file /nfs/team205/heart/cell2location/coloc_nmf/CoLocatedComb/SAN_revision/HCAHeartST10659160/CoLocatedGroupsSklearnNMF_4243locations_53factors/spatial/showcell_density_mean_n_fact11_sHCAHeartST10659160_p99.2.pdf\n",
      "### Analysis name: CoLocatedGroupsSklearnNMF_12combinations_4243locations_53factors\n"
     ]
    },
    {
     "name": "stderr",
     "output_type": "stream",
     "text": [
      "/home/jovyan/my-conda-envs/cellpymc/lib/python3.7/site-packages/sklearn/decomposition/_nmf.py:1425: FutureWarning: `alpha` was deprecated in version 1.0 and will be removed in 1.2. Use `alpha_W` and `alpha_H` instead\n",
      "/home/jovyan/my-conda-envs/cellpymc/lib/python3.7/site-packages/sklearn/decomposition/_nmf.py:1425: FutureWarning: `alpha` was deprecated in version 1.0 and will be removed in 1.2. Use `alpha_W` and `alpha_H` instead\n",
      "/home/jovyan/my-conda-envs/cellpymc/lib/python3.7/site-packages/sklearn/decomposition/_nmf.py:1425: FutureWarning: `alpha` was deprecated in version 1.0 and will be removed in 1.2. Use `alpha_W` and `alpha_H` instead\n"
     ]
    },
    {
     "name": "stdout",
     "output_type": "stream",
     "text": [
      "WARNING: saving figure to file /nfs/team205/heart/cell2location/coloc_nmf/CoLocatedComb/SAN_revision/HCAHeartST10659160/CoLocatedGroupsSklearnNMF_4243locations_53factors/spatial/showcell_density_mean_n_fact12_sHCAHeartST10659160_p99.2.pdf\n",
      "### Analysis name: CoLocatedGroupsSklearnNMF_13combinations_4243locations_53factors\n"
     ]
    },
    {
     "name": "stderr",
     "output_type": "stream",
     "text": [
      "/home/jovyan/my-conda-envs/cellpymc/lib/python3.7/site-packages/sklearn/decomposition/_nmf.py:1425: FutureWarning: `alpha` was deprecated in version 1.0 and will be removed in 1.2. Use `alpha_W` and `alpha_H` instead\n",
      "/home/jovyan/my-conda-envs/cellpymc/lib/python3.7/site-packages/sklearn/decomposition/_nmf.py:1425: FutureWarning: `alpha` was deprecated in version 1.0 and will be removed in 1.2. Use `alpha_W` and `alpha_H` instead\n",
      "/home/jovyan/my-conda-envs/cellpymc/lib/python3.7/site-packages/sklearn/decomposition/_nmf.py:1425: FutureWarning: `alpha` was deprecated in version 1.0 and will be removed in 1.2. Use `alpha_W` and `alpha_H` instead\n"
     ]
    },
    {
     "name": "stdout",
     "output_type": "stream",
     "text": [
      "WARNING: saving figure to file /nfs/team205/heart/cell2location/coloc_nmf/CoLocatedComb/SAN_revision/HCAHeartST10659160/CoLocatedGroupsSklearnNMF_4243locations_53factors/spatial/showcell_density_mean_n_fact13_sHCAHeartST10659160_p99.2.pdf\n",
      "### Analysis name: CoLocatedGroupsSklearnNMF_14combinations_4243locations_53factors\n"
     ]
    },
    {
     "name": "stderr",
     "output_type": "stream",
     "text": [
      "/home/jovyan/my-conda-envs/cellpymc/lib/python3.7/site-packages/sklearn/decomposition/_nmf.py:1425: FutureWarning: `alpha` was deprecated in version 1.0 and will be removed in 1.2. Use `alpha_W` and `alpha_H` instead\n",
      "/home/jovyan/my-conda-envs/cellpymc/lib/python3.7/site-packages/sklearn/decomposition/_nmf.py:1425: FutureWarning: `alpha` was deprecated in version 1.0 and will be removed in 1.2. Use `alpha_W` and `alpha_H` instead\n",
      "/home/jovyan/my-conda-envs/cellpymc/lib/python3.7/site-packages/sklearn/decomposition/_nmf.py:1425: FutureWarning: `alpha` was deprecated in version 1.0 and will be removed in 1.2. Use `alpha_W` and `alpha_H` instead\n"
     ]
    },
    {
     "name": "stdout",
     "output_type": "stream",
     "text": [
      "WARNING: saving figure to file /nfs/team205/heart/cell2location/coloc_nmf/CoLocatedComb/SAN_revision/HCAHeartST10659160/CoLocatedGroupsSklearnNMF_4243locations_53factors/spatial/showcell_density_mean_n_fact14_sHCAHeartST10659160_p99.2.pdf\n",
      "HCAHeartST12992072    3802\n",
      "Name: sample, dtype: int64\n",
      "### Analysis name: CoLocatedGroupsSklearnNMF_5combinations_3802locations_53factors\n"
     ]
    },
    {
     "name": "stderr",
     "output_type": "stream",
     "text": [
      "/home/jovyan/my-conda-envs/cellpymc/lib/python3.7/site-packages/sklearn/decomposition/_nmf.py:1425: FutureWarning: `alpha` was deprecated in version 1.0 and will be removed in 1.2. Use `alpha_W` and `alpha_H` instead\n",
      "/home/jovyan/my-conda-envs/cellpymc/lib/python3.7/site-packages/sklearn/decomposition/_nmf.py:1425: FutureWarning: `alpha` was deprecated in version 1.0 and will be removed in 1.2. Use `alpha_W` and `alpha_H` instead\n",
      "/home/jovyan/my-conda-envs/cellpymc/lib/python3.7/site-packages/sklearn/decomposition/_nmf.py:1425: FutureWarning: `alpha` was deprecated in version 1.0 and will be removed in 1.2. Use `alpha_W` and `alpha_H` instead\n"
     ]
    },
    {
     "name": "stdout",
     "output_type": "stream",
     "text": [
      "WARNING: saving figure to file /nfs/team205/heart/cell2location/coloc_nmf/CoLocatedComb/SAN_revision/HCAHeartST12992072/CoLocatedGroupsSklearnNMF_3802locations_53factors/spatial/showcell_density_mean_n_fact5_sHCAHeartST12992072_p99.2.pdf\n",
      "### Analysis name: CoLocatedGroupsSklearnNMF_6combinations_3802locations_53factors\n"
     ]
    },
    {
     "name": "stderr",
     "output_type": "stream",
     "text": [
      "/home/jovyan/my-conda-envs/cellpymc/lib/python3.7/site-packages/sklearn/decomposition/_nmf.py:1425: FutureWarning: `alpha` was deprecated in version 1.0 and will be removed in 1.2. Use `alpha_W` and `alpha_H` instead\n",
      "/home/jovyan/my-conda-envs/cellpymc/lib/python3.7/site-packages/sklearn/decomposition/_nmf.py:1425: FutureWarning: `alpha` was deprecated in version 1.0 and will be removed in 1.2. Use `alpha_W` and `alpha_H` instead\n",
      "/home/jovyan/my-conda-envs/cellpymc/lib/python3.7/site-packages/sklearn/decomposition/_nmf.py:1425: FutureWarning: `alpha` was deprecated in version 1.0 and will be removed in 1.2. Use `alpha_W` and `alpha_H` instead\n"
     ]
    },
    {
     "name": "stdout",
     "output_type": "stream",
     "text": [
      "WARNING: saving figure to file /nfs/team205/heart/cell2location/coloc_nmf/CoLocatedComb/SAN_revision/HCAHeartST12992072/CoLocatedGroupsSklearnNMF_3802locations_53factors/spatial/showcell_density_mean_n_fact6_sHCAHeartST12992072_p99.2.pdf\n",
      "### Analysis name: CoLocatedGroupsSklearnNMF_7combinations_3802locations_53factors\n"
     ]
    },
    {
     "name": "stderr",
     "output_type": "stream",
     "text": [
      "/home/jovyan/my-conda-envs/cellpymc/lib/python3.7/site-packages/sklearn/decomposition/_nmf.py:1425: FutureWarning: `alpha` was deprecated in version 1.0 and will be removed in 1.2. Use `alpha_W` and `alpha_H` instead\n",
      "/home/jovyan/my-conda-envs/cellpymc/lib/python3.7/site-packages/sklearn/decomposition/_nmf.py:1425: FutureWarning: `alpha` was deprecated in version 1.0 and will be removed in 1.2. Use `alpha_W` and `alpha_H` instead\n",
      "/home/jovyan/my-conda-envs/cellpymc/lib/python3.7/site-packages/sklearn/decomposition/_nmf.py:1425: FutureWarning: `alpha` was deprecated in version 1.0 and will be removed in 1.2. Use `alpha_W` and `alpha_H` instead\n"
     ]
    },
    {
     "name": "stdout",
     "output_type": "stream",
     "text": [
      "WARNING: saving figure to file /nfs/team205/heart/cell2location/coloc_nmf/CoLocatedComb/SAN_revision/HCAHeartST12992072/CoLocatedGroupsSklearnNMF_3802locations_53factors/spatial/showcell_density_mean_n_fact7_sHCAHeartST12992072_p99.2.pdf\n",
      "### Analysis name: CoLocatedGroupsSklearnNMF_8combinations_3802locations_53factors\n"
     ]
    },
    {
     "name": "stderr",
     "output_type": "stream",
     "text": [
      "/home/jovyan/my-conda-envs/cellpymc/lib/python3.7/site-packages/sklearn/decomposition/_nmf.py:1425: FutureWarning: `alpha` was deprecated in version 1.0 and will be removed in 1.2. Use `alpha_W` and `alpha_H` instead\n",
      "/home/jovyan/my-conda-envs/cellpymc/lib/python3.7/site-packages/sklearn/decomposition/_nmf.py:1425: FutureWarning: `alpha` was deprecated in version 1.0 and will be removed in 1.2. Use `alpha_W` and `alpha_H` instead\n",
      "/home/jovyan/my-conda-envs/cellpymc/lib/python3.7/site-packages/sklearn/decomposition/_nmf.py:1425: FutureWarning: `alpha` was deprecated in version 1.0 and will be removed in 1.2. Use `alpha_W` and `alpha_H` instead\n"
     ]
    },
    {
     "name": "stdout",
     "output_type": "stream",
     "text": [
      "WARNING: saving figure to file /nfs/team205/heart/cell2location/coloc_nmf/CoLocatedComb/SAN_revision/HCAHeartST12992072/CoLocatedGroupsSklearnNMF_3802locations_53factors/spatial/showcell_density_mean_n_fact8_sHCAHeartST12992072_p99.2.pdf\n",
      "### Analysis name: CoLocatedGroupsSklearnNMF_9combinations_3802locations_53factors\n"
     ]
    },
    {
     "name": "stderr",
     "output_type": "stream",
     "text": [
      "/home/jovyan/my-conda-envs/cellpymc/lib/python3.7/site-packages/sklearn/decomposition/_nmf.py:1425: FutureWarning: `alpha` was deprecated in version 1.0 and will be removed in 1.2. Use `alpha_W` and `alpha_H` instead\n",
      "/home/jovyan/my-conda-envs/cellpymc/lib/python3.7/site-packages/sklearn/decomposition/_nmf.py:1425: FutureWarning: `alpha` was deprecated in version 1.0 and will be removed in 1.2. Use `alpha_W` and `alpha_H` instead\n",
      "/home/jovyan/my-conda-envs/cellpymc/lib/python3.7/site-packages/sklearn/decomposition/_nmf.py:1425: FutureWarning: `alpha` was deprecated in version 1.0 and will be removed in 1.2. Use `alpha_W` and `alpha_H` instead\n"
     ]
    },
    {
     "name": "stdout",
     "output_type": "stream",
     "text": [
      "WARNING: saving figure to file /nfs/team205/heart/cell2location/coloc_nmf/CoLocatedComb/SAN_revision/HCAHeartST12992072/CoLocatedGroupsSklearnNMF_3802locations_53factors/spatial/showcell_density_mean_n_fact9_sHCAHeartST12992072_p99.2.pdf\n",
      "### Analysis name: CoLocatedGroupsSklearnNMF_10combinations_3802locations_53factors\n"
     ]
    },
    {
     "name": "stderr",
     "output_type": "stream",
     "text": [
      "/home/jovyan/my-conda-envs/cellpymc/lib/python3.7/site-packages/sklearn/decomposition/_nmf.py:1425: FutureWarning: `alpha` was deprecated in version 1.0 and will be removed in 1.2. Use `alpha_W` and `alpha_H` instead\n",
      "/home/jovyan/my-conda-envs/cellpymc/lib/python3.7/site-packages/sklearn/decomposition/_nmf.py:1425: FutureWarning: `alpha` was deprecated in version 1.0 and will be removed in 1.2. Use `alpha_W` and `alpha_H` instead\n",
      "/home/jovyan/my-conda-envs/cellpymc/lib/python3.7/site-packages/sklearn/decomposition/_nmf.py:1425: FutureWarning: `alpha` was deprecated in version 1.0 and will be removed in 1.2. Use `alpha_W` and `alpha_H` instead\n"
     ]
    },
    {
     "name": "stdout",
     "output_type": "stream",
     "text": [
      "WARNING: saving figure to file /nfs/team205/heart/cell2location/coloc_nmf/CoLocatedComb/SAN_revision/HCAHeartST12992072/CoLocatedGroupsSklearnNMF_3802locations_53factors/spatial/showcell_density_mean_n_fact10_sHCAHeartST12992072_p99.2.pdf\n",
      "### Analysis name: CoLocatedGroupsSklearnNMF_11combinations_3802locations_53factors\n"
     ]
    },
    {
     "name": "stderr",
     "output_type": "stream",
     "text": [
      "/home/jovyan/my-conda-envs/cellpymc/lib/python3.7/site-packages/sklearn/decomposition/_nmf.py:1425: FutureWarning: `alpha` was deprecated in version 1.0 and will be removed in 1.2. Use `alpha_W` and `alpha_H` instead\n",
      "/home/jovyan/my-conda-envs/cellpymc/lib/python3.7/site-packages/sklearn/decomposition/_nmf.py:1425: FutureWarning: `alpha` was deprecated in version 1.0 and will be removed in 1.2. Use `alpha_W` and `alpha_H` instead\n",
      "/home/jovyan/my-conda-envs/cellpymc/lib/python3.7/site-packages/sklearn/decomposition/_nmf.py:1425: FutureWarning: `alpha` was deprecated in version 1.0 and will be removed in 1.2. Use `alpha_W` and `alpha_H` instead\n"
     ]
    },
    {
     "name": "stdout",
     "output_type": "stream",
     "text": [
      "WARNING: saving figure to file /nfs/team205/heart/cell2location/coloc_nmf/CoLocatedComb/SAN_revision/HCAHeartST12992072/CoLocatedGroupsSklearnNMF_3802locations_53factors/spatial/showcell_density_mean_n_fact11_sHCAHeartST12992072_p99.2.pdf\n",
      "### Analysis name: CoLocatedGroupsSklearnNMF_12combinations_3802locations_53factors\n"
     ]
    },
    {
     "name": "stderr",
     "output_type": "stream",
     "text": [
      "/home/jovyan/my-conda-envs/cellpymc/lib/python3.7/site-packages/sklearn/decomposition/_nmf.py:1425: FutureWarning: `alpha` was deprecated in version 1.0 and will be removed in 1.2. Use `alpha_W` and `alpha_H` instead\n",
      "/home/jovyan/my-conda-envs/cellpymc/lib/python3.7/site-packages/sklearn/decomposition/_nmf.py:1425: FutureWarning: `alpha` was deprecated in version 1.0 and will be removed in 1.2. Use `alpha_W` and `alpha_H` instead\n",
      "/home/jovyan/my-conda-envs/cellpymc/lib/python3.7/site-packages/sklearn/decomposition/_nmf.py:1425: FutureWarning: `alpha` was deprecated in version 1.0 and will be removed in 1.2. Use `alpha_W` and `alpha_H` instead\n"
     ]
    },
    {
     "name": "stdout",
     "output_type": "stream",
     "text": [
      "WARNING: saving figure to file /nfs/team205/heart/cell2location/coloc_nmf/CoLocatedComb/SAN_revision/HCAHeartST12992072/CoLocatedGroupsSklearnNMF_3802locations_53factors/spatial/showcell_density_mean_n_fact12_sHCAHeartST12992072_p99.2.pdf\n",
      "### Analysis name: CoLocatedGroupsSklearnNMF_13combinations_3802locations_53factors\n"
     ]
    },
    {
     "name": "stderr",
     "output_type": "stream",
     "text": [
      "/home/jovyan/my-conda-envs/cellpymc/lib/python3.7/site-packages/sklearn/decomposition/_nmf.py:1425: FutureWarning: `alpha` was deprecated in version 1.0 and will be removed in 1.2. Use `alpha_W` and `alpha_H` instead\n",
      "/home/jovyan/my-conda-envs/cellpymc/lib/python3.7/site-packages/sklearn/decomposition/_nmf.py:1425: FutureWarning: `alpha` was deprecated in version 1.0 and will be removed in 1.2. Use `alpha_W` and `alpha_H` instead\n",
      "/home/jovyan/my-conda-envs/cellpymc/lib/python3.7/site-packages/sklearn/decomposition/_nmf.py:1425: FutureWarning: `alpha` was deprecated in version 1.0 and will be removed in 1.2. Use `alpha_W` and `alpha_H` instead\n"
     ]
    },
    {
     "name": "stdout",
     "output_type": "stream",
     "text": [
      "WARNING: saving figure to file /nfs/team205/heart/cell2location/coloc_nmf/CoLocatedComb/SAN_revision/HCAHeartST12992072/CoLocatedGroupsSklearnNMF_3802locations_53factors/spatial/showcell_density_mean_n_fact13_sHCAHeartST12992072_p99.2.pdf\n",
      "### Analysis name: CoLocatedGroupsSklearnNMF_14combinations_3802locations_53factors\n"
     ]
    },
    {
     "name": "stderr",
     "output_type": "stream",
     "text": [
      "/home/jovyan/my-conda-envs/cellpymc/lib/python3.7/site-packages/sklearn/decomposition/_nmf.py:1425: FutureWarning: `alpha` was deprecated in version 1.0 and will be removed in 1.2. Use `alpha_W` and `alpha_H` instead\n",
      "/home/jovyan/my-conda-envs/cellpymc/lib/python3.7/site-packages/sklearn/decomposition/_nmf.py:1425: FutureWarning: `alpha` was deprecated in version 1.0 and will be removed in 1.2. Use `alpha_W` and `alpha_H` instead\n",
      "/home/jovyan/my-conda-envs/cellpymc/lib/python3.7/site-packages/sklearn/decomposition/_nmf.py:1425: FutureWarning: `alpha` was deprecated in version 1.0 and will be removed in 1.2. Use `alpha_W` and `alpha_H` instead\n"
     ]
    },
    {
     "name": "stdout",
     "output_type": "stream",
     "text": [
      "WARNING: saving figure to file /nfs/team205/heart/cell2location/coloc_nmf/CoLocatedComb/SAN_revision/HCAHeartST12992072/CoLocatedGroupsSklearnNMF_3802locations_53factors/spatial/showcell_density_mean_n_fact14_sHCAHeartST12992072_p99.2.pdf\n",
      "HCAHeartST13228105    2852\n",
      "Name: sample, dtype: int64\n",
      "### Analysis name: CoLocatedGroupsSklearnNMF_5combinations_2852locations_53factors\n"
     ]
    },
    {
     "name": "stderr",
     "output_type": "stream",
     "text": [
      "/home/jovyan/my-conda-envs/cellpymc/lib/python3.7/site-packages/sklearn/decomposition/_nmf.py:1425: FutureWarning: `alpha` was deprecated in version 1.0 and will be removed in 1.2. Use `alpha_W` and `alpha_H` instead\n",
      "/home/jovyan/my-conda-envs/cellpymc/lib/python3.7/site-packages/sklearn/decomposition/_nmf.py:1425: FutureWarning: `alpha` was deprecated in version 1.0 and will be removed in 1.2. Use `alpha_W` and `alpha_H` instead\n",
      "/home/jovyan/my-conda-envs/cellpymc/lib/python3.7/site-packages/sklearn/decomposition/_nmf.py:1425: FutureWarning: `alpha` was deprecated in version 1.0 and will be removed in 1.2. Use `alpha_W` and `alpha_H` instead\n"
     ]
    },
    {
     "name": "stdout",
     "output_type": "stream",
     "text": [
      "WARNING: saving figure to file /nfs/team205/heart/cell2location/coloc_nmf/CoLocatedComb/SAN_revision/HCAHeartST13228105/CoLocatedGroupsSklearnNMF_2852locations_53factors/spatial/showcell_density_mean_n_fact5_sHCAHeartST13228105_p99.2.pdf\n",
      "### Analysis name: CoLocatedGroupsSklearnNMF_6combinations_2852locations_53factors\n"
     ]
    },
    {
     "name": "stderr",
     "output_type": "stream",
     "text": [
      "/home/jovyan/my-conda-envs/cellpymc/lib/python3.7/site-packages/sklearn/decomposition/_nmf.py:1425: FutureWarning: `alpha` was deprecated in version 1.0 and will be removed in 1.2. Use `alpha_W` and `alpha_H` instead\n",
      "/home/jovyan/my-conda-envs/cellpymc/lib/python3.7/site-packages/sklearn/decomposition/_nmf.py:1425: FutureWarning: `alpha` was deprecated in version 1.0 and will be removed in 1.2. Use `alpha_W` and `alpha_H` instead\n",
      "/home/jovyan/my-conda-envs/cellpymc/lib/python3.7/site-packages/sklearn/decomposition/_nmf.py:1425: FutureWarning: `alpha` was deprecated in version 1.0 and will be removed in 1.2. Use `alpha_W` and `alpha_H` instead\n"
     ]
    },
    {
     "name": "stdout",
     "output_type": "stream",
     "text": [
      "WARNING: saving figure to file /nfs/team205/heart/cell2location/coloc_nmf/CoLocatedComb/SAN_revision/HCAHeartST13228105/CoLocatedGroupsSklearnNMF_2852locations_53factors/spatial/showcell_density_mean_n_fact6_sHCAHeartST13228105_p99.2.pdf\n",
      "### Analysis name: CoLocatedGroupsSklearnNMF_7combinations_2852locations_53factors\n"
     ]
    },
    {
     "name": "stderr",
     "output_type": "stream",
     "text": [
      "/home/jovyan/my-conda-envs/cellpymc/lib/python3.7/site-packages/sklearn/decomposition/_nmf.py:1425: FutureWarning: `alpha` was deprecated in version 1.0 and will be removed in 1.2. Use `alpha_W` and `alpha_H` instead\n",
      "/home/jovyan/my-conda-envs/cellpymc/lib/python3.7/site-packages/sklearn/decomposition/_nmf.py:1425: FutureWarning: `alpha` was deprecated in version 1.0 and will be removed in 1.2. Use `alpha_W` and `alpha_H` instead\n",
      "/home/jovyan/my-conda-envs/cellpymc/lib/python3.7/site-packages/sklearn/decomposition/_nmf.py:1425: FutureWarning: `alpha` was deprecated in version 1.0 and will be removed in 1.2. Use `alpha_W` and `alpha_H` instead\n"
     ]
    },
    {
     "name": "stdout",
     "output_type": "stream",
     "text": [
      "WARNING: saving figure to file /nfs/team205/heart/cell2location/coloc_nmf/CoLocatedComb/SAN_revision/HCAHeartST13228105/CoLocatedGroupsSklearnNMF_2852locations_53factors/spatial/showcell_density_mean_n_fact7_sHCAHeartST13228105_p99.2.pdf\n",
      "### Analysis name: CoLocatedGroupsSklearnNMF_8combinations_2852locations_53factors\n"
     ]
    },
    {
     "name": "stderr",
     "output_type": "stream",
     "text": [
      "/home/jovyan/my-conda-envs/cellpymc/lib/python3.7/site-packages/sklearn/decomposition/_nmf.py:1425: FutureWarning: `alpha` was deprecated in version 1.0 and will be removed in 1.2. Use `alpha_W` and `alpha_H` instead\n",
      "/home/jovyan/my-conda-envs/cellpymc/lib/python3.7/site-packages/sklearn/decomposition/_nmf.py:1425: FutureWarning: `alpha` was deprecated in version 1.0 and will be removed in 1.2. Use `alpha_W` and `alpha_H` instead\n",
      "/home/jovyan/my-conda-envs/cellpymc/lib/python3.7/site-packages/sklearn/decomposition/_nmf.py:1425: FutureWarning: `alpha` was deprecated in version 1.0 and will be removed in 1.2. Use `alpha_W` and `alpha_H` instead\n"
     ]
    },
    {
     "name": "stdout",
     "output_type": "stream",
     "text": [
      "WARNING: saving figure to file /nfs/team205/heart/cell2location/coloc_nmf/CoLocatedComb/SAN_revision/HCAHeartST13228105/CoLocatedGroupsSklearnNMF_2852locations_53factors/spatial/showcell_density_mean_n_fact8_sHCAHeartST13228105_p99.2.pdf\n",
      "### Analysis name: CoLocatedGroupsSklearnNMF_9combinations_2852locations_53factors\n"
     ]
    },
    {
     "name": "stderr",
     "output_type": "stream",
     "text": [
      "/home/jovyan/my-conda-envs/cellpymc/lib/python3.7/site-packages/sklearn/decomposition/_nmf.py:1425: FutureWarning: `alpha` was deprecated in version 1.0 and will be removed in 1.2. Use `alpha_W` and `alpha_H` instead\n",
      "/home/jovyan/my-conda-envs/cellpymc/lib/python3.7/site-packages/sklearn/decomposition/_nmf.py:1425: FutureWarning: `alpha` was deprecated in version 1.0 and will be removed in 1.2. Use `alpha_W` and `alpha_H` instead\n",
      "/home/jovyan/my-conda-envs/cellpymc/lib/python3.7/site-packages/sklearn/decomposition/_nmf.py:1425: FutureWarning: `alpha` was deprecated in version 1.0 and will be removed in 1.2. Use `alpha_W` and `alpha_H` instead\n"
     ]
    },
    {
     "name": "stdout",
     "output_type": "stream",
     "text": [
      "WARNING: saving figure to file /nfs/team205/heart/cell2location/coloc_nmf/CoLocatedComb/SAN_revision/HCAHeartST13228105/CoLocatedGroupsSklearnNMF_2852locations_53factors/spatial/showcell_density_mean_n_fact9_sHCAHeartST13228105_p99.2.pdf\n",
      "### Analysis name: CoLocatedGroupsSklearnNMF_10combinations_2852locations_53factors\n"
     ]
    },
    {
     "name": "stderr",
     "output_type": "stream",
     "text": [
      "/home/jovyan/my-conda-envs/cellpymc/lib/python3.7/site-packages/sklearn/decomposition/_nmf.py:1425: FutureWarning: `alpha` was deprecated in version 1.0 and will be removed in 1.2. Use `alpha_W` and `alpha_H` instead\n",
      "/home/jovyan/my-conda-envs/cellpymc/lib/python3.7/site-packages/sklearn/decomposition/_nmf.py:1425: FutureWarning: `alpha` was deprecated in version 1.0 and will be removed in 1.2. Use `alpha_W` and `alpha_H` instead\n",
      "/home/jovyan/my-conda-envs/cellpymc/lib/python3.7/site-packages/sklearn/decomposition/_nmf.py:1425: FutureWarning: `alpha` was deprecated in version 1.0 and will be removed in 1.2. Use `alpha_W` and `alpha_H` instead\n"
     ]
    },
    {
     "name": "stdout",
     "output_type": "stream",
     "text": [
      "WARNING: saving figure to file /nfs/team205/heart/cell2location/coloc_nmf/CoLocatedComb/SAN_revision/HCAHeartST13228105/CoLocatedGroupsSklearnNMF_2852locations_53factors/spatial/showcell_density_mean_n_fact10_sHCAHeartST13228105_p99.2.pdf\n",
      "### Analysis name: CoLocatedGroupsSklearnNMF_11combinations_2852locations_53factors\n"
     ]
    },
    {
     "name": "stderr",
     "output_type": "stream",
     "text": [
      "/home/jovyan/my-conda-envs/cellpymc/lib/python3.7/site-packages/sklearn/decomposition/_nmf.py:1425: FutureWarning: `alpha` was deprecated in version 1.0 and will be removed in 1.2. Use `alpha_W` and `alpha_H` instead\n",
      "/home/jovyan/my-conda-envs/cellpymc/lib/python3.7/site-packages/sklearn/decomposition/_nmf.py:1425: FutureWarning: `alpha` was deprecated in version 1.0 and will be removed in 1.2. Use `alpha_W` and `alpha_H` instead\n",
      "/home/jovyan/my-conda-envs/cellpymc/lib/python3.7/site-packages/sklearn/decomposition/_nmf.py:1425: FutureWarning: `alpha` was deprecated in version 1.0 and will be removed in 1.2. Use `alpha_W` and `alpha_H` instead\n"
     ]
    },
    {
     "name": "stdout",
     "output_type": "stream",
     "text": [
      "WARNING: saving figure to file /nfs/team205/heart/cell2location/coloc_nmf/CoLocatedComb/SAN_revision/HCAHeartST13228105/CoLocatedGroupsSklearnNMF_2852locations_53factors/spatial/showcell_density_mean_n_fact11_sHCAHeartST13228105_p99.2.pdf\n",
      "### Analysis name: CoLocatedGroupsSklearnNMF_12combinations_2852locations_53factors\n"
     ]
    },
    {
     "name": "stderr",
     "output_type": "stream",
     "text": [
      "/home/jovyan/my-conda-envs/cellpymc/lib/python3.7/site-packages/sklearn/decomposition/_nmf.py:1425: FutureWarning: `alpha` was deprecated in version 1.0 and will be removed in 1.2. Use `alpha_W` and `alpha_H` instead\n",
      "/home/jovyan/my-conda-envs/cellpymc/lib/python3.7/site-packages/sklearn/decomposition/_nmf.py:1425: FutureWarning: `alpha` was deprecated in version 1.0 and will be removed in 1.2. Use `alpha_W` and `alpha_H` instead\n",
      "/home/jovyan/my-conda-envs/cellpymc/lib/python3.7/site-packages/sklearn/decomposition/_nmf.py:1425: FutureWarning: `alpha` was deprecated in version 1.0 and will be removed in 1.2. Use `alpha_W` and `alpha_H` instead\n"
     ]
    },
    {
     "name": "stdout",
     "output_type": "stream",
     "text": [
      "WARNING: saving figure to file /nfs/team205/heart/cell2location/coloc_nmf/CoLocatedComb/SAN_revision/HCAHeartST13228105/CoLocatedGroupsSklearnNMF_2852locations_53factors/spatial/showcell_density_mean_n_fact12_sHCAHeartST13228105_p99.2.pdf\n",
      "### Analysis name: CoLocatedGroupsSklearnNMF_13combinations_2852locations_53factors\n"
     ]
    },
    {
     "name": "stderr",
     "output_type": "stream",
     "text": [
      "/home/jovyan/my-conda-envs/cellpymc/lib/python3.7/site-packages/sklearn/decomposition/_nmf.py:1425: FutureWarning: `alpha` was deprecated in version 1.0 and will be removed in 1.2. Use `alpha_W` and `alpha_H` instead\n",
      "/home/jovyan/my-conda-envs/cellpymc/lib/python3.7/site-packages/sklearn/decomposition/_nmf.py:1425: FutureWarning: `alpha` was deprecated in version 1.0 and will be removed in 1.2. Use `alpha_W` and `alpha_H` instead\n",
      "/home/jovyan/my-conda-envs/cellpymc/lib/python3.7/site-packages/sklearn/decomposition/_nmf.py:1425: FutureWarning: `alpha` was deprecated in version 1.0 and will be removed in 1.2. Use `alpha_W` and `alpha_H` instead\n"
     ]
    },
    {
     "name": "stdout",
     "output_type": "stream",
     "text": [
      "WARNING: saving figure to file /nfs/team205/heart/cell2location/coloc_nmf/CoLocatedComb/SAN_revision/HCAHeartST13228105/CoLocatedGroupsSklearnNMF_2852locations_53factors/spatial/showcell_density_mean_n_fact13_sHCAHeartST13228105_p99.2.pdf\n",
      "### Analysis name: CoLocatedGroupsSklearnNMF_14combinations_2852locations_53factors\n"
     ]
    },
    {
     "name": "stderr",
     "output_type": "stream",
     "text": [
      "/home/jovyan/my-conda-envs/cellpymc/lib/python3.7/site-packages/sklearn/decomposition/_nmf.py:1425: FutureWarning: `alpha` was deprecated in version 1.0 and will be removed in 1.2. Use `alpha_W` and `alpha_H` instead\n",
      "/home/jovyan/my-conda-envs/cellpymc/lib/python3.7/site-packages/sklearn/decomposition/_nmf.py:1425: FutureWarning: `alpha` was deprecated in version 1.0 and will be removed in 1.2. Use `alpha_W` and `alpha_H` instead\n",
      "/home/jovyan/my-conda-envs/cellpymc/lib/python3.7/site-packages/sklearn/decomposition/_nmf.py:1425: FutureWarning: `alpha` was deprecated in version 1.0 and will be removed in 1.2. Use `alpha_W` and `alpha_H` instead\n"
     ]
    },
    {
     "name": "stdout",
     "output_type": "stream",
     "text": [
      "WARNING: saving figure to file /nfs/team205/heart/cell2location/coloc_nmf/CoLocatedComb/SAN_revision/HCAHeartST13228105/CoLocatedGroupsSklearnNMF_2852locations_53factors/spatial/showcell_density_mean_n_fact14_sHCAHeartST13228105_p99.2.pdf\n",
      "HCAHeartST13228106    3430\n",
      "Name: sample, dtype: int64\n",
      "### Analysis name: CoLocatedGroupsSklearnNMF_5combinations_3430locations_53factors\n"
     ]
    },
    {
     "name": "stderr",
     "output_type": "stream",
     "text": [
      "/home/jovyan/my-conda-envs/cellpymc/lib/python3.7/site-packages/sklearn/decomposition/_nmf.py:1425: FutureWarning: `alpha` was deprecated in version 1.0 and will be removed in 1.2. Use `alpha_W` and `alpha_H` instead\n",
      "/home/jovyan/my-conda-envs/cellpymc/lib/python3.7/site-packages/sklearn/decomposition/_nmf.py:1425: FutureWarning: `alpha` was deprecated in version 1.0 and will be removed in 1.2. Use `alpha_W` and `alpha_H` instead\n",
      "/home/jovyan/my-conda-envs/cellpymc/lib/python3.7/site-packages/sklearn/decomposition/_nmf.py:1425: FutureWarning: `alpha` was deprecated in version 1.0 and will be removed in 1.2. Use `alpha_W` and `alpha_H` instead\n"
     ]
    },
    {
     "name": "stdout",
     "output_type": "stream",
     "text": [
      "WARNING: saving figure to file /nfs/team205/heart/cell2location/coloc_nmf/CoLocatedComb/SAN_revision/HCAHeartST13228106/CoLocatedGroupsSklearnNMF_3430locations_53factors/spatial/showcell_density_mean_n_fact5_sHCAHeartST13228106_p99.2.pdf\n",
      "### Analysis name: CoLocatedGroupsSklearnNMF_6combinations_3430locations_53factors\n"
     ]
    },
    {
     "name": "stderr",
     "output_type": "stream",
     "text": [
      "/home/jovyan/my-conda-envs/cellpymc/lib/python3.7/site-packages/sklearn/decomposition/_nmf.py:1425: FutureWarning: `alpha` was deprecated in version 1.0 and will be removed in 1.2. Use `alpha_W` and `alpha_H` instead\n",
      "/home/jovyan/my-conda-envs/cellpymc/lib/python3.7/site-packages/sklearn/decomposition/_nmf.py:1425: FutureWarning: `alpha` was deprecated in version 1.0 and will be removed in 1.2. Use `alpha_W` and `alpha_H` instead\n",
      "/home/jovyan/my-conda-envs/cellpymc/lib/python3.7/site-packages/sklearn/decomposition/_nmf.py:1425: FutureWarning: `alpha` was deprecated in version 1.0 and will be removed in 1.2. Use `alpha_W` and `alpha_H` instead\n"
     ]
    },
    {
     "name": "stdout",
     "output_type": "stream",
     "text": [
      "WARNING: saving figure to file /nfs/team205/heart/cell2location/coloc_nmf/CoLocatedComb/SAN_revision/HCAHeartST13228106/CoLocatedGroupsSklearnNMF_3430locations_53factors/spatial/showcell_density_mean_n_fact6_sHCAHeartST13228106_p99.2.pdf\n",
      "### Analysis name: CoLocatedGroupsSklearnNMF_7combinations_3430locations_53factors\n"
     ]
    },
    {
     "name": "stderr",
     "output_type": "stream",
     "text": [
      "/home/jovyan/my-conda-envs/cellpymc/lib/python3.7/site-packages/sklearn/decomposition/_nmf.py:1425: FutureWarning: `alpha` was deprecated in version 1.0 and will be removed in 1.2. Use `alpha_W` and `alpha_H` instead\n",
      "/home/jovyan/my-conda-envs/cellpymc/lib/python3.7/site-packages/sklearn/decomposition/_nmf.py:1425: FutureWarning: `alpha` was deprecated in version 1.0 and will be removed in 1.2. Use `alpha_W` and `alpha_H` instead\n",
      "/home/jovyan/my-conda-envs/cellpymc/lib/python3.7/site-packages/sklearn/decomposition/_nmf.py:1425: FutureWarning: `alpha` was deprecated in version 1.0 and will be removed in 1.2. Use `alpha_W` and `alpha_H` instead\n"
     ]
    },
    {
     "name": "stdout",
     "output_type": "stream",
     "text": [
      "WARNING: saving figure to file /nfs/team205/heart/cell2location/coloc_nmf/CoLocatedComb/SAN_revision/HCAHeartST13228106/CoLocatedGroupsSklearnNMF_3430locations_53factors/spatial/showcell_density_mean_n_fact7_sHCAHeartST13228106_p99.2.pdf\n",
      "### Analysis name: CoLocatedGroupsSklearnNMF_8combinations_3430locations_53factors\n"
     ]
    },
    {
     "name": "stderr",
     "output_type": "stream",
     "text": [
      "/home/jovyan/my-conda-envs/cellpymc/lib/python3.7/site-packages/sklearn/decomposition/_nmf.py:1425: FutureWarning: `alpha` was deprecated in version 1.0 and will be removed in 1.2. Use `alpha_W` and `alpha_H` instead\n",
      "/home/jovyan/my-conda-envs/cellpymc/lib/python3.7/site-packages/sklearn/decomposition/_nmf.py:1425: FutureWarning: `alpha` was deprecated in version 1.0 and will be removed in 1.2. Use `alpha_W` and `alpha_H` instead\n",
      "/home/jovyan/my-conda-envs/cellpymc/lib/python3.7/site-packages/sklearn/decomposition/_nmf.py:1425: FutureWarning: `alpha` was deprecated in version 1.0 and will be removed in 1.2. Use `alpha_W` and `alpha_H` instead\n"
     ]
    },
    {
     "name": "stdout",
     "output_type": "stream",
     "text": [
      "WARNING: saving figure to file /nfs/team205/heart/cell2location/coloc_nmf/CoLocatedComb/SAN_revision/HCAHeartST13228106/CoLocatedGroupsSklearnNMF_3430locations_53factors/spatial/showcell_density_mean_n_fact8_sHCAHeartST13228106_p99.2.pdf\n",
      "### Analysis name: CoLocatedGroupsSklearnNMF_9combinations_3430locations_53factors\n"
     ]
    },
    {
     "name": "stderr",
     "output_type": "stream",
     "text": [
      "/home/jovyan/my-conda-envs/cellpymc/lib/python3.7/site-packages/sklearn/decomposition/_nmf.py:1425: FutureWarning: `alpha` was deprecated in version 1.0 and will be removed in 1.2. Use `alpha_W` and `alpha_H` instead\n",
      "/home/jovyan/my-conda-envs/cellpymc/lib/python3.7/site-packages/sklearn/decomposition/_nmf.py:1425: FutureWarning: `alpha` was deprecated in version 1.0 and will be removed in 1.2. Use `alpha_W` and `alpha_H` instead\n",
      "/home/jovyan/my-conda-envs/cellpymc/lib/python3.7/site-packages/sklearn/decomposition/_nmf.py:1425: FutureWarning: `alpha` was deprecated in version 1.0 and will be removed in 1.2. Use `alpha_W` and `alpha_H` instead\n"
     ]
    },
    {
     "name": "stdout",
     "output_type": "stream",
     "text": [
      "WARNING: saving figure to file /nfs/team205/heart/cell2location/coloc_nmf/CoLocatedComb/SAN_revision/HCAHeartST13228106/CoLocatedGroupsSklearnNMF_3430locations_53factors/spatial/showcell_density_mean_n_fact9_sHCAHeartST13228106_p99.2.pdf\n",
      "### Analysis name: CoLocatedGroupsSklearnNMF_10combinations_3430locations_53factors\n"
     ]
    },
    {
     "name": "stderr",
     "output_type": "stream",
     "text": [
      "/home/jovyan/my-conda-envs/cellpymc/lib/python3.7/site-packages/sklearn/decomposition/_nmf.py:1425: FutureWarning: `alpha` was deprecated in version 1.0 and will be removed in 1.2. Use `alpha_W` and `alpha_H` instead\n",
      "/home/jovyan/my-conda-envs/cellpymc/lib/python3.7/site-packages/sklearn/decomposition/_nmf.py:1425: FutureWarning: `alpha` was deprecated in version 1.0 and will be removed in 1.2. Use `alpha_W` and `alpha_H` instead\n",
      "/home/jovyan/my-conda-envs/cellpymc/lib/python3.7/site-packages/sklearn/decomposition/_nmf.py:1425: FutureWarning: `alpha` was deprecated in version 1.0 and will be removed in 1.2. Use `alpha_W` and `alpha_H` instead\n"
     ]
    },
    {
     "name": "stdout",
     "output_type": "stream",
     "text": [
      "WARNING: saving figure to file /nfs/team205/heart/cell2location/coloc_nmf/CoLocatedComb/SAN_revision/HCAHeartST13228106/CoLocatedGroupsSklearnNMF_3430locations_53factors/spatial/showcell_density_mean_n_fact10_sHCAHeartST13228106_p99.2.pdf\n",
      "### Analysis name: CoLocatedGroupsSklearnNMF_11combinations_3430locations_53factors\n"
     ]
    },
    {
     "name": "stderr",
     "output_type": "stream",
     "text": [
      "/home/jovyan/my-conda-envs/cellpymc/lib/python3.7/site-packages/sklearn/decomposition/_nmf.py:1425: FutureWarning: `alpha` was deprecated in version 1.0 and will be removed in 1.2. Use `alpha_W` and `alpha_H` instead\n",
      "/home/jovyan/my-conda-envs/cellpymc/lib/python3.7/site-packages/sklearn/decomposition/_nmf.py:1425: FutureWarning: `alpha` was deprecated in version 1.0 and will be removed in 1.2. Use `alpha_W` and `alpha_H` instead\n",
      "/home/jovyan/my-conda-envs/cellpymc/lib/python3.7/site-packages/sklearn/decomposition/_nmf.py:1425: FutureWarning: `alpha` was deprecated in version 1.0 and will be removed in 1.2. Use `alpha_W` and `alpha_H` instead\n"
     ]
    },
    {
     "name": "stdout",
     "output_type": "stream",
     "text": [
      "WARNING: saving figure to file /nfs/team205/heart/cell2location/coloc_nmf/CoLocatedComb/SAN_revision/HCAHeartST13228106/CoLocatedGroupsSklearnNMF_3430locations_53factors/spatial/showcell_density_mean_n_fact11_sHCAHeartST13228106_p99.2.pdf\n",
      "### Analysis name: CoLocatedGroupsSklearnNMF_12combinations_3430locations_53factors\n"
     ]
    },
    {
     "name": "stderr",
     "output_type": "stream",
     "text": [
      "/home/jovyan/my-conda-envs/cellpymc/lib/python3.7/site-packages/sklearn/decomposition/_nmf.py:1425: FutureWarning: `alpha` was deprecated in version 1.0 and will be removed in 1.2. Use `alpha_W` and `alpha_H` instead\n",
      "/home/jovyan/my-conda-envs/cellpymc/lib/python3.7/site-packages/sklearn/decomposition/_nmf.py:1425: FutureWarning: `alpha` was deprecated in version 1.0 and will be removed in 1.2. Use `alpha_W` and `alpha_H` instead\n",
      "/home/jovyan/my-conda-envs/cellpymc/lib/python3.7/site-packages/sklearn/decomposition/_nmf.py:1425: FutureWarning: `alpha` was deprecated in version 1.0 and will be removed in 1.2. Use `alpha_W` and `alpha_H` instead\n"
     ]
    },
    {
     "name": "stdout",
     "output_type": "stream",
     "text": [
      "WARNING: saving figure to file /nfs/team205/heart/cell2location/coloc_nmf/CoLocatedComb/SAN_revision/HCAHeartST13228106/CoLocatedGroupsSklearnNMF_3430locations_53factors/spatial/showcell_density_mean_n_fact12_sHCAHeartST13228106_p99.2.pdf\n",
      "### Analysis name: CoLocatedGroupsSklearnNMF_13combinations_3430locations_53factors\n"
     ]
    },
    {
     "name": "stderr",
     "output_type": "stream",
     "text": [
      "/home/jovyan/my-conda-envs/cellpymc/lib/python3.7/site-packages/sklearn/decomposition/_nmf.py:1425: FutureWarning: `alpha` was deprecated in version 1.0 and will be removed in 1.2. Use `alpha_W` and `alpha_H` instead\n",
      "/home/jovyan/my-conda-envs/cellpymc/lib/python3.7/site-packages/sklearn/decomposition/_nmf.py:1425: FutureWarning: `alpha` was deprecated in version 1.0 and will be removed in 1.2. Use `alpha_W` and `alpha_H` instead\n",
      "/home/jovyan/my-conda-envs/cellpymc/lib/python3.7/site-packages/sklearn/decomposition/_nmf.py:1425: FutureWarning: `alpha` was deprecated in version 1.0 and will be removed in 1.2. Use `alpha_W` and `alpha_H` instead\n"
     ]
    },
    {
     "name": "stdout",
     "output_type": "stream",
     "text": [
      "WARNING: saving figure to file /nfs/team205/heart/cell2location/coloc_nmf/CoLocatedComb/SAN_revision/HCAHeartST13228106/CoLocatedGroupsSklearnNMF_3430locations_53factors/spatial/showcell_density_mean_n_fact13_sHCAHeartST13228106_p99.2.pdf\n",
      "### Analysis name: CoLocatedGroupsSklearnNMF_14combinations_3430locations_53factors\n"
     ]
    },
    {
     "name": "stderr",
     "output_type": "stream",
     "text": [
      "/home/jovyan/my-conda-envs/cellpymc/lib/python3.7/site-packages/sklearn/decomposition/_nmf.py:1425: FutureWarning: `alpha` was deprecated in version 1.0 and will be removed in 1.2. Use `alpha_W` and `alpha_H` instead\n",
      "/home/jovyan/my-conda-envs/cellpymc/lib/python3.7/site-packages/sklearn/decomposition/_nmf.py:1425: FutureWarning: `alpha` was deprecated in version 1.0 and will be removed in 1.2. Use `alpha_W` and `alpha_H` instead\n",
      "/home/jovyan/my-conda-envs/cellpymc/lib/python3.7/site-packages/sklearn/decomposition/_nmf.py:1425: FutureWarning: `alpha` was deprecated in version 1.0 and will be removed in 1.2. Use `alpha_W` and `alpha_H` instead\n"
     ]
    },
    {
     "name": "stdout",
     "output_type": "stream",
     "text": [
      "WARNING: saving figure to file /nfs/team205/heart/cell2location/coloc_nmf/CoLocatedComb/SAN_revision/HCAHeartST13228106/CoLocatedGroupsSklearnNMF_3430locations_53factors/spatial/showcell_density_mean_n_fact14_sHCAHeartST13228106_p99.2.pdf\n"
     ]
    }
   ],
   "source": [
    "# SAN\n",
    "cell2loc_out = '/nfs/team205/heart/cell2location/cell2location_map/cs-selected/SAN_per-slide'\n",
    "\n",
    "slides = os.listdir(cell2loc_out)\n",
    "slides.sort()\n",
    "print(slides)\n",
    "\n",
    "for ID in progress_bar(slides):\n",
    "    \n",
    "    adata_vis = sc.read_h5ad(f'{cell2loc_out}/{ID}/sp.h5ad')\n",
    "    print(adata_vis.obs['sample'].value_counts())\n",
    "    \n",
    "    os.mkdir(f'/nfs/team205/heart/cell2location/coloc_nmf/CoLocatedComb/SAN_revision/{ID}/')\n",
    "    \n",
    "    run_colocation(\n",
    "        adata_vis,\n",
    "        model_name='CoLocatedGroupsSklearnNMF',\n",
    "        train_args={\n",
    "          'n_fact': np.arange(5, 15), # IMPORTANT: use a wider range of the number of factors (5-30)\n",
    "          'sample_name_col': 'sample', # columns in adata_vis.obs that identifies sample\n",
    "          'n_restarts': 3 # number of training restarts\n",
    "        },\n",
    "        export_args={'path': f'/nfs/team205/heart/cell2location/coloc_nmf/CoLocatedComb/SAN_revision/{ID}/'}\n",
    "    )\n",
    "    \n",
    "    del adata_vis"
   ]
  },
  {
   "cell_type": "code",
   "execution_count": 6,
   "id": "fancy-memory",
   "metadata": {},
   "outputs": [
    {
     "data": {
      "text/html": [
       "\n",
       "    <div>\n",
       "        <style>\n",
       "            /* Turns off some styling */\n",
       "            progress {\n",
       "                /* gets rid of default border in Firefox and Opera. */\n",
       "                border: none;\n",
       "                /* Needs to be in here for Safari polyfill so background images work as expected. */\n",
       "                background-size: auto;\n",
       "            }\n",
       "            .progress-bar-interrupted, .progress-bar-interrupted::-webkit-progress-bar {\n",
       "                background: #F44336;\n",
       "            }\n",
       "        </style>\n",
       "      <progress value='4' class='' max='4' style='width:300px; height:20px; vertical-align: middle;'></progress>\n",
       "      100.00% [4/4 1:35:25<00:00]\n",
       "    </div>\n",
       "    "
      ],
      "text/plain": [
       "<IPython.core.display.HTML object>"
      ]
     },
     "metadata": {},
     "output_type": "display_data"
    },
    {
     "name": "stdout",
     "output_type": "stream",
     "text": [
      "HCAHeartST13233996    3052\n",
      "Name: sample, dtype: int64\n",
      "### Analysis name: CoLocatedGroupsSklearnNMF_5combinations_3052locations_53factors\n"
     ]
    },
    {
     "name": "stderr",
     "output_type": "stream",
     "text": [
      "/home/jovyan/my-conda-envs/cellpymc/lib/python3.7/site-packages/sklearn/decomposition/_nmf.py:1425: FutureWarning: `alpha` was deprecated in version 1.0 and will be removed in 1.2. Use `alpha_W` and `alpha_H` instead\n",
      "/home/jovyan/my-conda-envs/cellpymc/lib/python3.7/site-packages/sklearn/decomposition/_nmf.py:1425: FutureWarning: `alpha` was deprecated in version 1.0 and will be removed in 1.2. Use `alpha_W` and `alpha_H` instead\n",
      "/home/jovyan/my-conda-envs/cellpymc/lib/python3.7/site-packages/sklearn/decomposition/_nmf.py:1425: FutureWarning: `alpha` was deprecated in version 1.0 and will be removed in 1.2. Use `alpha_W` and `alpha_H` instead\n"
     ]
    },
    {
     "name": "stdout",
     "output_type": "stream",
     "text": [
      "WARNING: saving figure to file /nfs/team205/heart/cell2location/coloc_nmf/CoLocatedComb/SAN_revision/HCAHeartST13233996/CoLocatedGroupsSklearnNMF_3052locations_53factors/spatial/showcell_density_mean_n_fact5_sHCAHeartST13233996_p99.2.pdf\n",
      "### Analysis name: CoLocatedGroupsSklearnNMF_6combinations_3052locations_53factors\n"
     ]
    },
    {
     "name": "stderr",
     "output_type": "stream",
     "text": [
      "/home/jovyan/my-conda-envs/cellpymc/lib/python3.7/site-packages/sklearn/decomposition/_nmf.py:1425: FutureWarning: `alpha` was deprecated in version 1.0 and will be removed in 1.2. Use `alpha_W` and `alpha_H` instead\n",
      "/home/jovyan/my-conda-envs/cellpymc/lib/python3.7/site-packages/sklearn/decomposition/_nmf.py:1425: FutureWarning: `alpha` was deprecated in version 1.0 and will be removed in 1.2. Use `alpha_W` and `alpha_H` instead\n",
      "/home/jovyan/my-conda-envs/cellpymc/lib/python3.7/site-packages/sklearn/decomposition/_nmf.py:1425: FutureWarning: `alpha` was deprecated in version 1.0 and will be removed in 1.2. Use `alpha_W` and `alpha_H` instead\n"
     ]
    },
    {
     "name": "stdout",
     "output_type": "stream",
     "text": [
      "WARNING: saving figure to file /nfs/team205/heart/cell2location/coloc_nmf/CoLocatedComb/SAN_revision/HCAHeartST13233996/CoLocatedGroupsSklearnNMF_3052locations_53factors/spatial/showcell_density_mean_n_fact6_sHCAHeartST13233996_p99.2.pdf\n",
      "### Analysis name: CoLocatedGroupsSklearnNMF_7combinations_3052locations_53factors\n"
     ]
    },
    {
     "name": "stderr",
     "output_type": "stream",
     "text": [
      "/home/jovyan/my-conda-envs/cellpymc/lib/python3.7/site-packages/sklearn/decomposition/_nmf.py:1425: FutureWarning: `alpha` was deprecated in version 1.0 and will be removed in 1.2. Use `alpha_W` and `alpha_H` instead\n",
      "/home/jovyan/my-conda-envs/cellpymc/lib/python3.7/site-packages/sklearn/decomposition/_nmf.py:1425: FutureWarning: `alpha` was deprecated in version 1.0 and will be removed in 1.2. Use `alpha_W` and `alpha_H` instead\n",
      "/home/jovyan/my-conda-envs/cellpymc/lib/python3.7/site-packages/sklearn/decomposition/_nmf.py:1425: FutureWarning: `alpha` was deprecated in version 1.0 and will be removed in 1.2. Use `alpha_W` and `alpha_H` instead\n"
     ]
    },
    {
     "name": "stdout",
     "output_type": "stream",
     "text": [
      "WARNING: saving figure to file /nfs/team205/heart/cell2location/coloc_nmf/CoLocatedComb/SAN_revision/HCAHeartST13233996/CoLocatedGroupsSklearnNMF_3052locations_53factors/spatial/showcell_density_mean_n_fact7_sHCAHeartST13233996_p99.2.pdf\n",
      "### Analysis name: CoLocatedGroupsSklearnNMF_8combinations_3052locations_53factors\n"
     ]
    },
    {
     "name": "stderr",
     "output_type": "stream",
     "text": [
      "/home/jovyan/my-conda-envs/cellpymc/lib/python3.7/site-packages/sklearn/decomposition/_nmf.py:1425: FutureWarning: `alpha` was deprecated in version 1.0 and will be removed in 1.2. Use `alpha_W` and `alpha_H` instead\n",
      "/home/jovyan/my-conda-envs/cellpymc/lib/python3.7/site-packages/sklearn/decomposition/_nmf.py:1425: FutureWarning: `alpha` was deprecated in version 1.0 and will be removed in 1.2. Use `alpha_W` and `alpha_H` instead\n",
      "/home/jovyan/my-conda-envs/cellpymc/lib/python3.7/site-packages/sklearn/decomposition/_nmf.py:1425: FutureWarning: `alpha` was deprecated in version 1.0 and will be removed in 1.2. Use `alpha_W` and `alpha_H` instead\n"
     ]
    },
    {
     "name": "stdout",
     "output_type": "stream",
     "text": [
      "WARNING: saving figure to file /nfs/team205/heart/cell2location/coloc_nmf/CoLocatedComb/SAN_revision/HCAHeartST13233996/CoLocatedGroupsSklearnNMF_3052locations_53factors/spatial/showcell_density_mean_n_fact8_sHCAHeartST13233996_p99.2.pdf\n",
      "### Analysis name: CoLocatedGroupsSklearnNMF_9combinations_3052locations_53factors\n"
     ]
    },
    {
     "name": "stderr",
     "output_type": "stream",
     "text": [
      "/home/jovyan/my-conda-envs/cellpymc/lib/python3.7/site-packages/sklearn/decomposition/_nmf.py:1425: FutureWarning: `alpha` was deprecated in version 1.0 and will be removed in 1.2. Use `alpha_W` and `alpha_H` instead\n",
      "/home/jovyan/my-conda-envs/cellpymc/lib/python3.7/site-packages/sklearn/decomposition/_nmf.py:1425: FutureWarning: `alpha` was deprecated in version 1.0 and will be removed in 1.2. Use `alpha_W` and `alpha_H` instead\n",
      "/home/jovyan/my-conda-envs/cellpymc/lib/python3.7/site-packages/sklearn/decomposition/_nmf.py:1425: FutureWarning: `alpha` was deprecated in version 1.0 and will be removed in 1.2. Use `alpha_W` and `alpha_H` instead\n"
     ]
    },
    {
     "name": "stdout",
     "output_type": "stream",
     "text": [
      "WARNING: saving figure to file /nfs/team205/heart/cell2location/coloc_nmf/CoLocatedComb/SAN_revision/HCAHeartST13233996/CoLocatedGroupsSklearnNMF_3052locations_53factors/spatial/showcell_density_mean_n_fact9_sHCAHeartST13233996_p99.2.pdf\n",
      "### Analysis name: CoLocatedGroupsSklearnNMF_10combinations_3052locations_53factors\n"
     ]
    },
    {
     "name": "stderr",
     "output_type": "stream",
     "text": [
      "/home/jovyan/my-conda-envs/cellpymc/lib/python3.7/site-packages/sklearn/decomposition/_nmf.py:1425: FutureWarning: `alpha` was deprecated in version 1.0 and will be removed in 1.2. Use `alpha_W` and `alpha_H` instead\n",
      "/home/jovyan/my-conda-envs/cellpymc/lib/python3.7/site-packages/sklearn/decomposition/_nmf.py:1425: FutureWarning: `alpha` was deprecated in version 1.0 and will be removed in 1.2. Use `alpha_W` and `alpha_H` instead\n",
      "/home/jovyan/my-conda-envs/cellpymc/lib/python3.7/site-packages/sklearn/decomposition/_nmf.py:1425: FutureWarning: `alpha` was deprecated in version 1.0 and will be removed in 1.2. Use `alpha_W` and `alpha_H` instead\n"
     ]
    },
    {
     "name": "stdout",
     "output_type": "stream",
     "text": [
      "WARNING: saving figure to file /nfs/team205/heart/cell2location/coloc_nmf/CoLocatedComb/SAN_revision/HCAHeartST13233996/CoLocatedGroupsSklearnNMF_3052locations_53factors/spatial/showcell_density_mean_n_fact10_sHCAHeartST13233996_p99.2.pdf\n",
      "### Analysis name: CoLocatedGroupsSklearnNMF_11combinations_3052locations_53factors\n"
     ]
    },
    {
     "name": "stderr",
     "output_type": "stream",
     "text": [
      "/home/jovyan/my-conda-envs/cellpymc/lib/python3.7/site-packages/sklearn/decomposition/_nmf.py:1425: FutureWarning: `alpha` was deprecated in version 1.0 and will be removed in 1.2. Use `alpha_W` and `alpha_H` instead\n",
      "/home/jovyan/my-conda-envs/cellpymc/lib/python3.7/site-packages/sklearn/decomposition/_nmf.py:1425: FutureWarning: `alpha` was deprecated in version 1.0 and will be removed in 1.2. Use `alpha_W` and `alpha_H` instead\n",
      "/home/jovyan/my-conda-envs/cellpymc/lib/python3.7/site-packages/sklearn/decomposition/_nmf.py:1425: FutureWarning: `alpha` was deprecated in version 1.0 and will be removed in 1.2. Use `alpha_W` and `alpha_H` instead\n"
     ]
    },
    {
     "name": "stdout",
     "output_type": "stream",
     "text": [
      "WARNING: saving figure to file /nfs/team205/heart/cell2location/coloc_nmf/CoLocatedComb/SAN_revision/HCAHeartST13233996/CoLocatedGroupsSklearnNMF_3052locations_53factors/spatial/showcell_density_mean_n_fact11_sHCAHeartST13233996_p99.2.pdf\n",
      "### Analysis name: CoLocatedGroupsSklearnNMF_12combinations_3052locations_53factors\n"
     ]
    },
    {
     "name": "stderr",
     "output_type": "stream",
     "text": [
      "/home/jovyan/my-conda-envs/cellpymc/lib/python3.7/site-packages/sklearn/decomposition/_nmf.py:1425: FutureWarning: `alpha` was deprecated in version 1.0 and will be removed in 1.2. Use `alpha_W` and `alpha_H` instead\n",
      "/home/jovyan/my-conda-envs/cellpymc/lib/python3.7/site-packages/sklearn/decomposition/_nmf.py:1425: FutureWarning: `alpha` was deprecated in version 1.0 and will be removed in 1.2. Use `alpha_W` and `alpha_H` instead\n",
      "/home/jovyan/my-conda-envs/cellpymc/lib/python3.7/site-packages/sklearn/decomposition/_nmf.py:1425: FutureWarning: `alpha` was deprecated in version 1.0 and will be removed in 1.2. Use `alpha_W` and `alpha_H` instead\n"
     ]
    },
    {
     "name": "stdout",
     "output_type": "stream",
     "text": [
      "WARNING: saving figure to file /nfs/team205/heart/cell2location/coloc_nmf/CoLocatedComb/SAN_revision/HCAHeartST13233996/CoLocatedGroupsSklearnNMF_3052locations_53factors/spatial/showcell_density_mean_n_fact12_sHCAHeartST13233996_p99.2.pdf\n",
      "### Analysis name: CoLocatedGroupsSklearnNMF_13combinations_3052locations_53factors\n"
     ]
    },
    {
     "name": "stderr",
     "output_type": "stream",
     "text": [
      "/home/jovyan/my-conda-envs/cellpymc/lib/python3.7/site-packages/sklearn/decomposition/_nmf.py:1425: FutureWarning: `alpha` was deprecated in version 1.0 and will be removed in 1.2. Use `alpha_W` and `alpha_H` instead\n",
      "/home/jovyan/my-conda-envs/cellpymc/lib/python3.7/site-packages/sklearn/decomposition/_nmf.py:1425: FutureWarning: `alpha` was deprecated in version 1.0 and will be removed in 1.2. Use `alpha_W` and `alpha_H` instead\n",
      "/home/jovyan/my-conda-envs/cellpymc/lib/python3.7/site-packages/sklearn/decomposition/_nmf.py:1425: FutureWarning: `alpha` was deprecated in version 1.0 and will be removed in 1.2. Use `alpha_W` and `alpha_H` instead\n"
     ]
    },
    {
     "name": "stdout",
     "output_type": "stream",
     "text": [
      "WARNING: saving figure to file /nfs/team205/heart/cell2location/coloc_nmf/CoLocatedComb/SAN_revision/HCAHeartST13233996/CoLocatedGroupsSklearnNMF_3052locations_53factors/spatial/showcell_density_mean_n_fact13_sHCAHeartST13233996_p99.2.pdf\n",
      "### Analysis name: CoLocatedGroupsSklearnNMF_14combinations_3052locations_53factors\n"
     ]
    },
    {
     "name": "stderr",
     "output_type": "stream",
     "text": [
      "/home/jovyan/my-conda-envs/cellpymc/lib/python3.7/site-packages/sklearn/decomposition/_nmf.py:1425: FutureWarning: `alpha` was deprecated in version 1.0 and will be removed in 1.2. Use `alpha_W` and `alpha_H` instead\n",
      "/home/jovyan/my-conda-envs/cellpymc/lib/python3.7/site-packages/sklearn/decomposition/_nmf.py:1425: FutureWarning: `alpha` was deprecated in version 1.0 and will be removed in 1.2. Use `alpha_W` and `alpha_H` instead\n",
      "/home/jovyan/my-conda-envs/cellpymc/lib/python3.7/site-packages/sklearn/decomposition/_nmf.py:1425: FutureWarning: `alpha` was deprecated in version 1.0 and will be removed in 1.2. Use `alpha_W` and `alpha_H` instead\n"
     ]
    },
    {
     "name": "stdout",
     "output_type": "stream",
     "text": [
      "WARNING: saving figure to file /nfs/team205/heart/cell2location/coloc_nmf/CoLocatedComb/SAN_revision/HCAHeartST13233996/CoLocatedGroupsSklearnNMF_3052locations_53factors/spatial/showcell_density_mean_n_fact14_sHCAHeartST13233996_p99.2.pdf\n",
      "HCAHeartST13233997    3400\n",
      "Name: sample, dtype: int64\n",
      "### Analysis name: CoLocatedGroupsSklearnNMF_5combinations_3400locations_53factors\n"
     ]
    },
    {
     "name": "stderr",
     "output_type": "stream",
     "text": [
      "/home/jovyan/my-conda-envs/cellpymc/lib/python3.7/site-packages/sklearn/decomposition/_nmf.py:1425: FutureWarning: `alpha` was deprecated in version 1.0 and will be removed in 1.2. Use `alpha_W` and `alpha_H` instead\n",
      "/home/jovyan/my-conda-envs/cellpymc/lib/python3.7/site-packages/sklearn/decomposition/_nmf.py:1425: FutureWarning: `alpha` was deprecated in version 1.0 and will be removed in 1.2. Use `alpha_W` and `alpha_H` instead\n",
      "/home/jovyan/my-conda-envs/cellpymc/lib/python3.7/site-packages/sklearn/decomposition/_nmf.py:1425: FutureWarning: `alpha` was deprecated in version 1.0 and will be removed in 1.2. Use `alpha_W` and `alpha_H` instead\n"
     ]
    },
    {
     "name": "stdout",
     "output_type": "stream",
     "text": [
      "WARNING: saving figure to file /nfs/team205/heart/cell2location/coloc_nmf/CoLocatedComb/SAN_revision/HCAHeartST13233997/CoLocatedGroupsSklearnNMF_3400locations_53factors/spatial/showcell_density_mean_n_fact5_sHCAHeartST13233997_p99.2.pdf\n",
      "### Analysis name: CoLocatedGroupsSklearnNMF_6combinations_3400locations_53factors\n"
     ]
    },
    {
     "name": "stderr",
     "output_type": "stream",
     "text": [
      "/home/jovyan/my-conda-envs/cellpymc/lib/python3.7/site-packages/sklearn/decomposition/_nmf.py:1425: FutureWarning: `alpha` was deprecated in version 1.0 and will be removed in 1.2. Use `alpha_W` and `alpha_H` instead\n",
      "/home/jovyan/my-conda-envs/cellpymc/lib/python3.7/site-packages/sklearn/decomposition/_nmf.py:1425: FutureWarning: `alpha` was deprecated in version 1.0 and will be removed in 1.2. Use `alpha_W` and `alpha_H` instead\n",
      "/home/jovyan/my-conda-envs/cellpymc/lib/python3.7/site-packages/sklearn/decomposition/_nmf.py:1425: FutureWarning: `alpha` was deprecated in version 1.0 and will be removed in 1.2. Use `alpha_W` and `alpha_H` instead\n"
     ]
    },
    {
     "name": "stdout",
     "output_type": "stream",
     "text": [
      "WARNING: saving figure to file /nfs/team205/heart/cell2location/coloc_nmf/CoLocatedComb/SAN_revision/HCAHeartST13233997/CoLocatedGroupsSklearnNMF_3400locations_53factors/spatial/showcell_density_mean_n_fact6_sHCAHeartST13233997_p99.2.pdf\n",
      "### Analysis name: CoLocatedGroupsSklearnNMF_7combinations_3400locations_53factors\n"
     ]
    },
    {
     "name": "stderr",
     "output_type": "stream",
     "text": [
      "/home/jovyan/my-conda-envs/cellpymc/lib/python3.7/site-packages/sklearn/decomposition/_nmf.py:1425: FutureWarning: `alpha` was deprecated in version 1.0 and will be removed in 1.2. Use `alpha_W` and `alpha_H` instead\n",
      "/home/jovyan/my-conda-envs/cellpymc/lib/python3.7/site-packages/sklearn/decomposition/_nmf.py:1425: FutureWarning: `alpha` was deprecated in version 1.0 and will be removed in 1.2. Use `alpha_W` and `alpha_H` instead\n",
      "/home/jovyan/my-conda-envs/cellpymc/lib/python3.7/site-packages/sklearn/decomposition/_nmf.py:1425: FutureWarning: `alpha` was deprecated in version 1.0 and will be removed in 1.2. Use `alpha_W` and `alpha_H` instead\n"
     ]
    },
    {
     "name": "stdout",
     "output_type": "stream",
     "text": [
      "WARNING: saving figure to file /nfs/team205/heart/cell2location/coloc_nmf/CoLocatedComb/SAN_revision/HCAHeartST13233997/CoLocatedGroupsSklearnNMF_3400locations_53factors/spatial/showcell_density_mean_n_fact7_sHCAHeartST13233997_p99.2.pdf\n",
      "### Analysis name: CoLocatedGroupsSklearnNMF_8combinations_3400locations_53factors\n"
     ]
    },
    {
     "name": "stderr",
     "output_type": "stream",
     "text": [
      "/home/jovyan/my-conda-envs/cellpymc/lib/python3.7/site-packages/sklearn/decomposition/_nmf.py:1425: FutureWarning: `alpha` was deprecated in version 1.0 and will be removed in 1.2. Use `alpha_W` and `alpha_H` instead\n",
      "/home/jovyan/my-conda-envs/cellpymc/lib/python3.7/site-packages/sklearn/decomposition/_nmf.py:1425: FutureWarning: `alpha` was deprecated in version 1.0 and will be removed in 1.2. Use `alpha_W` and `alpha_H` instead\n",
      "/home/jovyan/my-conda-envs/cellpymc/lib/python3.7/site-packages/sklearn/decomposition/_nmf.py:1425: FutureWarning: `alpha` was deprecated in version 1.0 and will be removed in 1.2. Use `alpha_W` and `alpha_H` instead\n"
     ]
    },
    {
     "name": "stdout",
     "output_type": "stream",
     "text": [
      "WARNING: saving figure to file /nfs/team205/heart/cell2location/coloc_nmf/CoLocatedComb/SAN_revision/HCAHeartST13233997/CoLocatedGroupsSklearnNMF_3400locations_53factors/spatial/showcell_density_mean_n_fact8_sHCAHeartST13233997_p99.2.pdf\n",
      "### Analysis name: CoLocatedGroupsSklearnNMF_9combinations_3400locations_53factors\n"
     ]
    },
    {
     "name": "stderr",
     "output_type": "stream",
     "text": [
      "/home/jovyan/my-conda-envs/cellpymc/lib/python3.7/site-packages/sklearn/decomposition/_nmf.py:1425: FutureWarning: `alpha` was deprecated in version 1.0 and will be removed in 1.2. Use `alpha_W` and `alpha_H` instead\n",
      "/home/jovyan/my-conda-envs/cellpymc/lib/python3.7/site-packages/sklearn/decomposition/_nmf.py:1425: FutureWarning: `alpha` was deprecated in version 1.0 and will be removed in 1.2. Use `alpha_W` and `alpha_H` instead\n",
      "/home/jovyan/my-conda-envs/cellpymc/lib/python3.7/site-packages/sklearn/decomposition/_nmf.py:1425: FutureWarning: `alpha` was deprecated in version 1.0 and will be removed in 1.2. Use `alpha_W` and `alpha_H` instead\n"
     ]
    },
    {
     "name": "stdout",
     "output_type": "stream",
     "text": [
      "WARNING: saving figure to file /nfs/team205/heart/cell2location/coloc_nmf/CoLocatedComb/SAN_revision/HCAHeartST13233997/CoLocatedGroupsSklearnNMF_3400locations_53factors/spatial/showcell_density_mean_n_fact9_sHCAHeartST13233997_p99.2.pdf\n",
      "### Analysis name: CoLocatedGroupsSklearnNMF_10combinations_3400locations_53factors\n"
     ]
    },
    {
     "name": "stderr",
     "output_type": "stream",
     "text": [
      "/home/jovyan/my-conda-envs/cellpymc/lib/python3.7/site-packages/sklearn/decomposition/_nmf.py:1425: FutureWarning: `alpha` was deprecated in version 1.0 and will be removed in 1.2. Use `alpha_W` and `alpha_H` instead\n",
      "/home/jovyan/my-conda-envs/cellpymc/lib/python3.7/site-packages/sklearn/decomposition/_nmf.py:1425: FutureWarning: `alpha` was deprecated in version 1.0 and will be removed in 1.2. Use `alpha_W` and `alpha_H` instead\n",
      "/home/jovyan/my-conda-envs/cellpymc/lib/python3.7/site-packages/sklearn/decomposition/_nmf.py:1425: FutureWarning: `alpha` was deprecated in version 1.0 and will be removed in 1.2. Use `alpha_W` and `alpha_H` instead\n"
     ]
    },
    {
     "name": "stdout",
     "output_type": "stream",
     "text": [
      "WARNING: saving figure to file /nfs/team205/heart/cell2location/coloc_nmf/CoLocatedComb/SAN_revision/HCAHeartST13233997/CoLocatedGroupsSklearnNMF_3400locations_53factors/spatial/showcell_density_mean_n_fact10_sHCAHeartST13233997_p99.2.pdf\n",
      "### Analysis name: CoLocatedGroupsSklearnNMF_11combinations_3400locations_53factors\n"
     ]
    },
    {
     "name": "stderr",
     "output_type": "stream",
     "text": [
      "/home/jovyan/my-conda-envs/cellpymc/lib/python3.7/site-packages/sklearn/decomposition/_nmf.py:1425: FutureWarning: `alpha` was deprecated in version 1.0 and will be removed in 1.2. Use `alpha_W` and `alpha_H` instead\n",
      "/home/jovyan/my-conda-envs/cellpymc/lib/python3.7/site-packages/sklearn/decomposition/_nmf.py:1425: FutureWarning: `alpha` was deprecated in version 1.0 and will be removed in 1.2. Use `alpha_W` and `alpha_H` instead\n",
      "/home/jovyan/my-conda-envs/cellpymc/lib/python3.7/site-packages/sklearn/decomposition/_nmf.py:1425: FutureWarning: `alpha` was deprecated in version 1.0 and will be removed in 1.2. Use `alpha_W` and `alpha_H` instead\n"
     ]
    },
    {
     "name": "stdout",
     "output_type": "stream",
     "text": [
      "WARNING: saving figure to file /nfs/team205/heart/cell2location/coloc_nmf/CoLocatedComb/SAN_revision/HCAHeartST13233997/CoLocatedGroupsSklearnNMF_3400locations_53factors/spatial/showcell_density_mean_n_fact11_sHCAHeartST13233997_p99.2.pdf\n",
      "### Analysis name: CoLocatedGroupsSklearnNMF_12combinations_3400locations_53factors\n"
     ]
    },
    {
     "name": "stderr",
     "output_type": "stream",
     "text": [
      "/home/jovyan/my-conda-envs/cellpymc/lib/python3.7/site-packages/sklearn/decomposition/_nmf.py:1425: FutureWarning: `alpha` was deprecated in version 1.0 and will be removed in 1.2. Use `alpha_W` and `alpha_H` instead\n",
      "/home/jovyan/my-conda-envs/cellpymc/lib/python3.7/site-packages/sklearn/decomposition/_nmf.py:1425: FutureWarning: `alpha` was deprecated in version 1.0 and will be removed in 1.2. Use `alpha_W` and `alpha_H` instead\n",
      "/home/jovyan/my-conda-envs/cellpymc/lib/python3.7/site-packages/sklearn/decomposition/_nmf.py:1425: FutureWarning: `alpha` was deprecated in version 1.0 and will be removed in 1.2. Use `alpha_W` and `alpha_H` instead\n"
     ]
    },
    {
     "name": "stdout",
     "output_type": "stream",
     "text": [
      "WARNING: saving figure to file /nfs/team205/heart/cell2location/coloc_nmf/CoLocatedComb/SAN_revision/HCAHeartST13233997/CoLocatedGroupsSklearnNMF_3400locations_53factors/spatial/showcell_density_mean_n_fact12_sHCAHeartST13233997_p99.2.pdf\n",
      "### Analysis name: CoLocatedGroupsSklearnNMF_13combinations_3400locations_53factors\n"
     ]
    },
    {
     "name": "stderr",
     "output_type": "stream",
     "text": [
      "/home/jovyan/my-conda-envs/cellpymc/lib/python3.7/site-packages/sklearn/decomposition/_nmf.py:1425: FutureWarning: `alpha` was deprecated in version 1.0 and will be removed in 1.2. Use `alpha_W` and `alpha_H` instead\n",
      "/home/jovyan/my-conda-envs/cellpymc/lib/python3.7/site-packages/sklearn/decomposition/_nmf.py:1425: FutureWarning: `alpha` was deprecated in version 1.0 and will be removed in 1.2. Use `alpha_W` and `alpha_H` instead\n",
      "/home/jovyan/my-conda-envs/cellpymc/lib/python3.7/site-packages/sklearn/decomposition/_nmf.py:1425: FutureWarning: `alpha` was deprecated in version 1.0 and will be removed in 1.2. Use `alpha_W` and `alpha_H` instead\n"
     ]
    },
    {
     "name": "stdout",
     "output_type": "stream",
     "text": [
      "WARNING: saving figure to file /nfs/team205/heart/cell2location/coloc_nmf/CoLocatedComb/SAN_revision/HCAHeartST13233997/CoLocatedGroupsSklearnNMF_3400locations_53factors/spatial/showcell_density_mean_n_fact13_sHCAHeartST13233997_p99.2.pdf\n",
      "### Analysis name: CoLocatedGroupsSklearnNMF_14combinations_3400locations_53factors\n"
     ]
    },
    {
     "name": "stderr",
     "output_type": "stream",
     "text": [
      "/home/jovyan/my-conda-envs/cellpymc/lib/python3.7/site-packages/sklearn/decomposition/_nmf.py:1425: FutureWarning: `alpha` was deprecated in version 1.0 and will be removed in 1.2. Use `alpha_W` and `alpha_H` instead\n",
      "/home/jovyan/my-conda-envs/cellpymc/lib/python3.7/site-packages/sklearn/decomposition/_nmf.py:1425: FutureWarning: `alpha` was deprecated in version 1.0 and will be removed in 1.2. Use `alpha_W` and `alpha_H` instead\n",
      "/home/jovyan/my-conda-envs/cellpymc/lib/python3.7/site-packages/sklearn/decomposition/_nmf.py:1425: FutureWarning: `alpha` was deprecated in version 1.0 and will be removed in 1.2. Use `alpha_W` and `alpha_H` instead\n"
     ]
    },
    {
     "name": "stdout",
     "output_type": "stream",
     "text": [
      "WARNING: saving figure to file /nfs/team205/heart/cell2location/coloc_nmf/CoLocatedComb/SAN_revision/HCAHeartST13233997/CoLocatedGroupsSklearnNMF_3400locations_53factors/spatial/showcell_density_mean_n_fact14_sHCAHeartST13233997_p99.2.pdf\n",
      "HCAHeartST13233998    3448\n",
      "Name: sample, dtype: int64\n",
      "### Analysis name: CoLocatedGroupsSklearnNMF_5combinations_3448locations_53factors\n"
     ]
    },
    {
     "name": "stderr",
     "output_type": "stream",
     "text": [
      "/home/jovyan/my-conda-envs/cellpymc/lib/python3.7/site-packages/sklearn/decomposition/_nmf.py:1425: FutureWarning: `alpha` was deprecated in version 1.0 and will be removed in 1.2. Use `alpha_W` and `alpha_H` instead\n",
      "/home/jovyan/my-conda-envs/cellpymc/lib/python3.7/site-packages/sklearn/decomposition/_nmf.py:1425: FutureWarning: `alpha` was deprecated in version 1.0 and will be removed in 1.2. Use `alpha_W` and `alpha_H` instead\n",
      "/home/jovyan/my-conda-envs/cellpymc/lib/python3.7/site-packages/sklearn/decomposition/_nmf.py:1425: FutureWarning: `alpha` was deprecated in version 1.0 and will be removed in 1.2. Use `alpha_W` and `alpha_H` instead\n"
     ]
    },
    {
     "name": "stdout",
     "output_type": "stream",
     "text": [
      "WARNING: saving figure to file /nfs/team205/heart/cell2location/coloc_nmf/CoLocatedComb/SAN_revision/HCAHeartST13233998/CoLocatedGroupsSklearnNMF_3448locations_53factors/spatial/showcell_density_mean_n_fact5_sHCAHeartST13233998_p99.2.pdf\n",
      "### Analysis name: CoLocatedGroupsSklearnNMF_6combinations_3448locations_53factors\n"
     ]
    },
    {
     "name": "stderr",
     "output_type": "stream",
     "text": [
      "/home/jovyan/my-conda-envs/cellpymc/lib/python3.7/site-packages/sklearn/decomposition/_nmf.py:1425: FutureWarning: `alpha` was deprecated in version 1.0 and will be removed in 1.2. Use `alpha_W` and `alpha_H` instead\n",
      "/home/jovyan/my-conda-envs/cellpymc/lib/python3.7/site-packages/sklearn/decomposition/_nmf.py:1425: FutureWarning: `alpha` was deprecated in version 1.0 and will be removed in 1.2. Use `alpha_W` and `alpha_H` instead\n",
      "/home/jovyan/my-conda-envs/cellpymc/lib/python3.7/site-packages/sklearn/decomposition/_nmf.py:1425: FutureWarning: `alpha` was deprecated in version 1.0 and will be removed in 1.2. Use `alpha_W` and `alpha_H` instead\n"
     ]
    },
    {
     "name": "stdout",
     "output_type": "stream",
     "text": [
      "WARNING: saving figure to file /nfs/team205/heart/cell2location/coloc_nmf/CoLocatedComb/SAN_revision/HCAHeartST13233998/CoLocatedGroupsSklearnNMF_3448locations_53factors/spatial/showcell_density_mean_n_fact6_sHCAHeartST13233998_p99.2.pdf\n",
      "### Analysis name: CoLocatedGroupsSklearnNMF_7combinations_3448locations_53factors\n"
     ]
    },
    {
     "name": "stderr",
     "output_type": "stream",
     "text": [
      "/home/jovyan/my-conda-envs/cellpymc/lib/python3.7/site-packages/sklearn/decomposition/_nmf.py:1425: FutureWarning: `alpha` was deprecated in version 1.0 and will be removed in 1.2. Use `alpha_W` and `alpha_H` instead\n",
      "/home/jovyan/my-conda-envs/cellpymc/lib/python3.7/site-packages/sklearn/decomposition/_nmf.py:1425: FutureWarning: `alpha` was deprecated in version 1.0 and will be removed in 1.2. Use `alpha_W` and `alpha_H` instead\n",
      "/home/jovyan/my-conda-envs/cellpymc/lib/python3.7/site-packages/sklearn/decomposition/_nmf.py:1425: FutureWarning: `alpha` was deprecated in version 1.0 and will be removed in 1.2. Use `alpha_W` and `alpha_H` instead\n"
     ]
    },
    {
     "name": "stdout",
     "output_type": "stream",
     "text": [
      "WARNING: saving figure to file /nfs/team205/heart/cell2location/coloc_nmf/CoLocatedComb/SAN_revision/HCAHeartST13233998/CoLocatedGroupsSklearnNMF_3448locations_53factors/spatial/showcell_density_mean_n_fact7_sHCAHeartST13233998_p99.2.pdf\n",
      "### Analysis name: CoLocatedGroupsSklearnNMF_8combinations_3448locations_53factors\n"
     ]
    },
    {
     "name": "stderr",
     "output_type": "stream",
     "text": [
      "/home/jovyan/my-conda-envs/cellpymc/lib/python3.7/site-packages/sklearn/decomposition/_nmf.py:1425: FutureWarning: `alpha` was deprecated in version 1.0 and will be removed in 1.2. Use `alpha_W` and `alpha_H` instead\n",
      "/home/jovyan/my-conda-envs/cellpymc/lib/python3.7/site-packages/sklearn/decomposition/_nmf.py:1425: FutureWarning: `alpha` was deprecated in version 1.0 and will be removed in 1.2. Use `alpha_W` and `alpha_H` instead\n",
      "/home/jovyan/my-conda-envs/cellpymc/lib/python3.7/site-packages/sklearn/decomposition/_nmf.py:1425: FutureWarning: `alpha` was deprecated in version 1.0 and will be removed in 1.2. Use `alpha_W` and `alpha_H` instead\n"
     ]
    },
    {
     "name": "stdout",
     "output_type": "stream",
     "text": [
      "WARNING: saving figure to file /nfs/team205/heart/cell2location/coloc_nmf/CoLocatedComb/SAN_revision/HCAHeartST13233998/CoLocatedGroupsSklearnNMF_3448locations_53factors/spatial/showcell_density_mean_n_fact8_sHCAHeartST13233998_p99.2.pdf\n",
      "### Analysis name: CoLocatedGroupsSklearnNMF_9combinations_3448locations_53factors\n"
     ]
    },
    {
     "name": "stderr",
     "output_type": "stream",
     "text": [
      "/home/jovyan/my-conda-envs/cellpymc/lib/python3.7/site-packages/sklearn/decomposition/_nmf.py:1425: FutureWarning: `alpha` was deprecated in version 1.0 and will be removed in 1.2. Use `alpha_W` and `alpha_H` instead\n",
      "/home/jovyan/my-conda-envs/cellpymc/lib/python3.7/site-packages/sklearn/decomposition/_nmf.py:1425: FutureWarning: `alpha` was deprecated in version 1.0 and will be removed in 1.2. Use `alpha_W` and `alpha_H` instead\n",
      "/home/jovyan/my-conda-envs/cellpymc/lib/python3.7/site-packages/sklearn/decomposition/_nmf.py:1425: FutureWarning: `alpha` was deprecated in version 1.0 and will be removed in 1.2. Use `alpha_W` and `alpha_H` instead\n"
     ]
    },
    {
     "name": "stdout",
     "output_type": "stream",
     "text": [
      "WARNING: saving figure to file /nfs/team205/heart/cell2location/coloc_nmf/CoLocatedComb/SAN_revision/HCAHeartST13233998/CoLocatedGroupsSklearnNMF_3448locations_53factors/spatial/showcell_density_mean_n_fact9_sHCAHeartST13233998_p99.2.pdf\n",
      "### Analysis name: CoLocatedGroupsSklearnNMF_10combinations_3448locations_53factors\n"
     ]
    },
    {
     "name": "stderr",
     "output_type": "stream",
     "text": [
      "/home/jovyan/my-conda-envs/cellpymc/lib/python3.7/site-packages/sklearn/decomposition/_nmf.py:1425: FutureWarning: `alpha` was deprecated in version 1.0 and will be removed in 1.2. Use `alpha_W` and `alpha_H` instead\n",
      "/home/jovyan/my-conda-envs/cellpymc/lib/python3.7/site-packages/sklearn/decomposition/_nmf.py:1425: FutureWarning: `alpha` was deprecated in version 1.0 and will be removed in 1.2. Use `alpha_W` and `alpha_H` instead\n",
      "/home/jovyan/my-conda-envs/cellpymc/lib/python3.7/site-packages/sklearn/decomposition/_nmf.py:1425: FutureWarning: `alpha` was deprecated in version 1.0 and will be removed in 1.2. Use `alpha_W` and `alpha_H` instead\n"
     ]
    },
    {
     "name": "stdout",
     "output_type": "stream",
     "text": [
      "WARNING: saving figure to file /nfs/team205/heart/cell2location/coloc_nmf/CoLocatedComb/SAN_revision/HCAHeartST13233998/CoLocatedGroupsSklearnNMF_3448locations_53factors/spatial/showcell_density_mean_n_fact10_sHCAHeartST13233998_p99.2.pdf\n",
      "### Analysis name: CoLocatedGroupsSklearnNMF_11combinations_3448locations_53factors\n"
     ]
    },
    {
     "name": "stderr",
     "output_type": "stream",
     "text": [
      "/home/jovyan/my-conda-envs/cellpymc/lib/python3.7/site-packages/sklearn/decomposition/_nmf.py:1425: FutureWarning: `alpha` was deprecated in version 1.0 and will be removed in 1.2. Use `alpha_W` and `alpha_H` instead\n",
      "/home/jovyan/my-conda-envs/cellpymc/lib/python3.7/site-packages/sklearn/decomposition/_nmf.py:1425: FutureWarning: `alpha` was deprecated in version 1.0 and will be removed in 1.2. Use `alpha_W` and `alpha_H` instead\n",
      "/home/jovyan/my-conda-envs/cellpymc/lib/python3.7/site-packages/sklearn/decomposition/_nmf.py:1425: FutureWarning: `alpha` was deprecated in version 1.0 and will be removed in 1.2. Use `alpha_W` and `alpha_H` instead\n"
     ]
    },
    {
     "name": "stdout",
     "output_type": "stream",
     "text": [
      "WARNING: saving figure to file /nfs/team205/heart/cell2location/coloc_nmf/CoLocatedComb/SAN_revision/HCAHeartST13233998/CoLocatedGroupsSklearnNMF_3448locations_53factors/spatial/showcell_density_mean_n_fact11_sHCAHeartST13233998_p99.2.pdf\n",
      "### Analysis name: CoLocatedGroupsSklearnNMF_12combinations_3448locations_53factors\n"
     ]
    },
    {
     "name": "stderr",
     "output_type": "stream",
     "text": [
      "/home/jovyan/my-conda-envs/cellpymc/lib/python3.7/site-packages/sklearn/decomposition/_nmf.py:1425: FutureWarning: `alpha` was deprecated in version 1.0 and will be removed in 1.2. Use `alpha_W` and `alpha_H` instead\n",
      "/home/jovyan/my-conda-envs/cellpymc/lib/python3.7/site-packages/sklearn/decomposition/_nmf.py:1425: FutureWarning: `alpha` was deprecated in version 1.0 and will be removed in 1.2. Use `alpha_W` and `alpha_H` instead\n",
      "/home/jovyan/my-conda-envs/cellpymc/lib/python3.7/site-packages/sklearn/decomposition/_nmf.py:1425: FutureWarning: `alpha` was deprecated in version 1.0 and will be removed in 1.2. Use `alpha_W` and `alpha_H` instead\n"
     ]
    },
    {
     "name": "stdout",
     "output_type": "stream",
     "text": [
      "WARNING: saving figure to file /nfs/team205/heart/cell2location/coloc_nmf/CoLocatedComb/SAN_revision/HCAHeartST13233998/CoLocatedGroupsSklearnNMF_3448locations_53factors/spatial/showcell_density_mean_n_fact12_sHCAHeartST13233998_p99.2.pdf\n",
      "### Analysis name: CoLocatedGroupsSklearnNMF_13combinations_3448locations_53factors\n"
     ]
    },
    {
     "name": "stderr",
     "output_type": "stream",
     "text": [
      "/home/jovyan/my-conda-envs/cellpymc/lib/python3.7/site-packages/sklearn/decomposition/_nmf.py:1425: FutureWarning: `alpha` was deprecated in version 1.0 and will be removed in 1.2. Use `alpha_W` and `alpha_H` instead\n",
      "/home/jovyan/my-conda-envs/cellpymc/lib/python3.7/site-packages/sklearn/decomposition/_nmf.py:1425: FutureWarning: `alpha` was deprecated in version 1.0 and will be removed in 1.2. Use `alpha_W` and `alpha_H` instead\n",
      "/home/jovyan/my-conda-envs/cellpymc/lib/python3.7/site-packages/sklearn/decomposition/_nmf.py:1425: FutureWarning: `alpha` was deprecated in version 1.0 and will be removed in 1.2. Use `alpha_W` and `alpha_H` instead\n"
     ]
    },
    {
     "name": "stdout",
     "output_type": "stream",
     "text": [
      "WARNING: saving figure to file /nfs/team205/heart/cell2location/coloc_nmf/CoLocatedComb/SAN_revision/HCAHeartST13233998/CoLocatedGroupsSklearnNMF_3448locations_53factors/spatial/showcell_density_mean_n_fact13_sHCAHeartST13233998_p99.2.pdf\n",
      "### Analysis name: CoLocatedGroupsSklearnNMF_14combinations_3448locations_53factors\n"
     ]
    },
    {
     "name": "stderr",
     "output_type": "stream",
     "text": [
      "/home/jovyan/my-conda-envs/cellpymc/lib/python3.7/site-packages/sklearn/decomposition/_nmf.py:1425: FutureWarning: `alpha` was deprecated in version 1.0 and will be removed in 1.2. Use `alpha_W` and `alpha_H` instead\n",
      "/home/jovyan/my-conda-envs/cellpymc/lib/python3.7/site-packages/sklearn/decomposition/_nmf.py:1425: FutureWarning: `alpha` was deprecated in version 1.0 and will be removed in 1.2. Use `alpha_W` and `alpha_H` instead\n",
      "/home/jovyan/my-conda-envs/cellpymc/lib/python3.7/site-packages/sklearn/decomposition/_nmf.py:1425: FutureWarning: `alpha` was deprecated in version 1.0 and will be removed in 1.2. Use `alpha_W` and `alpha_H` instead\n"
     ]
    },
    {
     "name": "stdout",
     "output_type": "stream",
     "text": [
      "WARNING: saving figure to file /nfs/team205/heart/cell2location/coloc_nmf/CoLocatedComb/SAN_revision/HCAHeartST13233998/CoLocatedGroupsSklearnNMF_3448locations_53factors/spatial/showcell_density_mean_n_fact14_sHCAHeartST13233998_p99.2.pdf\n",
      "HCAHeartST13233999    2881\n",
      "Name: sample, dtype: int64\n",
      "### Analysis name: CoLocatedGroupsSklearnNMF_5combinations_2881locations_53factors\n"
     ]
    },
    {
     "name": "stderr",
     "output_type": "stream",
     "text": [
      "/home/jovyan/my-conda-envs/cellpymc/lib/python3.7/site-packages/sklearn/decomposition/_nmf.py:1425: FutureWarning: `alpha` was deprecated in version 1.0 and will be removed in 1.2. Use `alpha_W` and `alpha_H` instead\n",
      "/home/jovyan/my-conda-envs/cellpymc/lib/python3.7/site-packages/sklearn/decomposition/_nmf.py:1425: FutureWarning: `alpha` was deprecated in version 1.0 and will be removed in 1.2. Use `alpha_W` and `alpha_H` instead\n",
      "/home/jovyan/my-conda-envs/cellpymc/lib/python3.7/site-packages/sklearn/decomposition/_nmf.py:1425: FutureWarning: `alpha` was deprecated in version 1.0 and will be removed in 1.2. Use `alpha_W` and `alpha_H` instead\n"
     ]
    },
    {
     "name": "stdout",
     "output_type": "stream",
     "text": [
      "WARNING: saving figure to file /nfs/team205/heart/cell2location/coloc_nmf/CoLocatedComb/SAN_revision/HCAHeartST13233999/CoLocatedGroupsSklearnNMF_2881locations_53factors/spatial/showcell_density_mean_n_fact5_sHCAHeartST13233999_p99.2.pdf\n",
      "### Analysis name: CoLocatedGroupsSklearnNMF_6combinations_2881locations_53factors\n"
     ]
    },
    {
     "name": "stderr",
     "output_type": "stream",
     "text": [
      "/home/jovyan/my-conda-envs/cellpymc/lib/python3.7/site-packages/sklearn/decomposition/_nmf.py:1425: FutureWarning: `alpha` was deprecated in version 1.0 and will be removed in 1.2. Use `alpha_W` and `alpha_H` instead\n",
      "/home/jovyan/my-conda-envs/cellpymc/lib/python3.7/site-packages/sklearn/decomposition/_nmf.py:1425: FutureWarning: `alpha` was deprecated in version 1.0 and will be removed in 1.2. Use `alpha_W` and `alpha_H` instead\n",
      "/home/jovyan/my-conda-envs/cellpymc/lib/python3.7/site-packages/sklearn/decomposition/_nmf.py:1425: FutureWarning: `alpha` was deprecated in version 1.0 and will be removed in 1.2. Use `alpha_W` and `alpha_H` instead\n"
     ]
    },
    {
     "name": "stdout",
     "output_type": "stream",
     "text": [
      "WARNING: saving figure to file /nfs/team205/heart/cell2location/coloc_nmf/CoLocatedComb/SAN_revision/HCAHeartST13233999/CoLocatedGroupsSklearnNMF_2881locations_53factors/spatial/showcell_density_mean_n_fact6_sHCAHeartST13233999_p99.2.pdf\n",
      "### Analysis name: CoLocatedGroupsSklearnNMF_7combinations_2881locations_53factors\n"
     ]
    },
    {
     "name": "stderr",
     "output_type": "stream",
     "text": [
      "/home/jovyan/my-conda-envs/cellpymc/lib/python3.7/site-packages/sklearn/decomposition/_nmf.py:1425: FutureWarning: `alpha` was deprecated in version 1.0 and will be removed in 1.2. Use `alpha_W` and `alpha_H` instead\n",
      "/home/jovyan/my-conda-envs/cellpymc/lib/python3.7/site-packages/sklearn/decomposition/_nmf.py:1425: FutureWarning: `alpha` was deprecated in version 1.0 and will be removed in 1.2. Use `alpha_W` and `alpha_H` instead\n",
      "/home/jovyan/my-conda-envs/cellpymc/lib/python3.7/site-packages/sklearn/decomposition/_nmf.py:1425: FutureWarning: `alpha` was deprecated in version 1.0 and will be removed in 1.2. Use `alpha_W` and `alpha_H` instead\n"
     ]
    },
    {
     "name": "stdout",
     "output_type": "stream",
     "text": [
      "WARNING: saving figure to file /nfs/team205/heart/cell2location/coloc_nmf/CoLocatedComb/SAN_revision/HCAHeartST13233999/CoLocatedGroupsSklearnNMF_2881locations_53factors/spatial/showcell_density_mean_n_fact7_sHCAHeartST13233999_p99.2.pdf\n",
      "### Analysis name: CoLocatedGroupsSklearnNMF_8combinations_2881locations_53factors\n"
     ]
    },
    {
     "name": "stderr",
     "output_type": "stream",
     "text": [
      "/home/jovyan/my-conda-envs/cellpymc/lib/python3.7/site-packages/sklearn/decomposition/_nmf.py:1425: FutureWarning: `alpha` was deprecated in version 1.0 and will be removed in 1.2. Use `alpha_W` and `alpha_H` instead\n",
      "/home/jovyan/my-conda-envs/cellpymc/lib/python3.7/site-packages/sklearn/decomposition/_nmf.py:1425: FutureWarning: `alpha` was deprecated in version 1.0 and will be removed in 1.2. Use `alpha_W` and `alpha_H` instead\n",
      "/home/jovyan/my-conda-envs/cellpymc/lib/python3.7/site-packages/sklearn/decomposition/_nmf.py:1425: FutureWarning: `alpha` was deprecated in version 1.0 and will be removed in 1.2. Use `alpha_W` and `alpha_H` instead\n"
     ]
    },
    {
     "name": "stdout",
     "output_type": "stream",
     "text": [
      "WARNING: saving figure to file /nfs/team205/heart/cell2location/coloc_nmf/CoLocatedComb/SAN_revision/HCAHeartST13233999/CoLocatedGroupsSklearnNMF_2881locations_53factors/spatial/showcell_density_mean_n_fact8_sHCAHeartST13233999_p99.2.pdf\n",
      "### Analysis name: CoLocatedGroupsSklearnNMF_9combinations_2881locations_53factors\n"
     ]
    },
    {
     "name": "stderr",
     "output_type": "stream",
     "text": [
      "/home/jovyan/my-conda-envs/cellpymc/lib/python3.7/site-packages/sklearn/decomposition/_nmf.py:1425: FutureWarning: `alpha` was deprecated in version 1.0 and will be removed in 1.2. Use `alpha_W` and `alpha_H` instead\n",
      "/home/jovyan/my-conda-envs/cellpymc/lib/python3.7/site-packages/sklearn/decomposition/_nmf.py:1425: FutureWarning: `alpha` was deprecated in version 1.0 and will be removed in 1.2. Use `alpha_W` and `alpha_H` instead\n",
      "/home/jovyan/my-conda-envs/cellpymc/lib/python3.7/site-packages/sklearn/decomposition/_nmf.py:1425: FutureWarning: `alpha` was deprecated in version 1.0 and will be removed in 1.2. Use `alpha_W` and `alpha_H` instead\n"
     ]
    },
    {
     "name": "stdout",
     "output_type": "stream",
     "text": [
      "WARNING: saving figure to file /nfs/team205/heart/cell2location/coloc_nmf/CoLocatedComb/SAN_revision/HCAHeartST13233999/CoLocatedGroupsSklearnNMF_2881locations_53factors/spatial/showcell_density_mean_n_fact9_sHCAHeartST13233999_p99.2.pdf\n",
      "### Analysis name: CoLocatedGroupsSklearnNMF_10combinations_2881locations_53factors\n"
     ]
    },
    {
     "name": "stderr",
     "output_type": "stream",
     "text": [
      "/home/jovyan/my-conda-envs/cellpymc/lib/python3.7/site-packages/sklearn/decomposition/_nmf.py:1425: FutureWarning: `alpha` was deprecated in version 1.0 and will be removed in 1.2. Use `alpha_W` and `alpha_H` instead\n",
      "/home/jovyan/my-conda-envs/cellpymc/lib/python3.7/site-packages/sklearn/decomposition/_nmf.py:1425: FutureWarning: `alpha` was deprecated in version 1.0 and will be removed in 1.2. Use `alpha_W` and `alpha_H` instead\n",
      "/home/jovyan/my-conda-envs/cellpymc/lib/python3.7/site-packages/sklearn/decomposition/_nmf.py:1425: FutureWarning: `alpha` was deprecated in version 1.0 and will be removed in 1.2. Use `alpha_W` and `alpha_H` instead\n"
     ]
    },
    {
     "name": "stdout",
     "output_type": "stream",
     "text": [
      "WARNING: saving figure to file /nfs/team205/heart/cell2location/coloc_nmf/CoLocatedComb/SAN_revision/HCAHeartST13233999/CoLocatedGroupsSklearnNMF_2881locations_53factors/spatial/showcell_density_mean_n_fact10_sHCAHeartST13233999_p99.2.pdf\n",
      "### Analysis name: CoLocatedGroupsSklearnNMF_11combinations_2881locations_53factors\n"
     ]
    },
    {
     "name": "stderr",
     "output_type": "stream",
     "text": [
      "/home/jovyan/my-conda-envs/cellpymc/lib/python3.7/site-packages/sklearn/decomposition/_nmf.py:1425: FutureWarning: `alpha` was deprecated in version 1.0 and will be removed in 1.2. Use `alpha_W` and `alpha_H` instead\n",
      "/home/jovyan/my-conda-envs/cellpymc/lib/python3.7/site-packages/sklearn/decomposition/_nmf.py:1425: FutureWarning: `alpha` was deprecated in version 1.0 and will be removed in 1.2. Use `alpha_W` and `alpha_H` instead\n",
      "/home/jovyan/my-conda-envs/cellpymc/lib/python3.7/site-packages/sklearn/decomposition/_nmf.py:1425: FutureWarning: `alpha` was deprecated in version 1.0 and will be removed in 1.2. Use `alpha_W` and `alpha_H` instead\n"
     ]
    },
    {
     "name": "stdout",
     "output_type": "stream",
     "text": [
      "WARNING: saving figure to file /nfs/team205/heart/cell2location/coloc_nmf/CoLocatedComb/SAN_revision/HCAHeartST13233999/CoLocatedGroupsSklearnNMF_2881locations_53factors/spatial/showcell_density_mean_n_fact11_sHCAHeartST13233999_p99.2.pdf\n",
      "### Analysis name: CoLocatedGroupsSklearnNMF_12combinations_2881locations_53factors\n"
     ]
    },
    {
     "name": "stderr",
     "output_type": "stream",
     "text": [
      "/home/jovyan/my-conda-envs/cellpymc/lib/python3.7/site-packages/sklearn/decomposition/_nmf.py:1425: FutureWarning: `alpha` was deprecated in version 1.0 and will be removed in 1.2. Use `alpha_W` and `alpha_H` instead\n",
      "/home/jovyan/my-conda-envs/cellpymc/lib/python3.7/site-packages/sklearn/decomposition/_nmf.py:1425: FutureWarning: `alpha` was deprecated in version 1.0 and will be removed in 1.2. Use `alpha_W` and `alpha_H` instead\n",
      "/home/jovyan/my-conda-envs/cellpymc/lib/python3.7/site-packages/sklearn/decomposition/_nmf.py:1425: FutureWarning: `alpha` was deprecated in version 1.0 and will be removed in 1.2. Use `alpha_W` and `alpha_H` instead\n"
     ]
    },
    {
     "name": "stdout",
     "output_type": "stream",
     "text": [
      "WARNING: saving figure to file /nfs/team205/heart/cell2location/coloc_nmf/CoLocatedComb/SAN_revision/HCAHeartST13233999/CoLocatedGroupsSklearnNMF_2881locations_53factors/spatial/showcell_density_mean_n_fact12_sHCAHeartST13233999_p99.2.pdf\n",
      "### Analysis name: CoLocatedGroupsSklearnNMF_13combinations_2881locations_53factors\n"
     ]
    },
    {
     "name": "stderr",
     "output_type": "stream",
     "text": [
      "/home/jovyan/my-conda-envs/cellpymc/lib/python3.7/site-packages/sklearn/decomposition/_nmf.py:1425: FutureWarning: `alpha` was deprecated in version 1.0 and will be removed in 1.2. Use `alpha_W` and `alpha_H` instead\n",
      "/home/jovyan/my-conda-envs/cellpymc/lib/python3.7/site-packages/sklearn/decomposition/_nmf.py:1425: FutureWarning: `alpha` was deprecated in version 1.0 and will be removed in 1.2. Use `alpha_W` and `alpha_H` instead\n",
      "/home/jovyan/my-conda-envs/cellpymc/lib/python3.7/site-packages/sklearn/decomposition/_nmf.py:1425: FutureWarning: `alpha` was deprecated in version 1.0 and will be removed in 1.2. Use `alpha_W` and `alpha_H` instead\n"
     ]
    },
    {
     "name": "stdout",
     "output_type": "stream",
     "text": [
      "WARNING: saving figure to file /nfs/team205/heart/cell2location/coloc_nmf/CoLocatedComb/SAN_revision/HCAHeartST13233999/CoLocatedGroupsSklearnNMF_2881locations_53factors/spatial/showcell_density_mean_n_fact13_sHCAHeartST13233999_p99.2.pdf\n",
      "### Analysis name: CoLocatedGroupsSklearnNMF_14combinations_2881locations_53factors\n"
     ]
    },
    {
     "name": "stderr",
     "output_type": "stream",
     "text": [
      "/home/jovyan/my-conda-envs/cellpymc/lib/python3.7/site-packages/sklearn/decomposition/_nmf.py:1425: FutureWarning: `alpha` was deprecated in version 1.0 and will be removed in 1.2. Use `alpha_W` and `alpha_H` instead\n",
      "/home/jovyan/my-conda-envs/cellpymc/lib/python3.7/site-packages/sklearn/decomposition/_nmf.py:1425: FutureWarning: `alpha` was deprecated in version 1.0 and will be removed in 1.2. Use `alpha_W` and `alpha_H` instead\n",
      "/home/jovyan/my-conda-envs/cellpymc/lib/python3.7/site-packages/sklearn/decomposition/_nmf.py:1425: FutureWarning: `alpha` was deprecated in version 1.0 and will be removed in 1.2. Use `alpha_W` and `alpha_H` instead\n"
     ]
    },
    {
     "name": "stdout",
     "output_type": "stream",
     "text": [
      "WARNING: saving figure to file /nfs/team205/heart/cell2location/coloc_nmf/CoLocatedComb/SAN_revision/HCAHeartST13233999/CoLocatedGroupsSklearnNMF_2881locations_53factors/spatial/showcell_density_mean_n_fact14_sHCAHeartST13233999_p99.2.pdf\n"
     ]
    }
   ],
   "source": [
    "# SAN (AH5 slides)\n",
    "cell2loc_out = '/nfs/team205/heart/cell2location/cell2location_map/cs-selected/SAN_per-slide'\n",
    "\n",
    "slides = ['HCAHeartST13233996',\n",
    "         'HCAHeartST13233997',\n",
    "         'HCAHeartST13233998',\n",
    "         'HCAHeartST13233999']\n",
    "\n",
    "for ID in progress_bar(slides):\n",
    "    \n",
    "    adata_vis = sc.read_h5ad(f'{cell2loc_out}/{ID}/sp.h5ad')\n",
    "    print(adata_vis.obs['sample'].value_counts())\n",
    "    \n",
    "    os.mkdir(f'/nfs/team205/heart/cell2location/coloc_nmf/CoLocatedComb/SAN_revision/{ID}/')\n",
    "    \n",
    "    run_colocation(\n",
    "        adata_vis,\n",
    "        model_name='CoLocatedGroupsSklearnNMF',\n",
    "        train_args={\n",
    "          'n_fact': np.arange(5, 15), # IMPORTANT: use a wider range of the number of factors (5-30)\n",
    "          'sample_name_col': 'sample', # columns in adata_vis.obs that identifies sample\n",
    "          'n_restarts': 3 # number of training restarts\n",
    "        },\n",
    "        export_args={'path': f'/nfs/team205/heart/cell2location/coloc_nmf/CoLocatedComb/SAN_revision/{ID}/'}\n",
    "    )\n",
    "    \n",
    "    del adata_vis"
   ]
  },
  {
   "cell_type": "code",
   "execution_count": 5,
   "id": "american-spokesman",
   "metadata": {},
   "outputs": [
    {
     "name": "stdout",
     "output_type": "stream",
     "text": [
      "['HCAHeartST11290657', 'HCAHeartST11290658', 'HCAHeartST11290659', 'HCAHeartST11290662', 'HCAHeartST11350377', 'HCAHeartST12992074', 'HCAHeartST12992075', 'HCAHeartST13228103']\n"
     ]
    },
    {
     "data": {
      "text/html": [
       "\n",
       "    <div>\n",
       "        <style>\n",
       "            /* Turns off some styling */\n",
       "            progress {\n",
       "                /* gets rid of default border in Firefox and Opera. */\n",
       "                border: none;\n",
       "                /* Needs to be in here for Safari polyfill so background images work as expected. */\n",
       "                background-size: auto;\n",
       "            }\n",
       "            .progress-bar-interrupted, .progress-bar-interrupted::-webkit-progress-bar {\n",
       "                background: #F44336;\n",
       "            }\n",
       "        </style>\n",
       "      <progress value='8' class='' max='8' style='width:300px; height:20px; vertical-align: middle;'></progress>\n",
       "      100.00% [8/8 2:35:43<00:00]\n",
       "    </div>\n",
       "    "
      ],
      "text/plain": [
       "<IPython.core.display.HTML object>"
      ]
     },
     "metadata": {},
     "output_type": "display_data"
    },
    {
     "name": "stdout",
     "output_type": "stream",
     "text": [
      "HCAHeartST11290657    2090\n",
      "Name: sample, dtype: int64\n",
      "### Analysis name: CoLocatedGroupsSklearnNMF_5combinations_2090locations_58factors\n"
     ]
    },
    {
     "name": "stderr",
     "output_type": "stream",
     "text": [
      "/home/jovyan/my-conda-envs/cellpymc/lib/python3.7/site-packages/sklearn/decomposition/_nmf.py:1425: FutureWarning: `alpha` was deprecated in version 1.0 and will be removed in 1.2. Use `alpha_W` and `alpha_H` instead\n",
      "/home/jovyan/my-conda-envs/cellpymc/lib/python3.7/site-packages/sklearn/decomposition/_nmf.py:1425: FutureWarning: `alpha` was deprecated in version 1.0 and will be removed in 1.2. Use `alpha_W` and `alpha_H` instead\n",
      "/home/jovyan/my-conda-envs/cellpymc/lib/python3.7/site-packages/sklearn/decomposition/_nmf.py:1425: FutureWarning: `alpha` was deprecated in version 1.0 and will be removed in 1.2. Use `alpha_W` and `alpha_H` instead\n"
     ]
    },
    {
     "name": "stdout",
     "output_type": "stream",
     "text": [
      "WARNING: saving figure to file /nfs/team205/heart/cell2location/coloc_nmf/CoLocatedComb/AVN_revision/HCAHeartST11290657/CoLocatedGroupsSklearnNMF_2090locations_58factors/spatial/showcell_density_mean_n_fact5_sHCAHeartST11290657_p99.2.pdf\n",
      "### Analysis name: CoLocatedGroupsSklearnNMF_6combinations_2090locations_58factors\n"
     ]
    },
    {
     "name": "stderr",
     "output_type": "stream",
     "text": [
      "/home/jovyan/my-conda-envs/cellpymc/lib/python3.7/site-packages/sklearn/decomposition/_nmf.py:1425: FutureWarning: `alpha` was deprecated in version 1.0 and will be removed in 1.2. Use `alpha_W` and `alpha_H` instead\n",
      "/home/jovyan/my-conda-envs/cellpymc/lib/python3.7/site-packages/sklearn/decomposition/_nmf.py:1425: FutureWarning: `alpha` was deprecated in version 1.0 and will be removed in 1.2. Use `alpha_W` and `alpha_H` instead\n",
      "/home/jovyan/my-conda-envs/cellpymc/lib/python3.7/site-packages/sklearn/decomposition/_nmf.py:1425: FutureWarning: `alpha` was deprecated in version 1.0 and will be removed in 1.2. Use `alpha_W` and `alpha_H` instead\n"
     ]
    },
    {
     "name": "stdout",
     "output_type": "stream",
     "text": [
      "WARNING: saving figure to file /nfs/team205/heart/cell2location/coloc_nmf/CoLocatedComb/AVN_revision/HCAHeartST11290657/CoLocatedGroupsSklearnNMF_2090locations_58factors/spatial/showcell_density_mean_n_fact6_sHCAHeartST11290657_p99.2.pdf\n",
      "### Analysis name: CoLocatedGroupsSklearnNMF_7combinations_2090locations_58factors\n"
     ]
    },
    {
     "name": "stderr",
     "output_type": "stream",
     "text": [
      "/home/jovyan/my-conda-envs/cellpymc/lib/python3.7/site-packages/sklearn/decomposition/_nmf.py:1425: FutureWarning: `alpha` was deprecated in version 1.0 and will be removed in 1.2. Use `alpha_W` and `alpha_H` instead\n",
      "/home/jovyan/my-conda-envs/cellpymc/lib/python3.7/site-packages/sklearn/decomposition/_nmf.py:1425: FutureWarning: `alpha` was deprecated in version 1.0 and will be removed in 1.2. Use `alpha_W` and `alpha_H` instead\n",
      "/home/jovyan/my-conda-envs/cellpymc/lib/python3.7/site-packages/sklearn/decomposition/_nmf.py:1425: FutureWarning: `alpha` was deprecated in version 1.0 and will be removed in 1.2. Use `alpha_W` and `alpha_H` instead\n"
     ]
    },
    {
     "name": "stdout",
     "output_type": "stream",
     "text": [
      "WARNING: saving figure to file /nfs/team205/heart/cell2location/coloc_nmf/CoLocatedComb/AVN_revision/HCAHeartST11290657/CoLocatedGroupsSklearnNMF_2090locations_58factors/spatial/showcell_density_mean_n_fact7_sHCAHeartST11290657_p99.2.pdf\n",
      "### Analysis name: CoLocatedGroupsSklearnNMF_8combinations_2090locations_58factors\n"
     ]
    },
    {
     "name": "stderr",
     "output_type": "stream",
     "text": [
      "/home/jovyan/my-conda-envs/cellpymc/lib/python3.7/site-packages/sklearn/decomposition/_nmf.py:1425: FutureWarning: `alpha` was deprecated in version 1.0 and will be removed in 1.2. Use `alpha_W` and `alpha_H` instead\n",
      "/home/jovyan/my-conda-envs/cellpymc/lib/python3.7/site-packages/sklearn/decomposition/_nmf.py:1425: FutureWarning: `alpha` was deprecated in version 1.0 and will be removed in 1.2. Use `alpha_W` and `alpha_H` instead\n",
      "/home/jovyan/my-conda-envs/cellpymc/lib/python3.7/site-packages/sklearn/decomposition/_nmf.py:1425: FutureWarning: `alpha` was deprecated in version 1.0 and will be removed in 1.2. Use `alpha_W` and `alpha_H` instead\n"
     ]
    },
    {
     "name": "stdout",
     "output_type": "stream",
     "text": [
      "WARNING: saving figure to file /nfs/team205/heart/cell2location/coloc_nmf/CoLocatedComb/AVN_revision/HCAHeartST11290657/CoLocatedGroupsSklearnNMF_2090locations_58factors/spatial/showcell_density_mean_n_fact8_sHCAHeartST11290657_p99.2.pdf\n",
      "### Analysis name: CoLocatedGroupsSklearnNMF_9combinations_2090locations_58factors\n"
     ]
    },
    {
     "name": "stderr",
     "output_type": "stream",
     "text": [
      "/home/jovyan/my-conda-envs/cellpymc/lib/python3.7/site-packages/sklearn/decomposition/_nmf.py:1425: FutureWarning: `alpha` was deprecated in version 1.0 and will be removed in 1.2. Use `alpha_W` and `alpha_H` instead\n",
      "/home/jovyan/my-conda-envs/cellpymc/lib/python3.7/site-packages/sklearn/decomposition/_nmf.py:1425: FutureWarning: `alpha` was deprecated in version 1.0 and will be removed in 1.2. Use `alpha_W` and `alpha_H` instead\n",
      "/home/jovyan/my-conda-envs/cellpymc/lib/python3.7/site-packages/sklearn/decomposition/_nmf.py:1425: FutureWarning: `alpha` was deprecated in version 1.0 and will be removed in 1.2. Use `alpha_W` and `alpha_H` instead\n"
     ]
    },
    {
     "name": "stdout",
     "output_type": "stream",
     "text": [
      "WARNING: saving figure to file /nfs/team205/heart/cell2location/coloc_nmf/CoLocatedComb/AVN_revision/HCAHeartST11290657/CoLocatedGroupsSklearnNMF_2090locations_58factors/spatial/showcell_density_mean_n_fact9_sHCAHeartST11290657_p99.2.pdf\n",
      "### Analysis name: CoLocatedGroupsSklearnNMF_10combinations_2090locations_58factors\n"
     ]
    },
    {
     "name": "stderr",
     "output_type": "stream",
     "text": [
      "/home/jovyan/my-conda-envs/cellpymc/lib/python3.7/site-packages/sklearn/decomposition/_nmf.py:1425: FutureWarning: `alpha` was deprecated in version 1.0 and will be removed in 1.2. Use `alpha_W` and `alpha_H` instead\n",
      "/home/jovyan/my-conda-envs/cellpymc/lib/python3.7/site-packages/sklearn/decomposition/_nmf.py:1425: FutureWarning: `alpha` was deprecated in version 1.0 and will be removed in 1.2. Use `alpha_W` and `alpha_H` instead\n",
      "/home/jovyan/my-conda-envs/cellpymc/lib/python3.7/site-packages/sklearn/decomposition/_nmf.py:1425: FutureWarning: `alpha` was deprecated in version 1.0 and will be removed in 1.2. Use `alpha_W` and `alpha_H` instead\n"
     ]
    },
    {
     "name": "stdout",
     "output_type": "stream",
     "text": [
      "WARNING: saving figure to file /nfs/team205/heart/cell2location/coloc_nmf/CoLocatedComb/AVN_revision/HCAHeartST11290657/CoLocatedGroupsSklearnNMF_2090locations_58factors/spatial/showcell_density_mean_n_fact10_sHCAHeartST11290657_p99.2.pdf\n",
      "### Analysis name: CoLocatedGroupsSklearnNMF_11combinations_2090locations_58factors\n"
     ]
    },
    {
     "name": "stderr",
     "output_type": "stream",
     "text": [
      "/home/jovyan/my-conda-envs/cellpymc/lib/python3.7/site-packages/sklearn/decomposition/_nmf.py:1425: FutureWarning: `alpha` was deprecated in version 1.0 and will be removed in 1.2. Use `alpha_W` and `alpha_H` instead\n",
      "/home/jovyan/my-conda-envs/cellpymc/lib/python3.7/site-packages/sklearn/decomposition/_nmf.py:1425: FutureWarning: `alpha` was deprecated in version 1.0 and will be removed in 1.2. Use `alpha_W` and `alpha_H` instead\n",
      "/home/jovyan/my-conda-envs/cellpymc/lib/python3.7/site-packages/sklearn/decomposition/_nmf.py:1425: FutureWarning: `alpha` was deprecated in version 1.0 and will be removed in 1.2. Use `alpha_W` and `alpha_H` instead\n"
     ]
    },
    {
     "name": "stdout",
     "output_type": "stream",
     "text": [
      "WARNING: saving figure to file /nfs/team205/heart/cell2location/coloc_nmf/CoLocatedComb/AVN_revision/HCAHeartST11290657/CoLocatedGroupsSklearnNMF_2090locations_58factors/spatial/showcell_density_mean_n_fact11_sHCAHeartST11290657_p99.2.pdf\n",
      "### Analysis name: CoLocatedGroupsSklearnNMF_12combinations_2090locations_58factors\n"
     ]
    },
    {
     "name": "stderr",
     "output_type": "stream",
     "text": [
      "/home/jovyan/my-conda-envs/cellpymc/lib/python3.7/site-packages/sklearn/decomposition/_nmf.py:1425: FutureWarning: `alpha` was deprecated in version 1.0 and will be removed in 1.2. Use `alpha_W` and `alpha_H` instead\n",
      "/home/jovyan/my-conda-envs/cellpymc/lib/python3.7/site-packages/sklearn/decomposition/_nmf.py:1425: FutureWarning: `alpha` was deprecated in version 1.0 and will be removed in 1.2. Use `alpha_W` and `alpha_H` instead\n",
      "/home/jovyan/my-conda-envs/cellpymc/lib/python3.7/site-packages/sklearn/decomposition/_nmf.py:1425: FutureWarning: `alpha` was deprecated in version 1.0 and will be removed in 1.2. Use `alpha_W` and `alpha_H` instead\n"
     ]
    },
    {
     "name": "stdout",
     "output_type": "stream",
     "text": [
      "WARNING: saving figure to file /nfs/team205/heart/cell2location/coloc_nmf/CoLocatedComb/AVN_revision/HCAHeartST11290657/CoLocatedGroupsSklearnNMF_2090locations_58factors/spatial/showcell_density_mean_n_fact12_sHCAHeartST11290657_p99.2.pdf\n",
      "### Analysis name: CoLocatedGroupsSklearnNMF_13combinations_2090locations_58factors\n"
     ]
    },
    {
     "name": "stderr",
     "output_type": "stream",
     "text": [
      "/home/jovyan/my-conda-envs/cellpymc/lib/python3.7/site-packages/sklearn/decomposition/_nmf.py:1425: FutureWarning: `alpha` was deprecated in version 1.0 and will be removed in 1.2. Use `alpha_W` and `alpha_H` instead\n",
      "/home/jovyan/my-conda-envs/cellpymc/lib/python3.7/site-packages/sklearn/decomposition/_nmf.py:1425: FutureWarning: `alpha` was deprecated in version 1.0 and will be removed in 1.2. Use `alpha_W` and `alpha_H` instead\n",
      "/home/jovyan/my-conda-envs/cellpymc/lib/python3.7/site-packages/sklearn/decomposition/_nmf.py:1425: FutureWarning: `alpha` was deprecated in version 1.0 and will be removed in 1.2. Use `alpha_W` and `alpha_H` instead\n"
     ]
    },
    {
     "name": "stdout",
     "output_type": "stream",
     "text": [
      "WARNING: saving figure to file /nfs/team205/heart/cell2location/coloc_nmf/CoLocatedComb/AVN_revision/HCAHeartST11290657/CoLocatedGroupsSklearnNMF_2090locations_58factors/spatial/showcell_density_mean_n_fact13_sHCAHeartST11290657_p99.2.pdf\n",
      "### Analysis name: CoLocatedGroupsSklearnNMF_14combinations_2090locations_58factors\n"
     ]
    },
    {
     "name": "stderr",
     "output_type": "stream",
     "text": [
      "/home/jovyan/my-conda-envs/cellpymc/lib/python3.7/site-packages/sklearn/decomposition/_nmf.py:1425: FutureWarning: `alpha` was deprecated in version 1.0 and will be removed in 1.2. Use `alpha_W` and `alpha_H` instead\n",
      "/home/jovyan/my-conda-envs/cellpymc/lib/python3.7/site-packages/sklearn/decomposition/_nmf.py:1425: FutureWarning: `alpha` was deprecated in version 1.0 and will be removed in 1.2. Use `alpha_W` and `alpha_H` instead\n",
      "/home/jovyan/my-conda-envs/cellpymc/lib/python3.7/site-packages/sklearn/decomposition/_nmf.py:1425: FutureWarning: `alpha` was deprecated in version 1.0 and will be removed in 1.2. Use `alpha_W` and `alpha_H` instead\n"
     ]
    },
    {
     "name": "stdout",
     "output_type": "stream",
     "text": [
      "WARNING: saving figure to file /nfs/team205/heart/cell2location/coloc_nmf/CoLocatedComb/AVN_revision/HCAHeartST11290657/CoLocatedGroupsSklearnNMF_2090locations_58factors/spatial/showcell_density_mean_n_fact14_sHCAHeartST11290657_p99.2.pdf\n",
      "HCAHeartST11290658    2697\n",
      "Name: sample, dtype: int64\n",
      "### Analysis name: CoLocatedGroupsSklearnNMF_5combinations_2697locations_58factors\n"
     ]
    },
    {
     "name": "stderr",
     "output_type": "stream",
     "text": [
      "/home/jovyan/my-conda-envs/cellpymc/lib/python3.7/site-packages/sklearn/decomposition/_nmf.py:1425: FutureWarning: `alpha` was deprecated in version 1.0 and will be removed in 1.2. Use `alpha_W` and `alpha_H` instead\n",
      "/home/jovyan/my-conda-envs/cellpymc/lib/python3.7/site-packages/sklearn/decomposition/_nmf.py:1425: FutureWarning: `alpha` was deprecated in version 1.0 and will be removed in 1.2. Use `alpha_W` and `alpha_H` instead\n",
      "/home/jovyan/my-conda-envs/cellpymc/lib/python3.7/site-packages/sklearn/decomposition/_nmf.py:1425: FutureWarning: `alpha` was deprecated in version 1.0 and will be removed in 1.2. Use `alpha_W` and `alpha_H` instead\n"
     ]
    },
    {
     "name": "stdout",
     "output_type": "stream",
     "text": [
      "WARNING: saving figure to file /nfs/team205/heart/cell2location/coloc_nmf/CoLocatedComb/AVN_revision/HCAHeartST11290658/CoLocatedGroupsSklearnNMF_2697locations_58factors/spatial/showcell_density_mean_n_fact5_sHCAHeartST11290658_p99.2.pdf\n",
      "### Analysis name: CoLocatedGroupsSklearnNMF_6combinations_2697locations_58factors\n"
     ]
    },
    {
     "name": "stderr",
     "output_type": "stream",
     "text": [
      "/home/jovyan/my-conda-envs/cellpymc/lib/python3.7/site-packages/sklearn/decomposition/_nmf.py:1425: FutureWarning: `alpha` was deprecated in version 1.0 and will be removed in 1.2. Use `alpha_W` and `alpha_H` instead\n",
      "/home/jovyan/my-conda-envs/cellpymc/lib/python3.7/site-packages/sklearn/decomposition/_nmf.py:1425: FutureWarning: `alpha` was deprecated in version 1.0 and will be removed in 1.2. Use `alpha_W` and `alpha_H` instead\n",
      "/home/jovyan/my-conda-envs/cellpymc/lib/python3.7/site-packages/sklearn/decomposition/_nmf.py:1425: FutureWarning: `alpha` was deprecated in version 1.0 and will be removed in 1.2. Use `alpha_W` and `alpha_H` instead\n"
     ]
    },
    {
     "name": "stdout",
     "output_type": "stream",
     "text": [
      "WARNING: saving figure to file /nfs/team205/heart/cell2location/coloc_nmf/CoLocatedComb/AVN_revision/HCAHeartST11290658/CoLocatedGroupsSklearnNMF_2697locations_58factors/spatial/showcell_density_mean_n_fact6_sHCAHeartST11290658_p99.2.pdf\n",
      "### Analysis name: CoLocatedGroupsSklearnNMF_7combinations_2697locations_58factors\n"
     ]
    },
    {
     "name": "stderr",
     "output_type": "stream",
     "text": [
      "/home/jovyan/my-conda-envs/cellpymc/lib/python3.7/site-packages/sklearn/decomposition/_nmf.py:1425: FutureWarning: `alpha` was deprecated in version 1.0 and will be removed in 1.2. Use `alpha_W` and `alpha_H` instead\n",
      "/home/jovyan/my-conda-envs/cellpymc/lib/python3.7/site-packages/sklearn/decomposition/_nmf.py:1425: FutureWarning: `alpha` was deprecated in version 1.0 and will be removed in 1.2. Use `alpha_W` and `alpha_H` instead\n",
      "/home/jovyan/my-conda-envs/cellpymc/lib/python3.7/site-packages/sklearn/decomposition/_nmf.py:1425: FutureWarning: `alpha` was deprecated in version 1.0 and will be removed in 1.2. Use `alpha_W` and `alpha_H` instead\n"
     ]
    },
    {
     "name": "stdout",
     "output_type": "stream",
     "text": [
      "WARNING: saving figure to file /nfs/team205/heart/cell2location/coloc_nmf/CoLocatedComb/AVN_revision/HCAHeartST11290658/CoLocatedGroupsSklearnNMF_2697locations_58factors/spatial/showcell_density_mean_n_fact7_sHCAHeartST11290658_p99.2.pdf\n",
      "### Analysis name: CoLocatedGroupsSklearnNMF_8combinations_2697locations_58factors\n"
     ]
    },
    {
     "name": "stderr",
     "output_type": "stream",
     "text": [
      "/home/jovyan/my-conda-envs/cellpymc/lib/python3.7/site-packages/sklearn/decomposition/_nmf.py:1425: FutureWarning: `alpha` was deprecated in version 1.0 and will be removed in 1.2. Use `alpha_W` and `alpha_H` instead\n",
      "/home/jovyan/my-conda-envs/cellpymc/lib/python3.7/site-packages/sklearn/decomposition/_nmf.py:1425: FutureWarning: `alpha` was deprecated in version 1.0 and will be removed in 1.2. Use `alpha_W` and `alpha_H` instead\n",
      "/home/jovyan/my-conda-envs/cellpymc/lib/python3.7/site-packages/sklearn/decomposition/_nmf.py:1425: FutureWarning: `alpha` was deprecated in version 1.0 and will be removed in 1.2. Use `alpha_W` and `alpha_H` instead\n"
     ]
    },
    {
     "name": "stdout",
     "output_type": "stream",
     "text": [
      "WARNING: saving figure to file /nfs/team205/heart/cell2location/coloc_nmf/CoLocatedComb/AVN_revision/HCAHeartST11290658/CoLocatedGroupsSklearnNMF_2697locations_58factors/spatial/showcell_density_mean_n_fact8_sHCAHeartST11290658_p99.2.pdf\n",
      "### Analysis name: CoLocatedGroupsSklearnNMF_9combinations_2697locations_58factors\n"
     ]
    },
    {
     "name": "stderr",
     "output_type": "stream",
     "text": [
      "/home/jovyan/my-conda-envs/cellpymc/lib/python3.7/site-packages/sklearn/decomposition/_nmf.py:1425: FutureWarning: `alpha` was deprecated in version 1.0 and will be removed in 1.2. Use `alpha_W` and `alpha_H` instead\n",
      "/home/jovyan/my-conda-envs/cellpymc/lib/python3.7/site-packages/sklearn/decomposition/_nmf.py:1425: FutureWarning: `alpha` was deprecated in version 1.0 and will be removed in 1.2. Use `alpha_W` and `alpha_H` instead\n",
      "/home/jovyan/my-conda-envs/cellpymc/lib/python3.7/site-packages/sklearn/decomposition/_nmf.py:1425: FutureWarning: `alpha` was deprecated in version 1.0 and will be removed in 1.2. Use `alpha_W` and `alpha_H` instead\n"
     ]
    },
    {
     "name": "stdout",
     "output_type": "stream",
     "text": [
      "WARNING: saving figure to file /nfs/team205/heart/cell2location/coloc_nmf/CoLocatedComb/AVN_revision/HCAHeartST11290658/CoLocatedGroupsSklearnNMF_2697locations_58factors/spatial/showcell_density_mean_n_fact9_sHCAHeartST11290658_p99.2.pdf\n",
      "### Analysis name: CoLocatedGroupsSklearnNMF_10combinations_2697locations_58factors\n"
     ]
    },
    {
     "name": "stderr",
     "output_type": "stream",
     "text": [
      "/home/jovyan/my-conda-envs/cellpymc/lib/python3.7/site-packages/sklearn/decomposition/_nmf.py:1425: FutureWarning: `alpha` was deprecated in version 1.0 and will be removed in 1.2. Use `alpha_W` and `alpha_H` instead\n",
      "/home/jovyan/my-conda-envs/cellpymc/lib/python3.7/site-packages/sklearn/decomposition/_nmf.py:1425: FutureWarning: `alpha` was deprecated in version 1.0 and will be removed in 1.2. Use `alpha_W` and `alpha_H` instead\n",
      "/home/jovyan/my-conda-envs/cellpymc/lib/python3.7/site-packages/sklearn/decomposition/_nmf.py:1425: FutureWarning: `alpha` was deprecated in version 1.0 and will be removed in 1.2. Use `alpha_W` and `alpha_H` instead\n"
     ]
    },
    {
     "name": "stdout",
     "output_type": "stream",
     "text": [
      "WARNING: saving figure to file /nfs/team205/heart/cell2location/coloc_nmf/CoLocatedComb/AVN_revision/HCAHeartST11290658/CoLocatedGroupsSklearnNMF_2697locations_58factors/spatial/showcell_density_mean_n_fact10_sHCAHeartST11290658_p99.2.pdf\n",
      "### Analysis name: CoLocatedGroupsSklearnNMF_11combinations_2697locations_58factors\n"
     ]
    },
    {
     "name": "stderr",
     "output_type": "stream",
     "text": [
      "/home/jovyan/my-conda-envs/cellpymc/lib/python3.7/site-packages/sklearn/decomposition/_nmf.py:1425: FutureWarning: `alpha` was deprecated in version 1.0 and will be removed in 1.2. Use `alpha_W` and `alpha_H` instead\n",
      "/home/jovyan/my-conda-envs/cellpymc/lib/python3.7/site-packages/sklearn/decomposition/_nmf.py:1425: FutureWarning: `alpha` was deprecated in version 1.0 and will be removed in 1.2. Use `alpha_W` and `alpha_H` instead\n",
      "/home/jovyan/my-conda-envs/cellpymc/lib/python3.7/site-packages/sklearn/decomposition/_nmf.py:1425: FutureWarning: `alpha` was deprecated in version 1.0 and will be removed in 1.2. Use `alpha_W` and `alpha_H` instead\n"
     ]
    },
    {
     "name": "stdout",
     "output_type": "stream",
     "text": [
      "WARNING: saving figure to file /nfs/team205/heart/cell2location/coloc_nmf/CoLocatedComb/AVN_revision/HCAHeartST11290658/CoLocatedGroupsSklearnNMF_2697locations_58factors/spatial/showcell_density_mean_n_fact11_sHCAHeartST11290658_p99.2.pdf\n",
      "### Analysis name: CoLocatedGroupsSklearnNMF_12combinations_2697locations_58factors\n"
     ]
    },
    {
     "name": "stderr",
     "output_type": "stream",
     "text": [
      "/home/jovyan/my-conda-envs/cellpymc/lib/python3.7/site-packages/sklearn/decomposition/_nmf.py:1425: FutureWarning: `alpha` was deprecated in version 1.0 and will be removed in 1.2. Use `alpha_W` and `alpha_H` instead\n",
      "/home/jovyan/my-conda-envs/cellpymc/lib/python3.7/site-packages/sklearn/decomposition/_nmf.py:1425: FutureWarning: `alpha` was deprecated in version 1.0 and will be removed in 1.2. Use `alpha_W` and `alpha_H` instead\n",
      "/home/jovyan/my-conda-envs/cellpymc/lib/python3.7/site-packages/sklearn/decomposition/_nmf.py:1425: FutureWarning: `alpha` was deprecated in version 1.0 and will be removed in 1.2. Use `alpha_W` and `alpha_H` instead\n"
     ]
    },
    {
     "name": "stdout",
     "output_type": "stream",
     "text": [
      "WARNING: saving figure to file /nfs/team205/heart/cell2location/coloc_nmf/CoLocatedComb/AVN_revision/HCAHeartST11290658/CoLocatedGroupsSklearnNMF_2697locations_58factors/spatial/showcell_density_mean_n_fact12_sHCAHeartST11290658_p99.2.pdf\n",
      "### Analysis name: CoLocatedGroupsSklearnNMF_13combinations_2697locations_58factors\n"
     ]
    },
    {
     "name": "stderr",
     "output_type": "stream",
     "text": [
      "/home/jovyan/my-conda-envs/cellpymc/lib/python3.7/site-packages/sklearn/decomposition/_nmf.py:1425: FutureWarning: `alpha` was deprecated in version 1.0 and will be removed in 1.2. Use `alpha_W` and `alpha_H` instead\n",
      "/home/jovyan/my-conda-envs/cellpymc/lib/python3.7/site-packages/sklearn/decomposition/_nmf.py:1425: FutureWarning: `alpha` was deprecated in version 1.0 and will be removed in 1.2. Use `alpha_W` and `alpha_H` instead\n",
      "/home/jovyan/my-conda-envs/cellpymc/lib/python3.7/site-packages/sklearn/decomposition/_nmf.py:1425: FutureWarning: `alpha` was deprecated in version 1.0 and will be removed in 1.2. Use `alpha_W` and `alpha_H` instead\n"
     ]
    },
    {
     "name": "stdout",
     "output_type": "stream",
     "text": [
      "WARNING: saving figure to file /nfs/team205/heart/cell2location/coloc_nmf/CoLocatedComb/AVN_revision/HCAHeartST11290658/CoLocatedGroupsSklearnNMF_2697locations_58factors/spatial/showcell_density_mean_n_fact13_sHCAHeartST11290658_p99.2.pdf\n",
      "### Analysis name: CoLocatedGroupsSklearnNMF_14combinations_2697locations_58factors\n"
     ]
    },
    {
     "name": "stderr",
     "output_type": "stream",
     "text": [
      "/home/jovyan/my-conda-envs/cellpymc/lib/python3.7/site-packages/sklearn/decomposition/_nmf.py:1425: FutureWarning: `alpha` was deprecated in version 1.0 and will be removed in 1.2. Use `alpha_W` and `alpha_H` instead\n",
      "/home/jovyan/my-conda-envs/cellpymc/lib/python3.7/site-packages/sklearn/decomposition/_nmf.py:1425: FutureWarning: `alpha` was deprecated in version 1.0 and will be removed in 1.2. Use `alpha_W` and `alpha_H` instead\n",
      "/home/jovyan/my-conda-envs/cellpymc/lib/python3.7/site-packages/sklearn/decomposition/_nmf.py:1425: FutureWarning: `alpha` was deprecated in version 1.0 and will be removed in 1.2. Use `alpha_W` and `alpha_H` instead\n"
     ]
    },
    {
     "name": "stdout",
     "output_type": "stream",
     "text": [
      "WARNING: saving figure to file /nfs/team205/heart/cell2location/coloc_nmf/CoLocatedComb/AVN_revision/HCAHeartST11290658/CoLocatedGroupsSklearnNMF_2697locations_58factors/spatial/showcell_density_mean_n_fact14_sHCAHeartST11290658_p99.2.pdf\n",
      "HCAHeartST11290659    2338\n",
      "Name: sample, dtype: int64\n",
      "### Analysis name: CoLocatedGroupsSklearnNMF_5combinations_2338locations_58factors\n"
     ]
    },
    {
     "name": "stderr",
     "output_type": "stream",
     "text": [
      "/home/jovyan/my-conda-envs/cellpymc/lib/python3.7/site-packages/sklearn/decomposition/_nmf.py:1425: FutureWarning: `alpha` was deprecated in version 1.0 and will be removed in 1.2. Use `alpha_W` and `alpha_H` instead\n",
      "/home/jovyan/my-conda-envs/cellpymc/lib/python3.7/site-packages/sklearn/decomposition/_nmf.py:1425: FutureWarning: `alpha` was deprecated in version 1.0 and will be removed in 1.2. Use `alpha_W` and `alpha_H` instead\n",
      "/home/jovyan/my-conda-envs/cellpymc/lib/python3.7/site-packages/sklearn/decomposition/_nmf.py:1425: FutureWarning: `alpha` was deprecated in version 1.0 and will be removed in 1.2. Use `alpha_W` and `alpha_H` instead\n"
     ]
    },
    {
     "name": "stdout",
     "output_type": "stream",
     "text": [
      "WARNING: saving figure to file /nfs/team205/heart/cell2location/coloc_nmf/CoLocatedComb/AVN_revision/HCAHeartST11290659/CoLocatedGroupsSklearnNMF_2338locations_58factors/spatial/showcell_density_mean_n_fact5_sHCAHeartST11290659_p99.2.pdf\n",
      "### Analysis name: CoLocatedGroupsSklearnNMF_6combinations_2338locations_58factors\n"
     ]
    },
    {
     "name": "stderr",
     "output_type": "stream",
     "text": [
      "/home/jovyan/my-conda-envs/cellpymc/lib/python3.7/site-packages/sklearn/decomposition/_nmf.py:1425: FutureWarning: `alpha` was deprecated in version 1.0 and will be removed in 1.2. Use `alpha_W` and `alpha_H` instead\n",
      "/home/jovyan/my-conda-envs/cellpymc/lib/python3.7/site-packages/sklearn/decomposition/_nmf.py:1425: FutureWarning: `alpha` was deprecated in version 1.0 and will be removed in 1.2. Use `alpha_W` and `alpha_H` instead\n",
      "/home/jovyan/my-conda-envs/cellpymc/lib/python3.7/site-packages/sklearn/decomposition/_nmf.py:1425: FutureWarning: `alpha` was deprecated in version 1.0 and will be removed in 1.2. Use `alpha_W` and `alpha_H` instead\n"
     ]
    },
    {
     "name": "stdout",
     "output_type": "stream",
     "text": [
      "WARNING: saving figure to file /nfs/team205/heart/cell2location/coloc_nmf/CoLocatedComb/AVN_revision/HCAHeartST11290659/CoLocatedGroupsSklearnNMF_2338locations_58factors/spatial/showcell_density_mean_n_fact6_sHCAHeartST11290659_p99.2.pdf\n",
      "### Analysis name: CoLocatedGroupsSklearnNMF_7combinations_2338locations_58factors\n"
     ]
    },
    {
     "name": "stderr",
     "output_type": "stream",
     "text": [
      "/home/jovyan/my-conda-envs/cellpymc/lib/python3.7/site-packages/sklearn/decomposition/_nmf.py:1425: FutureWarning: `alpha` was deprecated in version 1.0 and will be removed in 1.2. Use `alpha_W` and `alpha_H` instead\n",
      "/home/jovyan/my-conda-envs/cellpymc/lib/python3.7/site-packages/sklearn/decomposition/_nmf.py:1425: FutureWarning: `alpha` was deprecated in version 1.0 and will be removed in 1.2. Use `alpha_W` and `alpha_H` instead\n",
      "/home/jovyan/my-conda-envs/cellpymc/lib/python3.7/site-packages/sklearn/decomposition/_nmf.py:1425: FutureWarning: `alpha` was deprecated in version 1.0 and will be removed in 1.2. Use `alpha_W` and `alpha_H` instead\n"
     ]
    },
    {
     "name": "stdout",
     "output_type": "stream",
     "text": [
      "WARNING: saving figure to file /nfs/team205/heart/cell2location/coloc_nmf/CoLocatedComb/AVN_revision/HCAHeartST11290659/CoLocatedGroupsSklearnNMF_2338locations_58factors/spatial/showcell_density_mean_n_fact7_sHCAHeartST11290659_p99.2.pdf\n",
      "### Analysis name: CoLocatedGroupsSklearnNMF_8combinations_2338locations_58factors\n"
     ]
    },
    {
     "name": "stderr",
     "output_type": "stream",
     "text": [
      "/home/jovyan/my-conda-envs/cellpymc/lib/python3.7/site-packages/sklearn/decomposition/_nmf.py:1425: FutureWarning: `alpha` was deprecated in version 1.0 and will be removed in 1.2. Use `alpha_W` and `alpha_H` instead\n",
      "/home/jovyan/my-conda-envs/cellpymc/lib/python3.7/site-packages/sklearn/decomposition/_nmf.py:1425: FutureWarning: `alpha` was deprecated in version 1.0 and will be removed in 1.2. Use `alpha_W` and `alpha_H` instead\n",
      "/home/jovyan/my-conda-envs/cellpymc/lib/python3.7/site-packages/sklearn/decomposition/_nmf.py:1425: FutureWarning: `alpha` was deprecated in version 1.0 and will be removed in 1.2. Use `alpha_W` and `alpha_H` instead\n"
     ]
    },
    {
     "name": "stdout",
     "output_type": "stream",
     "text": [
      "WARNING: saving figure to file /nfs/team205/heart/cell2location/coloc_nmf/CoLocatedComb/AVN_revision/HCAHeartST11290659/CoLocatedGroupsSklearnNMF_2338locations_58factors/spatial/showcell_density_mean_n_fact8_sHCAHeartST11290659_p99.2.pdf\n",
      "### Analysis name: CoLocatedGroupsSklearnNMF_9combinations_2338locations_58factors\n"
     ]
    },
    {
     "name": "stderr",
     "output_type": "stream",
     "text": [
      "/home/jovyan/my-conda-envs/cellpymc/lib/python3.7/site-packages/sklearn/decomposition/_nmf.py:1425: FutureWarning: `alpha` was deprecated in version 1.0 and will be removed in 1.2. Use `alpha_W` and `alpha_H` instead\n",
      "/home/jovyan/my-conda-envs/cellpymc/lib/python3.7/site-packages/sklearn/decomposition/_nmf.py:1425: FutureWarning: `alpha` was deprecated in version 1.0 and will be removed in 1.2. Use `alpha_W` and `alpha_H` instead\n",
      "/home/jovyan/my-conda-envs/cellpymc/lib/python3.7/site-packages/sklearn/decomposition/_nmf.py:1425: FutureWarning: `alpha` was deprecated in version 1.0 and will be removed in 1.2. Use `alpha_W` and `alpha_H` instead\n"
     ]
    },
    {
     "name": "stdout",
     "output_type": "stream",
     "text": [
      "WARNING: saving figure to file /nfs/team205/heart/cell2location/coloc_nmf/CoLocatedComb/AVN_revision/HCAHeartST11290659/CoLocatedGroupsSklearnNMF_2338locations_58factors/spatial/showcell_density_mean_n_fact9_sHCAHeartST11290659_p99.2.pdf\n",
      "### Analysis name: CoLocatedGroupsSklearnNMF_10combinations_2338locations_58factors\n"
     ]
    },
    {
     "name": "stderr",
     "output_type": "stream",
     "text": [
      "/home/jovyan/my-conda-envs/cellpymc/lib/python3.7/site-packages/sklearn/decomposition/_nmf.py:1425: FutureWarning: `alpha` was deprecated in version 1.0 and will be removed in 1.2. Use `alpha_W` and `alpha_H` instead\n",
      "/home/jovyan/my-conda-envs/cellpymc/lib/python3.7/site-packages/sklearn/decomposition/_nmf.py:1425: FutureWarning: `alpha` was deprecated in version 1.0 and will be removed in 1.2. Use `alpha_W` and `alpha_H` instead\n",
      "/home/jovyan/my-conda-envs/cellpymc/lib/python3.7/site-packages/sklearn/decomposition/_nmf.py:1425: FutureWarning: `alpha` was deprecated in version 1.0 and will be removed in 1.2. Use `alpha_W` and `alpha_H` instead\n"
     ]
    },
    {
     "name": "stdout",
     "output_type": "stream",
     "text": [
      "WARNING: saving figure to file /nfs/team205/heart/cell2location/coloc_nmf/CoLocatedComb/AVN_revision/HCAHeartST11290659/CoLocatedGroupsSklearnNMF_2338locations_58factors/spatial/showcell_density_mean_n_fact10_sHCAHeartST11290659_p99.2.pdf\n",
      "### Analysis name: CoLocatedGroupsSklearnNMF_11combinations_2338locations_58factors\n"
     ]
    },
    {
     "name": "stderr",
     "output_type": "stream",
     "text": [
      "/home/jovyan/my-conda-envs/cellpymc/lib/python3.7/site-packages/sklearn/decomposition/_nmf.py:1425: FutureWarning: `alpha` was deprecated in version 1.0 and will be removed in 1.2. Use `alpha_W` and `alpha_H` instead\n",
      "/home/jovyan/my-conda-envs/cellpymc/lib/python3.7/site-packages/sklearn/decomposition/_nmf.py:1425: FutureWarning: `alpha` was deprecated in version 1.0 and will be removed in 1.2. Use `alpha_W` and `alpha_H` instead\n",
      "/home/jovyan/my-conda-envs/cellpymc/lib/python3.7/site-packages/sklearn/decomposition/_nmf.py:1425: FutureWarning: `alpha` was deprecated in version 1.0 and will be removed in 1.2. Use `alpha_W` and `alpha_H` instead\n"
     ]
    },
    {
     "name": "stdout",
     "output_type": "stream",
     "text": [
      "WARNING: saving figure to file /nfs/team205/heart/cell2location/coloc_nmf/CoLocatedComb/AVN_revision/HCAHeartST11290659/CoLocatedGroupsSklearnNMF_2338locations_58factors/spatial/showcell_density_mean_n_fact11_sHCAHeartST11290659_p99.2.pdf\n",
      "### Analysis name: CoLocatedGroupsSklearnNMF_12combinations_2338locations_58factors\n"
     ]
    },
    {
     "name": "stderr",
     "output_type": "stream",
     "text": [
      "/home/jovyan/my-conda-envs/cellpymc/lib/python3.7/site-packages/sklearn/decomposition/_nmf.py:1425: FutureWarning: `alpha` was deprecated in version 1.0 and will be removed in 1.2. Use `alpha_W` and `alpha_H` instead\n",
      "/home/jovyan/my-conda-envs/cellpymc/lib/python3.7/site-packages/sklearn/decomposition/_nmf.py:1425: FutureWarning: `alpha` was deprecated in version 1.0 and will be removed in 1.2. Use `alpha_W` and `alpha_H` instead\n",
      "/home/jovyan/my-conda-envs/cellpymc/lib/python3.7/site-packages/sklearn/decomposition/_nmf.py:1425: FutureWarning: `alpha` was deprecated in version 1.0 and will be removed in 1.2. Use `alpha_W` and `alpha_H` instead\n"
     ]
    },
    {
     "name": "stdout",
     "output_type": "stream",
     "text": [
      "WARNING: saving figure to file /nfs/team205/heart/cell2location/coloc_nmf/CoLocatedComb/AVN_revision/HCAHeartST11290659/CoLocatedGroupsSklearnNMF_2338locations_58factors/spatial/showcell_density_mean_n_fact12_sHCAHeartST11290659_p99.2.pdf\n",
      "### Analysis name: CoLocatedGroupsSklearnNMF_13combinations_2338locations_58factors\n"
     ]
    },
    {
     "name": "stderr",
     "output_type": "stream",
     "text": [
      "/home/jovyan/my-conda-envs/cellpymc/lib/python3.7/site-packages/sklearn/decomposition/_nmf.py:1425: FutureWarning: `alpha` was deprecated in version 1.0 and will be removed in 1.2. Use `alpha_W` and `alpha_H` instead\n",
      "/home/jovyan/my-conda-envs/cellpymc/lib/python3.7/site-packages/sklearn/decomposition/_nmf.py:1425: FutureWarning: `alpha` was deprecated in version 1.0 and will be removed in 1.2. Use `alpha_W` and `alpha_H` instead\n",
      "/home/jovyan/my-conda-envs/cellpymc/lib/python3.7/site-packages/sklearn/decomposition/_nmf.py:1425: FutureWarning: `alpha` was deprecated in version 1.0 and will be removed in 1.2. Use `alpha_W` and `alpha_H` instead\n"
     ]
    },
    {
     "name": "stdout",
     "output_type": "stream",
     "text": [
      "WARNING: saving figure to file /nfs/team205/heart/cell2location/coloc_nmf/CoLocatedComb/AVN_revision/HCAHeartST11290659/CoLocatedGroupsSklearnNMF_2338locations_58factors/spatial/showcell_density_mean_n_fact13_sHCAHeartST11290659_p99.2.pdf\n",
      "### Analysis name: CoLocatedGroupsSklearnNMF_14combinations_2338locations_58factors\n"
     ]
    },
    {
     "name": "stderr",
     "output_type": "stream",
     "text": [
      "/home/jovyan/my-conda-envs/cellpymc/lib/python3.7/site-packages/sklearn/decomposition/_nmf.py:1425: FutureWarning: `alpha` was deprecated in version 1.0 and will be removed in 1.2. Use `alpha_W` and `alpha_H` instead\n",
      "/home/jovyan/my-conda-envs/cellpymc/lib/python3.7/site-packages/sklearn/decomposition/_nmf.py:1425: FutureWarning: `alpha` was deprecated in version 1.0 and will be removed in 1.2. Use `alpha_W` and `alpha_H` instead\n",
      "/home/jovyan/my-conda-envs/cellpymc/lib/python3.7/site-packages/sklearn/decomposition/_nmf.py:1425: FutureWarning: `alpha` was deprecated in version 1.0 and will be removed in 1.2. Use `alpha_W` and `alpha_H` instead\n"
     ]
    },
    {
     "name": "stdout",
     "output_type": "stream",
     "text": [
      "WARNING: saving figure to file /nfs/team205/heart/cell2location/coloc_nmf/CoLocatedComb/AVN_revision/HCAHeartST11290659/CoLocatedGroupsSklearnNMF_2338locations_58factors/spatial/showcell_density_mean_n_fact14_sHCAHeartST11290659_p99.2.pdf\n",
      "HCAHeartST11290662    3153\n",
      "Name: sample, dtype: int64\n",
      "### Analysis name: CoLocatedGroupsSklearnNMF_5combinations_3153locations_58factors\n"
     ]
    },
    {
     "name": "stderr",
     "output_type": "stream",
     "text": [
      "/home/jovyan/my-conda-envs/cellpymc/lib/python3.7/site-packages/sklearn/decomposition/_nmf.py:1425: FutureWarning: `alpha` was deprecated in version 1.0 and will be removed in 1.2. Use `alpha_W` and `alpha_H` instead\n",
      "/home/jovyan/my-conda-envs/cellpymc/lib/python3.7/site-packages/sklearn/decomposition/_nmf.py:1425: FutureWarning: `alpha` was deprecated in version 1.0 and will be removed in 1.2. Use `alpha_W` and `alpha_H` instead\n",
      "/home/jovyan/my-conda-envs/cellpymc/lib/python3.7/site-packages/sklearn/decomposition/_nmf.py:1425: FutureWarning: `alpha` was deprecated in version 1.0 and will be removed in 1.2. Use `alpha_W` and `alpha_H` instead\n"
     ]
    },
    {
     "name": "stdout",
     "output_type": "stream",
     "text": [
      "WARNING: saving figure to file /nfs/team205/heart/cell2location/coloc_nmf/CoLocatedComb/AVN_revision/HCAHeartST11290662/CoLocatedGroupsSklearnNMF_3153locations_58factors/spatial/showcell_density_mean_n_fact5_sHCAHeartST11290662_p99.2.pdf\n",
      "### Analysis name: CoLocatedGroupsSklearnNMF_6combinations_3153locations_58factors\n"
     ]
    },
    {
     "name": "stderr",
     "output_type": "stream",
     "text": [
      "/home/jovyan/my-conda-envs/cellpymc/lib/python3.7/site-packages/sklearn/decomposition/_nmf.py:1425: FutureWarning: `alpha` was deprecated in version 1.0 and will be removed in 1.2. Use `alpha_W` and `alpha_H` instead\n",
      "/home/jovyan/my-conda-envs/cellpymc/lib/python3.7/site-packages/sklearn/decomposition/_nmf.py:1425: FutureWarning: `alpha` was deprecated in version 1.0 and will be removed in 1.2. Use `alpha_W` and `alpha_H` instead\n",
      "/home/jovyan/my-conda-envs/cellpymc/lib/python3.7/site-packages/sklearn/decomposition/_nmf.py:1425: FutureWarning: `alpha` was deprecated in version 1.0 and will be removed in 1.2. Use `alpha_W` and `alpha_H` instead\n"
     ]
    },
    {
     "name": "stdout",
     "output_type": "stream",
     "text": [
      "WARNING: saving figure to file /nfs/team205/heart/cell2location/coloc_nmf/CoLocatedComb/AVN_revision/HCAHeartST11290662/CoLocatedGroupsSklearnNMF_3153locations_58factors/spatial/showcell_density_mean_n_fact6_sHCAHeartST11290662_p99.2.pdf\n",
      "### Analysis name: CoLocatedGroupsSklearnNMF_7combinations_3153locations_58factors\n"
     ]
    },
    {
     "name": "stderr",
     "output_type": "stream",
     "text": [
      "/home/jovyan/my-conda-envs/cellpymc/lib/python3.7/site-packages/sklearn/decomposition/_nmf.py:1425: FutureWarning: `alpha` was deprecated in version 1.0 and will be removed in 1.2. Use `alpha_W` and `alpha_H` instead\n",
      "/home/jovyan/my-conda-envs/cellpymc/lib/python3.7/site-packages/sklearn/decomposition/_nmf.py:1425: FutureWarning: `alpha` was deprecated in version 1.0 and will be removed in 1.2. Use `alpha_W` and `alpha_H` instead\n",
      "/home/jovyan/my-conda-envs/cellpymc/lib/python3.7/site-packages/sklearn/decomposition/_nmf.py:1425: FutureWarning: `alpha` was deprecated in version 1.0 and will be removed in 1.2. Use `alpha_W` and `alpha_H` instead\n"
     ]
    },
    {
     "name": "stdout",
     "output_type": "stream",
     "text": [
      "WARNING: saving figure to file /nfs/team205/heart/cell2location/coloc_nmf/CoLocatedComb/AVN_revision/HCAHeartST11290662/CoLocatedGroupsSklearnNMF_3153locations_58factors/spatial/showcell_density_mean_n_fact7_sHCAHeartST11290662_p99.2.pdf\n",
      "### Analysis name: CoLocatedGroupsSklearnNMF_8combinations_3153locations_58factors\n"
     ]
    },
    {
     "name": "stderr",
     "output_type": "stream",
     "text": [
      "/home/jovyan/my-conda-envs/cellpymc/lib/python3.7/site-packages/sklearn/decomposition/_nmf.py:1425: FutureWarning: `alpha` was deprecated in version 1.0 and will be removed in 1.2. Use `alpha_W` and `alpha_H` instead\n",
      "/home/jovyan/my-conda-envs/cellpymc/lib/python3.7/site-packages/sklearn/decomposition/_nmf.py:1425: FutureWarning: `alpha` was deprecated in version 1.0 and will be removed in 1.2. Use `alpha_W` and `alpha_H` instead\n",
      "/home/jovyan/my-conda-envs/cellpymc/lib/python3.7/site-packages/sklearn/decomposition/_nmf.py:1425: FutureWarning: `alpha` was deprecated in version 1.0 and will be removed in 1.2. Use `alpha_W` and `alpha_H` instead\n"
     ]
    },
    {
     "name": "stdout",
     "output_type": "stream",
     "text": [
      "WARNING: saving figure to file /nfs/team205/heart/cell2location/coloc_nmf/CoLocatedComb/AVN_revision/HCAHeartST11290662/CoLocatedGroupsSklearnNMF_3153locations_58factors/spatial/showcell_density_mean_n_fact8_sHCAHeartST11290662_p99.2.pdf\n",
      "### Analysis name: CoLocatedGroupsSklearnNMF_9combinations_3153locations_58factors\n"
     ]
    },
    {
     "name": "stderr",
     "output_type": "stream",
     "text": [
      "/home/jovyan/my-conda-envs/cellpymc/lib/python3.7/site-packages/sklearn/decomposition/_nmf.py:1425: FutureWarning: `alpha` was deprecated in version 1.0 and will be removed in 1.2. Use `alpha_W` and `alpha_H` instead\n",
      "/home/jovyan/my-conda-envs/cellpymc/lib/python3.7/site-packages/sklearn/decomposition/_nmf.py:1425: FutureWarning: `alpha` was deprecated in version 1.0 and will be removed in 1.2. Use `alpha_W` and `alpha_H` instead\n",
      "/home/jovyan/my-conda-envs/cellpymc/lib/python3.7/site-packages/sklearn/decomposition/_nmf.py:1425: FutureWarning: `alpha` was deprecated in version 1.0 and will be removed in 1.2. Use `alpha_W` and `alpha_H` instead\n"
     ]
    },
    {
     "name": "stdout",
     "output_type": "stream",
     "text": [
      "WARNING: saving figure to file /nfs/team205/heart/cell2location/coloc_nmf/CoLocatedComb/AVN_revision/HCAHeartST11290662/CoLocatedGroupsSklearnNMF_3153locations_58factors/spatial/showcell_density_mean_n_fact9_sHCAHeartST11290662_p99.2.pdf\n",
      "### Analysis name: CoLocatedGroupsSklearnNMF_10combinations_3153locations_58factors\n"
     ]
    },
    {
     "name": "stderr",
     "output_type": "stream",
     "text": [
      "/home/jovyan/my-conda-envs/cellpymc/lib/python3.7/site-packages/sklearn/decomposition/_nmf.py:1425: FutureWarning: `alpha` was deprecated in version 1.0 and will be removed in 1.2. Use `alpha_W` and `alpha_H` instead\n",
      "/home/jovyan/my-conda-envs/cellpymc/lib/python3.7/site-packages/sklearn/decomposition/_nmf.py:1425: FutureWarning: `alpha` was deprecated in version 1.0 and will be removed in 1.2. Use `alpha_W` and `alpha_H` instead\n",
      "/home/jovyan/my-conda-envs/cellpymc/lib/python3.7/site-packages/sklearn/decomposition/_nmf.py:1425: FutureWarning: `alpha` was deprecated in version 1.0 and will be removed in 1.2. Use `alpha_W` and `alpha_H` instead\n"
     ]
    },
    {
     "name": "stdout",
     "output_type": "stream",
     "text": [
      "WARNING: saving figure to file /nfs/team205/heart/cell2location/coloc_nmf/CoLocatedComb/AVN_revision/HCAHeartST11290662/CoLocatedGroupsSklearnNMF_3153locations_58factors/spatial/showcell_density_mean_n_fact10_sHCAHeartST11290662_p99.2.pdf\n",
      "### Analysis name: CoLocatedGroupsSklearnNMF_11combinations_3153locations_58factors\n"
     ]
    },
    {
     "name": "stderr",
     "output_type": "stream",
     "text": [
      "/home/jovyan/my-conda-envs/cellpymc/lib/python3.7/site-packages/sklearn/decomposition/_nmf.py:1425: FutureWarning: `alpha` was deprecated in version 1.0 and will be removed in 1.2. Use `alpha_W` and `alpha_H` instead\n",
      "/home/jovyan/my-conda-envs/cellpymc/lib/python3.7/site-packages/sklearn/decomposition/_nmf.py:1425: FutureWarning: `alpha` was deprecated in version 1.0 and will be removed in 1.2. Use `alpha_W` and `alpha_H` instead\n",
      "/home/jovyan/my-conda-envs/cellpymc/lib/python3.7/site-packages/sklearn/decomposition/_nmf.py:1425: FutureWarning: `alpha` was deprecated in version 1.0 and will be removed in 1.2. Use `alpha_W` and `alpha_H` instead\n"
     ]
    },
    {
     "name": "stdout",
     "output_type": "stream",
     "text": [
      "WARNING: saving figure to file /nfs/team205/heart/cell2location/coloc_nmf/CoLocatedComb/AVN_revision/HCAHeartST11290662/CoLocatedGroupsSklearnNMF_3153locations_58factors/spatial/showcell_density_mean_n_fact11_sHCAHeartST11290662_p99.2.pdf\n",
      "### Analysis name: CoLocatedGroupsSklearnNMF_12combinations_3153locations_58factors\n"
     ]
    },
    {
     "name": "stderr",
     "output_type": "stream",
     "text": [
      "/home/jovyan/my-conda-envs/cellpymc/lib/python3.7/site-packages/sklearn/decomposition/_nmf.py:1425: FutureWarning: `alpha` was deprecated in version 1.0 and will be removed in 1.2. Use `alpha_W` and `alpha_H` instead\n",
      "/home/jovyan/my-conda-envs/cellpymc/lib/python3.7/site-packages/sklearn/decomposition/_nmf.py:1425: FutureWarning: `alpha` was deprecated in version 1.0 and will be removed in 1.2. Use `alpha_W` and `alpha_H` instead\n",
      "/home/jovyan/my-conda-envs/cellpymc/lib/python3.7/site-packages/sklearn/decomposition/_nmf.py:1425: FutureWarning: `alpha` was deprecated in version 1.0 and will be removed in 1.2. Use `alpha_W` and `alpha_H` instead\n"
     ]
    },
    {
     "name": "stdout",
     "output_type": "stream",
     "text": [
      "WARNING: saving figure to file /nfs/team205/heart/cell2location/coloc_nmf/CoLocatedComb/AVN_revision/HCAHeartST11290662/CoLocatedGroupsSklearnNMF_3153locations_58factors/spatial/showcell_density_mean_n_fact12_sHCAHeartST11290662_p99.2.pdf\n",
      "### Analysis name: CoLocatedGroupsSklearnNMF_13combinations_3153locations_58factors\n"
     ]
    },
    {
     "name": "stderr",
     "output_type": "stream",
     "text": [
      "/home/jovyan/my-conda-envs/cellpymc/lib/python3.7/site-packages/sklearn/decomposition/_nmf.py:1425: FutureWarning: `alpha` was deprecated in version 1.0 and will be removed in 1.2. Use `alpha_W` and `alpha_H` instead\n",
      "/home/jovyan/my-conda-envs/cellpymc/lib/python3.7/site-packages/sklearn/decomposition/_nmf.py:1425: FutureWarning: `alpha` was deprecated in version 1.0 and will be removed in 1.2. Use `alpha_W` and `alpha_H` instead\n",
      "/home/jovyan/my-conda-envs/cellpymc/lib/python3.7/site-packages/sklearn/decomposition/_nmf.py:1425: FutureWarning: `alpha` was deprecated in version 1.0 and will be removed in 1.2. Use `alpha_W` and `alpha_H` instead\n"
     ]
    },
    {
     "name": "stdout",
     "output_type": "stream",
     "text": [
      "WARNING: saving figure to file /nfs/team205/heart/cell2location/coloc_nmf/CoLocatedComb/AVN_revision/HCAHeartST11290662/CoLocatedGroupsSklearnNMF_3153locations_58factors/spatial/showcell_density_mean_n_fact13_sHCAHeartST11290662_p99.2.pdf\n",
      "### Analysis name: CoLocatedGroupsSklearnNMF_14combinations_3153locations_58factors\n"
     ]
    },
    {
     "name": "stderr",
     "output_type": "stream",
     "text": [
      "/home/jovyan/my-conda-envs/cellpymc/lib/python3.7/site-packages/sklearn/decomposition/_nmf.py:1425: FutureWarning: `alpha` was deprecated in version 1.0 and will be removed in 1.2. Use `alpha_W` and `alpha_H` instead\n",
      "/home/jovyan/my-conda-envs/cellpymc/lib/python3.7/site-packages/sklearn/decomposition/_nmf.py:1425: FutureWarning: `alpha` was deprecated in version 1.0 and will be removed in 1.2. Use `alpha_W` and `alpha_H` instead\n",
      "/home/jovyan/my-conda-envs/cellpymc/lib/python3.7/site-packages/sklearn/decomposition/_nmf.py:1425: FutureWarning: `alpha` was deprecated in version 1.0 and will be removed in 1.2. Use `alpha_W` and `alpha_H` instead\n"
     ]
    },
    {
     "name": "stdout",
     "output_type": "stream",
     "text": [
      "WARNING: saving figure to file /nfs/team205/heart/cell2location/coloc_nmf/CoLocatedComb/AVN_revision/HCAHeartST11290662/CoLocatedGroupsSklearnNMF_3153locations_58factors/spatial/showcell_density_mean_n_fact14_sHCAHeartST11290662_p99.2.pdf\n",
      "HCAHeartST11350377    2807\n",
      "Name: sample, dtype: int64\n",
      "### Analysis name: CoLocatedGroupsSklearnNMF_5combinations_2807locations_58factors\n"
     ]
    },
    {
     "name": "stderr",
     "output_type": "stream",
     "text": [
      "/home/jovyan/my-conda-envs/cellpymc/lib/python3.7/site-packages/sklearn/decomposition/_nmf.py:1425: FutureWarning: `alpha` was deprecated in version 1.0 and will be removed in 1.2. Use `alpha_W` and `alpha_H` instead\n",
      "/home/jovyan/my-conda-envs/cellpymc/lib/python3.7/site-packages/sklearn/decomposition/_nmf.py:1425: FutureWarning: `alpha` was deprecated in version 1.0 and will be removed in 1.2. Use `alpha_W` and `alpha_H` instead\n",
      "/home/jovyan/my-conda-envs/cellpymc/lib/python3.7/site-packages/sklearn/decomposition/_nmf.py:1425: FutureWarning: `alpha` was deprecated in version 1.0 and will be removed in 1.2. Use `alpha_W` and `alpha_H` instead\n"
     ]
    },
    {
     "name": "stdout",
     "output_type": "stream",
     "text": [
      "WARNING: saving figure to file /nfs/team205/heart/cell2location/coloc_nmf/CoLocatedComb/AVN_revision/HCAHeartST11350377/CoLocatedGroupsSklearnNMF_2807locations_58factors/spatial/showcell_density_mean_n_fact5_sHCAHeartST11350377_p99.2.pdf\n",
      "### Analysis name: CoLocatedGroupsSklearnNMF_6combinations_2807locations_58factors\n"
     ]
    },
    {
     "name": "stderr",
     "output_type": "stream",
     "text": [
      "/home/jovyan/my-conda-envs/cellpymc/lib/python3.7/site-packages/sklearn/decomposition/_nmf.py:1425: FutureWarning: `alpha` was deprecated in version 1.0 and will be removed in 1.2. Use `alpha_W` and `alpha_H` instead\n",
      "/home/jovyan/my-conda-envs/cellpymc/lib/python3.7/site-packages/sklearn/decomposition/_nmf.py:1425: FutureWarning: `alpha` was deprecated in version 1.0 and will be removed in 1.2. Use `alpha_W` and `alpha_H` instead\n",
      "/home/jovyan/my-conda-envs/cellpymc/lib/python3.7/site-packages/sklearn/decomposition/_nmf.py:1425: FutureWarning: `alpha` was deprecated in version 1.0 and will be removed in 1.2. Use `alpha_W` and `alpha_H` instead\n"
     ]
    },
    {
     "name": "stdout",
     "output_type": "stream",
     "text": [
      "WARNING: saving figure to file /nfs/team205/heart/cell2location/coloc_nmf/CoLocatedComb/AVN_revision/HCAHeartST11350377/CoLocatedGroupsSklearnNMF_2807locations_58factors/spatial/showcell_density_mean_n_fact6_sHCAHeartST11350377_p99.2.pdf\n",
      "### Analysis name: CoLocatedGroupsSklearnNMF_7combinations_2807locations_58factors\n"
     ]
    },
    {
     "name": "stderr",
     "output_type": "stream",
     "text": [
      "/home/jovyan/my-conda-envs/cellpymc/lib/python3.7/site-packages/sklearn/decomposition/_nmf.py:1425: FutureWarning: `alpha` was deprecated in version 1.0 and will be removed in 1.2. Use `alpha_W` and `alpha_H` instead\n",
      "/home/jovyan/my-conda-envs/cellpymc/lib/python3.7/site-packages/sklearn/decomposition/_nmf.py:1425: FutureWarning: `alpha` was deprecated in version 1.0 and will be removed in 1.2. Use `alpha_W` and `alpha_H` instead\n",
      "/home/jovyan/my-conda-envs/cellpymc/lib/python3.7/site-packages/sklearn/decomposition/_nmf.py:1425: FutureWarning: `alpha` was deprecated in version 1.0 and will be removed in 1.2. Use `alpha_W` and `alpha_H` instead\n"
     ]
    },
    {
     "name": "stdout",
     "output_type": "stream",
     "text": [
      "WARNING: saving figure to file /nfs/team205/heart/cell2location/coloc_nmf/CoLocatedComb/AVN_revision/HCAHeartST11350377/CoLocatedGroupsSklearnNMF_2807locations_58factors/spatial/showcell_density_mean_n_fact7_sHCAHeartST11350377_p99.2.pdf\n",
      "### Analysis name: CoLocatedGroupsSklearnNMF_8combinations_2807locations_58factors\n"
     ]
    },
    {
     "name": "stderr",
     "output_type": "stream",
     "text": [
      "/home/jovyan/my-conda-envs/cellpymc/lib/python3.7/site-packages/sklearn/decomposition/_nmf.py:1425: FutureWarning: `alpha` was deprecated in version 1.0 and will be removed in 1.2. Use `alpha_W` and `alpha_H` instead\n",
      "/home/jovyan/my-conda-envs/cellpymc/lib/python3.7/site-packages/sklearn/decomposition/_nmf.py:1425: FutureWarning: `alpha` was deprecated in version 1.0 and will be removed in 1.2. Use `alpha_W` and `alpha_H` instead\n",
      "/home/jovyan/my-conda-envs/cellpymc/lib/python3.7/site-packages/sklearn/decomposition/_nmf.py:1425: FutureWarning: `alpha` was deprecated in version 1.0 and will be removed in 1.2. Use `alpha_W` and `alpha_H` instead\n"
     ]
    },
    {
     "name": "stdout",
     "output_type": "stream",
     "text": [
      "WARNING: saving figure to file /nfs/team205/heart/cell2location/coloc_nmf/CoLocatedComb/AVN_revision/HCAHeartST11350377/CoLocatedGroupsSklearnNMF_2807locations_58factors/spatial/showcell_density_mean_n_fact8_sHCAHeartST11350377_p99.2.pdf\n",
      "### Analysis name: CoLocatedGroupsSklearnNMF_9combinations_2807locations_58factors\n"
     ]
    },
    {
     "name": "stderr",
     "output_type": "stream",
     "text": [
      "/home/jovyan/my-conda-envs/cellpymc/lib/python3.7/site-packages/sklearn/decomposition/_nmf.py:1425: FutureWarning: `alpha` was deprecated in version 1.0 and will be removed in 1.2. Use `alpha_W` and `alpha_H` instead\n",
      "/home/jovyan/my-conda-envs/cellpymc/lib/python3.7/site-packages/sklearn/decomposition/_nmf.py:1425: FutureWarning: `alpha` was deprecated in version 1.0 and will be removed in 1.2. Use `alpha_W` and `alpha_H` instead\n",
      "/home/jovyan/my-conda-envs/cellpymc/lib/python3.7/site-packages/sklearn/decomposition/_nmf.py:1425: FutureWarning: `alpha` was deprecated in version 1.0 and will be removed in 1.2. Use `alpha_W` and `alpha_H` instead\n"
     ]
    },
    {
     "name": "stdout",
     "output_type": "stream",
     "text": [
      "WARNING: saving figure to file /nfs/team205/heart/cell2location/coloc_nmf/CoLocatedComb/AVN_revision/HCAHeartST11350377/CoLocatedGroupsSklearnNMF_2807locations_58factors/spatial/showcell_density_mean_n_fact9_sHCAHeartST11350377_p99.2.pdf\n",
      "### Analysis name: CoLocatedGroupsSklearnNMF_10combinations_2807locations_58factors\n"
     ]
    },
    {
     "name": "stderr",
     "output_type": "stream",
     "text": [
      "/home/jovyan/my-conda-envs/cellpymc/lib/python3.7/site-packages/sklearn/decomposition/_nmf.py:1425: FutureWarning: `alpha` was deprecated in version 1.0 and will be removed in 1.2. Use `alpha_W` and `alpha_H` instead\n",
      "/home/jovyan/my-conda-envs/cellpymc/lib/python3.7/site-packages/sklearn/decomposition/_nmf.py:1425: FutureWarning: `alpha` was deprecated in version 1.0 and will be removed in 1.2. Use `alpha_W` and `alpha_H` instead\n",
      "/home/jovyan/my-conda-envs/cellpymc/lib/python3.7/site-packages/sklearn/decomposition/_nmf.py:1425: FutureWarning: `alpha` was deprecated in version 1.0 and will be removed in 1.2. Use `alpha_W` and `alpha_H` instead\n"
     ]
    },
    {
     "name": "stdout",
     "output_type": "stream",
     "text": [
      "WARNING: saving figure to file /nfs/team205/heart/cell2location/coloc_nmf/CoLocatedComb/AVN_revision/HCAHeartST11350377/CoLocatedGroupsSklearnNMF_2807locations_58factors/spatial/showcell_density_mean_n_fact10_sHCAHeartST11350377_p99.2.pdf\n",
      "### Analysis name: CoLocatedGroupsSklearnNMF_11combinations_2807locations_58factors\n"
     ]
    },
    {
     "name": "stderr",
     "output_type": "stream",
     "text": [
      "/home/jovyan/my-conda-envs/cellpymc/lib/python3.7/site-packages/sklearn/decomposition/_nmf.py:1425: FutureWarning: `alpha` was deprecated in version 1.0 and will be removed in 1.2. Use `alpha_W` and `alpha_H` instead\n",
      "/home/jovyan/my-conda-envs/cellpymc/lib/python3.7/site-packages/sklearn/decomposition/_nmf.py:1425: FutureWarning: `alpha` was deprecated in version 1.0 and will be removed in 1.2. Use `alpha_W` and `alpha_H` instead\n",
      "/home/jovyan/my-conda-envs/cellpymc/lib/python3.7/site-packages/sklearn/decomposition/_nmf.py:1425: FutureWarning: `alpha` was deprecated in version 1.0 and will be removed in 1.2. Use `alpha_W` and `alpha_H` instead\n"
     ]
    },
    {
     "name": "stdout",
     "output_type": "stream",
     "text": [
      "WARNING: saving figure to file /nfs/team205/heart/cell2location/coloc_nmf/CoLocatedComb/AVN_revision/HCAHeartST11350377/CoLocatedGroupsSklearnNMF_2807locations_58factors/spatial/showcell_density_mean_n_fact11_sHCAHeartST11350377_p99.2.pdf\n",
      "### Analysis name: CoLocatedGroupsSklearnNMF_12combinations_2807locations_58factors\n"
     ]
    },
    {
     "name": "stderr",
     "output_type": "stream",
     "text": [
      "/home/jovyan/my-conda-envs/cellpymc/lib/python3.7/site-packages/sklearn/decomposition/_nmf.py:1425: FutureWarning: `alpha` was deprecated in version 1.0 and will be removed in 1.2. Use `alpha_W` and `alpha_H` instead\n",
      "/home/jovyan/my-conda-envs/cellpymc/lib/python3.7/site-packages/sklearn/decomposition/_nmf.py:1425: FutureWarning: `alpha` was deprecated in version 1.0 and will be removed in 1.2. Use `alpha_W` and `alpha_H` instead\n",
      "/home/jovyan/my-conda-envs/cellpymc/lib/python3.7/site-packages/sklearn/decomposition/_nmf.py:1425: FutureWarning: `alpha` was deprecated in version 1.0 and will be removed in 1.2. Use `alpha_W` and `alpha_H` instead\n"
     ]
    },
    {
     "name": "stdout",
     "output_type": "stream",
     "text": [
      "WARNING: saving figure to file /nfs/team205/heart/cell2location/coloc_nmf/CoLocatedComb/AVN_revision/HCAHeartST11350377/CoLocatedGroupsSklearnNMF_2807locations_58factors/spatial/showcell_density_mean_n_fact12_sHCAHeartST11350377_p99.2.pdf\n",
      "### Analysis name: CoLocatedGroupsSklearnNMF_13combinations_2807locations_58factors\n"
     ]
    },
    {
     "name": "stderr",
     "output_type": "stream",
     "text": [
      "/home/jovyan/my-conda-envs/cellpymc/lib/python3.7/site-packages/sklearn/decomposition/_nmf.py:1425: FutureWarning: `alpha` was deprecated in version 1.0 and will be removed in 1.2. Use `alpha_W` and `alpha_H` instead\n",
      "/home/jovyan/my-conda-envs/cellpymc/lib/python3.7/site-packages/sklearn/decomposition/_nmf.py:1425: FutureWarning: `alpha` was deprecated in version 1.0 and will be removed in 1.2. Use `alpha_W` and `alpha_H` instead\n",
      "/home/jovyan/my-conda-envs/cellpymc/lib/python3.7/site-packages/sklearn/decomposition/_nmf.py:1425: FutureWarning: `alpha` was deprecated in version 1.0 and will be removed in 1.2. Use `alpha_W` and `alpha_H` instead\n"
     ]
    },
    {
     "name": "stdout",
     "output_type": "stream",
     "text": [
      "WARNING: saving figure to file /nfs/team205/heart/cell2location/coloc_nmf/CoLocatedComb/AVN_revision/HCAHeartST11350377/CoLocatedGroupsSklearnNMF_2807locations_58factors/spatial/showcell_density_mean_n_fact13_sHCAHeartST11350377_p99.2.pdf\n",
      "### Analysis name: CoLocatedGroupsSklearnNMF_14combinations_2807locations_58factors\n"
     ]
    },
    {
     "name": "stderr",
     "output_type": "stream",
     "text": [
      "/home/jovyan/my-conda-envs/cellpymc/lib/python3.7/site-packages/sklearn/decomposition/_nmf.py:1425: FutureWarning: `alpha` was deprecated in version 1.0 and will be removed in 1.2. Use `alpha_W` and `alpha_H` instead\n",
      "/home/jovyan/my-conda-envs/cellpymc/lib/python3.7/site-packages/sklearn/decomposition/_nmf.py:1425: FutureWarning: `alpha` was deprecated in version 1.0 and will be removed in 1.2. Use `alpha_W` and `alpha_H` instead\n",
      "/home/jovyan/my-conda-envs/cellpymc/lib/python3.7/site-packages/sklearn/decomposition/_nmf.py:1425: FutureWarning: `alpha` was deprecated in version 1.0 and will be removed in 1.2. Use `alpha_W` and `alpha_H` instead\n"
     ]
    },
    {
     "name": "stdout",
     "output_type": "stream",
     "text": [
      "WARNING: saving figure to file /nfs/team205/heart/cell2location/coloc_nmf/CoLocatedComb/AVN_revision/HCAHeartST11350377/CoLocatedGroupsSklearnNMF_2807locations_58factors/spatial/showcell_density_mean_n_fact14_sHCAHeartST11350377_p99.2.pdf\n",
      "HCAHeartST12992074    4521\n",
      "Name: sample, dtype: int64\n",
      "### Analysis name: CoLocatedGroupsSklearnNMF_5combinations_4521locations_58factors\n"
     ]
    },
    {
     "name": "stderr",
     "output_type": "stream",
     "text": [
      "/home/jovyan/my-conda-envs/cellpymc/lib/python3.7/site-packages/sklearn/decomposition/_nmf.py:1425: FutureWarning: `alpha` was deprecated in version 1.0 and will be removed in 1.2. Use `alpha_W` and `alpha_H` instead\n",
      "/home/jovyan/my-conda-envs/cellpymc/lib/python3.7/site-packages/sklearn/decomposition/_nmf.py:1425: FutureWarning: `alpha` was deprecated in version 1.0 and will be removed in 1.2. Use `alpha_W` and `alpha_H` instead\n",
      "/home/jovyan/my-conda-envs/cellpymc/lib/python3.7/site-packages/sklearn/decomposition/_nmf.py:1425: FutureWarning: `alpha` was deprecated in version 1.0 and will be removed in 1.2. Use `alpha_W` and `alpha_H` instead\n"
     ]
    },
    {
     "name": "stdout",
     "output_type": "stream",
     "text": [
      "WARNING: saving figure to file /nfs/team205/heart/cell2location/coloc_nmf/CoLocatedComb/AVN_revision/HCAHeartST12992074/CoLocatedGroupsSklearnNMF_4521locations_58factors/spatial/showcell_density_mean_n_fact5_sHCAHeartST12992074_p99.2.pdf\n",
      "### Analysis name: CoLocatedGroupsSklearnNMF_6combinations_4521locations_58factors\n"
     ]
    },
    {
     "name": "stderr",
     "output_type": "stream",
     "text": [
      "/home/jovyan/my-conda-envs/cellpymc/lib/python3.7/site-packages/sklearn/decomposition/_nmf.py:1425: FutureWarning: `alpha` was deprecated in version 1.0 and will be removed in 1.2. Use `alpha_W` and `alpha_H` instead\n",
      "/home/jovyan/my-conda-envs/cellpymc/lib/python3.7/site-packages/sklearn/decomposition/_nmf.py:1425: FutureWarning: `alpha` was deprecated in version 1.0 and will be removed in 1.2. Use `alpha_W` and `alpha_H` instead\n",
      "/home/jovyan/my-conda-envs/cellpymc/lib/python3.7/site-packages/sklearn/decomposition/_nmf.py:1425: FutureWarning: `alpha` was deprecated in version 1.0 and will be removed in 1.2. Use `alpha_W` and `alpha_H` instead\n"
     ]
    },
    {
     "name": "stdout",
     "output_type": "stream",
     "text": [
      "WARNING: saving figure to file /nfs/team205/heart/cell2location/coloc_nmf/CoLocatedComb/AVN_revision/HCAHeartST12992074/CoLocatedGroupsSklearnNMF_4521locations_58factors/spatial/showcell_density_mean_n_fact6_sHCAHeartST12992074_p99.2.pdf\n",
      "### Analysis name: CoLocatedGroupsSklearnNMF_7combinations_4521locations_58factors\n"
     ]
    },
    {
     "name": "stderr",
     "output_type": "stream",
     "text": [
      "/home/jovyan/my-conda-envs/cellpymc/lib/python3.7/site-packages/sklearn/decomposition/_nmf.py:1425: FutureWarning: `alpha` was deprecated in version 1.0 and will be removed in 1.2. Use `alpha_W` and `alpha_H` instead\n",
      "/home/jovyan/my-conda-envs/cellpymc/lib/python3.7/site-packages/sklearn/decomposition/_nmf.py:1425: FutureWarning: `alpha` was deprecated in version 1.0 and will be removed in 1.2. Use `alpha_W` and `alpha_H` instead\n",
      "/home/jovyan/my-conda-envs/cellpymc/lib/python3.7/site-packages/sklearn/decomposition/_nmf.py:1425: FutureWarning: `alpha` was deprecated in version 1.0 and will be removed in 1.2. Use `alpha_W` and `alpha_H` instead\n"
     ]
    },
    {
     "name": "stdout",
     "output_type": "stream",
     "text": [
      "WARNING: saving figure to file /nfs/team205/heart/cell2location/coloc_nmf/CoLocatedComb/AVN_revision/HCAHeartST12992074/CoLocatedGroupsSklearnNMF_4521locations_58factors/spatial/showcell_density_mean_n_fact7_sHCAHeartST12992074_p99.2.pdf\n",
      "### Analysis name: CoLocatedGroupsSklearnNMF_8combinations_4521locations_58factors\n"
     ]
    },
    {
     "name": "stderr",
     "output_type": "stream",
     "text": [
      "/home/jovyan/my-conda-envs/cellpymc/lib/python3.7/site-packages/sklearn/decomposition/_nmf.py:1425: FutureWarning: `alpha` was deprecated in version 1.0 and will be removed in 1.2. Use `alpha_W` and `alpha_H` instead\n",
      "/home/jovyan/my-conda-envs/cellpymc/lib/python3.7/site-packages/sklearn/decomposition/_nmf.py:1425: FutureWarning: `alpha` was deprecated in version 1.0 and will be removed in 1.2. Use `alpha_W` and `alpha_H` instead\n",
      "/home/jovyan/my-conda-envs/cellpymc/lib/python3.7/site-packages/sklearn/decomposition/_nmf.py:1425: FutureWarning: `alpha` was deprecated in version 1.0 and will be removed in 1.2. Use `alpha_W` and `alpha_H` instead\n"
     ]
    },
    {
     "name": "stdout",
     "output_type": "stream",
     "text": [
      "WARNING: saving figure to file /nfs/team205/heart/cell2location/coloc_nmf/CoLocatedComb/AVN_revision/HCAHeartST12992074/CoLocatedGroupsSklearnNMF_4521locations_58factors/spatial/showcell_density_mean_n_fact8_sHCAHeartST12992074_p99.2.pdf\n",
      "### Analysis name: CoLocatedGroupsSklearnNMF_9combinations_4521locations_58factors\n"
     ]
    },
    {
     "name": "stderr",
     "output_type": "stream",
     "text": [
      "/home/jovyan/my-conda-envs/cellpymc/lib/python3.7/site-packages/sklearn/decomposition/_nmf.py:1425: FutureWarning: `alpha` was deprecated in version 1.0 and will be removed in 1.2. Use `alpha_W` and `alpha_H` instead\n",
      "/home/jovyan/my-conda-envs/cellpymc/lib/python3.7/site-packages/sklearn/decomposition/_nmf.py:1425: FutureWarning: `alpha` was deprecated in version 1.0 and will be removed in 1.2. Use `alpha_W` and `alpha_H` instead\n",
      "/home/jovyan/my-conda-envs/cellpymc/lib/python3.7/site-packages/sklearn/decomposition/_nmf.py:1425: FutureWarning: `alpha` was deprecated in version 1.0 and will be removed in 1.2. Use `alpha_W` and `alpha_H` instead\n"
     ]
    },
    {
     "name": "stdout",
     "output_type": "stream",
     "text": [
      "WARNING: saving figure to file /nfs/team205/heart/cell2location/coloc_nmf/CoLocatedComb/AVN_revision/HCAHeartST12992074/CoLocatedGroupsSklearnNMF_4521locations_58factors/spatial/showcell_density_mean_n_fact9_sHCAHeartST12992074_p99.2.pdf\n",
      "### Analysis name: CoLocatedGroupsSklearnNMF_10combinations_4521locations_58factors\n"
     ]
    },
    {
     "name": "stderr",
     "output_type": "stream",
     "text": [
      "/home/jovyan/my-conda-envs/cellpymc/lib/python3.7/site-packages/sklearn/decomposition/_nmf.py:1425: FutureWarning: `alpha` was deprecated in version 1.0 and will be removed in 1.2. Use `alpha_W` and `alpha_H` instead\n",
      "/home/jovyan/my-conda-envs/cellpymc/lib/python3.7/site-packages/sklearn/decomposition/_nmf.py:1425: FutureWarning: `alpha` was deprecated in version 1.0 and will be removed in 1.2. Use `alpha_W` and `alpha_H` instead\n",
      "/home/jovyan/my-conda-envs/cellpymc/lib/python3.7/site-packages/sklearn/decomposition/_nmf.py:1425: FutureWarning: `alpha` was deprecated in version 1.0 and will be removed in 1.2. Use `alpha_W` and `alpha_H` instead\n"
     ]
    },
    {
     "name": "stdout",
     "output_type": "stream",
     "text": [
      "WARNING: saving figure to file /nfs/team205/heart/cell2location/coloc_nmf/CoLocatedComb/AVN_revision/HCAHeartST12992074/CoLocatedGroupsSklearnNMF_4521locations_58factors/spatial/showcell_density_mean_n_fact10_sHCAHeartST12992074_p99.2.pdf\n",
      "### Analysis name: CoLocatedGroupsSklearnNMF_11combinations_4521locations_58factors\n"
     ]
    },
    {
     "name": "stderr",
     "output_type": "stream",
     "text": [
      "/home/jovyan/my-conda-envs/cellpymc/lib/python3.7/site-packages/sklearn/decomposition/_nmf.py:1425: FutureWarning: `alpha` was deprecated in version 1.0 and will be removed in 1.2. Use `alpha_W` and `alpha_H` instead\n",
      "/home/jovyan/my-conda-envs/cellpymc/lib/python3.7/site-packages/sklearn/decomposition/_nmf.py:1425: FutureWarning: `alpha` was deprecated in version 1.0 and will be removed in 1.2. Use `alpha_W` and `alpha_H` instead\n",
      "/home/jovyan/my-conda-envs/cellpymc/lib/python3.7/site-packages/sklearn/decomposition/_nmf.py:1425: FutureWarning: `alpha` was deprecated in version 1.0 and will be removed in 1.2. Use `alpha_W` and `alpha_H` instead\n"
     ]
    },
    {
     "name": "stdout",
     "output_type": "stream",
     "text": [
      "WARNING: saving figure to file /nfs/team205/heart/cell2location/coloc_nmf/CoLocatedComb/AVN_revision/HCAHeartST12992074/CoLocatedGroupsSklearnNMF_4521locations_58factors/spatial/showcell_density_mean_n_fact11_sHCAHeartST12992074_p99.2.pdf\n",
      "### Analysis name: CoLocatedGroupsSklearnNMF_12combinations_4521locations_58factors\n"
     ]
    },
    {
     "name": "stderr",
     "output_type": "stream",
     "text": [
      "/home/jovyan/my-conda-envs/cellpymc/lib/python3.7/site-packages/sklearn/decomposition/_nmf.py:1425: FutureWarning: `alpha` was deprecated in version 1.0 and will be removed in 1.2. Use `alpha_W` and `alpha_H` instead\n",
      "/home/jovyan/my-conda-envs/cellpymc/lib/python3.7/site-packages/sklearn/decomposition/_nmf.py:1425: FutureWarning: `alpha` was deprecated in version 1.0 and will be removed in 1.2. Use `alpha_W` and `alpha_H` instead\n",
      "/home/jovyan/my-conda-envs/cellpymc/lib/python3.7/site-packages/sklearn/decomposition/_nmf.py:1425: FutureWarning: `alpha` was deprecated in version 1.0 and will be removed in 1.2. Use `alpha_W` and `alpha_H` instead\n"
     ]
    },
    {
     "name": "stdout",
     "output_type": "stream",
     "text": [
      "WARNING: saving figure to file /nfs/team205/heart/cell2location/coloc_nmf/CoLocatedComb/AVN_revision/HCAHeartST12992074/CoLocatedGroupsSklearnNMF_4521locations_58factors/spatial/showcell_density_mean_n_fact12_sHCAHeartST12992074_p99.2.pdf\n",
      "### Analysis name: CoLocatedGroupsSklearnNMF_13combinations_4521locations_58factors\n"
     ]
    },
    {
     "name": "stderr",
     "output_type": "stream",
     "text": [
      "/home/jovyan/my-conda-envs/cellpymc/lib/python3.7/site-packages/sklearn/decomposition/_nmf.py:1425: FutureWarning: `alpha` was deprecated in version 1.0 and will be removed in 1.2. Use `alpha_W` and `alpha_H` instead\n",
      "/home/jovyan/my-conda-envs/cellpymc/lib/python3.7/site-packages/sklearn/decomposition/_nmf.py:1425: FutureWarning: `alpha` was deprecated in version 1.0 and will be removed in 1.2. Use `alpha_W` and `alpha_H` instead\n",
      "/home/jovyan/my-conda-envs/cellpymc/lib/python3.7/site-packages/sklearn/decomposition/_nmf.py:1425: FutureWarning: `alpha` was deprecated in version 1.0 and will be removed in 1.2. Use `alpha_W` and `alpha_H` instead\n"
     ]
    },
    {
     "name": "stdout",
     "output_type": "stream",
     "text": [
      "WARNING: saving figure to file /nfs/team205/heart/cell2location/coloc_nmf/CoLocatedComb/AVN_revision/HCAHeartST12992074/CoLocatedGroupsSklearnNMF_4521locations_58factors/spatial/showcell_density_mean_n_fact13_sHCAHeartST12992074_p99.2.pdf\n",
      "### Analysis name: CoLocatedGroupsSklearnNMF_14combinations_4521locations_58factors\n"
     ]
    },
    {
     "name": "stderr",
     "output_type": "stream",
     "text": [
      "/home/jovyan/my-conda-envs/cellpymc/lib/python3.7/site-packages/sklearn/decomposition/_nmf.py:1425: FutureWarning: `alpha` was deprecated in version 1.0 and will be removed in 1.2. Use `alpha_W` and `alpha_H` instead\n",
      "/home/jovyan/my-conda-envs/cellpymc/lib/python3.7/site-packages/sklearn/decomposition/_nmf.py:1425: FutureWarning: `alpha` was deprecated in version 1.0 and will be removed in 1.2. Use `alpha_W` and `alpha_H` instead\n",
      "/home/jovyan/my-conda-envs/cellpymc/lib/python3.7/site-packages/sklearn/decomposition/_nmf.py:1425: FutureWarning: `alpha` was deprecated in version 1.0 and will be removed in 1.2. Use `alpha_W` and `alpha_H` instead\n"
     ]
    },
    {
     "name": "stdout",
     "output_type": "stream",
     "text": [
      "WARNING: saving figure to file /nfs/team205/heart/cell2location/coloc_nmf/CoLocatedComb/AVN_revision/HCAHeartST12992074/CoLocatedGroupsSklearnNMF_4521locations_58factors/spatial/showcell_density_mean_n_fact14_sHCAHeartST12992074_p99.2.pdf\n",
      "HCAHeartST12992075    3478\n",
      "Name: sample, dtype: int64\n",
      "### Analysis name: CoLocatedGroupsSklearnNMF_5combinations_3478locations_58factors\n"
     ]
    },
    {
     "name": "stderr",
     "output_type": "stream",
     "text": [
      "/home/jovyan/my-conda-envs/cellpymc/lib/python3.7/site-packages/sklearn/decomposition/_nmf.py:1425: FutureWarning: `alpha` was deprecated in version 1.0 and will be removed in 1.2. Use `alpha_W` and `alpha_H` instead\n",
      "/home/jovyan/my-conda-envs/cellpymc/lib/python3.7/site-packages/sklearn/decomposition/_nmf.py:1425: FutureWarning: `alpha` was deprecated in version 1.0 and will be removed in 1.2. Use `alpha_W` and `alpha_H` instead\n",
      "/home/jovyan/my-conda-envs/cellpymc/lib/python3.7/site-packages/sklearn/decomposition/_nmf.py:1425: FutureWarning: `alpha` was deprecated in version 1.0 and will be removed in 1.2. Use `alpha_W` and `alpha_H` instead\n"
     ]
    },
    {
     "name": "stdout",
     "output_type": "stream",
     "text": [
      "WARNING: saving figure to file /nfs/team205/heart/cell2location/coloc_nmf/CoLocatedComb/AVN_revision/HCAHeartST12992075/CoLocatedGroupsSklearnNMF_3478locations_58factors/spatial/showcell_density_mean_n_fact5_sHCAHeartST12992075_p99.2.pdf\n",
      "### Analysis name: CoLocatedGroupsSklearnNMF_6combinations_3478locations_58factors\n"
     ]
    },
    {
     "name": "stderr",
     "output_type": "stream",
     "text": [
      "/home/jovyan/my-conda-envs/cellpymc/lib/python3.7/site-packages/sklearn/decomposition/_nmf.py:1425: FutureWarning: `alpha` was deprecated in version 1.0 and will be removed in 1.2. Use `alpha_W` and `alpha_H` instead\n",
      "/home/jovyan/my-conda-envs/cellpymc/lib/python3.7/site-packages/sklearn/decomposition/_nmf.py:1425: FutureWarning: `alpha` was deprecated in version 1.0 and will be removed in 1.2. Use `alpha_W` and `alpha_H` instead\n",
      "/home/jovyan/my-conda-envs/cellpymc/lib/python3.7/site-packages/sklearn/decomposition/_nmf.py:1425: FutureWarning: `alpha` was deprecated in version 1.0 and will be removed in 1.2. Use `alpha_W` and `alpha_H` instead\n"
     ]
    },
    {
     "name": "stdout",
     "output_type": "stream",
     "text": [
      "WARNING: saving figure to file /nfs/team205/heart/cell2location/coloc_nmf/CoLocatedComb/AVN_revision/HCAHeartST12992075/CoLocatedGroupsSklearnNMF_3478locations_58factors/spatial/showcell_density_mean_n_fact6_sHCAHeartST12992075_p99.2.pdf\n",
      "### Analysis name: CoLocatedGroupsSklearnNMF_7combinations_3478locations_58factors\n"
     ]
    },
    {
     "name": "stderr",
     "output_type": "stream",
     "text": [
      "/home/jovyan/my-conda-envs/cellpymc/lib/python3.7/site-packages/sklearn/decomposition/_nmf.py:1425: FutureWarning: `alpha` was deprecated in version 1.0 and will be removed in 1.2. Use `alpha_W` and `alpha_H` instead\n",
      "/home/jovyan/my-conda-envs/cellpymc/lib/python3.7/site-packages/sklearn/decomposition/_nmf.py:1425: FutureWarning: `alpha` was deprecated in version 1.0 and will be removed in 1.2. Use `alpha_W` and `alpha_H` instead\n",
      "/home/jovyan/my-conda-envs/cellpymc/lib/python3.7/site-packages/sklearn/decomposition/_nmf.py:1425: FutureWarning: `alpha` was deprecated in version 1.0 and will be removed in 1.2. Use `alpha_W` and `alpha_H` instead\n"
     ]
    },
    {
     "name": "stdout",
     "output_type": "stream",
     "text": [
      "WARNING: saving figure to file /nfs/team205/heart/cell2location/coloc_nmf/CoLocatedComb/AVN_revision/HCAHeartST12992075/CoLocatedGroupsSklearnNMF_3478locations_58factors/spatial/showcell_density_mean_n_fact7_sHCAHeartST12992075_p99.2.pdf\n",
      "### Analysis name: CoLocatedGroupsSklearnNMF_8combinations_3478locations_58factors\n"
     ]
    },
    {
     "name": "stderr",
     "output_type": "stream",
     "text": [
      "/home/jovyan/my-conda-envs/cellpymc/lib/python3.7/site-packages/sklearn/decomposition/_nmf.py:1425: FutureWarning: `alpha` was deprecated in version 1.0 and will be removed in 1.2. Use `alpha_W` and `alpha_H` instead\n",
      "/home/jovyan/my-conda-envs/cellpymc/lib/python3.7/site-packages/sklearn/decomposition/_nmf.py:1425: FutureWarning: `alpha` was deprecated in version 1.0 and will be removed in 1.2. Use `alpha_W` and `alpha_H` instead\n",
      "/home/jovyan/my-conda-envs/cellpymc/lib/python3.7/site-packages/sklearn/decomposition/_nmf.py:1425: FutureWarning: `alpha` was deprecated in version 1.0 and will be removed in 1.2. Use `alpha_W` and `alpha_H` instead\n"
     ]
    },
    {
     "name": "stdout",
     "output_type": "stream",
     "text": [
      "WARNING: saving figure to file /nfs/team205/heart/cell2location/coloc_nmf/CoLocatedComb/AVN_revision/HCAHeartST12992075/CoLocatedGroupsSklearnNMF_3478locations_58factors/spatial/showcell_density_mean_n_fact8_sHCAHeartST12992075_p99.2.pdf\n",
      "### Analysis name: CoLocatedGroupsSklearnNMF_9combinations_3478locations_58factors\n"
     ]
    },
    {
     "name": "stderr",
     "output_type": "stream",
     "text": [
      "/home/jovyan/my-conda-envs/cellpymc/lib/python3.7/site-packages/sklearn/decomposition/_nmf.py:1425: FutureWarning: `alpha` was deprecated in version 1.0 and will be removed in 1.2. Use `alpha_W` and `alpha_H` instead\n",
      "/home/jovyan/my-conda-envs/cellpymc/lib/python3.7/site-packages/sklearn/decomposition/_nmf.py:1425: FutureWarning: `alpha` was deprecated in version 1.0 and will be removed in 1.2. Use `alpha_W` and `alpha_H` instead\n",
      "/home/jovyan/my-conda-envs/cellpymc/lib/python3.7/site-packages/sklearn/decomposition/_nmf.py:1425: FutureWarning: `alpha` was deprecated in version 1.0 and will be removed in 1.2. Use `alpha_W` and `alpha_H` instead\n"
     ]
    },
    {
     "name": "stdout",
     "output_type": "stream",
     "text": [
      "WARNING: saving figure to file /nfs/team205/heart/cell2location/coloc_nmf/CoLocatedComb/AVN_revision/HCAHeartST12992075/CoLocatedGroupsSklearnNMF_3478locations_58factors/spatial/showcell_density_mean_n_fact9_sHCAHeartST12992075_p99.2.pdf\n",
      "### Analysis name: CoLocatedGroupsSklearnNMF_10combinations_3478locations_58factors\n"
     ]
    },
    {
     "name": "stderr",
     "output_type": "stream",
     "text": [
      "/home/jovyan/my-conda-envs/cellpymc/lib/python3.7/site-packages/sklearn/decomposition/_nmf.py:1425: FutureWarning: `alpha` was deprecated in version 1.0 and will be removed in 1.2. Use `alpha_W` and `alpha_H` instead\n",
      "/home/jovyan/my-conda-envs/cellpymc/lib/python3.7/site-packages/sklearn/decomposition/_nmf.py:1425: FutureWarning: `alpha` was deprecated in version 1.0 and will be removed in 1.2. Use `alpha_W` and `alpha_H` instead\n",
      "/home/jovyan/my-conda-envs/cellpymc/lib/python3.7/site-packages/sklearn/decomposition/_nmf.py:1425: FutureWarning: `alpha` was deprecated in version 1.0 and will be removed in 1.2. Use `alpha_W` and `alpha_H` instead\n"
     ]
    },
    {
     "name": "stdout",
     "output_type": "stream",
     "text": [
      "WARNING: saving figure to file /nfs/team205/heart/cell2location/coloc_nmf/CoLocatedComb/AVN_revision/HCAHeartST12992075/CoLocatedGroupsSklearnNMF_3478locations_58factors/spatial/showcell_density_mean_n_fact10_sHCAHeartST12992075_p99.2.pdf\n",
      "### Analysis name: CoLocatedGroupsSklearnNMF_11combinations_3478locations_58factors\n"
     ]
    },
    {
     "name": "stderr",
     "output_type": "stream",
     "text": [
      "/home/jovyan/my-conda-envs/cellpymc/lib/python3.7/site-packages/sklearn/decomposition/_nmf.py:1425: FutureWarning: `alpha` was deprecated in version 1.0 and will be removed in 1.2. Use `alpha_W` and `alpha_H` instead\n",
      "/home/jovyan/my-conda-envs/cellpymc/lib/python3.7/site-packages/sklearn/decomposition/_nmf.py:1425: FutureWarning: `alpha` was deprecated in version 1.0 and will be removed in 1.2. Use `alpha_W` and `alpha_H` instead\n",
      "/home/jovyan/my-conda-envs/cellpymc/lib/python3.7/site-packages/sklearn/decomposition/_nmf.py:1425: FutureWarning: `alpha` was deprecated in version 1.0 and will be removed in 1.2. Use `alpha_W` and `alpha_H` instead\n"
     ]
    },
    {
     "name": "stdout",
     "output_type": "stream",
     "text": [
      "WARNING: saving figure to file /nfs/team205/heart/cell2location/coloc_nmf/CoLocatedComb/AVN_revision/HCAHeartST12992075/CoLocatedGroupsSklearnNMF_3478locations_58factors/spatial/showcell_density_mean_n_fact11_sHCAHeartST12992075_p99.2.pdf\n",
      "### Analysis name: CoLocatedGroupsSklearnNMF_12combinations_3478locations_58factors\n"
     ]
    },
    {
     "name": "stderr",
     "output_type": "stream",
     "text": [
      "/home/jovyan/my-conda-envs/cellpymc/lib/python3.7/site-packages/sklearn/decomposition/_nmf.py:1425: FutureWarning: `alpha` was deprecated in version 1.0 and will be removed in 1.2. Use `alpha_W` and `alpha_H` instead\n",
      "/home/jovyan/my-conda-envs/cellpymc/lib/python3.7/site-packages/sklearn/decomposition/_nmf.py:1425: FutureWarning: `alpha` was deprecated in version 1.0 and will be removed in 1.2. Use `alpha_W` and `alpha_H` instead\n",
      "/home/jovyan/my-conda-envs/cellpymc/lib/python3.7/site-packages/sklearn/decomposition/_nmf.py:1425: FutureWarning: `alpha` was deprecated in version 1.0 and will be removed in 1.2. Use `alpha_W` and `alpha_H` instead\n"
     ]
    },
    {
     "name": "stdout",
     "output_type": "stream",
     "text": [
      "WARNING: saving figure to file /nfs/team205/heart/cell2location/coloc_nmf/CoLocatedComb/AVN_revision/HCAHeartST12992075/CoLocatedGroupsSklearnNMF_3478locations_58factors/spatial/showcell_density_mean_n_fact12_sHCAHeartST12992075_p99.2.pdf\n",
      "### Analysis name: CoLocatedGroupsSklearnNMF_13combinations_3478locations_58factors\n"
     ]
    },
    {
     "name": "stderr",
     "output_type": "stream",
     "text": [
      "/home/jovyan/my-conda-envs/cellpymc/lib/python3.7/site-packages/sklearn/decomposition/_nmf.py:1425: FutureWarning: `alpha` was deprecated in version 1.0 and will be removed in 1.2. Use `alpha_W` and `alpha_H` instead\n",
      "/home/jovyan/my-conda-envs/cellpymc/lib/python3.7/site-packages/sklearn/decomposition/_nmf.py:1425: FutureWarning: `alpha` was deprecated in version 1.0 and will be removed in 1.2. Use `alpha_W` and `alpha_H` instead\n",
      "/home/jovyan/my-conda-envs/cellpymc/lib/python3.7/site-packages/sklearn/decomposition/_nmf.py:1425: FutureWarning: `alpha` was deprecated in version 1.0 and will be removed in 1.2. Use `alpha_W` and `alpha_H` instead\n"
     ]
    },
    {
     "name": "stdout",
     "output_type": "stream",
     "text": [
      "WARNING: saving figure to file /nfs/team205/heart/cell2location/coloc_nmf/CoLocatedComb/AVN_revision/HCAHeartST12992075/CoLocatedGroupsSklearnNMF_3478locations_58factors/spatial/showcell_density_mean_n_fact13_sHCAHeartST12992075_p99.2.pdf\n",
      "### Analysis name: CoLocatedGroupsSklearnNMF_14combinations_3478locations_58factors\n"
     ]
    },
    {
     "name": "stderr",
     "output_type": "stream",
     "text": [
      "/home/jovyan/my-conda-envs/cellpymc/lib/python3.7/site-packages/sklearn/decomposition/_nmf.py:1425: FutureWarning: `alpha` was deprecated in version 1.0 and will be removed in 1.2. Use `alpha_W` and `alpha_H` instead\n",
      "/home/jovyan/my-conda-envs/cellpymc/lib/python3.7/site-packages/sklearn/decomposition/_nmf.py:1425: FutureWarning: `alpha` was deprecated in version 1.0 and will be removed in 1.2. Use `alpha_W` and `alpha_H` instead\n",
      "/home/jovyan/my-conda-envs/cellpymc/lib/python3.7/site-packages/sklearn/decomposition/_nmf.py:1425: FutureWarning: `alpha` was deprecated in version 1.0 and will be removed in 1.2. Use `alpha_W` and `alpha_H` instead\n"
     ]
    },
    {
     "name": "stdout",
     "output_type": "stream",
     "text": [
      "WARNING: saving figure to file /nfs/team205/heart/cell2location/coloc_nmf/CoLocatedComb/AVN_revision/HCAHeartST12992075/CoLocatedGroupsSklearnNMF_3478locations_58factors/spatial/showcell_density_mean_n_fact14_sHCAHeartST12992075_p99.2.pdf\n",
      "HCAHeartST13228103    2942\n",
      "Name: sample, dtype: int64\n",
      "### Analysis name: CoLocatedGroupsSklearnNMF_5combinations_2942locations_59factors\n"
     ]
    },
    {
     "name": "stderr",
     "output_type": "stream",
     "text": [
      "/home/jovyan/my-conda-envs/cellpymc/lib/python3.7/site-packages/sklearn/decomposition/_nmf.py:1425: FutureWarning: `alpha` was deprecated in version 1.0 and will be removed in 1.2. Use `alpha_W` and `alpha_H` instead\n",
      "/home/jovyan/my-conda-envs/cellpymc/lib/python3.7/site-packages/sklearn/decomposition/_nmf.py:1425: FutureWarning: `alpha` was deprecated in version 1.0 and will be removed in 1.2. Use `alpha_W` and `alpha_H` instead\n",
      "/home/jovyan/my-conda-envs/cellpymc/lib/python3.7/site-packages/sklearn/decomposition/_nmf.py:1425: FutureWarning: `alpha` was deprecated in version 1.0 and will be removed in 1.2. Use `alpha_W` and `alpha_H` instead\n"
     ]
    },
    {
     "name": "stdout",
     "output_type": "stream",
     "text": [
      "WARNING: saving figure to file /nfs/team205/heart/cell2location/coloc_nmf/CoLocatedComb/AVN_revision/HCAHeartST13228103/CoLocatedGroupsSklearnNMF_2942locations_59factors/spatial/showcell_density_mean_n_fact5_sHCAHeartST13228103_p99.2.pdf\n",
      "### Analysis name: CoLocatedGroupsSklearnNMF_6combinations_2942locations_59factors\n"
     ]
    },
    {
     "name": "stderr",
     "output_type": "stream",
     "text": [
      "/home/jovyan/my-conda-envs/cellpymc/lib/python3.7/site-packages/sklearn/decomposition/_nmf.py:1425: FutureWarning: `alpha` was deprecated in version 1.0 and will be removed in 1.2. Use `alpha_W` and `alpha_H` instead\n",
      "/home/jovyan/my-conda-envs/cellpymc/lib/python3.7/site-packages/sklearn/decomposition/_nmf.py:1425: FutureWarning: `alpha` was deprecated in version 1.0 and will be removed in 1.2. Use `alpha_W` and `alpha_H` instead\n",
      "/home/jovyan/my-conda-envs/cellpymc/lib/python3.7/site-packages/sklearn/decomposition/_nmf.py:1425: FutureWarning: `alpha` was deprecated in version 1.0 and will be removed in 1.2. Use `alpha_W` and `alpha_H` instead\n"
     ]
    },
    {
     "name": "stdout",
     "output_type": "stream",
     "text": [
      "WARNING: saving figure to file /nfs/team205/heart/cell2location/coloc_nmf/CoLocatedComb/AVN_revision/HCAHeartST13228103/CoLocatedGroupsSklearnNMF_2942locations_59factors/spatial/showcell_density_mean_n_fact6_sHCAHeartST13228103_p99.2.pdf\n",
      "### Analysis name: CoLocatedGroupsSklearnNMF_7combinations_2942locations_59factors\n"
     ]
    },
    {
     "name": "stderr",
     "output_type": "stream",
     "text": [
      "/home/jovyan/my-conda-envs/cellpymc/lib/python3.7/site-packages/sklearn/decomposition/_nmf.py:1425: FutureWarning: `alpha` was deprecated in version 1.0 and will be removed in 1.2. Use `alpha_W` and `alpha_H` instead\n",
      "/home/jovyan/my-conda-envs/cellpymc/lib/python3.7/site-packages/sklearn/decomposition/_nmf.py:1425: FutureWarning: `alpha` was deprecated in version 1.0 and will be removed in 1.2. Use `alpha_W` and `alpha_H` instead\n",
      "/home/jovyan/my-conda-envs/cellpymc/lib/python3.7/site-packages/sklearn/decomposition/_nmf.py:1425: FutureWarning: `alpha` was deprecated in version 1.0 and will be removed in 1.2. Use `alpha_W` and `alpha_H` instead\n"
     ]
    },
    {
     "name": "stdout",
     "output_type": "stream",
     "text": [
      "WARNING: saving figure to file /nfs/team205/heart/cell2location/coloc_nmf/CoLocatedComb/AVN_revision/HCAHeartST13228103/CoLocatedGroupsSklearnNMF_2942locations_59factors/spatial/showcell_density_mean_n_fact7_sHCAHeartST13228103_p99.2.pdf\n",
      "### Analysis name: CoLocatedGroupsSklearnNMF_8combinations_2942locations_59factors\n"
     ]
    },
    {
     "name": "stderr",
     "output_type": "stream",
     "text": [
      "/home/jovyan/my-conda-envs/cellpymc/lib/python3.7/site-packages/sklearn/decomposition/_nmf.py:1425: FutureWarning: `alpha` was deprecated in version 1.0 and will be removed in 1.2. Use `alpha_W` and `alpha_H` instead\n",
      "/home/jovyan/my-conda-envs/cellpymc/lib/python3.7/site-packages/sklearn/decomposition/_nmf.py:1425: FutureWarning: `alpha` was deprecated in version 1.0 and will be removed in 1.2. Use `alpha_W` and `alpha_H` instead\n",
      "/home/jovyan/my-conda-envs/cellpymc/lib/python3.7/site-packages/sklearn/decomposition/_nmf.py:1425: FutureWarning: `alpha` was deprecated in version 1.0 and will be removed in 1.2. Use `alpha_W` and `alpha_H` instead\n"
     ]
    },
    {
     "name": "stdout",
     "output_type": "stream",
     "text": [
      "WARNING: saving figure to file /nfs/team205/heart/cell2location/coloc_nmf/CoLocatedComb/AVN_revision/HCAHeartST13228103/CoLocatedGroupsSklearnNMF_2942locations_59factors/spatial/showcell_density_mean_n_fact8_sHCAHeartST13228103_p99.2.pdf\n",
      "### Analysis name: CoLocatedGroupsSklearnNMF_9combinations_2942locations_59factors\n"
     ]
    },
    {
     "name": "stderr",
     "output_type": "stream",
     "text": [
      "/home/jovyan/my-conda-envs/cellpymc/lib/python3.7/site-packages/sklearn/decomposition/_nmf.py:1425: FutureWarning: `alpha` was deprecated in version 1.0 and will be removed in 1.2. Use `alpha_W` and `alpha_H` instead\n",
      "/home/jovyan/my-conda-envs/cellpymc/lib/python3.7/site-packages/sklearn/decomposition/_nmf.py:1425: FutureWarning: `alpha` was deprecated in version 1.0 and will be removed in 1.2. Use `alpha_W` and `alpha_H` instead\n",
      "/home/jovyan/my-conda-envs/cellpymc/lib/python3.7/site-packages/sklearn/decomposition/_nmf.py:1425: FutureWarning: `alpha` was deprecated in version 1.0 and will be removed in 1.2. Use `alpha_W` and `alpha_H` instead\n"
     ]
    },
    {
     "name": "stdout",
     "output_type": "stream",
     "text": [
      "WARNING: saving figure to file /nfs/team205/heart/cell2location/coloc_nmf/CoLocatedComb/AVN_revision/HCAHeartST13228103/CoLocatedGroupsSklearnNMF_2942locations_59factors/spatial/showcell_density_mean_n_fact9_sHCAHeartST13228103_p99.2.pdf\n",
      "### Analysis name: CoLocatedGroupsSklearnNMF_10combinations_2942locations_59factors\n"
     ]
    },
    {
     "name": "stderr",
     "output_type": "stream",
     "text": [
      "/home/jovyan/my-conda-envs/cellpymc/lib/python3.7/site-packages/sklearn/decomposition/_nmf.py:1425: FutureWarning: `alpha` was deprecated in version 1.0 and will be removed in 1.2. Use `alpha_W` and `alpha_H` instead\n",
      "/home/jovyan/my-conda-envs/cellpymc/lib/python3.7/site-packages/sklearn/decomposition/_nmf.py:1425: FutureWarning: `alpha` was deprecated in version 1.0 and will be removed in 1.2. Use `alpha_W` and `alpha_H` instead\n",
      "/home/jovyan/my-conda-envs/cellpymc/lib/python3.7/site-packages/sklearn/decomposition/_nmf.py:1425: FutureWarning: `alpha` was deprecated in version 1.0 and will be removed in 1.2. Use `alpha_W` and `alpha_H` instead\n"
     ]
    },
    {
     "name": "stdout",
     "output_type": "stream",
     "text": [
      "WARNING: saving figure to file /nfs/team205/heart/cell2location/coloc_nmf/CoLocatedComb/AVN_revision/HCAHeartST13228103/CoLocatedGroupsSklearnNMF_2942locations_59factors/spatial/showcell_density_mean_n_fact10_sHCAHeartST13228103_p99.2.pdf\n",
      "### Analysis name: CoLocatedGroupsSklearnNMF_11combinations_2942locations_59factors\n"
     ]
    },
    {
     "name": "stderr",
     "output_type": "stream",
     "text": [
      "/home/jovyan/my-conda-envs/cellpymc/lib/python3.7/site-packages/sklearn/decomposition/_nmf.py:1425: FutureWarning: `alpha` was deprecated in version 1.0 and will be removed in 1.2. Use `alpha_W` and `alpha_H` instead\n",
      "/home/jovyan/my-conda-envs/cellpymc/lib/python3.7/site-packages/sklearn/decomposition/_nmf.py:1425: FutureWarning: `alpha` was deprecated in version 1.0 and will be removed in 1.2. Use `alpha_W` and `alpha_H` instead\n",
      "/home/jovyan/my-conda-envs/cellpymc/lib/python3.7/site-packages/sklearn/decomposition/_nmf.py:1425: FutureWarning: `alpha` was deprecated in version 1.0 and will be removed in 1.2. Use `alpha_W` and `alpha_H` instead\n"
     ]
    },
    {
     "name": "stdout",
     "output_type": "stream",
     "text": [
      "WARNING: saving figure to file /nfs/team205/heart/cell2location/coloc_nmf/CoLocatedComb/AVN_revision/HCAHeartST13228103/CoLocatedGroupsSklearnNMF_2942locations_59factors/spatial/showcell_density_mean_n_fact11_sHCAHeartST13228103_p99.2.pdf\n",
      "### Analysis name: CoLocatedGroupsSklearnNMF_12combinations_2942locations_59factors\n"
     ]
    },
    {
     "name": "stderr",
     "output_type": "stream",
     "text": [
      "/home/jovyan/my-conda-envs/cellpymc/lib/python3.7/site-packages/sklearn/decomposition/_nmf.py:1425: FutureWarning: `alpha` was deprecated in version 1.0 and will be removed in 1.2. Use `alpha_W` and `alpha_H` instead\n",
      "/home/jovyan/my-conda-envs/cellpymc/lib/python3.7/site-packages/sklearn/decomposition/_nmf.py:1425: FutureWarning: `alpha` was deprecated in version 1.0 and will be removed in 1.2. Use `alpha_W` and `alpha_H` instead\n",
      "/home/jovyan/my-conda-envs/cellpymc/lib/python3.7/site-packages/sklearn/decomposition/_nmf.py:1425: FutureWarning: `alpha` was deprecated in version 1.0 and will be removed in 1.2. Use `alpha_W` and `alpha_H` instead\n"
     ]
    },
    {
     "name": "stdout",
     "output_type": "stream",
     "text": [
      "WARNING: saving figure to file /nfs/team205/heart/cell2location/coloc_nmf/CoLocatedComb/AVN_revision/HCAHeartST13228103/CoLocatedGroupsSklearnNMF_2942locations_59factors/spatial/showcell_density_mean_n_fact12_sHCAHeartST13228103_p99.2.pdf\n",
      "### Analysis name: CoLocatedGroupsSklearnNMF_13combinations_2942locations_59factors\n"
     ]
    },
    {
     "name": "stderr",
     "output_type": "stream",
     "text": [
      "/home/jovyan/my-conda-envs/cellpymc/lib/python3.7/site-packages/sklearn/decomposition/_nmf.py:1425: FutureWarning: `alpha` was deprecated in version 1.0 and will be removed in 1.2. Use `alpha_W` and `alpha_H` instead\n",
      "/home/jovyan/my-conda-envs/cellpymc/lib/python3.7/site-packages/sklearn/decomposition/_nmf.py:1425: FutureWarning: `alpha` was deprecated in version 1.0 and will be removed in 1.2. Use `alpha_W` and `alpha_H` instead\n",
      "/home/jovyan/my-conda-envs/cellpymc/lib/python3.7/site-packages/sklearn/decomposition/_nmf.py:1425: FutureWarning: `alpha` was deprecated in version 1.0 and will be removed in 1.2. Use `alpha_W` and `alpha_H` instead\n"
     ]
    },
    {
     "name": "stdout",
     "output_type": "stream",
     "text": [
      "WARNING: saving figure to file /nfs/team205/heart/cell2location/coloc_nmf/CoLocatedComb/AVN_revision/HCAHeartST13228103/CoLocatedGroupsSklearnNMF_2942locations_59factors/spatial/showcell_density_mean_n_fact13_sHCAHeartST13228103_p99.2.pdf\n",
      "### Analysis name: CoLocatedGroupsSklearnNMF_14combinations_2942locations_59factors\n"
     ]
    },
    {
     "name": "stderr",
     "output_type": "stream",
     "text": [
      "/home/jovyan/my-conda-envs/cellpymc/lib/python3.7/site-packages/sklearn/decomposition/_nmf.py:1425: FutureWarning: `alpha` was deprecated in version 1.0 and will be removed in 1.2. Use `alpha_W` and `alpha_H` instead\n",
      "/home/jovyan/my-conda-envs/cellpymc/lib/python3.7/site-packages/sklearn/decomposition/_nmf.py:1425: FutureWarning: `alpha` was deprecated in version 1.0 and will be removed in 1.2. Use `alpha_W` and `alpha_H` instead\n",
      "/home/jovyan/my-conda-envs/cellpymc/lib/python3.7/site-packages/sklearn/decomposition/_nmf.py:1425: FutureWarning: `alpha` was deprecated in version 1.0 and will be removed in 1.2. Use `alpha_W` and `alpha_H` instead\n"
     ]
    },
    {
     "name": "stdout",
     "output_type": "stream",
     "text": [
      "WARNING: saving figure to file /nfs/team205/heart/cell2location/coloc_nmf/CoLocatedComb/AVN_revision/HCAHeartST13228103/CoLocatedGroupsSklearnNMF_2942locations_59factors/spatial/showcell_density_mean_n_fact14_sHCAHeartST13228103_p99.2.pdf\n"
     ]
    }
   ],
   "source": [
    "# AVN\n",
    "cell2loc_out = '/nfs/team205/heart/cell2location/cell2location_map/cs-selected/AVN_per-slide'\n",
    "\n",
    "slides = os.listdir(cell2loc_out)\n",
    "slides.sort()\n",
    "print(slides)\n",
    "\n",
    "for ID in progress_bar(slides):\n",
    "    \n",
    "    adata_vis = sc.read_h5ad(f'{cell2loc_out}/{ID}/sp.h5ad')\n",
    "    print(adata_vis.obs['sample'].value_counts())\n",
    "    \n",
    "    os.mkdir(f'/nfs/team205/heart/cell2location/coloc_nmf/CoLocatedComb/AVN_revision/{ID}/')\n",
    "    \n",
    "    run_colocation(\n",
    "        adata_vis,\n",
    "        model_name='CoLocatedGroupsSklearnNMF',\n",
    "        train_args={\n",
    "          'n_fact': np.arange(5, 15), # IMPORTANT: use a wider range of the number of factors (5-30)\n",
    "          'sample_name_col': 'sample', # columns in adata_vis.obs that identifies sample\n",
    "          'n_restarts': 3 # number of training restarts\n",
    "        },\n",
    "        export_args={'path': f'/nfs/team205/heart/cell2location/coloc_nmf/CoLocatedComb/AVN_revision/{ID}/'}\n",
    "    )\n",
    "    \n",
    "    del adata_vis"
   ]
  },
  {
   "cell_type": "code",
   "execution_count": null,
   "id": "novel-words",
   "metadata": {},
   "outputs": [],
   "source": []
  },
  {
   "cell_type": "code",
   "execution_count": null,
   "id": "consolidated-antenna",
   "metadata": {},
   "outputs": [],
   "source": []
  }
 ],
 "metadata": {
  "kernelspec": {
   "display_name": "cellpymc",
   "language": "python",
   "name": "cellpymc"
  },
  "language_info": {
   "codemirror_mode": {
    "name": "ipython",
    "version": 3
   },
   "file_extension": ".py",
   "mimetype": "text/x-python",
   "name": "python",
   "nbconvert_exporter": "python",
   "pygments_lexer": "ipython3",
   "version": "3.7.9"
  }
 },
 "nbformat": 4,
 "nbformat_minor": 5
}
