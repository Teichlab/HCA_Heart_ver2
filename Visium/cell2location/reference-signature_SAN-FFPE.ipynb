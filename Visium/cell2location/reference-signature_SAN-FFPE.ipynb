{
 "cells": [
  {
   "cell_type": "markdown",
   "id": "cb60e106",
   "metadata": {},
   "source": [
    "## What is unique here for FFPE samples \n",
    "Before creating a model, subsetting genes which is in the FFPE probe set"
   ]
  },
  {
   "cell_type": "markdown",
   "id": "1624034c",
   "metadata": {},
   "source": [
    "## Loading packages"
   ]
  },
  {
   "cell_type": "code",
   "execution_count": 1,
   "id": "fc8bd6cc",
   "metadata": {},
   "outputs": [
    {
     "name": "stderr",
     "output_type": "stream",
     "text": [
      "Global seed set to 0\n"
     ]
    }
   ],
   "source": [
    "import sys\n",
    "import scanpy as sc\n",
    "import anndata\n",
    "import pandas as pd\n",
    "pd.set_option('display.max_rows', 100)\n",
    "import numpy as np\n",
    "import matplotlib.pyplot as plt \n",
    "import matplotlib as mpl\n",
    "\n",
    "import cell2location\n",
    "import scvi\n",
    "\n",
    "from matplotlib import rcParams\n",
    "rcParams['pdf.fonttype'] = 42 # enables correct plotting of text\n",
    "import seaborn as sns\n",
    "\n",
    "import sctk"
   ]
  },
  {
   "cell_type": "code",
   "execution_count": 2,
   "id": "a20c40be",
   "metadata": {},
   "outputs": [],
   "source": [
    "results_folder = '/nfs/team205/heart/cell2location'\n",
    "\n",
    "# create paths and names to results folders for reference regression and cell2location models\n",
    "ref_run_name = f'{results_folder}/reference_signatures'\n",
    "run_name = f'{results_folder}/cell2location_map'"
   ]
  },
  {
   "cell_type": "markdown",
   "id": "457d951d",
   "metadata": {},
   "source": [
    "## Data, parameters"
   ]
  },
  {
   "cell_type": "code",
   "execution_count": 32,
   "id": "d9c3bf0f",
   "metadata": {},
   "outputs": [],
   "source": [
    "scRNA_path='/nfs/team205/heart/anndata_objects/8regions/RNA_adult-8reg_raw_rmdblcls_cellstate-annotated.h5ad'\n",
    "\n",
    "celltype_key='cell_state'\n",
    "\n",
    "regions=['SAN-FFPE'] # ,'AVN','RV','LV','SP','AX','RA','LA',"
   ]
  },
  {
   "cell_type": "code",
   "execution_count": null,
   "id": "268ee6f9",
   "metadata": {},
   "outputs": [],
   "source": []
  },
  {
   "cell_type": "markdown",
   "id": "243cb2e1",
   "metadata": {},
   "source": [
    "## Loading scRNA-seq reference data"
   ]
  },
  {
   "cell_type": "code",
   "execution_count": 4,
   "id": "46bd34e1",
   "metadata": {},
   "outputs": [
    {
     "data": {
      "text/html": [
       "<div>\n",
       "<style scoped>\n",
       "    .dataframe tbody tr th:only-of-type {\n",
       "        vertical-align: middle;\n",
       "    }\n",
       "\n",
       "    .dataframe tbody tr th {\n",
       "        vertical-align: top;\n",
       "    }\n",
       "\n",
       "    .dataframe thead th {\n",
       "        text-align: right;\n",
       "    }\n",
       "</style>\n",
       "<table border=\"1\" class=\"dataframe\">\n",
       "  <thead>\n",
       "    <tr style=\"text-align: right;\">\n",
       "      <th></th>\n",
       "      <th>gene_name_scRNA-0</th>\n",
       "      <th>gene_name_snRNA-1</th>\n",
       "      <th>gene_name_multiome-2</th>\n",
       "    </tr>\n",
       "  </thead>\n",
       "  <tbody>\n",
       "    <tr>\n",
       "      <th>ENSG00000243485</th>\n",
       "      <td>MIR1302-2HG</td>\n",
       "      <td>MIR1302-2HG</td>\n",
       "      <td>MIR1302-2HG</td>\n",
       "    </tr>\n",
       "    <tr>\n",
       "      <th>ENSG00000237613</th>\n",
       "      <td>FAM138A</td>\n",
       "      <td>FAM138A</td>\n",
       "      <td>FAM138A</td>\n",
       "    </tr>\n",
       "    <tr>\n",
       "      <th>ENSG00000186092</th>\n",
       "      <td>OR4F5</td>\n",
       "      <td>OR4F5</td>\n",
       "      <td>OR4F5</td>\n",
       "    </tr>\n",
       "    <tr>\n",
       "      <th>ENSG00000238009</th>\n",
       "      <td>AL627309.1</td>\n",
       "      <td>AL627309.1</td>\n",
       "      <td>AL627309.1</td>\n",
       "    </tr>\n",
       "    <tr>\n",
       "      <th>ENSG00000239945</th>\n",
       "      <td>AL627309.3</td>\n",
       "      <td>AL627309.3</td>\n",
       "      <td>AL627309.3</td>\n",
       "    </tr>\n",
       "    <tr>\n",
       "      <th>...</th>\n",
       "      <td>...</td>\n",
       "      <td>...</td>\n",
       "      <td>...</td>\n",
       "    </tr>\n",
       "    <tr>\n",
       "      <th>ENSG00000277856</th>\n",
       "      <td>AC233755.2</td>\n",
       "      <td>AC233755.2</td>\n",
       "      <td>AC233755.2</td>\n",
       "    </tr>\n",
       "    <tr>\n",
       "      <th>ENSG00000275063</th>\n",
       "      <td>AC233755.1</td>\n",
       "      <td>AC233755.1</td>\n",
       "      <td>AC233755.1</td>\n",
       "    </tr>\n",
       "    <tr>\n",
       "      <th>ENSG00000271254</th>\n",
       "      <td>AC240274.1</td>\n",
       "      <td>AC240274.1</td>\n",
       "      <td>AC240274.1</td>\n",
       "    </tr>\n",
       "    <tr>\n",
       "      <th>ENSG00000277475</th>\n",
       "      <td>AC213203.1</td>\n",
       "      <td>AC213203.1</td>\n",
       "      <td>AC213203.2</td>\n",
       "    </tr>\n",
       "    <tr>\n",
       "      <th>ENSG00000268674</th>\n",
       "      <td>FAM231C</td>\n",
       "      <td>FAM231C</td>\n",
       "      <td>AC213203.1</td>\n",
       "    </tr>\n",
       "  </tbody>\n",
       "</table>\n",
       "<p>32732 rows × 3 columns</p>\n",
       "</div>"
      ],
      "text/plain": [
       "                gene_name_scRNA-0 gene_name_snRNA-1 gene_name_multiome-2\n",
       "ENSG00000243485       MIR1302-2HG       MIR1302-2HG          MIR1302-2HG\n",
       "ENSG00000237613           FAM138A           FAM138A              FAM138A\n",
       "ENSG00000186092             OR4F5             OR4F5                OR4F5\n",
       "ENSG00000238009        AL627309.1        AL627309.1           AL627309.1\n",
       "ENSG00000239945        AL627309.3        AL627309.3           AL627309.3\n",
       "...                           ...               ...                  ...\n",
       "ENSG00000277856        AC233755.2        AC233755.2           AC233755.2\n",
       "ENSG00000275063        AC233755.1        AC233755.1           AC233755.1\n",
       "ENSG00000271254        AC240274.1        AC240274.1           AC240274.1\n",
       "ENSG00000277475        AC213203.1        AC213203.1           AC213203.2\n",
       "ENSG00000268674           FAM231C           FAM231C           AC213203.1\n",
       "\n",
       "[32732 rows x 3 columns]"
      ]
     },
     "execution_count": 4,
     "metadata": {},
     "output_type": "execute_result"
    }
   ],
   "source": [
    "# Read scRNA data\n",
    "adata_ref = sc.read(scRNA_path)\n",
    "\n",
    "# Remove 'unclassified' cells\n",
    "adata_ref = adata_ref[adata_ref.obs[celltype_key]!='unclassified']\n",
    "\n",
    "# Make sure .var_names are ENSEMBL IDs\n",
    "adata_ref.var"
   ]
  },
  {
   "cell_type": "code",
   "execution_count": 5,
   "id": "24f0ecef",
   "metadata": {},
   "outputs": [
    {
     "data": {
      "text/plain": [
       "AH1_Nuclei_Multiome-v1    50220\n",
       "D11_Cell_3prime-v3        44919\n",
       "D2_Nuclei_3prime-v2       44855\n",
       "H5_Nuclei_3prime-v3       37985\n",
       "D6_Cell_3prime-v2         35958\n",
       "A61_Nuclei_Multiome-v1    33692\n",
       "D8_Nuclei_Multiome-v1     32926\n",
       "H3_Nuclei_3prime-v3       32036\n",
       "H7_Nuclei_3prime-v3       31453\n",
       "H6_Nuclei_3prime-v3       27245\n",
       "D4_Nuclei_3prime-v2       26676\n",
       "H4_Nuclei_3prime-v3       25589\n",
       "D5_Nuclei_3prime-v2       22516\n",
       "D3_Nuclei_3prime-v2       22045\n",
       "H2_Nuclei_3prime-v3       21199\n",
       "D6_Cell_3prime-v3         20493\n",
       "D6_Nuclei_3prime-v2       17878\n",
       "D7_Cell_3prime-v2         17089\n",
       "D7_Nuclei_3prime-v2       16801\n",
       "D1_Nuclei_3prime-v2       15487\n",
       "D11_Nuclei_3prime-v3      13777\n",
       "D7_Nuclei_Multiome-v1     13423\n",
       "D5_Cell_3prime-v2          6604\n",
       "D3_Cell_3prime-v2          5325\n",
       "D3_Nuclei_Multiome-v1      2508\n",
       "D4_Cell_3prime-v2          1744\n",
       "D1_Cell_3prime-v2           166\n",
       "Name: batch_key, dtype: int64"
      ]
     },
     "execution_count": 5,
     "metadata": {},
     "output_type": "execute_result"
    }
   ],
   "source": [
    "adata_ref.obs['batch_key'].value_counts()"
   ]
  },
  {
   "cell_type": "code",
   "execution_count": 6,
   "id": "e1413f1d",
   "metadata": {},
   "outputs": [
    {
     "data": {
      "text/plain": [
       "{'AVN_P_cell',\n",
       " 'AVN_bundle_cell',\n",
       " 'Adip1',\n",
       " 'Adip2',\n",
       " 'Adip3',\n",
       " 'Adip4',\n",
       " 'B',\n",
       " 'B_plasma',\n",
       " 'CD14+Mo',\n",
       " 'CD16+Mo',\n",
       " 'CD4+T_Tfh',\n",
       " 'CD4+T_Th1',\n",
       " 'CD4+T_Th17',\n",
       " 'CD4+T_Th2',\n",
       " 'CD4+T_act',\n",
       " 'CD4+T_naive',\n",
       " 'CD4+T_reg',\n",
       " 'CD8+T_cytox',\n",
       " 'CD8+T_em',\n",
       " 'CD8+T_te',\n",
       " 'CD8+T_trans',\n",
       " 'DC',\n",
       " 'EC10_CMC-like',\n",
       " 'EC1_cap',\n",
       " 'EC2_cap',\n",
       " 'EC3_cap',\n",
       " 'EC4_immune',\n",
       " 'EC5_art',\n",
       " 'EC6_ven',\n",
       " 'EC7_atria',\n",
       " 'EC8_ln',\n",
       " 'EC9_FB-like',\n",
       " 'FB1',\n",
       " 'FB2',\n",
       " 'FB3',\n",
       " 'FB4',\n",
       " 'FB5',\n",
       " 'FB6',\n",
       " 'ILC',\n",
       " 'LYVE1+IGF1+MP',\n",
       " 'LYVE1+MP_cycling',\n",
       " 'LYVE1+TIMD4+MP',\n",
       " 'MAIT-like',\n",
       " 'Mast',\n",
       " 'Meso',\n",
       " 'MoMP',\n",
       " 'NC1',\n",
       " 'NC2',\n",
       " 'NC3',\n",
       " 'NC4',\n",
       " 'NC5',\n",
       " 'NC6',\n",
       " 'NK_CD16hi',\n",
       " 'NK_CD56hi',\n",
       " 'Neut',\n",
       " 'PC1_vent',\n",
       " 'PC2_atria',\n",
       " 'PC3_str',\n",
       " 'PC4_CMC-like',\n",
       " 'SAN_P_cell',\n",
       " 'SMC1_basic',\n",
       " 'SMC2_art',\n",
       " 'T/NK_cycling',\n",
       " 'aCM1',\n",
       " 'aCM2',\n",
       " 'aCM3',\n",
       " 'aCM4',\n",
       " 'aCM5',\n",
       " 'gdT',\n",
       " 'vCM1',\n",
       " 'vCM2',\n",
       " 'vCM3',\n",
       " 'vCM4',\n",
       " 'vCM5'}"
      ]
     },
     "execution_count": 6,
     "metadata": {},
     "output_type": "execute_result"
    }
   ],
   "source": [
    "set(adata_ref.obs[celltype_key])"
   ]
  },
  {
   "cell_type": "code",
   "execution_count": null,
   "id": "525d0fdf",
   "metadata": {},
   "outputs": [],
   "source": []
  },
  {
   "cell_type": "markdown",
   "id": "0f90683f",
   "metadata": {},
   "source": [
    "## Subset genes which is in FFPE-visium probe set"
   ]
  },
  {
   "cell_type": "code",
   "execution_count": 24,
   "id": "b5fe602a",
   "metadata": {},
   "outputs": [
    {
     "name": "stdout",
     "output_type": "stream",
     "text": [
      "19902\n"
     ]
    },
    {
     "data": {
      "text/plain": [
       "['ENSG00000000003',\n",
       " 'ENSG00000000005',\n",
       " 'ENSG00000000419',\n",
       " 'ENSG00000000457',\n",
       " 'ENSG00000000460']"
      ]
     },
     "execution_count": 24,
     "metadata": {},
     "output_type": "execute_result"
    }
   ],
   "source": [
    "probe_genes = pd.read_csv('/nfs/team205/heart/cell2location/random/Visium_Human_Transcriptome_Probe_Set_v1.0_GRCh38-2020-A.csv',\n",
    "                         skiprows=[0,1,2,3,4])\n",
    "probe_genes = list(probe_genes[['DEPRECATED_' not in x for x in probe_genes['gene_id']]]['gene_id'])\n",
    "print(len(probe_genes))\n",
    "probe_genes[:5]"
   ]
  },
  {
   "cell_type": "code",
   "execution_count": 31,
   "id": "a828982e",
   "metadata": {},
   "outputs": [
    {
     "data": {
      "text/plain": [
       "View of AnnData object with n_obs × n_vars = 620609 × 19095\n",
       "    obs: 'sangerID', 'combinedID', 'donor', 'donor_type', 'region', 'region_finest', 'age', 'gender', 'facility', 'cell_or_nuclei', 'modality', 'kit_10x', 'flushed', 'n_genes', 'n_genes_by_counts', 'total_counts', 'total_counts_mt', 'pct_counts_mt', 'total_counts_ribo', 'pct_counts_ribo', 'scrublet_score', 'scrublet_leiden', 'cluster_scrublet_score', 'doublet_pval', 'doublet_bh_pval', 'batch_key', 'leiden_scVI', 'cell_type', 'cell_state_HCAv1', 'cell_state_scNym', 'cell_state_scNym_confidence', 'cell_state'\n",
       "    var: 'gene_name_scRNA-0', 'gene_name_snRNA-1', 'gene_name_multiome-2'\n",
       "    uns: 'cell_or_nuclei_colors', 'cell_state_HCAv1_colors', 'cell_state_colors', 'cell_state_scNym_colors', 'cell_type_colors', 'donor_colors', 'kit_10x_colors', 'leiden_scVI_colors', 'region_colors'\n",
       "    obsm: 'X_scVI', 'X_umap', '_scvi_extra_continuous', 'latent_gene_encoding'\n",
       "    obsp: 'connectivities', 'distances'"
      ]
     },
     "execution_count": 31,
     "metadata": {},
     "output_type": "execute_result"
    }
   ],
   "source": [
    "adata_ref = adata_ref[:,list(set(adata_ref.var_names).intersection(probe_genes))]\n",
    "adata_ref"
   ]
  },
  {
   "cell_type": "code",
   "execution_count": null,
   "id": "b6b200ab",
   "metadata": {},
   "outputs": [],
   "source": []
  },
  {
   "cell_type": "markdown",
   "id": "08ec6b23",
   "metadata": {},
   "source": [
    "## Run per region: Estimation of reference cell type signatures (NB regression)"
   ]
  },
  {
   "cell_type": "code",
   "execution_count": 34,
   "id": "c203144c",
   "metadata": {},
   "outputs": [
    {
     "name": "stdout",
     "output_type": "stream",
     "text": [
      "####### SAN-FFPE #######\n"
     ]
    },
    {
     "name": "stderr",
     "output_type": "stream",
     "text": [
      "Observation names are not unique. To make them unique, call `.obs_names_make_unique`.\n",
      "Observation names are not unique. To make them unique, call `.obs_names_make_unique`.\n",
      "Observation names are not unique. To make them unique, call `.obs_names_make_unique`.\n"
     ]
    },
    {
     "name": "stdout",
     "output_type": "stream",
     "text": [
      "                   pre  post_add-subsample\n",
      "Adip1              558                 558\n",
      "Adip2              203                 203\n",
      "B                  126                 126\n",
      "B_plasma             8                 275\n",
      "CD14+Mo             87                2050\n",
      "CD16+Mo            238                 238\n",
      "CD4+T_act          296                 296\n",
      "CD4+T_naive        358                 358\n",
      "CD8+T_cytox         19                1341\n",
      "CD8+T_em           167                 167\n",
      "CD8+T_te            92                2023\n",
      "CD8+T_trans        207                 207\n",
      "DC                  57                 931\n",
      "EC10_CMC-like      136                 136\n",
      "EC1_cap            136                 136\n",
      "EC2_cap             10                2003\n",
      "EC3_cap             28                2006\n",
      "EC4_immune          43                2018\n",
      "EC5_art            374                 374\n",
      "EC6_ven            389                 389\n",
      "EC7_atria          899                 899\n",
      "EC8_ln              42                1007\n",
      "FB1                 51                2005\n",
      "FB2               6474                2000\n",
      "FB3                377                 377\n",
      "FB4                954                 954\n",
      "FB5                946                 946\n",
      "FB6                 23                2008\n",
      "ILC                  5                 146\n",
      "LYVE1+IGF1+MP      281                 281\n",
      "LYVE1+MP_cycling   106                 106\n",
      "LYVE1+TIMD4+MP    1341                1341\n",
      "MAIT-like           33                 555\n",
      "Mast                65                1572\n",
      "MoMP               139                 139\n",
      "NC1                340                 340\n",
      "NC2                 58                 721\n",
      "NK_CD16hi          185                 185\n",
      "NK_CD56hi           62                1344\n",
      "Neut                 8                 125\n",
      "PC2_atria          389                 389\n",
      "PC3_str             35                2008\n",
      "SAN_P_cell          47                  94\n",
      "SMC1_basic          49                2016\n",
      "SMC2_art            86                2046\n",
      "aCM1               380                 380\n",
      "aCM2              3402                2000\n",
      "aCM3               106                 106\n",
      "aCM4               946                 946\n"
     ]
    },
    {
     "data": {
      "image/png": "[encoded data removed]",
      "text/plain": [
       "<Figure size 432x288 with 1 Axes>"
      ]
     },
     "metadata": {
      "needs_background": "light"
     },
     "output_type": "display_data"
    },
    {
     "name": "stderr",
     "output_type": "stream",
     "text": [
      "Observation names are not unique. To make them unique, call `.obs_names_make_unique`.\n",
      "Observation names are not unique. To make them unique, call `.obs_names_make_unique`.\n",
      "/lustre/scratch117/cellgen/team205/kk18/miniconda3/envs/cell2loc_env/lib/python3.9/site-packages/sklearn/utils/deprecation.py:87: FutureWarning: Function setup_anndata is deprecated; Please use the model-specific setup_anndata methods instead. The global method will be removed in version 0.15.0.\n"
     ]
    },
    {
     "name": "stdout",
     "output_type": "stream",
     "text": [
      "\u001b[34mINFO    \u001b[0m Using batches from adata.obs\u001b[1m[\u001b[0m\u001b[32m\"batch_key\"\u001b[0m\u001b[1m]\u001b[0m                                           \n",
      "\u001b[34mINFO    \u001b[0m Using labels from adata.obs\u001b[1m[\u001b[0m\u001b[32m\"cell_state\"\u001b[0m\u001b[1m]\u001b[0m                                           \n",
      "\u001b[34mINFO    \u001b[0m Using data from adata.X                                                             \n",
      "\u001b[34mINFO    \u001b[0m Successfully registered anndata object containing \u001b[1;36m42871\u001b[0m cells, \u001b[1;36m12649\u001b[0m vars, \u001b[1;36m27\u001b[0m       \n",
      "         batches, \u001b[1;36m49\u001b[0m labels, and \u001b[1;36m0\u001b[0m proteins. Also registered \u001b[1;36m0\u001b[0m extra categorical covariates  \n",
      "         and \u001b[1;36m0\u001b[0m extra continuous covariates.                                                  \n",
      "\u001b[34mINFO    \u001b[0m Please do not further modify adata until model is trained.                          \n"
     ]
    },
    {
     "name": "stderr",
     "output_type": "stream",
     "text": [
      "/lustre/scratch117/cellgen/team205/kk18/miniconda3/envs/cell2loc_env/lib/python3.9/site-packages/sklearn/utils/deprecation.py:87: FutureWarning: Function view_anndata_setup is deprecated; This method will be removed in 0.15.0. Please avoid building any new dependencies on it.\n"
     ]
    },
    {
     "data": {
      "text/html": [
       "<pre style=\"white-space:pre;overflow-x:auto;line-height:normal;font-family:Menlo,'DejaVu Sans Mono',consolas,'Courier New',monospace\">Anndata setup with scvi-tools version <span style=\"color: #008080; text-decoration-color: #008080; font-weight: bold\">0.14</span>.<span style=\"color: #008080; text-decoration-color: #008080; font-weight: bold\">4</span>.\n",
       "</pre>\n"
      ],
      "text/plain": [
       "Anndata setup with scvi-tools version \u001b[1;36m0.14\u001b[0m.\u001b[1;36m4\u001b[0m.\n"
      ]
     },
     "metadata": {},
     "output_type": "display_data"
    },
    {
     "data": {
      "text/html": [
       "<pre style=\"white-space:pre;overflow-x:auto;line-height:normal;font-family:Menlo,'DejaVu Sans Mono',consolas,'Courier New',monospace\"><span style=\"font-style: italic\">              Data Summary              </span>\n",
       "┏━━━━━━━━━━━━━━━━━━━━━━━━━━━━━━┳━━━━━━━┓\n",
       "┃<span style=\"font-weight: bold\">             Data             </span>┃<span style=\"font-weight: bold\"> Count </span>┃\n",
       "┡━━━━━━━━━━━━━━━━━━━━━━━━━━━━━━╇━━━━━━━┩\n",
       "│<span style=\"color: #0087ff; text-decoration-color: #0087ff\">            Cells             </span>│<span style=\"color: #af00d7; text-decoration-color: #af00d7\"> 42871 </span>│\n",
       "│<span style=\"color: #0087ff; text-decoration-color: #0087ff\">             Vars             </span>│<span style=\"color: #af00d7; text-decoration-color: #af00d7\"> 12649 </span>│\n",
       "│<span style=\"color: #0087ff; text-decoration-color: #0087ff\">            Labels            </span>│<span style=\"color: #af00d7; text-decoration-color: #af00d7\">  49   </span>│\n",
       "│<span style=\"color: #0087ff; text-decoration-color: #0087ff\">           Batches            </span>│<span style=\"color: #af00d7; text-decoration-color: #af00d7\">  27   </span>│\n",
       "│<span style=\"color: #0087ff; text-decoration-color: #0087ff\">           Proteins           </span>│<span style=\"color: #af00d7; text-decoration-color: #af00d7\">   0   </span>│\n",
       "│<span style=\"color: #0087ff; text-decoration-color: #0087ff\"> Extra Categorical Covariates </span>│<span style=\"color: #af00d7; text-decoration-color: #af00d7\">   0   </span>│\n",
       "│<span style=\"color: #0087ff; text-decoration-color: #0087ff\"> Extra Continuous Covariates  </span>│<span style=\"color: #af00d7; text-decoration-color: #af00d7\">   0   </span>│\n",
       "└──────────────────────────────┴───────┘\n",
       "</pre>\n"
      ],
      "text/plain": [
       "\u001b[3m              Data Summary              \u001b[0m\n",
       "┏━━━━━━━━━━━━━━━━━━━━━━━━━━━━━━┳━━━━━━━┓\n",
       "┃\u001b[1m \u001b[0m\u001b[1m            Data            \u001b[0m\u001b[1m \u001b[0m┃\u001b[1m \u001b[0m\u001b[1mCount\u001b[0m\u001b[1m \u001b[0m┃\n",
       "┡━━━━━━━━━━━━━━━━━━━━━━━━━━━━━━╇━━━━━━━┩\n",
       "│\u001b[38;5;33m \u001b[0m\u001b[38;5;33m           Cells            \u001b[0m\u001b[38;5;33m \u001b[0m│\u001b[38;5;128m \u001b[0m\u001b[38;5;128m42871\u001b[0m\u001b[38;5;128m \u001b[0m│\n",
       "│\u001b[38;5;33m \u001b[0m\u001b[38;5;33m            Vars            \u001b[0m\u001b[38;5;33m \u001b[0m│\u001b[38;5;128m \u001b[0m\u001b[38;5;128m12649\u001b[0m\u001b[38;5;128m \u001b[0m│\n",
       "│\u001b[38;5;33m \u001b[0m\u001b[38;5;33m           Labels           \u001b[0m\u001b[38;5;33m \u001b[0m│\u001b[38;5;128m \u001b[0m\u001b[38;5;128m 49  \u001b[0m\u001b[38;5;128m \u001b[0m│\n",
       "│\u001b[38;5;33m \u001b[0m\u001b[38;5;33m          Batches           \u001b[0m\u001b[38;5;33m \u001b[0m│\u001b[38;5;128m \u001b[0m\u001b[38;5;128m 27  \u001b[0m\u001b[38;5;128m \u001b[0m│\n",
       "│\u001b[38;5;33m \u001b[0m\u001b[38;5;33m          Proteins          \u001b[0m\u001b[38;5;33m \u001b[0m│\u001b[38;5;128m \u001b[0m\u001b[38;5;128m  0  \u001b[0m\u001b[38;5;128m \u001b[0m│\n",
       "│\u001b[38;5;33m \u001b[0m\u001b[38;5;33mExtra Categorical Covariates\u001b[0m\u001b[38;5;33m \u001b[0m│\u001b[38;5;128m \u001b[0m\u001b[38;5;128m  0  \u001b[0m\u001b[38;5;128m \u001b[0m│\n",
       "│\u001b[38;5;33m \u001b[0m\u001b[38;5;33mExtra Continuous Covariates \u001b[0m\u001b[38;5;33m \u001b[0m│\u001b[38;5;128m \u001b[0m\u001b[38;5;128m  0  \u001b[0m\u001b[38;5;128m \u001b[0m│\n",
       "└──────────────────────────────┴───────┘\n"
      ]
     },
     "metadata": {},
     "output_type": "display_data"
    },
    {
     "data": {
      "text/html": [
       "<pre style=\"white-space:pre;overflow-x:auto;line-height:normal;font-family:Menlo,'DejaVu Sans Mono',consolas,'Courier New',monospace\"><span style=\"font-style: italic\">             SCVI Data Registry              </span>\n",
       "┏━━━━━━━━━━━━━━━┳━━━━━━━━━━━━━━━━━━━━━━━━━━━┓\n",
       "┃<span style=\"font-weight: bold\">     Data      </span>┃<span style=\"font-weight: bold\">    scvi-tools Location    </span>┃\n",
       "┡━━━━━━━━━━━━━━━╇━━━━━━━━━━━━━━━━━━━━━━━━━━━┩\n",
       "│<span style=\"color: #0087ff; text-decoration-color: #0087ff\">       X       </span>│<span style=\"color: #af00d7; text-decoration-color: #af00d7\">          adata.X          </span>│\n",
       "│<span style=\"color: #0087ff; text-decoration-color: #0087ff\"> batch_indices </span>│<span style=\"color: #af00d7; text-decoration-color: #af00d7\"> adata.obs['_scvi_batch']  </span>│\n",
       "│<span style=\"color: #0087ff; text-decoration-color: #0087ff\">    labels     </span>│<span style=\"color: #af00d7; text-decoration-color: #af00d7\"> adata.obs['_scvi_labels'] </span>│\n",
       "└───────────────┴───────────────────────────┘\n",
       "</pre>\n"
      ],
      "text/plain": [
       "\u001b[3m             SCVI Data Registry              \u001b[0m\n",
       "┏━━━━━━━━━━━━━━━┳━━━━━━━━━━━━━━━━━━━━━━━━━━━┓\n",
       "┃\u001b[1m \u001b[0m\u001b[1m    Data     \u001b[0m\u001b[1m \u001b[0m┃\u001b[1m \u001b[0m\u001b[1m   scvi-tools Location   \u001b[0m\u001b[1m \u001b[0m┃\n",
       "┡━━━━━━━━━━━━━━━╇━━━━━━━━━━━━━━━━━━━━━━━━━━━┩\n",
       "│\u001b[38;5;33m \u001b[0m\u001b[38;5;33m      X      \u001b[0m\u001b[38;5;33m \u001b[0m│\u001b[38;5;128m \u001b[0m\u001b[38;5;128m         adata.X         \u001b[0m\u001b[38;5;128m \u001b[0m│\n",
       "│\u001b[38;5;33m \u001b[0m\u001b[38;5;33mbatch_indices\u001b[0m\u001b[38;5;33m \u001b[0m│\u001b[38;5;128m \u001b[0m\u001b[38;5;128madata.obs['_scvi_batch'] \u001b[0m\u001b[38;5;128m \u001b[0m│\n",
       "│\u001b[38;5;33m \u001b[0m\u001b[38;5;33m   labels    \u001b[0m\u001b[38;5;33m \u001b[0m│\u001b[38;5;128m \u001b[0m\u001b[38;5;128madata.obs['_scvi_labels']\u001b[0m\u001b[38;5;128m \u001b[0m│\n",
       "└───────────────┴───────────────────────────┘\n"
      ]
     },
     "metadata": {},
     "output_type": "display_data"
    },
    {
     "data": {
      "text/html": [
       "<pre style=\"white-space:pre;overflow-x:auto;line-height:normal;font-family:Menlo,'DejaVu Sans Mono',consolas,'Courier New',monospace\"><span style=\"font-style: italic\">                          Label Categories                          </span>\n",
       "┏━━━━━━━━━━━━━━━━━━━━━━━━━┳━━━━━━━━━━━━━━━━━━┳━━━━━━━━━━━━━━━━━━━━━┓\n",
       "┃<span style=\"font-weight: bold\">     Source Location     </span>┃<span style=\"font-weight: bold\">    Categories    </span>┃<span style=\"font-weight: bold\"> scvi-tools Encoding </span>┃\n",
       "┡━━━━━━━━━━━━━━━━━━━━━━━━━╇━━━━━━━━━━━━━━━━━━╇━━━━━━━━━━━━━━━━━━━━━┩\n",
       "│<span style=\"color: #0087ff; text-decoration-color: #0087ff\"> adata.obs['cell_state'] </span>│<span style=\"color: #008000; text-decoration-color: #008000\">      Adip1       </span>│<span style=\"color: #af00d7; text-decoration-color: #af00d7\">          0          </span>│\n",
       "│<span style=\"color: #0087ff; text-decoration-color: #0087ff\">                         </span>│<span style=\"color: #008000; text-decoration-color: #008000\">      Adip2       </span>│<span style=\"color: #af00d7; text-decoration-color: #af00d7\">          1          </span>│\n",
       "│<span style=\"color: #0087ff; text-decoration-color: #0087ff\">                         </span>│<span style=\"color: #008000; text-decoration-color: #008000\">        B         </span>│<span style=\"color: #af00d7; text-decoration-color: #af00d7\">          2          </span>│\n",
       "│<span style=\"color: #0087ff; text-decoration-color: #0087ff\">                         </span>│<span style=\"color: #008000; text-decoration-color: #008000\">     B_plasma     </span>│<span style=\"color: #af00d7; text-decoration-color: #af00d7\">          3          </span>│\n",
       "│<span style=\"color: #0087ff; text-decoration-color: #0087ff\">                         </span>│<span style=\"color: #008000; text-decoration-color: #008000\">     CD14+Mo      </span>│<span style=\"color: #af00d7; text-decoration-color: #af00d7\">          4          </span>│\n",
       "│<span style=\"color: #0087ff; text-decoration-color: #0087ff\">                         </span>│<span style=\"color: #008000; text-decoration-color: #008000\">     CD16+Mo      </span>│<span style=\"color: #af00d7; text-decoration-color: #af00d7\">          5          </span>│\n",
       "│<span style=\"color: #0087ff; text-decoration-color: #0087ff\">                         </span>│<span style=\"color: #008000; text-decoration-color: #008000\">    CD4+T_act     </span>│<span style=\"color: #af00d7; text-decoration-color: #af00d7\">          6          </span>│\n",
       "│<span style=\"color: #0087ff; text-decoration-color: #0087ff\">                         </span>│<span style=\"color: #008000; text-decoration-color: #008000\">   CD4+T_naive    </span>│<span style=\"color: #af00d7; text-decoration-color: #af00d7\">          7          </span>│\n",
       "│<span style=\"color: #0087ff; text-decoration-color: #0087ff\">                         </span>│<span style=\"color: #008000; text-decoration-color: #008000\">   CD8+T_cytox    </span>│<span style=\"color: #af00d7; text-decoration-color: #af00d7\">          8          </span>│\n",
       "│<span style=\"color: #0087ff; text-decoration-color: #0087ff\">                         </span>│<span style=\"color: #008000; text-decoration-color: #008000\">     CD8+T_em     </span>│<span style=\"color: #af00d7; text-decoration-color: #af00d7\">          9          </span>│\n",
       "│<span style=\"color: #0087ff; text-decoration-color: #0087ff\">                         </span>│<span style=\"color: #008000; text-decoration-color: #008000\">     CD8+T_te     </span>│<span style=\"color: #af00d7; text-decoration-color: #af00d7\">         10          </span>│\n",
       "│<span style=\"color: #0087ff; text-decoration-color: #0087ff\">                         </span>│<span style=\"color: #008000; text-decoration-color: #008000\">   CD8+T_trans    </span>│<span style=\"color: #af00d7; text-decoration-color: #af00d7\">         11          </span>│\n",
       "│<span style=\"color: #0087ff; text-decoration-color: #0087ff\">                         </span>│<span style=\"color: #008000; text-decoration-color: #008000\">        DC        </span>│<span style=\"color: #af00d7; text-decoration-color: #af00d7\">         12          </span>│\n",
       "│<span style=\"color: #0087ff; text-decoration-color: #0087ff\">                         </span>│<span style=\"color: #008000; text-decoration-color: #008000\">  EC10_CMC-like   </span>│<span style=\"color: #af00d7; text-decoration-color: #af00d7\">         13          </span>│\n",
       "│<span style=\"color: #0087ff; text-decoration-color: #0087ff\">                         </span>│<span style=\"color: #008000; text-decoration-color: #008000\">     EC1_cap      </span>│<span style=\"color: #af00d7; text-decoration-color: #af00d7\">         14          </span>│\n",
       "│<span style=\"color: #0087ff; text-decoration-color: #0087ff\">                         </span>│<span style=\"color: #008000; text-decoration-color: #008000\">     EC2_cap      </span>│<span style=\"color: #af00d7; text-decoration-color: #af00d7\">         15          </span>│\n",
       "│<span style=\"color: #0087ff; text-decoration-color: #0087ff\">                         </span>│<span style=\"color: #008000; text-decoration-color: #008000\">     EC3_cap      </span>│<span style=\"color: #af00d7; text-decoration-color: #af00d7\">         16          </span>│\n",
       "│<span style=\"color: #0087ff; text-decoration-color: #0087ff\">                         </span>│<span style=\"color: #008000; text-decoration-color: #008000\">    EC4_immune    </span>│<span style=\"color: #af00d7; text-decoration-color: #af00d7\">         17          </span>│\n",
       "│<span style=\"color: #0087ff; text-decoration-color: #0087ff\">                         </span>│<span style=\"color: #008000; text-decoration-color: #008000\">     EC5_art      </span>│<span style=\"color: #af00d7; text-decoration-color: #af00d7\">         18          </span>│\n",
       "│<span style=\"color: #0087ff; text-decoration-color: #0087ff\">                         </span>│<span style=\"color: #008000; text-decoration-color: #008000\">     EC6_ven      </span>│<span style=\"color: #af00d7; text-decoration-color: #af00d7\">         19          </span>│\n",
       "│<span style=\"color: #0087ff; text-decoration-color: #0087ff\">                         </span>│<span style=\"color: #008000; text-decoration-color: #008000\">    EC7_atria     </span>│<span style=\"color: #af00d7; text-decoration-color: #af00d7\">         20          </span>│\n",
       "│<span style=\"color: #0087ff; text-decoration-color: #0087ff\">                         </span>│<span style=\"color: #008000; text-decoration-color: #008000\">      EC8_ln      </span>│<span style=\"color: #af00d7; text-decoration-color: #af00d7\">         21          </span>│\n",
       "│<span style=\"color: #0087ff; text-decoration-color: #0087ff\">                         </span>│<span style=\"color: #008000; text-decoration-color: #008000\">       FB1        </span>│<span style=\"color: #af00d7; text-decoration-color: #af00d7\">         22          </span>│\n",
       "│<span style=\"color: #0087ff; text-decoration-color: #0087ff\">                         </span>│<span style=\"color: #008000; text-decoration-color: #008000\">       FB2        </span>│<span style=\"color: #af00d7; text-decoration-color: #af00d7\">         23          </span>│\n",
       "│<span style=\"color: #0087ff; text-decoration-color: #0087ff\">                         </span>│<span style=\"color: #008000; text-decoration-color: #008000\">       FB3        </span>│<span style=\"color: #af00d7; text-decoration-color: #af00d7\">         24          </span>│\n",
       "│<span style=\"color: #0087ff; text-decoration-color: #0087ff\">                         </span>│<span style=\"color: #008000; text-decoration-color: #008000\">       FB4        </span>│<span style=\"color: #af00d7; text-decoration-color: #af00d7\">         25          </span>│\n",
       "│<span style=\"color: #0087ff; text-decoration-color: #0087ff\">                         </span>│<span style=\"color: #008000; text-decoration-color: #008000\">       FB5        </span>│<span style=\"color: #af00d7; text-decoration-color: #af00d7\">         26          </span>│\n",
       "│<span style=\"color: #0087ff; text-decoration-color: #0087ff\">                         </span>│<span style=\"color: #008000; text-decoration-color: #008000\">       FB6        </span>│<span style=\"color: #af00d7; text-decoration-color: #af00d7\">         27          </span>│\n",
       "│<span style=\"color: #0087ff; text-decoration-color: #0087ff\">                         </span>│<span style=\"color: #008000; text-decoration-color: #008000\">       ILC        </span>│<span style=\"color: #af00d7; text-decoration-color: #af00d7\">         28          </span>│\n",
       "│<span style=\"color: #0087ff; text-decoration-color: #0087ff\">                         </span>│<span style=\"color: #008000; text-decoration-color: #008000\">  LYVE1+IGF1+MP   </span>│<span style=\"color: #af00d7; text-decoration-color: #af00d7\">         29          </span>│\n",
       "│<span style=\"color: #0087ff; text-decoration-color: #0087ff\">                         </span>│<span style=\"color: #008000; text-decoration-color: #008000\"> LYVE1+MP_cycling </span>│<span style=\"color: #af00d7; text-decoration-color: #af00d7\">         30          </span>│\n",
       "│<span style=\"color: #0087ff; text-decoration-color: #0087ff\">                         </span>│<span style=\"color: #008000; text-decoration-color: #008000\">  LYVE1+TIMD4+MP  </span>│<span style=\"color: #af00d7; text-decoration-color: #af00d7\">         31          </span>│\n",
       "│<span style=\"color: #0087ff; text-decoration-color: #0087ff\">                         </span>│<span style=\"color: #008000; text-decoration-color: #008000\">    MAIT-like     </span>│<span style=\"color: #af00d7; text-decoration-color: #af00d7\">         32          </span>│\n",
       "│<span style=\"color: #0087ff; text-decoration-color: #0087ff\">                         </span>│<span style=\"color: #008000; text-decoration-color: #008000\">       Mast       </span>│<span style=\"color: #af00d7; text-decoration-color: #af00d7\">         33          </span>│\n",
       "│<span style=\"color: #0087ff; text-decoration-color: #0087ff\">                         </span>│<span style=\"color: #008000; text-decoration-color: #008000\">       MoMP       </span>│<span style=\"color: #af00d7; text-decoration-color: #af00d7\">         34          </span>│\n",
       "│<span style=\"color: #0087ff; text-decoration-color: #0087ff\">                         </span>│<span style=\"color: #008000; text-decoration-color: #008000\">       NC1        </span>│<span style=\"color: #af00d7; text-decoration-color: #af00d7\">         35          </span>│\n",
       "│<span style=\"color: #0087ff; text-decoration-color: #0087ff\">                         </span>│<span style=\"color: #008000; text-decoration-color: #008000\">       NC2        </span>│<span style=\"color: #af00d7; text-decoration-color: #af00d7\">         36          </span>│\n",
       "│<span style=\"color: #0087ff; text-decoration-color: #0087ff\">                         </span>│<span style=\"color: #008000; text-decoration-color: #008000\">    NK_CD16hi     </span>│<span style=\"color: #af00d7; text-decoration-color: #af00d7\">         37          </span>│\n",
       "│<span style=\"color: #0087ff; text-decoration-color: #0087ff\">                         </span>│<span style=\"color: #008000; text-decoration-color: #008000\">    NK_CD56hi     </span>│<span style=\"color: #af00d7; text-decoration-color: #af00d7\">         38          </span>│\n",
       "│<span style=\"color: #0087ff; text-decoration-color: #0087ff\">                         </span>│<span style=\"color: #008000; text-decoration-color: #008000\">       Neut       </span>│<span style=\"color: #af00d7; text-decoration-color: #af00d7\">         39          </span>│\n",
       "│<span style=\"color: #0087ff; text-decoration-color: #0087ff\">                         </span>│<span style=\"color: #008000; text-decoration-color: #008000\">    PC2_atria     </span>│<span style=\"color: #af00d7; text-decoration-color: #af00d7\">         40          </span>│\n",
       "│<span style=\"color: #0087ff; text-decoration-color: #0087ff\">                         </span>│<span style=\"color: #008000; text-decoration-color: #008000\">     PC3_str      </span>│<span style=\"color: #af00d7; text-decoration-color: #af00d7\">         41          </span>│\n",
       "│<span style=\"color: #0087ff; text-decoration-color: #0087ff\">                         </span>│<span style=\"color: #008000; text-decoration-color: #008000\">    SAN_P_cell    </span>│<span style=\"color: #af00d7; text-decoration-color: #af00d7\">         42          </span>│\n",
       "│<span style=\"color: #0087ff; text-decoration-color: #0087ff\">                         </span>│<span style=\"color: #008000; text-decoration-color: #008000\">    SMC1_basic    </span>│<span style=\"color: #af00d7; text-decoration-color: #af00d7\">         43          </span>│\n",
       "│<span style=\"color: #0087ff; text-decoration-color: #0087ff\">                         </span>│<span style=\"color: #008000; text-decoration-color: #008000\">     SMC2_art     </span>│<span style=\"color: #af00d7; text-decoration-color: #af00d7\">         44          </span>│\n",
       "│<span style=\"color: #0087ff; text-decoration-color: #0087ff\">                         </span>│<span style=\"color: #008000; text-decoration-color: #008000\">       aCM1       </span>│<span style=\"color: #af00d7; text-decoration-color: #af00d7\">         45          </span>│\n",
       "│<span style=\"color: #0087ff; text-decoration-color: #0087ff\">                         </span>│<span style=\"color: #008000; text-decoration-color: #008000\">       aCM2       </span>│<span style=\"color: #af00d7; text-decoration-color: #af00d7\">         46          </span>│\n",
       "│<span style=\"color: #0087ff; text-decoration-color: #0087ff\">                         </span>│<span style=\"color: #008000; text-decoration-color: #008000\">       aCM3       </span>│<span style=\"color: #af00d7; text-decoration-color: #af00d7\">         47          </span>│\n",
       "│<span style=\"color: #0087ff; text-decoration-color: #0087ff\">                         </span>│<span style=\"color: #008000; text-decoration-color: #008000\">       aCM4       </span>│<span style=\"color: #af00d7; text-decoration-color: #af00d7\">         48          </span>│\n",
       "└─────────────────────────┴──────────────────┴─────────────────────┘\n",
       "</pre>\n"
      ],
      "text/plain": [
       "\u001b[3m                          Label Categories                          \u001b[0m\n",
       "┏━━━━━━━━━━━━━━━━━━━━━━━━━┳━━━━━━━━━━━━━━━━━━┳━━━━━━━━━━━━━━━━━━━━━┓\n",
       "┃\u001b[1m \u001b[0m\u001b[1m    Source Location    \u001b[0m\u001b[1m \u001b[0m┃\u001b[1m \u001b[0m\u001b[1m   Categories   \u001b[0m\u001b[1m \u001b[0m┃\u001b[1m \u001b[0m\u001b[1mscvi-tools Encoding\u001b[0m\u001b[1m \u001b[0m┃\n",
       "┡━━━━━━━━━━━━━━━━━━━━━━━━━╇━━━━━━━━━━━━━━━━━━╇━━━━━━━━━━━━━━━━━━━━━┩\n",
       "│\u001b[38;5;33m \u001b[0m\u001b[38;5;33madata.obs['cell_state']\u001b[0m\u001b[38;5;33m \u001b[0m│\u001b[32m \u001b[0m\u001b[32m     Adip1      \u001b[0m\u001b[32m \u001b[0m│\u001b[38;5;128m \u001b[0m\u001b[38;5;128m         0         \u001b[0m\u001b[38;5;128m \u001b[0m│\n",
       "│\u001b[38;5;33m \u001b[0m\u001b[38;5;33m                       \u001b[0m\u001b[38;5;33m \u001b[0m│\u001b[32m \u001b[0m\u001b[32m     Adip2      \u001b[0m\u001b[32m \u001b[0m│\u001b[38;5;128m \u001b[0m\u001b[38;5;128m         1         \u001b[0m\u001b[38;5;128m \u001b[0m│\n",
       "│\u001b[38;5;33m \u001b[0m\u001b[38;5;33m                       \u001b[0m\u001b[38;5;33m \u001b[0m│\u001b[32m \u001b[0m\u001b[32m       B        \u001b[0m\u001b[32m \u001b[0m│\u001b[38;5;128m \u001b[0m\u001b[38;5;128m         2         \u001b[0m\u001b[38;5;128m \u001b[0m│\n",
       "│\u001b[38;5;33m \u001b[0m\u001b[38;5;33m                       \u001b[0m\u001b[38;5;33m \u001b[0m│\u001b[32m \u001b[0m\u001b[32m    B_plasma    \u001b[0m\u001b[32m \u001b[0m│\u001b[38;5;128m \u001b[0m\u001b[38;5;128m         3         \u001b[0m\u001b[38;5;128m \u001b[0m│\n",
       "│\u001b[38;5;33m \u001b[0m\u001b[38;5;33m                       \u001b[0m\u001b[38;5;33m \u001b[0m│\u001b[32m \u001b[0m\u001b[32m    CD14+Mo     \u001b[0m\u001b[32m \u001b[0m│\u001b[38;5;128m \u001b[0m\u001b[38;5;128m         4         \u001b[0m\u001b[38;5;128m \u001b[0m│\n",
       "│\u001b[38;5;33m \u001b[0m\u001b[38;5;33m                       \u001b[0m\u001b[38;5;33m \u001b[0m│\u001b[32m \u001b[0m\u001b[32m    CD16+Mo     \u001b[0m\u001b[32m \u001b[0m│\u001b[38;5;128m \u001b[0m\u001b[38;5;128m         5         \u001b[0m\u001b[38;5;128m \u001b[0m│\n",
       "│\u001b[38;5;33m \u001b[0m\u001b[38;5;33m                       \u001b[0m\u001b[38;5;33m \u001b[0m│\u001b[32m \u001b[0m\u001b[32m   CD4+T_act    \u001b[0m\u001b[32m \u001b[0m│\u001b[38;5;128m \u001b[0m\u001b[38;5;128m         6         \u001b[0m\u001b[38;5;128m \u001b[0m│\n",
       "│\u001b[38;5;33m \u001b[0m\u001b[38;5;33m                       \u001b[0m\u001b[38;5;33m \u001b[0m│\u001b[32m \u001b[0m\u001b[32m  CD4+T_naive   \u001b[0m\u001b[32m \u001b[0m│\u001b[38;5;128m \u001b[0m\u001b[38;5;128m         7         \u001b[0m\u001b[38;5;128m \u001b[0m│\n",
       "│\u001b[38;5;33m \u001b[0m\u001b[38;5;33m                       \u001b[0m\u001b[38;5;33m \u001b[0m│\u001b[32m \u001b[0m\u001b[32m  CD8+T_cytox   \u001b[0m\u001b[32m \u001b[0m│\u001b[38;5;128m \u001b[0m\u001b[38;5;128m         8         \u001b[0m\u001b[38;5;128m \u001b[0m│\n",
       "│\u001b[38;5;33m \u001b[0m\u001b[38;5;33m                       \u001b[0m\u001b[38;5;33m \u001b[0m│\u001b[32m \u001b[0m\u001b[32m    CD8+T_em    \u001b[0m\u001b[32m \u001b[0m│\u001b[38;5;128m \u001b[0m\u001b[38;5;128m         9         \u001b[0m\u001b[38;5;128m \u001b[0m│\n",
       "│\u001b[38;5;33m \u001b[0m\u001b[38;5;33m                       \u001b[0m\u001b[38;5;33m \u001b[0m│\u001b[32m \u001b[0m\u001b[32m    CD8+T_te    \u001b[0m\u001b[32m \u001b[0m│\u001b[38;5;128m \u001b[0m\u001b[38;5;128m        10         \u001b[0m\u001b[38;5;128m \u001b[0m│\n",
       "│\u001b[38;5;33m \u001b[0m\u001b[38;5;33m                       \u001b[0m\u001b[38;5;33m \u001b[0m│\u001b[32m \u001b[0m\u001b[32m  CD8+T_trans   \u001b[0m\u001b[32m \u001b[0m│\u001b[38;5;128m \u001b[0m\u001b[38;5;128m        11         \u001b[0m\u001b[38;5;128m \u001b[0m│\n",
       "│\u001b[38;5;33m \u001b[0m\u001b[38;5;33m                       \u001b[0m\u001b[38;5;33m \u001b[0m│\u001b[32m \u001b[0m\u001b[32m       DC       \u001b[0m\u001b[32m \u001b[0m│\u001b[38;5;128m \u001b[0m\u001b[38;5;128m        12         \u001b[0m\u001b[38;5;128m \u001b[0m│\n",
       "│\u001b[38;5;33m \u001b[0m\u001b[38;5;33m                       \u001b[0m\u001b[38;5;33m \u001b[0m│\u001b[32m \u001b[0m\u001b[32m EC10_CMC-like  \u001b[0m\u001b[32m \u001b[0m│\u001b[38;5;128m \u001b[0m\u001b[38;5;128m        13         \u001b[0m\u001b[38;5;128m \u001b[0m│\n",
       "│\u001b[38;5;33m \u001b[0m\u001b[38;5;33m                       \u001b[0m\u001b[38;5;33m \u001b[0m│\u001b[32m \u001b[0m\u001b[32m    EC1_cap     \u001b[0m\u001b[32m \u001b[0m│\u001b[38;5;128m \u001b[0m\u001b[38;5;128m        14         \u001b[0m\u001b[38;5;128m \u001b[0m│\n",
       "│\u001b[38;5;33m \u001b[0m\u001b[38;5;33m                       \u001b[0m\u001b[38;5;33m \u001b[0m│\u001b[32m \u001b[0m\u001b[32m    EC2_cap     \u001b[0m\u001b[32m \u001b[0m│\u001b[38;5;128m \u001b[0m\u001b[38;5;128m        15         \u001b[0m\u001b[38;5;128m \u001b[0m│\n",
       "│\u001b[38;5;33m \u001b[0m\u001b[38;5;33m                       \u001b[0m\u001b[38;5;33m \u001b[0m│\u001b[32m \u001b[0m\u001b[32m    EC3_cap     \u001b[0m\u001b[32m \u001b[0m│\u001b[38;5;128m \u001b[0m\u001b[38;5;128m        16         \u001b[0m\u001b[38;5;128m \u001b[0m│\n",
       "│\u001b[38;5;33m \u001b[0m\u001b[38;5;33m                       \u001b[0m\u001b[38;5;33m \u001b[0m│\u001b[32m \u001b[0m\u001b[32m   EC4_immune   \u001b[0m\u001b[32m \u001b[0m│\u001b[38;5;128m \u001b[0m\u001b[38;5;128m        17         \u001b[0m\u001b[38;5;128m \u001b[0m│\n",
       "│\u001b[38;5;33m \u001b[0m\u001b[38;5;33m                       \u001b[0m\u001b[38;5;33m \u001b[0m│\u001b[32m \u001b[0m\u001b[32m    EC5_art     \u001b[0m\u001b[32m \u001b[0m│\u001b[38;5;128m \u001b[0m\u001b[38;5;128m        18         \u001b[0m\u001b[38;5;128m \u001b[0m│\n",
       "│\u001b[38;5;33m \u001b[0m\u001b[38;5;33m                       \u001b[0m\u001b[38;5;33m \u001b[0m│\u001b[32m \u001b[0m\u001b[32m    EC6_ven     \u001b[0m\u001b[32m \u001b[0m│\u001b[38;5;128m \u001b[0m\u001b[38;5;128m        19         \u001b[0m\u001b[38;5;128m \u001b[0m│\n",
       "│\u001b[38;5;33m \u001b[0m\u001b[38;5;33m                       \u001b[0m\u001b[38;5;33m \u001b[0m│\u001b[32m \u001b[0m\u001b[32m   EC7_atria    \u001b[0m\u001b[32m \u001b[0m│\u001b[38;5;128m \u001b[0m\u001b[38;5;128m        20         \u001b[0m\u001b[38;5;128m \u001b[0m│\n",
       "│\u001b[38;5;33m \u001b[0m\u001b[38;5;33m                       \u001b[0m\u001b[38;5;33m \u001b[0m│\u001b[32m \u001b[0m\u001b[32m     EC8_ln     \u001b[0m\u001b[32m \u001b[0m│\u001b[38;5;128m \u001b[0m\u001b[38;5;128m        21         \u001b[0m\u001b[38;5;128m \u001b[0m│\n",
       "│\u001b[38;5;33m \u001b[0m\u001b[38;5;33m                       \u001b[0m\u001b[38;5;33m \u001b[0m│\u001b[32m \u001b[0m\u001b[32m      FB1       \u001b[0m\u001b[32m \u001b[0m│\u001b[38;5;128m \u001b[0m\u001b[38;5;128m        22         \u001b[0m\u001b[38;5;128m \u001b[0m│\n",
       "│\u001b[38;5;33m \u001b[0m\u001b[38;5;33m                       \u001b[0m\u001b[38;5;33m \u001b[0m│\u001b[32m \u001b[0m\u001b[32m      FB2       \u001b[0m\u001b[32m \u001b[0m│\u001b[38;5;128m \u001b[0m\u001b[38;5;128m        23         \u001b[0m\u001b[38;5;128m \u001b[0m│\n",
       "│\u001b[38;5;33m \u001b[0m\u001b[38;5;33m                       \u001b[0m\u001b[38;5;33m \u001b[0m│\u001b[32m \u001b[0m\u001b[32m      FB3       \u001b[0m\u001b[32m \u001b[0m│\u001b[38;5;128m \u001b[0m\u001b[38;5;128m        24         \u001b[0m\u001b[38;5;128m \u001b[0m│\n",
       "│\u001b[38;5;33m \u001b[0m\u001b[38;5;33m                       \u001b[0m\u001b[38;5;33m \u001b[0m│\u001b[32m \u001b[0m\u001b[32m      FB4       \u001b[0m\u001b[32m \u001b[0m│\u001b[38;5;128m \u001b[0m\u001b[38;5;128m        25         \u001b[0m\u001b[38;5;128m \u001b[0m│\n",
       "│\u001b[38;5;33m \u001b[0m\u001b[38;5;33m                       \u001b[0m\u001b[38;5;33m \u001b[0m│\u001b[32m \u001b[0m\u001b[32m      FB5       \u001b[0m\u001b[32m \u001b[0m│\u001b[38;5;128m \u001b[0m\u001b[38;5;128m        26         \u001b[0m\u001b[38;5;128m \u001b[0m│\n",
       "│\u001b[38;5;33m \u001b[0m\u001b[38;5;33m                       \u001b[0m\u001b[38;5;33m \u001b[0m│\u001b[32m \u001b[0m\u001b[32m      FB6       \u001b[0m\u001b[32m \u001b[0m│\u001b[38;5;128m \u001b[0m\u001b[38;5;128m        27         \u001b[0m\u001b[38;5;128m \u001b[0m│\n",
       "│\u001b[38;5;33m \u001b[0m\u001b[38;5;33m                       \u001b[0m\u001b[38;5;33m \u001b[0m│\u001b[32m \u001b[0m\u001b[32m      ILC       \u001b[0m\u001b[32m \u001b[0m│\u001b[38;5;128m \u001b[0m\u001b[38;5;128m        28         \u001b[0m\u001b[38;5;128m \u001b[0m│\n",
       "│\u001b[38;5;33m \u001b[0m\u001b[38;5;33m                       \u001b[0m\u001b[38;5;33m \u001b[0m│\u001b[32m \u001b[0m\u001b[32m LYVE1+IGF1+MP  \u001b[0m\u001b[32m \u001b[0m│\u001b[38;5;128m \u001b[0m\u001b[38;5;128m        29         \u001b[0m\u001b[38;5;128m \u001b[0m│\n",
       "│\u001b[38;5;33m \u001b[0m\u001b[38;5;33m                       \u001b[0m\u001b[38;5;33m \u001b[0m│\u001b[32m \u001b[0m\u001b[32mLYVE1+MP_cycling\u001b[0m\u001b[32m \u001b[0m│\u001b[38;5;128m \u001b[0m\u001b[38;5;128m        30         \u001b[0m\u001b[38;5;128m \u001b[0m│\n",
       "│\u001b[38;5;33m \u001b[0m\u001b[38;5;33m                       \u001b[0m\u001b[38;5;33m \u001b[0m│\u001b[32m \u001b[0m\u001b[32m LYVE1+TIMD4+MP \u001b[0m\u001b[32m \u001b[0m│\u001b[38;5;128m \u001b[0m\u001b[38;5;128m        31         \u001b[0m\u001b[38;5;128m \u001b[0m│\n",
       "│\u001b[38;5;33m \u001b[0m\u001b[38;5;33m                       \u001b[0m\u001b[38;5;33m \u001b[0m│\u001b[32m \u001b[0m\u001b[32m   MAIT-like    \u001b[0m\u001b[32m \u001b[0m│\u001b[38;5;128m \u001b[0m\u001b[38;5;128m        32         \u001b[0m\u001b[38;5;128m \u001b[0m│\n",
       "│\u001b[38;5;33m \u001b[0m\u001b[38;5;33m                       \u001b[0m\u001b[38;5;33m \u001b[0m│\u001b[32m \u001b[0m\u001b[32m      Mast      \u001b[0m\u001b[32m \u001b[0m│\u001b[38;5;128m \u001b[0m\u001b[38;5;128m        33         \u001b[0m\u001b[38;5;128m \u001b[0m│\n",
       "│\u001b[38;5;33m \u001b[0m\u001b[38;5;33m                       \u001b[0m\u001b[38;5;33m \u001b[0m│\u001b[32m \u001b[0m\u001b[32m      MoMP      \u001b[0m\u001b[32m \u001b[0m│\u001b[38;5;128m \u001b[0m\u001b[38;5;128m        34         \u001b[0m\u001b[38;5;128m \u001b[0m│\n",
       "│\u001b[38;5;33m \u001b[0m\u001b[38;5;33m                       \u001b[0m\u001b[38;5;33m \u001b[0m│\u001b[32m \u001b[0m\u001b[32m      NC1       \u001b[0m\u001b[32m \u001b[0m│\u001b[38;5;128m \u001b[0m\u001b[38;5;128m        35         \u001b[0m\u001b[38;5;128m \u001b[0m│\n",
       "│\u001b[38;5;33m \u001b[0m\u001b[38;5;33m                       \u001b[0m\u001b[38;5;33m \u001b[0m│\u001b[32m \u001b[0m\u001b[32m      NC2       \u001b[0m\u001b[32m \u001b[0m│\u001b[38;5;128m \u001b[0m\u001b[38;5;128m        36         \u001b[0m\u001b[38;5;128m \u001b[0m│\n",
       "│\u001b[38;5;33m \u001b[0m\u001b[38;5;33m                       \u001b[0m\u001b[38;5;33m \u001b[0m│\u001b[32m \u001b[0m\u001b[32m   NK_CD16hi    \u001b[0m\u001b[32m \u001b[0m│\u001b[38;5;128m \u001b[0m\u001b[38;5;128m        37         \u001b[0m\u001b[38;5;128m \u001b[0m│\n",
       "│\u001b[38;5;33m \u001b[0m\u001b[38;5;33m                       \u001b[0m\u001b[38;5;33m \u001b[0m│\u001b[32m \u001b[0m\u001b[32m   NK_CD56hi    \u001b[0m\u001b[32m \u001b[0m│\u001b[38;5;128m \u001b[0m\u001b[38;5;128m        38         \u001b[0m\u001b[38;5;128m \u001b[0m│\n",
       "│\u001b[38;5;33m \u001b[0m\u001b[38;5;33m                       \u001b[0m\u001b[38;5;33m \u001b[0m│\u001b[32m \u001b[0m\u001b[32m      Neut      \u001b[0m\u001b[32m \u001b[0m│\u001b[38;5;128m \u001b[0m\u001b[38;5;128m        39         \u001b[0m\u001b[38;5;128m \u001b[0m│\n",
       "│\u001b[38;5;33m \u001b[0m\u001b[38;5;33m                       \u001b[0m\u001b[38;5;33m \u001b[0m│\u001b[32m \u001b[0m\u001b[32m   PC2_atria    \u001b[0m\u001b[32m \u001b[0m│\u001b[38;5;128m \u001b[0m\u001b[38;5;128m        40         \u001b[0m\u001b[38;5;128m \u001b[0m│\n",
       "│\u001b[38;5;33m \u001b[0m\u001b[38;5;33m                       \u001b[0m\u001b[38;5;33m \u001b[0m│\u001b[32m \u001b[0m\u001b[32m    PC3_str     \u001b[0m\u001b[32m \u001b[0m│\u001b[38;5;128m \u001b[0m\u001b[38;5;128m        41         \u001b[0m\u001b[38;5;128m \u001b[0m│\n",
       "│\u001b[38;5;33m \u001b[0m\u001b[38;5;33m                       \u001b[0m\u001b[38;5;33m \u001b[0m│\u001b[32m \u001b[0m\u001b[32m   SAN_P_cell   \u001b[0m\u001b[32m \u001b[0m│\u001b[38;5;128m \u001b[0m\u001b[38;5;128m        42         \u001b[0m\u001b[38;5;128m \u001b[0m│\n",
       "│\u001b[38;5;33m \u001b[0m\u001b[38;5;33m                       \u001b[0m\u001b[38;5;33m \u001b[0m│\u001b[32m \u001b[0m\u001b[32m   SMC1_basic   \u001b[0m\u001b[32m \u001b[0m│\u001b[38;5;128m \u001b[0m\u001b[38;5;128m        43         \u001b[0m\u001b[38;5;128m \u001b[0m│\n",
       "│\u001b[38;5;33m \u001b[0m\u001b[38;5;33m                       \u001b[0m\u001b[38;5;33m \u001b[0m│\u001b[32m \u001b[0m\u001b[32m    SMC2_art    \u001b[0m\u001b[32m \u001b[0m│\u001b[38;5;128m \u001b[0m\u001b[38;5;128m        44         \u001b[0m\u001b[38;5;128m \u001b[0m│\n",
       "│\u001b[38;5;33m \u001b[0m\u001b[38;5;33m                       \u001b[0m\u001b[38;5;33m \u001b[0m│\u001b[32m \u001b[0m\u001b[32m      aCM1      \u001b[0m\u001b[32m \u001b[0m│\u001b[38;5;128m \u001b[0m\u001b[38;5;128m        45         \u001b[0m\u001b[38;5;128m \u001b[0m│\n",
       "│\u001b[38;5;33m \u001b[0m\u001b[38;5;33m                       \u001b[0m\u001b[38;5;33m \u001b[0m│\u001b[32m \u001b[0m\u001b[32m      aCM2      \u001b[0m\u001b[32m \u001b[0m│\u001b[38;5;128m \u001b[0m\u001b[38;5;128m        46         \u001b[0m\u001b[38;5;128m \u001b[0m│\n",
       "│\u001b[38;5;33m \u001b[0m\u001b[38;5;33m                       \u001b[0m\u001b[38;5;33m \u001b[0m│\u001b[32m \u001b[0m\u001b[32m      aCM3      \u001b[0m\u001b[32m \u001b[0m│\u001b[38;5;128m \u001b[0m\u001b[38;5;128m        47         \u001b[0m\u001b[38;5;128m \u001b[0m│\n",
       "│\u001b[38;5;33m \u001b[0m\u001b[38;5;33m                       \u001b[0m\u001b[38;5;33m \u001b[0m│\u001b[32m \u001b[0m\u001b[32m      aCM4      \u001b[0m\u001b[32m \u001b[0m│\u001b[38;5;128m \u001b[0m\u001b[38;5;128m        48         \u001b[0m\u001b[38;5;128m \u001b[0m│\n",
       "└─────────────────────────┴──────────────────┴─────────────────────┘\n"
      ]
     },
     "metadata": {},
     "output_type": "display_data"
    },
    {
     "data": {
      "text/html": [
       "<pre style=\"white-space:pre;overflow-x:auto;line-height:normal;font-family:Menlo,'DejaVu Sans Mono',consolas,'Courier New',monospace\"><span style=\"font-style: italic\">                            Batch Categories                             </span>\n",
       "┏━━━━━━━━━━━━━━━━━━━━━━━━┳━━━━━━━━━━━━━━━━━━━━━━━━┳━━━━━━━━━━━━━━━━━━━━━┓\n",
       "┃<span style=\"font-weight: bold\">    Source Location     </span>┃<span style=\"font-weight: bold\">       Categories       </span>┃<span style=\"font-weight: bold\"> scvi-tools Encoding </span>┃\n",
       "┡━━━━━━━━━━━━━━━━━━━━━━━━╇━━━━━━━━━━━━━━━━━━━━━━━━╇━━━━━━━━━━━━━━━━━━━━━┩\n",
       "│<span style=\"color: #0087ff; text-decoration-color: #0087ff\"> adata.obs['batch_key'] </span>│<span style=\"color: #008000; text-decoration-color: #008000\"> A61_Nuclei_Multiome-v1 </span>│<span style=\"color: #af00d7; text-decoration-color: #af00d7\">          0          </span>│\n",
       "│<span style=\"color: #0087ff; text-decoration-color: #0087ff\">                        </span>│<span style=\"color: #008000; text-decoration-color: #008000\"> AH1_Nuclei_Multiome-v1 </span>│<span style=\"color: #af00d7; text-decoration-color: #af00d7\">          1          </span>│\n",
       "│<span style=\"color: #0087ff; text-decoration-color: #0087ff\">                        </span>│<span style=\"color: #008000; text-decoration-color: #008000\">   D11_Cell_3prime-v3   </span>│<span style=\"color: #af00d7; text-decoration-color: #af00d7\">          2          </span>│\n",
       "│<span style=\"color: #0087ff; text-decoration-color: #0087ff\">                        </span>│<span style=\"color: #008000; text-decoration-color: #008000\">  D11_Nuclei_3prime-v3  </span>│<span style=\"color: #af00d7; text-decoration-color: #af00d7\">          3          </span>│\n",
       "│<span style=\"color: #0087ff; text-decoration-color: #0087ff\">                        </span>│<span style=\"color: #008000; text-decoration-color: #008000\">   D1_Cell_3prime-v2    </span>│<span style=\"color: #af00d7; text-decoration-color: #af00d7\">          4          </span>│\n",
       "│<span style=\"color: #0087ff; text-decoration-color: #0087ff\">                        </span>│<span style=\"color: #008000; text-decoration-color: #008000\">  D1_Nuclei_3prime-v2   </span>│<span style=\"color: #af00d7; text-decoration-color: #af00d7\">          5          </span>│\n",
       "│<span style=\"color: #0087ff; text-decoration-color: #0087ff\">                        </span>│<span style=\"color: #008000; text-decoration-color: #008000\">  D2_Nuclei_3prime-v2   </span>│<span style=\"color: #af00d7; text-decoration-color: #af00d7\">          6          </span>│\n",
       "│<span style=\"color: #0087ff; text-decoration-color: #0087ff\">                        </span>│<span style=\"color: #008000; text-decoration-color: #008000\">   D3_Cell_3prime-v2    </span>│<span style=\"color: #af00d7; text-decoration-color: #af00d7\">          7          </span>│\n",
       "│<span style=\"color: #0087ff; text-decoration-color: #0087ff\">                        </span>│<span style=\"color: #008000; text-decoration-color: #008000\">  D3_Nuclei_3prime-v2   </span>│<span style=\"color: #af00d7; text-decoration-color: #af00d7\">          8          </span>│\n",
       "│<span style=\"color: #0087ff; text-decoration-color: #0087ff\">                        </span>│<span style=\"color: #008000; text-decoration-color: #008000\"> D3_Nuclei_Multiome-v1  </span>│<span style=\"color: #af00d7; text-decoration-color: #af00d7\">          9          </span>│\n",
       "│<span style=\"color: #0087ff; text-decoration-color: #0087ff\">                        </span>│<span style=\"color: #008000; text-decoration-color: #008000\">   D4_Cell_3prime-v2    </span>│<span style=\"color: #af00d7; text-decoration-color: #af00d7\">         10          </span>│\n",
       "│<span style=\"color: #0087ff; text-decoration-color: #0087ff\">                        </span>│<span style=\"color: #008000; text-decoration-color: #008000\">  D4_Nuclei_3prime-v2   </span>│<span style=\"color: #af00d7; text-decoration-color: #af00d7\">         11          </span>│\n",
       "│<span style=\"color: #0087ff; text-decoration-color: #0087ff\">                        </span>│<span style=\"color: #008000; text-decoration-color: #008000\">   D5_Cell_3prime-v2    </span>│<span style=\"color: #af00d7; text-decoration-color: #af00d7\">         12          </span>│\n",
       "│<span style=\"color: #0087ff; text-decoration-color: #0087ff\">                        </span>│<span style=\"color: #008000; text-decoration-color: #008000\">  D5_Nuclei_3prime-v2   </span>│<span style=\"color: #af00d7; text-decoration-color: #af00d7\">         13          </span>│\n",
       "│<span style=\"color: #0087ff; text-decoration-color: #0087ff\">                        </span>│<span style=\"color: #008000; text-decoration-color: #008000\">   D6_Cell_3prime-v2    </span>│<span style=\"color: #af00d7; text-decoration-color: #af00d7\">         14          </span>│\n",
       "│<span style=\"color: #0087ff; text-decoration-color: #0087ff\">                        </span>│<span style=\"color: #008000; text-decoration-color: #008000\">   D6_Cell_3prime-v3    </span>│<span style=\"color: #af00d7; text-decoration-color: #af00d7\">         15          </span>│\n",
       "│<span style=\"color: #0087ff; text-decoration-color: #0087ff\">                        </span>│<span style=\"color: #008000; text-decoration-color: #008000\">  D6_Nuclei_3prime-v2   </span>│<span style=\"color: #af00d7; text-decoration-color: #af00d7\">         16          </span>│\n",
       "│<span style=\"color: #0087ff; text-decoration-color: #0087ff\">                        </span>│<span style=\"color: #008000; text-decoration-color: #008000\">   D7_Cell_3prime-v2    </span>│<span style=\"color: #af00d7; text-decoration-color: #af00d7\">         17          </span>│\n",
       "│<span style=\"color: #0087ff; text-decoration-color: #0087ff\">                        </span>│<span style=\"color: #008000; text-decoration-color: #008000\">  D7_Nuclei_3prime-v2   </span>│<span style=\"color: #af00d7; text-decoration-color: #af00d7\">         18          </span>│\n",
       "│<span style=\"color: #0087ff; text-decoration-color: #0087ff\">                        </span>│<span style=\"color: #008000; text-decoration-color: #008000\"> D7_Nuclei_Multiome-v1  </span>│<span style=\"color: #af00d7; text-decoration-color: #af00d7\">         19          </span>│\n",
       "│<span style=\"color: #0087ff; text-decoration-color: #0087ff\">                        </span>│<span style=\"color: #008000; text-decoration-color: #008000\"> D8_Nuclei_Multiome-v1  </span>│<span style=\"color: #af00d7; text-decoration-color: #af00d7\">         20          </span>│\n",
       "│<span style=\"color: #0087ff; text-decoration-color: #0087ff\">                        </span>│<span style=\"color: #008000; text-decoration-color: #008000\">  H2_Nuclei_3prime-v3   </span>│<span style=\"color: #af00d7; text-decoration-color: #af00d7\">         21          </span>│\n",
       "│<span style=\"color: #0087ff; text-decoration-color: #0087ff\">                        </span>│<span style=\"color: #008000; text-decoration-color: #008000\">  H3_Nuclei_3prime-v3   </span>│<span style=\"color: #af00d7; text-decoration-color: #af00d7\">         22          </span>│\n",
       "│<span style=\"color: #0087ff; text-decoration-color: #0087ff\">                        </span>│<span style=\"color: #008000; text-decoration-color: #008000\">  H4_Nuclei_3prime-v3   </span>│<span style=\"color: #af00d7; text-decoration-color: #af00d7\">         23          </span>│\n",
       "│<span style=\"color: #0087ff; text-decoration-color: #0087ff\">                        </span>│<span style=\"color: #008000; text-decoration-color: #008000\">  H5_Nuclei_3prime-v3   </span>│<span style=\"color: #af00d7; text-decoration-color: #af00d7\">         24          </span>│\n",
       "│<span style=\"color: #0087ff; text-decoration-color: #0087ff\">                        </span>│<span style=\"color: #008000; text-decoration-color: #008000\">  H6_Nuclei_3prime-v3   </span>│<span style=\"color: #af00d7; text-decoration-color: #af00d7\">         25          </span>│\n",
       "│<span style=\"color: #0087ff; text-decoration-color: #0087ff\">                        </span>│<span style=\"color: #008000; text-decoration-color: #008000\">  H7_Nuclei_3prime-v3   </span>│<span style=\"color: #af00d7; text-decoration-color: #af00d7\">         26          </span>│\n",
       "└────────────────────────┴────────────────────────┴─────────────────────┘\n",
       "</pre>\n"
      ],
      "text/plain": [
       "\u001b[3m                            Batch Categories                             \u001b[0m\n",
       "┏━━━━━━━━━━━━━━━━━━━━━━━━┳━━━━━━━━━━━━━━━━━━━━━━━━┳━━━━━━━━━━━━━━━━━━━━━┓\n",
       "┃\u001b[1m \u001b[0m\u001b[1m   Source Location    \u001b[0m\u001b[1m \u001b[0m┃\u001b[1m \u001b[0m\u001b[1m      Categories      \u001b[0m\u001b[1m \u001b[0m┃\u001b[1m \u001b[0m\u001b[1mscvi-tools Encoding\u001b[0m\u001b[1m \u001b[0m┃\n",
       "┡━━━━━━━━━━━━━━━━━━━━━━━━╇━━━━━━━━━━━━━━━━━━━━━━━━╇━━━━━━━━━━━━━━━━━━━━━┩\n",
       "│\u001b[38;5;33m \u001b[0m\u001b[38;5;33madata.obs['batch_key']\u001b[0m\u001b[38;5;33m \u001b[0m│\u001b[32m \u001b[0m\u001b[32mA61_Nuclei_Multiome-v1\u001b[0m\u001b[32m \u001b[0m│\u001b[38;5;128m \u001b[0m\u001b[38;5;128m         0         \u001b[0m\u001b[38;5;128m \u001b[0m│\n",
       "│\u001b[38;5;33m \u001b[0m\u001b[38;5;33m                      \u001b[0m\u001b[38;5;33m \u001b[0m│\u001b[32m \u001b[0m\u001b[32mAH1_Nuclei_Multiome-v1\u001b[0m\u001b[32m \u001b[0m│\u001b[38;5;128m \u001b[0m\u001b[38;5;128m         1         \u001b[0m\u001b[38;5;128m \u001b[0m│\n",
       "│\u001b[38;5;33m \u001b[0m\u001b[38;5;33m                      \u001b[0m\u001b[38;5;33m \u001b[0m│\u001b[32m \u001b[0m\u001b[32m  D11_Cell_3prime-v3  \u001b[0m\u001b[32m \u001b[0m│\u001b[38;5;128m \u001b[0m\u001b[38;5;128m         2         \u001b[0m\u001b[38;5;128m \u001b[0m│\n",
       "│\u001b[38;5;33m \u001b[0m\u001b[38;5;33m                      \u001b[0m\u001b[38;5;33m \u001b[0m│\u001b[32m \u001b[0m\u001b[32m D11_Nuclei_3prime-v3 \u001b[0m\u001b[32m \u001b[0m│\u001b[38;5;128m \u001b[0m\u001b[38;5;128m         3         \u001b[0m\u001b[38;5;128m \u001b[0m│\n",
       "│\u001b[38;5;33m \u001b[0m\u001b[38;5;33m                      \u001b[0m\u001b[38;5;33m \u001b[0m│\u001b[32m \u001b[0m\u001b[32m  D1_Cell_3prime-v2   \u001b[0m\u001b[32m \u001b[0m│\u001b[38;5;128m \u001b[0m\u001b[38;5;128m         4         \u001b[0m\u001b[38;5;128m \u001b[0m│\n",
       "│\u001b[38;5;33m \u001b[0m\u001b[38;5;33m                      \u001b[0m\u001b[38;5;33m \u001b[0m│\u001b[32m \u001b[0m\u001b[32m D1_Nuclei_3prime-v2  \u001b[0m\u001b[32m \u001b[0m│\u001b[38;5;128m \u001b[0m\u001b[38;5;128m         5         \u001b[0m\u001b[38;5;128m \u001b[0m│\n",
       "│\u001b[38;5;33m \u001b[0m\u001b[38;5;33m                      \u001b[0m\u001b[38;5;33m \u001b[0m│\u001b[32m \u001b[0m\u001b[32m D2_Nuclei_3prime-v2  \u001b[0m\u001b[32m \u001b[0m│\u001b[38;5;128m \u001b[0m\u001b[38;5;128m         6         \u001b[0m\u001b[38;5;128m \u001b[0m│\n",
       "│\u001b[38;5;33m \u001b[0m\u001b[38;5;33m                      \u001b[0m\u001b[38;5;33m \u001b[0m│\u001b[32m \u001b[0m\u001b[32m  D3_Cell_3prime-v2   \u001b[0m\u001b[32m \u001b[0m│\u001b[38;5;128m \u001b[0m\u001b[38;5;128m         7         \u001b[0m\u001b[38;5;128m \u001b[0m│\n",
       "│\u001b[38;5;33m \u001b[0m\u001b[38;5;33m                      \u001b[0m\u001b[38;5;33m \u001b[0m│\u001b[32m \u001b[0m\u001b[32m D3_Nuclei_3prime-v2  \u001b[0m\u001b[32m \u001b[0m│\u001b[38;5;128m \u001b[0m\u001b[38;5;128m         8         \u001b[0m\u001b[38;5;128m \u001b[0m│\n",
       "│\u001b[38;5;33m \u001b[0m\u001b[38;5;33m                      \u001b[0m\u001b[38;5;33m \u001b[0m│\u001b[32m \u001b[0m\u001b[32mD3_Nuclei_Multiome-v1 \u001b[0m\u001b[32m \u001b[0m│\u001b[38;5;128m \u001b[0m\u001b[38;5;128m         9         \u001b[0m\u001b[38;5;128m \u001b[0m│\n",
       "│\u001b[38;5;33m \u001b[0m\u001b[38;5;33m                      \u001b[0m\u001b[38;5;33m \u001b[0m│\u001b[32m \u001b[0m\u001b[32m  D4_Cell_3prime-v2   \u001b[0m\u001b[32m \u001b[0m│\u001b[38;5;128m \u001b[0m\u001b[38;5;128m        10         \u001b[0m\u001b[38;5;128m \u001b[0m│\n",
       "│\u001b[38;5;33m \u001b[0m\u001b[38;5;33m                      \u001b[0m\u001b[38;5;33m \u001b[0m│\u001b[32m \u001b[0m\u001b[32m D4_Nuclei_3prime-v2  \u001b[0m\u001b[32m \u001b[0m│\u001b[38;5;128m \u001b[0m\u001b[38;5;128m        11         \u001b[0m\u001b[38;5;128m \u001b[0m│\n",
       "│\u001b[38;5;33m \u001b[0m\u001b[38;5;33m                      \u001b[0m\u001b[38;5;33m \u001b[0m│\u001b[32m \u001b[0m\u001b[32m  D5_Cell_3prime-v2   \u001b[0m\u001b[32m \u001b[0m│\u001b[38;5;128m \u001b[0m\u001b[38;5;128m        12         \u001b[0m\u001b[38;5;128m \u001b[0m│\n",
       "│\u001b[38;5;33m \u001b[0m\u001b[38;5;33m                      \u001b[0m\u001b[38;5;33m \u001b[0m│\u001b[32m \u001b[0m\u001b[32m D5_Nuclei_3prime-v2  \u001b[0m\u001b[32m \u001b[0m│\u001b[38;5;128m \u001b[0m\u001b[38;5;128m        13         \u001b[0m\u001b[38;5;128m \u001b[0m│\n",
       "│\u001b[38;5;33m \u001b[0m\u001b[38;5;33m                      \u001b[0m\u001b[38;5;33m \u001b[0m│\u001b[32m \u001b[0m\u001b[32m  D6_Cell_3prime-v2   \u001b[0m\u001b[32m \u001b[0m│\u001b[38;5;128m \u001b[0m\u001b[38;5;128m        14         \u001b[0m\u001b[38;5;128m \u001b[0m│\n",
       "│\u001b[38;5;33m \u001b[0m\u001b[38;5;33m                      \u001b[0m\u001b[38;5;33m \u001b[0m│\u001b[32m \u001b[0m\u001b[32m  D6_Cell_3prime-v3   \u001b[0m\u001b[32m \u001b[0m│\u001b[38;5;128m \u001b[0m\u001b[38;5;128m        15         \u001b[0m\u001b[38;5;128m \u001b[0m│\n",
       "│\u001b[38;5;33m \u001b[0m\u001b[38;5;33m                      \u001b[0m\u001b[38;5;33m \u001b[0m│\u001b[32m \u001b[0m\u001b[32m D6_Nuclei_3prime-v2  \u001b[0m\u001b[32m \u001b[0m│\u001b[38;5;128m \u001b[0m\u001b[38;5;128m        16         \u001b[0m\u001b[38;5;128m \u001b[0m│\n",
       "│\u001b[38;5;33m \u001b[0m\u001b[38;5;33m                      \u001b[0m\u001b[38;5;33m \u001b[0m│\u001b[32m \u001b[0m\u001b[32m  D7_Cell_3prime-v2   \u001b[0m\u001b[32m \u001b[0m│\u001b[38;5;128m \u001b[0m\u001b[38;5;128m        17         \u001b[0m\u001b[38;5;128m \u001b[0m│\n",
       "│\u001b[38;5;33m \u001b[0m\u001b[38;5;33m                      \u001b[0m\u001b[38;5;33m \u001b[0m│\u001b[32m \u001b[0m\u001b[32m D7_Nuclei_3prime-v2  \u001b[0m\u001b[32m \u001b[0m│\u001b[38;5;128m \u001b[0m\u001b[38;5;128m        18         \u001b[0m\u001b[38;5;128m \u001b[0m│\n",
       "│\u001b[38;5;33m \u001b[0m\u001b[38;5;33m                      \u001b[0m\u001b[38;5;33m \u001b[0m│\u001b[32m \u001b[0m\u001b[32mD7_Nuclei_Multiome-v1 \u001b[0m\u001b[32m \u001b[0m│\u001b[38;5;128m \u001b[0m\u001b[38;5;128m        19         \u001b[0m\u001b[38;5;128m \u001b[0m│\n",
       "│\u001b[38;5;33m \u001b[0m\u001b[38;5;33m                      \u001b[0m\u001b[38;5;33m \u001b[0m│\u001b[32m \u001b[0m\u001b[32mD8_Nuclei_Multiome-v1 \u001b[0m\u001b[32m \u001b[0m│\u001b[38;5;128m \u001b[0m\u001b[38;5;128m        20         \u001b[0m\u001b[38;5;128m \u001b[0m│\n",
       "│\u001b[38;5;33m \u001b[0m\u001b[38;5;33m                      \u001b[0m\u001b[38;5;33m \u001b[0m│\u001b[32m \u001b[0m\u001b[32m H2_Nuclei_3prime-v3  \u001b[0m\u001b[32m \u001b[0m│\u001b[38;5;128m \u001b[0m\u001b[38;5;128m        21         \u001b[0m\u001b[38;5;128m \u001b[0m│\n",
       "│\u001b[38;5;33m \u001b[0m\u001b[38;5;33m                      \u001b[0m\u001b[38;5;33m \u001b[0m│\u001b[32m \u001b[0m\u001b[32m H3_Nuclei_3prime-v3  \u001b[0m\u001b[32m \u001b[0m│\u001b[38;5;128m \u001b[0m\u001b[38;5;128m        22         \u001b[0m\u001b[38;5;128m \u001b[0m│\n",
       "│\u001b[38;5;33m \u001b[0m\u001b[38;5;33m                      \u001b[0m\u001b[38;5;33m \u001b[0m│\u001b[32m \u001b[0m\u001b[32m H4_Nuclei_3prime-v3  \u001b[0m\u001b[32m \u001b[0m│\u001b[38;5;128m \u001b[0m\u001b[38;5;128m        23         \u001b[0m\u001b[38;5;128m \u001b[0m│\n",
       "│\u001b[38;5;33m \u001b[0m\u001b[38;5;33m                      \u001b[0m\u001b[38;5;33m \u001b[0m│\u001b[32m \u001b[0m\u001b[32m H5_Nuclei_3prime-v3  \u001b[0m\u001b[32m \u001b[0m│\u001b[38;5;128m \u001b[0m\u001b[38;5;128m        24         \u001b[0m\u001b[38;5;128m \u001b[0m│\n",
       "│\u001b[38;5;33m \u001b[0m\u001b[38;5;33m                      \u001b[0m\u001b[38;5;33m \u001b[0m│\u001b[32m \u001b[0m\u001b[32m H6_Nuclei_3prime-v3  \u001b[0m\u001b[32m \u001b[0m│\u001b[38;5;128m \u001b[0m\u001b[38;5;128m        25         \u001b[0m\u001b[38;5;128m \u001b[0m│\n",
       "│\u001b[38;5;33m \u001b[0m\u001b[38;5;33m                      \u001b[0m\u001b[38;5;33m \u001b[0m│\u001b[32m \u001b[0m\u001b[32m H7_Nuclei_3prime-v3  \u001b[0m\u001b[32m \u001b[0m│\u001b[38;5;128m \u001b[0m\u001b[38;5;128m        26         \u001b[0m\u001b[38;5;128m \u001b[0m│\n",
       "└────────────────────────┴────────────────────────┴─────────────────────┘\n"
      ]
     },
     "metadata": {},
     "output_type": "display_data"
    },
    {
     "name": "stderr",
     "output_type": "stream",
     "text": [
      "GPU available: True, used: True\n",
      "TPU available: False, using: 0 TPU cores\n",
      "/lustre/scratch117/cellgen/team205/kk18/miniconda3/envs/cell2loc_env/lib/python3.9/site-packages/pytorch_lightning/trainer/configuration_validator.py:99: UserWarning: you passed in a val_dataloader but have no validation_step. Skipping val loop\n",
      "LOCAL_RANK: 0 - CUDA_VISIBLE_DEVICES: [0]\n"
     ]
    },
    {
     "name": "stdout",
     "output_type": "stream",
     "text": [
      "Epoch 1000/1000: 100%|██████████████████████████████████████████████████████████████████████████████████████████████████████████████████████████████████████████████████████████████| 1000/1000 [1:18:25<00:00,  4.71s/it, v_num=1, elbo_train=1.91e+8]\n",
      "Sampling local variables, batch:   0%|                                                                                                                                                                                          | 0/18 [00:00<?, ?it/s]\n",
      "Sampling global variables, sample: 100%|█████████████████████████████████████████████████████████████████████████████████████████████████████████████████████████████████████████████████████████████████████████████| 999/999 [00:17<00:00, 56.78it/s]\n"
     ]
    },
    {
     "name": "stderr",
     "output_type": "stream",
     "text": [
      "/lustre/scratch117/cellgen/team205/kk18/miniconda3/envs/cell2loc_env/lib/python3.9/site-packages/anndata/_core/anndata.py:1228: FutureWarning: The `inplace` parameter in pandas.Categorical.reorder_categories is deprecated and will be removed in a future version. Reordering categories will always return a new Categorical object.\n",
      "... storing 'sangerID' as categorical\n",
      "/lustre/scratch117/cellgen/team205/kk18/miniconda3/envs/cell2loc_env/lib/python3.9/site-packages/anndata/_core/anndata.py:1228: FutureWarning: The `inplace` parameter in pandas.Categorical.reorder_categories is deprecated and will be removed in a future version. Reordering categories will always return a new Categorical object.\n",
      "... storing 'combinedID' as categorical\n",
      "/lustre/scratch117/cellgen/team205/kk18/miniconda3/envs/cell2loc_env/lib/python3.9/site-packages/anndata/_core/anndata.py:1228: FutureWarning: The `inplace` parameter in pandas.Categorical.reorder_categories is deprecated and will be removed in a future version. Reordering categories will always return a new Categorical object.\n",
      "... storing 'donor' as categorical\n",
      "/lustre/scratch117/cellgen/team205/kk18/miniconda3/envs/cell2loc_env/lib/python3.9/site-packages/anndata/_core/anndata.py:1228: FutureWarning: The `inplace` parameter in pandas.Categorical.reorder_categories is deprecated and will be removed in a future version. Reordering categories will always return a new Categorical object.\n",
      "... storing 'donor_type' as categorical\n",
      "/lustre/scratch117/cellgen/team205/kk18/miniconda3/envs/cell2loc_env/lib/python3.9/site-packages/anndata/_core/anndata.py:1228: FutureWarning: The `inplace` parameter in pandas.Categorical.reorder_categories is deprecated and will be removed in a future version. Reordering categories will always return a new Categorical object.\n",
      "... storing 'region' as categorical\n",
      "/lustre/scratch117/cellgen/team205/kk18/miniconda3/envs/cell2loc_env/lib/python3.9/site-packages/anndata/_core/anndata.py:1228: FutureWarning: The `inplace` parameter in pandas.Categorical.reorder_categories is deprecated and will be removed in a future version. Reordering categories will always return a new Categorical object.\n",
      "... storing 'region_finest' as categorical\n",
      "/lustre/scratch117/cellgen/team205/kk18/miniconda3/envs/cell2loc_env/lib/python3.9/site-packages/anndata/_core/anndata.py:1228: FutureWarning: The `inplace` parameter in pandas.Categorical.reorder_categories is deprecated and will be removed in a future version. Reordering categories will always return a new Categorical object.\n",
      "... storing 'age' as categorical\n",
      "/lustre/scratch117/cellgen/team205/kk18/miniconda3/envs/cell2loc_env/lib/python3.9/site-packages/anndata/_core/anndata.py:1228: FutureWarning: The `inplace` parameter in pandas.Categorical.reorder_categories is deprecated and will be removed in a future version. Reordering categories will always return a new Categorical object.\n",
      "... storing 'gender' as categorical\n",
      "/lustre/scratch117/cellgen/team205/kk18/miniconda3/envs/cell2loc_env/lib/python3.9/site-packages/anndata/_core/anndata.py:1228: FutureWarning: The `inplace` parameter in pandas.Categorical.reorder_categories is deprecated and will be removed in a future version. Reordering categories will always return a new Categorical object.\n",
      "... storing 'facility' as categorical\n",
      "/lustre/scratch117/cellgen/team205/kk18/miniconda3/envs/cell2loc_env/lib/python3.9/site-packages/anndata/_core/anndata.py:1228: FutureWarning: The `inplace` parameter in pandas.Categorical.reorder_categories is deprecated and will be removed in a future version. Reordering categories will always return a new Categorical object.\n",
      "... storing 'cell_or_nuclei' as categorical\n",
      "/lustre/scratch117/cellgen/team205/kk18/miniconda3/envs/cell2loc_env/lib/python3.9/site-packages/anndata/_core/anndata.py:1228: FutureWarning: The `inplace` parameter in pandas.Categorical.reorder_categories is deprecated and will be removed in a future version. Reordering categories will always return a new Categorical object.\n",
      "... storing 'modality' as categorical\n",
      "/lustre/scratch117/cellgen/team205/kk18/miniconda3/envs/cell2loc_env/lib/python3.9/site-packages/anndata/_core/anndata.py:1228: FutureWarning: The `inplace` parameter in pandas.Categorical.reorder_categories is deprecated and will be removed in a future version. Reordering categories will always return a new Categorical object.\n",
      "... storing 'kit_10x' as categorical\n",
      "/lustre/scratch117/cellgen/team205/kk18/miniconda3/envs/cell2loc_env/lib/python3.9/site-packages/anndata/_core/anndata.py:1228: FutureWarning: The `inplace` parameter in pandas.Categorical.reorder_categories is deprecated and will be removed in a future version. Reordering categories will always return a new Categorical object.\n",
      "... storing 'flushed' as categorical\n",
      "/lustre/scratch117/cellgen/team205/kk18/miniconda3/envs/cell2loc_env/lib/python3.9/site-packages/anndata/_core/anndata.py:1228: FutureWarning: The `inplace` parameter in pandas.Categorical.reorder_categories is deprecated and will be removed in a future version. Reordering categories will always return a new Categorical object.\n",
      "... storing 'scrublet_leiden' as categorical\n",
      "/lustre/scratch117/cellgen/team205/kk18/miniconda3/envs/cell2loc_env/lib/python3.9/site-packages/anndata/_core/anndata.py:1228: FutureWarning: The `inplace` parameter in pandas.Categorical.reorder_categories is deprecated and will be removed in a future version. Reordering categories will always return a new Categorical object.\n",
      "... storing 'batch_key' as categorical\n",
      "/lustre/scratch117/cellgen/team205/kk18/miniconda3/envs/cell2loc_env/lib/python3.9/site-packages/anndata/_core/anndata.py:1228: FutureWarning: The `inplace` parameter in pandas.Categorical.reorder_categories is deprecated and will be removed in a future version. Reordering categories will always return a new Categorical object.\n",
      "... storing 'leiden_scVI' as categorical\n",
      "/lustre/scratch117/cellgen/team205/kk18/miniconda3/envs/cell2loc_env/lib/python3.9/site-packages/anndata/_core/anndata.py:1228: FutureWarning: The `inplace` parameter in pandas.Categorical.reorder_categories is deprecated and will be removed in a future version. Reordering categories will always return a new Categorical object.\n",
      "... storing 'cell_type' as categorical\n",
      "/lustre/scratch117/cellgen/team205/kk18/miniconda3/envs/cell2loc_env/lib/python3.9/site-packages/anndata/_core/anndata.py:1228: FutureWarning: The `inplace` parameter in pandas.Categorical.reorder_categories is deprecated and will be removed in a future version. Reordering categories will always return a new Categorical object.\n",
      "... storing 'cell_state_HCAv1' as categorical\n",
      "/lustre/scratch117/cellgen/team205/kk18/miniconda3/envs/cell2loc_env/lib/python3.9/site-packages/anndata/_core/anndata.py:1228: FutureWarning: The `inplace` parameter in pandas.Categorical.reorder_categories is deprecated and will be removed in a future version. Reordering categories will always return a new Categorical object.\n",
      "... storing 'cell_state_scNym' as categorical\n",
      "/lustre/scratch117/cellgen/team205/kk18/miniconda3/envs/cell2loc_env/lib/python3.9/site-packages/anndata/_core/anndata.py:1228: FutureWarning: The `inplace` parameter in pandas.Categorical.reorder_categories is deprecated and will be removed in a future version. Reordering categories will always return a new Categorical object.\n",
      "... storing 'cell_state' as categorical\n"
     ]
    },
    {
     "data": {
      "image/png": "[encoded data removed]",
      "text/plain": [
       "<Figure size 432x288 with 1 Axes>"
      ]
     },
     "metadata": {
      "needs_background": "light"
     },
     "output_type": "display_data"
    },
    {
     "data": {
      "image/png": "[encoded data removed]",
      "text/plain": [
       "<Figure size 432x288 with 1 Axes>"
      ]
     },
     "metadata": {
      "needs_background": "light"
     },
     "output_type": "display_data"
    },
    {
     "name": "stdout",
     "output_type": "stream",
     "text": [
      "CPU times: user 1h 13min 21s, sys: 38min 16s, total: 1h 51min 38s\n",
      "Wall time: 1h 21min 13s\n"
     ]
    }
   ],
   "source": [
    "%%time\n",
    "\n",
    "from cell2location.utils.filtering import filter_genes\n",
    "from cell2location.models import RegressionModel\n",
    "\n",
    "for reg in regions:\n",
    "    print(f'####### {reg} #######')\n",
    "    \n",
    "    # subset adata\n",
    "    adata_sub = adata_ref[adata_ref.obs['region']==reg.replace('-FFPE','')].copy()\n",
    "    \n",
    "    # remove cell_states, which have less than 5 cells\n",
    "    counts = adata_sub.obs[celltype_key].value_counts()\n",
    "    adata_sub = adata_sub[adata_sub.obs[celltype_key].isin(list(counts.keys()[counts>=5]))]\n",
    "    \n",
    "    # add cells from other regions for low number (lower than 100) cell types\n",
    "    counts = adata_sub.obs[celltype_key].value_counts()\n",
    "    low_n_celltypes = list(counts.keys()[counts<100])\n",
    "    ## add data of \"other\" regions & low_n_celltypes\n",
    "    adata_toadd = adata_ref[(adata_ref.obs['region']!=reg)&(adata_ref.obs['cell_state'].isin(low_n_celltypes))]\n",
    "    adata_sub = adata_sub.concatenate(adata_toadd,\n",
    "                                     batch_key=None,\n",
    "                                      index_unique=None)\n",
    "    post_counts = adata_sub.obs[celltype_key].value_counts()\n",
    "    \n",
    "    # remove cell_states, which have only 2 cells or less\n",
    "    # adata_sub = adata_sub[adata_sub.obs[celltype_key].isin(list(counts.keys()[post_counts>2]))]\n",
    "    \n",
    "    # downsize\n",
    "    adata_sub = sctk.subsample(adata_sub, fraction=1, groupby=celltype_key, min_n=0, max_n=2000)\n",
    "    \n",
    "    # show pre add-sabsample and post\n",
    "    post_counts = adata_sub.obs[celltype_key].value_counts()\n",
    "    print(pd.DataFrame({'pre':counts,\n",
    "                 'post_add-subsample':post_counts}))\n",
    "    \n",
    "    # before we estimate the reference cell type signature we recommend to perform very permissive genes selection\n",
    "    # in this 2D histogram orange rectangle lays over excluded genes.\n",
    "    # In this case, the downloaded dataset was already filtered using this method,\n",
    "    # hence no density under the orange rectangle\n",
    "    selected = filter_genes(adata_sub, cell_count_cutoff=5, cell_percentage_cutoff2=0.03, nonz_mean_cutoff=1.12)\n",
    "    # filter the object\n",
    "    adata_sub = adata_sub[:, selected].copy()\n",
    "    \n",
    "    # prepare anndata for the regression model\n",
    "    adata_sub=adata_sub.copy()\n",
    "    scvi.data.setup_anndata(adata=adata_sub, \n",
    "                            # 10X reaction / sample / batch\n",
    "                            batch_key='batch_key', \n",
    "                            # cell type, covariate used for constructing signatures\n",
    "                            labels_key=celltype_key, \n",
    "                            # multiplicative technical effects (platform, 3' vs 5', donor effect)\n",
    "                            # categorical_covariate_keys=['Method']\n",
    "                           )\n",
    "    scvi.data.view_anndata_setup(adata_sub)\n",
    "    \n",
    "    # create and train the regression model\n",
    "    mod = RegressionModel(adata_sub) \n",
    "\n",
    "    # Use all data for training (validation not implemented yet, train_size=1)\n",
    "    mod.train(max_epochs=1000, batch_size=2500, train_size=1, lr=0.002, use_gpu=True)\n",
    "\n",
    "    # plot ELBO loss history during training, removing first 20 epochs from the plot\n",
    "    mod.plot_history(20)\n",
    "    \n",
    "    # In this section, we export the estimated cell abundance (summary of the posterior distribution).\n",
    "    adata_sub = mod.export_posterior(\n",
    "        adata_sub, sample_kwargs={'num_samples': 1000, 'batch_size': 2500, 'use_gpu': True}\n",
    "    )\n",
    "\n",
    "    # Save model\n",
    "    mod.save(f\"{ref_run_name}/{reg}\", overwrite=True)\n",
    "\n",
    "    # Save anndata object with results\n",
    "    # adata_file = f\"{ref_run_name}/{reg}/sc.h5ad\"\n",
    "    adata_sub.write(f\"{ref_run_name}/{reg}/sc.h5ad\")\n",
    "    \n",
    "    mod.plot_QC()\n",
    "    \n",
    "    # export estimated expression in each cluster\n",
    "    if 'means_per_cluster_mu_fg' in adata_sub.varm.keys():\n",
    "        inf_aver = adata_sub.varm['means_per_cluster_mu_fg'][[f'means_per_cluster_mu_fg_{i}' \n",
    "                                        for i in adata_sub.uns['mod']['factor_names']]].copy()\n",
    "    else:\n",
    "        inf_aver = adata_sub.var[[f'means_per_cluster_mu_fg_{i}' \n",
    "                                        for i in adata_sub.uns['mod']['factor_names']]].copy()\n",
    "    inf_aver.columns = adata_sub.uns['mod']['factor_names']\n",
    "    inf_aver.iloc[0:5, 0:5]\n",
    "    \n",
    "    # save inf_aver\n",
    "    inf_aver.to_csv(f\"{ref_run_name}/{reg}/inf_aver.csv\")\n",
    "                    \n",
    "    del adata_sub, mod, inf_aver, adata_toadd, counts, post_counts"
   ]
  },
  {
   "cell_type": "code",
   "execution_count": null,
   "id": "1e99d4ad",
   "metadata": {},
   "outputs": [],
   "source": []
  },
  {
   "cell_type": "code",
   "execution_count": null,
   "id": "1ca7e0a3",
   "metadata": {},
   "outputs": [],
   "source": []
  },
  {
   "cell_type": "code",
   "execution_count": null,
   "id": "6e45cc7e",
   "metadata": {},
   "outputs": [],
   "source": []
  },
  {
   "cell_type": "code",
   "execution_count": null,
   "id": "121a512b",
   "metadata": {},
   "outputs": [],
   "source": []
  }
 ],
 "metadata": {
  "kernelspec": {
   "display_name": "Environment (cell2loc_env)/",
   "language": "python",
   "name": "cell2loc_env"
  },
  "language_info": {
   "codemirror_mode": {
    "name": "ipython",
    "version": 3
   },
   "file_extension": ".py",
   "mimetype": "text/x-python",
   "name": "python",
   "nbconvert_exporter": "python",
   "pygments_lexer": "ipython3",
   "version": "3.9.7"
  }
 },
 "nbformat": 4,
 "nbformat_minor": 5
}
