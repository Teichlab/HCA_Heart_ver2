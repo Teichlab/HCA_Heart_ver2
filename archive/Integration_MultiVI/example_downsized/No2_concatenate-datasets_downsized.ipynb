{
 "cells": [
  {
   "cell_type": "markdown",
   "id": "configured-afghanistan",
   "metadata": {},
   "source": [
    "## References"
   ]
  },
  {
   "cell_type": "markdown",
   "id": "indie-league",
   "metadata": {},
   "source": [
    "Tutorial: https://docs.scvi-tools.org/en/stable/user_guide/notebooks/MultiVI_tutorial.html <br>\n",
    "Paper: https://www.biorxiv.org/content/10.1101/2021.08.20.457057v2"
   ]
  },
  {
   "cell_type": "markdown",
   "id": "discrete-robertson",
   "metadata": {},
   "source": [
    "## Dataset to prepare"
   ]
  },
  {
   "cell_type": "markdown",
   "id": "closing-russia",
   "metadata": {},
   "source": [
    "### 1) RNA (scnRNA + Multiome-RNA)\n",
    "* Read in data: post-CellBender, filtered as the previous HCA object, cell-type annotated\n",
    "* Subset scnRNA: barcode x gene -> **`adata_rna.h5ad`**\n",
    "* Subset MultiomeRNA: barcode x gene\n",
    "\n",
    "### 2) ATAC (snATAC + Multiome-ATAC)\n",
    "* Read in data: post-cellatac and filtered peaks and nuclei, `6reg-v2_ATACs_filtered.h5ad`\n",
    "* Subset snATAC: barcode x peak -> **`adata_atac.h5ad`**\n",
    "* Subset MultiomeATAC: barcode x peak\n",
    "\n",
    "### 3) Concatenate Multiome RNA+ATAC\n",
    "barcode x (gene+peak) -> **`adata_paired.h5ad`**"
   ]
  },
  {
   "cell_type": "markdown",
   "id": "dedicated-senator",
   "metadata": {},
   "source": [
    "## Concatenate multimodality anndatas (by using MultiVI function)"
   ]
  },
  {
   "cell_type": "code",
   "execution_count": 1,
   "id": "automotive-prague",
   "metadata": {},
   "outputs": [],
   "source": [
    "import scanpy as sc\n",
    "import numpy as np\n",
    "import pandas as pd\n",
    "import scipy\n",
    "import anndata\n",
    "import scvi"
   ]
  },
  {
   "cell_type": "code",
   "execution_count": 2,
   "id": "acknowledged-lancaster",
   "metadata": {},
   "outputs": [
    {
     "data": {
      "text/html": [
       "<details>\n",
       "<summary>Click to view session information</summary>\n",
       "<pre>\n",
       "-----\n",
       "anndata             0.7.6\n",
       "numpy               1.20.3\n",
       "pandas              1.3.2\n",
       "scanpy              1.8.1\n",
       "scipy               1.7.1\n",
       "scvi                0.13.0\n",
       "session_info        1.0.0\n",
       "-----\n",
       "</pre>\n",
       "<details>\n",
       "<summary>Click to view modules imported as dependencies</summary>\n",
       "<pre>\n",
       "PIL                         8.3.2\n",
       "absl                        NA\n",
       "attr                        21.2.0\n",
       "backcall                    0.2.0\n",
       "beta_ufunc                  NA\n",
       "binom_ufunc                 NA\n",
       "cffi                        1.14.6\n",
       "colorama                    0.4.4\n",
       "cycler                      0.10.0\n",
       "cython_runtime              NA\n",
       "dateutil                    2.8.2\n",
       "debugpy                     1.4.1\n",
       "decorator                   5.0.9\n",
       "defusedxml                  0.7.1\n",
       "deprecate                   0.3.0\n",
       "entrypoints                 0.3\n",
       "fsspec                      2021.08.1\n",
       "google                      NA\n",
       "h5py                        3.4.0\n",
       "ipykernel                   6.3.1\n",
       "ipython_genutils            0.2.0\n",
       "ipywidgets                  7.6.4\n",
       "jedi                        0.18.0\n",
       "joblib                      1.0.1\n",
       "kiwisolver                  1.3.2\n",
       "llvmlite                    0.37.0\n",
       "matplotlib                  3.4.3\n",
       "matplotlib_inline           NA\n",
       "mpl_toolkits                NA\n",
       "natsort                     7.1.1\n",
       "nbinom_ufunc                NA\n",
       "numba                       0.54.0\n",
       "numexpr                     2.7.3\n",
       "opt_einsum                  v3.3.0\n",
       "packaging                   21.0\n",
       "parso                       0.8.2\n",
       "pexpect                     4.8.0\n",
       "pickleshare                 0.7.5\n",
       "pkg_resources               NA\n",
       "prompt_toolkit              3.0.20\n",
       "ptyprocess                  0.7.0\n",
       "pycparser                   2.20\n",
       "pydev_ipython               NA\n",
       "pydevconsole                NA\n",
       "pydevd                      2.4.1\n",
       "pydevd_concurrency_analyser NA\n",
       "pydevd_file_utils           NA\n",
       "pydevd_plugins              NA\n",
       "pydevd_tracing              NA\n",
       "pygments                    2.10.0\n",
       "pyparsing                   2.4.7\n",
       "pyro                        1.7.0\n",
       "pytorch_lightning           1.3.8\n",
       "pytz                        2021.1\n",
       "rich                        NA\n",
       "setuptools                  57.4.0\n",
       "sinfo                       0.3.4\n",
       "six                         1.16.0\n",
       "sklearn                     0.24.2\n",
       "storemagic                  NA\n",
       "tables                      3.6.1\n",
       "tensorboard                 2.6.0\n",
       "threadpoolctl               2.2.0\n",
       "torch                       1.9.0+cu102\n",
       "torchmetrics                0.5.1\n",
       "tornado                     6.1\n",
       "tqdm                        4.62.2\n",
       "traitlets                   5.1.0\n",
       "typing_extensions           NA\n",
       "wcwidth                     0.2.5\n",
       "yaml                        5.4.1\n",
       "zmq                         22.2.1\n",
       "</pre>\n",
       "</details> <!-- seems like this ends pre, so might as well be explicit -->\n",
       "<pre>\n",
       "-----\n",
       "IPython             7.27.0\n",
       "jupyter_client      7.0.2\n",
       "jupyter_core        4.7.1\n",
       "notebook            6.4.3\n",
       "-----\n",
       "Python 3.8.10 | packaged by conda-forge | (default, May 11 2021, 07:01:05) [GCC 9.3.0]\n",
       "Linux-4.15.0-156-generic-x86_64-with-glibc2.10\n",
       "-----\n",
       "Session information updated at 2021-09-21 13:44\n",
       "</pre>\n",
       "</details>"
      ],
      "text/plain": [
       "<IPython.core.display.HTML object>"
      ]
     },
     "execution_count": 2,
     "metadata": {},
     "output_type": "execute_result"
    }
   ],
   "source": [
    "import session_info\n",
    "session_info.show()"
   ]
  },
  {
   "cell_type": "markdown",
   "id": "affected-bacon",
   "metadata": {},
   "source": [
    "**adata_rna**"
   ]
  },
  {
   "cell_type": "code",
   "execution_count": 3,
   "id": "dependent-account",
   "metadata": {},
   "outputs": [
    {
     "name": "stdout",
     "output_type": "stream",
     "text": [
      "[1. 1. 1. 2. 1. 1. 2. 1. 1. 1.]\n"
     ]
    },
    {
     "data": {
      "text/plain": [
       "AnnData object with n_obs × n_vars = 13822 × 31915\n",
       "    obs: 'sangerID', 'modality', 'donor', 'age_group', 'region', 'cell_or_nuclei', 'gender', 'type', 'cell_states', 'modality_fine', 'donor_cellnuc', 'batch'\n",
       "    var: 'modality'"
      ]
     },
     "execution_count": 3,
     "metadata": {},
     "output_type": "execute_result"
    }
   ],
   "source": [
    "adata_rna=sc.read_h5ad('/nfs/team205/kk18/data/6region_v2/MultiVI/adata_rna_downsized.h5ad')\n",
    "print(adata_rna.X.data[:10])\n",
    "adata_rna"
   ]
  },
  {
   "cell_type": "markdown",
   "id": "ranking-eugene",
   "metadata": {},
   "source": [
    "**adata_atac**"
   ]
  },
  {
   "cell_type": "code",
   "execution_count": 5,
   "id": "reduced-former",
   "metadata": {},
   "outputs": [
    {
     "name": "stdout",
     "output_type": "stream",
     "text": [
      "[1. 1. 1. 1. 1. 1. 1. 1. 1. 1.]\n"
     ]
    },
    {
     "data": {
      "text/plain": [
       "AnnData object with n_obs × n_vars = 11170 × 102627\n",
       "    obs: 'cellatac_clusters', 'cellatac_code', 'sangerID', 'dataset', 'donor', 'Region', 'barcode', 'oribarcode', 'donor_cellnuc', 'modality', 'batch'\n",
       "    var: 'modality'\n",
       "    layers: 'binary_raw'"
      ]
     },
     "execution_count": 5,
     "metadata": {},
     "output_type": "execute_result"
    }
   ],
   "source": [
    "adata_atac=sc.read_h5ad('/nfs/team205/kk18/data/6region_v2/MultiVI/adata_atac_downsized.h5ad')\n",
    "print(adata_atac.X.data[:10])\n",
    "adata_atac"
   ]
  },
  {
   "cell_type": "markdown",
   "id": "excess-israel",
   "metadata": {},
   "source": [
    "**adata_paired**"
   ]
  },
  {
   "cell_type": "code",
   "execution_count": 6,
   "id": "moving-manchester",
   "metadata": {},
   "outputs": [
    {
     "name": "stdout",
     "output_type": "stream",
     "text": [
      "[3. 2. 1. 3. 1. 2. 1. 1. 1. 1.]\n"
     ]
    },
    {
     "data": {
      "text/plain": [
       "AnnData object with n_obs × n_vars = 7517 × 134542\n",
       "    obs: 'Combined_ID', 'rna_sangerID', 'barcode', 'donor', 'age_group', 'region', 'cell_or_nuclei', 'gender', 'type', 'cell_states', 'modality', 'donor_cellnuc', 'atac_sangerID', 'cellatac_clusters', 'cellatac_code', 'batch'\n",
       "    var: 'modality'"
      ]
     },
     "execution_count": 6,
     "metadata": {},
     "output_type": "execute_result"
    }
   ],
   "source": [
    "adata_paired=sc.read_h5ad('/nfs/team205/kk18/data/6region_v2/MultiVI/adata_paired_downsized.h5ad')\n",
    "print(adata_paired.X.data[:10])\n",
    "adata_paired"
   ]
  },
  {
   "cell_type": "markdown",
   "id": "ordinary-thompson",
   "metadata": {},
   "source": [
    "**Concatenate**"
   ]
  },
  {
   "cell_type": "code",
   "execution_count": 7,
   "id": "juvenile-program",
   "metadata": {
    "tags": []
   },
   "outputs": [
    {
     "data": {
      "text/plain": [
       "AnnData object with n_obs × n_vars = 32509 × 134542\n",
       "    obs: 'Combined_ID', 'rna_sangerID', 'barcode', 'donor', 'age_group', 'region', 'cell_or_nuclei', 'gender', 'type', 'cell_states', 'modality', 'donor_cellnuc', 'atac_sangerID', 'cellatac_clusters', 'cellatac_code', 'batch', 'sangerID', 'modality_fine', 'dataset', 'Region', 'oribarcode'\n",
       "    var: 'modality'\n",
       "    layers: 'binary_raw'"
      ]
     },
     "execution_count": 7,
     "metadata": {},
     "output_type": "execute_result"
    }
   ],
   "source": [
    "adata_mvi = scvi.data.organize_multiome_anndatas(adata_paired, adata_rna, adata_atac)\n",
    "# Note that organize_multiome_anndatas adds an annotation to the cells to indicate which modality they originate from\n",
    "# so modality label is now changed\n",
    "\n",
    "adata_mvi"
   ]
  },
  {
   "cell_type": "code",
   "execution_count": 8,
   "id": "unusual-klein",
   "metadata": {},
   "outputs": [
    {
     "data": {
      "text/plain": [
       "expression       13822\n",
       "accessibility    11170\n",
       "paired            7517\n",
       "Name: modality, dtype: int64"
      ]
     },
     "execution_count": 8,
     "metadata": {},
     "output_type": "execute_result"
    }
   ],
   "source": [
    "adata_mvi.obs['modality'].value_counts()"
   ]
  },
  {
   "cell_type": "markdown",
   "id": "combined-bible",
   "metadata": {},
   "source": [
    "_**MultiVI requires the features to be ordered so that genes appear before genomic regions. This must be enforced by the user.**_"
   ]
  },
  {
   "cell_type": "code",
   "execution_count": 9,
   "id": "reserved-details",
   "metadata": {},
   "outputs": [
    {
     "data": {
      "text/html": [
       "<div>\n",
       "<style scoped>\n",
       "    .dataframe tbody tr th:only-of-type {\n",
       "        vertical-align: middle;\n",
       "    }\n",
       "\n",
       "    .dataframe tbody tr th {\n",
       "        vertical-align: top;\n",
       "    }\n",
       "\n",
       "    .dataframe thead th {\n",
       "        text-align: right;\n",
       "    }\n",
       "</style>\n",
       "<table border=\"1\" class=\"dataframe\">\n",
       "  <thead>\n",
       "    <tr style=\"text-align: right;\">\n",
       "      <th></th>\n",
       "      <th>modality</th>\n",
       "    </tr>\n",
       "  </thead>\n",
       "  <tbody>\n",
       "    <tr>\n",
       "      <th>MIR1302-2HG</th>\n",
       "      <td>Gene Expression</td>\n",
       "    </tr>\n",
       "    <tr>\n",
       "      <th>HS6ST3</th>\n",
       "      <td>Gene Expression</td>\n",
       "    </tr>\n",
       "    <tr>\n",
       "      <th>UGGT2</th>\n",
       "      <td>Gene Expression</td>\n",
       "    </tr>\n",
       "    <tr>\n",
       "      <th>DNAJC3</th>\n",
       "      <td>Gene Expression</td>\n",
       "    </tr>\n",
       "    <tr>\n",
       "      <th>DNAJC3-DT</th>\n",
       "      <td>Gene Expression</td>\n",
       "    </tr>\n",
       "    <tr>\n",
       "      <th>...</th>\n",
       "      <td>...</td>\n",
       "    </tr>\n",
       "    <tr>\n",
       "      <th>chr5:116420065-116420948</th>\n",
       "      <td>Peaks</td>\n",
       "    </tr>\n",
       "    <tr>\n",
       "      <th>chr5:116388452-116389251</th>\n",
       "      <td>Peaks</td>\n",
       "    </tr>\n",
       "    <tr>\n",
       "      <th>chr5:116256702-116257293</th>\n",
       "      <td>Peaks</td>\n",
       "    </tr>\n",
       "    <tr>\n",
       "      <th>chr5:116652044-116653272</th>\n",
       "      <td>Peaks</td>\n",
       "    </tr>\n",
       "    <tr>\n",
       "      <th>chrY:26359235-26360236</th>\n",
       "      <td>Peaks</td>\n",
       "    </tr>\n",
       "  </tbody>\n",
       "</table>\n",
       "<p>134542 rows × 1 columns</p>\n",
       "</div>"
      ],
      "text/plain": [
       "                                 modality\n",
       "MIR1302-2HG               Gene Expression\n",
       "HS6ST3                    Gene Expression\n",
       "UGGT2                     Gene Expression\n",
       "DNAJC3                    Gene Expression\n",
       "DNAJC3-DT                 Gene Expression\n",
       "...                                   ...\n",
       "chr5:116420065-116420948            Peaks\n",
       "chr5:116388452-116389251            Peaks\n",
       "chr5:116256702-116257293            Peaks\n",
       "chr5:116652044-116653272            Peaks\n",
       "chrY:26359235-26360236              Peaks\n",
       "\n",
       "[134542 rows x 1 columns]"
      ]
     },
     "execution_count": 9,
     "metadata": {},
     "output_type": "execute_result"
    }
   ],
   "source": [
    "# In this case this is already the case, but it’s always good to verify:\n",
    "adata_mvi = adata_mvi[:, adata_mvi.var[\"modality\"].argsort()].copy()\n",
    "adata_mvi.var"
   ]
  },
  {
   "cell_type": "code",
   "execution_count": 11,
   "id": "announced-livestock",
   "metadata": {},
   "outputs": [
    {
     "name": "stdout",
     "output_type": "stream",
     "text": [
      "(32509, 134542)\n",
      "(32509, 80362)\n"
     ]
    }
   ],
   "source": [
    "# Filter features to remove those that appear in fewer than 1% of the cells\n",
    "print(adata_mvi.shape)\n",
    "sc.pp.filter_genes(adata_mvi, min_cells=int(adata_mvi.shape[0] * 0.01))\n",
    "print(adata_mvi.shape)"
   ]
  },
  {
   "cell_type": "code",
   "execution_count": 12,
   "id": "hispanic-offense",
   "metadata": {},
   "outputs": [],
   "source": [
    "adata_mvi.obs=adata_mvi.obs[['modality','donor_cellnuc','donor','region','cell_or_nuclei','cell_states']].copy()\n",
    "adata_mvi.var=adata_mvi.var[['modality']].copy()"
   ]
  },
  {
   "cell_type": "code",
   "execution_count": 13,
   "id": "considered-cooperation",
   "metadata": {},
   "outputs": [
    {
     "name": "stderr",
     "output_type": "stream",
     "text": [
      "/home/jovyan/my-conda-envs/scvi/lib/python3.8/site-packages/anndata/_core/anndata.py:1220: FutureWarning: The `inplace` parameter in pandas.Categorical.reorder_categories is deprecated and will be removed in a future version. Removing unused categories will always return a new Categorical object.\n",
      "  c.reorder_categories(natsorted(c.categories), inplace=True)\n",
      "... storing 'modality' as categorical\n",
      "/home/jovyan/my-conda-envs/scvi/lib/python3.8/site-packages/anndata/_core/anndata.py:1220: FutureWarning: The `inplace` parameter in pandas.Categorical.reorder_categories is deprecated and will be removed in a future version. Removing unused categories will always return a new Categorical object.\n",
      "  c.reorder_categories(natsorted(c.categories), inplace=True)\n",
      "... storing 'donor_cellnuc' as categorical\n",
      "/home/jovyan/my-conda-envs/scvi/lib/python3.8/site-packages/anndata/_core/anndata.py:1220: FutureWarning: The `inplace` parameter in pandas.Categorical.reorder_categories is deprecated and will be removed in a future version. Removing unused categories will always return a new Categorical object.\n",
      "  c.reorder_categories(natsorted(c.categories), inplace=True)\n",
      "... storing 'donor' as categorical\n",
      "/home/jovyan/my-conda-envs/scvi/lib/python3.8/site-packages/anndata/_core/anndata.py:1220: FutureWarning: The `inplace` parameter in pandas.Categorical.reorder_categories is deprecated and will be removed in a future version. Removing unused categories will always return a new Categorical object.\n",
      "  c.reorder_categories(natsorted(c.categories), inplace=True)\n",
      "... storing 'cell_or_nuclei' as categorical\n",
      "/home/jovyan/my-conda-envs/scvi/lib/python3.8/site-packages/anndata/_core/anndata.py:1220: FutureWarning: The `inplace` parameter in pandas.Categorical.reorder_categories is deprecated and will be removed in a future version. Removing unused categories will always return a new Categorical object.\n",
      "  c.reorder_categories(natsorted(c.categories), inplace=True)\n",
      "... storing 'cell_states' as categorical\n"
     ]
    }
   ],
   "source": [
    "# save\n",
    "adata_mvi.write('/nfs/team205/kk18/data/6region_v2/MultiVI/adata_mvi_downsized.h5ad')"
   ]
  },
  {
   "cell_type": "code",
   "execution_count": null,
   "id": "accredited-criterion",
   "metadata": {},
   "outputs": [],
   "source": []
  },
  {
   "cell_type": "code",
   "execution_count": null,
   "id": "whole-saying",
   "metadata": {},
   "outputs": [],
   "source": []
  }
 ],
 "metadata": {
  "kernelspec": {
   "display_name": "scvi",
   "language": "python",
   "name": "scvi"
  },
  "language_info": {
   "codemirror_mode": {
    "name": "ipython",
    "version": 3
   },
   "file_extension": ".py",
   "mimetype": "text/x-python",
   "name": "python",
   "nbconvert_exporter": "python",
   "pygments_lexer": "ipython3",
   "version": "3.8.10"
  }
 },
 "nbformat": 4,
 "nbformat_minor": 5
}
