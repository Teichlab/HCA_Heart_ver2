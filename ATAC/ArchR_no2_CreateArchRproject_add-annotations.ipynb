{
 "cells": [
  {
   "cell_type": "markdown",
   "id": "greatest-occupation",
   "metadata": {},
   "source": [
    "Ref:\n",
    "https://www.archrproject.com/bookdown/creating-an-archrproject-1.html"
   ]
  },
  {
   "cell_type": "code",
   "execution_count": 1,
   "id": "ancient-mozambique",
   "metadata": {},
   "outputs": [
    {
     "name": "stderr",
     "output_type": "stream",
     "text": [
      "\n",
      "                                                   / |\n",
      "                                                 /    \\\n",
      "            .                                  /      |.\n",
      "            \\\\\\                              /        |.\n",
      "              \\\\\\                          /           `|.\n",
      "                \\\\\\                      /              |.\n",
      "                  \\                    /                |\\\n",
      "                  \\\\#####\\           /                  ||\n",
      "                ==###########>      /                   ||\n",
      "                 \\\\##==......\\    /                     ||\n",
      "            ______ =       =|__ /__                     ||      \\\\\\\n",
      "        ,--' ,----`-,__ ___/'  --,-`-===================##========>\n",
      "       \\               '        ##_______ _____ ,--,__,=##,__   ///\n",
      "        ,    __==    ___,-,__,--'#'  ==='      `-'    | ##,-/\n",
      "        -,____,---'       \\\\####\\\\________________,--\\\\_##,/\n",
      "           ___      .______        ______  __    __  .______      \n",
      "          /   \\     |   _  \\      /      ||  |  |  | |   _  \\     \n",
      "         /  ^  \\    |  |_)  |    |  ,----'|  |__|  | |  |_)  |    \n",
      "        /  /_\\  \\   |      /     |  |     |   __   | |      /     \n",
      "       /  _____  \\  |  |\\  \\\\___ |  `----.|  |  |  | |  |\\  \\\\___.\n",
      "      /__/     \\__\\ | _| `._____| \\______||__|  |__| | _| `._____|\n",
      "    \n",
      "\n",
      "ArchR : Version 1.0.2\n",
      "For more information see our website : www.ArchRProject.com\n",
      "If you encounter a bug please report : https://github.com/GreenleafLab/ArchR/issues\n",
      "\n",
      "Loading Required Packages...\n",
      "\n",
      "\tLoading Package : grid v4.0.4\n",
      "\n",
      "\tLoading Package : gridExtra v2.3\n",
      "\n",
      "\tLoading Package : gtools v3.9.3\n",
      "\n",
      "\tLoading Package : gtable v0.3.0\n",
      "\n",
      "\tLoading Package : ggplot2 v3.4.0\n",
      "\n",
      "\tLoading Package : magrittr v2.0.3\n",
      "\n",
      "\tLoading Package : plyr v1.8.8\n",
      "\n",
      "\tLoading Package : stringr v1.4.0\n",
      "\n",
      "\tLoading Package : data.table v1.14.4\n",
      "\n",
      "\tLoading Package : matrixStats v0.62.0\n",
      "\n",
      "\tLoading Package : S4Vectors v0.28.1\n",
      "\n",
      "\tLoading Package : GenomicRanges v1.42.0\n",
      "\n",
      "\tLoading Package : BiocGenerics v0.36.1\n",
      "\n",
      "\tLoading Package : Matrix v1.3.2\n",
      "\n",
      "\tLoading Package : Rcpp v1.0.9\n",
      "\n",
      "\tLoading Package : SummarizedExperiment v1.20.0\n",
      "\n",
      "\tLoading Package : rhdf5 v2.34.0\n",
      "\n",
      "Warning message in system(\"timedatectl\", intern = TRUE):\n",
      "“running command 'timedatectl' had status 1”\n",
      "── \u001b[1mAttaching packages\u001b[22m ─────────────────────────────────────── tidyverse 1.3.2 ──\n",
      "\u001b[32m✔\u001b[39m \u001b[34mtibble \u001b[39m 3.1.8      \u001b[32m✔\u001b[39m \u001b[34mpurrr  \u001b[39m 0.3.4 \n",
      "\u001b[32m✔\u001b[39m \u001b[34mtidyr  \u001b[39m 1.2.1      \u001b[32m✔\u001b[39m \u001b[34mdplyr  \u001b[39m 1.0.10\n",
      "\u001b[32m✔\u001b[39m \u001b[34mreadr  \u001b[39m 2.1.3      \u001b[32m✔\u001b[39m \u001b[34mforcats\u001b[39m 0.5.1 \n",
      "── \u001b[1mConflicts\u001b[22m ────────────────────────────────────────── tidyverse_conflicts() ──\n",
      "\u001b[31m✖\u001b[39m \u001b[34mdplyr\u001b[39m::\u001b[32marrange()\u001b[39m         masks \u001b[34mplyr\u001b[39m::arrange()\n",
      "\u001b[31m✖\u001b[39m \u001b[34mdplyr\u001b[39m::\u001b[32mbetween()\u001b[39m         masks \u001b[34mdata.table\u001b[39m::between()\n",
      "\u001b[31m✖\u001b[39m \u001b[34mdplyr\u001b[39m::\u001b[32mcollapse()\u001b[39m        masks \u001b[34mIRanges\u001b[39m::collapse()\n",
      "\u001b[31m✖\u001b[39m \u001b[34mdplyr\u001b[39m::\u001b[32mcombine()\u001b[39m         masks \u001b[34mBiobase\u001b[39m::combine(), \u001b[34mBiocGenerics\u001b[39m::combine(), \u001b[34mgridExtra\u001b[39m::combine()\n",
      "\u001b[31m✖\u001b[39m \u001b[34mpurrr\u001b[39m::\u001b[32mcompact()\u001b[39m         masks \u001b[34mplyr\u001b[39m::compact()\n",
      "\u001b[31m✖\u001b[39m \u001b[34mdplyr\u001b[39m::\u001b[32mcount()\u001b[39m           masks \u001b[34mmatrixStats\u001b[39m::count(), \u001b[34mplyr\u001b[39m::count()\n",
      "\u001b[31m✖\u001b[39m \u001b[34mdplyr\u001b[39m::\u001b[32mdesc()\u001b[39m            masks \u001b[34mIRanges\u001b[39m::desc(), \u001b[34mplyr\u001b[39m::desc()\n",
      "\u001b[31m✖\u001b[39m \u001b[34mtidyr\u001b[39m::\u001b[32mexpand()\u001b[39m          masks \u001b[34mMatrix\u001b[39m::expand(), \u001b[34mS4Vectors\u001b[39m::expand()\n",
      "\u001b[31m✖\u001b[39m \u001b[34mtidyr\u001b[39m::\u001b[32mextract()\u001b[39m         masks \u001b[34mmagrittr\u001b[39m::extract()\n",
      "\u001b[31m✖\u001b[39m \u001b[34mdplyr\u001b[39m::\u001b[32mfailwith()\u001b[39m        masks \u001b[34mplyr\u001b[39m::failwith()\n",
      "\u001b[31m✖\u001b[39m \u001b[34mdplyr\u001b[39m::\u001b[32mfilter()\u001b[39m          masks \u001b[34mstats\u001b[39m::filter()\n",
      "\u001b[31m✖\u001b[39m \u001b[34mdplyr\u001b[39m::\u001b[32mfirst()\u001b[39m           masks \u001b[34mS4Vectors\u001b[39m::first(), \u001b[34mdata.table\u001b[39m::first()\n",
      "\u001b[31m✖\u001b[39m \u001b[34mdplyr\u001b[39m::\u001b[32mid()\u001b[39m              masks \u001b[34mplyr\u001b[39m::id()\n",
      "\u001b[31m✖\u001b[39m \u001b[34mdplyr\u001b[39m::\u001b[32mlag()\u001b[39m             masks \u001b[34mstats\u001b[39m::lag()\n",
      "\u001b[31m✖\u001b[39m \u001b[34mdplyr\u001b[39m::\u001b[32mlast()\u001b[39m            masks \u001b[34mdata.table\u001b[39m::last()\n",
      "\u001b[31m✖\u001b[39m \u001b[34mdplyr\u001b[39m::\u001b[32mmutate()\u001b[39m          masks \u001b[34mplyr\u001b[39m::mutate()\n",
      "\u001b[31m✖\u001b[39m \u001b[34mtidyr\u001b[39m::\u001b[32mpack()\u001b[39m            masks \u001b[34mMatrix\u001b[39m::pack()\n",
      "\u001b[31m✖\u001b[39m \u001b[34mBiocGenerics\u001b[39m::\u001b[32mPosition()\u001b[39m masks \u001b[34mggplot2\u001b[39m::Position(), \u001b[34mbase\u001b[39m::Position()\n",
      "\u001b[31m✖\u001b[39m \u001b[34mpurrr\u001b[39m::\u001b[32mreduce()\u001b[39m          masks \u001b[34mGenomicRanges\u001b[39m::reduce(), \u001b[34mIRanges\u001b[39m::reduce()\n",
      "\u001b[31m✖\u001b[39m \u001b[34mdplyr\u001b[39m::\u001b[32mrename()\u001b[39m          masks \u001b[34mS4Vectors\u001b[39m::rename(), \u001b[34mplyr\u001b[39m::rename()\n",
      "\u001b[31m✖\u001b[39m \u001b[34mpurrr\u001b[39m::\u001b[32mset_names()\u001b[39m       masks \u001b[34mmagrittr\u001b[39m::set_names()\n",
      "\u001b[31m✖\u001b[39m \u001b[34mdplyr\u001b[39m::\u001b[32mslice()\u001b[39m           masks \u001b[34mIRanges\u001b[39m::slice()\n",
      "\u001b[31m✖\u001b[39m \u001b[34mdplyr\u001b[39m::\u001b[32msummarise()\u001b[39m       masks \u001b[34mplyr\u001b[39m::summarise()\n",
      "\u001b[31m✖\u001b[39m \u001b[34mdplyr\u001b[39m::\u001b[32msummarize()\u001b[39m       masks \u001b[34mplyr\u001b[39m::summarize()\n",
      "\u001b[31m✖\u001b[39m \u001b[34mpurrr\u001b[39m::\u001b[32mtranspose()\u001b[39m       masks \u001b[34mdata.table\u001b[39m::transpose()\n",
      "\u001b[31m✖\u001b[39m \u001b[34mtidyr\u001b[39m::\u001b[32munpack()\u001b[39m          masks \u001b[34mMatrix\u001b[39m::unpack()\n"
     ]
    }
   ],
   "source": [
    "library(ArchR)\n",
    "library(tidyverse)"
   ]
  },
  {
   "cell_type": "code",
   "execution_count": 2,
   "id": "victorian-specification",
   "metadata": {},
   "outputs": [
    {
     "data": {
      "text/plain": [
       "NULL"
      ]
     },
     "metadata": {},
     "output_type": "display_data"
    }
   ],
   "source": [
    "getwd()"
   ]
  },
  {
   "cell_type": "code",
   "execution_count": 3,
   "id": "sunrise-occurrence",
   "metadata": {},
   "outputs": [
    {
     "name": "stderr",
     "output_type": "stream",
     "text": [
      "Setting default genome to Hg38.\n",
      "\n"
     ]
    }
   ],
   "source": [
    "# before starting a project we must set the ArchRGenome and default threads for parallelization.\n",
    "# Setting default genome to Hg38.\n",
    "addArchRGenome(\"hg38\")"
   ]
  },
  {
   "cell_type": "code",
   "execution_count": 4,
   "id": "entitled-picture",
   "metadata": {},
   "outputs": [
    {
     "name": "stderr",
     "output_type": "stream",
     "text": [
      "Setting default number of Parallel threads to 10.\n",
      "\n"
     ]
    }
   ],
   "source": [
    "# Setting default number of Parallel threads to 16\n",
    "addArchRThreads(threads = 10) "
   ]
  },
  {
   "cell_type": "code",
   "execution_count": null,
   "id": "alone-toolbox",
   "metadata": {},
   "outputs": [],
   "source": []
  },
  {
   "cell_type": "markdown",
   "id": "coastal-gospel",
   "metadata": {},
   "source": [
    "## Prepare Arrow files"
   ]
  },
  {
   "cell_type": "code",
   "execution_count": 5,
   "id": "funded-union",
   "metadata": {},
   "outputs": [
    {
     "data": {
      "text/html": [
       "47"
      ],
      "text/latex": [
       "47"
      ],
      "text/markdown": [
       "47"
      ],
      "text/plain": [
       "[1] 47"
      ]
     },
     "metadata": {},
     "output_type": "display_data"
    },
    {
     "data": {
      "text/html": [
       "<style>\n",
       ".list-inline {list-style: none; margin:0; padding: 0}\n",
       ".list-inline>li {display: inline-block}\n",
       ".list-inline>li:not(:last-child)::after {content: \"\\00b7\"; padding: 0 .5ex}\n",
       "</style>\n",
       "<ol class=list-inline><li>'HCAHeart9508627_HCAHeart9508819.arrow'</li><li>'HCAHeart9508628_HCAHeart9508820.arrow'</li><li>'HCAHeart9508629_HCAHeart9508821.arrow'</li><li>'HCAHeart9845431_HCAHeart9917173.arrow'</li><li>'HCAHeart9845432_HCAHeart9917174.arrow'</li><li>'HCAHeart9845433_HCAHeart9917175.arrow'</li><li>'HCAHeart9845434_HCAHeart9917176.arrow'</li><li>'HCAHeart9845435_HCAHeart9917177.arrow'</li><li>'HCAHeart9845436_HCAHeart9917178.arrow'</li><li>'HCAHeartST10773165_HCAHeartST10781062.arrow'</li><li>'HCAHeartST10773166_HCAHeartST10781063.arrow'</li><li>'HCAHeartST10773167_HCAHeartST10781064.arrow'</li><li>'HCAHeartST10773168_HCAHeartST10781065.arrow'</li><li>'HCAHeartST10773169_HCAHeartST10781446.arrow'</li><li>'HCAHeartST10773170_HCAHeartST10781447.arrow'</li><li>'HCAHeartST10773171_HCAHeartST10781448.arrow'</li><li>'HCAHeartST11064574_HCAHeartST11023239.arrow'</li><li>'HCAHeartST11064575_HCAHeartST11023240.arrow'</li><li>'HCAHeartST11064576_HCAHeartST11023241.arrow'</li><li>'HCAHeartST11064577_HCAHeartST11023242.arrow'</li><li>'HCAHeartST11350184_HCAHeartST11121842.arrow'</li><li>'HCAHeartST11350186_HCAHeartST11121844.arrow'</li><li>'HCAHeartST11350187_HCAHeartST11121845.arrow'</li><li>'HCAHeartST11350192_HCAHeartST11445769.arrow'</li><li>'HCAHeartST11350193_HCAHeartST11445770.arrow'</li><li>'HCAHeartST11350194_HCAHeartST11445771.arrow'</li><li>'HCAHeartST11350195_HCAHeartST11445772.arrow'</li><li>'HCAHeartST11350196_HCAHeartST11445773.arrow'</li><li>'HCAHeartST11350197_HCAHeartST11445774.arrow'</li><li>'HCAHeartST11350198_HCAHeartST11445775.arrow'</li><li>'HCAHeartST13146201_HCAHeartST13129134.arrow'</li><li>'HCAHeartST13146202_HCAHeartST13129135.arrow'</li><li>'HCAHeartST13146203_HCAHeartST13129136.arrow'</li><li>'HCAHeartST13146204_HCAHeartST13129137.arrow'</li><li>'HCAHeartST13146205_HCAHeartST13129138.arrow'</li><li>'HCAHeartST13146206_HCAHeartST13129139.arrow'</li><li>'HCAHeartST13146207_HCAHeartST13129140.arrow'</li><li>'HCAHeartST13146208_HCAHeartST13129141.arrow'</li><li>'HCAHeartST13168796_HCAHeartST13167740.arrow'</li><li>'HCAHeartST13189995_HCAHeartST13188800.arrow'</li><li>'HCAHeartST13189996_HCAHeartST13188801.arrow'</li><li>'HCAHeartST13189997_HCAHeartST13188802.arrow'</li><li>'HCAHeartST13180615_HCAHeartST13177112.arrow'</li><li>'HCAHeartST13180616_HCAHeartST13177113.arrow'</li><li>'HCAHeartST13180617_HCAHeartST13177114.arrow'</li><li>'HCAHeartST13180618_HCAHeartST13177115.arrow'</li><li>'HCAHeartST13180619_HCAHeartST13177116.arrow'</li></ol>\n"
      ],
      "text/latex": [
       "\\begin{enumerate*}\n",
       "\\item 'HCAHeart9508627\\_HCAHeart9508819.arrow'\n",
       "\\item 'HCAHeart9508628\\_HCAHeart9508820.arrow'\n",
       "\\item 'HCAHeart9508629\\_HCAHeart9508821.arrow'\n",
       "\\item 'HCAHeart9845431\\_HCAHeart9917173.arrow'\n",
       "\\item 'HCAHeart9845432\\_HCAHeart9917174.arrow'\n",
       "\\item 'HCAHeart9845433\\_HCAHeart9917175.arrow'\n",
       "\\item 'HCAHeart9845434\\_HCAHeart9917176.arrow'\n",
       "\\item 'HCAHeart9845435\\_HCAHeart9917177.arrow'\n",
       "\\item 'HCAHeart9845436\\_HCAHeart9917178.arrow'\n",
       "\\item 'HCAHeartST10773165\\_HCAHeartST10781062.arrow'\n",
       "\\item 'HCAHeartST10773166\\_HCAHeartST10781063.arrow'\n",
       "\\item 'HCAHeartST10773167\\_HCAHeartST10781064.arrow'\n",
       "\\item 'HCAHeartST10773168\\_HCAHeartST10781065.arrow'\n",
       "\\item 'HCAHeartST10773169\\_HCAHeartST10781446.arrow'\n",
       "\\item 'HCAHeartST10773170\\_HCAHeartST10781447.arrow'\n",
       "\\item 'HCAHeartST10773171\\_HCAHeartST10781448.arrow'\n",
       "\\item 'HCAHeartST11064574\\_HCAHeartST11023239.arrow'\n",
       "\\item 'HCAHeartST11064575\\_HCAHeartST11023240.arrow'\n",
       "\\item 'HCAHeartST11064576\\_HCAHeartST11023241.arrow'\n",
       "\\item 'HCAHeartST11064577\\_HCAHeartST11023242.arrow'\n",
       "\\item 'HCAHeartST11350184\\_HCAHeartST11121842.arrow'\n",
       "\\item 'HCAHeartST11350186\\_HCAHeartST11121844.arrow'\n",
       "\\item 'HCAHeartST11350187\\_HCAHeartST11121845.arrow'\n",
       "\\item 'HCAHeartST11350192\\_HCAHeartST11445769.arrow'\n",
       "\\item 'HCAHeartST11350193\\_HCAHeartST11445770.arrow'\n",
       "\\item 'HCAHeartST11350194\\_HCAHeartST11445771.arrow'\n",
       "\\item 'HCAHeartST11350195\\_HCAHeartST11445772.arrow'\n",
       "\\item 'HCAHeartST11350196\\_HCAHeartST11445773.arrow'\n",
       "\\item 'HCAHeartST11350197\\_HCAHeartST11445774.arrow'\n",
       "\\item 'HCAHeartST11350198\\_HCAHeartST11445775.arrow'\n",
       "\\item 'HCAHeartST13146201\\_HCAHeartST13129134.arrow'\n",
       "\\item 'HCAHeartST13146202\\_HCAHeartST13129135.arrow'\n",
       "\\item 'HCAHeartST13146203\\_HCAHeartST13129136.arrow'\n",
       "\\item 'HCAHeartST13146204\\_HCAHeartST13129137.arrow'\n",
       "\\item 'HCAHeartST13146205\\_HCAHeartST13129138.arrow'\n",
       "\\item 'HCAHeartST13146206\\_HCAHeartST13129139.arrow'\n",
       "\\item 'HCAHeartST13146207\\_HCAHeartST13129140.arrow'\n",
       "\\item 'HCAHeartST13146208\\_HCAHeartST13129141.arrow'\n",
       "\\item 'HCAHeartST13168796\\_HCAHeartST13167740.arrow'\n",
       "\\item 'HCAHeartST13189995\\_HCAHeartST13188800.arrow'\n",
       "\\item 'HCAHeartST13189996\\_HCAHeartST13188801.arrow'\n",
       "\\item 'HCAHeartST13189997\\_HCAHeartST13188802.arrow'\n",
       "\\item 'HCAHeartST13180615\\_HCAHeartST13177112.arrow'\n",
       "\\item 'HCAHeartST13180616\\_HCAHeartST13177113.arrow'\n",
       "\\item 'HCAHeartST13180617\\_HCAHeartST13177114.arrow'\n",
       "\\item 'HCAHeartST13180618\\_HCAHeartST13177115.arrow'\n",
       "\\item 'HCAHeartST13180619\\_HCAHeartST13177116.arrow'\n",
       "\\end{enumerate*}\n"
      ],
      "text/markdown": [
       "1. 'HCAHeart9508627_HCAHeart9508819.arrow'\n",
       "2. 'HCAHeart9508628_HCAHeart9508820.arrow'\n",
       "3. 'HCAHeart9508629_HCAHeart9508821.arrow'\n",
       "4. 'HCAHeart9845431_HCAHeart9917173.arrow'\n",
       "5. 'HCAHeart9845432_HCAHeart9917174.arrow'\n",
       "6. 'HCAHeart9845433_HCAHeart9917175.arrow'\n",
       "7. 'HCAHeart9845434_HCAHeart9917176.arrow'\n",
       "8. 'HCAHeart9845435_HCAHeart9917177.arrow'\n",
       "9. 'HCAHeart9845436_HCAHeart9917178.arrow'\n",
       "10. 'HCAHeartST10773165_HCAHeartST10781062.arrow'\n",
       "11. 'HCAHeartST10773166_HCAHeartST10781063.arrow'\n",
       "12. 'HCAHeartST10773167_HCAHeartST10781064.arrow'\n",
       "13. 'HCAHeartST10773168_HCAHeartST10781065.arrow'\n",
       "14. 'HCAHeartST10773169_HCAHeartST10781446.arrow'\n",
       "15. 'HCAHeartST10773170_HCAHeartST10781447.arrow'\n",
       "16. 'HCAHeartST10773171_HCAHeartST10781448.arrow'\n",
       "17. 'HCAHeartST11064574_HCAHeartST11023239.arrow'\n",
       "18. 'HCAHeartST11064575_HCAHeartST11023240.arrow'\n",
       "19. 'HCAHeartST11064576_HCAHeartST11023241.arrow'\n",
       "20. 'HCAHeartST11064577_HCAHeartST11023242.arrow'\n",
       "21. 'HCAHeartST11350184_HCAHeartST11121842.arrow'\n",
       "22. 'HCAHeartST11350186_HCAHeartST11121844.arrow'\n",
       "23. 'HCAHeartST11350187_HCAHeartST11121845.arrow'\n",
       "24. 'HCAHeartST11350192_HCAHeartST11445769.arrow'\n",
       "25. 'HCAHeartST11350193_HCAHeartST11445770.arrow'\n",
       "26. 'HCAHeartST11350194_HCAHeartST11445771.arrow'\n",
       "27. 'HCAHeartST11350195_HCAHeartST11445772.arrow'\n",
       "28. 'HCAHeartST11350196_HCAHeartST11445773.arrow'\n",
       "29. 'HCAHeartST11350197_HCAHeartST11445774.arrow'\n",
       "30. 'HCAHeartST11350198_HCAHeartST11445775.arrow'\n",
       "31. 'HCAHeartST13146201_HCAHeartST13129134.arrow'\n",
       "32. 'HCAHeartST13146202_HCAHeartST13129135.arrow'\n",
       "33. 'HCAHeartST13146203_HCAHeartST13129136.arrow'\n",
       "34. 'HCAHeartST13146204_HCAHeartST13129137.arrow'\n",
       "35. 'HCAHeartST13146205_HCAHeartST13129138.arrow'\n",
       "36. 'HCAHeartST13146206_HCAHeartST13129139.arrow'\n",
       "37. 'HCAHeartST13146207_HCAHeartST13129140.arrow'\n",
       "38. 'HCAHeartST13146208_HCAHeartST13129141.arrow'\n",
       "39. 'HCAHeartST13168796_HCAHeartST13167740.arrow'\n",
       "40. 'HCAHeartST13189995_HCAHeartST13188800.arrow'\n",
       "41. 'HCAHeartST13189996_HCAHeartST13188801.arrow'\n",
       "42. 'HCAHeartST13189997_HCAHeartST13188802.arrow'\n",
       "43. 'HCAHeartST13180615_HCAHeartST13177112.arrow'\n",
       "44. 'HCAHeartST13180616_HCAHeartST13177113.arrow'\n",
       "45. 'HCAHeartST13180617_HCAHeartST13177114.arrow'\n",
       "46. 'HCAHeartST13180618_HCAHeartST13177115.arrow'\n",
       "47. 'HCAHeartST13180619_HCAHeartST13177116.arrow'\n",
       "\n",
       "\n"
      ],
      "text/plain": [
       " [1] \"HCAHeart9508627_HCAHeart9508819.arrow\"      \n",
       " [2] \"HCAHeart9508628_HCAHeart9508820.arrow\"      \n",
       " [3] \"HCAHeart9508629_HCAHeart9508821.arrow\"      \n",
       " [4] \"HCAHeart9845431_HCAHeart9917173.arrow\"      \n",
       " [5] \"HCAHeart9845432_HCAHeart9917174.arrow\"      \n",
       " [6] \"HCAHeart9845433_HCAHeart9917175.arrow\"      \n",
       " [7] \"HCAHeart9845434_HCAHeart9917176.arrow\"      \n",
       " [8] \"HCAHeart9845435_HCAHeart9917177.arrow\"      \n",
       " [9] \"HCAHeart9845436_HCAHeart9917178.arrow\"      \n",
       "[10] \"HCAHeartST10773165_HCAHeartST10781062.arrow\"\n",
       "[11] \"HCAHeartST10773166_HCAHeartST10781063.arrow\"\n",
       "[12] \"HCAHeartST10773167_HCAHeartST10781064.arrow\"\n",
       "[13] \"HCAHeartST10773168_HCAHeartST10781065.arrow\"\n",
       "[14] \"HCAHeartST10773169_HCAHeartST10781446.arrow\"\n",
       "[15] \"HCAHeartST10773170_HCAHeartST10781447.arrow\"\n",
       "[16] \"HCAHeartST10773171_HCAHeartST10781448.arrow\"\n",
       "[17] \"HCAHeartST11064574_HCAHeartST11023239.arrow\"\n",
       "[18] \"HCAHeartST11064575_HCAHeartST11023240.arrow\"\n",
       "[19] \"HCAHeartST11064576_HCAHeartST11023241.arrow\"\n",
       "[20] \"HCAHeartST11064577_HCAHeartST11023242.arrow\"\n",
       "[21] \"HCAHeartST11350184_HCAHeartST11121842.arrow\"\n",
       "[22] \"HCAHeartST11350186_HCAHeartST11121844.arrow\"\n",
       "[23] \"HCAHeartST11350187_HCAHeartST11121845.arrow\"\n",
       "[24] \"HCAHeartST11350192_HCAHeartST11445769.arrow\"\n",
       "[25] \"HCAHeartST11350193_HCAHeartST11445770.arrow\"\n",
       "[26] \"HCAHeartST11350194_HCAHeartST11445771.arrow\"\n",
       "[27] \"HCAHeartST11350195_HCAHeartST11445772.arrow\"\n",
       "[28] \"HCAHeartST11350196_HCAHeartST11445773.arrow\"\n",
       "[29] \"HCAHeartST11350197_HCAHeartST11445774.arrow\"\n",
       "[30] \"HCAHeartST11350198_HCAHeartST11445775.arrow\"\n",
       "[31] \"HCAHeartST13146201_HCAHeartST13129134.arrow\"\n",
       "[32] \"HCAHeartST13146202_HCAHeartST13129135.arrow\"\n",
       "[33] \"HCAHeartST13146203_HCAHeartST13129136.arrow\"\n",
       "[34] \"HCAHeartST13146204_HCAHeartST13129137.arrow\"\n",
       "[35] \"HCAHeartST13146205_HCAHeartST13129138.arrow\"\n",
       "[36] \"HCAHeartST13146206_HCAHeartST13129139.arrow\"\n",
       "[37] \"HCAHeartST13146207_HCAHeartST13129140.arrow\"\n",
       "[38] \"HCAHeartST13146208_HCAHeartST13129141.arrow\"\n",
       "[39] \"HCAHeartST13168796_HCAHeartST13167740.arrow\"\n",
       "[40] \"HCAHeartST13189995_HCAHeartST13188800.arrow\"\n",
       "[41] \"HCAHeartST13189996_HCAHeartST13188801.arrow\"\n",
       "[42] \"HCAHeartST13189997_HCAHeartST13188802.arrow\"\n",
       "[43] \"HCAHeartST13180615_HCAHeartST13177112.arrow\"\n",
       "[44] \"HCAHeartST13180616_HCAHeartST13177113.arrow\"\n",
       "[45] \"HCAHeartST13180617_HCAHeartST13177114.arrow\"\n",
       "[46] \"HCAHeartST13180618_HCAHeartST13177115.arrow\"\n",
       "[47] \"HCAHeartST13180619_HCAHeartST13177116.arrow\""
      ]
     },
     "metadata": {},
     "output_type": "display_data"
    }
   ],
   "source": [
    "# Prepare input files\n",
    "metadata = read.csv('/nfs/team205/heart/anndata_objects/8regions/metadata/HeartTeamSamples_Mappeddata_20221213.csv')\n",
    "metadata = metadata %>% filter(Publication %in% c('8regions','8regions_revision'))\n",
    "metadata = metadata %>% filter(modality=='Multiome-ATAC')\n",
    "\n",
    "ArrowFiles = metadata %>% pull('CombinedID_Multiome')\n",
    "ArrowFiles = paste0(ArrowFiles,'.arrow')\n",
    "length(ArrowFiles)\n",
    "ArrowFiles"
   ]
  },
  {
   "cell_type": "code",
   "execution_count": null,
   "id": "planned-benjamin",
   "metadata": {},
   "outputs": [],
   "source": []
  },
  {
   "cell_type": "markdown",
   "id": "comprehensive-repository",
   "metadata": {},
   "source": [
    "## Create an ArchR Project"
   ]
  },
  {
   "cell_type": "code",
   "execution_count": 6,
   "id": "noticed-basketball",
   "metadata": {},
   "outputs": [
    {
     "name": "stderr",
     "output_type": "stream",
     "text": [
      "Using GeneAnnotation set by addArchRGenome(Hg38)!\n",
      "\n",
      "Using GeneAnnotation set by addArchRGenome(Hg38)!\n",
      "\n",
      "Validating Arrows...\n",
      "\n",
      "Getting SampleNames...\n",
      "\n",
      "\n",
      "\n",
      "Getting Cell Metadata...\n",
      "\n",
      "\n",
      "\n",
      "Merging Cell Metadata...\n",
      "\n",
      "Initializing ArchRProject...\n",
      "\n",
      "\n",
      "                                                   / |\n",
      "                                                 /    \\\n",
      "            .                                  /      |.\n",
      "            \\\\\\                              /        |.\n",
      "              \\\\\\                          /           `|.\n",
      "                \\\\\\                      /              |.\n",
      "                  \\                    /                |\\\n",
      "                  \\\\#####\\           /                  ||\n",
      "                ==###########>      /                   ||\n",
      "                 \\\\##==......\\    /                     ||\n",
      "            ______ =       =|__ /__                     ||      \\\\\\\n",
      "        ,--' ,----`-,__ ___/'  --,-`-===================##========>\n",
      "       \\               '        ##_______ _____ ,--,__,=##,__   ///\n",
      "        ,    __==    ___,-,__,--'#'  ==='      `-'    | ##,-/\n",
      "        -,____,---'       \\\\####\\\\________________,--\\\\_##,/\n",
      "           ___      .______        ______  __    __  .______      \n",
      "          /   \\     |   _  \\      /      ||  |  |  | |   _  \\     \n",
      "         /  ^  \\    |  |_)  |    |  ,----'|  |__|  | |  |_)  |    \n",
      "        /  /_\\  \\   |      /     |  |     |   __   | |      /     \n",
      "       /  _____  \\  |  |\\  \\\\___ |  `----.|  |  |  | |  |\\  \\\\___.\n",
      "      /__/     \\__\\ | _| `._____| \\______||__|  |__| | _| `._____|\n",
      "    \n",
      "\n"
     ]
    }
   ],
   "source": [
    "proj <- ArchRProject(\n",
    "  ArrowFiles = ArrowFiles, \n",
    "  outputDirectory = \"project_output\",\n",
    "  copyArrows = FALSE, #This is recommened so that if you modify the Arrow files you have an original copy for later usage.\n",
    "    threads = 10\n",
    ")\n",
    "# copyArrows = FALSE since copy Arrows will be created when we save project file"
   ]
  },
  {
   "cell_type": "code",
   "execution_count": 7,
   "id": "continuous-answer",
   "metadata": {},
   "outputs": [
    {
     "name": "stderr",
     "output_type": "stream",
     "text": [
      "\n",
      "           ___      .______        ______  __    __  .______      \n",
      "          /   \\     |   _  \\      /      ||  |  |  | |   _  \\     \n",
      "         /  ^  \\    |  |_)  |    |  ,----'|  |__|  | |  |_)  |    \n",
      "        /  /_\\  \\   |      /     |  |     |   __   | |      /     \n",
      "       /  _____  \\  |  |\\  \\\\___ |  `----.|  |  |  | |  |\\  \\\\___.\n",
      "      /__/     \\__\\ | _| `._____| \\______||__|  |__| | _| `._____|\n",
      "    \n",
      "\n"
     ]
    },
    {
     "data": {
      "text/plain": [
       "class: ArchRProject \n",
       "outputDirectory: /nfs/team205/heart/anndata_objects/8regions/ArchR/project_output \n",
       "samples(47): HCAHeart9508627_HCAHeart9508819\n",
       "  HCAHeart9508628_HCAHeart9508820 ...\n",
       "  HCAHeartST13180618_HCAHeartST13177115\n",
       "  HCAHeartST13180619_HCAHeartST13177116\n",
       "sampleColData names(1): ArrowFiles\n",
       "cellColData names(15): Sample TSSEnrichment ... DoubletEnrichment\n",
       "  BlacklistRatio\n",
       "numberOfCells(1): 260684\n",
       "medianTSS(1): 8.17\n",
       "medianFrags(1): 8303"
      ]
     },
     "metadata": {},
     "output_type": "display_data"
    }
   ],
   "source": [
    "proj"
   ]
  },
  {
   "cell_type": "code",
   "execution_count": 8,
   "id": "occupational-butler",
   "metadata": {},
   "outputs": [
    {
     "data": {
      "text/html": [
       "<style>\n",
       ".list-inline {list-style: none; margin:0; padding: 0}\n",
       ".list-inline>li {display: inline-block}\n",
       ".list-inline>li:not(:last-child)::after {content: \"\\00b7\"; padding: 0 .5ex}\n",
       "</style>\n",
       "<ol class=list-inline><li>'Sample'</li><li>'TSSEnrichment'</li><li>'ReadsInTSS'</li><li>'ReadsInPromoter'</li><li>'ReadsInBlacklist'</li><li>'PromoterRatio'</li><li>'PassQC'</li><li>'NucleosomeRatio'</li><li>'nMultiFrags'</li><li>'nMonoFrags'</li><li>'nFrags'</li><li>'nDiFrags'</li><li>'DoubletScore'</li><li>'DoubletEnrichment'</li><li>'BlacklistRatio'</li></ol>\n"
      ],
      "text/latex": [
       "\\begin{enumerate*}\n",
       "\\item 'Sample'\n",
       "\\item 'TSSEnrichment'\n",
       "\\item 'ReadsInTSS'\n",
       "\\item 'ReadsInPromoter'\n",
       "\\item 'ReadsInBlacklist'\n",
       "\\item 'PromoterRatio'\n",
       "\\item 'PassQC'\n",
       "\\item 'NucleosomeRatio'\n",
       "\\item 'nMultiFrags'\n",
       "\\item 'nMonoFrags'\n",
       "\\item 'nFrags'\n",
       "\\item 'nDiFrags'\n",
       "\\item 'DoubletScore'\n",
       "\\item 'DoubletEnrichment'\n",
       "\\item 'BlacklistRatio'\n",
       "\\end{enumerate*}\n"
      ],
      "text/markdown": [
       "1. 'Sample'\n",
       "2. 'TSSEnrichment'\n",
       "3. 'ReadsInTSS'\n",
       "4. 'ReadsInPromoter'\n",
       "5. 'ReadsInBlacklist'\n",
       "6. 'PromoterRatio'\n",
       "7. 'PassQC'\n",
       "8. 'NucleosomeRatio'\n",
       "9. 'nMultiFrags'\n",
       "10. 'nMonoFrags'\n",
       "11. 'nFrags'\n",
       "12. 'nDiFrags'\n",
       "13. 'DoubletScore'\n",
       "14. 'DoubletEnrichment'\n",
       "15. 'BlacklistRatio'\n",
       "\n",
       "\n"
      ],
      "text/plain": [
       " [1] \"Sample\"            \"TSSEnrichment\"     \"ReadsInTSS\"       \n",
       " [4] \"ReadsInPromoter\"   \"ReadsInBlacklist\"  \"PromoterRatio\"    \n",
       " [7] \"PassQC\"            \"NucleosomeRatio\"   \"nMultiFrags\"      \n",
       "[10] \"nMonoFrags\"        \"nFrags\"            \"nDiFrags\"         \n",
       "[13] \"DoubletScore\"      \"DoubletEnrichment\" \"BlacklistRatio\"   "
      ]
     },
     "metadata": {},
     "output_type": "display_data"
    }
   ],
   "source": [
    "colnames(proj@cellColData)"
   ]
  },
  {
   "cell_type": "code",
   "execution_count": 9,
   "id": "flush-canada",
   "metadata": {},
   "outputs": [
    {
     "data": {
      "text/html": [
       "'Memory Size = 118.603 MB'"
      ],
      "text/latex": [
       "'Memory Size = 118.603 MB'"
      ],
      "text/markdown": [
       "'Memory Size = 118.603 MB'"
      ],
      "text/plain": [
       "[1] \"Memory Size = 118.603 MB\""
      ]
     },
     "metadata": {},
     "output_type": "display_data"
    }
   ],
   "source": [
    "paste0(\"Memory Size = \", round(object.size(proj) / 10^6, 3), \" MB\")"
   ]
  },
  {
   "cell_type": "code",
   "execution_count": null,
   "id": "provincial-indie",
   "metadata": {},
   "outputs": [],
   "source": []
  },
  {
   "cell_type": "markdown",
   "id": "applicable-dutch",
   "metadata": {},
   "source": [
    "## Plotting"
   ]
  },
  {
   "cell_type": "code",
   "execution_count": 10,
   "id": "assured-actress",
   "metadata": {},
   "outputs": [
    {
     "name": "stderr",
     "output_type": "stream",
     "text": [
      "Length of unique values greater than palette, interpolating..\n",
      "\n",
      "1 \n",
      "\n",
      "\n"
     ]
    },
    {
     "data": {
      "image/png": "[encoded data removed]",
      "text/plain": [
       "plot without title"
      ]
     },
     "metadata": {
      "image/png": {
       "height": 420,
       "width": 420
      }
     },
     "output_type": "display_data"
    }
   ],
   "source": [
    "# TSS enrichment score\n",
    "p1 <- plotGroups(\n",
    "    ArchRProj = proj, \n",
    "    groupBy = \"Sample\", \n",
    "    colorBy = \"cellColData\", \n",
    "    name = \"TSSEnrichment\",\n",
    "    plotAs = \"violin\",\n",
    "    alpha = 0.4,\n",
    "    addBoxPlot = TRUE\n",
    "   )\n",
    "p1"
   ]
  },
  {
   "cell_type": "code",
   "execution_count": 11,
   "id": "alive-carnival",
   "metadata": {},
   "outputs": [
    {
     "name": "stderr",
     "output_type": "stream",
     "text": [
      "Length of unique values greater than palette, interpolating..\n",
      "\n",
      "1 \n",
      "\n",
      "\n"
     ]
    },
    {
     "data": {
      "image/png": "[encoded data removed]",
      "text/plain": [
       "plot without title"
      ]
     },
     "metadata": {
      "image/png": {
       "height": 420,
       "width": 420
      }
     },
     "output_type": "display_data"
    }
   ],
   "source": [
    "# log10(unique nuclear fragments)\n",
    "p2 <- plotGroups(\n",
    "    ArchRProj = proj, \n",
    "    groupBy = \"Sample\", \n",
    "    colorBy = \"cellColData\", \n",
    "    name = \"log10(nFrags)\",\n",
    "    plotAs = \"violin\",\n",
    "    alpha = 0.4,\n",
    "    addBoxPlot = TRUE\n",
    "   )\n",
    "p2"
   ]
  },
  {
   "cell_type": "code",
   "execution_count": 12,
   "id": "revised-czech",
   "metadata": {},
   "outputs": [
    {
     "name": "stderr",
     "output_type": "stream",
     "text": [
      "Plotting Ggplot!\n",
      "\n",
      "Plotting Ggplot!\n",
      "\n"
     ]
    }
   ],
   "source": [
    "plotPDF(p1,p2, name = \"QC-Sample-Statistics.pdf\", ArchRProj = proj, addDOC = FALSE, width = 8, height = 5)"
   ]
  },
  {
   "cell_type": "code",
   "execution_count": null,
   "id": "classified-arthritis",
   "metadata": {},
   "outputs": [],
   "source": []
  },
  {
   "cell_type": "code",
   "execution_count": null,
   "id": "dangerous-income",
   "metadata": {},
   "outputs": [],
   "source": []
  },
  {
   "cell_type": "markdown",
   "id": "responsible-double",
   "metadata": {},
   "source": [
    "## Identify which samples don't have annotated (QCed) cells"
   ]
  },
  {
   "cell_type": "code",
   "execution_count": 10,
   "id": "present-philosophy",
   "metadata": {},
   "outputs": [
    {
     "data": {
      "text/html": [
       "<table class=\"dataframe\">\n",
       "<caption>A data.frame: 6 × 28</caption>\n",
       "<thead>\n",
       "\t<tr><th></th><th scope=col>sangerID</th><th scope=col>combinedID</th><th scope=col>donor</th><th scope=col>donor_type</th><th scope=col>region</th><th scope=col>region_finest</th><th scope=col>age</th><th scope=col>gender</th><th scope=col>facility</th><th scope=col>cell_or_nuclei</th><th scope=col>⋯</th><th scope=col>total_counts_ribo</th><th scope=col>pct_counts_ribo</th><th scope=col>scrublet_score</th><th scope=col>scrublet_leiden</th><th scope=col>cluster_scrublet_score</th><th scope=col>doublet_pval</th><th scope=col>doublet_bh_pval</th><th scope=col>batch_key</th><th scope=col>cell_type</th><th scope=col>cell_state</th></tr>\n",
       "\t<tr><th></th><th scope=col>&lt;chr&gt;</th><th scope=col>&lt;chr&gt;</th><th scope=col>&lt;chr&gt;</th><th scope=col>&lt;chr&gt;</th><th scope=col>&lt;chr&gt;</th><th scope=col>&lt;chr&gt;</th><th scope=col>&lt;chr&gt;</th><th scope=col>&lt;chr&gt;</th><th scope=col>&lt;chr&gt;</th><th scope=col>&lt;chr&gt;</th><th scope=col>⋯</th><th scope=col>&lt;dbl&gt;</th><th scope=col>&lt;dbl&gt;</th><th scope=col>&lt;dbl&gt;</th><th scope=col>&lt;chr&gt;</th><th scope=col>&lt;dbl&gt;</th><th scope=col>&lt;dbl&gt;</th><th scope=col>&lt;dbl&gt;</th><th scope=col>&lt;chr&gt;</th><th scope=col>&lt;chr&gt;</th><th scope=col>&lt;chr&gt;</th></tr>\n",
       "</thead>\n",
       "<tbody>\n",
       "\t<tr><th scope=row>HCAHeart9508627_HCAHeart9508819_TCAATCGCAGTAAAGC-1</th><td>HCAHeart9508627</td><td>HCAHeart9508627_HCAHeart9508819</td><td>D3</td><td>DBD</td><td>LV</td><td>LV</td><td>55-60</td><td>Male</td><td>Sanger</td><td>Nuclei</td><td>⋯</td><td>1010</td><td>0.3940879</td><td>0.2523962</td><td>6,6</td><td>0.2523962</td><td>0.06455196</td><td>0.7769916</td><td>D3_Nuclei_Multiome-v1</td><td>Fibroblast               </td><td>unclassified </td></tr>\n",
       "\t<tr><th scope=row>HCAHeart9508627_HCAHeart9508819_CTGCTCCCAACTGGCT-1</th><td>HCAHeart9508627</td><td>HCAHeart9508627_HCAHeart9508819</td><td>D3</td><td>DBD</td><td>LV</td><td>LV</td><td>55-60</td><td>Male</td><td>Sanger</td><td>Nuclei</td><td>⋯</td><td> 570</td><td>0.4180479</td><td>0.2087912</td><td>6,0</td><td>0.1968504</td><td>0.15931894</td><td>0.7769916</td><td>D3_Nuclei_Multiome-v1</td><td>Fibroblast               </td><td>FB4_activated</td></tr>\n",
       "\t<tr><th scope=row>HCAHeart9508627_HCAHeart9508819_GTTTCCTCATCATGTG-1</th><td>HCAHeart9508627</td><td>HCAHeart9508627_HCAHeart9508819</td><td>D3</td><td>DBD</td><td>LV</td><td>LV</td><td>55-60</td><td>Male</td><td>Sanger</td><td>Nuclei</td><td>⋯</td><td> 509</td><td>0.3757151</td><td>0.1428571</td><td>9,1</td><td>0.1759036</td><td>0.21156012</td><td>0.7769916</td><td>D3_Nuclei_Multiome-v1</td><td>Ventricular Cardiomyocyte</td><td>vCM3_stressed</td></tr>\n",
       "\t<tr><th scope=row>HCAHeart9508627_HCAHeart9508819_ATTAGCGGTCGCAAAC-1</th><td>HCAHeart9508627</td><td>HCAHeart9508627_HCAHeart9508819</td><td>D3</td><td>DBD</td><td>LV</td><td>LV</td><td>55-60</td><td>Male</td><td>Sanger</td><td>Nuclei</td><td>⋯</td><td> 403</td><td>0.4526717</td><td>0.2219020</td><td>6,6</td><td>0.2523962</td><td>0.06455196</td><td>0.7769916</td><td>D3_Nuclei_Multiome-v1</td><td>Fibroblast               </td><td>unclassified </td></tr>\n",
       "\t<tr><th scope=row>HCAHeart9508627_HCAHeart9508819_ACTTAGGGTGCGCATG-1</th><td>HCAHeart9508627</td><td>HCAHeart9508627_HCAHeart9508819</td><td>D3</td><td>DBD</td><td>LV</td><td>LV</td><td>55-60</td><td>Male</td><td>Sanger</td><td>Nuclei</td><td>⋯</td><td> 307</td><td>0.3614827</td><td>0.1968504</td><td>9,1</td><td>0.1759036</td><td>0.21156012</td><td>0.7769916</td><td>D3_Nuclei_Multiome-v1</td><td>Ventricular Cardiomyocyte</td><td>vCM3_stressed</td></tr>\n",
       "\t<tr><th scope=row>HCAHeart9508627_HCAHeart9508819_CAATCCCTCTACCTGC-1</th><td>HCAHeart9508627</td><td>HCAHeart9508627_HCAHeart9508819</td><td>D3</td><td>DBD</td><td>LV</td><td>LV</td><td>55-60</td><td>Male</td><td>Sanger</td><td>Nuclei</td><td>⋯</td><td> 221</td><td>0.2763571</td><td>0.1759036</td><td>9,1</td><td>0.1759036</td><td>0.21156012</td><td>0.7769916</td><td>D3_Nuclei_Multiome-v1</td><td>Ventricular Cardiomyocyte</td><td>vCM3_stressed</td></tr>\n",
       "</tbody>\n",
       "</table>\n"
      ],
      "text/latex": [
       "A data.frame: 6 × 28\n",
       "\\begin{tabular}{r|lllllllllllllllllllll}\n",
       "  & sangerID & combinedID & donor & donor\\_type & region & region\\_finest & age & gender & facility & cell\\_or\\_nuclei & ⋯ & total\\_counts\\_ribo & pct\\_counts\\_ribo & scrublet\\_score & scrublet\\_leiden & cluster\\_scrublet\\_score & doublet\\_pval & doublet\\_bh\\_pval & batch\\_key & cell\\_type & cell\\_state\\\\\n",
       "  & <chr> & <chr> & <chr> & <chr> & <chr> & <chr> & <chr> & <chr> & <chr> & <chr> & ⋯ & <dbl> & <dbl> & <dbl> & <chr> & <dbl> & <dbl> & <dbl> & <chr> & <chr> & <chr>\\\\\n",
       "\\hline\n",
       "\tHCAHeart9508627\\_HCAHeart9508819\\_TCAATCGCAGTAAAGC-1 & HCAHeart9508627 & HCAHeart9508627\\_HCAHeart9508819 & D3 & DBD & LV & LV & 55-60 & Male & Sanger & Nuclei & ⋯ & 1010 & 0.3940879 & 0.2523962 & 6,6 & 0.2523962 & 0.06455196 & 0.7769916 & D3\\_Nuclei\\_Multiome-v1 & Fibroblast                & unclassified \\\\\n",
       "\tHCAHeart9508627\\_HCAHeart9508819\\_CTGCTCCCAACTGGCT-1 & HCAHeart9508627 & HCAHeart9508627\\_HCAHeart9508819 & D3 & DBD & LV & LV & 55-60 & Male & Sanger & Nuclei & ⋯ &  570 & 0.4180479 & 0.2087912 & 6,0 & 0.1968504 & 0.15931894 & 0.7769916 & D3\\_Nuclei\\_Multiome-v1 & Fibroblast                & FB4\\_activated\\\\\n",
       "\tHCAHeart9508627\\_HCAHeart9508819\\_GTTTCCTCATCATGTG-1 & HCAHeart9508627 & HCAHeart9508627\\_HCAHeart9508819 & D3 & DBD & LV & LV & 55-60 & Male & Sanger & Nuclei & ⋯ &  509 & 0.3757151 & 0.1428571 & 9,1 & 0.1759036 & 0.21156012 & 0.7769916 & D3\\_Nuclei\\_Multiome-v1 & Ventricular Cardiomyocyte & vCM3\\_stressed\\\\\n",
       "\tHCAHeart9508627\\_HCAHeart9508819\\_ATTAGCGGTCGCAAAC-1 & HCAHeart9508627 & HCAHeart9508627\\_HCAHeart9508819 & D3 & DBD & LV & LV & 55-60 & Male & Sanger & Nuclei & ⋯ &  403 & 0.4526717 & 0.2219020 & 6,6 & 0.2523962 & 0.06455196 & 0.7769916 & D3\\_Nuclei\\_Multiome-v1 & Fibroblast                & unclassified \\\\\n",
       "\tHCAHeart9508627\\_HCAHeart9508819\\_ACTTAGGGTGCGCATG-1 & HCAHeart9508627 & HCAHeart9508627\\_HCAHeart9508819 & D3 & DBD & LV & LV & 55-60 & Male & Sanger & Nuclei & ⋯ &  307 & 0.3614827 & 0.1968504 & 9,1 & 0.1759036 & 0.21156012 & 0.7769916 & D3\\_Nuclei\\_Multiome-v1 & Ventricular Cardiomyocyte & vCM3\\_stressed\\\\\n",
       "\tHCAHeart9508627\\_HCAHeart9508819\\_CAATCCCTCTACCTGC-1 & HCAHeart9508627 & HCAHeart9508627\\_HCAHeart9508819 & D3 & DBD & LV & LV & 55-60 & Male & Sanger & Nuclei & ⋯ &  221 & 0.2763571 & 0.1759036 & 9,1 & 0.1759036 & 0.21156012 & 0.7769916 & D3\\_Nuclei\\_Multiome-v1 & Ventricular Cardiomyocyte & vCM3\\_stressed\\\\\n",
       "\\end{tabular}\n"
      ],
      "text/markdown": [
       "\n",
       "A data.frame: 6 × 28\n",
       "\n",
       "| <!--/--> | sangerID &lt;chr&gt; | combinedID &lt;chr&gt; | donor &lt;chr&gt; | donor_type &lt;chr&gt; | region &lt;chr&gt; | region_finest &lt;chr&gt; | age &lt;chr&gt; | gender &lt;chr&gt; | facility &lt;chr&gt; | cell_or_nuclei &lt;chr&gt; | ⋯ ⋯ | total_counts_ribo &lt;dbl&gt; | pct_counts_ribo &lt;dbl&gt; | scrublet_score &lt;dbl&gt; | scrublet_leiden &lt;chr&gt; | cluster_scrublet_score &lt;dbl&gt; | doublet_pval &lt;dbl&gt; | doublet_bh_pval &lt;dbl&gt; | batch_key &lt;chr&gt; | cell_type &lt;chr&gt; | cell_state &lt;chr&gt; |\n",
       "|---|---|---|---|---|---|---|---|---|---|---|---|---|---|---|---|---|---|---|---|---|---|\n",
       "| HCAHeart9508627_HCAHeart9508819_TCAATCGCAGTAAAGC-1 | HCAHeart9508627 | HCAHeart9508627_HCAHeart9508819 | D3 | DBD | LV | LV | 55-60 | Male | Sanger | Nuclei | ⋯ | 1010 | 0.3940879 | 0.2523962 | 6,6 | 0.2523962 | 0.06455196 | 0.7769916 | D3_Nuclei_Multiome-v1 | Fibroblast                | unclassified  |\n",
       "| HCAHeart9508627_HCAHeart9508819_CTGCTCCCAACTGGCT-1 | HCAHeart9508627 | HCAHeart9508627_HCAHeart9508819 | D3 | DBD | LV | LV | 55-60 | Male | Sanger | Nuclei | ⋯ |  570 | 0.4180479 | 0.2087912 | 6,0 | 0.1968504 | 0.15931894 | 0.7769916 | D3_Nuclei_Multiome-v1 | Fibroblast                | FB4_activated |\n",
       "| HCAHeart9508627_HCAHeart9508819_GTTTCCTCATCATGTG-1 | HCAHeart9508627 | HCAHeart9508627_HCAHeart9508819 | D3 | DBD | LV | LV | 55-60 | Male | Sanger | Nuclei | ⋯ |  509 | 0.3757151 | 0.1428571 | 9,1 | 0.1759036 | 0.21156012 | 0.7769916 | D3_Nuclei_Multiome-v1 | Ventricular Cardiomyocyte | vCM3_stressed |\n",
       "| HCAHeart9508627_HCAHeart9508819_ATTAGCGGTCGCAAAC-1 | HCAHeart9508627 | HCAHeart9508627_HCAHeart9508819 | D3 | DBD | LV | LV | 55-60 | Male | Sanger | Nuclei | ⋯ |  403 | 0.4526717 | 0.2219020 | 6,6 | 0.2523962 | 0.06455196 | 0.7769916 | D3_Nuclei_Multiome-v1 | Fibroblast                | unclassified  |\n",
       "| HCAHeart9508627_HCAHeart9508819_ACTTAGGGTGCGCATG-1 | HCAHeart9508627 | HCAHeart9508627_HCAHeart9508819 | D3 | DBD | LV | LV | 55-60 | Male | Sanger | Nuclei | ⋯ |  307 | 0.3614827 | 0.1968504 | 9,1 | 0.1759036 | 0.21156012 | 0.7769916 | D3_Nuclei_Multiome-v1 | Ventricular Cardiomyocyte | vCM3_stressed |\n",
       "| HCAHeart9508627_HCAHeart9508819_CAATCCCTCTACCTGC-1 | HCAHeart9508627 | HCAHeart9508627_HCAHeart9508819 | D3 | DBD | LV | LV | 55-60 | Male | Sanger | Nuclei | ⋯ |  221 | 0.2763571 | 0.1759036 | 9,1 | 0.1759036 | 0.21156012 | 0.7769916 | D3_Nuclei_Multiome-v1 | Ventricular Cardiomyocyte | vCM3_stressed |\n",
       "\n"
      ],
      "text/plain": [
       "                                                   sangerID       \n",
       "HCAHeart9508627_HCAHeart9508819_TCAATCGCAGTAAAGC-1 HCAHeart9508627\n",
       "HCAHeart9508627_HCAHeart9508819_CTGCTCCCAACTGGCT-1 HCAHeart9508627\n",
       "HCAHeart9508627_HCAHeart9508819_GTTTCCTCATCATGTG-1 HCAHeart9508627\n",
       "HCAHeart9508627_HCAHeart9508819_ATTAGCGGTCGCAAAC-1 HCAHeart9508627\n",
       "HCAHeart9508627_HCAHeart9508819_ACTTAGGGTGCGCATG-1 HCAHeart9508627\n",
       "HCAHeart9508627_HCAHeart9508819_CAATCCCTCTACCTGC-1 HCAHeart9508627\n",
       "                                                   combinedID                     \n",
       "HCAHeart9508627_HCAHeart9508819_TCAATCGCAGTAAAGC-1 HCAHeart9508627_HCAHeart9508819\n",
       "HCAHeart9508627_HCAHeart9508819_CTGCTCCCAACTGGCT-1 HCAHeart9508627_HCAHeart9508819\n",
       "HCAHeart9508627_HCAHeart9508819_GTTTCCTCATCATGTG-1 HCAHeart9508627_HCAHeart9508819\n",
       "HCAHeart9508627_HCAHeart9508819_ATTAGCGGTCGCAAAC-1 HCAHeart9508627_HCAHeart9508819\n",
       "HCAHeart9508627_HCAHeart9508819_ACTTAGGGTGCGCATG-1 HCAHeart9508627_HCAHeart9508819\n",
       "HCAHeart9508627_HCAHeart9508819_CAATCCCTCTACCTGC-1 HCAHeart9508627_HCAHeart9508819\n",
       "                                                   donor donor_type region\n",
       "HCAHeart9508627_HCAHeart9508819_TCAATCGCAGTAAAGC-1 D3    DBD        LV    \n",
       "HCAHeart9508627_HCAHeart9508819_CTGCTCCCAACTGGCT-1 D3    DBD        LV    \n",
       "HCAHeart9508627_HCAHeart9508819_GTTTCCTCATCATGTG-1 D3    DBD        LV    \n",
       "HCAHeart9508627_HCAHeart9508819_ATTAGCGGTCGCAAAC-1 D3    DBD        LV    \n",
       "HCAHeart9508627_HCAHeart9508819_ACTTAGGGTGCGCATG-1 D3    DBD        LV    \n",
       "HCAHeart9508627_HCAHeart9508819_CAATCCCTCTACCTGC-1 D3    DBD        LV    \n",
       "                                                   region_finest age   gender\n",
       "HCAHeart9508627_HCAHeart9508819_TCAATCGCAGTAAAGC-1 LV            55-60 Male  \n",
       "HCAHeart9508627_HCAHeart9508819_CTGCTCCCAACTGGCT-1 LV            55-60 Male  \n",
       "HCAHeart9508627_HCAHeart9508819_GTTTCCTCATCATGTG-1 LV            55-60 Male  \n",
       "HCAHeart9508627_HCAHeart9508819_ATTAGCGGTCGCAAAC-1 LV            55-60 Male  \n",
       "HCAHeart9508627_HCAHeart9508819_ACTTAGGGTGCGCATG-1 LV            55-60 Male  \n",
       "HCAHeart9508627_HCAHeart9508819_CAATCCCTCTACCTGC-1 LV            55-60 Male  \n",
       "                                                   facility cell_or_nuclei ⋯\n",
       "HCAHeart9508627_HCAHeart9508819_TCAATCGCAGTAAAGC-1 Sanger   Nuclei         ⋯\n",
       "HCAHeart9508627_HCAHeart9508819_CTGCTCCCAACTGGCT-1 Sanger   Nuclei         ⋯\n",
       "HCAHeart9508627_HCAHeart9508819_GTTTCCTCATCATGTG-1 Sanger   Nuclei         ⋯\n",
       "HCAHeart9508627_HCAHeart9508819_ATTAGCGGTCGCAAAC-1 Sanger   Nuclei         ⋯\n",
       "HCAHeart9508627_HCAHeart9508819_ACTTAGGGTGCGCATG-1 Sanger   Nuclei         ⋯\n",
       "HCAHeart9508627_HCAHeart9508819_CAATCCCTCTACCTGC-1 Sanger   Nuclei         ⋯\n",
       "                                                   total_counts_ribo\n",
       "HCAHeart9508627_HCAHeart9508819_TCAATCGCAGTAAAGC-1 1010             \n",
       "HCAHeart9508627_HCAHeart9508819_CTGCTCCCAACTGGCT-1  570             \n",
       "HCAHeart9508627_HCAHeart9508819_GTTTCCTCATCATGTG-1  509             \n",
       "HCAHeart9508627_HCAHeart9508819_ATTAGCGGTCGCAAAC-1  403             \n",
       "HCAHeart9508627_HCAHeart9508819_ACTTAGGGTGCGCATG-1  307             \n",
       "HCAHeart9508627_HCAHeart9508819_CAATCCCTCTACCTGC-1  221             \n",
       "                                                   pct_counts_ribo\n",
       "HCAHeart9508627_HCAHeart9508819_TCAATCGCAGTAAAGC-1 0.3940879      \n",
       "HCAHeart9508627_HCAHeart9508819_CTGCTCCCAACTGGCT-1 0.4180479      \n",
       "HCAHeart9508627_HCAHeart9508819_GTTTCCTCATCATGTG-1 0.3757151      \n",
       "HCAHeart9508627_HCAHeart9508819_ATTAGCGGTCGCAAAC-1 0.4526717      \n",
       "HCAHeart9508627_HCAHeart9508819_ACTTAGGGTGCGCATG-1 0.3614827      \n",
       "HCAHeart9508627_HCAHeart9508819_CAATCCCTCTACCTGC-1 0.2763571      \n",
       "                                                   scrublet_score\n",
       "HCAHeart9508627_HCAHeart9508819_TCAATCGCAGTAAAGC-1 0.2523962     \n",
       "HCAHeart9508627_HCAHeart9508819_CTGCTCCCAACTGGCT-1 0.2087912     \n",
       "HCAHeart9508627_HCAHeart9508819_GTTTCCTCATCATGTG-1 0.1428571     \n",
       "HCAHeart9508627_HCAHeart9508819_ATTAGCGGTCGCAAAC-1 0.2219020     \n",
       "HCAHeart9508627_HCAHeart9508819_ACTTAGGGTGCGCATG-1 0.1968504     \n",
       "HCAHeart9508627_HCAHeart9508819_CAATCCCTCTACCTGC-1 0.1759036     \n",
       "                                                   scrublet_leiden\n",
       "HCAHeart9508627_HCAHeart9508819_TCAATCGCAGTAAAGC-1 6,6            \n",
       "HCAHeart9508627_HCAHeart9508819_CTGCTCCCAACTGGCT-1 6,0            \n",
       "HCAHeart9508627_HCAHeart9508819_GTTTCCTCATCATGTG-1 9,1            \n",
       "HCAHeart9508627_HCAHeart9508819_ATTAGCGGTCGCAAAC-1 6,6            \n",
       "HCAHeart9508627_HCAHeart9508819_ACTTAGGGTGCGCATG-1 9,1            \n",
       "HCAHeart9508627_HCAHeart9508819_CAATCCCTCTACCTGC-1 9,1            \n",
       "                                                   cluster_scrublet_score\n",
       "HCAHeart9508627_HCAHeart9508819_TCAATCGCAGTAAAGC-1 0.2523962             \n",
       "HCAHeart9508627_HCAHeart9508819_CTGCTCCCAACTGGCT-1 0.1968504             \n",
       "HCAHeart9508627_HCAHeart9508819_GTTTCCTCATCATGTG-1 0.1759036             \n",
       "HCAHeart9508627_HCAHeart9508819_ATTAGCGGTCGCAAAC-1 0.2523962             \n",
       "HCAHeart9508627_HCAHeart9508819_ACTTAGGGTGCGCATG-1 0.1759036             \n",
       "HCAHeart9508627_HCAHeart9508819_CAATCCCTCTACCTGC-1 0.1759036             \n",
       "                                                   doublet_pval doublet_bh_pval\n",
       "HCAHeart9508627_HCAHeart9508819_TCAATCGCAGTAAAGC-1 0.06455196   0.7769916      \n",
       "HCAHeart9508627_HCAHeart9508819_CTGCTCCCAACTGGCT-1 0.15931894   0.7769916      \n",
       "HCAHeart9508627_HCAHeart9508819_GTTTCCTCATCATGTG-1 0.21156012   0.7769916      \n",
       "HCAHeart9508627_HCAHeart9508819_ATTAGCGGTCGCAAAC-1 0.06455196   0.7769916      \n",
       "HCAHeart9508627_HCAHeart9508819_ACTTAGGGTGCGCATG-1 0.21156012   0.7769916      \n",
       "HCAHeart9508627_HCAHeart9508819_CAATCCCTCTACCTGC-1 0.21156012   0.7769916      \n",
       "                                                   batch_key            \n",
       "HCAHeart9508627_HCAHeart9508819_TCAATCGCAGTAAAGC-1 D3_Nuclei_Multiome-v1\n",
       "HCAHeart9508627_HCAHeart9508819_CTGCTCCCAACTGGCT-1 D3_Nuclei_Multiome-v1\n",
       "HCAHeart9508627_HCAHeart9508819_GTTTCCTCATCATGTG-1 D3_Nuclei_Multiome-v1\n",
       "HCAHeart9508627_HCAHeart9508819_ATTAGCGGTCGCAAAC-1 D3_Nuclei_Multiome-v1\n",
       "HCAHeart9508627_HCAHeart9508819_ACTTAGGGTGCGCATG-1 D3_Nuclei_Multiome-v1\n",
       "HCAHeart9508627_HCAHeart9508819_CAATCCCTCTACCTGC-1 D3_Nuclei_Multiome-v1\n",
       "                                                   cell_type                \n",
       "HCAHeart9508627_HCAHeart9508819_TCAATCGCAGTAAAGC-1 Fibroblast               \n",
       "HCAHeart9508627_HCAHeart9508819_CTGCTCCCAACTGGCT-1 Fibroblast               \n",
       "HCAHeart9508627_HCAHeart9508819_GTTTCCTCATCATGTG-1 Ventricular Cardiomyocyte\n",
       "HCAHeart9508627_HCAHeart9508819_ATTAGCGGTCGCAAAC-1 Fibroblast               \n",
       "HCAHeart9508627_HCAHeart9508819_ACTTAGGGTGCGCATG-1 Ventricular Cardiomyocyte\n",
       "HCAHeart9508627_HCAHeart9508819_CAATCCCTCTACCTGC-1 Ventricular Cardiomyocyte\n",
       "                                                   cell_state   \n",
       "HCAHeart9508627_HCAHeart9508819_TCAATCGCAGTAAAGC-1 unclassified \n",
       "HCAHeart9508627_HCAHeart9508819_CTGCTCCCAACTGGCT-1 FB4_activated\n",
       "HCAHeart9508627_HCAHeart9508819_GTTTCCTCATCATGTG-1 vCM3_stressed\n",
       "HCAHeart9508627_HCAHeart9508819_ATTAGCGGTCGCAAAC-1 unclassified \n",
       "HCAHeart9508627_HCAHeart9508819_ACTTAGGGTGCGCATG-1 vCM3_stressed\n",
       "HCAHeart9508627_HCAHeart9508819_CAATCCCTCTACCTGC-1 vCM3_stressed"
      ]
     },
     "metadata": {},
     "output_type": "display_data"
    },
    {
     "data": {
      "text/plain": [
       "\n",
       "            aCM1             aCM2             aCM3             aCM4 \n",
       "            5004             9083             1462             3388 \n",
       "           Adip1            Adip2            Adip3  AVN_bundle_cell \n",
       "            1535              624               90               38 \n",
       "      AVN_P_cell                B         B_plasma          CD14+Mo \n",
       "             155              329              165              734 \n",
       "         CD16+Mo        CD4+T_act      CD4+T_naive      CD8+T_cytox \n",
       "            1431             1108             1139              148 \n",
       "        CD8+T_em         CD8+T_te      CD8+T_trans               DC \n",
       "             757              496             1002              285 \n",
       "         EC1_cap    EC10_CMC-like          EC2_cap          EC3_cap \n",
       "            3979             3110              895             1176 \n",
       "      EC4_immune          EC5_art          EC6_ven  EC7_endocardial \n",
       "            2087             4560             3799             5834 \n",
       "          EC8_ln              FB1              FB2              FB3 \n",
       "             509             5272            17299            13906 \n",
       "   FB4_activated              FB5              FB6              ILC \n",
       "           17279             5813             2585               46 \n",
       "   LYVE1+IGF1+MP LYVE1+MP_cycling   LYVE1+TIMD4+MP        MAIT-like \n",
       "            5270             1012            10363              153 \n",
       "            Mast             Meso             MoMP        NC1_glial \n",
       "             518               98             3532             2189 \n",
       "  NC2_glial_NGF+             Neut        NK_CD16hi        NK_CD56hi \n",
       "             316               34             1147              524 \n",
       "        PC1_vent        PC2_atria          PC3_str     PC4_CMC-like \n",
       "            3771             5118             3384               44 \n",
       "   Purkinje_cell       SAN_P_cell       SMC1_basic         SMC2_art \n",
       "              27              245              977              859 \n",
       "    T/NK_cycling     unclassified             vCM1             vCM2 \n",
       "              63             8342            18795             5709 \n",
       "   vCM3_stressed             vCM4             vCM5 \n",
       "            4544            16894               10 "
      ]
     },
     "metadata": {},
     "output_type": "display_data"
    }
   ],
   "source": [
    "# prepare cells which was annotated\n",
    "# 8regions, full: original + new dataset\n",
    "obs = read.csv('/nfs/team205/heart/anndata_objects/8regions/RNA_adult-8reg_full_raw_cellstate-annotated.obs.csv',row.names=1)\n",
    "obs = obs %>% filter(modality=='Multiome-RNA') %>% select('sangerID','combinedID','donor','donor_type','region',\n",
    "                                                          'region_finest','age','gender','facility','cell_or_nuclei',\n",
    "                                                          'modality','kit_10x','flushed','n_genes','n_genes_by_counts',\n",
    "                                                          'total_counts','total_counts_mt','pct_counts_mt','total_counts_ribo',\n",
    "                                                          'pct_counts_ribo','scrublet_score','scrublet_leiden','cluster_scrublet_score',\n",
    "                                                          'doublet_pval','doublet_bh_pval','batch_key','cell_type',\n",
    "                                                          'cell_state')\n",
    "\n",
    "head(obs)\n",
    "table(obs$cell_state)"
   ]
  },
  {
   "cell_type": "code",
   "execution_count": null,
   "id": "optional-corner",
   "metadata": {},
   "outputs": [],
   "source": []
  },
  {
   "cell_type": "markdown",
   "id": "registered-impact",
   "metadata": {},
   "source": [
    "## Add fine-grained cell type annotation from RNA data"
   ]
  },
  {
   "cell_type": "code",
   "execution_count": 11,
   "id": "minimal-lyric",
   "metadata": {},
   "outputs": [
    {
     "data": {
      "text/html": [
       "<style>\n",
       ".list-inline {list-style: none; margin:0; padding: 0}\n",
       ".list-inline>li {display: inline-block}\n",
       ".list-inline>li:not(:last-child)::after {content: \"\\00b7\"; padding: 0 .5ex}\n",
       "</style>\n",
       "<ol class=list-inline><li>'HCAHeart9508627_HCAHeart9508819_TTGATGTCATAATCGT-1'</li><li>'HCAHeart9508627_HCAHeart9508819_GATTGGTTCGGCCAGT-1'</li><li>'HCAHeart9508627_HCAHeart9508819_TGTGCAAGTAGGTTGC-1'</li><li>'HCAHeart9508627_HCAHeart9508819_GCAGGCTTCCTAAGGT-1'</li><li>'HCAHeart9508627_HCAHeart9508819_GGTCTTTGTACCGGAT-1'</li><li>'HCAHeart9508627_HCAHeart9508819_GAGGAGGCAATAGTCT-1'</li><li>'HCAHeart9508627_HCAHeart9508819_ATCCTGACACTGGCTG-1'</li><li>'HCAHeart9508627_HCAHeart9508819_GACCTGCAGGCTACAT-1'</li><li>'HCAHeart9508627_HCAHeart9508819_AATCATGTCTGCAAAC-1'</li><li>'HCAHeart9508627_HCAHeart9508819_TGTCCTTCAGTCTAAT-1'</li></ol>\n"
      ],
      "text/latex": [
       "\\begin{enumerate*}\n",
       "\\item 'HCAHeart9508627\\_HCAHeart9508819\\_TTGATGTCATAATCGT-1'\n",
       "\\item 'HCAHeart9508627\\_HCAHeart9508819\\_GATTGGTTCGGCCAGT-1'\n",
       "\\item 'HCAHeart9508627\\_HCAHeart9508819\\_TGTGCAAGTAGGTTGC-1'\n",
       "\\item 'HCAHeart9508627\\_HCAHeart9508819\\_GCAGGCTTCCTAAGGT-1'\n",
       "\\item 'HCAHeart9508627\\_HCAHeart9508819\\_GGTCTTTGTACCGGAT-1'\n",
       "\\item 'HCAHeart9508627\\_HCAHeart9508819\\_GAGGAGGCAATAGTCT-1'\n",
       "\\item 'HCAHeart9508627\\_HCAHeart9508819\\_ATCCTGACACTGGCTG-1'\n",
       "\\item 'HCAHeart9508627\\_HCAHeart9508819\\_GACCTGCAGGCTACAT-1'\n",
       "\\item 'HCAHeart9508627\\_HCAHeart9508819\\_AATCATGTCTGCAAAC-1'\n",
       "\\item 'HCAHeart9508627\\_HCAHeart9508819\\_TGTCCTTCAGTCTAAT-1'\n",
       "\\end{enumerate*}\n"
      ],
      "text/markdown": [
       "1. 'HCAHeart9508627_HCAHeart9508819_TTGATGTCATAATCGT-1'\n",
       "2. 'HCAHeart9508627_HCAHeart9508819_GATTGGTTCGGCCAGT-1'\n",
       "3. 'HCAHeart9508627_HCAHeart9508819_TGTGCAAGTAGGTTGC-1'\n",
       "4. 'HCAHeart9508627_HCAHeart9508819_GCAGGCTTCCTAAGGT-1'\n",
       "5. 'HCAHeart9508627_HCAHeart9508819_GGTCTTTGTACCGGAT-1'\n",
       "6. 'HCAHeart9508627_HCAHeart9508819_GAGGAGGCAATAGTCT-1'\n",
       "7. 'HCAHeart9508627_HCAHeart9508819_ATCCTGACACTGGCTG-1'\n",
       "8. 'HCAHeart9508627_HCAHeart9508819_GACCTGCAGGCTACAT-1'\n",
       "9. 'HCAHeart9508627_HCAHeart9508819_AATCATGTCTGCAAAC-1'\n",
       "10. 'HCAHeart9508627_HCAHeart9508819_TGTCCTTCAGTCTAAT-1'\n",
       "\n",
       "\n"
      ],
      "text/plain": [
       " [1] \"HCAHeart9508627_HCAHeart9508819_TTGATGTCATAATCGT-1\"\n",
       " [2] \"HCAHeart9508627_HCAHeart9508819_GATTGGTTCGGCCAGT-1\"\n",
       " [3] \"HCAHeart9508627_HCAHeart9508819_TGTGCAAGTAGGTTGC-1\"\n",
       " [4] \"HCAHeart9508627_HCAHeart9508819_GCAGGCTTCCTAAGGT-1\"\n",
       " [5] \"HCAHeart9508627_HCAHeart9508819_GGTCTTTGTACCGGAT-1\"\n",
       " [6] \"HCAHeart9508627_HCAHeart9508819_GAGGAGGCAATAGTCT-1\"\n",
       " [7] \"HCAHeart9508627_HCAHeart9508819_ATCCTGACACTGGCTG-1\"\n",
       " [8] \"HCAHeart9508627_HCAHeart9508819_GACCTGCAGGCTACAT-1\"\n",
       " [9] \"HCAHeart9508627_HCAHeart9508819_AATCATGTCTGCAAAC-1\"\n",
       "[10] \"HCAHeart9508627_HCAHeart9508819_TGTCCTTCAGTCTAAT-1\""
      ]
     },
     "metadata": {},
     "output_type": "display_data"
    }
   ],
   "source": [
    "# change cell names to match with .obs metadata\n",
    "proj$cellNames_mod = gsub(\"#\", \"_\", proj$cellNames)\n",
    "proj$cellNames_mod[1:10]"
   ]
  },
  {
   "cell_type": "code",
   "execution_count": 12,
   "id": "photographic-praise",
   "metadata": {},
   "outputs": [
    {
     "data": {
      "text/html": [
       "144762"
      ],
      "text/latex": [
       "144762"
      ],
      "text/markdown": [
       "144762"
      ],
      "text/plain": [
       "[1] 144762"
      ]
     },
     "metadata": {},
     "output_type": "display_data"
    },
    {
     "name": "stderr",
     "output_type": "stream",
     "text": [
      "\n",
      "           ___      .______        ______  __    __  .______      \n",
      "          /   \\     |   _  \\      /      ||  |  |  | |   _  \\     \n",
      "         /  ^  \\    |  |_)  |    |  ,----'|  |__|  | |  |_)  |    \n",
      "        /  /_\\  \\   |      /     |  |     |   __   | |      /     \n",
      "       /  _____  \\  |  |\\  \\\\___ |  `----.|  |  |  | |  |\\  \\\\___.\n",
      "      /__/     \\__\\ | _| `._____| \\______||__|  |__| | _| `._____|\n",
      "    \n",
      "\n"
     ]
    },
    {
     "data": {
      "text/plain": [
       "class: ArchRProject \n",
       "outputDirectory: /nfs/team205/heart/anndata_objects/8regions/ArchR/project_output \n",
       "samples(47): HCAHeart9508627_HCAHeart9508819\n",
       "  HCAHeart9508628_HCAHeart9508820 ...\n",
       "  HCAHeartST13180618_HCAHeartST13177115\n",
       "  HCAHeartST13180619_HCAHeartST13177116\n",
       "sampleColData names(1): ArrowFiles\n",
       "cellColData names(16): Sample TSSEnrichment ... BlacklistRatio\n",
       "  cellNames_mod\n",
       "numberOfCells(1): 144762\n",
       "medianTSS(1): 8.677\n",
       "medianFrags(1): 9588"
      ]
     },
     "metadata": {},
     "output_type": "display_data"
    },
    {
     "data": {
      "text/html": [
       "<style>\n",
       ".list-inline {list-style: none; margin:0; padding: 0}\n",
       ".list-inline>li {display: inline-block}\n",
       ".list-inline>li:not(:last-child)::after {content: \"\\00b7\"; padding: 0 .5ex}\n",
       "</style>\n",
       "<ol class=list-inline><li>144762</li><li>28</li></ol>\n"
      ],
      "text/latex": [
       "\\begin{enumerate*}\n",
       "\\item 144762\n",
       "\\item 28\n",
       "\\end{enumerate*}\n"
      ],
      "text/markdown": [
       "1. 144762\n",
       "2. 28\n",
       "\n",
       "\n"
      ],
      "text/plain": [
       "[1] 144762     28"
      ]
     },
     "metadata": {},
     "output_type": "display_data"
    }
   ],
   "source": [
    "# keep cellColData dataframe for later use\n",
    "cellColData_prefilter = proj@cellColData\n",
    "\n",
    "# select shared cells between RNA and ATAC\n",
    "shared_cells = intersect(proj$cellNames_mod, rownames(obs))\n",
    "length(shared_cells)\n",
    "\n",
    "# select shared cells fromr the ArchR pobject\n",
    "idxSample <- BiocGenerics::which(proj$cellNames_mod %in% shared_cells)\n",
    "cellsSample <- proj$cellNames[idxSample]\n",
    "proj = proj[cellsSample, ]\n",
    "proj\n",
    "\n",
    "# select shared cells fromr the .obs metadata\n",
    "obs = obs[proj$cellNames_mod, ]\n",
    "dim(obs)"
   ]
  },
  {
   "cell_type": "code",
   "execution_count": 13,
   "id": "radio-train",
   "metadata": {},
   "outputs": [
    {
     "data": {
      "text/html": [
       "47"
      ],
      "text/latex": [
       "47"
      ],
      "text/markdown": [
       "47"
      ],
      "text/plain": [
       "[1] 47"
      ]
     },
     "metadata": {},
     "output_type": "display_data"
    }
   ],
   "source": [
    "length(unique(proj@cellColData$Sample))"
   ]
  },
  {
   "cell_type": "code",
   "execution_count": 14,
   "id": "instructional-skating",
   "metadata": {},
   "outputs": [],
   "source": [
    "# add metadata\n",
    "for (c in colnames(obs)){\n",
    "    proj = addCellColData(ArchRProj = proj, data = obs[[c]], cells = proj$cellNames, name = c)\n",
    "}"
   ]
  },
  {
   "cell_type": "code",
   "execution_count": 15,
   "id": "passive-theology",
   "metadata": {},
   "outputs": [
    {
     "name": "stderr",
     "output_type": "stream",
     "text": [
      "\n",
      "           ___      .______        ______  __    __  .______      \n",
      "          /   \\     |   _  \\      /      ||  |  |  | |   _  \\     \n",
      "         /  ^  \\    |  |_)  |    |  ,----'|  |__|  | |  |_)  |    \n",
      "        /  /_\\  \\   |      /     |  |     |   __   | |      /     \n",
      "       /  _____  \\  |  |\\  \\\\___ |  `----.|  |  |  | |  |\\  \\\\___.\n",
      "      /__/     \\__\\ | _| `._____| \\______||__|  |__| | _| `._____|\n",
      "    \n",
      "\n"
     ]
    },
    {
     "data": {
      "text/plain": [
       "class: ArchRProject \n",
       "outputDirectory: /nfs/team205/heart/anndata_objects/8regions/ArchR/project_output \n",
       "samples(47): HCAHeart9508627_HCAHeart9508819\n",
       "  HCAHeart9508628_HCAHeart9508820 ...\n",
       "  HCAHeartST13180618_HCAHeartST13177115\n",
       "  HCAHeartST13180619_HCAHeartST13177116\n",
       "sampleColData names(1): ArrowFiles\n",
       "cellColData names(44): Sample TSSEnrichment ... cell_type cell_state\n",
       "numberOfCells(1): 144762\n",
       "medianTSS(1): 8.677\n",
       "medianFrags(1): 9588"
      ]
     },
     "metadata": {},
     "output_type": "display_data"
    }
   ],
   "source": [
    "proj"
   ]
  },
  {
   "cell_type": "code",
   "execution_count": 16,
   "id": "essential-harmony",
   "metadata": {},
   "outputs": [
    {
     "data": {
      "text/plain": [
       "\n",
       "            aCM1             aCM2             aCM3             aCM4 \n",
       "            3443             7420             1021             1993 \n",
       "           Adip1            Adip2            Adip3  AVN_bundle_cell \n",
       "             896              423               55               26 \n",
       "      AVN_P_cell                B         B_plasma          CD14+Mo \n",
       "              91              238              107              467 \n",
       "         CD16+Mo        CD4+T_act      CD4+T_naive      CD8+T_cytox \n",
       "             964              659              683               94 \n",
       "        CD8+T_em         CD8+T_te      CD8+T_trans               DC \n",
       "             475              283              608              189 \n",
       "         EC1_cap    EC10_CMC-like          EC2_cap          EC3_cap \n",
       "            2763             2064              623              783 \n",
       "      EC4_immune          EC5_art          EC6_ven  EC7_endocardial \n",
       "            1571             2980             2482             2838 \n",
       "          EC8_ln              FB1              FB2              FB3 \n",
       "             334             3751            12149             9266 \n",
       "   FB4_activated              FB5              FB6              ILC \n",
       "           11636             3970             1707               29 \n",
       "   LYVE1+IGF1+MP LYVE1+MP_cycling   LYVE1+TIMD4+MP        MAIT-like \n",
       "            3514              675             5725               94 \n",
       "            Mast             Meso             MoMP        NC1_glial \n",
       "             274               62             2126             1350 \n",
       "  NC2_glial_NGF+             Neut        NK_CD16hi        NK_CD56hi \n",
       "             231                4              756              339 \n",
       "        PC1_vent        PC2_atria          PC3_str     PC4_CMC-like \n",
       "            2811             3512             2538               28 \n",
       "   Purkinje_cell       SAN_P_cell       SMC1_basic         SMC2_art \n",
       "              13              169              680              552 \n",
       "    T/NK_cycling     unclassified             vCM1             vCM2 \n",
       "              34             4914            13484             3980 \n",
       "   vCM3_stressed             vCM4             vCM5 \n",
       "            3750            14057                9 "
      ]
     },
     "metadata": {},
     "output_type": "display_data"
    }
   ],
   "source": [
    "table(proj$cell_state)"
   ]
  },
  {
   "cell_type": "code",
   "execution_count": null,
   "id": "dominican-halifax",
   "metadata": {},
   "outputs": [],
   "source": []
  },
  {
   "cell_type": "markdown",
   "id": "separate-guess",
   "metadata": {},
   "source": [
    "## Save project"
   ]
  },
  {
   "cell_type": "code",
   "execution_count": 27,
   "id": "minimal-dining",
   "metadata": {},
   "outputs": [
    {
     "name": "stderr",
     "output_type": "stream",
     "text": [
      "Copying Arrow Files...\n",
      "\n",
      "Copying Arrow Files (1 of 47)\n",
      "\n",
      "Copying Arrow Files (2 of 47)\n",
      "\n",
      "Copying Arrow Files (3 of 47)\n",
      "\n",
      "Copying Arrow Files (4 of 47)\n",
      "\n",
      "Copying Arrow Files (5 of 47)\n",
      "\n",
      "Copying Arrow Files (6 of 47)\n",
      "\n",
      "Copying Arrow Files (7 of 47)\n",
      "\n",
      "Copying Arrow Files (8 of 47)\n",
      "\n",
      "Copying Arrow Files (9 of 47)\n",
      "\n",
      "Copying Arrow Files (10 of 47)\n",
      "\n",
      "Copying Arrow Files (11 of 47)\n",
      "\n",
      "Copying Arrow Files (12 of 47)\n",
      "\n",
      "Copying Arrow Files (13 of 47)\n",
      "\n",
      "Copying Arrow Files (14 of 47)\n",
      "\n",
      "Copying Arrow Files (15 of 47)\n",
      "\n",
      "Copying Arrow Files (16 of 47)\n",
      "\n",
      "Copying Arrow Files (17 of 47)\n",
      "\n",
      "Copying Arrow Files (18 of 47)\n",
      "\n",
      "Copying Arrow Files (19 of 47)\n",
      "\n",
      "Copying Arrow Files (20 of 47)\n",
      "\n",
      "Copying Arrow Files (21 of 47)\n",
      "\n",
      "Copying Arrow Files (22 of 47)\n",
      "\n",
      "Copying Arrow Files (23 of 47)\n",
      "\n",
      "Copying Arrow Files (24 of 47)\n",
      "\n",
      "Copying Arrow Files (25 of 47)\n",
      "\n",
      "Copying Arrow Files (26 of 47)\n",
      "\n",
      "Copying Arrow Files (27 of 47)\n",
      "\n",
      "Copying Arrow Files (28 of 47)\n",
      "\n",
      "Copying Arrow Files (29 of 47)\n",
      "\n",
      "Copying Arrow Files (30 of 47)\n",
      "\n",
      "Copying Arrow Files (31 of 47)\n",
      "\n",
      "Copying Arrow Files (32 of 47)\n",
      "\n",
      "Copying Arrow Files (33 of 47)\n",
      "\n",
      "Copying Arrow Files (34 of 47)\n",
      "\n",
      "Copying Arrow Files (35 of 47)\n",
      "\n",
      "Copying Arrow Files (36 of 47)\n",
      "\n",
      "Copying Arrow Files (37 of 47)\n",
      "\n",
      "Copying Arrow Files (38 of 47)\n",
      "\n",
      "Copying Arrow Files (39 of 47)\n",
      "\n",
      "Copying Arrow Files (40 of 47)\n",
      "\n",
      "Copying Arrow Files (41 of 47)\n",
      "\n",
      "Copying Arrow Files (42 of 47)\n",
      "\n",
      "Copying Arrow Files (43 of 47)\n",
      "\n",
      "Copying Arrow Files (44 of 47)\n",
      "\n",
      "Copying Arrow Files (45 of 47)\n",
      "\n",
      "Copying Arrow Files (46 of 47)\n",
      "\n",
      "Copying Arrow Files (47 of 47)\n",
      "\n",
      "Saving ArchRProject...\n",
      "\n"
     ]
    }
   ],
   "source": [
    "saveArchRProject(ArchRProj = proj, outputDirectory = \"project_output\", load = FALSE)"
   ]
  },
  {
   "cell_type": "code",
   "execution_count": 28,
   "id": "supreme-explanation",
   "metadata": {},
   "outputs": [
    {
     "data": {
      "text/html": [
       "'/nfs/team205/heart/anndata_objects/8regions/ArchR'"
      ],
      "text/latex": [
       "'/nfs/team205/heart/anndata\\_objects/8regions/ArchR'"
      ],
      "text/markdown": [
       "'/nfs/team205/heart/anndata_objects/8regions/ArchR'"
      ],
      "text/plain": [
       "[1] \"/nfs/team205/heart/anndata_objects/8regions/ArchR\""
      ]
     },
     "metadata": {},
     "output_type": "display_data"
    }
   ],
   "source": [
    "getwd()"
   ]
  },
  {
   "cell_type": "code",
   "execution_count": null,
   "id": "varying-analyst",
   "metadata": {},
   "outputs": [],
   "source": []
  },
  {
   "cell_type": "code",
   "execution_count": null,
   "id": "pediatric-wesley",
   "metadata": {},
   "outputs": [],
   "source": []
  }
 ],
 "metadata": {
  "kernelspec": {
   "display_name": "R",
   "language": "R",
   "name": "r"
  },
  "language_info": {
   "codemirror_mode": "r",
   "file_extension": ".r",
   "mimetype": "text/x-r-source",
   "name": "R",
   "pygments_lexer": "r",
   "version": "4.0.4"
  }
 },
 "nbformat": 4,
 "nbformat_minor": 5
}
