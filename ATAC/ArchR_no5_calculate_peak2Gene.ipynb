{
 "cells": [
  {
   "cell_type": "code",
   "execution_count": 1,
   "id": "polyphonic-hospital",
   "metadata": {},
   "outputs": [
    {
     "name": "stderr",
     "output_type": "stream",
     "text": [
      "\n",
      "                                                   / |\n",
      "                                                 /    \\\n",
      "            .                                  /      |.\n",
      "            \\\\\\                              /        |.\n",
      "              \\\\\\                          /           `|.\n",
      "                \\\\\\                      /              |.\n",
      "                  \\                    /                |\\\n",
      "                  \\\\#####\\           /                  ||\n",
      "                ==###########>      /                   ||\n",
      "                 \\\\##==......\\    /                     ||\n",
      "            ______ =       =|__ /__                     ||      \\\\\\\n",
      "        ,--' ,----`-,__ ___/'  --,-`-===================##========>\n",
      "       \\               '        ##_______ _____ ,--,__,=##,__   ///\n",
      "        ,    __==    ___,-,__,--'#'  ==='      `-'    | ##,-/\n",
      "        -,____,---'       \\\\####\\\\________________,--\\\\_##,/\n",
      "           ___      .______        ______  __    __  .______      \n",
      "          /   \\     |   _  \\      /      ||  |  |  | |   _  \\     \n",
      "         /  ^  \\    |  |_)  |    |  ,----'|  |__|  | |  |_)  |    \n",
      "        /  /_\\  \\   |      /     |  |     |   __   | |      /     \n",
      "       /  _____  \\  |  |\\  \\\\___ |  `----.|  |  |  | |  |\\  \\\\___.\n",
      "      /__/     \\__\\ | _| `._____| \\______||__|  |__| | _| `._____|\n",
      "    \n",
      "\n",
      "ArchR : Version 1.0.2\n",
      "For more information see our website : www.ArchRProject.com\n",
      "If you encounter a bug please report : https://github.com/GreenleafLab/ArchR/issues\n",
      "\n",
      "Loading Required Packages...\n",
      "\n",
      "\tLoading Package : grid v4.0.4\n",
      "\n",
      "\tLoading Package : gridExtra v2.3\n",
      "\n",
      "\tLoading Package : gtools v3.9.3\n",
      "\n",
      "\tLoading Package : gtable v0.3.0\n",
      "\n",
      "\tLoading Package : ggplot2 v3.4.0\n",
      "\n",
      "\tLoading Package : magrittr v2.0.3\n",
      "\n",
      "\tLoading Package : plyr v1.8.8\n",
      "\n",
      "\tLoading Package : stringr v1.4.0\n",
      "\n",
      "\tLoading Package : data.table v1.14.4\n",
      "\n",
      "\tLoading Package : matrixStats v0.62.0\n",
      "\n",
      "\tLoading Package : S4Vectors v0.28.1\n",
      "\n",
      "\tLoading Package : GenomicRanges v1.42.0\n",
      "\n",
      "\tLoading Package : BiocGenerics v0.36.1\n",
      "\n",
      "\tLoading Package : Matrix v1.3.2\n",
      "\n",
      "\tLoading Package : Rcpp v1.0.9\n",
      "\n",
      "\tLoading Package : SummarizedExperiment v1.20.0\n",
      "\n",
      "\tLoading Package : rhdf5 v2.34.0\n",
      "\n",
      "Warning message in system(\"timedatectl\", intern = TRUE):\n",
      "“running command 'timedatectl' had status 1”\n",
      "── \u001b[1mAttaching packages\u001b[22m ─────────────────────────────────────── tidyverse 1.3.2 ──\n",
      "\u001b[32m✔\u001b[39m \u001b[34mtibble \u001b[39m 3.1.8      \u001b[32m✔\u001b[39m \u001b[34mpurrr  \u001b[39m 0.3.4 \n",
      "\u001b[32m✔\u001b[39m \u001b[34mtidyr  \u001b[39m 1.2.1      \u001b[32m✔\u001b[39m \u001b[34mdplyr  \u001b[39m 1.0.10\n",
      "\u001b[32m✔\u001b[39m \u001b[34mreadr  \u001b[39m 2.1.3      \u001b[32m✔\u001b[39m \u001b[34mforcats\u001b[39m 0.5.1 \n",
      "── \u001b[1mConflicts\u001b[22m ────────────────────────────────────────── tidyverse_conflicts() ──\n",
      "\u001b[31m✖\u001b[39m \u001b[34mdplyr\u001b[39m::\u001b[32marrange()\u001b[39m         masks \u001b[34mplyr\u001b[39m::arrange()\n",
      "\u001b[31m✖\u001b[39m \u001b[34mdplyr\u001b[39m::\u001b[32mbetween()\u001b[39m         masks \u001b[34mdata.table\u001b[39m::between()\n",
      "\u001b[31m✖\u001b[39m \u001b[34mdplyr\u001b[39m::\u001b[32mcollapse()\u001b[39m        masks \u001b[34mIRanges\u001b[39m::collapse()\n",
      "\u001b[31m✖\u001b[39m \u001b[34mdplyr\u001b[39m::\u001b[32mcombine()\u001b[39m         masks \u001b[34mBiobase\u001b[39m::combine(), \u001b[34mBiocGenerics\u001b[39m::combine(), \u001b[34mgridExtra\u001b[39m::combine()\n",
      "\u001b[31m✖\u001b[39m \u001b[34mpurrr\u001b[39m::\u001b[32mcompact()\u001b[39m         masks \u001b[34mplyr\u001b[39m::compact()\n",
      "\u001b[31m✖\u001b[39m \u001b[34mdplyr\u001b[39m::\u001b[32mcount()\u001b[39m           masks \u001b[34mmatrixStats\u001b[39m::count(), \u001b[34mplyr\u001b[39m::count()\n",
      "\u001b[31m✖\u001b[39m \u001b[34mdplyr\u001b[39m::\u001b[32mdesc()\u001b[39m            masks \u001b[34mIRanges\u001b[39m::desc(), \u001b[34mplyr\u001b[39m::desc()\n",
      "\u001b[31m✖\u001b[39m \u001b[34mtidyr\u001b[39m::\u001b[32mexpand()\u001b[39m          masks \u001b[34mMatrix\u001b[39m::expand(), \u001b[34mS4Vectors\u001b[39m::expand()\n",
      "\u001b[31m✖\u001b[39m \u001b[34mtidyr\u001b[39m::\u001b[32mextract()\u001b[39m         masks \u001b[34mmagrittr\u001b[39m::extract()\n",
      "\u001b[31m✖\u001b[39m \u001b[34mdplyr\u001b[39m::\u001b[32mfailwith()\u001b[39m        masks \u001b[34mplyr\u001b[39m::failwith()\n",
      "\u001b[31m✖\u001b[39m \u001b[34mdplyr\u001b[39m::\u001b[32mfilter()\u001b[39m          masks \u001b[34mstats\u001b[39m::filter()\n",
      "\u001b[31m✖\u001b[39m \u001b[34mdplyr\u001b[39m::\u001b[32mfirst()\u001b[39m           masks \u001b[34mS4Vectors\u001b[39m::first(), \u001b[34mdata.table\u001b[39m::first()\n",
      "\u001b[31m✖\u001b[39m \u001b[34mdplyr\u001b[39m::\u001b[32mid()\u001b[39m              masks \u001b[34mplyr\u001b[39m::id()\n",
      "\u001b[31m✖\u001b[39m \u001b[34mdplyr\u001b[39m::\u001b[32mlag()\u001b[39m             masks \u001b[34mstats\u001b[39m::lag()\n",
      "\u001b[31m✖\u001b[39m \u001b[34mdplyr\u001b[39m::\u001b[32mlast()\u001b[39m            masks \u001b[34mdata.table\u001b[39m::last()\n",
      "\u001b[31m✖\u001b[39m \u001b[34mdplyr\u001b[39m::\u001b[32mmutate()\u001b[39m          masks \u001b[34mplyr\u001b[39m::mutate()\n",
      "\u001b[31m✖\u001b[39m \u001b[34mtidyr\u001b[39m::\u001b[32mpack()\u001b[39m            masks \u001b[34mMatrix\u001b[39m::pack()\n",
      "\u001b[31m✖\u001b[39m \u001b[34mBiocGenerics\u001b[39m::\u001b[32mPosition()\u001b[39m masks \u001b[34mggplot2\u001b[39m::Position(), \u001b[34mbase\u001b[39m::Position()\n",
      "\u001b[31m✖\u001b[39m \u001b[34mpurrr\u001b[39m::\u001b[32mreduce()\u001b[39m          masks \u001b[34mGenomicRanges\u001b[39m::reduce(), \u001b[34mIRanges\u001b[39m::reduce()\n",
      "\u001b[31m✖\u001b[39m \u001b[34mdplyr\u001b[39m::\u001b[32mrename()\u001b[39m          masks \u001b[34mS4Vectors\u001b[39m::rename(), \u001b[34mplyr\u001b[39m::rename()\n",
      "\u001b[31m✖\u001b[39m \u001b[34mpurrr\u001b[39m::\u001b[32mset_names()\u001b[39m       masks \u001b[34mmagrittr\u001b[39m::set_names()\n",
      "\u001b[31m✖\u001b[39m \u001b[34mdplyr\u001b[39m::\u001b[32mslice()\u001b[39m           masks \u001b[34mIRanges\u001b[39m::slice()\n",
      "\u001b[31m✖\u001b[39m \u001b[34mdplyr\u001b[39m::\u001b[32msummarise()\u001b[39m       masks \u001b[34mplyr\u001b[39m::summarise()\n",
      "\u001b[31m✖\u001b[39m \u001b[34mdplyr\u001b[39m::\u001b[32msummarize()\u001b[39m       masks \u001b[34mplyr\u001b[39m::summarize()\n",
      "\u001b[31m✖\u001b[39m \u001b[34mpurrr\u001b[39m::\u001b[32mtranspose()\u001b[39m       masks \u001b[34mdata.table\u001b[39m::transpose()\n",
      "\u001b[31m✖\u001b[39m \u001b[34mtidyr\u001b[39m::\u001b[32munpack()\u001b[39m          masks \u001b[34mMatrix\u001b[39m::unpack()\n",
      "Loading required package: BSgenome\n",
      "\n",
      "Loading required package: Biostrings\n",
      "\n",
      "Loading required package: XVector\n",
      "\n",
      "\n",
      "Attaching package: ‘XVector’\n",
      "\n",
      "\n",
      "The following object is masked from ‘package:purrr’:\n",
      "\n",
      "    compact\n",
      "\n",
      "\n",
      "The following object is masked from ‘package:plyr’:\n",
      "\n",
      "    compact\n",
      "\n",
      "\n",
      "\n",
      "Attaching package: ‘Biostrings’\n",
      "\n",
      "\n",
      "The following object is masked from ‘package:base’:\n",
      "\n",
      "    strsplit\n",
      "\n",
      "\n",
      "Loading required package: rtracklayer\n",
      "\n",
      "\n",
      "Attaching package: ‘anndata’\n",
      "\n",
      "\n",
      "The following object is masked from ‘package:readr’:\n",
      "\n",
      "    read_csv\n",
      "\n",
      "\n"
     ]
    }
   ],
   "source": [
    "library(ArchR)\n",
    "library(tidyverse)\n",
    "library(BSgenome.Hsapiens.UCSC.hg38)\n",
    "library(SingleCellExperiment)\n",
    "library(anndata)\n",
    "# library(sceasy)\n",
    "# library(reticulate)\n",
    "# use_condaenv('cellpymc')\n",
    "# loompy <- reticulate::import('loompy')"
   ]
  },
  {
   "cell_type": "code",
   "execution_count": 2,
   "id": "copyrighted-nancy",
   "metadata": {},
   "outputs": [
    {
     "data": {
      "text/html": [
       "'/nfs/team205/heart/anndata_objects/8regions/ArchR'"
      ],
      "text/latex": [
       "'/nfs/team205/heart/anndata\\_objects/8regions/ArchR'"
      ],
      "text/markdown": [
       "'/nfs/team205/heart/anndata_objects/8regions/ArchR'"
      ],
      "text/plain": [
       "[1] \"/nfs/team205/heart/anndata_objects/8regions/ArchR\""
      ]
     },
     "metadata": {},
     "output_type": "display_data"
    }
   ],
   "source": [
    "setwd('/nfs/team205/heart/anndata_objects/8regions/ArchR')\n",
    "getwd()"
   ]
  },
  {
   "cell_type": "code",
   "execution_count": 3,
   "id": "biblical-transformation",
   "metadata": {},
   "outputs": [
    {
     "name": "stderr",
     "output_type": "stream",
     "text": [
      "Setting default genome to Hg38.\n",
      "\n"
     ]
    }
   ],
   "source": [
    "# before starting a project we must set the ArchRGenome and default threads for parallelization.\n",
    "# Setting default genome to Hg38.\n",
    "addArchRGenome(\"hg38\")"
   ]
  },
  {
   "cell_type": "code",
   "execution_count": 4,
   "id": "enclosed-finder",
   "metadata": {},
   "outputs": [
    {
     "name": "stderr",
     "output_type": "stream",
     "text": [
      "Setting default number of Parallel threads to 10.\n",
      "\n"
     ]
    }
   ],
   "source": [
    "# Setting default number of Parallel threads to 16\n",
    "addArchRThreads(threads = 10) "
   ]
  },
  {
   "cell_type": "code",
   "execution_count": null,
   "id": "framed-portsmouth",
   "metadata": {},
   "outputs": [],
   "source": []
  },
  {
   "cell_type": "markdown",
   "id": "postal-mission",
   "metadata": {},
   "source": [
    "# Read in ArchR project"
   ]
  },
  {
   "cell_type": "code",
   "execution_count": 5,
   "id": "unlimited-record",
   "metadata": {},
   "outputs": [
    {
     "name": "stderr",
     "output_type": "stream",
     "text": [
      "Successfully loaded ArchRProject!\n",
      "\n",
      "\n",
      "           ___      .______        ______  __    __  .______      \n",
      "          /   \\     |   _  \\      /      ||  |  |  | |   _  \\     \n",
      "         /  ^  \\    |  |_)  |    |  ,----'|  |__|  | |  |_)  |    \n",
      "        /  /_\\  \\   |      /     |  |     |   __   | |      /     \n",
      "       /  _____  \\  |  |\\  \\\\___ |  `----.|  |  |  | |  |\\  \\\\___.\n",
      "      /__/     \\__\\ | _| `._____| \\______||__|  |__| | _| `._____|\n",
      "    \n",
      "\n"
     ]
    },
    {
     "data": {
      "text/plain": [
       "class: ArchRProject \n",
       "outputDirectory: /nfs/team205/heart/anndata_objects/8regions/ArchR/project_output \n",
       "samples(47): HCAHeart9508627_HCAHeart9508819\n",
       "  HCAHeart9508628_HCAHeart9508820 ...\n",
       "  HCAHeartST13180618_HCAHeartST13177115\n",
       "  HCAHeartST13180619_HCAHeartST13177116\n",
       "sampleColData names(1): ArrowFiles\n",
       "cellColData names(52): Sample TSSEnrichment ... Gex_MitoRatio\n",
       "  Gex_RiboRatio\n",
       "numberOfCells(1): 139835\n",
       "medianTSS(1): 8.699\n",
       "medianFrags(1): 9459"
      ]
     },
     "metadata": {},
     "output_type": "display_data"
    }
   ],
   "source": [
    "archr_project_path = '/nfs/team205/heart/anndata_objects/8regions/ArchR/project_output'\n",
    "proj = loadArchRProject(path = archr_project_path, showLogo = FALSE)\n",
    "proj"
   ]
  },
  {
   "cell_type": "code",
   "execution_count": null,
   "id": "silent-vampire",
   "metadata": {},
   "outputs": [],
   "source": []
  },
  {
   "cell_type": "markdown",
   "id": "suited-design",
   "metadata": {},
   "source": [
    "# Get Peak2Gene links, atrial CMs"
   ]
  },
  {
   "cell_type": "markdown",
   "id": "popular-transaction",
   "metadata": {},
   "source": [
    "https://www.archrproject.com/bookdown/peak2genelinkage-with-archr.html"
   ]
  },
  {
   "cell_type": "markdown",
   "id": "norwegian-lambda",
   "metadata": {},
   "source": [
    "* look for correlations between peak accessibility and gene expression."
   ]
  },
  {
   "cell_type": "code",
   "execution_count": 6,
   "id": "blind-demonstration",
   "metadata": {},
   "outputs": [
    {
     "data": {
      "text/plain": [
       "\n",
       "                 Adipocyte       Atrial Cardiomyocyte \n",
       "                      1374                      14163 \n",
       "          Endothelial cell                 Fibroblast \n",
       "                     16104                      42479 \n",
       "Lymphatic Endothelial cell                   Lymphoid \n",
       "                       334                       4399 \n",
       "                 Mast cell           Mesothelial cell \n",
       "                       274                         62 \n",
       "                Mural cell                    Myeloid \n",
       "                     10121                      13660 \n",
       "               Neural cell  Ventricular Cardiomyocyte \n",
       "                      1581                      35284 "
      ]
     },
     "metadata": {},
     "output_type": "display_data"
    }
   ],
   "source": [
    "table(proj$cell_type)"
   ]
  },
  {
   "cell_type": "code",
   "execution_count": 7,
   "id": "artistic-motorcycle",
   "metadata": {},
   "outputs": [
    {
     "name": "stdout",
     "output_type": "stream",
     "text": [
      "[1] \"##### Atrial Cardiomyocyte #####\"\n",
      "\n",
      "      aCM1       aCM2       aCM3       aCM4 AVN_P_cell SAN_P_cell \n",
      "      3443       7420       1021       1993         91        169 \n"
     ]
    },
    {
     "name": "stderr",
     "output_type": "stream",
     "text": [
      "Checking Inputs...\n",
      "\n",
      "ArchR logging to : ArchRLogs/ArchR-addIterativeLSI-341e18de06d4-Date-2023-01-09_Time-12-04-54.log\n",
      "If there is an issue, please report to github with logFile!\n",
      "\n",
      "2023-01-09 12:04:56 : Computing Total Across All Features, 0.02 mins elapsed.\n",
      "\n",
      "2023-01-09 12:05:11 : Computing Top Features, 0.261 mins elapsed.\n",
      "\n",
      "###########\n",
      "2023-01-09 12:05:12 : Running LSI (1 of 2) on Top Features, 0.289 mins elapsed.\n",
      "###########\n",
      "\n",
      "2023-01-09 12:05:12 : Sampling Cells (N = 10013) for Estimated LSI, 0.291 mins elapsed.\n",
      "\n",
      "2023-01-09 12:05:12 : Creating Sampled Partial Matrix, 0.291 mins elapsed.\n",
      "\n",
      "2023-01-09 12:05:45 : Computing Estimated LSI (projectAll = FALSE), 0.829 mins elapsed.\n",
      "\n",
      "2023-01-09 12:06:08 : Identifying Clusters, 1.224 mins elapsed.\n",
      "\n",
      "2023-01-09 12:06:33 : Identified 5 Clusters, 1.634 mins elapsed.\n",
      "\n",
      "2023-01-09 12:06:33 : Saving LSI Iteration, 1.634 mins elapsed.\n",
      "\n",
      "Length of unique values greater than palette, interpolating..\n",
      "\n",
      "2023-01-09 12:07:00 : Creating Cluster Matrix on the total Group Features, 2.087 mins elapsed.\n",
      "\n",
      "2023-01-09 12:07:37 : Computing Variable Features, 2.704 mins elapsed.\n",
      "\n",
      "###########\n",
      "2023-01-09 12:07:37 : Running LSI (2 of 2) on Variable Features, 2.706 mins elapsed.\n",
      "###########\n",
      "\n",
      "2023-01-09 12:07:37 : Creating Partial Matrix, 2.707 mins elapsed.\n",
      "\n",
      "2023-01-09 12:08:17 : Computing LSI, 3.372 mins elapsed.\n",
      "\n",
      "2023-01-09 12:08:48 : Finished Running IterativeLSI, 3.88 mins elapsed.\n",
      "\n",
      "ArchR logging to : ArchRLogs/ArchR-addPeak2GeneLinks-341e34f5f9fb-Date-2023-01-09_Time-12-08-48.log\n",
      "If there is an issue, please report to github with logFile!\n",
      "\n",
      "2023-01-09 12:08:48 : Getting Available Matrices, 0.006 mins elapsed.\n",
      "\n",
      "2023-01-09 12:08:51 : Filtered Low Prediction Score Cells (0 of 88924, 0), 0.027 mins elapsed.\n",
      "\n",
      "2023-01-09 12:08:53 : Computing KNN, 0.055 mins elapsed.\n",
      "\n",
      "2023-01-09 12:08:53 : Identifying Non-Overlapping KNN pairs, 0.061 mins elapsed.\n",
      "\n",
      "2023-01-09 12:08:56 : Identified 498 Groupings!, 0.099 mins elapsed.\n",
      "\n",
      "2023-01-09 12:08:56 : Getting Group RNA Matrix, 0.101 mins elapsed.\n",
      "\n",
      "2023-01-09 12:09:50 : Getting Group ATAC Matrix, 1.003 mins elapsed.\n",
      "\n",
      "2023-01-09 12:12:07 : Normalizing Group Matrices, 3.286 mins elapsed.\n",
      "\n",
      "2023-01-09 12:12:26 : Finding Peak Gene Pairings, 3.605 mins elapsed.\n",
      "\n",
      "2023-01-09 12:12:28 : Computing Correlations, 3.636 mins elapsed.\n",
      "\n",
      "2023-01-09 12:13:43 : Completed Peak2Gene Correlations!, 4.888 mins elapsed.\n",
      "\n",
      "ArchR logging successful to : ArchRLogs/ArchR-addPeak2GeneLinks-341e34f5f9fb-Date-2023-01-09_Time-12-08-48.log\n",
      "\n",
      "Warning message in `[<-`(`*tmp*`, cell, value = proj_sub):\n",
      "“implicit list embedding of S4 objects is deprecated”\n"
     ]
    }
   ],
   "source": [
    "# only aCMs\n",
    "celltypes = c(\"Atrial Cardiomyocyte\")\n",
    "proj_list = list()\n",
    "\n",
    "for(cell in celltypes){\n",
    "    print(paste0(\"##### \",cell,\" #####\"))\n",
    "    # subset cell type\n",
    "    idxSample <- BiocGenerics::which(proj$cell_state %in% c(\"aCM1\",\"aCM2\",\"aCM3\",\"aCM4\",\"SAN_P_cell\",\"AVN_P_cell\"))\n",
    "    cellsSample <- proj$cellNames[idxSample]\n",
    "    proj_sub <- proj[cellsSample, ]\n",
    "    print(table(proj_sub$cell_state))\n",
    "    \n",
    "    # re-dimensional reduction per cell type\n",
    "    proj_sub <- addIterativeLSI(\n",
    "        ArchRProj = proj_sub,\n",
    "        useMatrix = \"TileMatrix\", \n",
    "        name = \"IterativeLSI\", \n",
    "        iterations = 2, \n",
    "        clusterParams = list( #See Seurat::FindClusters\n",
    "            resolution = c(0.2), \n",
    "            sampleCells = 10000, \n",
    "            n.start = 10\n",
    "        ), \n",
    "        varFeatures = 25000, \n",
    "        dimsToUse = 1:30,\n",
    "        force = TRUE\n",
    "    )\n",
    "    \n",
    "    # peak2gene\n",
    "    proj_sub <- addPeak2GeneLinks(\n",
    "        ArchRProj = proj_sub,\n",
    "        reducedDims = \"IterativeLSI\",\n",
    "        useMatrix = \"GeneExpressionMatrix\"\n",
    "    )\n",
    "    \n",
    "    # store in project list\n",
    "    proj_list[cell] <- proj_sub\n",
    "    \n",
    "    # save output with gene and peak name\n",
    "    # p2geneDF <- metadata(proj_sub@peakSet)$Peak2GeneLinks\n",
    "    # p2geneDF$geneName <- mcols(metadata(p2geneDF)$geneSet)$name[p2geneDF$idxRNA]\n",
    "    # p2geneDF$peakName <- (metadata(p2geneDF)$peakSet %>% {paste0(seqnames(.), \"_\", start(.), \"-\", end(.))})[p2geneDF$idxATAC]\n",
    "    # save\n",
    "    # write.csv(p2geneDF,\n",
    "    #           file=,\n",
    "    #           row.names = FALSE)\n",
    "    \n",
    "    # rm(p2geneDF)\n",
    "    # rm(proj_sub)\n",
    "}"
   ]
  },
  {
   "cell_type": "code",
   "execution_count": 13,
   "id": "respected-muscle",
   "metadata": {},
   "outputs": [
    {
     "data": {
      "text/plain": [
       "DataFrame with 3815446 rows and 8 columns\n",
       "          idxATAC    idxRNA Correlation       FDR  VarQATAC   VarQRNA\n",
       "        <integer> <integer>   <numeric> <numeric> <numeric> <numeric>\n",
       "1               1        10 -0.02040158  0.793400 0.0282625  0.115077\n",
       "2               2        10  0.03320061  0.649272 0.4983249  0.115077\n",
       "3               3        10 -0.04713256  0.491986 0.6815563  0.115077\n",
       "4               4        10  0.00170392  0.984771 0.3979638  0.115077\n",
       "5               5        10  0.02780257  0.710586 0.5194427  0.115077\n",
       "...           ...       ...         ...       ...       ...       ...\n",
       "3815442    429824     32587 -0.01345811 0.8683935  0.396128  0.143063\n",
       "3815443    429825     32587 -0.00917579 0.9128302  0.938089  0.143063\n",
       "3815444    429826     32587  0.10594846 0.0658652  0.493846  0.143063\n",
       "3815445    429827     32587 -0.03272107 0.6547628  0.426382  0.143063\n",
       "3815446    429828     32587  0.11271067 0.0473720  0.123007  0.143063\n",
       "           geneName               peakName\n",
       "        <character>            <character>\n",
       "1        AC114498.1     chr1_794932-795432\n",
       "2        AC114498.1     chr1_817104-817604\n",
       "3        AC114498.1     chr1_818775-819275\n",
       "4        AC114498.1     chr1_819697-820197\n",
       "5        AC114498.1     chr1_821364-821864\n",
       "...             ...                    ...\n",
       "3815442      WASIR1 chrX_155874572-15587..\n",
       "3815443      WASIR1 chrX_155880996-15588..\n",
       "3815444      WASIR1 chrX_155881574-15588..\n",
       "3815445      WASIR1 chrX_155888126-15588..\n",
       "3815446      WASIR1 chrX_155894812-15589.."
      ]
     },
     "metadata": {},
     "output_type": "display_data"
    }
   ],
   "source": [
    "# corr_thresh = 0.2\n",
    "# FDR_thresh = 1e-04\n",
    "\n",
    "p2geneDF <- metadata(proj_list[[cell]]@peakSet)$Peak2GeneLinks\n",
    "p2geneDF$geneName <- mcols(metadata(p2geneDF)$geneSet)$name[p2geneDF$idxRNA]\n",
    "p2geneDF$peakName <- (metadata(p2geneDF)$peakSet %>% {paste0(seqnames(.), \"_\", start(.), \"-\", end(.))})[p2geneDF$idxATAC]\n",
    "p2geneDF$geneName <- as.character(p2geneDF$geneName)\n",
    "# p2geneDF <- p2geneDF[which((p2geneDF[['Correlation']]>corr_thresh)==TRUE),]\n",
    "# p2geneDF <- p2geneDF[which((p2geneDF[['FDR']]<FDR_thresh)==TRUE),]\n",
    "p2geneDF"
   ]
  },
  {
   "cell_type": "code",
   "execution_count": 20,
   "id": "tutorial-bible",
   "metadata": {},
   "outputs": [],
   "source": [
    "# save\n",
    "write.csv(p2geneDF,\n",
    "          file=paste0('/nfs/team205/heart/anndata_objects/8regions/ArchR/project_output/csv/peak2gene/',sub(' ','',cell),'.csv'),\n",
    "          row.names = FALSE)"
   ]
  },
  {
   "cell_type": "code",
   "execution_count": null,
   "id": "abandoned-numbers",
   "metadata": {},
   "outputs": [],
   "source": []
  },
  {
   "cell_type": "code",
   "execution_count": null,
   "id": "alternate-production",
   "metadata": {},
   "outputs": [],
   "source": []
  }
 ],
 "metadata": {
  "kernelspec": {
   "display_name": "R",
   "language": "R",
   "name": "r"
  },
  "language_info": {
   "codemirror_mode": "r",
   "file_extension": ".r",
   "mimetype": "text/x-r-source",
   "name": "R",
   "pygments_lexer": "r",
   "version": "4.0.4"
  }
 },
 "nbformat": 4,
 "nbformat_minor": 5
}
