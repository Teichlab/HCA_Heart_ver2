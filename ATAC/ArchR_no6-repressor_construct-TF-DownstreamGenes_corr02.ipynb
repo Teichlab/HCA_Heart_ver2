{
 "cells": [
  {
   "cell_type": "code",
   "execution_count": 1,
   "id": "billion-monthly",
   "metadata": {},
   "outputs": [
    {
     "name": "stderr",
     "output_type": "stream",
     "text": [
      "\n",
      "                                                   / |\n",
      "                                                 /    \\\n",
      "            .                                  /      |.\n",
      "            \\\\\\                              /        |.\n",
      "              \\\\\\                          /           `|.\n",
      "                \\\\\\                      /              |.\n",
      "                  \\                    /                |\\\n",
      "                  \\\\#####\\           /                  ||\n",
      "                ==###########>      /                   ||\n",
      "                 \\\\##==......\\    /                     ||\n",
      "            ______ =       =|__ /__                     ||      \\\\\\\n",
      "        ,--' ,----`-,__ ___/'  --,-`-===================##========>\n",
      "       \\               '        ##_______ _____ ,--,__,=##,__   ///\n",
      "        ,    __==    ___,-,__,--'#'  ==='      `-'    | ##,-/\n",
      "        -,____,---'       \\\\####\\\\________________,--\\\\_##,/\n",
      "           ___      .______        ______  __    __  .______      \n",
      "          /   \\     |   _  \\      /      ||  |  |  | |   _  \\     \n",
      "         /  ^  \\    |  |_)  |    |  ,----'|  |__|  | |  |_)  |    \n",
      "        /  /_\\  \\   |      /     |  |     |   __   | |      /     \n",
      "       /  _____  \\  |  |\\  \\\\___ |  `----.|  |  |  | |  |\\  \\\\___.\n",
      "      /__/     \\__\\ | _| `._____| \\______||__|  |__| | _| `._____|\n",
      "    \n",
      "\n",
      "ArchR : Version 1.0.2\n",
      "For more information see our website : www.ArchRProject.com\n",
      "If you encounter a bug please report : https://github.com/GreenleafLab/ArchR/issues\n",
      "\n",
      "Loading Required Packages...\n",
      "\n",
      "\tLoading Package : grid v4.0.4\n",
      "\n",
      "\tLoading Package : gridExtra v2.3\n",
      "\n",
      "\tLoading Package : gtools v3.9.3\n",
      "\n",
      "\tLoading Package : gtable v0.3.0\n",
      "\n",
      "\tLoading Package : ggplot2 v3.4.0\n",
      "\n",
      "\tLoading Package : magrittr v2.0.3\n",
      "\n",
      "\tLoading Package : plyr v1.8.8\n",
      "\n",
      "\tLoading Package : stringr v1.4.0\n",
      "\n",
      "\tLoading Package : data.table v1.14.4\n",
      "\n",
      "\tLoading Package : matrixStats v0.62.0\n",
      "\n",
      "\tLoading Package : S4Vectors v0.28.1\n",
      "\n",
      "\tLoading Package : GenomicRanges v1.42.0\n",
      "\n",
      "\tLoading Package : BiocGenerics v0.36.1\n",
      "\n",
      "\tLoading Package : Matrix v1.3.2\n",
      "\n",
      "\tLoading Package : Rcpp v1.0.9\n",
      "\n",
      "\tLoading Package : SummarizedExperiment v1.20.0\n",
      "\n",
      "\tLoading Package : rhdf5 v2.34.0\n",
      "\n",
      "Warning message in system(\"timedatectl\", intern = TRUE):\n",
      "“running command 'timedatectl' had status 1”\n",
      "── \u001b[1mAttaching packages\u001b[22m ─────────────────────────────────────── tidyverse 1.3.2 ──\n",
      "\u001b[32m✔\u001b[39m \u001b[34mtibble \u001b[39m 3.1.8      \u001b[32m✔\u001b[39m \u001b[34mpurrr  \u001b[39m 0.3.4 \n",
      "\u001b[32m✔\u001b[39m \u001b[34mtidyr  \u001b[39m 1.2.1      \u001b[32m✔\u001b[39m \u001b[34mdplyr  \u001b[39m 1.0.10\n",
      "\u001b[32m✔\u001b[39m \u001b[34mreadr  \u001b[39m 2.1.3      \u001b[32m✔\u001b[39m \u001b[34mforcats\u001b[39m 0.5.1 \n",
      "── \u001b[1mConflicts\u001b[22m ────────────────────────────────────────── tidyverse_conflicts() ──\n",
      "\u001b[31m✖\u001b[39m \u001b[34mdplyr\u001b[39m::\u001b[32marrange()\u001b[39m         masks \u001b[34mplyr\u001b[39m::arrange()\n",
      "\u001b[31m✖\u001b[39m \u001b[34mdplyr\u001b[39m::\u001b[32mbetween()\u001b[39m         masks \u001b[34mdata.table\u001b[39m::between()\n",
      "\u001b[31m✖\u001b[39m \u001b[34mdplyr\u001b[39m::\u001b[32mcollapse()\u001b[39m        masks \u001b[34mIRanges\u001b[39m::collapse()\n",
      "\u001b[31m✖\u001b[39m \u001b[34mdplyr\u001b[39m::\u001b[32mcombine()\u001b[39m         masks \u001b[34mBiobase\u001b[39m::combine(), \u001b[34mBiocGenerics\u001b[39m::combine(), \u001b[34mgridExtra\u001b[39m::combine()\n",
      "\u001b[31m✖\u001b[39m \u001b[34mpurrr\u001b[39m::\u001b[32mcompact()\u001b[39m         masks \u001b[34mplyr\u001b[39m::compact()\n",
      "\u001b[31m✖\u001b[39m \u001b[34mdplyr\u001b[39m::\u001b[32mcount()\u001b[39m           masks \u001b[34mmatrixStats\u001b[39m::count(), \u001b[34mplyr\u001b[39m::count()\n",
      "\u001b[31m✖\u001b[39m \u001b[34mdplyr\u001b[39m::\u001b[32mdesc()\u001b[39m            masks \u001b[34mIRanges\u001b[39m::desc(), \u001b[34mplyr\u001b[39m::desc()\n",
      "\u001b[31m✖\u001b[39m \u001b[34mtidyr\u001b[39m::\u001b[32mexpand()\u001b[39m          masks \u001b[34mMatrix\u001b[39m::expand(), \u001b[34mS4Vectors\u001b[39m::expand()\n",
      "\u001b[31m✖\u001b[39m \u001b[34mtidyr\u001b[39m::\u001b[32mextract()\u001b[39m         masks \u001b[34mmagrittr\u001b[39m::extract()\n",
      "\u001b[31m✖\u001b[39m \u001b[34mdplyr\u001b[39m::\u001b[32mfailwith()\u001b[39m        masks \u001b[34mplyr\u001b[39m::failwith()\n",
      "\u001b[31m✖\u001b[39m \u001b[34mdplyr\u001b[39m::\u001b[32mfilter()\u001b[39m          masks \u001b[34mstats\u001b[39m::filter()\n",
      "\u001b[31m✖\u001b[39m \u001b[34mdplyr\u001b[39m::\u001b[32mfirst()\u001b[39m           masks \u001b[34mS4Vectors\u001b[39m::first(), \u001b[34mdata.table\u001b[39m::first()\n",
      "\u001b[31m✖\u001b[39m \u001b[34mdplyr\u001b[39m::\u001b[32mid()\u001b[39m              masks \u001b[34mplyr\u001b[39m::id()\n",
      "\u001b[31m✖\u001b[39m \u001b[34mdplyr\u001b[39m::\u001b[32mlag()\u001b[39m             masks \u001b[34mstats\u001b[39m::lag()\n",
      "\u001b[31m✖\u001b[39m \u001b[34mdplyr\u001b[39m::\u001b[32mlast()\u001b[39m            masks \u001b[34mdata.table\u001b[39m::last()\n",
      "\u001b[31m✖\u001b[39m \u001b[34mdplyr\u001b[39m::\u001b[32mmutate()\u001b[39m          masks \u001b[34mplyr\u001b[39m::mutate()\n",
      "\u001b[31m✖\u001b[39m \u001b[34mtidyr\u001b[39m::\u001b[32mpack()\u001b[39m            masks \u001b[34mMatrix\u001b[39m::pack()\n",
      "\u001b[31m✖\u001b[39m \u001b[34mBiocGenerics\u001b[39m::\u001b[32mPosition()\u001b[39m masks \u001b[34mggplot2\u001b[39m::Position(), \u001b[34mbase\u001b[39m::Position()\n",
      "\u001b[31m✖\u001b[39m \u001b[34mpurrr\u001b[39m::\u001b[32mreduce()\u001b[39m          masks \u001b[34mGenomicRanges\u001b[39m::reduce(), \u001b[34mIRanges\u001b[39m::reduce()\n",
      "\u001b[31m✖\u001b[39m \u001b[34mdplyr\u001b[39m::\u001b[32mrename()\u001b[39m          masks \u001b[34mS4Vectors\u001b[39m::rename(), \u001b[34mplyr\u001b[39m::rename()\n",
      "\u001b[31m✖\u001b[39m \u001b[34mpurrr\u001b[39m::\u001b[32mset_names()\u001b[39m       masks \u001b[34mmagrittr\u001b[39m::set_names()\n",
      "\u001b[31m✖\u001b[39m \u001b[34mdplyr\u001b[39m::\u001b[32mslice()\u001b[39m           masks \u001b[34mIRanges\u001b[39m::slice()\n",
      "\u001b[31m✖\u001b[39m \u001b[34mdplyr\u001b[39m::\u001b[32msummarise()\u001b[39m       masks \u001b[34mplyr\u001b[39m::summarise()\n",
      "\u001b[31m✖\u001b[39m \u001b[34mdplyr\u001b[39m::\u001b[32msummarize()\u001b[39m       masks \u001b[34mplyr\u001b[39m::summarize()\n",
      "\u001b[31m✖\u001b[39m \u001b[34mpurrr\u001b[39m::\u001b[32mtranspose()\u001b[39m       masks \u001b[34mdata.table\u001b[39m::transpose()\n",
      "\u001b[31m✖\u001b[39m \u001b[34mtidyr\u001b[39m::\u001b[32munpack()\u001b[39m          masks \u001b[34mMatrix\u001b[39m::unpack()\n",
      "Loading required package: BSgenome\n",
      "\n",
      "Loading required package: Biostrings\n",
      "\n",
      "Loading required package: XVector\n",
      "\n",
      "\n",
      "Attaching package: ‘XVector’\n",
      "\n",
      "\n",
      "The following object is masked from ‘package:purrr’:\n",
      "\n",
      "    compact\n",
      "\n",
      "\n",
      "The following object is masked from ‘package:plyr’:\n",
      "\n",
      "    compact\n",
      "\n",
      "\n",
      "\n",
      "Attaching package: ‘Biostrings’\n",
      "\n",
      "\n",
      "The following object is masked from ‘package:base’:\n",
      "\n",
      "    strsplit\n",
      "\n",
      "\n",
      "Loading required package: rtracklayer\n",
      "\n",
      "\n",
      "Attaching package: ‘anndata’\n",
      "\n",
      "\n",
      "The following object is masked from ‘package:readr’:\n",
      "\n",
      "    read_csv\n",
      "\n",
      "\n"
     ]
    }
   ],
   "source": [
    "library(ArchR)\n",
    "library(tidyverse)\n",
    "library(BSgenome.Hsapiens.UCSC.hg38)\n",
    "library(SingleCellExperiment)\n",
    "library(anndata)\n",
    "# library(sceasy)\n",
    "# library(reticulate)\n",
    "# use_condaenv('cellpymc')\n",
    "# loompy <- reticulate::import('loompy')"
   ]
  },
  {
   "cell_type": "code",
   "execution_count": 2,
   "id": "previous-disease",
   "metadata": {},
   "outputs": [
    {
     "data": {
      "text/html": [
       "'/nfs/team205/heart/anndata_objects/8regions/ArchR'"
      ],
      "text/latex": [
       "'/nfs/team205/heart/anndata\\_objects/8regions/ArchR'"
      ],
      "text/markdown": [
       "'/nfs/team205/heart/anndata_objects/8regions/ArchR'"
      ],
      "text/plain": [
       "[1] \"/nfs/team205/heart/anndata_objects/8regions/ArchR\""
      ]
     },
     "metadata": {},
     "output_type": "display_data"
    }
   ],
   "source": [
    "setwd('/nfs/team205/heart/anndata_objects/8regions/ArchR')\n",
    "getwd()"
   ]
  },
  {
   "cell_type": "code",
   "execution_count": 3,
   "id": "living-mirror",
   "metadata": {},
   "outputs": [
    {
     "name": "stderr",
     "output_type": "stream",
     "text": [
      "Setting default genome to Hg38.\n",
      "\n"
     ]
    }
   ],
   "source": [
    "# before starting a project we must set the ArchRGenome and default threads for parallelization.\n",
    "# Setting default genome to Hg38.\n",
    "addArchRGenome(\"hg38\")"
   ]
  },
  {
   "cell_type": "code",
   "execution_count": 4,
   "id": "capital-haven",
   "metadata": {},
   "outputs": [
    {
     "name": "stderr",
     "output_type": "stream",
     "text": [
      "Setting default number of Parallel threads to 10.\n",
      "\n"
     ]
    }
   ],
   "source": [
    "# Setting default number of Parallel threads to 16\n",
    "addArchRThreads(threads = 10) "
   ]
  },
  {
   "cell_type": "code",
   "execution_count": null,
   "id": "worst-ranking",
   "metadata": {},
   "outputs": [],
   "source": []
  },
  {
   "cell_type": "markdown",
   "id": "heated-infrastructure",
   "metadata": {},
   "source": [
    "# Read in ArchR project"
   ]
  },
  {
   "cell_type": "code",
   "execution_count": 5,
   "id": "united-director",
   "metadata": {},
   "outputs": [
    {
     "name": "stderr",
     "output_type": "stream",
     "text": [
      "Successfully loaded ArchRProject!\n",
      "\n",
      "\n",
      "           ___      .______        ______  __    __  .______      \n",
      "          /   \\     |   _  \\      /      ||  |  |  | |   _  \\     \n",
      "         /  ^  \\    |  |_)  |    |  ,----'|  |__|  | |  |_)  |    \n",
      "        /  /_\\  \\   |      /     |  |     |   __   | |      /     \n",
      "       /  _____  \\  |  |\\  \\\\___ |  `----.|  |  |  | |  |\\  \\\\___.\n",
      "      /__/     \\__\\ | _| `._____| \\______||__|  |__| | _| `._____|\n",
      "    \n",
      "\n"
     ]
    },
    {
     "data": {
      "text/plain": [
       "class: ArchRProject \n",
       "outputDirectory: /nfs/team205/heart/anndata_objects/8regions/ArchR/project_output \n",
       "samples(47): HCAHeart9508627_HCAHeart9508819\n",
       "  HCAHeart9508628_HCAHeart9508820 ...\n",
       "  HCAHeartST13180618_HCAHeartST13177115\n",
       "  HCAHeartST13180619_HCAHeartST13177116\n",
       "sampleColData names(1): ArrowFiles\n",
       "cellColData names(52): Sample TSSEnrichment ... Gex_MitoRatio\n",
       "  Gex_RiboRatio\n",
       "numberOfCells(1): 139835\n",
       "medianTSS(1): 8.699\n",
       "medianFrags(1): 9459"
      ]
     },
     "metadata": {},
     "output_type": "display_data"
    }
   ],
   "source": [
    "archr_project_path = '/nfs/team205/heart/anndata_objects/8regions/ArchR/project_output'\n",
    "proj = loadArchRProject(path = archr_project_path, showLogo = FALSE)\n",
    "proj"
   ]
  },
  {
   "cell_type": "code",
   "execution_count": null,
   "id": "yellow-norwegian",
   "metadata": {},
   "outputs": [],
   "source": []
  },
  {
   "cell_type": "markdown",
   "id": "appropriate-honduras",
   "metadata": {},
   "source": [
    "# Prepare Peak annotation"
   ]
  },
  {
   "cell_type": "code",
   "execution_count": 6,
   "id": "sustained-stuart",
   "metadata": {},
   "outputs": [
    {
     "data": {
      "text/plain": [
       "class: RangedSummarizedExperiment \n",
       "dim: 429828 870 \n",
       "metadata(0):\n",
       "assays(1): matches\n",
       "rownames(429828): vCM3_stressed LYVE1+MP_cycling ... vCM3_stressed FB3\n",
       "rowData names(13): score replicateScoreQuantile ... idx N\n",
       "colnames(870): TFAP2B_1 TFAP2D_2 ... TBX18_869 TBX22_870\n",
       "colData names(0):"
      ]
     },
     "metadata": {},
     "output_type": "display_data"
    }
   ],
   "source": [
    "# gets peak annotation matches from a given ArchRProject.\n",
    "peakmeta = getMatches(proj)\n",
    "peakmeta"
   ]
  },
  {
   "cell_type": "code",
   "execution_count": 7,
   "id": "political-spotlight",
   "metadata": {},
   "outputs": [
    {
     "data": {
      "text/plain": [
       "5 x 5 sparse Matrix of class \"lgCMatrix\"\n",
       "                   TFAP2B_1 TFAP2D_2 TFAP2C_3 TFAP2E_4 TFAP2A_5\n",
       "chr1_794932-795432        .        .        .        .        .\n",
       "chr1_817104-817604        .        .        .        .        .\n",
       "chr1_818775-819275        .        .        .        .        .\n",
       "chr1_819697-820197        .        .        .        .        .\n",
       "chr1_821364-821864        .        .        .        .        ."
      ]
     },
     "metadata": {},
     "output_type": "display_data"
    }
   ],
   "source": [
    "# get peak-by-TFmotif matrix (boolean type)\n",
    "peak_motif_mtx <- assays(peakmeta)[['matches']]\n",
    "rownames(peak_motif_mtx) <- rowRanges(peakmeta) %>% {paste0(seqnames(.), \"_\", start(.), \"-\", end(.))}\n",
    "peak_motif_mtx[1:5,1:5]"
   ]
  },
  {
   "cell_type": "code",
   "execution_count": null,
   "id": "convertible-expansion",
   "metadata": {},
   "outputs": [],
   "source": []
  },
  {
   "cell_type": "markdown",
   "id": "acting-barbados",
   "metadata": {},
   "source": [
    "# Read in pre-calculated peak2gene dataframe"
   ]
  },
  {
   "cell_type": "code",
   "execution_count": 8,
   "id": "uniform-clerk",
   "metadata": {},
   "outputs": [
    {
     "data": {
      "text/plain": [
       "\n",
       "                 Adipocyte       Atrial Cardiomyocyte \n",
       "                      1374                      14163 \n",
       "          Endothelial cell                 Fibroblast \n",
       "                     16104                      42479 \n",
       "Lymphatic Endothelial cell                   Lymphoid \n",
       "                       334                       4399 \n",
       "                 Mast cell           Mesothelial cell \n",
       "                       274                         62 \n",
       "                Mural cell                    Myeloid \n",
       "                     10121                      13660 \n",
       "               Neural cell  Ventricular Cardiomyocyte \n",
       "                      1581                      35284 "
      ]
     },
     "metadata": {},
     "output_type": "display_data"
    }
   ],
   "source": [
    "table(proj$cell_type)"
   ]
  },
  {
   "cell_type": "code",
   "execution_count": 9,
   "id": "equal-access",
   "metadata": {},
   "outputs": [],
   "source": [
    "celltype_to_analyse = 'Atrial Cardiomyocyte'"
   ]
  },
  {
   "cell_type": "code",
   "execution_count": 10,
   "id": "painful-runner",
   "metadata": {},
   "outputs": [
    {
     "data": {
      "text/html": [
       "<style>\n",
       ".list-inline {list-style: none; margin:0; padding: 0}\n",
       ".list-inline>li {display: inline-block}\n",
       ".list-inline>li:not(:last-child)::after {content: \"\\00b7\"; padding: 0 .5ex}\n",
       "</style>\n",
       "<ol class=list-inline><li>3815446</li><li>8</li></ol>\n"
      ],
      "text/latex": [
       "\\begin{enumerate*}\n",
       "\\item 3815446\n",
       "\\item 8\n",
       "\\end{enumerate*}\n"
      ],
      "text/markdown": [
       "1. 3815446\n",
       "2. 8\n",
       "\n",
       "\n"
      ],
      "text/plain": [
       "[1] 3815446       8"
      ]
     },
     "metadata": {},
     "output_type": "display_data"
    },
    {
     "data": {
      "text/html": [
       "<table class=\"dataframe\">\n",
       "<caption>A data.frame: 6 × 8</caption>\n",
       "<thead>\n",
       "\t<tr><th></th><th scope=col>idxATAC</th><th scope=col>idxRNA</th><th scope=col>Correlation</th><th scope=col>FDR</th><th scope=col>VarQATAC</th><th scope=col>VarQRNA</th><th scope=col>geneName</th><th scope=col>peakName</th></tr>\n",
       "\t<tr><th></th><th scope=col>&lt;int&gt;</th><th scope=col>&lt;int&gt;</th><th scope=col>&lt;dbl&gt;</th><th scope=col>&lt;dbl&gt;</th><th scope=col>&lt;dbl&gt;</th><th scope=col>&lt;dbl&gt;</th><th scope=col>&lt;chr&gt;</th><th scope=col>&lt;chr&gt;</th></tr>\n",
       "</thead>\n",
       "<tbody>\n",
       "\t<tr><th scope=row>1</th><td>1</td><td>10</td><td>-0.020401580</td><td>0.7933998</td><td>0.02826247</td><td>0.1150766</td><td>AC114498.1</td><td>chr1_794932-795432</td></tr>\n",
       "\t<tr><th scope=row>2</th><td>2</td><td>10</td><td> 0.033200608</td><td>0.6492725</td><td>0.49832491</td><td>0.1150766</td><td>AC114498.1</td><td>chr1_817104-817604</td></tr>\n",
       "\t<tr><th scope=row>3</th><td>3</td><td>10</td><td>-0.047132556</td><td>0.4919864</td><td>0.68155634</td><td>0.1150766</td><td>AC114498.1</td><td>chr1_818775-819275</td></tr>\n",
       "\t<tr><th scope=row>4</th><td>4</td><td>10</td><td> 0.001703915</td><td>0.9847709</td><td>0.39796384</td><td>0.1150766</td><td>AC114498.1</td><td>chr1_819697-820197</td></tr>\n",
       "\t<tr><th scope=row>5</th><td>5</td><td>10</td><td> 0.027802571</td><td>0.7105859</td><td>0.51944266</td><td>0.1150766</td><td>AC114498.1</td><td>chr1_821364-821864</td></tr>\n",
       "\t<tr><th scope=row>6</th><td>6</td><td>10</td><td> 0.058411057</td><td>0.3736228</td><td>0.55871186</td><td>0.1150766</td><td>AC114498.1</td><td>chr1_825517-826017</td></tr>\n",
       "</tbody>\n",
       "</table>\n"
      ],
      "text/latex": [
       "A data.frame: 6 × 8\n",
       "\\begin{tabular}{r|llllllll}\n",
       "  & idxATAC & idxRNA & Correlation & FDR & VarQATAC & VarQRNA & geneName & peakName\\\\\n",
       "  & <int> & <int> & <dbl> & <dbl> & <dbl> & <dbl> & <chr> & <chr>\\\\\n",
       "\\hline\n",
       "\t1 & 1 & 10 & -0.020401580 & 0.7933998 & 0.02826247 & 0.1150766 & AC114498.1 & chr1\\_794932-795432\\\\\n",
       "\t2 & 2 & 10 &  0.033200608 & 0.6492725 & 0.49832491 & 0.1150766 & AC114498.1 & chr1\\_817104-817604\\\\\n",
       "\t3 & 3 & 10 & -0.047132556 & 0.4919864 & 0.68155634 & 0.1150766 & AC114498.1 & chr1\\_818775-819275\\\\\n",
       "\t4 & 4 & 10 &  0.001703915 & 0.9847709 & 0.39796384 & 0.1150766 & AC114498.1 & chr1\\_819697-820197\\\\\n",
       "\t5 & 5 & 10 &  0.027802571 & 0.7105859 & 0.51944266 & 0.1150766 & AC114498.1 & chr1\\_821364-821864\\\\\n",
       "\t6 & 6 & 10 &  0.058411057 & 0.3736228 & 0.55871186 & 0.1150766 & AC114498.1 & chr1\\_825517-826017\\\\\n",
       "\\end{tabular}\n"
      ],
      "text/markdown": [
       "\n",
       "A data.frame: 6 × 8\n",
       "\n",
       "| <!--/--> | idxATAC &lt;int&gt; | idxRNA &lt;int&gt; | Correlation &lt;dbl&gt; | FDR &lt;dbl&gt; | VarQATAC &lt;dbl&gt; | VarQRNA &lt;dbl&gt; | geneName &lt;chr&gt; | peakName &lt;chr&gt; |\n",
       "|---|---|---|---|---|---|---|---|---|\n",
       "| 1 | 1 | 10 | -0.020401580 | 0.7933998 | 0.02826247 | 0.1150766 | AC114498.1 | chr1_794932-795432 |\n",
       "| 2 | 2 | 10 |  0.033200608 | 0.6492725 | 0.49832491 | 0.1150766 | AC114498.1 | chr1_817104-817604 |\n",
       "| 3 | 3 | 10 | -0.047132556 | 0.4919864 | 0.68155634 | 0.1150766 | AC114498.1 | chr1_818775-819275 |\n",
       "| 4 | 4 | 10 |  0.001703915 | 0.9847709 | 0.39796384 | 0.1150766 | AC114498.1 | chr1_819697-820197 |\n",
       "| 5 | 5 | 10 |  0.027802571 | 0.7105859 | 0.51944266 | 0.1150766 | AC114498.1 | chr1_821364-821864 |\n",
       "| 6 | 6 | 10 |  0.058411057 | 0.3736228 | 0.55871186 | 0.1150766 | AC114498.1 | chr1_825517-826017 |\n",
       "\n"
      ],
      "text/plain": [
       "  idxATAC idxRNA Correlation  FDR       VarQATAC   VarQRNA   geneName  \n",
       "1 1       10     -0.020401580 0.7933998 0.02826247 0.1150766 AC114498.1\n",
       "2 2       10      0.033200608 0.6492725 0.49832491 0.1150766 AC114498.1\n",
       "3 3       10     -0.047132556 0.4919864 0.68155634 0.1150766 AC114498.1\n",
       "4 4       10      0.001703915 0.9847709 0.39796384 0.1150766 AC114498.1\n",
       "5 5       10      0.027802571 0.7105859 0.51944266 0.1150766 AC114498.1\n",
       "6 6       10      0.058411057 0.3736228 0.55871186 0.1150766 AC114498.1\n",
       "  peakName          \n",
       "1 chr1_794932-795432\n",
       "2 chr1_817104-817604\n",
       "3 chr1_818775-819275\n",
       "4 chr1_819697-820197\n",
       "5 chr1_821364-821864\n",
       "6 chr1_825517-826017"
      ]
     },
     "metadata": {},
     "output_type": "display_data"
    }
   ],
   "source": [
    "p2geneDF = read.csv(paste0('/nfs/team205/heart/anndata_objects/8regions/ArchR/project_output/csv/peak2gene/',\n",
    "                           sub(' ','',celltype_to_analyse),'.csv'))\n",
    "dim(p2geneDF)\n",
    "head(p2geneDF)"
   ]
  },
  {
   "cell_type": "code",
   "execution_count": null,
   "id": "fresh-mills",
   "metadata": {},
   "outputs": [],
   "source": []
  },
  {
   "cell_type": "markdown",
   "id": "expensive-airplane",
   "metadata": {},
   "source": [
    "# Generate \"TF - possible downstream genes\" dictionary"
   ]
  },
  {
   "cell_type": "code",
   "execution_count": 11,
   "id": "preceding-performance",
   "metadata": {},
   "outputs": [],
   "source": [
    "# arguments\n",
    "p2g_corr_thresh = -0.2 # for negatively correlated links!!!\n",
    "p2g_FDR_thresh = 1e-04"
   ]
  },
  {
   "cell_type": "code",
   "execution_count": 12,
   "id": "lyric-judgment",
   "metadata": {},
   "outputs": [],
   "source": [
    "# generate dictionary\n",
    "network = list() \n",
    "\n",
    "# filter peaks\n",
    "df <- p2geneDF[which((p2geneDF[['Correlation']] < p2g_corr_thresh)==TRUE),] # negatively correlated links!!!\n",
    "df <- df[which((df[['FDR']]<p2g_FDR_thresh)==TRUE),]\n",
    "\n",
    "TFs = strsplit(colnames(peak_motif_mtx),'_')%>%lapply(function(x){x}[1])%>%unlist()\n",
    "for(tf in TFs){\n",
    "    tf_peaks = rownames(peak_motif_mtx)[which(peak_motif_mtx[,which(TFs==tf)] == TRUE)]\n",
    "    network[[tf]] = df[which((df[['peakName']] %in% tf_peaks)==TRUE),] %>% pull(geneName)\n",
    "}"
   ]
  },
  {
   "cell_type": "code",
   "execution_count": 13,
   "id": "primary-australian",
   "metadata": {},
   "outputs": [
    {
     "data": {
      "text/html": [
       "870"
      ],
      "text/latex": [
       "870"
      ],
      "text/markdown": [
       "870"
      ],
      "text/plain": [
       "[1] 870"
      ]
     },
     "metadata": {},
     "output_type": "display_data"
    }
   ],
   "source": [
    "length(network)"
   ]
  },
  {
   "cell_type": "code",
   "execution_count": 14,
   "id": "multiple-mainland",
   "metadata": {},
   "outputs": [],
   "source": [
    "length_vector = c()\n",
    "for(tf in names(network)){\n",
    "    length_vector = c(length_vector,length(network[[tf]]))\n",
    "}"
   ]
  },
  {
   "cell_type": "code",
   "execution_count": 15,
   "id": "negative-stroke",
   "metadata": {},
   "outputs": [
    {
     "name": "stderr",
     "output_type": "stream",
     "text": [
      "\n",
      "Attaching package: ‘jsonlite’\n",
      "\n",
      "\n",
      "The following object is masked from ‘package:purrr’:\n",
      "\n",
      "    flatten\n",
      "\n",
      "\n"
     ]
    }
   ],
   "source": [
    "library(jsonlite)\n",
    "write_json(network,\n",
    "           paste0('/nfs/team205/heart/anndata_objects/8regions/ArchR/project_output/TF_downstreamGene/',\n",
    "                    sub(' ','',celltype_to_analyse),'_p2gCorr-negative-',p2g_corr_thresh,'.json')\n",
    "          )"
   ]
  },
  {
   "cell_type": "code",
   "execution_count": null,
   "id": "floral-vietnam",
   "metadata": {},
   "outputs": [],
   "source": []
  },
  {
   "cell_type": "code",
   "execution_count": null,
   "id": "fallen-george",
   "metadata": {},
   "outputs": [],
   "source": []
  },
  {
   "cell_type": "code",
   "execution_count": null,
   "id": "useful-translation",
   "metadata": {},
   "outputs": [],
   "source": []
  }
 ],
 "metadata": {
  "kernelspec": {
   "display_name": "R",
   "language": "R",
   "name": "r"
  },
  "language_info": {
   "codemirror_mode": "r",
   "file_extension": ".r",
   "mimetype": "text/x-r-source",
   "name": "R",
   "pygments_lexer": "r",
   "version": "4.0.4"
  }
 },
 "nbformat": 4,
 "nbformat_minor": 5
}
