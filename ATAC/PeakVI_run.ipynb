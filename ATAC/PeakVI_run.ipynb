{
 "cells": [
  {
   "cell_type": "markdown",
   "id": "e1002db1",
   "metadata": {},
   "source": [
    "# Import module"
   ]
  },
  {
   "cell_type": "code",
   "execution_count": 1,
   "id": "e698bfba",
   "metadata": {},
   "outputs": [
    {
     "name": "stderr",
     "output_type": "stream",
     "text": [
      "Global seed set to 0\n",
      "/lustre/scratch117/cellgen/team205/kk18/miniconda3/envs/scvi0190_env/lib/python3.9/site-packages/pytorch_lightning/utilities/warnings.py:53: LightningDeprecationWarning: pytorch_lightning.utilities.warnings.rank_zero_deprecation has been deprecated in v1.6 and will be removed in v1.8. Use the equivalent function from the pytorch_lightning.utilities.rank_zero module instead.\n",
      "  new_rank_zero_deprecation(\n",
      "/lustre/scratch117/cellgen/team205/kk18/miniconda3/envs/scvi0190_env/lib/python3.9/site-packages/pytorch_lightning/utilities/warnings.py:58: LightningDeprecationWarning: The `pytorch_lightning.loggers.base.rank_zero_experiment` is deprecated in v1.7 and will be removed in v1.9. Please use `pytorch_lightning.loggers.logger.rank_zero_experiment` instead.\n",
      "  return new_rank_zero_deprecation(*args, **kwargs)\n",
      "Global seed set to 420\n"
     ]
    }
   ],
   "source": [
    "import scvi\n",
    "import anndata\n",
    "import scipy\n",
    "import numpy as np\n",
    "import pandas as pd\n",
    "import scanpy as sc\n",
    "import matplotlib.pyplot as plt\n",
    "\n",
    "scvi.settings.seed = 420"
   ]
  },
  {
   "cell_type": "markdown",
   "id": "c3914737",
   "metadata": {},
   "source": [
    "# Read in data"
   ]
  },
  {
   "cell_type": "code",
   "execution_count": 2,
   "id": "547f2720",
   "metadata": {},
   "outputs": [
    {
     "data": {
      "text/plain": [
       "AnnData object with n_obs × n_vars = 139835 × 429828\n",
       "    obs: 'sangerID', 'combinedID', 'donor', 'donor_type', 'region', 'region_finest', 'age', 'gender', 'facility', 'cell_or_nuclei', 'modality', 'kit_10x', 'flushed', 'batch_key', 'cell_type', 'cell_state'"
      ]
     },
     "execution_count": 2,
     "metadata": {},
     "output_type": "execute_result"
    }
   ],
   "source": [
    "adata = sc.read_h5ad('/nfs/team205/heart/anndata_objects/8regions/ArchR/project_output/PeakMatrix/Adult_Peaks.h5ad')\n",
    "adata"
   ]
  },
  {
   "cell_type": "code",
   "execution_count": 3,
   "id": "c063eccf",
   "metadata": {},
   "outputs": [
    {
     "data": {
      "text/plain": [
       "array([2., 2., 2., 1., 1., 2., 2., 2., 2., 2.], dtype=float32)"
      ]
     },
     "execution_count": 3,
     "metadata": {},
     "output_type": "execute_result"
    }
   ],
   "source": [
    "adata.X.data[:10]"
   ]
  },
  {
   "cell_type": "markdown",
   "id": "dbfd4bff",
   "metadata": {},
   "source": [
    "# Setup anndata for scVI"
   ]
  },
  {
   "cell_type": "code",
   "execution_count": 4,
   "id": "9c6f99c4",
   "metadata": {},
   "outputs": [],
   "source": [
    "scvi.model.PEAKVI.setup_anndata(adata, batch_key=\"donor\")"
   ]
  },
  {
   "cell_type": "code",
   "execution_count": 5,
   "id": "be6110c1",
   "metadata": {},
   "outputs": [
    {
     "name": "stderr",
     "output_type": "stream",
     "text": [
      "GPU available: True (cuda), used: True\n",
      "TPU available: False, using: 0 TPU cores\n",
      "IPU available: False, using: 0 IPUs\n",
      "HPU available: False, using: 0 HPUs\n",
      "/lustre/scratch117/cellgen/team205/kk18/miniconda3/envs/scvi0190_env/lib/python3.9/site-packages/pytorch_lightning/trainer/configuration_validator.py:267: LightningDeprecationWarning: The `Callback.on_epoch_end` hook was deprecated in v1.6 and will be removed in v1.8. Please use `Callback.on_<train/validation/test>_epoch_end` instead.\n",
      "  rank_zero_deprecation(\n",
      "LOCAL_RANK: 0 - CUDA_VISIBLE_DEVICES: [0]\n"
     ]
    },
    {
     "name": "stdout",
     "output_type": "stream",
     "text": [
      "Epoch 62/500:  12%|██████████████▉                                                                                                         | 62/500 [7:02:06<49:42:01, 408.50s/it, loss=3.78e+08, v_num=1]\n",
      "Monitored metric reconstruction_loss_validation did not improve in the last 50 records. Best score: 26050.670. Signaling Trainer to stop.\n"
     ]
    }
   ],
   "source": [
    "pvi = scvi.model.PEAKVI(adata)\n",
    "pvi.train()"
   ]
  },
  {
   "cell_type": "code",
   "execution_count": 6,
   "id": "a0f05e6f",
   "metadata": {},
   "outputs": [
    {
     "name": "stdout",
     "output_type": "stream",
     "text": [
      "(139835, 25)\n"
     ]
    }
   ],
   "source": [
    "latent = pvi.get_latent_representation()\n",
    "adata.obsm[\"X_PeakVI\"] = latent\n",
    "\n",
    "print(latent.shape)"
   ]
  },
  {
   "cell_type": "code",
   "execution_count": 7,
   "id": "d7b0572a",
   "metadata": {},
   "outputs": [],
   "source": [
    "adata.write('/nfs/team205/heart/anndata_objects/8regions/ArchR/project_output/PeakMatrix/Adult_Peaks_post-peakVI.h5ad')"
   ]
  },
  {
   "cell_type": "code",
   "execution_count": 8,
   "id": "b1e9716f",
   "metadata": {},
   "outputs": [],
   "source": [
    "pvi.save('/nfs/team205/heart/anndata_objects/8regions/ArchR/project_output/PeakMatrix/Adult_peakVI-model', overwrite=True)"
   ]
  },
  {
   "cell_type": "code",
   "execution_count": 9,
   "id": "e438cc56",
   "metadata": {},
   "outputs": [
    {
     "data": {
      "image/png": "[encoded data removed]",
      "text/plain": [
       "<Figure size 640x480 with 1 Axes>"
      ]
     },
     "metadata": {},
     "output_type": "display_data"
    },
    {
     "data": {
      "text/plain": [
       "<Figure size 640x480 with 0 Axes>"
      ]
     },
     "metadata": {},
     "output_type": "display_data"
    }
   ],
   "source": [
    "# Convergence plot\n",
    "x = np.linspace(1, (len(pvi.history['elbo_train'])), (len(pvi.history['elbo_train'])))\n",
    "plt.plot(x, pvi.history['elbo_train'], label=\"train\")\n",
    "# plt.title(reg)\n",
    "plt.xlabel('epoch')\n",
    "plt.ylabel('elbo_train')\n",
    "plt.show()\n",
    "plt.clf()"
   ]
  },
  {
   "cell_type": "code",
   "execution_count": null,
   "id": "f538867f",
   "metadata": {},
   "outputs": [],
   "source": []
  }
 ],
 "metadata": {
  "kernelspec": {
   "display_name": "Environment (scvi0190_env)\n",
   "language": "python",
   "name": "scvi0190_env"
  },
  "language_info": {
   "codemirror_mode": {
    "name": "ipython",
    "version": 3
   },
   "file_extension": ".py",
   "mimetype": "text/x-python",
   "name": "python",
   "nbconvert_exporter": "python",
   "pygments_lexer": "ipython3",
   "version": "3.9.13"
  }
 },
 "nbformat": 4,
 "nbformat_minor": 5
}
